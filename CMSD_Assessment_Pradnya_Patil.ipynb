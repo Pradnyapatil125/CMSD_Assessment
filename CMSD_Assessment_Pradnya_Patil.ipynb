{
 "cells": [
  {
   "cell_type": "markdown",
   "metadata": {},
   "source": [
    "# Skills Assessment - Data Analyst -Implimentation Office\n",
    "## Cleveland Metropolitan School District\n",
    "### Pradnya Patil\n"
   ]
  },
  {
   "cell_type": "code",
   "execution_count": 1,
   "metadata": {},
   "outputs": [],
   "source": [
    "# Importing the Python libraries\n",
    "import numpy as np\n",
    "import pandas as pd\n",
    "import seaborn as sns\n",
    "import matplotlib.pyplot as plt\n",
    "import plotly.express as px\n",
    "import plotly.graph_objects as go\n",
    "from plotly.subplots import make_subplots"
   ]
  },
  {
   "cell_type": "markdown",
   "metadata": {},
   "source": [
    "## Cleaning and Merging Enrollment data"
   ]
  },
  {
   "cell_type": "markdown",
   "metadata": {},
   "source": [
    "### Enrollment 2015-2016 Data Cleaning & Preprocessing"
   ]
  },
  {
   "cell_type": "code",
   "execution_count": 2,
   "metadata": {},
   "outputs": [
    {
     "data": {
      "text/html": [
       "<div>\n",
       "<style scoped>\n",
       "    .dataframe tbody tr th:only-of-type {\n",
       "        vertical-align: middle;\n",
       "    }\n",
       "\n",
       "    .dataframe tbody tr th {\n",
       "        vertical-align: top;\n",
       "    }\n",
       "\n",
       "    .dataframe thead th {\n",
       "        text-align: right;\n",
       "    }\n",
       "</style>\n",
       "<table border=\"1\" class=\"dataframe\">\n",
       "  <thead>\n",
       "    <tr style=\"text-align: right;\">\n",
       "      <th></th>\n",
       "      <th>District IRN</th>\n",
       "      <th>District Name</th>\n",
       "      <th>Building IRN</th>\n",
       "      <th>Building Name</th>\n",
       "      <th>County</th>\n",
       "      <th>Region</th>\n",
       "      <th>Address</th>\n",
       "      <th>City, State, Zip</th>\n",
       "      <th>Phone</th>\n",
       "      <th>Principal</th>\n",
       "      <th>...</th>\n",
       "      <th>4 Year Grad Rate 2015</th>\n",
       "      <th>Letter Grade of 5 Year Grad Rate 2014</th>\n",
       "      <th>5 Year Grad Rate 2014</th>\n",
       "      <th>Letter Grade of Prepared for Success Component</th>\n",
       "      <th>Percent of Prepared for Success Component</th>\n",
       "      <th>Attendance Rate 2015-2016</th>\n",
       "      <th>Attendance Rate 2014-2015</th>\n",
       "      <th>Attendance Rate 2013-2014</th>\n",
       "      <th>Chronic Absenteeism Percent 2015-2016</th>\n",
       "      <th>Watermark</th>\n",
       "    </tr>\n",
       "  </thead>\n",
       "  <tbody>\n",
       "    <tr>\n",
       "      <th>0</th>\n",
       "      <td>138</td>\n",
       "      <td>Pathway School of Discovery</td>\n",
       "      <td>138</td>\n",
       "      <td>Pathway School of Discovery</td>\n",
       "      <td>Montgomery</td>\n",
       "      <td>Region 10</td>\n",
       "      <td>173 Avondale Dr</td>\n",
       "      <td>Dayton, OH, 45404-2123</td>\n",
       "      <td>(937) 235-5498</td>\n",
       "      <td>Keith B. Colbert</td>\n",
       "      <td>...</td>\n",
       "      <td>NC</td>\n",
       "      <td>NR</td>\n",
       "      <td>NC</td>\n",
       "      <td>NR</td>\n",
       "      <td>NC</td>\n",
       "      <td>94.8</td>\n",
       "      <td>95.1</td>\n",
       "      <td>95</td>\n",
       "      <td>13.2</td>\n",
       "      <td>NaN</td>\n",
       "    </tr>\n",
       "    <tr>\n",
       "      <th>1</th>\n",
       "      <td>139</td>\n",
       "      <td>Alliance Academy of Cincinnati</td>\n",
       "      <td>139</td>\n",
       "      <td>Alliance Academy of Cincinnati</td>\n",
       "      <td>Hamilton</td>\n",
       "      <td>Region 13</td>\n",
       "      <td>1712 Duck Creek Rd</td>\n",
       "      <td>Cincinnati, OH, 45207-1644</td>\n",
       "      <td>(513) 751-5555</td>\n",
       "      <td>Elizabeth L. King</td>\n",
       "      <td>...</td>\n",
       "      <td>NC</td>\n",
       "      <td>NR</td>\n",
       "      <td>NC</td>\n",
       "      <td>NR</td>\n",
       "      <td>NC</td>\n",
       "      <td>92.9</td>\n",
       "      <td>94.0</td>\n",
       "      <td>94</td>\n",
       "      <td>25.3</td>\n",
       "      <td>NaN</td>\n",
       "    </tr>\n",
       "    <tr>\n",
       "      <th>2</th>\n",
       "      <td>222</td>\n",
       "      <td>Wildwood Environmental Academy</td>\n",
       "      <td>222</td>\n",
       "      <td>Wildwood Environmental Academy</td>\n",
       "      <td>Lucas</td>\n",
       "      <td>Region 1</td>\n",
       "      <td>1546 Dartford Rd</td>\n",
       "      <td>Maumee, OH, 43537-1374</td>\n",
       "      <td>(419) 868-9885</td>\n",
       "      <td>Elizabeth A. Lewin</td>\n",
       "      <td>...</td>\n",
       "      <td>NC</td>\n",
       "      <td>NR</td>\n",
       "      <td>NC</td>\n",
       "      <td>F</td>\n",
       "      <td>6.3</td>\n",
       "      <td>93.7</td>\n",
       "      <td>94.6</td>\n",
       "      <td>94</td>\n",
       "      <td>20.1</td>\n",
       "      <td>NaN</td>\n",
       "    </tr>\n",
       "    <tr>\n",
       "      <th>3</th>\n",
       "      <td>236</td>\n",
       "      <td>Ohio Connections Academy, Inc</td>\n",
       "      <td>236</td>\n",
       "      <td>Ohio Connections Academy, Inc</td>\n",
       "      <td>Cuyahoga</td>\n",
       "      <td>Region 3</td>\n",
       "      <td>3740 Euclid Ave Ste 101</td>\n",
       "      <td>Cleveland, OH, 44115-2229</td>\n",
       "      <td>(513) 234-4900</td>\n",
       "      <td>NaN</td>\n",
       "      <td>...</td>\n",
       "      <td>71.7</td>\n",
       "      <td>F</td>\n",
       "      <td>64.5</td>\n",
       "      <td>F</td>\n",
       "      <td>13.5</td>\n",
       "      <td>97.4</td>\n",
       "      <td>97.2</td>\n",
       "      <td>97</td>\n",
       "      <td>9.9</td>\n",
       "      <td>NaN</td>\n",
       "    </tr>\n",
       "    <tr>\n",
       "      <th>4</th>\n",
       "      <td>296</td>\n",
       "      <td>Summit Academy Community School-Columbus</td>\n",
       "      <td>296</td>\n",
       "      <td>Summit Academy Community School-Columbus</td>\n",
       "      <td>Franklin</td>\n",
       "      <td>Region 11</td>\n",
       "      <td>2521 Fairwood Ave Ste 100</td>\n",
       "      <td>Columbus, OH, 43207-2712</td>\n",
       "      <td>(614) 237-5497</td>\n",
       "      <td>Cheryl L. Elliott</td>\n",
       "      <td>...</td>\n",
       "      <td>NC</td>\n",
       "      <td>NR</td>\n",
       "      <td>NC</td>\n",
       "      <td>NR</td>\n",
       "      <td>NC</td>\n",
       "      <td>94.4</td>\n",
       "      <td>93.8</td>\n",
       "      <td>94</td>\n",
       "      <td>18.4</td>\n",
       "      <td>NaN</td>\n",
       "    </tr>\n",
       "  </tbody>\n",
       "</table>\n",
       "<p>5 rows × 44 columns</p>\n",
       "</div>"
      ],
      "text/plain": [
       "   District IRN                             District Name  Building IRN  \\\n",
       "0           138               Pathway School of Discovery           138   \n",
       "1           139            Alliance Academy of Cincinnati           139   \n",
       "2           222            Wildwood Environmental Academy           222   \n",
       "3           236             Ohio Connections Academy, Inc           236   \n",
       "4           296  Summit Academy Community School-Columbus           296   \n",
       "\n",
       "                              Building Name      County     Region  \\\n",
       "0               Pathway School of Discovery  Montgomery  Region 10   \n",
       "1            Alliance Academy of Cincinnati    Hamilton  Region 13   \n",
       "2            Wildwood Environmental Academy       Lucas   Region 1   \n",
       "3             Ohio Connections Academy, Inc    Cuyahoga   Region 3   \n",
       "4  Summit Academy Community School-Columbus    Franklin  Region 11   \n",
       "\n",
       "                     Address            City, State, Zip           Phone  \\\n",
       "0            173 Avondale Dr      Dayton, OH, 45404-2123  (937) 235-5498   \n",
       "1         1712 Duck Creek Rd  Cincinnati, OH, 45207-1644  (513) 751-5555   \n",
       "2           1546 Dartford Rd      Maumee, OH, 43537-1374  (419) 868-9885   \n",
       "3    3740 Euclid Ave Ste 101   Cleveland, OH, 44115-2229  (513) 234-4900   \n",
       "4  2521 Fairwood Ave Ste 100    Columbus, OH, 43207-2712  (614) 237-5497   \n",
       "\n",
       "            Principal  ... 4 Year Grad Rate 2015  \\\n",
       "0    Keith B. Colbert  ...                    NC   \n",
       "1   Elizabeth L. King  ...                    NC   \n",
       "2  Elizabeth A. Lewin  ...                    NC   \n",
       "3                 NaN  ...                  71.7   \n",
       "4   Cheryl L. Elliott  ...                    NC   \n",
       "\n",
       "  Letter Grade of 5 Year Grad Rate 2014 5 Year Grad Rate 2014  \\\n",
       "0                                    NR                    NC   \n",
       "1                                    NR                    NC   \n",
       "2                                    NR                    NC   \n",
       "3                                     F                  64.5   \n",
       "4                                    NR                    NC   \n",
       "\n",
       "  Letter Grade of Prepared for Success Component  \\\n",
       "0                                             NR   \n",
       "1                                             NR   \n",
       "2                                              F   \n",
       "3                                              F   \n",
       "4                                             NR   \n",
       "\n",
       "  Percent of Prepared for Success Component Attendance Rate 2015-2016  \\\n",
       "0                                        NC                      94.8   \n",
       "1                                        NC                      92.9   \n",
       "2                                       6.3                      93.7   \n",
       "3                                      13.5                      97.4   \n",
       "4                                        NC                      94.4   \n",
       "\n",
       "  Attendance Rate 2014-2015 Attendance Rate 2013-2014  \\\n",
       "0                      95.1                        95   \n",
       "1                      94.0                        94   \n",
       "2                      94.6                        94   \n",
       "3                      97.2                        97   \n",
       "4                      93.8                        94   \n",
       "\n",
       "  Chronic Absenteeism Percent 2015-2016 Watermark  \n",
       "0                                  13.2       NaN  \n",
       "1                                  25.3       NaN  \n",
       "2                                  20.1       NaN  \n",
       "3                                   9.9       NaN  \n",
       "4                                  18.4       NaN  \n",
       "\n",
       "[5 rows x 44 columns]"
      ]
     },
     "execution_count": 2,
     "metadata": {},
     "output_type": "execute_result"
    }
   ],
   "source": [
    "#Importing data enrollment data 2015-2016\n",
    "df_BR15_16 = pd.read_excel(r'C:/Users/patil/Desktop/CMDS Skills Assessment/Data/BUILDING_RATING_2015_2016.xls')\n",
    "df_BR15_16.head()"
   ]
  },
  {
   "cell_type": "code",
   "execution_count": 3,
   "metadata": {},
   "outputs": [
    {
     "data": {
      "text/plain": [
       "(3387, 44)"
      ]
     },
     "execution_count": 3,
     "metadata": {},
     "output_type": "execute_result"
    }
   ],
   "source": [
    "#find out the shape of data\n",
    "df_BR15_16.shape"
   ]
  },
  {
   "cell_type": "code",
   "execution_count": 4,
   "metadata": {},
   "outputs": [
    {
     "data": {
      "text/plain": [
       "Index(['District IRN', 'District Name', 'Building IRN', 'Building Name',\n",
       "       'County', 'Region', 'Address', 'City, State, Zip', 'Phone', 'Principal',\n",
       "       'Enrollment 2015-2016', 'Letter Grade of Achievement Component',\n",
       "       'Letter Grade of Percent Standards',\n",
       "       'Gifted Indicator Met/Not Met Status', 'Percent of Standards Met',\n",
       "       'Letter Grade of Performance Index', 'Performance Index Percent',\n",
       "       'Letter Grade of AMO', 'AMO Points', 'Letter Grade of K3 Literacy',\n",
       "       'K3 Literacy Percent', 'Letter Grade of Progress Component',\n",
       "       'Letter Grade of Overall Value Added', 'Overall Value Added Gain Index',\n",
       "       'Letter Grade of Gifted Value Added', 'Gifted Value Added Gain Index',\n",
       "       'Letter Grade of Students with Disabilities Value Added',\n",
       "       'Students with Disabilities Value Added Gain Index',\n",
       "       'Letter Grade of Lowest 20% Value Added',\n",
       "       'Lowest 20% Value Added Gain Index',\n",
       "       'Letter Grade of High Mobility Value Added',\n",
       "       'High Mobility Value Added Gain Index',\n",
       "       'Letter Grade of Grad Rate Component',\n",
       "       'Letter Grade of 4Year Grad Rate 2015', '4 Year Grad Rate 2015',\n",
       "       'Letter Grade of 5 Year Grad Rate 2014', '5 Year Grad Rate 2014',\n",
       "       'Letter Grade of Prepared for Success Component',\n",
       "       'Percent of Prepared for Success Component',\n",
       "       'Attendance Rate 2015-2016', 'Attendance Rate 2014-2015',\n",
       "       'Attendance Rate 2013-2014', 'Chronic Absenteeism Percent 2015-2016',\n",
       "       'Watermark'],\n",
       "      dtype='object')"
      ]
     },
     "execution_count": 4,
     "metadata": {},
     "output_type": "execute_result"
    }
   ],
   "source": [
    "#find out the column names\n",
    "df_BR15_16.columns"
   ]
  },
  {
   "cell_type": "code",
   "execution_count": 5,
   "metadata": {},
   "outputs": [],
   "source": [
    "#Adding School Year Column\n",
    "df_BR15_16['School_Year'] = '2015-2016'"
   ]
  },
  {
   "cell_type": "code",
   "execution_count": 6,
   "metadata": {},
   "outputs": [],
   "source": [
    "#Rename enrollment column\n",
    "df_BR15_16.rename(columns={'Enrollment 2015-2016': 'Enrollment'}, inplace=True)"
   ]
  },
  {
   "cell_type": "code",
   "execution_count": 7,
   "metadata": {},
   "outputs": [
    {
     "data": {
      "text/html": [
       "<div>\n",
       "<style scoped>\n",
       "    .dataframe tbody tr th:only-of-type {\n",
       "        vertical-align: middle;\n",
       "    }\n",
       "\n",
       "    .dataframe tbody tr th {\n",
       "        vertical-align: top;\n",
       "    }\n",
       "\n",
       "    .dataframe thead th {\n",
       "        text-align: right;\n",
       "    }\n",
       "</style>\n",
       "<table border=\"1\" class=\"dataframe\">\n",
       "  <thead>\n",
       "    <tr style=\"text-align: right;\">\n",
       "      <th></th>\n",
       "      <th>District IRN</th>\n",
       "      <th>District Name</th>\n",
       "      <th>Building IRN</th>\n",
       "      <th>Building Name</th>\n",
       "      <th>County</th>\n",
       "      <th>Region</th>\n",
       "      <th>Address</th>\n",
       "      <th>City, State, Zip</th>\n",
       "      <th>Phone</th>\n",
       "      <th>Principal</th>\n",
       "      <th>...</th>\n",
       "      <th>Letter Grade of 5 Year Grad Rate 2014</th>\n",
       "      <th>5 Year Grad Rate 2014</th>\n",
       "      <th>Letter Grade of Prepared for Success Component</th>\n",
       "      <th>Percent of Prepared for Success Component</th>\n",
       "      <th>Attendance Rate 2015-2016</th>\n",
       "      <th>Attendance Rate 2014-2015</th>\n",
       "      <th>Attendance Rate 2013-2014</th>\n",
       "      <th>Chronic Absenteeism Percent 2015-2016</th>\n",
       "      <th>Watermark</th>\n",
       "      <th>School_Year</th>\n",
       "    </tr>\n",
       "  </thead>\n",
       "  <tbody>\n",
       "    <tr>\n",
       "      <th>447</th>\n",
       "      <td>43786</td>\n",
       "      <td>Cleveland Municipal City</td>\n",
       "      <td>224</td>\n",
       "      <td>Adlai Stevenson School</td>\n",
       "      <td>Cuyahoga</td>\n",
       "      <td>Region 3</td>\n",
       "      <td>18300 Woda Avenue</td>\n",
       "      <td>Cleveland, OH, 44122-6441</td>\n",
       "      <td>(216) 482-2950</td>\n",
       "      <td>Christopher T. Wyland</td>\n",
       "      <td>...</td>\n",
       "      <td>NR</td>\n",
       "      <td>NC</td>\n",
       "      <td>NR</td>\n",
       "      <td>NC</td>\n",
       "      <td>94.0</td>\n",
       "      <td>92.7</td>\n",
       "      <td>93</td>\n",
       "      <td>17.4</td>\n",
       "      <td>NaN</td>\n",
       "      <td>2015-2016</td>\n",
       "    </tr>\n",
       "    <tr>\n",
       "      <th>448</th>\n",
       "      <td>43786</td>\n",
       "      <td>Cleveland Municipal City</td>\n",
       "      <td>318</td>\n",
       "      <td>Menlo Park Academy</td>\n",
       "      <td>Cuyahoga</td>\n",
       "      <td>Region 3</td>\n",
       "      <td>14440 Triskett Rd</td>\n",
       "      <td>Cleveland, OH, 44111-2263</td>\n",
       "      <td>(440) 925-6365</td>\n",
       "      <td>NaN</td>\n",
       "      <td>...</td>\n",
       "      <td>NR</td>\n",
       "      <td>NC</td>\n",
       "      <td>NR</td>\n",
       "      <td>NC</td>\n",
       "      <td>95.6</td>\n",
       "      <td>95.9</td>\n",
       "      <td>96</td>\n",
       "      <td>6.8</td>\n",
       "      <td>NaN</td>\n",
       "      <td>2015-2016</td>\n",
       "    </tr>\n",
       "    <tr>\n",
       "      <th>449</th>\n",
       "      <td>43786</td>\n",
       "      <td>Cleveland Municipal City</td>\n",
       "      <td>489</td>\n",
       "      <td>Almira</td>\n",
       "      <td>Cuyahoga</td>\n",
       "      <td>Region 3</td>\n",
       "      <td>3375 W 99th St</td>\n",
       "      <td>Cleveland, OH, 44102-4642</td>\n",
       "      <td>(216) 838-6150</td>\n",
       "      <td>Laverne Hooks</td>\n",
       "      <td>...</td>\n",
       "      <td>NR</td>\n",
       "      <td>NC</td>\n",
       "      <td>NR</td>\n",
       "      <td>NC</td>\n",
       "      <td>92.2</td>\n",
       "      <td>89.9</td>\n",
       "      <td>90</td>\n",
       "      <td>28.1</td>\n",
       "      <td>NaN</td>\n",
       "      <td>2015-2016</td>\n",
       "    </tr>\n",
       "    <tr>\n",
       "      <th>450</th>\n",
       "      <td>43786</td>\n",
       "      <td>Cleveland Municipal City</td>\n",
       "      <td>729</td>\n",
       "      <td>Andrew J Rickoff</td>\n",
       "      <td>Cuyahoga</td>\n",
       "      <td>Region 3</td>\n",
       "      <td>3500 E 147th St</td>\n",
       "      <td>Cleveland, OH, 44120-4834</td>\n",
       "      <td>(216) 838-4150</td>\n",
       "      <td>Gloriane R. Smith</td>\n",
       "      <td>...</td>\n",
       "      <td>NR</td>\n",
       "      <td>NC</td>\n",
       "      <td>NR</td>\n",
       "      <td>NC</td>\n",
       "      <td>90.5</td>\n",
       "      <td>89.8</td>\n",
       "      <td>90</td>\n",
       "      <td>31.7</td>\n",
       "      <td>NaN</td>\n",
       "      <td>2015-2016</td>\n",
       "    </tr>\n",
       "    <tr>\n",
       "      <th>451</th>\n",
       "      <td>43786</td>\n",
       "      <td>Cleveland Municipal City</td>\n",
       "      <td>828</td>\n",
       "      <td>Anton Grdina</td>\n",
       "      <td>Cuyahoga</td>\n",
       "      <td>Region 3</td>\n",
       "      <td>2955 E 71st St</td>\n",
       "      <td>Cleveland, OH, 44104-4101</td>\n",
       "      <td>(216) 812-1543</td>\n",
       "      <td>Harold S. Booker</td>\n",
       "      <td>...</td>\n",
       "      <td>NR</td>\n",
       "      <td>NC</td>\n",
       "      <td>NR</td>\n",
       "      <td>NC</td>\n",
       "      <td>89.3</td>\n",
       "      <td>89.0</td>\n",
       "      <td>87</td>\n",
       "      <td>38.1</td>\n",
       "      <td>NaN</td>\n",
       "      <td>2015-2016</td>\n",
       "    </tr>\n",
       "  </tbody>\n",
       "</table>\n",
       "<p>5 rows × 45 columns</p>\n",
       "</div>"
      ],
      "text/plain": [
       "     District IRN             District Name  Building IRN  \\\n",
       "447         43786  Cleveland Municipal City           224   \n",
       "448         43786  Cleveland Municipal City           318   \n",
       "449         43786  Cleveland Municipal City           489   \n",
       "450         43786  Cleveland Municipal City           729   \n",
       "451         43786  Cleveland Municipal City           828   \n",
       "\n",
       "              Building Name    County    Region            Address  \\\n",
       "447  Adlai Stevenson School  Cuyahoga  Region 3  18300 Woda Avenue   \n",
       "448      Menlo Park Academy  Cuyahoga  Region 3  14440 Triskett Rd   \n",
       "449                  Almira  Cuyahoga  Region 3     3375 W 99th St   \n",
       "450        Andrew J Rickoff  Cuyahoga  Region 3    3500 E 147th St   \n",
       "451            Anton Grdina  Cuyahoga  Region 3     2955 E 71st St   \n",
       "\n",
       "              City, State, Zip           Phone              Principal  ...  \\\n",
       "447  Cleveland, OH, 44122-6441  (216) 482-2950  Christopher T. Wyland  ...   \n",
       "448  Cleveland, OH, 44111-2263  (440) 925-6365                    NaN  ...   \n",
       "449  Cleveland, OH, 44102-4642  (216) 838-6150          Laverne Hooks  ...   \n",
       "450  Cleveland, OH, 44120-4834  (216) 838-4150      Gloriane R. Smith  ...   \n",
       "451  Cleveland, OH, 44104-4101  (216) 812-1543       Harold S. Booker  ...   \n",
       "\n",
       "    Letter Grade of 5 Year Grad Rate 2014 5 Year Grad Rate 2014  \\\n",
       "447                                    NR                    NC   \n",
       "448                                    NR                    NC   \n",
       "449                                    NR                    NC   \n",
       "450                                    NR                    NC   \n",
       "451                                    NR                    NC   \n",
       "\n",
       "    Letter Grade of Prepared for Success Component  \\\n",
       "447                                             NR   \n",
       "448                                             NR   \n",
       "449                                             NR   \n",
       "450                                             NR   \n",
       "451                                             NR   \n",
       "\n",
       "    Percent of Prepared for Success Component Attendance Rate 2015-2016  \\\n",
       "447                                        NC                      94.0   \n",
       "448                                        NC                      95.6   \n",
       "449                                        NC                      92.2   \n",
       "450                                        NC                      90.5   \n",
       "451                                        NC                      89.3   \n",
       "\n",
       "    Attendance Rate 2014-2015 Attendance Rate 2013-2014  \\\n",
       "447                      92.7                        93   \n",
       "448                      95.9                        96   \n",
       "449                      89.9                        90   \n",
       "450                      89.8                        90   \n",
       "451                      89.0                        87   \n",
       "\n",
       "    Chronic Absenteeism Percent 2015-2016 Watermark School_Year  \n",
       "447                                  17.4       NaN   2015-2016  \n",
       "448                                   6.8       NaN   2015-2016  \n",
       "449                                  28.1       NaN   2015-2016  \n",
       "450                                  31.7       NaN   2015-2016  \n",
       "451                                  38.1       NaN   2015-2016  \n",
       "\n",
       "[5 rows x 45 columns]"
      ]
     },
     "execution_count": 7,
     "metadata": {},
     "output_type": "execute_result"
    }
   ],
   "source": [
    "# filtering the data for cleaveland district\n",
    "df_BR15_16 = df_BR15_16.loc[df_BR15_16['District IRN'] == 43786]\n",
    "df_BR15_16.head()"
   ]
  },
  {
   "cell_type": "code",
   "execution_count": 8,
   "metadata": {},
   "outputs": [
    {
     "data": {
      "text/html": [
       "<div>\n",
       "<style scoped>\n",
       "    .dataframe tbody tr th:only-of-type {\n",
       "        vertical-align: middle;\n",
       "    }\n",
       "\n",
       "    .dataframe tbody tr th {\n",
       "        vertical-align: top;\n",
       "    }\n",
       "\n",
       "    .dataframe thead th {\n",
       "        text-align: right;\n",
       "    }\n",
       "</style>\n",
       "<table border=\"1\" class=\"dataframe\">\n",
       "  <thead>\n",
       "    <tr style=\"text-align: right;\">\n",
       "      <th></th>\n",
       "      <th>District IRN</th>\n",
       "      <th>Building IRN</th>\n",
       "      <th>Building Name</th>\n",
       "      <th>Enrollment</th>\n",
       "      <th>School_Year</th>\n",
       "    </tr>\n",
       "  </thead>\n",
       "  <tbody>\n",
       "    <tr>\n",
       "      <th>447</th>\n",
       "      <td>43786</td>\n",
       "      <td>224</td>\n",
       "      <td>Adlai Stevenson School</td>\n",
       "      <td>430</td>\n",
       "      <td>2015-2016</td>\n",
       "    </tr>\n",
       "    <tr>\n",
       "      <th>448</th>\n",
       "      <td>43786</td>\n",
       "      <td>318</td>\n",
       "      <td>Menlo Park Academy</td>\n",
       "      <td>367</td>\n",
       "      <td>2015-2016</td>\n",
       "    </tr>\n",
       "    <tr>\n",
       "      <th>449</th>\n",
       "      <td>43786</td>\n",
       "      <td>489</td>\n",
       "      <td>Almira</td>\n",
       "      <td>499</td>\n",
       "      <td>2015-2016</td>\n",
       "    </tr>\n",
       "    <tr>\n",
       "      <th>450</th>\n",
       "      <td>43786</td>\n",
       "      <td>729</td>\n",
       "      <td>Andrew J Rickoff</td>\n",
       "      <td>477</td>\n",
       "      <td>2015-2016</td>\n",
       "    </tr>\n",
       "    <tr>\n",
       "      <th>451</th>\n",
       "      <td>43786</td>\n",
       "      <td>828</td>\n",
       "      <td>Anton Grdina</td>\n",
       "      <td>371</td>\n",
       "      <td>2015-2016</td>\n",
       "    </tr>\n",
       "  </tbody>\n",
       "</table>\n",
       "</div>"
      ],
      "text/plain": [
       "     District IRN  Building IRN           Building Name Enrollment School_Year\n",
       "447         43786           224  Adlai Stevenson School        430   2015-2016\n",
       "448         43786           318      Menlo Park Academy        367   2015-2016\n",
       "449         43786           489                  Almira        499   2015-2016\n",
       "450         43786           729        Andrew J Rickoff        477   2015-2016\n",
       "451         43786           828            Anton Grdina        371   2015-2016"
      ]
     },
     "execution_count": 8,
     "metadata": {},
     "output_type": "execute_result"
    }
   ],
   "source": [
    "# Selecting only 5 columns thats required for furture steps\n",
    "df_BR15_16 = df_BR15_16[['District IRN', 'Building IRN', 'Building Name', 'Enrollment', 'School_Year']]\n",
    "df_BR15_16.head()"
   ]
  },
  {
   "cell_type": "code",
   "execution_count": 9,
   "metadata": {},
   "outputs": [
    {
     "data": {
      "text/plain": [
       "(117, 5)"
      ]
     },
     "execution_count": 9,
     "metadata": {},
     "output_type": "execute_result"
    }
   ],
   "source": [
    "#Find out the shape\n",
    "df_BR15_16.shape"
   ]
  },
  {
   "cell_type": "code",
   "execution_count": 10,
   "metadata": {},
   "outputs": [
    {
     "name": "stdout",
     "output_type": "stream",
     "text": [
      "<class 'pandas.core.frame.DataFrame'>\n",
      "Index: 117 entries, 447 to 563\n",
      "Data columns (total 5 columns):\n",
      " #   Column         Non-Null Count  Dtype \n",
      "---  ------         --------------  ----- \n",
      " 0   District IRN   117 non-null    int64 \n",
      " 1   Building IRN   117 non-null    int64 \n",
      " 2   Building Name  117 non-null    object\n",
      " 3   Enrollment     117 non-null    object\n",
      " 4   School_Year    117 non-null    object\n",
      "dtypes: int64(2), object(3)\n",
      "memory usage: 5.5+ KB\n"
     ]
    }
   ],
   "source": [
    "#Find out the info about the data\n",
    "df_BR15_16.info()"
   ]
  },
  {
   "cell_type": "code",
   "execution_count": 11,
   "metadata": {},
   "outputs": [
    {
     "data": {
      "text/plain": [
       "<bound method Series.unique of 447       224\n",
       "448       318\n",
       "449       489\n",
       "450       729\n",
       "451       828\n",
       "        ...  \n",
       "559     86306\n",
       "560    133215\n",
       "561    133520\n",
       "562    147389\n",
       "563    147397\n",
       "Name: Building IRN, Length: 117, dtype: int64>"
      ]
     },
     "execution_count": 11,
     "metadata": {},
     "output_type": "execute_result"
    }
   ],
   "source": [
    "#Checking the unique count for building IRN\n",
    "df_BR15_16['Building IRN'].unique"
   ]
  },
  {
   "cell_type": "code",
   "execution_count": 12,
   "metadata": {},
   "outputs": [
    {
     "data": {
      "text/plain": [
       "<bound method Series.unique of 447                    Adlai Stevenson School\n",
       "448                        Menlo Park Academy\n",
       "449                                    Almira\n",
       "450                          Andrew J Rickoff\n",
       "451                              Anton Grdina\n",
       "                        ...                  \n",
       "559         Health Careers Center High School\n",
       "560             Intergenerational School, The\n",
       "561                          Citizens Academy\n",
       "562                SuccessTech Academy School\n",
       "563    Cleveland School of Science & Medicine\n",
       "Name: Building Name, Length: 117, dtype: object>"
      ]
     },
     "execution_count": 12,
     "metadata": {},
     "output_type": "execute_result"
    }
   ],
   "source": [
    "#Checking the unique count for building Name\n",
    "df_BR15_16['Building Name'].unique"
   ]
  },
  {
   "cell_type": "code",
   "execution_count": null,
   "metadata": {},
   "outputs": [],
   "source": []
  },
  {
   "cell_type": "code",
   "execution_count": null,
   "metadata": {},
   "outputs": [],
   "source": []
  },
  {
   "cell_type": "markdown",
   "metadata": {},
   "source": [
    "### Enrollment 2016-2017 Data Cleaning & Preprocessing"
   ]
  },
  {
   "cell_type": "code",
   "execution_count": 13,
   "metadata": {},
   "outputs": [
    {
     "data": {
      "text/html": [
       "<div>\n",
       "<style scoped>\n",
       "    .dataframe tbody tr th:only-of-type {\n",
       "        vertical-align: middle;\n",
       "    }\n",
       "\n",
       "    .dataframe tbody tr th {\n",
       "        vertical-align: top;\n",
       "    }\n",
       "\n",
       "    .dataframe thead th {\n",
       "        text-align: right;\n",
       "    }\n",
       "</style>\n",
       "<table border=\"1\" class=\"dataframe\">\n",
       "  <thead>\n",
       "    <tr style=\"text-align: right;\">\n",
       "      <th></th>\n",
       "      <th>District IRN</th>\n",
       "      <th>District Name</th>\n",
       "      <th>Building IRN</th>\n",
       "      <th>Building Name</th>\n",
       "      <th>County</th>\n",
       "      <th>Region</th>\n",
       "      <th>Address</th>\n",
       "      <th>City, State, Zip</th>\n",
       "      <th>Phone</th>\n",
       "      <th>Principal</th>\n",
       "      <th>...</th>\n",
       "      <th>4 Year Grad Rate 2016</th>\n",
       "      <th>Letter Grade of 5 Year Grad Rate 2015</th>\n",
       "      <th>5 Year Grad Rate 2015</th>\n",
       "      <th>Letter Grade of Prepared for Success Component</th>\n",
       "      <th>Percent of Prepared for Success Component</th>\n",
       "      <th>Attendance Rate 2016-2017</th>\n",
       "      <th>Attendance Rate 2015-2016</th>\n",
       "      <th>Attendance Rate 2014-2015</th>\n",
       "      <th>Chronic Absenteeism Percent 2016-2017</th>\n",
       "      <th>Watermark</th>\n",
       "    </tr>\n",
       "  </thead>\n",
       "  <tbody>\n",
       "    <tr>\n",
       "      <th>0</th>\n",
       "      <td>138</td>\n",
       "      <td>Pathway School of Discovery</td>\n",
       "      <td>138</td>\n",
       "      <td>Pathway School of Discovery</td>\n",
       "      <td>Montgomery</td>\n",
       "      <td>Region 10</td>\n",
       "      <td>173 Avondale Dr</td>\n",
       "      <td>Dayton, OH, 45404-2123</td>\n",
       "      <td>(937) 235-5498</td>\n",
       "      <td>Keith B. Colbert</td>\n",
       "      <td>...</td>\n",
       "      <td>NC</td>\n",
       "      <td>NR</td>\n",
       "      <td>NC</td>\n",
       "      <td>NR</td>\n",
       "      <td>NC</td>\n",
       "      <td>93.1</td>\n",
       "      <td>94.8</td>\n",
       "      <td>95</td>\n",
       "      <td>19.1</td>\n",
       "      <td>NaN</td>\n",
       "    </tr>\n",
       "    <tr>\n",
       "      <th>1</th>\n",
       "      <td>139</td>\n",
       "      <td>Alliance Academy of Cincinnati</td>\n",
       "      <td>139</td>\n",
       "      <td>Alliance Academy of Cincinnati</td>\n",
       "      <td>Hamilton</td>\n",
       "      <td>Region 13</td>\n",
       "      <td>1712 Duck Creek Rd</td>\n",
       "      <td>Cincinnati, OH, 45207-1644</td>\n",
       "      <td>(513) 751-5555</td>\n",
       "      <td>Elizabeth L. King</td>\n",
       "      <td>...</td>\n",
       "      <td>NC</td>\n",
       "      <td>NR</td>\n",
       "      <td>NC</td>\n",
       "      <td>NR</td>\n",
       "      <td>NC</td>\n",
       "      <td>91.4</td>\n",
       "      <td>92.9</td>\n",
       "      <td>94</td>\n",
       "      <td>34.6</td>\n",
       "      <td>NaN</td>\n",
       "    </tr>\n",
       "    <tr>\n",
       "      <th>2</th>\n",
       "      <td>222</td>\n",
       "      <td>Wildwood Environmental Academy</td>\n",
       "      <td>222</td>\n",
       "      <td>Wildwood Environmental Academy</td>\n",
       "      <td>Lucas</td>\n",
       "      <td>Region 1</td>\n",
       "      <td>1546 Dartford Rd</td>\n",
       "      <td>Maumee, OH, 43537-1374</td>\n",
       "      <td>(419) 868-9885</td>\n",
       "      <td>Elizabeth A. Lewin</td>\n",
       "      <td>...</td>\n",
       "      <td>90.9</td>\n",
       "      <td>NR</td>\n",
       "      <td>NC</td>\n",
       "      <td>F</td>\n",
       "      <td>5.6</td>\n",
       "      <td>94.0</td>\n",
       "      <td>93.7</td>\n",
       "      <td>94</td>\n",
       "      <td>17.6</td>\n",
       "      <td>NaN</td>\n",
       "    </tr>\n",
       "    <tr>\n",
       "      <th>3</th>\n",
       "      <td>236</td>\n",
       "      <td>Ohio Connections Academy, Inc</td>\n",
       "      <td>236</td>\n",
       "      <td>Ohio Connections Academy, Inc</td>\n",
       "      <td>Cuyahoga</td>\n",
       "      <td>Region 11</td>\n",
       "      <td>3615 Superior Ave E</td>\n",
       "      <td>Cleveland, OH, 44114-2229</td>\n",
       "      <td>(513) 486-9120</td>\n",
       "      <td>NaN</td>\n",
       "      <td>...</td>\n",
       "      <td>67.6</td>\n",
       "      <td>F</td>\n",
       "      <td>74.5</td>\n",
       "      <td>F</td>\n",
       "      <td>13.0</td>\n",
       "      <td>98.2</td>\n",
       "      <td>97.4</td>\n",
       "      <td>97</td>\n",
       "      <td>6.8</td>\n",
       "      <td>NaN</td>\n",
       "    </tr>\n",
       "    <tr>\n",
       "      <th>4</th>\n",
       "      <td>296</td>\n",
       "      <td>Summit Academy Community School-Columbus</td>\n",
       "      <td>296</td>\n",
       "      <td>Summit Academy Community School-Columbus</td>\n",
       "      <td>Franklin</td>\n",
       "      <td>Region 11</td>\n",
       "      <td>2521 Fairwood Ave Ste 100</td>\n",
       "      <td>Columbus, OH, 43207-2712</td>\n",
       "      <td>(614) 237-5497</td>\n",
       "      <td>Cheryl L. Elliott</td>\n",
       "      <td>...</td>\n",
       "      <td>NC</td>\n",
       "      <td>NR</td>\n",
       "      <td>NC</td>\n",
       "      <td>NR</td>\n",
       "      <td>NC</td>\n",
       "      <td>92.1</td>\n",
       "      <td>94.4</td>\n",
       "      <td>93</td>\n",
       "      <td>35.0</td>\n",
       "      <td>NaN</td>\n",
       "    </tr>\n",
       "  </tbody>\n",
       "</table>\n",
       "<p>5 rows × 44 columns</p>\n",
       "</div>"
      ],
      "text/plain": [
       "   District IRN                             District Name  Building IRN  \\\n",
       "0           138               Pathway School of Discovery           138   \n",
       "1           139            Alliance Academy of Cincinnati           139   \n",
       "2           222            Wildwood Environmental Academy           222   \n",
       "3           236             Ohio Connections Academy, Inc           236   \n",
       "4           296  Summit Academy Community School-Columbus           296   \n",
       "\n",
       "                              Building Name      County     Region  \\\n",
       "0               Pathway School of Discovery  Montgomery  Region 10   \n",
       "1            Alliance Academy of Cincinnati    Hamilton  Region 13   \n",
       "2            Wildwood Environmental Academy       Lucas   Region 1   \n",
       "3             Ohio Connections Academy, Inc    Cuyahoga  Region 11   \n",
       "4  Summit Academy Community School-Columbus    Franklin  Region 11   \n",
       "\n",
       "                     Address            City, State, Zip           Phone  \\\n",
       "0            173 Avondale Dr      Dayton, OH, 45404-2123  (937) 235-5498   \n",
       "1         1712 Duck Creek Rd  Cincinnati, OH, 45207-1644  (513) 751-5555   \n",
       "2           1546 Dartford Rd      Maumee, OH, 43537-1374  (419) 868-9885   \n",
       "3        3615 Superior Ave E   Cleveland, OH, 44114-2229  (513) 486-9120   \n",
       "4  2521 Fairwood Ave Ste 100    Columbus, OH, 43207-2712  (614) 237-5497   \n",
       "\n",
       "            Principal  ... 4 Year Grad Rate 2016  \\\n",
       "0    Keith B. Colbert  ...                    NC   \n",
       "1   Elizabeth L. King  ...                    NC   \n",
       "2  Elizabeth A. Lewin  ...                  90.9   \n",
       "3                 NaN  ...                  67.6   \n",
       "4   Cheryl L. Elliott  ...                    NC   \n",
       "\n",
       "  Letter Grade of 5 Year Grad Rate 2015 5 Year Grad Rate 2015  \\\n",
       "0                                    NR                    NC   \n",
       "1                                    NR                    NC   \n",
       "2                                    NR                    NC   \n",
       "3                                     F                  74.5   \n",
       "4                                    NR                    NC   \n",
       "\n",
       "  Letter Grade of Prepared for Success Component  \\\n",
       "0                                             NR   \n",
       "1                                             NR   \n",
       "2                                              F   \n",
       "3                                              F   \n",
       "4                                             NR   \n",
       "\n",
       "  Percent of Prepared for Success Component Attendance Rate 2016-2017  \\\n",
       "0                                        NC                      93.1   \n",
       "1                                        NC                      91.4   \n",
       "2                                       5.6                      94.0   \n",
       "3                                      13.0                      98.2   \n",
       "4                                        NC                      92.1   \n",
       "\n",
       "  Attendance Rate 2015-2016 Attendance Rate 2014-2015  \\\n",
       "0                      94.8                        95   \n",
       "1                      92.9                        94   \n",
       "2                      93.7                        94   \n",
       "3                      97.4                        97   \n",
       "4                      94.4                        93   \n",
       "\n",
       "  Chronic Absenteeism Percent 2016-2017 Watermark  \n",
       "0                                  19.1       NaN  \n",
       "1                                  34.6       NaN  \n",
       "2                                  17.6       NaN  \n",
       "3                                   6.8       NaN  \n",
       "4                                  35.0       NaN  \n",
       "\n",
       "[5 rows x 44 columns]"
      ]
     },
     "execution_count": 13,
     "metadata": {},
     "output_type": "execute_result"
    }
   ],
   "source": [
    "#Importing data enrollment 2016-2017 data\n",
    "df_BR16_17 = pd.read_excel(r'C:/Users/patil/Desktop/CMDS Skills Assessment/Data/BUILDING_RATING_2016_2017.xls')\n",
    "df_BR16_17.head()"
   ]
  },
  {
   "cell_type": "code",
   "execution_count": 14,
   "metadata": {},
   "outputs": [],
   "source": [
    "#Adding School Year Column\n",
    "df_BR16_17['School_Year'] = '2016-2017'"
   ]
  },
  {
   "cell_type": "code",
   "execution_count": 15,
   "metadata": {},
   "outputs": [],
   "source": [
    "#Rename enrollment column\n",
    "df_BR16_17.rename(columns={'Enrollment 2016-2017': 'Enrollment'}, inplace=True)"
   ]
  },
  {
   "cell_type": "code",
   "execution_count": 16,
   "metadata": {},
   "outputs": [
    {
     "data": {
      "text/html": [
       "<div>\n",
       "<style scoped>\n",
       "    .dataframe tbody tr th:only-of-type {\n",
       "        vertical-align: middle;\n",
       "    }\n",
       "\n",
       "    .dataframe tbody tr th {\n",
       "        vertical-align: top;\n",
       "    }\n",
       "\n",
       "    .dataframe thead th {\n",
       "        text-align: right;\n",
       "    }\n",
       "</style>\n",
       "<table border=\"1\" class=\"dataframe\">\n",
       "  <thead>\n",
       "    <tr style=\"text-align: right;\">\n",
       "      <th></th>\n",
       "      <th>District IRN</th>\n",
       "      <th>District Name</th>\n",
       "      <th>Building IRN</th>\n",
       "      <th>Building Name</th>\n",
       "      <th>County</th>\n",
       "      <th>Region</th>\n",
       "      <th>Address</th>\n",
       "      <th>City, State, Zip</th>\n",
       "      <th>Phone</th>\n",
       "      <th>Principal</th>\n",
       "      <th>...</th>\n",
       "      <th>Letter Grade of 5 Year Grad Rate 2015</th>\n",
       "      <th>5 Year Grad Rate 2015</th>\n",
       "      <th>Letter Grade of Prepared for Success Component</th>\n",
       "      <th>Percent of Prepared for Success Component</th>\n",
       "      <th>Attendance Rate 2016-2017</th>\n",
       "      <th>Attendance Rate 2015-2016</th>\n",
       "      <th>Attendance Rate 2014-2015</th>\n",
       "      <th>Chronic Absenteeism Percent 2016-2017</th>\n",
       "      <th>Watermark</th>\n",
       "      <th>School_Year</th>\n",
       "    </tr>\n",
       "  </thead>\n",
       "  <tbody>\n",
       "    <tr>\n",
       "      <th>441</th>\n",
       "      <td>43786</td>\n",
       "      <td>Cleveland Municipal City</td>\n",
       "      <td>224</td>\n",
       "      <td>Adlai Stevenson School</td>\n",
       "      <td>Cuyahoga</td>\n",
       "      <td>Region 3</td>\n",
       "      <td>18300 Woda Avenue</td>\n",
       "      <td>Cleveland, OH, 44122-6441</td>\n",
       "      <td>(216) 838-5300</td>\n",
       "      <td>Christopher T. Wyland</td>\n",
       "      <td>...</td>\n",
       "      <td>NR</td>\n",
       "      <td>NC</td>\n",
       "      <td>NR</td>\n",
       "      <td>NC</td>\n",
       "      <td>94.5</td>\n",
       "      <td>94.0</td>\n",
       "      <td>92</td>\n",
       "      <td>15.5</td>\n",
       "      <td>NaN</td>\n",
       "      <td>2016-2017</td>\n",
       "    </tr>\n",
       "    <tr>\n",
       "      <th>442</th>\n",
       "      <td>43786</td>\n",
       "      <td>Cleveland Municipal City</td>\n",
       "      <td>318</td>\n",
       "      <td>Menlo Park Academy</td>\n",
       "      <td>Cuyahoga</td>\n",
       "      <td>Region 3</td>\n",
       "      <td>14440 Triskett Rd</td>\n",
       "      <td>Cleveland, OH, 44111-2263</td>\n",
       "      <td>(440) 925-6365</td>\n",
       "      <td>Stacy J. Stuhldreher</td>\n",
       "      <td>...</td>\n",
       "      <td>NR</td>\n",
       "      <td>NC</td>\n",
       "      <td>NR</td>\n",
       "      <td>NC</td>\n",
       "      <td>95.2</td>\n",
       "      <td>95.6</td>\n",
       "      <td>95</td>\n",
       "      <td>9.5</td>\n",
       "      <td>NaN</td>\n",
       "      <td>2016-2017</td>\n",
       "    </tr>\n",
       "    <tr>\n",
       "      <th>443</th>\n",
       "      <td>43786</td>\n",
       "      <td>Cleveland Municipal City</td>\n",
       "      <td>489</td>\n",
       "      <td>Almira</td>\n",
       "      <td>Cuyahoga</td>\n",
       "      <td>Region 3</td>\n",
       "      <td>3375 W 99th St</td>\n",
       "      <td>Cleveland, OH, 44102-4642</td>\n",
       "      <td>(216) 838-6150</td>\n",
       "      <td>James Greene</td>\n",
       "      <td>...</td>\n",
       "      <td>NR</td>\n",
       "      <td>NC</td>\n",
       "      <td>NR</td>\n",
       "      <td>NC</td>\n",
       "      <td>91.2</td>\n",
       "      <td>92.2</td>\n",
       "      <td>89</td>\n",
       "      <td>34.3</td>\n",
       "      <td>NaN</td>\n",
       "      <td>2016-2017</td>\n",
       "    </tr>\n",
       "    <tr>\n",
       "      <th>444</th>\n",
       "      <td>43786</td>\n",
       "      <td>Cleveland Municipal City</td>\n",
       "      <td>729</td>\n",
       "      <td>Andrew J Rickoff</td>\n",
       "      <td>Cuyahoga</td>\n",
       "      <td>Region 3</td>\n",
       "      <td>3500 E 147th St</td>\n",
       "      <td>Cleveland, OH, 44120-4834</td>\n",
       "      <td>(216) 838-4150</td>\n",
       "      <td>SHELBY R. SCHUTT</td>\n",
       "      <td>...</td>\n",
       "      <td>NR</td>\n",
       "      <td>NC</td>\n",
       "      <td>NR</td>\n",
       "      <td>NC</td>\n",
       "      <td>88.9</td>\n",
       "      <td>90.5</td>\n",
       "      <td>89</td>\n",
       "      <td>40.2</td>\n",
       "      <td>NaN</td>\n",
       "      <td>2016-2017</td>\n",
       "    </tr>\n",
       "    <tr>\n",
       "      <th>445</th>\n",
       "      <td>43786</td>\n",
       "      <td>Cleveland Municipal City</td>\n",
       "      <td>828</td>\n",
       "      <td>Anton Grdina</td>\n",
       "      <td>Cuyahoga</td>\n",
       "      <td>Region 3</td>\n",
       "      <td>2955 E 71st St</td>\n",
       "      <td>Cleveland, OH, 44104-4101</td>\n",
       "      <td>(216) 838-1150</td>\n",
       "      <td>Harold S. Booker</td>\n",
       "      <td>...</td>\n",
       "      <td>NR</td>\n",
       "      <td>NC</td>\n",
       "      <td>NR</td>\n",
       "      <td>NC</td>\n",
       "      <td>91.0</td>\n",
       "      <td>89.3</td>\n",
       "      <td>89</td>\n",
       "      <td>34.8</td>\n",
       "      <td>NaN</td>\n",
       "      <td>2016-2017</td>\n",
       "    </tr>\n",
       "  </tbody>\n",
       "</table>\n",
       "<p>5 rows × 45 columns</p>\n",
       "</div>"
      ],
      "text/plain": [
       "     District IRN             District Name  Building IRN  \\\n",
       "441         43786  Cleveland Municipal City           224   \n",
       "442         43786  Cleveland Municipal City           318   \n",
       "443         43786  Cleveland Municipal City           489   \n",
       "444         43786  Cleveland Municipal City           729   \n",
       "445         43786  Cleveland Municipal City           828   \n",
       "\n",
       "              Building Name    County    Region            Address  \\\n",
       "441  Adlai Stevenson School  Cuyahoga  Region 3  18300 Woda Avenue   \n",
       "442      Menlo Park Academy  Cuyahoga  Region 3  14440 Triskett Rd   \n",
       "443                  Almira  Cuyahoga  Region 3     3375 W 99th St   \n",
       "444        Andrew J Rickoff  Cuyahoga  Region 3    3500 E 147th St   \n",
       "445            Anton Grdina  Cuyahoga  Region 3     2955 E 71st St   \n",
       "\n",
       "              City, State, Zip           Phone              Principal  ...  \\\n",
       "441  Cleveland, OH, 44122-6441  (216) 838-5300  Christopher T. Wyland  ...   \n",
       "442  Cleveland, OH, 44111-2263  (440) 925-6365   Stacy J. Stuhldreher  ...   \n",
       "443  Cleveland, OH, 44102-4642  (216) 838-6150           James Greene  ...   \n",
       "444  Cleveland, OH, 44120-4834  (216) 838-4150       SHELBY R. SCHUTT  ...   \n",
       "445  Cleveland, OH, 44104-4101  (216) 838-1150       Harold S. Booker  ...   \n",
       "\n",
       "    Letter Grade of 5 Year Grad Rate 2015 5 Year Grad Rate 2015  \\\n",
       "441                                    NR                    NC   \n",
       "442                                    NR                    NC   \n",
       "443                                    NR                    NC   \n",
       "444                                    NR                    NC   \n",
       "445                                    NR                    NC   \n",
       "\n",
       "    Letter Grade of Prepared for Success Component  \\\n",
       "441                                             NR   \n",
       "442                                             NR   \n",
       "443                                             NR   \n",
       "444                                             NR   \n",
       "445                                             NR   \n",
       "\n",
       "    Percent of Prepared for Success Component Attendance Rate 2016-2017  \\\n",
       "441                                        NC                      94.5   \n",
       "442                                        NC                      95.2   \n",
       "443                                        NC                      91.2   \n",
       "444                                        NC                      88.9   \n",
       "445                                        NC                      91.0   \n",
       "\n",
       "    Attendance Rate 2015-2016 Attendance Rate 2014-2015  \\\n",
       "441                      94.0                        92   \n",
       "442                      95.6                        95   \n",
       "443                      92.2                        89   \n",
       "444                      90.5                        89   \n",
       "445                      89.3                        89   \n",
       "\n",
       "    Chronic Absenteeism Percent 2016-2017 Watermark School_Year  \n",
       "441                                  15.5       NaN   2016-2017  \n",
       "442                                   9.5       NaN   2016-2017  \n",
       "443                                  34.3       NaN   2016-2017  \n",
       "444                                  40.2       NaN   2016-2017  \n",
       "445                                  34.8       NaN   2016-2017  \n",
       "\n",
       "[5 rows x 45 columns]"
      ]
     },
     "execution_count": 16,
     "metadata": {},
     "output_type": "execute_result"
    }
   ],
   "source": [
    "# filtering the data for cleaveland district\n",
    "df_BR16_17 = df_BR16_17.loc[df_BR16_17['District IRN'] == 43786]\n",
    "df_BR16_17.head()"
   ]
  },
  {
   "cell_type": "code",
   "execution_count": 17,
   "metadata": {},
   "outputs": [
    {
     "data": {
      "text/html": [
       "<div>\n",
       "<style scoped>\n",
       "    .dataframe tbody tr th:only-of-type {\n",
       "        vertical-align: middle;\n",
       "    }\n",
       "\n",
       "    .dataframe tbody tr th {\n",
       "        vertical-align: top;\n",
       "    }\n",
       "\n",
       "    .dataframe thead th {\n",
       "        text-align: right;\n",
       "    }\n",
       "</style>\n",
       "<table border=\"1\" class=\"dataframe\">\n",
       "  <thead>\n",
       "    <tr style=\"text-align: right;\">\n",
       "      <th></th>\n",
       "      <th>District IRN</th>\n",
       "      <th>Building IRN</th>\n",
       "      <th>Building Name</th>\n",
       "      <th>Enrollment</th>\n",
       "      <th>School_Year</th>\n",
       "    </tr>\n",
       "  </thead>\n",
       "  <tbody>\n",
       "    <tr>\n",
       "      <th>441</th>\n",
       "      <td>43786</td>\n",
       "      <td>224</td>\n",
       "      <td>Adlai Stevenson School</td>\n",
       "      <td>445</td>\n",
       "      <td>2016-2017</td>\n",
       "    </tr>\n",
       "    <tr>\n",
       "      <th>442</th>\n",
       "      <td>43786</td>\n",
       "      <td>318</td>\n",
       "      <td>Menlo Park Academy</td>\n",
       "      <td>405</td>\n",
       "      <td>2016-2017</td>\n",
       "    </tr>\n",
       "    <tr>\n",
       "      <th>443</th>\n",
       "      <td>43786</td>\n",
       "      <td>489</td>\n",
       "      <td>Almira</td>\n",
       "      <td>491</td>\n",
       "      <td>2016-2017</td>\n",
       "    </tr>\n",
       "    <tr>\n",
       "      <th>444</th>\n",
       "      <td>43786</td>\n",
       "      <td>729</td>\n",
       "      <td>Andrew J Rickoff</td>\n",
       "      <td>457</td>\n",
       "      <td>2016-2017</td>\n",
       "    </tr>\n",
       "    <tr>\n",
       "      <th>445</th>\n",
       "      <td>43786</td>\n",
       "      <td>828</td>\n",
       "      <td>Anton Grdina</td>\n",
       "      <td>361</td>\n",
       "      <td>2016-2017</td>\n",
       "    </tr>\n",
       "  </tbody>\n",
       "</table>\n",
       "</div>"
      ],
      "text/plain": [
       "     District IRN  Building IRN           Building Name Enrollment School_Year\n",
       "441         43786           224  Adlai Stevenson School        445   2016-2017\n",
       "442         43786           318      Menlo Park Academy        405   2016-2017\n",
       "443         43786           489                  Almira        491   2016-2017\n",
       "444         43786           729        Andrew J Rickoff        457   2016-2017\n",
       "445         43786           828            Anton Grdina        361   2016-2017"
      ]
     },
     "execution_count": 17,
     "metadata": {},
     "output_type": "execute_result"
    }
   ],
   "source": [
    "# Selecting only 5 columns thats required for furture steps\n",
    "df_BR16_17 = df_BR16_17[['District IRN', 'Building IRN', 'Building Name', 'Enrollment', 'School_Year']]\n",
    "df_BR16_17.head()"
   ]
  },
  {
   "cell_type": "code",
   "execution_count": 18,
   "metadata": {},
   "outputs": [
    {
     "data": {
      "text/plain": [
       "(116, 5)"
      ]
     },
     "execution_count": 18,
     "metadata": {},
     "output_type": "execute_result"
    }
   ],
   "source": [
    "#Find out the shape\n",
    "df_BR16_17.shape"
   ]
  },
  {
   "cell_type": "code",
   "execution_count": 19,
   "metadata": {},
   "outputs": [
    {
     "data": {
      "text/plain": [
       "<bound method Series.unique of 441       224\n",
       "442       318\n",
       "443       489\n",
       "444       729\n",
       "445       828\n",
       "        ...  \n",
       "552     68221\n",
       "553     86306\n",
       "554    133215\n",
       "555    147389\n",
       "556    147397\n",
       "Name: Building IRN, Length: 116, dtype: int64>"
      ]
     },
     "execution_count": 19,
     "metadata": {},
     "output_type": "execute_result"
    }
   ],
   "source": [
    "#Checking the unique count for building IRN\n",
    "df_BR16_17['Building IRN'].unique"
   ]
  },
  {
   "cell_type": "code",
   "execution_count": 20,
   "metadata": {},
   "outputs": [
    {
     "data": {
      "text/plain": [
       "<bound method Series.unique of 441                    Adlai Stevenson School\n",
       "442                        Menlo Park Academy\n",
       "443                                    Almira\n",
       "444                          Andrew J Rickoff\n",
       "445                              Anton Grdina\n",
       "                        ...                  \n",
       "552                         Kenneth W Clement\n",
       "553         Health Careers Center High School\n",
       "554             Intergenerational School, The\n",
       "555                SuccessTech Academy School\n",
       "556    Cleveland School of Science & Medicine\n",
       "Name: Building Name, Length: 116, dtype: object>"
      ]
     },
     "execution_count": 20,
     "metadata": {},
     "output_type": "execute_result"
    }
   ],
   "source": [
    "#Checking the unique count for Building Name\n",
    "df_BR16_17['Building Name'].unique"
   ]
  },
  {
   "cell_type": "code",
   "execution_count": null,
   "metadata": {},
   "outputs": [],
   "source": []
  },
  {
   "cell_type": "code",
   "execution_count": null,
   "metadata": {},
   "outputs": [],
   "source": []
  },
  {
   "cell_type": "markdown",
   "metadata": {},
   "source": [
    "### Enrollment 2017-2018 Data Cleaning & Preprocessing"
   ]
  },
  {
   "cell_type": "code",
   "execution_count": 21,
   "metadata": {},
   "outputs": [
    {
     "data": {
      "text/html": [
       "<div>\n",
       "<style scoped>\n",
       "    .dataframe tbody tr th:only-of-type {\n",
       "        vertical-align: middle;\n",
       "    }\n",
       "\n",
       "    .dataframe tbody tr th {\n",
       "        vertical-align: top;\n",
       "    }\n",
       "\n",
       "    .dataframe thead th {\n",
       "        text-align: right;\n",
       "    }\n",
       "</style>\n",
       "<table border=\"1\" class=\"dataframe\">\n",
       "  <thead>\n",
       "    <tr style=\"text-align: right;\">\n",
       "      <th></th>\n",
       "      <th>District IRN</th>\n",
       "      <th>District Name</th>\n",
       "      <th>Building IRN</th>\n",
       "      <th>Building Name</th>\n",
       "      <th>County</th>\n",
       "      <th>Region</th>\n",
       "      <th>Address</th>\n",
       "      <th>City, State, Zip</th>\n",
       "      <th>Phone</th>\n",
       "      <th>Principal</th>\n",
       "      <th>...</th>\n",
       "      <th>4 Year Grad Rate 2017</th>\n",
       "      <th>Letter Grade of 5 Year Grad Rate 2016</th>\n",
       "      <th>5 Year Grad Rate 2016</th>\n",
       "      <th>Prepared for Success Component Grade</th>\n",
       "      <th>Prepared for Success Component Percent</th>\n",
       "      <th>Attendance Rate 2017-2018</th>\n",
       "      <th>Attendance Rate 2016-2017</th>\n",
       "      <th>Attendance Rate 2015-2016</th>\n",
       "      <th>Chronic Absenteeism Percent 2017-2018</th>\n",
       "      <th>Watermark</th>\n",
       "    </tr>\n",
       "  </thead>\n",
       "  <tbody>\n",
       "    <tr>\n",
       "      <th>0</th>\n",
       "      <td>45187</td>\n",
       "      <td>Ada Exempted Village</td>\n",
       "      <td>59</td>\n",
       "      <td>Ada Elementary School</td>\n",
       "      <td>Hardin</td>\n",
       "      <td>Region 6</td>\n",
       "      <td>435 Grand Ave</td>\n",
       "      <td>Ada, OH, 45810-1013</td>\n",
       "      <td>(419) 634-2341</td>\n",
       "      <td>Robin E. Vanbuskirk</td>\n",
       "      <td>...</td>\n",
       "      <td>NC</td>\n",
       "      <td>NR</td>\n",
       "      <td>NC</td>\n",
       "      <td>NR</td>\n",
       "      <td>NC</td>\n",
       "      <td>95.9</td>\n",
       "      <td>95.5</td>\n",
       "      <td>96.3</td>\n",
       "      <td>7.6</td>\n",
       "      <td>NaN</td>\n",
       "    </tr>\n",
       "    <tr>\n",
       "      <th>1</th>\n",
       "      <td>45187</td>\n",
       "      <td>Ada Exempted Village</td>\n",
       "      <td>67</td>\n",
       "      <td>Ada High School</td>\n",
       "      <td>Hardin</td>\n",
       "      <td>Region 6</td>\n",
       "      <td>435 Grand Ave</td>\n",
       "      <td>Ada, OH, 45810-1013</td>\n",
       "      <td>(419) 634-2746</td>\n",
       "      <td>Robin E. Vanbuskirk</td>\n",
       "      <td>...</td>\n",
       "      <td>98.4</td>\n",
       "      <td>B</td>\n",
       "      <td>94.3</td>\n",
       "      <td>D</td>\n",
       "      <td>42.5</td>\n",
       "      <td>94.8</td>\n",
       "      <td>93.9</td>\n",
       "      <td>94.5</td>\n",
       "      <td>12.4</td>\n",
       "      <td>NaN</td>\n",
       "    </tr>\n",
       "    <tr>\n",
       "      <th>2</th>\n",
       "      <td>44743</td>\n",
       "      <td>Sandusky City</td>\n",
       "      <td>83</td>\n",
       "      <td>Sandusky Middle School</td>\n",
       "      <td>Erie</td>\n",
       "      <td>Region 2</td>\n",
       "      <td>318 Columbus Ave</td>\n",
       "      <td>Sandusky, OH, 44870-2616</td>\n",
       "      <td>(419) 984-1180</td>\n",
       "      <td>Timothy P. Kozak</td>\n",
       "      <td>...</td>\n",
       "      <td>NC</td>\n",
       "      <td>NR</td>\n",
       "      <td>NC</td>\n",
       "      <td>NR</td>\n",
       "      <td>NC</td>\n",
       "      <td>93.5</td>\n",
       "      <td>94.0</td>\n",
       "      <td>93.6</td>\n",
       "      <td>18.2</td>\n",
       "      <td>NaN</td>\n",
       "    </tr>\n",
       "    <tr>\n",
       "      <th>3</th>\n",
       "      <td>48520</td>\n",
       "      <td>Meigs Local</td>\n",
       "      <td>102</td>\n",
       "      <td>Meigs Primary School</td>\n",
       "      <td>Meigs</td>\n",
       "      <td>Region 16</td>\n",
       "      <td>36871 State Route 124</td>\n",
       "      <td>Middleport, OH, 45760-9717</td>\n",
       "      <td>(740) 742-3000</td>\n",
       "      <td>Kristin C. Baer</td>\n",
       "      <td>...</td>\n",
       "      <td>NC</td>\n",
       "      <td>NR</td>\n",
       "      <td>NC</td>\n",
       "      <td>NR</td>\n",
       "      <td>NC</td>\n",
       "      <td>92.5</td>\n",
       "      <td>92.5</td>\n",
       "      <td>93.3</td>\n",
       "      <td>23.7</td>\n",
       "      <td>NaN</td>\n",
       "    </tr>\n",
       "    <tr>\n",
       "      <th>4</th>\n",
       "      <td>48520</td>\n",
       "      <td>Meigs Local</td>\n",
       "      <td>105</td>\n",
       "      <td>Meigs Intermediate School</td>\n",
       "      <td>Meigs</td>\n",
       "      <td>Region 16</td>\n",
       "      <td>36871 State Route 124</td>\n",
       "      <td>Middleport, OH, 45760-9717</td>\n",
       "      <td>(740) 742-2666</td>\n",
       "      <td>IRENE C. Murphy</td>\n",
       "      <td>...</td>\n",
       "      <td>NC</td>\n",
       "      <td>NR</td>\n",
       "      <td>NC</td>\n",
       "      <td>NR</td>\n",
       "      <td>NC</td>\n",
       "      <td>93.4</td>\n",
       "      <td>93.6</td>\n",
       "      <td>94.4</td>\n",
       "      <td>17.2</td>\n",
       "      <td>NaN</td>\n",
       "    </tr>\n",
       "  </tbody>\n",
       "</table>\n",
       "<p>5 rows × 43 columns</p>\n",
       "</div>"
      ],
      "text/plain": [
       "   District IRN         District Name  Building IRN  \\\n",
       "0         45187  Ada Exempted Village            59   \n",
       "1         45187  Ada Exempted Village            67   \n",
       "2         44743         Sandusky City            83   \n",
       "3         48520           Meigs Local           102   \n",
       "4         48520           Meigs Local           105   \n",
       "\n",
       "               Building Name  County     Region                Address  \\\n",
       "0      Ada Elementary School  Hardin   Region 6          435 Grand Ave   \n",
       "1            Ada High School  Hardin   Region 6          435 Grand Ave   \n",
       "2     Sandusky Middle School    Erie   Region 2       318 Columbus Ave   \n",
       "3       Meigs Primary School   Meigs  Region 16  36871 State Route 124   \n",
       "4  Meigs Intermediate School   Meigs  Region 16  36871 State Route 124   \n",
       "\n",
       "             City, State, Zip           Phone            Principal  ...  \\\n",
       "0         Ada, OH, 45810-1013  (419) 634-2341  Robin E. Vanbuskirk  ...   \n",
       "1         Ada, OH, 45810-1013  (419) 634-2746  Robin E. Vanbuskirk  ...   \n",
       "2    Sandusky, OH, 44870-2616  (419) 984-1180     Timothy P. Kozak  ...   \n",
       "3  Middleport, OH, 45760-9717  (740) 742-3000      Kristin C. Baer  ...   \n",
       "4  Middleport, OH, 45760-9717  (740) 742-2666      IRENE C. Murphy  ...   \n",
       "\n",
       "  4 Year Grad Rate 2017 Letter Grade of 5 Year Grad Rate 2016  \\\n",
       "0                    NC                                    NR   \n",
       "1                  98.4                                     B   \n",
       "2                    NC                                    NR   \n",
       "3                    NC                                    NR   \n",
       "4                    NC                                    NR   \n",
       "\n",
       "  5 Year Grad Rate 2016 Prepared for Success Component Grade  \\\n",
       "0                    NC                                   NR   \n",
       "1                  94.3                                    D   \n",
       "2                    NC                                   NR   \n",
       "3                    NC                                   NR   \n",
       "4                    NC                                   NR   \n",
       "\n",
       "  Prepared for Success Component Percent  Attendance Rate 2017-2018  \\\n",
       "0                                     NC                       95.9   \n",
       "1                                   42.5                       94.8   \n",
       "2                                     NC                       93.5   \n",
       "3                                     NC                       92.5   \n",
       "4                                     NC                       93.4   \n",
       "\n",
       "  Attendance Rate 2016-2017 Attendance Rate 2015-2016  \\\n",
       "0                      95.5                      96.3   \n",
       "1                      93.9                      94.5   \n",
       "2                      94.0                      93.6   \n",
       "3                      92.5                      93.3   \n",
       "4                      93.6                      94.4   \n",
       "\n",
       "  Chronic Absenteeism Percent 2017-2018 Watermark  \n",
       "0                                   7.6       NaN  \n",
       "1                                  12.4       NaN  \n",
       "2                                  18.2       NaN  \n",
       "3                                  23.7       NaN  \n",
       "4                                  17.2       NaN  \n",
       "\n",
       "[5 rows x 43 columns]"
      ]
     },
     "execution_count": 21,
     "metadata": {},
     "output_type": "execute_result"
    }
   ],
   "source": [
    "#Importing data for enrollment 2017-2018\n",
    "df_BR17_18 = pd.read_excel(r'C:/Users/patil/Desktop/CMDS Skills Assessment/Data/BUILDING_OVERVIEW_2017_2018.xlsx')\n",
    "df_BR17_18.head()"
   ]
  },
  {
   "cell_type": "code",
   "execution_count": 22,
   "metadata": {},
   "outputs": [],
   "source": [
    "#Adding School Year Column\n",
    "df_BR17_18['School_Year'] = '2017-2018'"
   ]
  },
  {
   "cell_type": "code",
   "execution_count": 23,
   "metadata": {},
   "outputs": [],
   "source": [
    "#Changing the column name\n",
    "df_BR17_18.rename(columns={'Enrollment 2017-2018': 'Enrollment'}, inplace=True)"
   ]
  },
  {
   "cell_type": "code",
   "execution_count": 24,
   "metadata": {},
   "outputs": [
    {
     "data": {
      "text/html": [
       "<div>\n",
       "<style scoped>\n",
       "    .dataframe tbody tr th:only-of-type {\n",
       "        vertical-align: middle;\n",
       "    }\n",
       "\n",
       "    .dataframe tbody tr th {\n",
       "        vertical-align: top;\n",
       "    }\n",
       "\n",
       "    .dataframe thead th {\n",
       "        text-align: right;\n",
       "    }\n",
       "</style>\n",
       "<table border=\"1\" class=\"dataframe\">\n",
       "  <thead>\n",
       "    <tr style=\"text-align: right;\">\n",
       "      <th></th>\n",
       "      <th>District IRN</th>\n",
       "      <th>District Name</th>\n",
       "      <th>Building IRN</th>\n",
       "      <th>Building Name</th>\n",
       "      <th>County</th>\n",
       "      <th>Region</th>\n",
       "      <th>Address</th>\n",
       "      <th>City, State, Zip</th>\n",
       "      <th>Phone</th>\n",
       "      <th>Principal</th>\n",
       "      <th>...</th>\n",
       "      <th>Letter Grade of 5 Year Grad Rate 2016</th>\n",
       "      <th>5 Year Grad Rate 2016</th>\n",
       "      <th>Prepared for Success Component Grade</th>\n",
       "      <th>Prepared for Success Component Percent</th>\n",
       "      <th>Attendance Rate 2017-2018</th>\n",
       "      <th>Attendance Rate 2016-2017</th>\n",
       "      <th>Attendance Rate 2015-2016</th>\n",
       "      <th>Chronic Absenteeism Percent 2017-2018</th>\n",
       "      <th>Watermark</th>\n",
       "      <th>School_Year</th>\n",
       "    </tr>\n",
       "  </thead>\n",
       "  <tbody>\n",
       "    <tr>\n",
       "      <th>24</th>\n",
       "      <td>43786</td>\n",
       "      <td>Cleveland Municipal</td>\n",
       "      <td>224</td>\n",
       "      <td>Adlai Stevenson School</td>\n",
       "      <td>Cuyahoga</td>\n",
       "      <td>Region 3</td>\n",
       "      <td>18300 Woda Avenue</td>\n",
       "      <td>Cleveland, OH, 44122-6441</td>\n",
       "      <td>(216) 838-5300</td>\n",
       "      <td>Christopher T. Wyland</td>\n",
       "      <td>...</td>\n",
       "      <td>NR</td>\n",
       "      <td>NC</td>\n",
       "      <td>NR</td>\n",
       "      <td>NC</td>\n",
       "      <td>93.5</td>\n",
       "      <td>94.5</td>\n",
       "      <td>94.0</td>\n",
       "      <td>17.6</td>\n",
       "      <td>NaN</td>\n",
       "      <td>2017-2018</td>\n",
       "    </tr>\n",
       "    <tr>\n",
       "      <th>49</th>\n",
       "      <td>43786</td>\n",
       "      <td>Cleveland Municipal</td>\n",
       "      <td>318</td>\n",
       "      <td>Menlo Park Academy</td>\n",
       "      <td>Cuyahoga</td>\n",
       "      <td>Region 3</td>\n",
       "      <td>2149 W 53rd St</td>\n",
       "      <td>Cleveland, OH, 44102-2263</td>\n",
       "      <td>(440) 925-6365</td>\n",
       "      <td>Stacy J. Stuhldreher</td>\n",
       "      <td>...</td>\n",
       "      <td>NR</td>\n",
       "      <td>NC</td>\n",
       "      <td>NR</td>\n",
       "      <td>NC</td>\n",
       "      <td>94.4</td>\n",
       "      <td>95.2</td>\n",
       "      <td>95.6</td>\n",
       "      <td>15.5</td>\n",
       "      <td>NaN</td>\n",
       "      <td>2017-2018</td>\n",
       "    </tr>\n",
       "    <tr>\n",
       "      <th>88</th>\n",
       "      <td>43786</td>\n",
       "      <td>Cleveland Municipal</td>\n",
       "      <td>489</td>\n",
       "      <td>Almira</td>\n",
       "      <td>Cuyahoga</td>\n",
       "      <td>Region 3</td>\n",
       "      <td>3375 W 99th St</td>\n",
       "      <td>Cleveland, OH, 44102-4642</td>\n",
       "      <td>(216) 838-6150</td>\n",
       "      <td>James Greene</td>\n",
       "      <td>...</td>\n",
       "      <td>NR</td>\n",
       "      <td>NC</td>\n",
       "      <td>NR</td>\n",
       "      <td>NC</td>\n",
       "      <td>88.4</td>\n",
       "      <td>91.2</td>\n",
       "      <td>92.2</td>\n",
       "      <td>44.1</td>\n",
       "      <td>NaN</td>\n",
       "      <td>2017-2018</td>\n",
       "    </tr>\n",
       "    <tr>\n",
       "      <th>143</th>\n",
       "      <td>43786</td>\n",
       "      <td>Cleveland Municipal</td>\n",
       "      <td>729</td>\n",
       "      <td>Andrew J Rickoff</td>\n",
       "      <td>Cuyahoga</td>\n",
       "      <td>Region 3</td>\n",
       "      <td>3500 E 147th St</td>\n",
       "      <td>Cleveland, OH, 44120-4834</td>\n",
       "      <td>(216) 838-4150</td>\n",
       "      <td>SHELBY R. SCHUTT</td>\n",
       "      <td>...</td>\n",
       "      <td>NR</td>\n",
       "      <td>NC</td>\n",
       "      <td>NR</td>\n",
       "      <td>NC</td>\n",
       "      <td>88.8</td>\n",
       "      <td>88.9</td>\n",
       "      <td>90.5</td>\n",
       "      <td>41.5</td>\n",
       "      <td>NaN</td>\n",
       "      <td>2017-2018</td>\n",
       "    </tr>\n",
       "    <tr>\n",
       "      <th>160</th>\n",
       "      <td>43786</td>\n",
       "      <td>Cleveland Municipal</td>\n",
       "      <td>828</td>\n",
       "      <td>Anton Grdina</td>\n",
       "      <td>Cuyahoga</td>\n",
       "      <td>Region 3</td>\n",
       "      <td>2955 E 71st St</td>\n",
       "      <td>Cleveland, OH, 44104-4101</td>\n",
       "      <td>(216) 838-1150</td>\n",
       "      <td>Harold S. Booker</td>\n",
       "      <td>...</td>\n",
       "      <td>NR</td>\n",
       "      <td>NC</td>\n",
       "      <td>NR</td>\n",
       "      <td>NC</td>\n",
       "      <td>89.4</td>\n",
       "      <td>91.0</td>\n",
       "      <td>89.3</td>\n",
       "      <td>43.3</td>\n",
       "      <td>NaN</td>\n",
       "      <td>2017-2018</td>\n",
       "    </tr>\n",
       "  </tbody>\n",
       "</table>\n",
       "<p>5 rows × 44 columns</p>\n",
       "</div>"
      ],
      "text/plain": [
       "     District IRN        District Name  Building IRN           Building Name  \\\n",
       "24          43786  Cleveland Municipal           224  Adlai Stevenson School   \n",
       "49          43786  Cleveland Municipal           318      Menlo Park Academy   \n",
       "88          43786  Cleveland Municipal           489                  Almira   \n",
       "143         43786  Cleveland Municipal           729        Andrew J Rickoff   \n",
       "160         43786  Cleveland Municipal           828            Anton Grdina   \n",
       "\n",
       "       County    Region            Address           City, State, Zip  \\\n",
       "24   Cuyahoga  Region 3  18300 Woda Avenue  Cleveland, OH, 44122-6441   \n",
       "49   Cuyahoga  Region 3     2149 W 53rd St  Cleveland, OH, 44102-2263   \n",
       "88   Cuyahoga  Region 3     3375 W 99th St  Cleveland, OH, 44102-4642   \n",
       "143  Cuyahoga  Region 3    3500 E 147th St  Cleveland, OH, 44120-4834   \n",
       "160  Cuyahoga  Region 3     2955 E 71st St  Cleveland, OH, 44104-4101   \n",
       "\n",
       "              Phone              Principal  ...  \\\n",
       "24   (216) 838-5300  Christopher T. Wyland  ...   \n",
       "49   (440) 925-6365   Stacy J. Stuhldreher  ...   \n",
       "88   (216) 838-6150           James Greene  ...   \n",
       "143  (216) 838-4150       SHELBY R. SCHUTT  ...   \n",
       "160  (216) 838-1150       Harold S. Booker  ...   \n",
       "\n",
       "    Letter Grade of 5 Year Grad Rate 2016 5 Year Grad Rate 2016  \\\n",
       "24                                     NR                    NC   \n",
       "49                                     NR                    NC   \n",
       "88                                     NR                    NC   \n",
       "143                                    NR                    NC   \n",
       "160                                    NR                    NC   \n",
       "\n",
       "    Prepared for Success Component Grade  \\\n",
       "24                                    NR   \n",
       "49                                    NR   \n",
       "88                                    NR   \n",
       "143                                   NR   \n",
       "160                                   NR   \n",
       "\n",
       "    Prepared for Success Component Percent Attendance Rate 2017-2018  \\\n",
       "24                                      NC                      93.5   \n",
       "49                                      NC                      94.4   \n",
       "88                                      NC                      88.4   \n",
       "143                                     NC                      88.8   \n",
       "160                                     NC                      89.4   \n",
       "\n",
       "     Attendance Rate 2016-2017 Attendance Rate 2015-2016  \\\n",
       "24                        94.5                      94.0   \n",
       "49                        95.2                      95.6   \n",
       "88                        91.2                      92.2   \n",
       "143                       88.9                      90.5   \n",
       "160                       91.0                      89.3   \n",
       "\n",
       "    Chronic Absenteeism Percent 2017-2018 Watermark School_Year  \n",
       "24                                   17.6       NaN   2017-2018  \n",
       "49                                   15.5       NaN   2017-2018  \n",
       "88                                   44.1       NaN   2017-2018  \n",
       "143                                  41.5       NaN   2017-2018  \n",
       "160                                  43.3       NaN   2017-2018  \n",
       "\n",
       "[5 rows x 44 columns]"
      ]
     },
     "execution_count": 24,
     "metadata": {},
     "output_type": "execute_result"
    }
   ],
   "source": [
    "# Filtering the data for cleaveland district\n",
    "df_BR17_18 = df_BR17_18.loc[df_BR17_18['District IRN'] == 43786]\n",
    "df_BR17_18.head()"
   ]
  },
  {
   "cell_type": "code",
   "execution_count": 25,
   "metadata": {},
   "outputs": [
    {
     "data": {
      "text/html": [
       "<div>\n",
       "<style scoped>\n",
       "    .dataframe tbody tr th:only-of-type {\n",
       "        vertical-align: middle;\n",
       "    }\n",
       "\n",
       "    .dataframe tbody tr th {\n",
       "        vertical-align: top;\n",
       "    }\n",
       "\n",
       "    .dataframe thead th {\n",
       "        text-align: right;\n",
       "    }\n",
       "</style>\n",
       "<table border=\"1\" class=\"dataframe\">\n",
       "  <thead>\n",
       "    <tr style=\"text-align: right;\">\n",
       "      <th></th>\n",
       "      <th>District IRN</th>\n",
       "      <th>Building IRN</th>\n",
       "      <th>Building Name</th>\n",
       "      <th>Enrollment</th>\n",
       "      <th>School_Year</th>\n",
       "    </tr>\n",
       "  </thead>\n",
       "  <tbody>\n",
       "    <tr>\n",
       "      <th>24</th>\n",
       "      <td>43786</td>\n",
       "      <td>224</td>\n",
       "      <td>Adlai Stevenson School</td>\n",
       "      <td>443</td>\n",
       "      <td>2017-2018</td>\n",
       "    </tr>\n",
       "    <tr>\n",
       "      <th>49</th>\n",
       "      <td>43786</td>\n",
       "      <td>318</td>\n",
       "      <td>Menlo Park Academy</td>\n",
       "      <td>418</td>\n",
       "      <td>2017-2018</td>\n",
       "    </tr>\n",
       "    <tr>\n",
       "      <th>88</th>\n",
       "      <td>43786</td>\n",
       "      <td>489</td>\n",
       "      <td>Almira</td>\n",
       "      <td>547</td>\n",
       "      <td>2017-2018</td>\n",
       "    </tr>\n",
       "    <tr>\n",
       "      <th>143</th>\n",
       "      <td>43786</td>\n",
       "      <td>729</td>\n",
       "      <td>Andrew J Rickoff</td>\n",
       "      <td>441</td>\n",
       "      <td>2017-2018</td>\n",
       "    </tr>\n",
       "    <tr>\n",
       "      <th>160</th>\n",
       "      <td>43786</td>\n",
       "      <td>828</td>\n",
       "      <td>Anton Grdina</td>\n",
       "      <td>396</td>\n",
       "      <td>2017-2018</td>\n",
       "    </tr>\n",
       "  </tbody>\n",
       "</table>\n",
       "</div>"
      ],
      "text/plain": [
       "     District IRN  Building IRN           Building Name Enrollment School_Year\n",
       "24          43786           224  Adlai Stevenson School        443   2017-2018\n",
       "49          43786           318      Menlo Park Academy        418   2017-2018\n",
       "88          43786           489                  Almira        547   2017-2018\n",
       "143         43786           729        Andrew J Rickoff        441   2017-2018\n",
       "160         43786           828            Anton Grdina        396   2017-2018"
      ]
     },
     "execution_count": 25,
     "metadata": {},
     "output_type": "execute_result"
    }
   ],
   "source": [
    "#Selecting only 5 columns thats required for furture steps\n",
    "df_BR17_18 = df_BR17_18[['District IRN', 'Building IRN', 'Building Name', 'Enrollment', 'School_Year']]\n",
    "df_BR17_18.head()"
   ]
  },
  {
   "cell_type": "code",
   "execution_count": 26,
   "metadata": {},
   "outputs": [
    {
     "data": {
      "text/plain": [
       "(123, 5)"
      ]
     },
     "execution_count": 26,
     "metadata": {},
     "output_type": "execute_result"
    }
   ],
   "source": [
    "#Find out the shape\n",
    "df_BR17_18.shape"
   ]
  },
  {
   "cell_type": "code",
   "execution_count": null,
   "metadata": {},
   "outputs": [],
   "source": []
  },
  {
   "cell_type": "markdown",
   "metadata": {},
   "source": [
    "## Dataframe Merging for Enrollment 2015-2016, 2016-2017, 2017-2018"
   ]
  },
  {
   "cell_type": "code",
   "execution_count": 27,
   "metadata": {},
   "outputs": [
    {
     "data": {
      "text/html": [
       "<div>\n",
       "<style scoped>\n",
       "    .dataframe tbody tr th:only-of-type {\n",
       "        vertical-align: middle;\n",
       "    }\n",
       "\n",
       "    .dataframe tbody tr th {\n",
       "        vertical-align: top;\n",
       "    }\n",
       "\n",
       "    .dataframe thead th {\n",
       "        text-align: right;\n",
       "    }\n",
       "</style>\n",
       "<table border=\"1\" class=\"dataframe\">\n",
       "  <thead>\n",
       "    <tr style=\"text-align: right;\">\n",
       "      <th></th>\n",
       "      <th>District IRN</th>\n",
       "      <th>Building IRN</th>\n",
       "      <th>Building Name</th>\n",
       "      <th>Enrollment</th>\n",
       "      <th>School_Year</th>\n",
       "    </tr>\n",
       "  </thead>\n",
       "  <tbody>\n",
       "    <tr>\n",
       "      <th>447</th>\n",
       "      <td>43786</td>\n",
       "      <td>224</td>\n",
       "      <td>Adlai Stevenson School</td>\n",
       "      <td>430</td>\n",
       "      <td>2015-2016</td>\n",
       "    </tr>\n",
       "    <tr>\n",
       "      <th>448</th>\n",
       "      <td>43786</td>\n",
       "      <td>318</td>\n",
       "      <td>Menlo Park Academy</td>\n",
       "      <td>367</td>\n",
       "      <td>2015-2016</td>\n",
       "    </tr>\n",
       "    <tr>\n",
       "      <th>449</th>\n",
       "      <td>43786</td>\n",
       "      <td>489</td>\n",
       "      <td>Almira</td>\n",
       "      <td>499</td>\n",
       "      <td>2015-2016</td>\n",
       "    </tr>\n",
       "    <tr>\n",
       "      <th>450</th>\n",
       "      <td>43786</td>\n",
       "      <td>729</td>\n",
       "      <td>Andrew J Rickoff</td>\n",
       "      <td>477</td>\n",
       "      <td>2015-2016</td>\n",
       "    </tr>\n",
       "    <tr>\n",
       "      <th>451</th>\n",
       "      <td>43786</td>\n",
       "      <td>828</td>\n",
       "      <td>Anton Grdina</td>\n",
       "      <td>371</td>\n",
       "      <td>2015-2016</td>\n",
       "    </tr>\n",
       "    <tr>\n",
       "      <th>...</th>\n",
       "      <td>...</td>\n",
       "      <td>...</td>\n",
       "      <td>...</td>\n",
       "      <td>...</td>\n",
       "      <td>...</td>\n",
       "    </tr>\n",
       "    <tr>\n",
       "      <th>3042</th>\n",
       "      <td>43786</td>\n",
       "      <td>86306</td>\n",
       "      <td>Martin Luther King Jr. Campus</td>\n",
       "      <td>356</td>\n",
       "      <td>2017-2018</td>\n",
       "    </tr>\n",
       "    <tr>\n",
       "      <th>3198</th>\n",
       "      <td>43786</td>\n",
       "      <td>133215</td>\n",
       "      <td>Intergenerational School, The</td>\n",
       "      <td>247</td>\n",
       "      <td>2017-2018</td>\n",
       "    </tr>\n",
       "    <tr>\n",
       "      <th>3214</th>\n",
       "      <td>43786</td>\n",
       "      <td>133520</td>\n",
       "      <td>Citizens Academy</td>\n",
       "      <td>410</td>\n",
       "      <td>2017-2018</td>\n",
       "    </tr>\n",
       "    <tr>\n",
       "      <th>3219</th>\n",
       "      <td>43786</td>\n",
       "      <td>133629</td>\n",
       "      <td>Horizon Science Acad Cleveland</td>\n",
       "      <td>440</td>\n",
       "      <td>2017-2018</td>\n",
       "    </tr>\n",
       "    <tr>\n",
       "      <th>3390</th>\n",
       "      <td>43786</td>\n",
       "      <td>147397</td>\n",
       "      <td>Cleveland School of Science &amp; Medicine</td>\n",
       "      <td>401</td>\n",
       "      <td>2017-2018</td>\n",
       "    </tr>\n",
       "  </tbody>\n",
       "</table>\n",
       "<p>356 rows × 5 columns</p>\n",
       "</div>"
      ],
      "text/plain": [
       "      District IRN  Building IRN                           Building Name  \\\n",
       "447          43786           224                  Adlai Stevenson School   \n",
       "448          43786           318                      Menlo Park Academy   \n",
       "449          43786           489                                  Almira   \n",
       "450          43786           729                        Andrew J Rickoff   \n",
       "451          43786           828                            Anton Grdina   \n",
       "...            ...           ...                                     ...   \n",
       "3042         43786         86306           Martin Luther King Jr. Campus   \n",
       "3198         43786        133215           Intergenerational School, The   \n",
       "3214         43786        133520                        Citizens Academy   \n",
       "3219         43786        133629          Horizon Science Acad Cleveland   \n",
       "3390         43786        147397  Cleveland School of Science & Medicine   \n",
       "\n",
       "     Enrollment School_Year  \n",
       "447         430   2015-2016  \n",
       "448         367   2015-2016  \n",
       "449         499   2015-2016  \n",
       "450         477   2015-2016  \n",
       "451         371   2015-2016  \n",
       "...         ...         ...  \n",
       "3042        356   2017-2018  \n",
       "3198        247   2017-2018  \n",
       "3214        410   2017-2018  \n",
       "3219        440   2017-2018  \n",
       "3390        401   2017-2018  \n",
       "\n",
       "[356 rows x 5 columns]"
      ]
     },
     "execution_count": 27,
     "metadata": {},
     "output_type": "execute_result"
    }
   ],
   "source": [
    "#Appending the enrollment dataset using concat function\n",
    "frames = [df_BR15_16, df_BR16_17, df_BR17_18]\n",
    "\n",
    "df_enroll = pd.concat(frames) \n",
    "df_enroll\n"
   ]
  },
  {
   "cell_type": "code",
   "execution_count": 28,
   "metadata": {},
   "outputs": [
    {
     "name": "stdout",
     "output_type": "stream",
     "text": [
      "<class 'pandas.core.frame.DataFrame'>\n",
      "Index: 356 entries, 447 to 3390\n",
      "Data columns (total 5 columns):\n",
      " #   Column         Non-Null Count  Dtype \n",
      "---  ------         --------------  ----- \n",
      " 0   District IRN   356 non-null    int64 \n",
      " 1   Building IRN   356 non-null    int64 \n",
      " 2   Building Name  356 non-null    object\n",
      " 3   Enrollment     356 non-null    object\n",
      " 4   School_Year    356 non-null    object\n",
      "dtypes: int64(2), object(3)\n",
      "memory usage: 16.7+ KB\n"
     ]
    }
   ],
   "source": [
    "#Find out the info about the data\n",
    "df_enroll.info()"
   ]
  },
  {
   "cell_type": "code",
   "execution_count": 29,
   "metadata": {},
   "outputs": [
    {
     "data": {
      "text/plain": [
       "(356, 5)"
      ]
     },
     "execution_count": 29,
     "metadata": {},
     "output_type": "execute_result"
    }
   ],
   "source": [
    "#Find out the shape\n",
    "df_enroll.shape  "
   ]
  },
  {
   "cell_type": "code",
   "execution_count": 30,
   "metadata": {},
   "outputs": [
    {
     "data": {
      "text/plain": [
       "District IRN     0\n",
       "Building IRN     0\n",
       "Building Name    0\n",
       "Enrollment       0\n",
       "School_Year      0\n",
       "dtype: int64"
      ]
     },
     "execution_count": 30,
     "metadata": {},
     "output_type": "execute_result"
    }
   ],
   "source": [
    "#Find out the missing values\n",
    "df_enroll.isnull().sum()"
   ]
  },
  {
   "cell_type": "code",
   "execution_count": 31,
   "metadata": {},
   "outputs": [
    {
     "data": {
      "text/plain": [
       "<bound method Series.unique of 447                     Adlai Stevenson School\n",
       "448                         Menlo Park Academy\n",
       "449                                     Almira\n",
       "450                           Andrew J Rickoff\n",
       "451                               Anton Grdina\n",
       "                         ...                  \n",
       "3042             Martin Luther King Jr. Campus\n",
       "3198             Intergenerational School, The\n",
       "3214                          Citizens Academy\n",
       "3219            Horizon Science Acad Cleveland\n",
       "3390    Cleveland School of Science & Medicine\n",
       "Name: Building Name, Length: 356, dtype: object>"
      ]
     },
     "execution_count": 31,
     "metadata": {},
     "output_type": "execute_result"
    }
   ],
   "source": [
    "#Checking the unique count for building Name\n",
    "df_enroll['Building Name'].unique"
   ]
  },
  {
   "cell_type": "code",
   "execution_count": 32,
   "metadata": {},
   "outputs": [
    {
     "data": {
      "text/plain": [
       "<bound method Series.unique of 447        224\n",
       "448        318\n",
       "449        489\n",
       "450        729\n",
       "451        828\n",
       "         ...  \n",
       "3042     86306\n",
       "3198    133215\n",
       "3214    133520\n",
       "3219    133629\n",
       "3390    147397\n",
       "Name: Building IRN, Length: 356, dtype: int64>"
      ]
     },
     "execution_count": 32,
     "metadata": {},
     "output_type": "execute_result"
    }
   ],
   "source": [
    "#Checking the unique count for building IRN\n",
    "df_enroll['Building IRN'].unique"
   ]
  },
  {
   "cell_type": "code",
   "execution_count": null,
   "metadata": {},
   "outputs": [],
   "source": []
  },
  {
   "cell_type": "code",
   "execution_count": null,
   "metadata": {},
   "outputs": [],
   "source": []
  },
  {
   "cell_type": "markdown",
   "metadata": {},
   "source": [
    "# Cleaning Building Value Added Grade Data for 2015-2016, 2016-2017, 2017-2018"
   ]
  },
  {
   "cell_type": "markdown",
   "metadata": {},
   "source": [
    "### Value Added Grade 2015-2016 Data Cleaning  & Preprocessing"
   ]
  },
  {
   "cell_type": "code",
   "execution_count": 33,
   "metadata": {},
   "outputs": [
    {
     "data": {
      "text/html": [
       "<div>\n",
       "<style scoped>\n",
       "    .dataframe tbody tr th:only-of-type {\n",
       "        vertical-align: middle;\n",
       "    }\n",
       "\n",
       "    .dataframe tbody tr th {\n",
       "        vertical-align: top;\n",
       "    }\n",
       "\n",
       "    .dataframe thead th {\n",
       "        text-align: right;\n",
       "    }\n",
       "</style>\n",
       "<table border=\"1\" class=\"dataframe\">\n",
       "  <thead>\n",
       "    <tr style=\"text-align: right;\">\n",
       "      <th></th>\n",
       "      <th>District IRN</th>\n",
       "      <th>District Name</th>\n",
       "      <th>Building IRN</th>\n",
       "      <th>Building Name</th>\n",
       "      <th>County</th>\n",
       "      <th>Region</th>\n",
       "      <th>Overall Value Added Grade</th>\n",
       "      <th>Overall Composite</th>\n",
       "      <th>Gifted Value Added Grade</th>\n",
       "      <th>Gifted Composite</th>\n",
       "      <th>Students with Disabilities Value Added Grade</th>\n",
       "      <th>Students with Disabilities composite</th>\n",
       "      <th>Lowest 20% Value Added Grade</th>\n",
       "      <th>Lowest 20% Value Added Composite</th>\n",
       "      <th>High Mobility Value Added Grade</th>\n",
       "      <th>High Mobility Composite</th>\n",
       "      <th>Watermark</th>\n",
       "    </tr>\n",
       "  </thead>\n",
       "  <tbody>\n",
       "    <tr>\n",
       "      <th>0</th>\n",
       "      <td>138</td>\n",
       "      <td>Pathway School of Discovery</td>\n",
       "      <td>138</td>\n",
       "      <td>Pathway School of Discovery</td>\n",
       "      <td>Montgomery</td>\n",
       "      <td>Region 10</td>\n",
       "      <td>C</td>\n",
       "      <td>0.87</td>\n",
       "      <td>NR</td>\n",
       "      <td>NC</td>\n",
       "      <td>C</td>\n",
       "      <td>-0.08</td>\n",
       "      <td>C</td>\n",
       "      <td>-0.21</td>\n",
       "      <td>NR</td>\n",
       "      <td>NC</td>\n",
       "      <td>NaN</td>\n",
       "    </tr>\n",
       "    <tr>\n",
       "      <th>1</th>\n",
       "      <td>139</td>\n",
       "      <td>Alliance Academy of Cincinnati</td>\n",
       "      <td>139</td>\n",
       "      <td>Alliance Academy of Cincinnati</td>\n",
       "      <td>Hamilton</td>\n",
       "      <td>Region 13</td>\n",
       "      <td>F</td>\n",
       "      <td>-6.45</td>\n",
       "      <td>NR</td>\n",
       "      <td>NC</td>\n",
       "      <td>D</td>\n",
       "      <td>-1.59</td>\n",
       "      <td>F</td>\n",
       "      <td>-4.04</td>\n",
       "      <td>NR</td>\n",
       "      <td>NC</td>\n",
       "      <td>NaN</td>\n",
       "    </tr>\n",
       "    <tr>\n",
       "      <th>2</th>\n",
       "      <td>222</td>\n",
       "      <td>Wildwood Environmental Academy</td>\n",
       "      <td>222</td>\n",
       "      <td>Wildwood Environmental Academy</td>\n",
       "      <td>Lucas</td>\n",
       "      <td>Region 1</td>\n",
       "      <td>A</td>\n",
       "      <td>4.85</td>\n",
       "      <td>NR</td>\n",
       "      <td>NC</td>\n",
       "      <td>C</td>\n",
       "      <td>0.78</td>\n",
       "      <td>A</td>\n",
       "      <td>3.63</td>\n",
       "      <td>NR</td>\n",
       "      <td>NC</td>\n",
       "      <td>NaN</td>\n",
       "    </tr>\n",
       "    <tr>\n",
       "      <th>3</th>\n",
       "      <td>236</td>\n",
       "      <td>Ohio Connections Academy, Inc</td>\n",
       "      <td>236</td>\n",
       "      <td>Ohio Connections Academy, Inc</td>\n",
       "      <td>Cuyahoga</td>\n",
       "      <td>Region 3</td>\n",
       "      <td>F</td>\n",
       "      <td>-4.60</td>\n",
       "      <td>NR</td>\n",
       "      <td>NC</td>\n",
       "      <td>C</td>\n",
       "      <td>-0.32</td>\n",
       "      <td>C</td>\n",
       "      <td>-0.29</td>\n",
       "      <td>C</td>\n",
       "      <td>0.19</td>\n",
       "      <td>NaN</td>\n",
       "    </tr>\n",
       "    <tr>\n",
       "      <th>4</th>\n",
       "      <td>296</td>\n",
       "      <td>Summit Academy Community School-Columbus</td>\n",
       "      <td>296</td>\n",
       "      <td>Summit Academy Community School-Columbus</td>\n",
       "      <td>Franklin</td>\n",
       "      <td>Region 11</td>\n",
       "      <td>C</td>\n",
       "      <td>-0.68</td>\n",
       "      <td>NR</td>\n",
       "      <td>NC</td>\n",
       "      <td>A</td>\n",
       "      <td>NC</td>\n",
       "      <td>B</td>\n",
       "      <td>NC</td>\n",
       "      <td>NR</td>\n",
       "      <td>NC</td>\n",
       "      <td>NaN</td>\n",
       "    </tr>\n",
       "  </tbody>\n",
       "</table>\n",
       "</div>"
      ],
      "text/plain": [
       "   District IRN                             District Name  Building IRN  \\\n",
       "0           138               Pathway School of Discovery           138   \n",
       "1           139            Alliance Academy of Cincinnati           139   \n",
       "2           222            Wildwood Environmental Academy           222   \n",
       "3           236             Ohio Connections Academy, Inc           236   \n",
       "4           296  Summit Academy Community School-Columbus           296   \n",
       "\n",
       "                              Building Name      County     Region  \\\n",
       "0               Pathway School of Discovery  Montgomery  Region 10   \n",
       "1            Alliance Academy of Cincinnati    Hamilton  Region 13   \n",
       "2            Wildwood Environmental Academy       Lucas   Region 1   \n",
       "3             Ohio Connections Academy, Inc    Cuyahoga   Region 3   \n",
       "4  Summit Academy Community School-Columbus    Franklin  Region 11   \n",
       "\n",
       "  Overall Value Added Grade Overall Composite Gifted Value Added Grade  \\\n",
       "0                         C              0.87                       NR   \n",
       "1                         F             -6.45                       NR   \n",
       "2                         A              4.85                       NR   \n",
       "3                         F             -4.60                       NR   \n",
       "4                         C             -0.68                       NR   \n",
       "\n",
       "  Gifted Composite Students with Disabilities Value Added Grade  \\\n",
       "0               NC                                            C   \n",
       "1               NC                                            D   \n",
       "2               NC                                            C   \n",
       "3               NC                                            C   \n",
       "4               NC                                            A   \n",
       "\n",
       "  Students with Disabilities composite Lowest 20% Value Added Grade  \\\n",
       "0                                -0.08                            C   \n",
       "1                                -1.59                            F   \n",
       "2                                 0.78                            A   \n",
       "3                                -0.32                            C   \n",
       "4                                   NC                            B   \n",
       "\n",
       "  Lowest 20% Value Added Composite High Mobility Value Added Grade  \\\n",
       "0                            -0.21                              NR   \n",
       "1                            -4.04                              NR   \n",
       "2                             3.63                              NR   \n",
       "3                            -0.29                               C   \n",
       "4                               NC                              NR   \n",
       "\n",
       "  High Mobility Composite Watermark  \n",
       "0                      NC       NaN  \n",
       "1                      NC       NaN  \n",
       "2                      NC       NaN  \n",
       "3                    0.19       NaN  \n",
       "4                      NC       NaN  "
      ]
     },
     "execution_count": 33,
     "metadata": {},
     "output_type": "execute_result"
    }
   ],
   "source": [
    "#Importing Value Added data for 2015-2016\n",
    "df_BVA15_16 = pd.read_excel(r'C:/Users/patil/Desktop/CMDS Skills Assessment/Data/BUILDING_VA_2015_2016.xls')\n",
    "df_BVA15_16.head()"
   ]
  },
  {
   "cell_type": "code",
   "execution_count": 34,
   "metadata": {},
   "outputs": [
    {
     "data": {
      "text/plain": [
       "(3387, 17)"
      ]
     },
     "execution_count": 34,
     "metadata": {},
     "output_type": "execute_result"
    }
   ],
   "source": [
    "#Find out the shape\n",
    "df_BVA15_16.shape"
   ]
  },
  {
   "cell_type": "code",
   "execution_count": 35,
   "metadata": {},
   "outputs": [],
   "source": [
    "#Adding School Year Column\n",
    "df_BVA15_16['School_Year'] = '2015-2016'"
   ]
  },
  {
   "cell_type": "code",
   "execution_count": 36,
   "metadata": {},
   "outputs": [
    {
     "data": {
      "text/html": [
       "<div>\n",
       "<style scoped>\n",
       "    .dataframe tbody tr th:only-of-type {\n",
       "        vertical-align: middle;\n",
       "    }\n",
       "\n",
       "    .dataframe tbody tr th {\n",
       "        vertical-align: top;\n",
       "    }\n",
       "\n",
       "    .dataframe thead th {\n",
       "        text-align: right;\n",
       "    }\n",
       "</style>\n",
       "<table border=\"1\" class=\"dataframe\">\n",
       "  <thead>\n",
       "    <tr style=\"text-align: right;\">\n",
       "      <th></th>\n",
       "      <th>District IRN</th>\n",
       "      <th>District Name</th>\n",
       "      <th>Building IRN</th>\n",
       "      <th>Building Name</th>\n",
       "      <th>County</th>\n",
       "      <th>Region</th>\n",
       "      <th>Overall Value Added Grade</th>\n",
       "      <th>Overall Composite</th>\n",
       "      <th>Gifted Value Added Grade</th>\n",
       "      <th>Gifted Composite</th>\n",
       "      <th>Students with Disabilities Value Added Grade</th>\n",
       "      <th>Students with Disabilities composite</th>\n",
       "      <th>Lowest 20% Value Added Grade</th>\n",
       "      <th>Lowest 20% Value Added Composite</th>\n",
       "      <th>High Mobility Value Added Grade</th>\n",
       "      <th>High Mobility Composite</th>\n",
       "      <th>Watermark</th>\n",
       "      <th>School_Year</th>\n",
       "    </tr>\n",
       "  </thead>\n",
       "  <tbody>\n",
       "    <tr>\n",
       "      <th>447</th>\n",
       "      <td>43786</td>\n",
       "      <td>Cleveland Municipal City</td>\n",
       "      <td>224</td>\n",
       "      <td>Adlai Stevenson School</td>\n",
       "      <td>Cuyahoga</td>\n",
       "      <td>Region 3</td>\n",
       "      <td>F</td>\n",
       "      <td>-6.56</td>\n",
       "      <td>NR</td>\n",
       "      <td>NC</td>\n",
       "      <td>F</td>\n",
       "      <td>-3.48</td>\n",
       "      <td>F</td>\n",
       "      <td>-4.40</td>\n",
       "      <td>F</td>\n",
       "      <td>-6.09</td>\n",
       "      <td>NaN</td>\n",
       "      <td>2015-2016</td>\n",
       "    </tr>\n",
       "    <tr>\n",
       "      <th>448</th>\n",
       "      <td>43786</td>\n",
       "      <td>Cleveland Municipal City</td>\n",
       "      <td>318</td>\n",
       "      <td>Menlo Park Academy</td>\n",
       "      <td>Cuyahoga</td>\n",
       "      <td>Region 3</td>\n",
       "      <td>C</td>\n",
       "      <td>-0.54</td>\n",
       "      <td>C</td>\n",
       "      <td>-0.49</td>\n",
       "      <td>NR</td>\n",
       "      <td>NC</td>\n",
       "      <td>NR</td>\n",
       "      <td>NC</td>\n",
       "      <td>NR</td>\n",
       "      <td>NC</td>\n",
       "      <td>NaN</td>\n",
       "      <td>2015-2016</td>\n",
       "    </tr>\n",
       "    <tr>\n",
       "      <th>449</th>\n",
       "      <td>43786</td>\n",
       "      <td>Cleveland Municipal City</td>\n",
       "      <td>489</td>\n",
       "      <td>Almira</td>\n",
       "      <td>Cuyahoga</td>\n",
       "      <td>Region 3</td>\n",
       "      <td>F</td>\n",
       "      <td>-6.16</td>\n",
       "      <td>NR</td>\n",
       "      <td>NC</td>\n",
       "      <td>F</td>\n",
       "      <td>-5.10</td>\n",
       "      <td>F</td>\n",
       "      <td>-4.75</td>\n",
       "      <td>NR</td>\n",
       "      <td>NC</td>\n",
       "      <td>NaN</td>\n",
       "      <td>2015-2016</td>\n",
       "    </tr>\n",
       "    <tr>\n",
       "      <th>450</th>\n",
       "      <td>43786</td>\n",
       "      <td>Cleveland Municipal City</td>\n",
       "      <td>729</td>\n",
       "      <td>Andrew J Rickoff</td>\n",
       "      <td>Cuyahoga</td>\n",
       "      <td>Region 3</td>\n",
       "      <td>F</td>\n",
       "      <td>-6.40</td>\n",
       "      <td>NR</td>\n",
       "      <td>NC</td>\n",
       "      <td>F</td>\n",
       "      <td>-5.68</td>\n",
       "      <td>F</td>\n",
       "      <td>-4.65</td>\n",
       "      <td>NR</td>\n",
       "      <td>NC</td>\n",
       "      <td>NaN</td>\n",
       "      <td>2015-2016</td>\n",
       "    </tr>\n",
       "    <tr>\n",
       "      <th>451</th>\n",
       "      <td>43786</td>\n",
       "      <td>Cleveland Municipal City</td>\n",
       "      <td>828</td>\n",
       "      <td>Anton Grdina</td>\n",
       "      <td>Cuyahoga</td>\n",
       "      <td>Region 3</td>\n",
       "      <td>F</td>\n",
       "      <td>-7.53</td>\n",
       "      <td>NR</td>\n",
       "      <td>NC</td>\n",
       "      <td>D</td>\n",
       "      <td>-1.53</td>\n",
       "      <td>F</td>\n",
       "      <td>-5.54</td>\n",
       "      <td>NR</td>\n",
       "      <td>NC</td>\n",
       "      <td>NaN</td>\n",
       "      <td>2015-2016</td>\n",
       "    </tr>\n",
       "  </tbody>\n",
       "</table>\n",
       "</div>"
      ],
      "text/plain": [
       "     District IRN             District Name  Building IRN  \\\n",
       "447         43786  Cleveland Municipal City           224   \n",
       "448         43786  Cleveland Municipal City           318   \n",
       "449         43786  Cleveland Municipal City           489   \n",
       "450         43786  Cleveland Municipal City           729   \n",
       "451         43786  Cleveland Municipal City           828   \n",
       "\n",
       "              Building Name    County    Region Overall Value Added Grade  \\\n",
       "447  Adlai Stevenson School  Cuyahoga  Region 3                         F   \n",
       "448      Menlo Park Academy  Cuyahoga  Region 3                         C   \n",
       "449                  Almira  Cuyahoga  Region 3                         F   \n",
       "450        Andrew J Rickoff  Cuyahoga  Region 3                         F   \n",
       "451            Anton Grdina  Cuyahoga  Region 3                         F   \n",
       "\n",
       "    Overall Composite Gifted Value Added Grade Gifted Composite  \\\n",
       "447             -6.56                       NR               NC   \n",
       "448             -0.54                        C            -0.49   \n",
       "449             -6.16                       NR               NC   \n",
       "450             -6.40                       NR               NC   \n",
       "451             -7.53                       NR               NC   \n",
       "\n",
       "    Students with Disabilities Value Added Grade  \\\n",
       "447                                            F   \n",
       "448                                           NR   \n",
       "449                                            F   \n",
       "450                                            F   \n",
       "451                                            D   \n",
       "\n",
       "    Students with Disabilities composite Lowest 20% Value Added Grade  \\\n",
       "447                                -3.48                            F   \n",
       "448                                   NC                           NR   \n",
       "449                                -5.10                            F   \n",
       "450                                -5.68                            F   \n",
       "451                                -1.53                            F   \n",
       "\n",
       "    Lowest 20% Value Added Composite High Mobility Value Added Grade  \\\n",
       "447                            -4.40                               F   \n",
       "448                               NC                              NR   \n",
       "449                            -4.75                              NR   \n",
       "450                            -4.65                              NR   \n",
       "451                            -5.54                              NR   \n",
       "\n",
       "    High Mobility Composite Watermark School_Year  \n",
       "447                   -6.09       NaN   2015-2016  \n",
       "448                      NC       NaN   2015-2016  \n",
       "449                      NC       NaN   2015-2016  \n",
       "450                      NC       NaN   2015-2016  \n",
       "451                      NC       NaN   2015-2016  "
      ]
     },
     "execution_count": 36,
     "metadata": {},
     "output_type": "execute_result"
    }
   ],
   "source": [
    "# Filtering the data for cleaveland district\n",
    "df_BVA15_16 = df_BVA15_16.loc[df_BVA15_16['District IRN'] == 43786]\n",
    "df_BVA15_16.head()"
   ]
  },
  {
   "cell_type": "code",
   "execution_count": 37,
   "metadata": {},
   "outputs": [
    {
     "data": {
      "text/plain": [
       "Index(['District IRN', 'District Name', 'Building IRN', 'Building Name',\n",
       "       'County', 'Region', 'Overall Value Added Grade', 'Overall Composite',\n",
       "       'Gifted Value Added Grade', 'Gifted Composite',\n",
       "       'Students with Disabilities Value Added Grade',\n",
       "       'Students with Disabilities composite', 'Lowest 20% Value Added Grade',\n",
       "       'Lowest 20% Value Added Composite', 'High Mobility Value Added Grade',\n",
       "       'High Mobility Composite', 'Watermark', 'School_Year'],\n",
       "      dtype='object')"
      ]
     },
     "execution_count": 37,
     "metadata": {},
     "output_type": "execute_result"
    }
   ],
   "source": [
    "#Checking the column names\n",
    "df_BVA15_16.columns"
   ]
  },
  {
   "cell_type": "code",
   "execution_count": 38,
   "metadata": {},
   "outputs": [
    {
     "data": {
      "text/html": [
       "<div>\n",
       "<style scoped>\n",
       "    .dataframe tbody tr th:only-of-type {\n",
       "        vertical-align: middle;\n",
       "    }\n",
       "\n",
       "    .dataframe tbody tr th {\n",
       "        vertical-align: top;\n",
       "    }\n",
       "\n",
       "    .dataframe thead th {\n",
       "        text-align: right;\n",
       "    }\n",
       "</style>\n",
       "<table border=\"1\" class=\"dataframe\">\n",
       "  <thead>\n",
       "    <tr style=\"text-align: right;\">\n",
       "      <th></th>\n",
       "      <th>District IRN</th>\n",
       "      <th>Building IRN</th>\n",
       "      <th>Building Name</th>\n",
       "      <th>Overall Value Added Grade</th>\n",
       "      <th>School_Year</th>\n",
       "    </tr>\n",
       "  </thead>\n",
       "  <tbody>\n",
       "    <tr>\n",
       "      <th>447</th>\n",
       "      <td>43786</td>\n",
       "      <td>224</td>\n",
       "      <td>Adlai Stevenson School</td>\n",
       "      <td>F</td>\n",
       "      <td>2015-2016</td>\n",
       "    </tr>\n",
       "    <tr>\n",
       "      <th>448</th>\n",
       "      <td>43786</td>\n",
       "      <td>318</td>\n",
       "      <td>Menlo Park Academy</td>\n",
       "      <td>C</td>\n",
       "      <td>2015-2016</td>\n",
       "    </tr>\n",
       "    <tr>\n",
       "      <th>449</th>\n",
       "      <td>43786</td>\n",
       "      <td>489</td>\n",
       "      <td>Almira</td>\n",
       "      <td>F</td>\n",
       "      <td>2015-2016</td>\n",
       "    </tr>\n",
       "    <tr>\n",
       "      <th>450</th>\n",
       "      <td>43786</td>\n",
       "      <td>729</td>\n",
       "      <td>Andrew J Rickoff</td>\n",
       "      <td>F</td>\n",
       "      <td>2015-2016</td>\n",
       "    </tr>\n",
       "    <tr>\n",
       "      <th>451</th>\n",
       "      <td>43786</td>\n",
       "      <td>828</td>\n",
       "      <td>Anton Grdina</td>\n",
       "      <td>F</td>\n",
       "      <td>2015-2016</td>\n",
       "    </tr>\n",
       "  </tbody>\n",
       "</table>\n",
       "</div>"
      ],
      "text/plain": [
       "     District IRN  Building IRN           Building Name  \\\n",
       "447         43786           224  Adlai Stevenson School   \n",
       "448         43786           318      Menlo Park Academy   \n",
       "449         43786           489                  Almira   \n",
       "450         43786           729        Andrew J Rickoff   \n",
       "451         43786           828            Anton Grdina   \n",
       "\n",
       "    Overall Value Added Grade School_Year  \n",
       "447                         F   2015-2016  \n",
       "448                         C   2015-2016  \n",
       "449                         F   2015-2016  \n",
       "450                         F   2015-2016  \n",
       "451                         F   2015-2016  "
      ]
     },
     "execution_count": 38,
     "metadata": {},
     "output_type": "execute_result"
    }
   ],
   "source": [
    "# Selecting only 5 columns thats required for furture steps\n",
    "df_BVA15_16 = df_BVA15_16[['District IRN', 'Building IRN', 'Building Name', 'Overall Value Added Grade', 'School_Year']]\n",
    "df_BVA15_16.head()"
   ]
  },
  {
   "cell_type": "code",
   "execution_count": 39,
   "metadata": {},
   "outputs": [
    {
     "data": {
      "text/plain": [
       "(117, 5)"
      ]
     },
     "execution_count": 39,
     "metadata": {},
     "output_type": "execute_result"
    }
   ],
   "source": [
    "#Find out the shape\n",
    "df_BVA15_16.shape"
   ]
  },
  {
   "cell_type": "code",
   "execution_count": null,
   "metadata": {},
   "outputs": [],
   "source": []
  },
  {
   "cell_type": "markdown",
   "metadata": {},
   "source": [
    "### Value Added Grade 2016-2017 Data Cleaning  & Preprocessing"
   ]
  },
  {
   "cell_type": "code",
   "execution_count": 40,
   "metadata": {},
   "outputs": [
    {
     "data": {
      "text/html": [
       "<div>\n",
       "<style scoped>\n",
       "    .dataframe tbody tr th:only-of-type {\n",
       "        vertical-align: middle;\n",
       "    }\n",
       "\n",
       "    .dataframe tbody tr th {\n",
       "        vertical-align: top;\n",
       "    }\n",
       "\n",
       "    .dataframe thead th {\n",
       "        text-align: right;\n",
       "    }\n",
       "</style>\n",
       "<table border=\"1\" class=\"dataframe\">\n",
       "  <thead>\n",
       "    <tr style=\"text-align: right;\">\n",
       "      <th></th>\n",
       "      <th>District IRN</th>\n",
       "      <th>District Name</th>\n",
       "      <th>Building IRN</th>\n",
       "      <th>Building Name</th>\n",
       "      <th>County</th>\n",
       "      <th>Region</th>\n",
       "      <th>Overall Value Added Grade</th>\n",
       "      <th>Overall Composite</th>\n",
       "      <th>Gifted Value Added Grade</th>\n",
       "      <th>Gifted Composite</th>\n",
       "      <th>Students with Disabilities Value Added Grade</th>\n",
       "      <th>Students with Disabilities composite</th>\n",
       "      <th>Lowest 20% Value Added Grade</th>\n",
       "      <th>Lowest 20% Value Added Composite</th>\n",
       "      <th>High Mobility Value Added Grade</th>\n",
       "      <th>High Mobility Composite</th>\n",
       "      <th>Watermark</th>\n",
       "    </tr>\n",
       "  </thead>\n",
       "  <tbody>\n",
       "    <tr>\n",
       "      <th>0</th>\n",
       "      <td>138</td>\n",
       "      <td>Pathway School of Discovery</td>\n",
       "      <td>138</td>\n",
       "      <td>Pathway School of Discovery</td>\n",
       "      <td>Montgomery</td>\n",
       "      <td>Region 10</td>\n",
       "      <td>C</td>\n",
       "      <td>0.18</td>\n",
       "      <td>NR</td>\n",
       "      <td>NC</td>\n",
       "      <td>C</td>\n",
       "      <td>-0.36</td>\n",
       "      <td>C</td>\n",
       "      <td>0.38</td>\n",
       "      <td>NR</td>\n",
       "      <td>NC</td>\n",
       "      <td>NaN</td>\n",
       "    </tr>\n",
       "    <tr>\n",
       "      <th>1</th>\n",
       "      <td>139</td>\n",
       "      <td>Alliance Academy of Cincinnati</td>\n",
       "      <td>139</td>\n",
       "      <td>Alliance Academy of Cincinnati</td>\n",
       "      <td>Hamilton</td>\n",
       "      <td>Region 13</td>\n",
       "      <td>F</td>\n",
       "      <td>-5.34</td>\n",
       "      <td>NR</td>\n",
       "      <td>NC</td>\n",
       "      <td>F</td>\n",
       "      <td>-2.37</td>\n",
       "      <td>F</td>\n",
       "      <td>-2.49</td>\n",
       "      <td>NR</td>\n",
       "      <td>NC</td>\n",
       "      <td>NaN</td>\n",
       "    </tr>\n",
       "    <tr>\n",
       "      <th>2</th>\n",
       "      <td>222</td>\n",
       "      <td>Wildwood Environmental Academy</td>\n",
       "      <td>222</td>\n",
       "      <td>Wildwood Environmental Academy</td>\n",
       "      <td>Lucas</td>\n",
       "      <td>Region 1</td>\n",
       "      <td>A</td>\n",
       "      <td>2.11</td>\n",
       "      <td>NR</td>\n",
       "      <td>NC</td>\n",
       "      <td>F</td>\n",
       "      <td>-2.34</td>\n",
       "      <td>C</td>\n",
       "      <td>-0.05</td>\n",
       "      <td>NR</td>\n",
       "      <td>NC</td>\n",
       "      <td>NaN</td>\n",
       "    </tr>\n",
       "    <tr>\n",
       "      <th>3</th>\n",
       "      <td>236</td>\n",
       "      <td>Ohio Connections Academy, Inc</td>\n",
       "      <td>236</td>\n",
       "      <td>Ohio Connections Academy, Inc</td>\n",
       "      <td>Cuyahoga</td>\n",
       "      <td>Region 11</td>\n",
       "      <td>F</td>\n",
       "      <td>-13.89</td>\n",
       "      <td>NR</td>\n",
       "      <td>NC</td>\n",
       "      <td>F</td>\n",
       "      <td>-5.03</td>\n",
       "      <td>D</td>\n",
       "      <td>-1.47</td>\n",
       "      <td>NR</td>\n",
       "      <td>NC</td>\n",
       "      <td>NaN</td>\n",
       "    </tr>\n",
       "    <tr>\n",
       "      <th>4</th>\n",
       "      <td>296</td>\n",
       "      <td>Summit Academy Community School-Columbus</td>\n",
       "      <td>296</td>\n",
       "      <td>Summit Academy Community School-Columbus</td>\n",
       "      <td>Franklin</td>\n",
       "      <td>Region 11</td>\n",
       "      <td>F</td>\n",
       "      <td>-2.13</td>\n",
       "      <td>NR</td>\n",
       "      <td>NC</td>\n",
       "      <td>C</td>\n",
       "      <td>-0.57</td>\n",
       "      <td>C</td>\n",
       "      <td>-0.21</td>\n",
       "      <td>NR</td>\n",
       "      <td>NC</td>\n",
       "      <td>NaN</td>\n",
       "    </tr>\n",
       "  </tbody>\n",
       "</table>\n",
       "</div>"
      ],
      "text/plain": [
       "   District IRN                             District Name  Building IRN  \\\n",
       "0           138               Pathway School of Discovery           138   \n",
       "1           139            Alliance Academy of Cincinnati           139   \n",
       "2           222            Wildwood Environmental Academy           222   \n",
       "3           236             Ohio Connections Academy, Inc           236   \n",
       "4           296  Summit Academy Community School-Columbus           296   \n",
       "\n",
       "                              Building Name      County     Region  \\\n",
       "0               Pathway School of Discovery  Montgomery  Region 10   \n",
       "1            Alliance Academy of Cincinnati    Hamilton  Region 13   \n",
       "2            Wildwood Environmental Academy       Lucas   Region 1   \n",
       "3             Ohio Connections Academy, Inc    Cuyahoga  Region 11   \n",
       "4  Summit Academy Community School-Columbus    Franklin  Region 11   \n",
       "\n",
       "  Overall Value Added Grade Overall Composite Gifted Value Added Grade  \\\n",
       "0                         C              0.18                       NR   \n",
       "1                         F             -5.34                       NR   \n",
       "2                         A              2.11                       NR   \n",
       "3                         F            -13.89                       NR   \n",
       "4                         F             -2.13                       NR   \n",
       "\n",
       "  Gifted Composite Students with Disabilities Value Added Grade  \\\n",
       "0               NC                                            C   \n",
       "1               NC                                            F   \n",
       "2               NC                                            F   \n",
       "3               NC                                            F   \n",
       "4               NC                                            C   \n",
       "\n",
       "  Students with Disabilities composite Lowest 20% Value Added Grade  \\\n",
       "0                                -0.36                            C   \n",
       "1                                -2.37                            F   \n",
       "2                                -2.34                            C   \n",
       "3                                -5.03                            D   \n",
       "4                                -0.57                            C   \n",
       "\n",
       "  Lowest 20% Value Added Composite High Mobility Value Added Grade  \\\n",
       "0                             0.38                              NR   \n",
       "1                            -2.49                              NR   \n",
       "2                            -0.05                              NR   \n",
       "3                            -1.47                              NR   \n",
       "4                            -0.21                              NR   \n",
       "\n",
       "  High Mobility Composite Watermark  \n",
       "0                      NC       NaN  \n",
       "1                      NC       NaN  \n",
       "2                      NC       NaN  \n",
       "3                      NC       NaN  \n",
       "4                      NC       NaN  "
      ]
     },
     "execution_count": 40,
     "metadata": {},
     "output_type": "execute_result"
    }
   ],
   "source": [
    "#Importing Value Added data for 2016-2017\n",
    "df_BVA16_17 = pd.read_excel(r'C:/Users/patil/Desktop/CMDS Skills Assessment/Data/BUILDING_VA_2016_2017.xls')\n",
    "df_BVA16_17.head()"
   ]
  },
  {
   "cell_type": "code",
   "execution_count": 41,
   "metadata": {},
   "outputs": [
    {
     "data": {
      "text/plain": [
       "(3374, 17)"
      ]
     },
     "execution_count": 41,
     "metadata": {},
     "output_type": "execute_result"
    }
   ],
   "source": [
    "#Find out the shape\n",
    "df_BVA16_17.shape"
   ]
  },
  {
   "cell_type": "code",
   "execution_count": 42,
   "metadata": {},
   "outputs": [],
   "source": [
    "#Adding School Year Column\n",
    "df_BVA16_17['School_Year'] = '2016-2017'"
   ]
  },
  {
   "cell_type": "code",
   "execution_count": 43,
   "metadata": {},
   "outputs": [
    {
     "data": {
      "text/html": [
       "<div>\n",
       "<style scoped>\n",
       "    .dataframe tbody tr th:only-of-type {\n",
       "        vertical-align: middle;\n",
       "    }\n",
       "\n",
       "    .dataframe tbody tr th {\n",
       "        vertical-align: top;\n",
       "    }\n",
       "\n",
       "    .dataframe thead th {\n",
       "        text-align: right;\n",
       "    }\n",
       "</style>\n",
       "<table border=\"1\" class=\"dataframe\">\n",
       "  <thead>\n",
       "    <tr style=\"text-align: right;\">\n",
       "      <th></th>\n",
       "      <th>District IRN</th>\n",
       "      <th>District Name</th>\n",
       "      <th>Building IRN</th>\n",
       "      <th>Building Name</th>\n",
       "      <th>County</th>\n",
       "      <th>Region</th>\n",
       "      <th>Overall Value Added Grade</th>\n",
       "      <th>Overall Composite</th>\n",
       "      <th>Gifted Value Added Grade</th>\n",
       "      <th>Gifted Composite</th>\n",
       "      <th>Students with Disabilities Value Added Grade</th>\n",
       "      <th>Students with Disabilities composite</th>\n",
       "      <th>Lowest 20% Value Added Grade</th>\n",
       "      <th>Lowest 20% Value Added Composite</th>\n",
       "      <th>High Mobility Value Added Grade</th>\n",
       "      <th>High Mobility Composite</th>\n",
       "      <th>Watermark</th>\n",
       "      <th>School_Year</th>\n",
       "    </tr>\n",
       "  </thead>\n",
       "  <tbody>\n",
       "    <tr>\n",
       "      <th>439</th>\n",
       "      <td>43786</td>\n",
       "      <td>Cleveland Municipal City</td>\n",
       "      <td>224</td>\n",
       "      <td>Adlai Stevenson School</td>\n",
       "      <td>Cuyahoga</td>\n",
       "      <td>Region 3</td>\n",
       "      <td>F</td>\n",
       "      <td>-8.05</td>\n",
       "      <td>NR</td>\n",
       "      <td>NC</td>\n",
       "      <td>F</td>\n",
       "      <td>-2.79</td>\n",
       "      <td>F</td>\n",
       "      <td>-5.50</td>\n",
       "      <td>NR</td>\n",
       "      <td>NC</td>\n",
       "      <td>NaN</td>\n",
       "      <td>2016-2017</td>\n",
       "    </tr>\n",
       "    <tr>\n",
       "      <th>440</th>\n",
       "      <td>43786</td>\n",
       "      <td>Cleveland Municipal City</td>\n",
       "      <td>318</td>\n",
       "      <td>Menlo Park Academy</td>\n",
       "      <td>Cuyahoga</td>\n",
       "      <td>Region 3</td>\n",
       "      <td>F</td>\n",
       "      <td>-10.14</td>\n",
       "      <td>F</td>\n",
       "      <td>-10.13</td>\n",
       "      <td>NR</td>\n",
       "      <td>NC</td>\n",
       "      <td>NR</td>\n",
       "      <td>NC</td>\n",
       "      <td>NR</td>\n",
       "      <td>NC</td>\n",
       "      <td>NaN</td>\n",
       "      <td>2016-2017</td>\n",
       "    </tr>\n",
       "    <tr>\n",
       "      <th>441</th>\n",
       "      <td>43786</td>\n",
       "      <td>Cleveland Municipal City</td>\n",
       "      <td>489</td>\n",
       "      <td>Almira</td>\n",
       "      <td>Cuyahoga</td>\n",
       "      <td>Region 3</td>\n",
       "      <td>F</td>\n",
       "      <td>-9.32</td>\n",
       "      <td>NR</td>\n",
       "      <td>NC</td>\n",
       "      <td>F</td>\n",
       "      <td>-4.95</td>\n",
       "      <td>F</td>\n",
       "      <td>-6.35</td>\n",
       "      <td>NR</td>\n",
       "      <td>NC</td>\n",
       "      <td>NaN</td>\n",
       "      <td>2016-2017</td>\n",
       "    </tr>\n",
       "    <tr>\n",
       "      <th>442</th>\n",
       "      <td>43786</td>\n",
       "      <td>Cleveland Municipal City</td>\n",
       "      <td>729</td>\n",
       "      <td>Andrew J Rickoff</td>\n",
       "      <td>Cuyahoga</td>\n",
       "      <td>Region 3</td>\n",
       "      <td>F</td>\n",
       "      <td>-7.93</td>\n",
       "      <td>NR</td>\n",
       "      <td>NC</td>\n",
       "      <td>F</td>\n",
       "      <td>-5.60</td>\n",
       "      <td>F</td>\n",
       "      <td>-6.33</td>\n",
       "      <td>F</td>\n",
       "      <td>-2.75</td>\n",
       "      <td>NaN</td>\n",
       "      <td>2016-2017</td>\n",
       "    </tr>\n",
       "    <tr>\n",
       "      <th>443</th>\n",
       "      <td>43786</td>\n",
       "      <td>Cleveland Municipal City</td>\n",
       "      <td>828</td>\n",
       "      <td>Anton Grdina</td>\n",
       "      <td>Cuyahoga</td>\n",
       "      <td>Region 3</td>\n",
       "      <td>F</td>\n",
       "      <td>-8.68</td>\n",
       "      <td>NR</td>\n",
       "      <td>NC</td>\n",
       "      <td>C</td>\n",
       "      <td>-0.44</td>\n",
       "      <td>F</td>\n",
       "      <td>-7.01</td>\n",
       "      <td>NR</td>\n",
       "      <td>NC</td>\n",
       "      <td>NaN</td>\n",
       "      <td>2016-2017</td>\n",
       "    </tr>\n",
       "  </tbody>\n",
       "</table>\n",
       "</div>"
      ],
      "text/plain": [
       "     District IRN             District Name  Building IRN  \\\n",
       "439         43786  Cleveland Municipal City           224   \n",
       "440         43786  Cleveland Municipal City           318   \n",
       "441         43786  Cleveland Municipal City           489   \n",
       "442         43786  Cleveland Municipal City           729   \n",
       "443         43786  Cleveland Municipal City           828   \n",
       "\n",
       "              Building Name    County    Region Overall Value Added Grade  \\\n",
       "439  Adlai Stevenson School  Cuyahoga  Region 3                         F   \n",
       "440      Menlo Park Academy  Cuyahoga  Region 3                         F   \n",
       "441                  Almira  Cuyahoga  Region 3                         F   \n",
       "442        Andrew J Rickoff  Cuyahoga  Region 3                         F   \n",
       "443            Anton Grdina  Cuyahoga  Region 3                         F   \n",
       "\n",
       "    Overall Composite Gifted Value Added Grade Gifted Composite  \\\n",
       "439             -8.05                       NR               NC   \n",
       "440            -10.14                        F           -10.13   \n",
       "441             -9.32                       NR               NC   \n",
       "442             -7.93                       NR               NC   \n",
       "443             -8.68                       NR               NC   \n",
       "\n",
       "    Students with Disabilities Value Added Grade  \\\n",
       "439                                            F   \n",
       "440                                           NR   \n",
       "441                                            F   \n",
       "442                                            F   \n",
       "443                                            C   \n",
       "\n",
       "    Students with Disabilities composite Lowest 20% Value Added Grade  \\\n",
       "439                                -2.79                            F   \n",
       "440                                   NC                           NR   \n",
       "441                                -4.95                            F   \n",
       "442                                -5.60                            F   \n",
       "443                                -0.44                            F   \n",
       "\n",
       "    Lowest 20% Value Added Composite High Mobility Value Added Grade  \\\n",
       "439                            -5.50                              NR   \n",
       "440                               NC                              NR   \n",
       "441                            -6.35                              NR   \n",
       "442                            -6.33                               F   \n",
       "443                            -7.01                              NR   \n",
       "\n",
       "    High Mobility Composite Watermark School_Year  \n",
       "439                      NC       NaN   2016-2017  \n",
       "440                      NC       NaN   2016-2017  \n",
       "441                      NC       NaN   2016-2017  \n",
       "442                   -2.75       NaN   2016-2017  \n",
       "443                      NC       NaN   2016-2017  "
      ]
     },
     "execution_count": 43,
     "metadata": {},
     "output_type": "execute_result"
    }
   ],
   "source": [
    "# Filtering the data for cleaveland district\n",
    "df_BVA16_17 = df_BVA16_17.loc[df_BVA16_17['District IRN'] == 43786]\n",
    "df_BVA16_17.head()"
   ]
  },
  {
   "cell_type": "code",
   "execution_count": 44,
   "metadata": {},
   "outputs": [
    {
     "data": {
      "text/html": [
       "<div>\n",
       "<style scoped>\n",
       "    .dataframe tbody tr th:only-of-type {\n",
       "        vertical-align: middle;\n",
       "    }\n",
       "\n",
       "    .dataframe tbody tr th {\n",
       "        vertical-align: top;\n",
       "    }\n",
       "\n",
       "    .dataframe thead th {\n",
       "        text-align: right;\n",
       "    }\n",
       "</style>\n",
       "<table border=\"1\" class=\"dataframe\">\n",
       "  <thead>\n",
       "    <tr style=\"text-align: right;\">\n",
       "      <th></th>\n",
       "      <th>District IRN</th>\n",
       "      <th>Building IRN</th>\n",
       "      <th>Building Name</th>\n",
       "      <th>Overall Value Added Grade</th>\n",
       "      <th>School_Year</th>\n",
       "    </tr>\n",
       "  </thead>\n",
       "  <tbody>\n",
       "    <tr>\n",
       "      <th>439</th>\n",
       "      <td>43786</td>\n",
       "      <td>224</td>\n",
       "      <td>Adlai Stevenson School</td>\n",
       "      <td>F</td>\n",
       "      <td>2016-2017</td>\n",
       "    </tr>\n",
       "    <tr>\n",
       "      <th>440</th>\n",
       "      <td>43786</td>\n",
       "      <td>318</td>\n",
       "      <td>Menlo Park Academy</td>\n",
       "      <td>F</td>\n",
       "      <td>2016-2017</td>\n",
       "    </tr>\n",
       "    <tr>\n",
       "      <th>441</th>\n",
       "      <td>43786</td>\n",
       "      <td>489</td>\n",
       "      <td>Almira</td>\n",
       "      <td>F</td>\n",
       "      <td>2016-2017</td>\n",
       "    </tr>\n",
       "    <tr>\n",
       "      <th>442</th>\n",
       "      <td>43786</td>\n",
       "      <td>729</td>\n",
       "      <td>Andrew J Rickoff</td>\n",
       "      <td>F</td>\n",
       "      <td>2016-2017</td>\n",
       "    </tr>\n",
       "    <tr>\n",
       "      <th>443</th>\n",
       "      <td>43786</td>\n",
       "      <td>828</td>\n",
       "      <td>Anton Grdina</td>\n",
       "      <td>F</td>\n",
       "      <td>2016-2017</td>\n",
       "    </tr>\n",
       "  </tbody>\n",
       "</table>\n",
       "</div>"
      ],
      "text/plain": [
       "     District IRN  Building IRN           Building Name  \\\n",
       "439         43786           224  Adlai Stevenson School   \n",
       "440         43786           318      Menlo Park Academy   \n",
       "441         43786           489                  Almira   \n",
       "442         43786           729        Andrew J Rickoff   \n",
       "443         43786           828            Anton Grdina   \n",
       "\n",
       "    Overall Value Added Grade School_Year  \n",
       "439                         F   2016-2017  \n",
       "440                         F   2016-2017  \n",
       "441                         F   2016-2017  \n",
       "442                         F   2016-2017  \n",
       "443                         F   2016-2017  "
      ]
     },
     "execution_count": 44,
     "metadata": {},
     "output_type": "execute_result"
    }
   ],
   "source": [
    "# Selecting only 5 columns thats required for furture steps\n",
    "df_BVA16_17 = df_BVA16_17[['District IRN', 'Building IRN', 'Building Name', 'Overall Value Added Grade', 'School_Year']]\n",
    "df_BVA16_17.head()"
   ]
  },
  {
   "cell_type": "code",
   "execution_count": 45,
   "metadata": {},
   "outputs": [
    {
     "data": {
      "text/plain": [
       "(119, 5)"
      ]
     },
     "execution_count": 45,
     "metadata": {},
     "output_type": "execute_result"
    }
   ],
   "source": [
    "#Find out the shape\n",
    "df_BVA16_17.shape"
   ]
  },
  {
   "cell_type": "code",
   "execution_count": null,
   "metadata": {},
   "outputs": [],
   "source": []
  },
  {
   "cell_type": "markdown",
   "metadata": {},
   "source": [
    "### Value Added Grade 2017-2018 Data Cleaning  & Preprocessing"
   ]
  },
  {
   "cell_type": "code",
   "execution_count": 46,
   "metadata": {},
   "outputs": [
    {
     "name": "stderr",
     "output_type": "stream",
     "text": [
      "C:\\Users\\patil\\anaconda3\\lib\\site-packages\\openpyxl\\worksheet\\header_footer.py:48: UserWarning: Cannot parse header or footer so it will be ignored\n",
      "  warn(\"\"\"Cannot parse header or footer so it will be ignored\"\"\")\n"
     ]
    },
    {
     "data": {
      "text/html": [
       "<div>\n",
       "<style scoped>\n",
       "    .dataframe tbody tr th:only-of-type {\n",
       "        vertical-align: middle;\n",
       "    }\n",
       "\n",
       "    .dataframe tbody tr th {\n",
       "        vertical-align: top;\n",
       "    }\n",
       "\n",
       "    .dataframe thead th {\n",
       "        text-align: right;\n",
       "    }\n",
       "</style>\n",
       "<table border=\"1\" class=\"dataframe\">\n",
       "  <thead>\n",
       "    <tr style=\"text-align: right;\">\n",
       "      <th></th>\n",
       "      <th>District IRN</th>\n",
       "      <th>District Name</th>\n",
       "      <th>Building IRN</th>\n",
       "      <th>Building Name</th>\n",
       "      <th>County</th>\n",
       "      <th>Region</th>\n",
       "      <th>Overall Value Added Grade</th>\n",
       "      <th>Overall Composite</th>\n",
       "      <th>Gifted Value Added Grade</th>\n",
       "      <th>Gifted Composite</th>\n",
       "      <th>Students with Disabilities Value Added Grade</th>\n",
       "      <th>Students with Disabilities Composite</th>\n",
       "      <th>Lowest 20% Value Added Grade</th>\n",
       "      <th>Lowest 20% Value Added Composite</th>\n",
       "      <th>High Mobility Value Added Grade</th>\n",
       "      <th>High Mobility Composite</th>\n",
       "      <th>Watermark</th>\n",
       "    </tr>\n",
       "  </thead>\n",
       "  <tbody>\n",
       "    <tr>\n",
       "      <th>0</th>\n",
       "      <td>131</td>\n",
       "      <td>Glass City Academy</td>\n",
       "      <td>131</td>\n",
       "      <td>Glass City Academy</td>\n",
       "      <td>Lucas</td>\n",
       "      <td>Region 1</td>\n",
       "      <td>F</td>\n",
       "      <td>-3.47</td>\n",
       "      <td>NR</td>\n",
       "      <td>NC</td>\n",
       "      <td>NR</td>\n",
       "      <td>NC</td>\n",
       "      <td>D</td>\n",
       "      <td>-1.59</td>\n",
       "      <td>NR</td>\n",
       "      <td>NC</td>\n",
       "      <td>NaN</td>\n",
       "    </tr>\n",
       "    <tr>\n",
       "      <th>1</th>\n",
       "      <td>138</td>\n",
       "      <td>Pathway School of Discovery</td>\n",
       "      <td>138</td>\n",
       "      <td>Pathway School of Discovery</td>\n",
       "      <td>Montgomery</td>\n",
       "      <td>Region 10</td>\n",
       "      <td>F</td>\n",
       "      <td>-5.67</td>\n",
       "      <td>NR</td>\n",
       "      <td>NC</td>\n",
       "      <td>C</td>\n",
       "      <td>-0.13</td>\n",
       "      <td>F</td>\n",
       "      <td>-2.60</td>\n",
       "      <td>NR</td>\n",
       "      <td>NC</td>\n",
       "      <td>NaN</td>\n",
       "    </tr>\n",
       "    <tr>\n",
       "      <th>2</th>\n",
       "      <td>139</td>\n",
       "      <td>Alliance Academy of Cincinnati</td>\n",
       "      <td>139</td>\n",
       "      <td>Alliance Academy of Cincinnati</td>\n",
       "      <td>Hamilton</td>\n",
       "      <td>Region 13</td>\n",
       "      <td>F</td>\n",
       "      <td>-8.56</td>\n",
       "      <td>NR</td>\n",
       "      <td>NC</td>\n",
       "      <td>F</td>\n",
       "      <td>-3.77</td>\n",
       "      <td>F</td>\n",
       "      <td>-4.17</td>\n",
       "      <td>NR</td>\n",
       "      <td>NC</td>\n",
       "      <td>NaN</td>\n",
       "    </tr>\n",
       "    <tr>\n",
       "      <th>3</th>\n",
       "      <td>222</td>\n",
       "      <td>Wildwood Environmental Academy</td>\n",
       "      <td>222</td>\n",
       "      <td>Wildwood Environmental Academy</td>\n",
       "      <td>Lucas</td>\n",
       "      <td>Region 1</td>\n",
       "      <td>B</td>\n",
       "      <td>1.32</td>\n",
       "      <td>NR</td>\n",
       "      <td>NC</td>\n",
       "      <td>F</td>\n",
       "      <td>-2.51</td>\n",
       "      <td>C</td>\n",
       "      <td>0.87</td>\n",
       "      <td>NR</td>\n",
       "      <td>NC</td>\n",
       "      <td>NaN</td>\n",
       "    </tr>\n",
       "    <tr>\n",
       "      <th>4</th>\n",
       "      <td>236</td>\n",
       "      <td>Ohio Connections Academy, Inc</td>\n",
       "      <td>236</td>\n",
       "      <td>Ohio Connections Academy, Inc</td>\n",
       "      <td>Cuyahoga</td>\n",
       "      <td>Region 11</td>\n",
       "      <td>F</td>\n",
       "      <td>-25.65</td>\n",
       "      <td>NR</td>\n",
       "      <td>NC</td>\n",
       "      <td>F</td>\n",
       "      <td>-7.21</td>\n",
       "      <td>F</td>\n",
       "      <td>-7.13</td>\n",
       "      <td>NR</td>\n",
       "      <td>-7.65</td>\n",
       "      <td>NaN</td>\n",
       "    </tr>\n",
       "  </tbody>\n",
       "</table>\n",
       "</div>"
      ],
      "text/plain": [
       "   District IRN                   District Name  Building IRN  \\\n",
       "0           131              Glass City Academy           131   \n",
       "1           138     Pathway School of Discovery           138   \n",
       "2           139  Alliance Academy of Cincinnati           139   \n",
       "3           222  Wildwood Environmental Academy           222   \n",
       "4           236   Ohio Connections Academy, Inc           236   \n",
       "\n",
       "                    Building Name      County     Region  \\\n",
       "0              Glass City Academy       Lucas   Region 1   \n",
       "1     Pathway School of Discovery  Montgomery  Region 10   \n",
       "2  Alliance Academy of Cincinnati    Hamilton  Region 13   \n",
       "3  Wildwood Environmental Academy       Lucas   Region 1   \n",
       "4   Ohio Connections Academy, Inc    Cuyahoga  Region 11   \n",
       "\n",
       "  Overall Value Added Grade Overall Composite Gifted Value Added Grade  \\\n",
       "0                         F             -3.47                       NR   \n",
       "1                         F             -5.67                       NR   \n",
       "2                         F             -8.56                       NR   \n",
       "3                         B              1.32                       NR   \n",
       "4                         F            -25.65                       NR   \n",
       "\n",
       "  Gifted Composite Students with Disabilities Value Added Grade  \\\n",
       "0               NC                                           NR   \n",
       "1               NC                                            C   \n",
       "2               NC                                            F   \n",
       "3               NC                                            F   \n",
       "4               NC                                            F   \n",
       "\n",
       "  Students with Disabilities Composite Lowest 20% Value Added Grade  \\\n",
       "0                                   NC                            D   \n",
       "1                                -0.13                            F   \n",
       "2                                -3.77                            F   \n",
       "3                                -2.51                            C   \n",
       "4                                -7.21                            F   \n",
       "\n",
       "  Lowest 20% Value Added Composite High Mobility Value Added Grade  \\\n",
       "0                            -1.59                              NR   \n",
       "1                            -2.60                              NR   \n",
       "2                            -4.17                              NR   \n",
       "3                             0.87                              NR   \n",
       "4                            -7.13                              NR   \n",
       "\n",
       "  High Mobility Composite Watermark  \n",
       "0                      NC       NaN  \n",
       "1                      NC       NaN  \n",
       "2                      NC       NaN  \n",
       "3                      NC       NaN  \n",
       "4                   -7.65       NaN  "
      ]
     },
     "execution_count": 46,
     "metadata": {},
     "output_type": "execute_result"
    }
   ],
   "source": [
    "#Importing Value Added data for 2017-2018\n",
    "df_BVA17_18 = pd.read_excel(r'C:/Users/patil/Desktop/CMDS Skills Assessment/Data/BUILDING_VA_2017_2018.xlsx')\n",
    "df_BVA17_18.head()"
   ]
  },
  {
   "cell_type": "code",
   "execution_count": 47,
   "metadata": {},
   "outputs": [
    {
     "data": {
      "text/plain": [
       "(3423, 17)"
      ]
     },
     "execution_count": 47,
     "metadata": {},
     "output_type": "execute_result"
    }
   ],
   "source": [
    "#Find out the shape\n",
    "df_BVA17_18.shape"
   ]
  },
  {
   "cell_type": "code",
   "execution_count": 48,
   "metadata": {},
   "outputs": [],
   "source": [
    "#Adding School Year Column\n",
    "df_BVA17_18['School_Year'] = '2017-2018'"
   ]
  },
  {
   "cell_type": "code",
   "execution_count": 49,
   "metadata": {},
   "outputs": [
    {
     "data": {
      "text/html": [
       "<div>\n",
       "<style scoped>\n",
       "    .dataframe tbody tr th:only-of-type {\n",
       "        vertical-align: middle;\n",
       "    }\n",
       "\n",
       "    .dataframe tbody tr th {\n",
       "        vertical-align: top;\n",
       "    }\n",
       "\n",
       "    .dataframe thead th {\n",
       "        text-align: right;\n",
       "    }\n",
       "</style>\n",
       "<table border=\"1\" class=\"dataframe\">\n",
       "  <thead>\n",
       "    <tr style=\"text-align: right;\">\n",
       "      <th></th>\n",
       "      <th>District IRN</th>\n",
       "      <th>District Name</th>\n",
       "      <th>Building IRN</th>\n",
       "      <th>Building Name</th>\n",
       "      <th>County</th>\n",
       "      <th>Region</th>\n",
       "      <th>Overall Value Added Grade</th>\n",
       "      <th>Overall Composite</th>\n",
       "      <th>Gifted Value Added Grade</th>\n",
       "      <th>Gifted Composite</th>\n",
       "      <th>Students with Disabilities Value Added Grade</th>\n",
       "      <th>Students with Disabilities Composite</th>\n",
       "      <th>Lowest 20% Value Added Grade</th>\n",
       "      <th>Lowest 20% Value Added Composite</th>\n",
       "      <th>High Mobility Value Added Grade</th>\n",
       "      <th>High Mobility Composite</th>\n",
       "      <th>Watermark</th>\n",
       "      <th>School_Year</th>\n",
       "    </tr>\n",
       "  </thead>\n",
       "  <tbody>\n",
       "    <tr>\n",
       "      <th>467</th>\n",
       "      <td>43786</td>\n",
       "      <td>Cleveland Municipal</td>\n",
       "      <td>224</td>\n",
       "      <td>Adlai Stevenson School</td>\n",
       "      <td>Cuyahoga</td>\n",
       "      <td>Region 3</td>\n",
       "      <td>F</td>\n",
       "      <td>-8.39</td>\n",
       "      <td>NR</td>\n",
       "      <td>NC</td>\n",
       "      <td>C</td>\n",
       "      <td>-1.00</td>\n",
       "      <td>F</td>\n",
       "      <td>-5.70</td>\n",
       "      <td>NR</td>\n",
       "      <td>NC</td>\n",
       "      <td>NaN</td>\n",
       "      <td>2017-2018</td>\n",
       "    </tr>\n",
       "    <tr>\n",
       "      <th>468</th>\n",
       "      <td>43786</td>\n",
       "      <td>Cleveland Municipal</td>\n",
       "      <td>318</td>\n",
       "      <td>Menlo Park Academy</td>\n",
       "      <td>Cuyahoga</td>\n",
       "      <td>Region 3</td>\n",
       "      <td>F</td>\n",
       "      <td>-4.99</td>\n",
       "      <td>F</td>\n",
       "      <td>-4.97</td>\n",
       "      <td>NR</td>\n",
       "      <td>NC</td>\n",
       "      <td>NR</td>\n",
       "      <td>NC</td>\n",
       "      <td>NR</td>\n",
       "      <td>NC</td>\n",
       "      <td>NaN</td>\n",
       "      <td>2017-2018</td>\n",
       "    </tr>\n",
       "    <tr>\n",
       "      <th>469</th>\n",
       "      <td>43786</td>\n",
       "      <td>Cleveland Municipal</td>\n",
       "      <td>489</td>\n",
       "      <td>Almira</td>\n",
       "      <td>Cuyahoga</td>\n",
       "      <td>Region 3</td>\n",
       "      <td>F</td>\n",
       "      <td>-7.71</td>\n",
       "      <td>NR</td>\n",
       "      <td>NC</td>\n",
       "      <td>F</td>\n",
       "      <td>-5.33</td>\n",
       "      <td>F</td>\n",
       "      <td>-5.03</td>\n",
       "      <td>NR</td>\n",
       "      <td>0.76</td>\n",
       "      <td>NaN</td>\n",
       "      <td>2017-2018</td>\n",
       "    </tr>\n",
       "    <tr>\n",
       "      <th>470</th>\n",
       "      <td>43786</td>\n",
       "      <td>Cleveland Municipal</td>\n",
       "      <td>729</td>\n",
       "      <td>Andrew J Rickoff</td>\n",
       "      <td>Cuyahoga</td>\n",
       "      <td>Region 3</td>\n",
       "      <td>F</td>\n",
       "      <td>-5.56</td>\n",
       "      <td>NR</td>\n",
       "      <td>NC</td>\n",
       "      <td>F</td>\n",
       "      <td>-5.06</td>\n",
       "      <td>F</td>\n",
       "      <td>-4.82</td>\n",
       "      <td>NR</td>\n",
       "      <td>1.81</td>\n",
       "      <td>NaN</td>\n",
       "      <td>2017-2018</td>\n",
       "    </tr>\n",
       "    <tr>\n",
       "      <th>471</th>\n",
       "      <td>43786</td>\n",
       "      <td>Cleveland Municipal</td>\n",
       "      <td>828</td>\n",
       "      <td>Anton Grdina</td>\n",
       "      <td>Cuyahoga</td>\n",
       "      <td>Region 3</td>\n",
       "      <td>F</td>\n",
       "      <td>-7.57</td>\n",
       "      <td>NR</td>\n",
       "      <td>NC</td>\n",
       "      <td>D</td>\n",
       "      <td>-1.45</td>\n",
       "      <td>F</td>\n",
       "      <td>-5.40</td>\n",
       "      <td>NR</td>\n",
       "      <td>NC</td>\n",
       "      <td>NaN</td>\n",
       "      <td>2017-2018</td>\n",
       "    </tr>\n",
       "  </tbody>\n",
       "</table>\n",
       "</div>"
      ],
      "text/plain": [
       "     District IRN        District Name  Building IRN           Building Name  \\\n",
       "467         43786  Cleveland Municipal           224  Adlai Stevenson School   \n",
       "468         43786  Cleveland Municipal           318      Menlo Park Academy   \n",
       "469         43786  Cleveland Municipal           489                  Almira   \n",
       "470         43786  Cleveland Municipal           729        Andrew J Rickoff   \n",
       "471         43786  Cleveland Municipal           828            Anton Grdina   \n",
       "\n",
       "       County    Region Overall Value Added Grade Overall Composite  \\\n",
       "467  Cuyahoga  Region 3                         F             -8.39   \n",
       "468  Cuyahoga  Region 3                         F             -4.99   \n",
       "469  Cuyahoga  Region 3                         F             -7.71   \n",
       "470  Cuyahoga  Region 3                         F             -5.56   \n",
       "471  Cuyahoga  Region 3                         F             -7.57   \n",
       "\n",
       "    Gifted Value Added Grade Gifted Composite  \\\n",
       "467                       NR               NC   \n",
       "468                        F            -4.97   \n",
       "469                       NR               NC   \n",
       "470                       NR               NC   \n",
       "471                       NR               NC   \n",
       "\n",
       "    Students with Disabilities Value Added Grade  \\\n",
       "467                                            C   \n",
       "468                                           NR   \n",
       "469                                            F   \n",
       "470                                            F   \n",
       "471                                            D   \n",
       "\n",
       "    Students with Disabilities Composite Lowest 20% Value Added Grade  \\\n",
       "467                                -1.00                            F   \n",
       "468                                   NC                           NR   \n",
       "469                                -5.33                            F   \n",
       "470                                -5.06                            F   \n",
       "471                                -1.45                            F   \n",
       "\n",
       "    Lowest 20% Value Added Composite High Mobility Value Added Grade  \\\n",
       "467                            -5.70                              NR   \n",
       "468                               NC                              NR   \n",
       "469                            -5.03                              NR   \n",
       "470                            -4.82                              NR   \n",
       "471                            -5.40                              NR   \n",
       "\n",
       "    High Mobility Composite Watermark School_Year  \n",
       "467                      NC       NaN   2017-2018  \n",
       "468                      NC       NaN   2017-2018  \n",
       "469                    0.76       NaN   2017-2018  \n",
       "470                    1.81       NaN   2017-2018  \n",
       "471                      NC       NaN   2017-2018  "
      ]
     },
     "execution_count": 49,
     "metadata": {},
     "output_type": "execute_result"
    }
   ],
   "source": [
    "# Filtering the data for cleaveland district\n",
    "df_BVA17_18 = df_BVA17_18.loc[df_BVA17_18['District IRN'] == 43786]\n",
    "df_BVA17_18.head()"
   ]
  },
  {
   "cell_type": "code",
   "execution_count": 50,
   "metadata": {},
   "outputs": [
    {
     "data": {
      "text/html": [
       "<div>\n",
       "<style scoped>\n",
       "    .dataframe tbody tr th:only-of-type {\n",
       "        vertical-align: middle;\n",
       "    }\n",
       "\n",
       "    .dataframe tbody tr th {\n",
       "        vertical-align: top;\n",
       "    }\n",
       "\n",
       "    .dataframe thead th {\n",
       "        text-align: right;\n",
       "    }\n",
       "</style>\n",
       "<table border=\"1\" class=\"dataframe\">\n",
       "  <thead>\n",
       "    <tr style=\"text-align: right;\">\n",
       "      <th></th>\n",
       "      <th>District IRN</th>\n",
       "      <th>Building IRN</th>\n",
       "      <th>Building Name</th>\n",
       "      <th>Overall Value Added Grade</th>\n",
       "      <th>School_Year</th>\n",
       "    </tr>\n",
       "  </thead>\n",
       "  <tbody>\n",
       "    <tr>\n",
       "      <th>467</th>\n",
       "      <td>43786</td>\n",
       "      <td>224</td>\n",
       "      <td>Adlai Stevenson School</td>\n",
       "      <td>F</td>\n",
       "      <td>2017-2018</td>\n",
       "    </tr>\n",
       "    <tr>\n",
       "      <th>468</th>\n",
       "      <td>43786</td>\n",
       "      <td>318</td>\n",
       "      <td>Menlo Park Academy</td>\n",
       "      <td>F</td>\n",
       "      <td>2017-2018</td>\n",
       "    </tr>\n",
       "    <tr>\n",
       "      <th>469</th>\n",
       "      <td>43786</td>\n",
       "      <td>489</td>\n",
       "      <td>Almira</td>\n",
       "      <td>F</td>\n",
       "      <td>2017-2018</td>\n",
       "    </tr>\n",
       "    <tr>\n",
       "      <th>470</th>\n",
       "      <td>43786</td>\n",
       "      <td>729</td>\n",
       "      <td>Andrew J Rickoff</td>\n",
       "      <td>F</td>\n",
       "      <td>2017-2018</td>\n",
       "    </tr>\n",
       "    <tr>\n",
       "      <th>471</th>\n",
       "      <td>43786</td>\n",
       "      <td>828</td>\n",
       "      <td>Anton Grdina</td>\n",
       "      <td>F</td>\n",
       "      <td>2017-2018</td>\n",
       "    </tr>\n",
       "  </tbody>\n",
       "</table>\n",
       "</div>"
      ],
      "text/plain": [
       "     District IRN  Building IRN           Building Name  \\\n",
       "467         43786           224  Adlai Stevenson School   \n",
       "468         43786           318      Menlo Park Academy   \n",
       "469         43786           489                  Almira   \n",
       "470         43786           729        Andrew J Rickoff   \n",
       "471         43786           828            Anton Grdina   \n",
       "\n",
       "    Overall Value Added Grade School_Year  \n",
       "467                         F   2017-2018  \n",
       "468                         F   2017-2018  \n",
       "469                         F   2017-2018  \n",
       "470                         F   2017-2018  \n",
       "471                         F   2017-2018  "
      ]
     },
     "execution_count": 50,
     "metadata": {},
     "output_type": "execute_result"
    }
   ],
   "source": [
    "# Selecting only 5 columns thats required for furture steps\n",
    "df_BVA17_18 = df_BVA17_18[['District IRN', 'Building IRN', 'Building Name', 'Overall Value Added Grade', 'School_Year']]\n",
    "df_BVA17_18.head()"
   ]
  },
  {
   "cell_type": "code",
   "execution_count": 51,
   "metadata": {},
   "outputs": [
    {
     "data": {
      "text/plain": [
       "(123, 5)"
      ]
     },
     "execution_count": 51,
     "metadata": {},
     "output_type": "execute_result"
    }
   ],
   "source": [
    "#Find out the shape\n",
    "df_BVA17_18.shape"
   ]
  },
  {
   "cell_type": "markdown",
   "metadata": {},
   "source": [
    "## Dataframe Merging for All Value Added Grade 2015-2016, 2016-2017, 2017-2018 "
   ]
  },
  {
   "cell_type": "code",
   "execution_count": 52,
   "metadata": {},
   "outputs": [
    {
     "data": {
      "text/html": [
       "<div>\n",
       "<style scoped>\n",
       "    .dataframe tbody tr th:only-of-type {\n",
       "        vertical-align: middle;\n",
       "    }\n",
       "\n",
       "    .dataframe tbody tr th {\n",
       "        vertical-align: top;\n",
       "    }\n",
       "\n",
       "    .dataframe thead th {\n",
       "        text-align: right;\n",
       "    }\n",
       "</style>\n",
       "<table border=\"1\" class=\"dataframe\">\n",
       "  <thead>\n",
       "    <tr style=\"text-align: right;\">\n",
       "      <th></th>\n",
       "      <th>District IRN</th>\n",
       "      <th>Building IRN</th>\n",
       "      <th>Building Name</th>\n",
       "      <th>Overall Value Added Grade</th>\n",
       "      <th>School_Year</th>\n",
       "    </tr>\n",
       "  </thead>\n",
       "  <tbody>\n",
       "    <tr>\n",
       "      <th>447</th>\n",
       "      <td>43786</td>\n",
       "      <td>224</td>\n",
       "      <td>Adlai Stevenson School</td>\n",
       "      <td>F</td>\n",
       "      <td>2015-2016</td>\n",
       "    </tr>\n",
       "    <tr>\n",
       "      <th>448</th>\n",
       "      <td>43786</td>\n",
       "      <td>318</td>\n",
       "      <td>Menlo Park Academy</td>\n",
       "      <td>C</td>\n",
       "      <td>2015-2016</td>\n",
       "    </tr>\n",
       "    <tr>\n",
       "      <th>449</th>\n",
       "      <td>43786</td>\n",
       "      <td>489</td>\n",
       "      <td>Almira</td>\n",
       "      <td>F</td>\n",
       "      <td>2015-2016</td>\n",
       "    </tr>\n",
       "    <tr>\n",
       "      <th>450</th>\n",
       "      <td>43786</td>\n",
       "      <td>729</td>\n",
       "      <td>Andrew J Rickoff</td>\n",
       "      <td>F</td>\n",
       "      <td>2015-2016</td>\n",
       "    </tr>\n",
       "    <tr>\n",
       "      <th>451</th>\n",
       "      <td>43786</td>\n",
       "      <td>828</td>\n",
       "      <td>Anton Grdina</td>\n",
       "      <td>F</td>\n",
       "      <td>2015-2016</td>\n",
       "    </tr>\n",
       "  </tbody>\n",
       "</table>\n",
       "</div>"
      ],
      "text/plain": [
       "     District IRN  Building IRN           Building Name  \\\n",
       "447         43786           224  Adlai Stevenson School   \n",
       "448         43786           318      Menlo Park Academy   \n",
       "449         43786           489                  Almira   \n",
       "450         43786           729        Andrew J Rickoff   \n",
       "451         43786           828            Anton Grdina   \n",
       "\n",
       "    Overall Value Added Grade School_Year  \n",
       "447                         F   2015-2016  \n",
       "448                         C   2015-2016  \n",
       "449                         F   2015-2016  \n",
       "450                         F   2015-2016  \n",
       "451                         F   2015-2016  "
      ]
     },
     "execution_count": 52,
     "metadata": {},
     "output_type": "execute_result"
    }
   ],
   "source": [
    "#Appending the enrollment dataset using concat function\n",
    "frames = [df_BVA15_16, df_BVA16_17, df_BVA17_18]\n",
    "\n",
    "df_VA = pd.concat(frames) \n",
    "df_VA.head()"
   ]
  },
  {
   "cell_type": "code",
   "execution_count": 53,
   "metadata": {},
   "outputs": [
    {
     "data": {
      "text/plain": [
       "(359, 5)"
      ]
     },
     "execution_count": 53,
     "metadata": {},
     "output_type": "execute_result"
    }
   ],
   "source": [
    "#Find out the shape\n",
    "df_VA.shape"
   ]
  },
  {
   "cell_type": "code",
   "execution_count": 54,
   "metadata": {},
   "outputs": [
    {
     "data": {
      "text/plain": [
       "Index(['District IRN', 'Building IRN', 'Building Name',\n",
       "       'Overall Value Added Grade', 'School_Year'],\n",
       "      dtype='object')"
      ]
     },
     "execution_count": 54,
     "metadata": {},
     "output_type": "execute_result"
    }
   ],
   "source": [
    "#Find out the column names \n",
    "df_VA.columns"
   ]
  },
  {
   "cell_type": "code",
   "execution_count": 55,
   "metadata": {},
   "outputs": [
    {
     "data": {
      "text/plain": [
       "<bound method Series.unique of 447                    Adlai Stevenson School\n",
       "448                        Menlo Park Academy\n",
       "449                                    Almira\n",
       "450                          Andrew J Rickoff\n",
       "451                              Anton Grdina\n",
       "                        ...                  \n",
       "585             Martin Luther King Jr. Campus\n",
       "586             Intergenerational School, The\n",
       "587                          Citizens Academy\n",
       "588            Horizon Science Acad Cleveland\n",
       "589    Cleveland School of Science & Medicine\n",
       "Name: Building Name, Length: 359, dtype: object>"
      ]
     },
     "execution_count": 55,
     "metadata": {},
     "output_type": "execute_result"
    }
   ],
   "source": [
    "#Checking the unique count for building Name\n",
    "df_VA['Building Name'].unique"
   ]
  },
  {
   "cell_type": "code",
   "execution_count": null,
   "metadata": {},
   "outputs": [],
   "source": []
  },
  {
   "cell_type": "code",
   "execution_count": null,
   "metadata": {},
   "outputs": [],
   "source": []
  },
  {
   "cell_type": "code",
   "execution_count": null,
   "metadata": {},
   "outputs": [],
   "source": []
  },
  {
   "cell_type": "markdown",
   "metadata": {},
   "source": [
    "# Performance Index Percent Data Cleaning & merging 2015-2016, 2016-2017, 2017-2018"
   ]
  },
  {
   "cell_type": "markdown",
   "metadata": {},
   "source": [
    "### Performance Index Percent 2015-2016 Data Cleaning & Preprocessing"
   ]
  },
  {
   "cell_type": "code",
   "execution_count": 56,
   "metadata": {},
   "outputs": [
    {
     "data": {
      "text/html": [
       "<div>\n",
       "<style scoped>\n",
       "    .dataframe tbody tr th:only-of-type {\n",
       "        vertical-align: middle;\n",
       "    }\n",
       "\n",
       "    .dataframe tbody tr th {\n",
       "        vertical-align: top;\n",
       "    }\n",
       "\n",
       "    .dataframe thead th {\n",
       "        text-align: right;\n",
       "    }\n",
       "</style>\n",
       "<table border=\"1\" class=\"dataframe\">\n",
       "  <thead>\n",
       "    <tr style=\"text-align: right;\">\n",
       "      <th></th>\n",
       "      <th>Building IRN</th>\n",
       "      <th>Building Name</th>\n",
       "      <th>District IRN</th>\n",
       "      <th>District Name</th>\n",
       "      <th>County</th>\n",
       "      <th>Region</th>\n",
       "      <th>Address</th>\n",
       "      <th>City and Zip Code</th>\n",
       "      <th>Phone #</th>\n",
       "      <th>Principal</th>\n",
       "      <th>...</th>\n",
       "      <th>Percent of Gifted Students Not Tested</th>\n",
       "      <th>Percent of Gifted Students Below</th>\n",
       "      <th>Percent of Gifted Students Basic</th>\n",
       "      <th>Percent of Gifted Students Proficient</th>\n",
       "      <th>Percent of Gifted Students Accelerated</th>\n",
       "      <th>Percent of Gifted Students Advanced</th>\n",
       "      <th>Percent of Gifted Students Advanced Plus</th>\n",
       "      <th>Performance Index Score 2014-15</th>\n",
       "      <th>Performance Index Score 2013-14</th>\n",
       "      <th>Watermark</th>\n",
       "    </tr>\n",
       "  </thead>\n",
       "  <tbody>\n",
       "    <tr>\n",
       "      <th>0</th>\n",
       "      <td>59</td>\n",
       "      <td>Ada Elementary School</td>\n",
       "      <td>45187</td>\n",
       "      <td>Ada Exempted Village</td>\n",
       "      <td>Hardin</td>\n",
       "      <td>Region 6</td>\n",
       "      <td>435 Grand Ave</td>\n",
       "      <td>Ada, OH, 45810-1013</td>\n",
       "      <td>(419) 634-2341</td>\n",
       "      <td>Robin E. Vanbuskirk</td>\n",
       "      <td>...</td>\n",
       "      <td>0</td>\n",
       "      <td>0</td>\n",
       "      <td>0</td>\n",
       "      <td>2.9</td>\n",
       "      <td>17.1</td>\n",
       "      <td>80</td>\n",
       "      <td>0</td>\n",
       "      <td>96.591</td>\n",
       "      <td>102.149</td>\n",
       "      <td>NaN</td>\n",
       "    </tr>\n",
       "    <tr>\n",
       "      <th>1</th>\n",
       "      <td>67</td>\n",
       "      <td>Ada High School</td>\n",
       "      <td>45187</td>\n",
       "      <td>Ada Exempted Village</td>\n",
       "      <td>Hardin</td>\n",
       "      <td>Region 6</td>\n",
       "      <td>435 Grand Ave</td>\n",
       "      <td>Ada, OH, 45810-1013</td>\n",
       "      <td>(419) 634-2746</td>\n",
       "      <td>Robin E. Vanbuskirk</td>\n",
       "      <td>...</td>\n",
       "      <td>0</td>\n",
       "      <td>0</td>\n",
       "      <td>1.5</td>\n",
       "      <td>10.6</td>\n",
       "      <td>16.7</td>\n",
       "      <td>65.2</td>\n",
       "      <td>6.1</td>\n",
       "      <td>97.984</td>\n",
       "      <td>101.91</td>\n",
       "      <td>NaN</td>\n",
       "    </tr>\n",
       "    <tr>\n",
       "      <th>2</th>\n",
       "      <td>83</td>\n",
       "      <td>Sandusky Middle School</td>\n",
       "      <td>44743</td>\n",
       "      <td>Sandusky City</td>\n",
       "      <td>Erie</td>\n",
       "      <td>Region 2</td>\n",
       "      <td>318 Columbus Ave</td>\n",
       "      <td>Sandusky, OH, 44870-2616</td>\n",
       "      <td>(419) 984-1180</td>\n",
       "      <td>Marie A. Prieto</td>\n",
       "      <td>...</td>\n",
       "      <td>0</td>\n",
       "      <td>2.8</td>\n",
       "      <td>7.4</td>\n",
       "      <td>26.9</td>\n",
       "      <td>29.6</td>\n",
       "      <td>32.4</td>\n",
       "      <td>0.9</td>\n",
       "      <td>64.647</td>\n",
       "      <td>86.229</td>\n",
       "      <td>NaN</td>\n",
       "    </tr>\n",
       "    <tr>\n",
       "      <th>3</th>\n",
       "      <td>102</td>\n",
       "      <td>Meigs Primary School</td>\n",
       "      <td>48520</td>\n",
       "      <td>Meigs Local</td>\n",
       "      <td>Meigs</td>\n",
       "      <td>Region 16</td>\n",
       "      <td>36871 State Route 124</td>\n",
       "      <td>Middleport, OH, 45760-9717</td>\n",
       "      <td>(740) 742-3000</td>\n",
       "      <td>Kristin C. Baer</td>\n",
       "      <td>...</td>\n",
       "      <td>NC</td>\n",
       "      <td>NC</td>\n",
       "      <td>NC</td>\n",
       "      <td>NC</td>\n",
       "      <td>NC</td>\n",
       "      <td>NC</td>\n",
       "      <td>NC</td>\n",
       "      <td>NC</td>\n",
       "      <td>0</td>\n",
       "      <td>NaN</td>\n",
       "    </tr>\n",
       "    <tr>\n",
       "      <th>4</th>\n",
       "      <td>105</td>\n",
       "      <td>Meigs Intermediate School</td>\n",
       "      <td>48520</td>\n",
       "      <td>Meigs Local</td>\n",
       "      <td>Meigs</td>\n",
       "      <td>Region 16</td>\n",
       "      <td>36871 State Route 124</td>\n",
       "      <td>Middleport, OH, 45760-9717</td>\n",
       "      <td>(740) 742-2666</td>\n",
       "      <td>IRENE C. Murphy</td>\n",
       "      <td>...</td>\n",
       "      <td>0</td>\n",
       "      <td>5.7</td>\n",
       "      <td>11.3</td>\n",
       "      <td>22.6</td>\n",
       "      <td>41.5</td>\n",
       "      <td>18.9</td>\n",
       "      <td>0</td>\n",
       "      <td>78.166</td>\n",
       "      <td>87.529</td>\n",
       "      <td>NaN</td>\n",
       "    </tr>\n",
       "  </tbody>\n",
       "</table>\n",
       "<p>5 rows × 32 columns</p>\n",
       "</div>"
      ],
      "text/plain": [
       "   Building IRN              Building Name  District IRN  \\\n",
       "0            59      Ada Elementary School         45187   \n",
       "1            67            Ada High School         45187   \n",
       "2            83     Sandusky Middle School         44743   \n",
       "3           102       Meigs Primary School         48520   \n",
       "4           105  Meigs Intermediate School         48520   \n",
       "\n",
       "          District Name  County     Region                Address  \\\n",
       "0  Ada Exempted Village  Hardin   Region 6          435 Grand Ave   \n",
       "1  Ada Exempted Village  Hardin   Region 6          435 Grand Ave   \n",
       "2         Sandusky City    Erie   Region 2       318 Columbus Ave   \n",
       "3           Meigs Local   Meigs  Region 16  36871 State Route 124   \n",
       "4           Meigs Local   Meigs  Region 16  36871 State Route 124   \n",
       "\n",
       "            City and Zip Code         Phone #            Principal  ...  \\\n",
       "0         Ada, OH, 45810-1013  (419) 634-2341  Robin E. Vanbuskirk  ...   \n",
       "1         Ada, OH, 45810-1013  (419) 634-2746  Robin E. Vanbuskirk  ...   \n",
       "2    Sandusky, OH, 44870-2616  (419) 984-1180      Marie A. Prieto  ...   \n",
       "3  Middleport, OH, 45760-9717  (740) 742-3000      Kristin C. Baer  ...   \n",
       "4  Middleport, OH, 45760-9717  (740) 742-2666      IRENE C. Murphy  ...   \n",
       "\n",
       "  Percent of Gifted Students Not Tested Percent of Gifted Students Below  \\\n",
       "0                                     0                                0   \n",
       "1                                     0                                0   \n",
       "2                                     0                              2.8   \n",
       "3                                    NC                               NC   \n",
       "4                                     0                              5.7   \n",
       "\n",
       "  Percent of Gifted Students Basic Percent of Gifted Students Proficient  \\\n",
       "0                                0                                   2.9   \n",
       "1                              1.5                                  10.6   \n",
       "2                              7.4                                  26.9   \n",
       "3                               NC                                    NC   \n",
       "4                             11.3                                  22.6   \n",
       "\n",
       "  Percent of Gifted Students Accelerated Percent of Gifted Students Advanced  \\\n",
       "0                                   17.1                                  80   \n",
       "1                                   16.7                                65.2   \n",
       "2                                   29.6                                32.4   \n",
       "3                                     NC                                  NC   \n",
       "4                                   41.5                                18.9   \n",
       "\n",
       "  Percent of Gifted Students Advanced Plus Performance Index Score 2014-15  \\\n",
       "0                                        0                          96.591   \n",
       "1                                      6.1                          97.984   \n",
       "2                                      0.9                          64.647   \n",
       "3                                       NC                              NC   \n",
       "4                                        0                          78.166   \n",
       "\n",
       "  Performance Index Score 2013-14 Watermark  \n",
       "0                         102.149       NaN  \n",
       "1                          101.91       NaN  \n",
       "2                          86.229       NaN  \n",
       "3                               0       NaN  \n",
       "4                          87.529       NaN  \n",
       "\n",
       "[5 rows x 32 columns]"
      ]
     },
     "execution_count": 56,
     "metadata": {},
     "output_type": "execute_result"
    }
   ],
   "source": [
    "#Importing perfomance index data for 2015-2016\n",
    "df_BPIP15_16 = pd.read_excel(r'C:/Users/patil/Desktop/CMDS Skills Assessment/Data/BUILDING_ACHIEVEMENT_2015_2016.xls')\n",
    "df_BPIP15_16.head()"
   ]
  },
  {
   "cell_type": "code",
   "execution_count": 57,
   "metadata": {},
   "outputs": [
    {
     "data": {
      "text/plain": [
       "(3387, 32)"
      ]
     },
     "execution_count": 57,
     "metadata": {},
     "output_type": "execute_result"
    }
   ],
   "source": [
    "#Find out the shape\n",
    "df_BPIP15_16.shape"
   ]
  },
  {
   "cell_type": "code",
   "execution_count": 58,
   "metadata": {},
   "outputs": [],
   "source": [
    "#Adding School Year Column\n",
    "df_BPIP15_16['School_Year'] = '2015-2016'\n"
   ]
  },
  {
   "cell_type": "code",
   "execution_count": 59,
   "metadata": {},
   "outputs": [],
   "source": [
    "#Changing the column name\n",
    "df_BPIP15_16.rename(columns={'Performance Index Percent 2015-16': 'Performance_Index_Percent'}, inplace=True)"
   ]
  },
  {
   "cell_type": "code",
   "execution_count": 60,
   "metadata": {},
   "outputs": [
    {
     "data": {
      "text/html": [
       "<div>\n",
       "<style scoped>\n",
       "    .dataframe tbody tr th:only-of-type {\n",
       "        vertical-align: middle;\n",
       "    }\n",
       "\n",
       "    .dataframe tbody tr th {\n",
       "        vertical-align: top;\n",
       "    }\n",
       "\n",
       "    .dataframe thead th {\n",
       "        text-align: right;\n",
       "    }\n",
       "</style>\n",
       "<table border=\"1\" class=\"dataframe\">\n",
       "  <thead>\n",
       "    <tr style=\"text-align: right;\">\n",
       "      <th></th>\n",
       "      <th>Building IRN</th>\n",
       "      <th>Building Name</th>\n",
       "      <th>District IRN</th>\n",
       "      <th>District Name</th>\n",
       "      <th>County</th>\n",
       "      <th>Region</th>\n",
       "      <th>Address</th>\n",
       "      <th>City and Zip Code</th>\n",
       "      <th>Phone #</th>\n",
       "      <th>Principal</th>\n",
       "      <th>...</th>\n",
       "      <th>Percent of Gifted Students Below</th>\n",
       "      <th>Percent of Gifted Students Basic</th>\n",
       "      <th>Percent of Gifted Students Proficient</th>\n",
       "      <th>Percent of Gifted Students Accelerated</th>\n",
       "      <th>Percent of Gifted Students Advanced</th>\n",
       "      <th>Percent of Gifted Students Advanced Plus</th>\n",
       "      <th>Performance Index Score 2014-15</th>\n",
       "      <th>Performance Index Score 2013-14</th>\n",
       "      <th>Watermark</th>\n",
       "      <th>School_Year</th>\n",
       "    </tr>\n",
       "  </thead>\n",
       "  <tbody>\n",
       "    <tr>\n",
       "      <th>20</th>\n",
       "      <td>224</td>\n",
       "      <td>Adlai Stevenson School</td>\n",
       "      <td>43786</td>\n",
       "      <td>Cleveland Municipal</td>\n",
       "      <td>Cuyahoga</td>\n",
       "      <td>Region 3</td>\n",
       "      <td>18300 Woda Avenue</td>\n",
       "      <td>Cleveland, OH, 44122-6441</td>\n",
       "      <td>(216) 482-2950</td>\n",
       "      <td>Christopher T. Wyland</td>\n",
       "      <td>...</td>\n",
       "      <td>NC</td>\n",
       "      <td>NC</td>\n",
       "      <td>NC</td>\n",
       "      <td>NC</td>\n",
       "      <td>NC</td>\n",
       "      <td>NC</td>\n",
       "      <td>55.307</td>\n",
       "      <td>68.009</td>\n",
       "      <td>NaN</td>\n",
       "      <td>2015-2016</td>\n",
       "    </tr>\n",
       "    <tr>\n",
       "      <th>83</th>\n",
       "      <td>489</td>\n",
       "      <td>Almira</td>\n",
       "      <td>43786</td>\n",
       "      <td>Cleveland Municipal</td>\n",
       "      <td>Cuyahoga</td>\n",
       "      <td>Region 3</td>\n",
       "      <td>3375 W 99th St</td>\n",
       "      <td>Cleveland, OH, 44102-4642</td>\n",
       "      <td>(216) 838-6150</td>\n",
       "      <td>Laverne Hooks</td>\n",
       "      <td>...</td>\n",
       "      <td>NC</td>\n",
       "      <td>NC</td>\n",
       "      <td>NC</td>\n",
       "      <td>NC</td>\n",
       "      <td>NC</td>\n",
       "      <td>NC</td>\n",
       "      <td>59.407</td>\n",
       "      <td>67.316</td>\n",
       "      <td>NaN</td>\n",
       "      <td>2015-2016</td>\n",
       "    </tr>\n",
       "    <tr>\n",
       "      <th>137</th>\n",
       "      <td>729</td>\n",
       "      <td>Andrew J Rickoff</td>\n",
       "      <td>43786</td>\n",
       "      <td>Cleveland Municipal</td>\n",
       "      <td>Cuyahoga</td>\n",
       "      <td>Region 3</td>\n",
       "      <td>3500 E 147th St</td>\n",
       "      <td>Cleveland, OH, 44120-4834</td>\n",
       "      <td>(216) 838-4150</td>\n",
       "      <td>Gloriane R. Smith</td>\n",
       "      <td>...</td>\n",
       "      <td>NC</td>\n",
       "      <td>NC</td>\n",
       "      <td>NC</td>\n",
       "      <td>NC</td>\n",
       "      <td>NC</td>\n",
       "      <td>NC</td>\n",
       "      <td>51.929</td>\n",
       "      <td>62.727</td>\n",
       "      <td>NaN</td>\n",
       "      <td>2015-2016</td>\n",
       "    </tr>\n",
       "    <tr>\n",
       "      <th>154</th>\n",
       "      <td>828</td>\n",
       "      <td>Anton Grdina</td>\n",
       "      <td>43786</td>\n",
       "      <td>Cleveland Municipal</td>\n",
       "      <td>Cuyahoga</td>\n",
       "      <td>Region 3</td>\n",
       "      <td>2955 E 71st St</td>\n",
       "      <td>Cleveland, OH, 44104-4101</td>\n",
       "      <td>(216) 812-1543</td>\n",
       "      <td>Harold S. Booker</td>\n",
       "      <td>...</td>\n",
       "      <td>NC</td>\n",
       "      <td>NC</td>\n",
       "      <td>NC</td>\n",
       "      <td>NC</td>\n",
       "      <td>NC</td>\n",
       "      <td>NC</td>\n",
       "      <td>50.605</td>\n",
       "      <td>54.412</td>\n",
       "      <td>NaN</td>\n",
       "      <td>2015-2016</td>\n",
       "    </tr>\n",
       "    <tr>\n",
       "      <th>192</th>\n",
       "      <td>1040</td>\n",
       "      <td>Artemus Ward</td>\n",
       "      <td>43786</td>\n",
       "      <td>Cleveland Municipal</td>\n",
       "      <td>Cuyahoga</td>\n",
       "      <td>Region 3</td>\n",
       "      <td>4315 W 140th St</td>\n",
       "      <td>Cleveland, OH, 44135-2128</td>\n",
       "      <td>(216) 920-7055</td>\n",
       "      <td>Chris P. Myslenski</td>\n",
       "      <td>...</td>\n",
       "      <td>NC</td>\n",
       "      <td>NC</td>\n",
       "      <td>NC</td>\n",
       "      <td>NC</td>\n",
       "      <td>NC</td>\n",
       "      <td>NC</td>\n",
       "      <td>66.331</td>\n",
       "      <td>73.281</td>\n",
       "      <td>NaN</td>\n",
       "      <td>2015-2016</td>\n",
       "    </tr>\n",
       "  </tbody>\n",
       "</table>\n",
       "<p>5 rows × 33 columns</p>\n",
       "</div>"
      ],
      "text/plain": [
       "     Building IRN           Building Name  District IRN        District Name  \\\n",
       "20            224  Adlai Stevenson School         43786  Cleveland Municipal   \n",
       "83            489                  Almira         43786  Cleveland Municipal   \n",
       "137           729        Andrew J Rickoff         43786  Cleveland Municipal   \n",
       "154           828            Anton Grdina         43786  Cleveland Municipal   \n",
       "192          1040            Artemus Ward         43786  Cleveland Municipal   \n",
       "\n",
       "       County    Region            Address          City and Zip Code  \\\n",
       "20   Cuyahoga  Region 3  18300 Woda Avenue  Cleveland, OH, 44122-6441   \n",
       "83   Cuyahoga  Region 3     3375 W 99th St  Cleveland, OH, 44102-4642   \n",
       "137  Cuyahoga  Region 3    3500 E 147th St  Cleveland, OH, 44120-4834   \n",
       "154  Cuyahoga  Region 3     2955 E 71st St  Cleveland, OH, 44104-4101   \n",
       "192  Cuyahoga  Region 3    4315 W 140th St  Cleveland, OH, 44135-2128   \n",
       "\n",
       "            Phone #              Principal  ...  \\\n",
       "20   (216) 482-2950  Christopher T. Wyland  ...   \n",
       "83   (216) 838-6150          Laverne Hooks  ...   \n",
       "137  (216) 838-4150      Gloriane R. Smith  ...   \n",
       "154  (216) 812-1543       Harold S. Booker  ...   \n",
       "192  (216) 920-7055     Chris P. Myslenski  ...   \n",
       "\n",
       "    Percent of Gifted Students Below Percent of Gifted Students Basic  \\\n",
       "20                                NC                               NC   \n",
       "83                                NC                               NC   \n",
       "137                               NC                               NC   \n",
       "154                               NC                               NC   \n",
       "192                               NC                               NC   \n",
       "\n",
       "    Percent of Gifted Students Proficient  \\\n",
       "20                                     NC   \n",
       "83                                     NC   \n",
       "137                                    NC   \n",
       "154                                    NC   \n",
       "192                                    NC   \n",
       "\n",
       "    Percent of Gifted Students Accelerated  \\\n",
       "20                                      NC   \n",
       "83                                      NC   \n",
       "137                                     NC   \n",
       "154                                     NC   \n",
       "192                                     NC   \n",
       "\n",
       "    Percent of Gifted Students Advanced  \\\n",
       "20                                   NC   \n",
       "83                                   NC   \n",
       "137                                  NC   \n",
       "154                                  NC   \n",
       "192                                  NC   \n",
       "\n",
       "    Percent of Gifted Students Advanced Plus Performance Index Score 2014-15  \\\n",
       "20                                        NC                          55.307   \n",
       "83                                        NC                          59.407   \n",
       "137                                       NC                          51.929   \n",
       "154                                       NC                          50.605   \n",
       "192                                       NC                          66.331   \n",
       "\n",
       "    Performance Index Score 2013-14 Watermark School_Year  \n",
       "20                           68.009       NaN   2015-2016  \n",
       "83                           67.316       NaN   2015-2016  \n",
       "137                          62.727       NaN   2015-2016  \n",
       "154                          54.412       NaN   2015-2016  \n",
       "192                          73.281       NaN   2015-2016  \n",
       "\n",
       "[5 rows x 33 columns]"
      ]
     },
     "execution_count": 60,
     "metadata": {},
     "output_type": "execute_result"
    }
   ],
   "source": [
    "# Filtering the data for cleaveland district\n",
    "df_BPIP15_16 = df_BPIP15_16.loc[df_BPIP15_16['District IRN'] == 43786]\n",
    "df_BPIP15_16.head()"
   ]
  },
  {
   "cell_type": "code",
   "execution_count": 61,
   "metadata": {},
   "outputs": [
    {
     "data": {
      "text/plain": [
       "Index(['Building IRN', 'Building Name', 'District IRN', 'District Name',\n",
       "       'County', 'Region', 'Address', 'City and Zip Code', 'Phone #',\n",
       "       'Principal', 'Performance Index Score 2015-16',\n",
       "       'Performance_Index_Percent', 'Letter Grade of Performance Index',\n",
       "       'Percent of Students Not Tested', 'Percent of Students Below',\n",
       "       'Percent of Students Basic', 'Percent of Students Proficient',\n",
       "       'Percent of Students Accelerated', 'Percent of Students Advanced',\n",
       "       'Percent of Students Advanced Plus',\n",
       "       'Gifted Performance Index Score 2015-16',\n",
       "       'Gifted Performance Index 2015-16',\n",
       "       'Percent of Gifted Students Not Tested',\n",
       "       'Percent of Gifted Students Below', 'Percent of Gifted Students Basic',\n",
       "       'Percent of Gifted Students Proficient',\n",
       "       'Percent of Gifted Students Accelerated',\n",
       "       'Percent of Gifted Students Advanced',\n",
       "       'Percent of Gifted Students Advanced Plus',\n",
       "       'Performance Index Score 2014-15', 'Performance Index Score 2013-14',\n",
       "       'Watermark', 'School_Year'],\n",
       "      dtype='object')"
      ]
     },
     "execution_count": 61,
     "metadata": {},
     "output_type": "execute_result"
    }
   ],
   "source": [
    "#Find out the column names \n",
    "df_BPIP15_16.columns"
   ]
  },
  {
   "cell_type": "code",
   "execution_count": 62,
   "metadata": {},
   "outputs": [
    {
     "data": {
      "text/html": [
       "<div>\n",
       "<style scoped>\n",
       "    .dataframe tbody tr th:only-of-type {\n",
       "        vertical-align: middle;\n",
       "    }\n",
       "\n",
       "    .dataframe tbody tr th {\n",
       "        vertical-align: top;\n",
       "    }\n",
       "\n",
       "    .dataframe thead th {\n",
       "        text-align: right;\n",
       "    }\n",
       "</style>\n",
       "<table border=\"1\" class=\"dataframe\">\n",
       "  <thead>\n",
       "    <tr style=\"text-align: right;\">\n",
       "      <th></th>\n",
       "      <th>District IRN</th>\n",
       "      <th>Building IRN</th>\n",
       "      <th>Building Name</th>\n",
       "      <th>Performance_Index_Percent</th>\n",
       "      <th>School_Year</th>\n",
       "    </tr>\n",
       "  </thead>\n",
       "  <tbody>\n",
       "    <tr>\n",
       "      <th>20</th>\n",
       "      <td>43786</td>\n",
       "      <td>224</td>\n",
       "      <td>Adlai Stevenson School</td>\n",
       "      <td>36.6</td>\n",
       "      <td>2015-2016</td>\n",
       "    </tr>\n",
       "    <tr>\n",
       "      <th>83</th>\n",
       "      <td>43786</td>\n",
       "      <td>489</td>\n",
       "      <td>Almira</td>\n",
       "      <td>38.7</td>\n",
       "      <td>2015-2016</td>\n",
       "    </tr>\n",
       "    <tr>\n",
       "      <th>137</th>\n",
       "      <td>43786</td>\n",
       "      <td>729</td>\n",
       "      <td>Andrew J Rickoff</td>\n",
       "      <td>36.9</td>\n",
       "      <td>2015-2016</td>\n",
       "    </tr>\n",
       "    <tr>\n",
       "      <th>154</th>\n",
       "      <td>43786</td>\n",
       "      <td>828</td>\n",
       "      <td>Anton Grdina</td>\n",
       "      <td>32.4</td>\n",
       "      <td>2015-2016</td>\n",
       "    </tr>\n",
       "    <tr>\n",
       "      <th>192</th>\n",
       "      <td>43786</td>\n",
       "      <td>1040</td>\n",
       "      <td>Artemus Ward</td>\n",
       "      <td>47.3</td>\n",
       "      <td>2015-2016</td>\n",
       "    </tr>\n",
       "  </tbody>\n",
       "</table>\n",
       "</div>"
      ],
      "text/plain": [
       "     District IRN  Building IRN           Building Name  \\\n",
       "20          43786           224  Adlai Stevenson School   \n",
       "83          43786           489                  Almira   \n",
       "137         43786           729        Andrew J Rickoff   \n",
       "154         43786           828            Anton Grdina   \n",
       "192         43786          1040            Artemus Ward   \n",
       "\n",
       "    Performance_Index_Percent School_Year  \n",
       "20                       36.6   2015-2016  \n",
       "83                       38.7   2015-2016  \n",
       "137                      36.9   2015-2016  \n",
       "154                      32.4   2015-2016  \n",
       "192                      47.3   2015-2016  "
      ]
     },
     "execution_count": 62,
     "metadata": {},
     "output_type": "execute_result"
    }
   ],
   "source": [
    "# Selecting only 5 columns thats required for furture steps\n",
    "df_BPIP15_16 = df_BPIP15_16[['District IRN', 'Building IRN', 'Building Name', 'Performance_Index_Percent', 'School_Year']]\n",
    "df_BPIP15_16.head()"
   ]
  },
  {
   "cell_type": "code",
   "execution_count": 63,
   "metadata": {},
   "outputs": [
    {
     "data": {
      "text/plain": [
       "(101, 5)"
      ]
     },
     "execution_count": 63,
     "metadata": {},
     "output_type": "execute_result"
    }
   ],
   "source": [
    "#Find out the shape\n",
    "df_BPIP15_16.shape"
   ]
  },
  {
   "cell_type": "code",
   "execution_count": null,
   "metadata": {},
   "outputs": [],
   "source": []
  },
  {
   "cell_type": "markdown",
   "metadata": {},
   "source": [
    "### Performance Index Percent 2016-2017 Data Cleaning & Preprocessing"
   ]
  },
  {
   "cell_type": "code",
   "execution_count": 64,
   "metadata": {},
   "outputs": [
    {
     "data": {
      "text/html": [
       "<div>\n",
       "<style scoped>\n",
       "    .dataframe tbody tr th:only-of-type {\n",
       "        vertical-align: middle;\n",
       "    }\n",
       "\n",
       "    .dataframe tbody tr th {\n",
       "        vertical-align: top;\n",
       "    }\n",
       "\n",
       "    .dataframe thead th {\n",
       "        text-align: right;\n",
       "    }\n",
       "</style>\n",
       "<table border=\"1\" class=\"dataframe\">\n",
       "  <thead>\n",
       "    <tr style=\"text-align: right;\">\n",
       "      <th></th>\n",
       "      <th>Building IRN</th>\n",
       "      <th>Building Name</th>\n",
       "      <th>District IRN</th>\n",
       "      <th>District Name</th>\n",
       "      <th>County</th>\n",
       "      <th>Region</th>\n",
       "      <th>Address</th>\n",
       "      <th>City and Zip Code</th>\n",
       "      <th>Phone #</th>\n",
       "      <th>Principal</th>\n",
       "      <th>...</th>\n",
       "      <th>Percent of Gifted Students Not Tested</th>\n",
       "      <th>Percent of Gifted Students Below</th>\n",
       "      <th>Percent of Gifted Students Basic</th>\n",
       "      <th>Percent of Gifted Students Proficient</th>\n",
       "      <th>Percent of Gifted Students Accelerated</th>\n",
       "      <th>Percent of Gifted Students Advanced</th>\n",
       "      <th>Percent of Gifted Students Advanced Plus</th>\n",
       "      <th>Performance Index Score 2015-16</th>\n",
       "      <th>Performance Index Score 2014-15</th>\n",
       "      <th>Watermark</th>\n",
       "    </tr>\n",
       "  </thead>\n",
       "  <tbody>\n",
       "    <tr>\n",
       "      <th>0</th>\n",
       "      <td>59</td>\n",
       "      <td>Ada Elementary School</td>\n",
       "      <td>45187</td>\n",
       "      <td>Ada Exempted Village</td>\n",
       "      <td>Hardin</td>\n",
       "      <td>Region 6</td>\n",
       "      <td>435 Grand Ave</td>\n",
       "      <td>Ada, OH, 45810-1013</td>\n",
       "      <td>(419) 634-2341</td>\n",
       "      <td>Robin E. Vanbuskirk</td>\n",
       "      <td>...</td>\n",
       "      <td>0.0</td>\n",
       "      <td>0.0</td>\n",
       "      <td>0.0</td>\n",
       "      <td>4.0</td>\n",
       "      <td>25.3</td>\n",
       "      <td>70.7</td>\n",
       "      <td>0.0</td>\n",
       "      <td>96.125</td>\n",
       "      <td>96.591</td>\n",
       "      <td>NaN</td>\n",
       "    </tr>\n",
       "    <tr>\n",
       "      <th>1</th>\n",
       "      <td>67</td>\n",
       "      <td>Ada High School</td>\n",
       "      <td>45187</td>\n",
       "      <td>Ada Exempted Village</td>\n",
       "      <td>Hardin</td>\n",
       "      <td>Region 6</td>\n",
       "      <td>435 Grand Ave</td>\n",
       "      <td>Ada, OH, 45810-1013</td>\n",
       "      <td>(419) 634-2746</td>\n",
       "      <td>Robin E. Vanbuskirk</td>\n",
       "      <td>...</td>\n",
       "      <td>0.0</td>\n",
       "      <td>2.0</td>\n",
       "      <td>0.0</td>\n",
       "      <td>3.9</td>\n",
       "      <td>27.5</td>\n",
       "      <td>52.9</td>\n",
       "      <td>13.7</td>\n",
       "      <td>91.667</td>\n",
       "      <td>97.984</td>\n",
       "      <td>NaN</td>\n",
       "    </tr>\n",
       "    <tr>\n",
       "      <th>2</th>\n",
       "      <td>83</td>\n",
       "      <td>Sandusky Middle School</td>\n",
       "      <td>44743</td>\n",
       "      <td>Sandusky City</td>\n",
       "      <td>Erie</td>\n",
       "      <td>Region 2</td>\n",
       "      <td>318 Columbus Ave</td>\n",
       "      <td>Sandusky, OH, 44870-2616</td>\n",
       "      <td>(419) 984-1180</td>\n",
       "      <td>Marie A. Prieto</td>\n",
       "      <td>...</td>\n",
       "      <td>0.0</td>\n",
       "      <td>1.4</td>\n",
       "      <td>3.4</td>\n",
       "      <td>22.1</td>\n",
       "      <td>37.2</td>\n",
       "      <td>33.1</td>\n",
       "      <td>2.8</td>\n",
       "      <td>62.772</td>\n",
       "      <td>64.647</td>\n",
       "      <td>NaN</td>\n",
       "    </tr>\n",
       "    <tr>\n",
       "      <th>3</th>\n",
       "      <td>102</td>\n",
       "      <td>Meigs Primary School</td>\n",
       "      <td>48520</td>\n",
       "      <td>Meigs Local</td>\n",
       "      <td>Meigs</td>\n",
       "      <td>Region 16</td>\n",
       "      <td>36871 State Route 124</td>\n",
       "      <td>Middleport, OH, 45760-9717</td>\n",
       "      <td>(740) 742-3000</td>\n",
       "      <td>Kristin C. Baer</td>\n",
       "      <td>...</td>\n",
       "      <td>NC</td>\n",
       "      <td>NC</td>\n",
       "      <td>NC</td>\n",
       "      <td>NC</td>\n",
       "      <td>NC</td>\n",
       "      <td>NC</td>\n",
       "      <td>NC</td>\n",
       "      <td>NC</td>\n",
       "      <td>NC</td>\n",
       "      <td>NaN</td>\n",
       "    </tr>\n",
       "    <tr>\n",
       "      <th>4</th>\n",
       "      <td>105</td>\n",
       "      <td>Meigs Intermediate School</td>\n",
       "      <td>48520</td>\n",
       "      <td>Meigs Local</td>\n",
       "      <td>Meigs</td>\n",
       "      <td>Region 16</td>\n",
       "      <td>36871 State Route 124</td>\n",
       "      <td>Middleport, OH, 45760-9717</td>\n",
       "      <td>(740) 742-2666</td>\n",
       "      <td>IRENE C. Murphy</td>\n",
       "      <td>...</td>\n",
       "      <td>0.0</td>\n",
       "      <td>1.5</td>\n",
       "      <td>5.9</td>\n",
       "      <td>20.6</td>\n",
       "      <td>42.6</td>\n",
       "      <td>29.4</td>\n",
       "      <td>0.0</td>\n",
       "      <td>70.394</td>\n",
       "      <td>78.166</td>\n",
       "      <td>NaN</td>\n",
       "    </tr>\n",
       "  </tbody>\n",
       "</table>\n",
       "<p>5 rows × 32 columns</p>\n",
       "</div>"
      ],
      "text/plain": [
       "   Building IRN              Building Name  District IRN  \\\n",
       "0            59      Ada Elementary School         45187   \n",
       "1            67            Ada High School         45187   \n",
       "2            83     Sandusky Middle School         44743   \n",
       "3           102       Meigs Primary School         48520   \n",
       "4           105  Meigs Intermediate School         48520   \n",
       "\n",
       "          District Name  County     Region                Address  \\\n",
       "0  Ada Exempted Village  Hardin   Region 6          435 Grand Ave   \n",
       "1  Ada Exempted Village  Hardin   Region 6          435 Grand Ave   \n",
       "2         Sandusky City    Erie   Region 2       318 Columbus Ave   \n",
       "3           Meigs Local   Meigs  Region 16  36871 State Route 124   \n",
       "4           Meigs Local   Meigs  Region 16  36871 State Route 124   \n",
       "\n",
       "            City and Zip Code         Phone #            Principal  ...  \\\n",
       "0         Ada, OH, 45810-1013  (419) 634-2341  Robin E. Vanbuskirk  ...   \n",
       "1         Ada, OH, 45810-1013  (419) 634-2746  Robin E. Vanbuskirk  ...   \n",
       "2    Sandusky, OH, 44870-2616  (419) 984-1180      Marie A. Prieto  ...   \n",
       "3  Middleport, OH, 45760-9717  (740) 742-3000      Kristin C. Baer  ...   \n",
       "4  Middleport, OH, 45760-9717  (740) 742-2666      IRENE C. Murphy  ...   \n",
       "\n",
       "  Percent of Gifted Students Not Tested Percent of Gifted Students Below  \\\n",
       "0                                   0.0                              0.0   \n",
       "1                                   0.0                              2.0   \n",
       "2                                   0.0                              1.4   \n",
       "3                                    NC                               NC   \n",
       "4                                   0.0                              1.5   \n",
       "\n",
       "  Percent of Gifted Students Basic Percent of Gifted Students Proficient  \\\n",
       "0                              0.0                                   4.0   \n",
       "1                              0.0                                   3.9   \n",
       "2                              3.4                                  22.1   \n",
       "3                               NC                                    NC   \n",
       "4                              5.9                                  20.6   \n",
       "\n",
       "  Percent of Gifted Students Accelerated Percent of Gifted Students Advanced  \\\n",
       "0                                   25.3                                70.7   \n",
       "1                                   27.5                                52.9   \n",
       "2                                   37.2                                33.1   \n",
       "3                                     NC                                  NC   \n",
       "4                                   42.6                                29.4   \n",
       "\n",
       "  Percent of Gifted Students Advanced Plus Performance Index Score 2015-16  \\\n",
       "0                                      0.0                          96.125   \n",
       "1                                     13.7                          91.667   \n",
       "2                                      2.8                          62.772   \n",
       "3                                       NC                              NC   \n",
       "4                                      0.0                          70.394   \n",
       "\n",
       "  Performance Index Score 2014-15 Watermark  \n",
       "0                          96.591       NaN  \n",
       "1                          97.984       NaN  \n",
       "2                          64.647       NaN  \n",
       "3                              NC       NaN  \n",
       "4                          78.166       NaN  \n",
       "\n",
       "[5 rows x 32 columns]"
      ]
     },
     "execution_count": 64,
     "metadata": {},
     "output_type": "execute_result"
    }
   ],
   "source": [
    "#Importing perfomance index data for 2016-2017\n",
    "df_BPIP16_17 = pd.read_excel(r'C:/Users/patil/Desktop/CMDS Skills Assessment/Data/BUILDING_ACHIEVEMENT_2016_2017.xls')\n",
    "df_BPIP16_17.head()"
   ]
  },
  {
   "cell_type": "code",
   "execution_count": 65,
   "metadata": {},
   "outputs": [
    {
     "data": {
      "text/plain": [
       "(3374, 32)"
      ]
     },
     "execution_count": 65,
     "metadata": {},
     "output_type": "execute_result"
    }
   ],
   "source": [
    "#Find out the shape\n",
    "df_BPIP16_17.shape"
   ]
  },
  {
   "cell_type": "code",
   "execution_count": 66,
   "metadata": {},
   "outputs": [],
   "source": [
    "#Adding School Year Column\n",
    "df_BPIP16_17['School_Year'] = '2016-2017'"
   ]
  },
  {
   "cell_type": "code",
   "execution_count": 67,
   "metadata": {},
   "outputs": [],
   "source": [
    "#Changing the column name\n",
    "df_BPIP16_17.rename(columns={'Performance Index Percent 2016-17': 'Performance_Index_Percent'}, inplace=True)"
   ]
  },
  {
   "cell_type": "code",
   "execution_count": 68,
   "metadata": {},
   "outputs": [
    {
     "data": {
      "text/html": [
       "<div>\n",
       "<style scoped>\n",
       "    .dataframe tbody tr th:only-of-type {\n",
       "        vertical-align: middle;\n",
       "    }\n",
       "\n",
       "    .dataframe tbody tr th {\n",
       "        vertical-align: top;\n",
       "    }\n",
       "\n",
       "    .dataframe thead th {\n",
       "        text-align: right;\n",
       "    }\n",
       "</style>\n",
       "<table border=\"1\" class=\"dataframe\">\n",
       "  <thead>\n",
       "    <tr style=\"text-align: right;\">\n",
       "      <th></th>\n",
       "      <th>Building IRN</th>\n",
       "      <th>Building Name</th>\n",
       "      <th>District IRN</th>\n",
       "      <th>District Name</th>\n",
       "      <th>County</th>\n",
       "      <th>Region</th>\n",
       "      <th>Address</th>\n",
       "      <th>City and Zip Code</th>\n",
       "      <th>Phone #</th>\n",
       "      <th>Principal</th>\n",
       "      <th>...</th>\n",
       "      <th>Percent of Gifted Students Below</th>\n",
       "      <th>Percent of Gifted Students Basic</th>\n",
       "      <th>Percent of Gifted Students Proficient</th>\n",
       "      <th>Percent of Gifted Students Accelerated</th>\n",
       "      <th>Percent of Gifted Students Advanced</th>\n",
       "      <th>Percent of Gifted Students Advanced Plus</th>\n",
       "      <th>Performance Index Score 2015-16</th>\n",
       "      <th>Performance Index Score 2014-15</th>\n",
       "      <th>Watermark</th>\n",
       "      <th>School_Year</th>\n",
       "    </tr>\n",
       "  </thead>\n",
       "  <tbody>\n",
       "    <tr>\n",
       "      <th>20</th>\n",
       "      <td>224</td>\n",
       "      <td>Adlai Stevenson School</td>\n",
       "      <td>43786</td>\n",
       "      <td>Cleveland Municipal</td>\n",
       "      <td>Cuyahoga</td>\n",
       "      <td>Region 3</td>\n",
       "      <td>18300 Woda Avenue</td>\n",
       "      <td>Cleveland, OH, 44122-6441</td>\n",
       "      <td>(216) 838-5300</td>\n",
       "      <td>Christopher T. Wyland</td>\n",
       "      <td>...</td>\n",
       "      <td>33.3</td>\n",
       "      <td>11.1</td>\n",
       "      <td>11.1</td>\n",
       "      <td>33.3</td>\n",
       "      <td>11.1</td>\n",
       "      <td>0.0</td>\n",
       "      <td>43.903</td>\n",
       "      <td>55.307</td>\n",
       "      <td>NaN</td>\n",
       "      <td>2016-2017</td>\n",
       "    </tr>\n",
       "    <tr>\n",
       "      <th>44</th>\n",
       "      <td>318</td>\n",
       "      <td>Menlo Park Academy</td>\n",
       "      <td>43786</td>\n",
       "      <td>Cleveland Municipal</td>\n",
       "      <td>Cuyahoga</td>\n",
       "      <td>Region 3</td>\n",
       "      <td>14440 Triskett Rd</td>\n",
       "      <td>Cleveland, OH, 44111-2263</td>\n",
       "      <td>(440) 925-6365</td>\n",
       "      <td>NaN</td>\n",
       "      <td>...</td>\n",
       "      <td>1.9</td>\n",
       "      <td>8.5</td>\n",
       "      <td>19.9</td>\n",
       "      <td>32.2</td>\n",
       "      <td>32.5</td>\n",
       "      <td>4.9</td>\n",
       "      <td>110.760</td>\n",
       "      <td>100.920</td>\n",
       "      <td>NaN</td>\n",
       "      <td>2016-2017</td>\n",
       "    </tr>\n",
       "    <tr>\n",
       "      <th>83</th>\n",
       "      <td>489</td>\n",
       "      <td>Almira</td>\n",
       "      <td>43786</td>\n",
       "      <td>Cleveland Municipal</td>\n",
       "      <td>Cuyahoga</td>\n",
       "      <td>Region 3</td>\n",
       "      <td>3375 W 99th St</td>\n",
       "      <td>Cleveland, OH, 44102-4642</td>\n",
       "      <td>(216) 838-6150</td>\n",
       "      <td>James Greene</td>\n",
       "      <td>...</td>\n",
       "      <td>14.3</td>\n",
       "      <td>21.4</td>\n",
       "      <td>35.7</td>\n",
       "      <td>21.4</td>\n",
       "      <td>7.1</td>\n",
       "      <td>0.0</td>\n",
       "      <td>46.384</td>\n",
       "      <td>59.407</td>\n",
       "      <td>NaN</td>\n",
       "      <td>2016-2017</td>\n",
       "    </tr>\n",
       "    <tr>\n",
       "      <th>137</th>\n",
       "      <td>729</td>\n",
       "      <td>Andrew J Rickoff</td>\n",
       "      <td>43786</td>\n",
       "      <td>Cleveland Municipal</td>\n",
       "      <td>Cuyahoga</td>\n",
       "      <td>Region 3</td>\n",
       "      <td>3500 E 147th St</td>\n",
       "      <td>Cleveland, OH, 44120-4834</td>\n",
       "      <td>(216) 838-4150</td>\n",
       "      <td>SHELBY R. SCHUTT</td>\n",
       "      <td>...</td>\n",
       "      <td>0.0</td>\n",
       "      <td>0.0</td>\n",
       "      <td>50.0</td>\n",
       "      <td>0.0</td>\n",
       "      <td>50.0</td>\n",
       "      <td>0.0</td>\n",
       "      <td>44.327</td>\n",
       "      <td>51.929</td>\n",
       "      <td>NaN</td>\n",
       "      <td>2016-2017</td>\n",
       "    </tr>\n",
       "    <tr>\n",
       "      <th>153</th>\n",
       "      <td>828</td>\n",
       "      <td>Anton Grdina</td>\n",
       "      <td>43786</td>\n",
       "      <td>Cleveland Municipal</td>\n",
       "      <td>Cuyahoga</td>\n",
       "      <td>Region 3</td>\n",
       "      <td>2955 E 71st St</td>\n",
       "      <td>Cleveland, OH, 44104-4101</td>\n",
       "      <td>(216) 838-1150</td>\n",
       "      <td>Harold S. Booker</td>\n",
       "      <td>...</td>\n",
       "      <td>33.3</td>\n",
       "      <td>0.0</td>\n",
       "      <td>0.0</td>\n",
       "      <td>66.7</td>\n",
       "      <td>0.0</td>\n",
       "      <td>0.0</td>\n",
       "      <td>38.904</td>\n",
       "      <td>50.605</td>\n",
       "      <td>NaN</td>\n",
       "      <td>2016-2017</td>\n",
       "    </tr>\n",
       "  </tbody>\n",
       "</table>\n",
       "<p>5 rows × 33 columns</p>\n",
       "</div>"
      ],
      "text/plain": [
       "     Building IRN           Building Name  District IRN        District Name  \\\n",
       "20            224  Adlai Stevenson School         43786  Cleveland Municipal   \n",
       "44            318      Menlo Park Academy         43786  Cleveland Municipal   \n",
       "83            489                  Almira         43786  Cleveland Municipal   \n",
       "137           729        Andrew J Rickoff         43786  Cleveland Municipal   \n",
       "153           828            Anton Grdina         43786  Cleveland Municipal   \n",
       "\n",
       "       County    Region            Address          City and Zip Code  \\\n",
       "20   Cuyahoga  Region 3  18300 Woda Avenue  Cleveland, OH, 44122-6441   \n",
       "44   Cuyahoga  Region 3  14440 Triskett Rd  Cleveland, OH, 44111-2263   \n",
       "83   Cuyahoga  Region 3     3375 W 99th St  Cleveland, OH, 44102-4642   \n",
       "137  Cuyahoga  Region 3    3500 E 147th St  Cleveland, OH, 44120-4834   \n",
       "153  Cuyahoga  Region 3     2955 E 71st St  Cleveland, OH, 44104-4101   \n",
       "\n",
       "            Phone #              Principal  ...  \\\n",
       "20   (216) 838-5300  Christopher T. Wyland  ...   \n",
       "44   (440) 925-6365                    NaN  ...   \n",
       "83   (216) 838-6150           James Greene  ...   \n",
       "137  (216) 838-4150       SHELBY R. SCHUTT  ...   \n",
       "153  (216) 838-1150       Harold S. Booker  ...   \n",
       "\n",
       "    Percent of Gifted Students Below Percent of Gifted Students Basic  \\\n",
       "20                              33.3                             11.1   \n",
       "44                               1.9                              8.5   \n",
       "83                              14.3                             21.4   \n",
       "137                              0.0                              0.0   \n",
       "153                             33.3                              0.0   \n",
       "\n",
       "    Percent of Gifted Students Proficient  \\\n",
       "20                                   11.1   \n",
       "44                                   19.9   \n",
       "83                                   35.7   \n",
       "137                                  50.0   \n",
       "153                                   0.0   \n",
       "\n",
       "    Percent of Gifted Students Accelerated  \\\n",
       "20                                    33.3   \n",
       "44                                    32.2   \n",
       "83                                    21.4   \n",
       "137                                    0.0   \n",
       "153                                   66.7   \n",
       "\n",
       "    Percent of Gifted Students Advanced  \\\n",
       "20                                 11.1   \n",
       "44                                 32.5   \n",
       "83                                  7.1   \n",
       "137                                50.0   \n",
       "153                                 0.0   \n",
       "\n",
       "    Percent of Gifted Students Advanced Plus Performance Index Score 2015-16  \\\n",
       "20                                       0.0                          43.903   \n",
       "44                                       4.9                         110.760   \n",
       "83                                       0.0                          46.384   \n",
       "137                                      0.0                          44.327   \n",
       "153                                      0.0                          38.904   \n",
       "\n",
       "    Performance Index Score 2014-15 Watermark School_Year  \n",
       "20                           55.307       NaN   2016-2017  \n",
       "44                          100.920       NaN   2016-2017  \n",
       "83                           59.407       NaN   2016-2017  \n",
       "137                          51.929       NaN   2016-2017  \n",
       "153                          50.605       NaN   2016-2017  \n",
       "\n",
       "[5 rows x 33 columns]"
      ]
     },
     "execution_count": 68,
     "metadata": {},
     "output_type": "execute_result"
    }
   ],
   "source": [
    "# Filtering the data for cleaveland district\n",
    "df_BPIP16_17 = df_BPIP16_17.loc[df_BPIP16_17['District IRN'] == 43786]\n",
    "df_BPIP16_17.head()"
   ]
  },
  {
   "cell_type": "code",
   "execution_count": 69,
   "metadata": {},
   "outputs": [
    {
     "data": {
      "text/html": [
       "<div>\n",
       "<style scoped>\n",
       "    .dataframe tbody tr th:only-of-type {\n",
       "        vertical-align: middle;\n",
       "    }\n",
       "\n",
       "    .dataframe tbody tr th {\n",
       "        vertical-align: top;\n",
       "    }\n",
       "\n",
       "    .dataframe thead th {\n",
       "        text-align: right;\n",
       "    }\n",
       "</style>\n",
       "<table border=\"1\" class=\"dataframe\">\n",
       "  <thead>\n",
       "    <tr style=\"text-align: right;\">\n",
       "      <th></th>\n",
       "      <th>District IRN</th>\n",
       "      <th>Building IRN</th>\n",
       "      <th>Building Name</th>\n",
       "      <th>Performance_Index_Percent</th>\n",
       "      <th>School_Year</th>\n",
       "    </tr>\n",
       "  </thead>\n",
       "  <tbody>\n",
       "    <tr>\n",
       "      <th>20</th>\n",
       "      <td>43786</td>\n",
       "      <td>224</td>\n",
       "      <td>Adlai Stevenson School</td>\n",
       "      <td>41.1</td>\n",
       "      <td>2016-2017</td>\n",
       "    </tr>\n",
       "    <tr>\n",
       "      <th>44</th>\n",
       "      <td>43786</td>\n",
       "      <td>318</td>\n",
       "      <td>Menlo Park Academy</td>\n",
       "      <td>88.7</td>\n",
       "      <td>2016-2017</td>\n",
       "    </tr>\n",
       "    <tr>\n",
       "      <th>83</th>\n",
       "      <td>43786</td>\n",
       "      <td>489</td>\n",
       "      <td>Almira</td>\n",
       "      <td>39.0</td>\n",
       "      <td>2016-2017</td>\n",
       "    </tr>\n",
       "    <tr>\n",
       "      <th>137</th>\n",
       "      <td>43786</td>\n",
       "      <td>729</td>\n",
       "      <td>Andrew J Rickoff</td>\n",
       "      <td>39.3</td>\n",
       "      <td>2016-2017</td>\n",
       "    </tr>\n",
       "    <tr>\n",
       "      <th>153</th>\n",
       "      <td>43786</td>\n",
       "      <td>828</td>\n",
       "      <td>Anton Grdina</td>\n",
       "      <td>33.6</td>\n",
       "      <td>2016-2017</td>\n",
       "    </tr>\n",
       "  </tbody>\n",
       "</table>\n",
       "</div>"
      ],
      "text/plain": [
       "     District IRN  Building IRN           Building Name  \\\n",
       "20          43786           224  Adlai Stevenson School   \n",
       "44          43786           318      Menlo Park Academy   \n",
       "83          43786           489                  Almira   \n",
       "137         43786           729        Andrew J Rickoff   \n",
       "153         43786           828            Anton Grdina   \n",
       "\n",
       "    Performance_Index_Percent School_Year  \n",
       "20                       41.1   2016-2017  \n",
       "44                       88.7   2016-2017  \n",
       "83                       39.0   2016-2017  \n",
       "137                      39.3   2016-2017  \n",
       "153                      33.6   2016-2017  "
      ]
     },
     "execution_count": 69,
     "metadata": {},
     "output_type": "execute_result"
    }
   ],
   "source": [
    "# Selecting only 5 columns thats required for furture steps\n",
    "df_BPIP16_17 = df_BPIP16_17[['District IRN', 'Building IRN', 'Building Name', 'Performance_Index_Percent', 'School_Year']]\n",
    "df_BPIP16_17.head()"
   ]
  },
  {
   "cell_type": "code",
   "execution_count": 70,
   "metadata": {},
   "outputs": [
    {
     "data": {
      "text/plain": [
       "(119, 5)"
      ]
     },
     "execution_count": 70,
     "metadata": {},
     "output_type": "execute_result"
    }
   ],
   "source": [
    "#Find out the shape\n",
    "df_BPIP16_17.shape"
   ]
  },
  {
   "cell_type": "code",
   "execution_count": null,
   "metadata": {},
   "outputs": [],
   "source": []
  },
  {
   "cell_type": "markdown",
   "metadata": {},
   "source": [
    "### Performance Index Percent 2017-2018 Data Cleaning & Preprocessing"
   ]
  },
  {
   "cell_type": "code",
   "execution_count": 71,
   "metadata": {
    "scrolled": true
   },
   "outputs": [
    {
     "data": {
      "text/html": [
       "<div>\n",
       "<style scoped>\n",
       "    .dataframe tbody tr th:only-of-type {\n",
       "        vertical-align: middle;\n",
       "    }\n",
       "\n",
       "    .dataframe tbody tr th {\n",
       "        vertical-align: top;\n",
       "    }\n",
       "\n",
       "    .dataframe thead th {\n",
       "        text-align: right;\n",
       "    }\n",
       "</style>\n",
       "<table border=\"1\" class=\"dataframe\">\n",
       "  <thead>\n",
       "    <tr style=\"text-align: right;\">\n",
       "      <th></th>\n",
       "      <th>Building IRN</th>\n",
       "      <th>Building Name</th>\n",
       "      <th>District IRN</th>\n",
       "      <th>District Name</th>\n",
       "      <th>County</th>\n",
       "      <th>Region</th>\n",
       "      <th>Address</th>\n",
       "      <th>City and Zip</th>\n",
       "      <th>Phone Number</th>\n",
       "      <th>Principal</th>\n",
       "      <th>...</th>\n",
       "      <th>Gifted Performance Index Score 2017-18</th>\n",
       "      <th>Gifted Performance Index Percent 2017-18</th>\n",
       "      <th>Percent of Gifted Students Not Tested</th>\n",
       "      <th>Percent of Gifted Students Limited</th>\n",
       "      <th>Percent of Gifted Students Basic</th>\n",
       "      <th>Percent of Gifted Students Proficient</th>\n",
       "      <th>Percent of Gifted Students Accelerated</th>\n",
       "      <th>Percent of Gifted Students Advanced</th>\n",
       "      <th>Percent of Gifted Students Advanced Plus</th>\n",
       "      <th>Watermark</th>\n",
       "    </tr>\n",
       "  </thead>\n",
       "  <tbody>\n",
       "    <tr>\n",
       "      <th>0</th>\n",
       "      <td>59</td>\n",
       "      <td>Ada Elementary School</td>\n",
       "      <td>45187</td>\n",
       "      <td>Ada Exempted Village</td>\n",
       "      <td>Hardin</td>\n",
       "      <td>Region 6</td>\n",
       "      <td>435 Grand Ave</td>\n",
       "      <td>Ada, OH, 45810-1013</td>\n",
       "      <td>(419) 634-2341</td>\n",
       "      <td>Robin E. Vanbuskirk</td>\n",
       "      <td>...</td>\n",
       "      <td>117.722</td>\n",
       "      <td>98.1</td>\n",
       "      <td>0</td>\n",
       "      <td>0</td>\n",
       "      <td>0</td>\n",
       "      <td>2.5</td>\n",
       "      <td>17.7</td>\n",
       "      <td>79.7</td>\n",
       "      <td>0</td>\n",
       "      <td>NaN</td>\n",
       "    </tr>\n",
       "    <tr>\n",
       "      <th>1</th>\n",
       "      <td>67</td>\n",
       "      <td>Ada High School</td>\n",
       "      <td>45187</td>\n",
       "      <td>Ada Exempted Village</td>\n",
       "      <td>Hardin</td>\n",
       "      <td>Region 6</td>\n",
       "      <td>435 Grand Ave</td>\n",
       "      <td>Ada, OH, 45810-1013</td>\n",
       "      <td>(419) 634-2746</td>\n",
       "      <td>Robin E. Vanbuskirk</td>\n",
       "      <td>...</td>\n",
       "      <td>116.346</td>\n",
       "      <td>97</td>\n",
       "      <td>0</td>\n",
       "      <td>0</td>\n",
       "      <td>0</td>\n",
       "      <td>7.7</td>\n",
       "      <td>28.8</td>\n",
       "      <td>55.8</td>\n",
       "      <td>7.7</td>\n",
       "      <td>NaN</td>\n",
       "    </tr>\n",
       "    <tr>\n",
       "      <th>2</th>\n",
       "      <td>83</td>\n",
       "      <td>Sandusky Middle School</td>\n",
       "      <td>44743</td>\n",
       "      <td>Sandusky City</td>\n",
       "      <td>Erie</td>\n",
       "      <td>Region 2</td>\n",
       "      <td>318 Columbus Ave</td>\n",
       "      <td>Sandusky, OH, 44870-2616</td>\n",
       "      <td>(419) 984-1180</td>\n",
       "      <td>Timothy P. Kozak</td>\n",
       "      <td>...</td>\n",
       "      <td>115.392</td>\n",
       "      <td>96.2</td>\n",
       "      <td>0</td>\n",
       "      <td>1</td>\n",
       "      <td>0</td>\n",
       "      <td>13.7</td>\n",
       "      <td>27.5</td>\n",
       "      <td>40.2</td>\n",
       "      <td>17.6</td>\n",
       "      <td>NaN</td>\n",
       "    </tr>\n",
       "    <tr>\n",
       "      <th>3</th>\n",
       "      <td>102</td>\n",
       "      <td>Meigs Primary School</td>\n",
       "      <td>48520</td>\n",
       "      <td>Meigs Local</td>\n",
       "      <td>Meigs</td>\n",
       "      <td>Region 16</td>\n",
       "      <td>36871 State Route 124</td>\n",
       "      <td>Middleport, OH, 45760-9717</td>\n",
       "      <td>(740) 742-3000</td>\n",
       "      <td>Kristin C. Baer</td>\n",
       "      <td>...</td>\n",
       "      <td>NC</td>\n",
       "      <td>NC</td>\n",
       "      <td>NC</td>\n",
       "      <td>NC</td>\n",
       "      <td>NC</td>\n",
       "      <td>NC</td>\n",
       "      <td>NC</td>\n",
       "      <td>NC</td>\n",
       "      <td>NC</td>\n",
       "      <td>NaN</td>\n",
       "    </tr>\n",
       "    <tr>\n",
       "      <th>4</th>\n",
       "      <td>105</td>\n",
       "      <td>Meigs Intermediate School</td>\n",
       "      <td>48520</td>\n",
       "      <td>Meigs Local</td>\n",
       "      <td>Meigs</td>\n",
       "      <td>Region 16</td>\n",
       "      <td>36871 State Route 124</td>\n",
       "      <td>Middleport, OH, 45760-9717</td>\n",
       "      <td>(740) 742-2666</td>\n",
       "      <td>IRENE C. Murphy</td>\n",
       "      <td>...</td>\n",
       "      <td>103.095</td>\n",
       "      <td>85.9</td>\n",
       "      <td>0</td>\n",
       "      <td>2.4</td>\n",
       "      <td>11.9</td>\n",
       "      <td>26.2</td>\n",
       "      <td>23.8</td>\n",
       "      <td>35.7</td>\n",
       "      <td>0</td>\n",
       "      <td>NaN</td>\n",
       "    </tr>\n",
       "  </tbody>\n",
       "</table>\n",
       "<p>5 rows × 32 columns</p>\n",
       "</div>"
      ],
      "text/plain": [
       "   Building IRN              Building Name  District IRN  \\\n",
       "0            59      Ada Elementary School         45187   \n",
       "1            67            Ada High School         45187   \n",
       "2            83     Sandusky Middle School         44743   \n",
       "3           102       Meigs Primary School         48520   \n",
       "4           105  Meigs Intermediate School         48520   \n",
       "\n",
       "          District Name  County     Region                Address  \\\n",
       "0  Ada Exempted Village  Hardin   Region 6          435 Grand Ave   \n",
       "1  Ada Exempted Village  Hardin   Region 6          435 Grand Ave   \n",
       "2         Sandusky City    Erie   Region 2       318 Columbus Ave   \n",
       "3           Meigs Local   Meigs  Region 16  36871 State Route 124   \n",
       "4           Meigs Local   Meigs  Region 16  36871 State Route 124   \n",
       "\n",
       "                 City and Zip    Phone Number            Principal  ...  \\\n",
       "0         Ada, OH, 45810-1013  (419) 634-2341  Robin E. Vanbuskirk  ...   \n",
       "1         Ada, OH, 45810-1013  (419) 634-2746  Robin E. Vanbuskirk  ...   \n",
       "2    Sandusky, OH, 44870-2616  (419) 984-1180     Timothy P. Kozak  ...   \n",
       "3  Middleport, OH, 45760-9717  (740) 742-3000      Kristin C. Baer  ...   \n",
       "4  Middleport, OH, 45760-9717  (740) 742-2666      IRENE C. Murphy  ...   \n",
       "\n",
       "  Gifted Performance Index Score 2017-18  \\\n",
       "0                                117.722   \n",
       "1                                116.346   \n",
       "2                                115.392   \n",
       "3                                     NC   \n",
       "4                                103.095   \n",
       "\n",
       "  Gifted Performance Index Percent 2017-18  \\\n",
       "0                                     98.1   \n",
       "1                                       97   \n",
       "2                                     96.2   \n",
       "3                                       NC   \n",
       "4                                     85.9   \n",
       "\n",
       "  Percent of Gifted Students Not Tested Percent of Gifted Students Limited  \\\n",
       "0                                     0                                  0   \n",
       "1                                     0                                  0   \n",
       "2                                     0                                  1   \n",
       "3                                    NC                                 NC   \n",
       "4                                     0                                2.4   \n",
       "\n",
       "  Percent of Gifted Students Basic Percent of Gifted Students Proficient  \\\n",
       "0                                0                                   2.5   \n",
       "1                                0                                   7.7   \n",
       "2                                0                                  13.7   \n",
       "3                               NC                                    NC   \n",
       "4                             11.9                                  26.2   \n",
       "\n",
       "  Percent of Gifted Students Accelerated Percent of Gifted Students Advanced  \\\n",
       "0                                   17.7                                79.7   \n",
       "1                                   28.8                                55.8   \n",
       "2                                   27.5                                40.2   \n",
       "3                                     NC                                  NC   \n",
       "4                                   23.8                                35.7   \n",
       "\n",
       "  Percent of Gifted Students Advanced Plus Watermark  \n",
       "0                                        0       NaN  \n",
       "1                                      7.7       NaN  \n",
       "2                                     17.6       NaN  \n",
       "3                                       NC       NaN  \n",
       "4                                        0       NaN  \n",
       "\n",
       "[5 rows x 32 columns]"
      ]
     },
     "execution_count": 71,
     "metadata": {},
     "output_type": "execute_result"
    }
   ],
   "source": [
    "#Importing perfomance index data for 2017-2018\n",
    "df_BPIP17_18 = pd.read_excel(r'C:/Users/patil/Desktop/CMDS Skills Assessment/Data/BUILDING_ACHIEVEMENT_2017_2018.xlsx')\n",
    "df_BPIP17_18.head()"
   ]
  },
  {
   "cell_type": "code",
   "execution_count": 72,
   "metadata": {},
   "outputs": [
    {
     "data": {
      "text/plain": [
       "(3423, 32)"
      ]
     },
     "execution_count": 72,
     "metadata": {},
     "output_type": "execute_result"
    }
   ],
   "source": [
    "#Find out the shape\n",
    "df_BPIP17_18.shape"
   ]
  },
  {
   "cell_type": "code",
   "execution_count": 73,
   "metadata": {},
   "outputs": [],
   "source": [
    "#Adding School Year Column\n",
    "df_BPIP17_18['School_Year'] = '2017-2018'"
   ]
  },
  {
   "cell_type": "code",
   "execution_count": 74,
   "metadata": {},
   "outputs": [],
   "source": [
    "#Changing the column name\n",
    "df_BPIP17_18.rename(columns={'Performance Index Percent 2017-18': 'Performance_Index_Percent'}, inplace=True)"
   ]
  },
  {
   "cell_type": "code",
   "execution_count": 75,
   "metadata": {},
   "outputs": [
    {
     "data": {
      "text/html": [
       "<div>\n",
       "<style scoped>\n",
       "    .dataframe tbody tr th:only-of-type {\n",
       "        vertical-align: middle;\n",
       "    }\n",
       "\n",
       "    .dataframe tbody tr th {\n",
       "        vertical-align: top;\n",
       "    }\n",
       "\n",
       "    .dataframe thead th {\n",
       "        text-align: right;\n",
       "    }\n",
       "</style>\n",
       "<table border=\"1\" class=\"dataframe\">\n",
       "  <thead>\n",
       "    <tr style=\"text-align: right;\">\n",
       "      <th></th>\n",
       "      <th>Building IRN</th>\n",
       "      <th>Building Name</th>\n",
       "      <th>District IRN</th>\n",
       "      <th>District Name</th>\n",
       "      <th>County</th>\n",
       "      <th>Region</th>\n",
       "      <th>Address</th>\n",
       "      <th>City and Zip</th>\n",
       "      <th>Phone Number</th>\n",
       "      <th>Principal</th>\n",
       "      <th>...</th>\n",
       "      <th>Gifted Performance Index Percent 2017-18</th>\n",
       "      <th>Percent of Gifted Students Not Tested</th>\n",
       "      <th>Percent of Gifted Students Limited</th>\n",
       "      <th>Percent of Gifted Students Basic</th>\n",
       "      <th>Percent of Gifted Students Proficient</th>\n",
       "      <th>Percent of Gifted Students Accelerated</th>\n",
       "      <th>Percent of Gifted Students Advanced</th>\n",
       "      <th>Percent of Gifted Students Advanced Plus</th>\n",
       "      <th>Watermark</th>\n",
       "      <th>School_Year</th>\n",
       "    </tr>\n",
       "  </thead>\n",
       "  <tbody>\n",
       "    <tr>\n",
       "      <th>24</th>\n",
       "      <td>224</td>\n",
       "      <td>Adlai Stevenson School</td>\n",
       "      <td>43786</td>\n",
       "      <td>Cleveland Municipal</td>\n",
       "      <td>Cuyahoga</td>\n",
       "      <td>Region 3</td>\n",
       "      <td>18300 Woda Avenue</td>\n",
       "      <td>Cleveland, OH, 44122-6441</td>\n",
       "      <td>(216) 838-5300</td>\n",
       "      <td>Christopher T. Wyland</td>\n",
       "      <td>...</td>\n",
       "      <td>NC</td>\n",
       "      <td>NC</td>\n",
       "      <td>NC</td>\n",
       "      <td>NC</td>\n",
       "      <td>NC</td>\n",
       "      <td>NC</td>\n",
       "      <td>NC</td>\n",
       "      <td>NC</td>\n",
       "      <td>NaN</td>\n",
       "      <td>2017-2018</td>\n",
       "    </tr>\n",
       "    <tr>\n",
       "      <th>49</th>\n",
       "      <td>318</td>\n",
       "      <td>Menlo Park Academy</td>\n",
       "      <td>43786</td>\n",
       "      <td>Cleveland Municipal</td>\n",
       "      <td>Cuyahoga</td>\n",
       "      <td>Region 3</td>\n",
       "      <td>2149 W 53rd St</td>\n",
       "      <td>Cleveland, OH, 44102-2263</td>\n",
       "      <td>(440) 925-6365</td>\n",
       "      <td>Stacy J. Stuhldreher</td>\n",
       "      <td>...</td>\n",
       "      <td>90.7</td>\n",
       "      <td>0.8</td>\n",
       "      <td>0.8</td>\n",
       "      <td>5.4</td>\n",
       "      <td>16.6</td>\n",
       "      <td>28.7</td>\n",
       "      <td>47.4</td>\n",
       "      <td>0.2</td>\n",
       "      <td>NaN</td>\n",
       "      <td>2017-2018</td>\n",
       "    </tr>\n",
       "    <tr>\n",
       "      <th>88</th>\n",
       "      <td>489</td>\n",
       "      <td>Almira</td>\n",
       "      <td>43786</td>\n",
       "      <td>Cleveland Municipal</td>\n",
       "      <td>Cuyahoga</td>\n",
       "      <td>Region 3</td>\n",
       "      <td>3375 W 99th St</td>\n",
       "      <td>Cleveland, OH, 44102-4642</td>\n",
       "      <td>(216) 838-6150</td>\n",
       "      <td>James Greene</td>\n",
       "      <td>...</td>\n",
       "      <td>66.7</td>\n",
       "      <td>0</td>\n",
       "      <td>25</td>\n",
       "      <td>20</td>\n",
       "      <td>15</td>\n",
       "      <td>25</td>\n",
       "      <td>15</td>\n",
       "      <td>0</td>\n",
       "      <td>NaN</td>\n",
       "      <td>2017-2018</td>\n",
       "    </tr>\n",
       "    <tr>\n",
       "      <th>143</th>\n",
       "      <td>729</td>\n",
       "      <td>Andrew J Rickoff</td>\n",
       "      <td>43786</td>\n",
       "      <td>Cleveland Municipal</td>\n",
       "      <td>Cuyahoga</td>\n",
       "      <td>Region 3</td>\n",
       "      <td>3500 E 147th St</td>\n",
       "      <td>Cleveland, OH, 44120-4834</td>\n",
       "      <td>(216) 838-4150</td>\n",
       "      <td>SHELBY R. SCHUTT</td>\n",
       "      <td>...</td>\n",
       "      <td>NC</td>\n",
       "      <td>NC</td>\n",
       "      <td>NC</td>\n",
       "      <td>NC</td>\n",
       "      <td>NC</td>\n",
       "      <td>NC</td>\n",
       "      <td>NC</td>\n",
       "      <td>NC</td>\n",
       "      <td>NaN</td>\n",
       "      <td>2017-2018</td>\n",
       "    </tr>\n",
       "    <tr>\n",
       "      <th>160</th>\n",
       "      <td>828</td>\n",
       "      <td>Anton Grdina</td>\n",
       "      <td>43786</td>\n",
       "      <td>Cleveland Municipal</td>\n",
       "      <td>Cuyahoga</td>\n",
       "      <td>Region 3</td>\n",
       "      <td>2955 E 71st St</td>\n",
       "      <td>Cleveland, OH, 44104-4101</td>\n",
       "      <td>(216) 838-1150</td>\n",
       "      <td>Harold S. Booker</td>\n",
       "      <td>...</td>\n",
       "      <td>NC</td>\n",
       "      <td>NC</td>\n",
       "      <td>NC</td>\n",
       "      <td>NC</td>\n",
       "      <td>NC</td>\n",
       "      <td>NC</td>\n",
       "      <td>NC</td>\n",
       "      <td>NC</td>\n",
       "      <td>NaN</td>\n",
       "      <td>2017-2018</td>\n",
       "    </tr>\n",
       "  </tbody>\n",
       "</table>\n",
       "<p>5 rows × 33 columns</p>\n",
       "</div>"
      ],
      "text/plain": [
       "     Building IRN           Building Name  District IRN        District Name  \\\n",
       "24            224  Adlai Stevenson School         43786  Cleveland Municipal   \n",
       "49            318      Menlo Park Academy         43786  Cleveland Municipal   \n",
       "88            489                  Almira         43786  Cleveland Municipal   \n",
       "143           729        Andrew J Rickoff         43786  Cleveland Municipal   \n",
       "160           828            Anton Grdina         43786  Cleveland Municipal   \n",
       "\n",
       "       County    Region            Address               City and Zip  \\\n",
       "24   Cuyahoga  Region 3  18300 Woda Avenue  Cleveland, OH, 44122-6441   \n",
       "49   Cuyahoga  Region 3     2149 W 53rd St  Cleveland, OH, 44102-2263   \n",
       "88   Cuyahoga  Region 3     3375 W 99th St  Cleveland, OH, 44102-4642   \n",
       "143  Cuyahoga  Region 3    3500 E 147th St  Cleveland, OH, 44120-4834   \n",
       "160  Cuyahoga  Region 3     2955 E 71st St  Cleveland, OH, 44104-4101   \n",
       "\n",
       "       Phone Number              Principal  ...  \\\n",
       "24   (216) 838-5300  Christopher T. Wyland  ...   \n",
       "49   (440) 925-6365   Stacy J. Stuhldreher  ...   \n",
       "88   (216) 838-6150           James Greene  ...   \n",
       "143  (216) 838-4150       SHELBY R. SCHUTT  ...   \n",
       "160  (216) 838-1150       Harold S. Booker  ...   \n",
       "\n",
       "    Gifted Performance Index Percent 2017-18  \\\n",
       "24                                        NC   \n",
       "49                                      90.7   \n",
       "88                                      66.7   \n",
       "143                                       NC   \n",
       "160                                       NC   \n",
       "\n",
       "    Percent of Gifted Students Not Tested Percent of Gifted Students Limited  \\\n",
       "24                                     NC                                 NC   \n",
       "49                                    0.8                                0.8   \n",
       "88                                      0                                 25   \n",
       "143                                    NC                                 NC   \n",
       "160                                    NC                                 NC   \n",
       "\n",
       "    Percent of Gifted Students Basic Percent of Gifted Students Proficient  \\\n",
       "24                                NC                                    NC   \n",
       "49                               5.4                                  16.6   \n",
       "88                                20                                    15   \n",
       "143                               NC                                    NC   \n",
       "160                               NC                                    NC   \n",
       "\n",
       "    Percent of Gifted Students Accelerated  \\\n",
       "24                                      NC   \n",
       "49                                    28.7   \n",
       "88                                      25   \n",
       "143                                     NC   \n",
       "160                                     NC   \n",
       "\n",
       "    Percent of Gifted Students Advanced  \\\n",
       "24                                   NC   \n",
       "49                                 47.4   \n",
       "88                                   15   \n",
       "143                                  NC   \n",
       "160                                  NC   \n",
       "\n",
       "    Percent of Gifted Students Advanced Plus Watermark School_Year  \n",
       "24                                        NC       NaN   2017-2018  \n",
       "49                                       0.2       NaN   2017-2018  \n",
       "88                                         0       NaN   2017-2018  \n",
       "143                                       NC       NaN   2017-2018  \n",
       "160                                       NC       NaN   2017-2018  \n",
       "\n",
       "[5 rows x 33 columns]"
      ]
     },
     "execution_count": 75,
     "metadata": {},
     "output_type": "execute_result"
    }
   ],
   "source": [
    "# Filtering the data for cleaveland district\n",
    "df_BPIP17_18 = df_BPIP17_18.loc[df_BPIP17_18['District IRN'] == 43786]\n",
    "df_BPIP17_18.head()"
   ]
  },
  {
   "cell_type": "code",
   "execution_count": 76,
   "metadata": {},
   "outputs": [
    {
     "data": {
      "text/html": [
       "<div>\n",
       "<style scoped>\n",
       "    .dataframe tbody tr th:only-of-type {\n",
       "        vertical-align: middle;\n",
       "    }\n",
       "\n",
       "    .dataframe tbody tr th {\n",
       "        vertical-align: top;\n",
       "    }\n",
       "\n",
       "    .dataframe thead th {\n",
       "        text-align: right;\n",
       "    }\n",
       "</style>\n",
       "<table border=\"1\" class=\"dataframe\">\n",
       "  <thead>\n",
       "    <tr style=\"text-align: right;\">\n",
       "      <th></th>\n",
       "      <th>District IRN</th>\n",
       "      <th>Building IRN</th>\n",
       "      <th>Building Name</th>\n",
       "      <th>Performance_Index_Percent</th>\n",
       "      <th>School_Year</th>\n",
       "    </tr>\n",
       "  </thead>\n",
       "  <tbody>\n",
       "    <tr>\n",
       "      <th>24</th>\n",
       "      <td>43786</td>\n",
       "      <td>224</td>\n",
       "      <td>Adlai Stevenson School</td>\n",
       "      <td>40.1</td>\n",
       "      <td>2017-2018</td>\n",
       "    </tr>\n",
       "    <tr>\n",
       "      <th>49</th>\n",
       "      <td>43786</td>\n",
       "      <td>318</td>\n",
       "      <td>Menlo Park Academy</td>\n",
       "      <td>90.7</td>\n",
       "      <td>2017-2018</td>\n",
       "    </tr>\n",
       "    <tr>\n",
       "      <th>88</th>\n",
       "      <td>43786</td>\n",
       "      <td>489</td>\n",
       "      <td>Almira</td>\n",
       "      <td>41.6</td>\n",
       "      <td>2017-2018</td>\n",
       "    </tr>\n",
       "    <tr>\n",
       "      <th>143</th>\n",
       "      <td>43786</td>\n",
       "      <td>729</td>\n",
       "      <td>Andrew J Rickoff</td>\n",
       "      <td>41.6</td>\n",
       "      <td>2017-2018</td>\n",
       "    </tr>\n",
       "    <tr>\n",
       "      <th>160</th>\n",
       "      <td>43786</td>\n",
       "      <td>828</td>\n",
       "      <td>Anton Grdina</td>\n",
       "      <td>35.6</td>\n",
       "      <td>2017-2018</td>\n",
       "    </tr>\n",
       "  </tbody>\n",
       "</table>\n",
       "</div>"
      ],
      "text/plain": [
       "     District IRN  Building IRN           Building Name  \\\n",
       "24          43786           224  Adlai Stevenson School   \n",
       "49          43786           318      Menlo Park Academy   \n",
       "88          43786           489                  Almira   \n",
       "143         43786           729        Andrew J Rickoff   \n",
       "160         43786           828            Anton Grdina   \n",
       "\n",
       "    Performance_Index_Percent School_Year  \n",
       "24                       40.1   2017-2018  \n",
       "49                       90.7   2017-2018  \n",
       "88                       41.6   2017-2018  \n",
       "143                      41.6   2017-2018  \n",
       "160                      35.6   2017-2018  "
      ]
     },
     "execution_count": 76,
     "metadata": {},
     "output_type": "execute_result"
    }
   ],
   "source": [
    "# Selecting only 5 columns thats required for furture steps\n",
    "df_BPIP17_18 = df_BPIP17_18[['District IRN', 'Building IRN', 'Building Name', 'Performance_Index_Percent', 'School_Year']]\n",
    "df_BPIP17_18.head()"
   ]
  },
  {
   "cell_type": "code",
   "execution_count": 77,
   "metadata": {},
   "outputs": [
    {
     "data": {
      "text/plain": [
       "(123, 5)"
      ]
     },
     "execution_count": 77,
     "metadata": {},
     "output_type": "execute_result"
    }
   ],
   "source": [
    "#Find out the shape\n",
    "df_BPIP17_18.shape"
   ]
  },
  {
   "cell_type": "code",
   "execution_count": null,
   "metadata": {},
   "outputs": [],
   "source": []
  },
  {
   "cell_type": "code",
   "execution_count": null,
   "metadata": {},
   "outputs": [],
   "source": []
  },
  {
   "cell_type": "markdown",
   "metadata": {},
   "source": [
    "## Dataframe Merging for All Performance Index Percent 2015-2016, 2016-2017, 2017-2018 "
   ]
  },
  {
   "cell_type": "code",
   "execution_count": 78,
   "metadata": {},
   "outputs": [
    {
     "data": {
      "text/html": [
       "<div>\n",
       "<style scoped>\n",
       "    .dataframe tbody tr th:only-of-type {\n",
       "        vertical-align: middle;\n",
       "    }\n",
       "\n",
       "    .dataframe tbody tr th {\n",
       "        vertical-align: top;\n",
       "    }\n",
       "\n",
       "    .dataframe thead th {\n",
       "        text-align: right;\n",
       "    }\n",
       "</style>\n",
       "<table border=\"1\" class=\"dataframe\">\n",
       "  <thead>\n",
       "    <tr style=\"text-align: right;\">\n",
       "      <th></th>\n",
       "      <th>District IRN</th>\n",
       "      <th>Building IRN</th>\n",
       "      <th>Building Name</th>\n",
       "      <th>Performance_Index_Percent</th>\n",
       "      <th>School_Year</th>\n",
       "    </tr>\n",
       "  </thead>\n",
       "  <tbody>\n",
       "    <tr>\n",
       "      <th>20</th>\n",
       "      <td>43786</td>\n",
       "      <td>224</td>\n",
       "      <td>Adlai Stevenson School</td>\n",
       "      <td>36.6</td>\n",
       "      <td>2015-2016</td>\n",
       "    </tr>\n",
       "    <tr>\n",
       "      <th>83</th>\n",
       "      <td>43786</td>\n",
       "      <td>489</td>\n",
       "      <td>Almira</td>\n",
       "      <td>38.7</td>\n",
       "      <td>2015-2016</td>\n",
       "    </tr>\n",
       "    <tr>\n",
       "      <th>137</th>\n",
       "      <td>43786</td>\n",
       "      <td>729</td>\n",
       "      <td>Andrew J Rickoff</td>\n",
       "      <td>36.9</td>\n",
       "      <td>2015-2016</td>\n",
       "    </tr>\n",
       "    <tr>\n",
       "      <th>154</th>\n",
       "      <td>43786</td>\n",
       "      <td>828</td>\n",
       "      <td>Anton Grdina</td>\n",
       "      <td>32.4</td>\n",
       "      <td>2015-2016</td>\n",
       "    </tr>\n",
       "    <tr>\n",
       "      <th>192</th>\n",
       "      <td>43786</td>\n",
       "      <td>1040</td>\n",
       "      <td>Artemus Ward</td>\n",
       "      <td>47.3</td>\n",
       "      <td>2015-2016</td>\n",
       "    </tr>\n",
       "    <tr>\n",
       "      <th>...</th>\n",
       "      <td>...</td>\n",
       "      <td>...</td>\n",
       "      <td>...</td>\n",
       "      <td>...</td>\n",
       "      <td>...</td>\n",
       "    </tr>\n",
       "    <tr>\n",
       "      <th>3042</th>\n",
       "      <td>43786</td>\n",
       "      <td>86306</td>\n",
       "      <td>Martin Luther King Jr. Campus</td>\n",
       "      <td>38.2</td>\n",
       "      <td>2017-2018</td>\n",
       "    </tr>\n",
       "    <tr>\n",
       "      <th>3198</th>\n",
       "      <td>43786</td>\n",
       "      <td>133215</td>\n",
       "      <td>Intergenerational School, The</td>\n",
       "      <td>65.7</td>\n",
       "      <td>2017-2018</td>\n",
       "    </tr>\n",
       "    <tr>\n",
       "      <th>3214</th>\n",
       "      <td>43786</td>\n",
       "      <td>133520</td>\n",
       "      <td>Citizens Academy</td>\n",
       "      <td>64.5</td>\n",
       "      <td>2017-2018</td>\n",
       "    </tr>\n",
       "    <tr>\n",
       "      <th>3219</th>\n",
       "      <td>43786</td>\n",
       "      <td>133629</td>\n",
       "      <td>Horizon Science Acad Cleveland</td>\n",
       "      <td>50.1</td>\n",
       "      <td>2017-2018</td>\n",
       "    </tr>\n",
       "    <tr>\n",
       "      <th>3390</th>\n",
       "      <td>43786</td>\n",
       "      <td>147397</td>\n",
       "      <td>Cleveland School of Science &amp; Medicine</td>\n",
       "      <td>80</td>\n",
       "      <td>2017-2018</td>\n",
       "    </tr>\n",
       "  </tbody>\n",
       "</table>\n",
       "<p>343 rows × 5 columns</p>\n",
       "</div>"
      ],
      "text/plain": [
       "      District IRN  Building IRN                           Building Name  \\\n",
       "20           43786           224                  Adlai Stevenson School   \n",
       "83           43786           489                                  Almira   \n",
       "137          43786           729                        Andrew J Rickoff   \n",
       "154          43786           828                            Anton Grdina   \n",
       "192          43786          1040                            Artemus Ward   \n",
       "...            ...           ...                                     ...   \n",
       "3042         43786         86306           Martin Luther King Jr. Campus   \n",
       "3198         43786        133215           Intergenerational School, The   \n",
       "3214         43786        133520                        Citizens Academy   \n",
       "3219         43786        133629          Horizon Science Acad Cleveland   \n",
       "3390         43786        147397  Cleveland School of Science & Medicine   \n",
       "\n",
       "     Performance_Index_Percent School_Year  \n",
       "20                        36.6   2015-2016  \n",
       "83                        38.7   2015-2016  \n",
       "137                       36.9   2015-2016  \n",
       "154                       32.4   2015-2016  \n",
       "192                       47.3   2015-2016  \n",
       "...                        ...         ...  \n",
       "3042                      38.2   2017-2018  \n",
       "3198                      65.7   2017-2018  \n",
       "3214                      64.5   2017-2018  \n",
       "3219                      50.1   2017-2018  \n",
       "3390                        80   2017-2018  \n",
       "\n",
       "[343 rows x 5 columns]"
      ]
     },
     "execution_count": 78,
     "metadata": {},
     "output_type": "execute_result"
    }
   ],
   "source": [
    "#Appending the Performance Index Percent dataset using concat function\n",
    "frames = [df_BPIP15_16, df_BPIP16_17, df_BPIP17_18]\n",
    "\n",
    "df_PIP = pd.concat(frames) \n",
    "df_PIP"
   ]
  },
  {
   "cell_type": "code",
   "execution_count": 79,
   "metadata": {},
   "outputs": [
    {
     "data": {
      "text/plain": [
       "(343, 5)"
      ]
     },
     "execution_count": 79,
     "metadata": {},
     "output_type": "execute_result"
    }
   ],
   "source": [
    "#Find out the shape\n",
    "df_PIP.shape"
   ]
  },
  {
   "cell_type": "code",
   "execution_count": 80,
   "metadata": {},
   "outputs": [
    {
     "data": {
      "text/plain": [
       "<bound method Series.unique of 20                      Adlai Stevenson School\n",
       "83                                      Almira\n",
       "137                           Andrew J Rickoff\n",
       "154                               Anton Grdina\n",
       "192                               Artemus Ward\n",
       "                         ...                  \n",
       "3042             Martin Luther King Jr. Campus\n",
       "3198             Intergenerational School, The\n",
       "3214                          Citizens Academy\n",
       "3219            Horizon Science Acad Cleveland\n",
       "3390    Cleveland School of Science & Medicine\n",
       "Name: Building Name, Length: 343, dtype: object>"
      ]
     },
     "execution_count": 80,
     "metadata": {},
     "output_type": "execute_result"
    }
   ],
   "source": [
    "#Checking the unique count for building Name\n",
    "df_PIP['Building Name'].unique"
   ]
  },
  {
   "cell_type": "code",
   "execution_count": null,
   "metadata": {},
   "outputs": [],
   "source": []
  },
  {
   "cell_type": "code",
   "execution_count": null,
   "metadata": {},
   "outputs": [],
   "source": []
  },
  {
   "cell_type": "markdown",
   "metadata": {},
   "source": [
    "# Merging Enrollment, Value Added Grade & Performance Index Percent Dataframes "
   ]
  },
  {
   "cell_type": "code",
   "execution_count": 81,
   "metadata": {},
   "outputs": [
    {
     "data": {
      "text/html": [
       "<div>\n",
       "<style scoped>\n",
       "    .dataframe tbody tr th:only-of-type {\n",
       "        vertical-align: middle;\n",
       "    }\n",
       "\n",
       "    .dataframe tbody tr th {\n",
       "        vertical-align: top;\n",
       "    }\n",
       "\n",
       "    .dataframe thead th {\n",
       "        text-align: right;\n",
       "    }\n",
       "</style>\n",
       "<table border=\"1\" class=\"dataframe\">\n",
       "  <thead>\n",
       "    <tr style=\"text-align: right;\">\n",
       "      <th></th>\n",
       "      <th>District IRN</th>\n",
       "      <th>Building IRN</th>\n",
       "      <th>Building Name</th>\n",
       "      <th>Enrollment</th>\n",
       "      <th>School_Year</th>\n",
       "      <th>Overall Value Added Grade</th>\n",
       "      <th>Performance_Index_Percent</th>\n",
       "    </tr>\n",
       "  </thead>\n",
       "  <tbody>\n",
       "    <tr>\n",
       "      <th>0</th>\n",
       "      <td>43786</td>\n",
       "      <td>224</td>\n",
       "      <td>Adlai Stevenson School</td>\n",
       "      <td>430</td>\n",
       "      <td>2015-2016</td>\n",
       "      <td>F</td>\n",
       "      <td>36.6</td>\n",
       "    </tr>\n",
       "    <tr>\n",
       "      <th>1</th>\n",
       "      <td>43786</td>\n",
       "      <td>318</td>\n",
       "      <td>Menlo Park Academy</td>\n",
       "      <td>367</td>\n",
       "      <td>2015-2016</td>\n",
       "      <td>C</td>\n",
       "      <td>NaN</td>\n",
       "    </tr>\n",
       "    <tr>\n",
       "      <th>2</th>\n",
       "      <td>43786</td>\n",
       "      <td>489</td>\n",
       "      <td>Almira</td>\n",
       "      <td>499</td>\n",
       "      <td>2015-2016</td>\n",
       "      <td>F</td>\n",
       "      <td>38.7</td>\n",
       "    </tr>\n",
       "    <tr>\n",
       "      <th>3</th>\n",
       "      <td>43786</td>\n",
       "      <td>729</td>\n",
       "      <td>Andrew J Rickoff</td>\n",
       "      <td>477</td>\n",
       "      <td>2015-2016</td>\n",
       "      <td>F</td>\n",
       "      <td>36.9</td>\n",
       "    </tr>\n",
       "    <tr>\n",
       "      <th>4</th>\n",
       "      <td>43786</td>\n",
       "      <td>828</td>\n",
       "      <td>Anton Grdina</td>\n",
       "      <td>371</td>\n",
       "      <td>2015-2016</td>\n",
       "      <td>F</td>\n",
       "      <td>32.4</td>\n",
       "    </tr>\n",
       "  </tbody>\n",
       "</table>\n",
       "</div>"
      ],
      "text/plain": [
       "   District IRN  Building IRN           Building Name Enrollment School_Year  \\\n",
       "0         43786           224  Adlai Stevenson School        430   2015-2016   \n",
       "1         43786           318      Menlo Park Academy        367   2015-2016   \n",
       "2         43786           489                  Almira        499   2015-2016   \n",
       "3         43786           729        Andrew J Rickoff        477   2015-2016   \n",
       "4         43786           828            Anton Grdina        371   2015-2016   \n",
       "\n",
       "  Overall Value Added Grade Performance_Index_Percent  \n",
       "0                         F                      36.6  \n",
       "1                         C                       NaN  \n",
       "2                         F                      38.7  \n",
       "3                         F                      36.9  \n",
       "4                         F                      32.4  "
      ]
     },
     "execution_count": 81,
     "metadata": {},
     "output_type": "execute_result"
    }
   ],
   "source": [
    "#Merging enrollment, Value added and performance index dataframe togeather\n",
    "df_CMSD = (df_enroll.merge(df_VA,on=['District IRN', 'Building IRN', 'Building Name', 'School_Year'],how='outer').merge(df_PIP,on=['District IRN', 'Building IRN', 'Building Name', 'School_Year'],how='outer'))\n",
    "df_CMSD.head()"
   ]
  },
  {
   "cell_type": "code",
   "execution_count": 82,
   "metadata": {},
   "outputs": [],
   "source": [
    "# rename the column without space for easy use\n",
    "df_CMSD.rename(columns={'District IRN': 'District_IRN', \n",
    "                        'Building IRN': 'Building_IRN', \n",
    "                        'Building Name': 'Building_Name',\n",
    "                        'Overall Value Added Grade': 'Overall_Value_Added_Grade' }, \n",
    "                         inplace=True)\n"
   ]
  },
  {
   "cell_type": "code",
   "execution_count": 83,
   "metadata": {},
   "outputs": [
    {
     "data": {
      "text/plain": [
       "(359, 7)"
      ]
     },
     "execution_count": 83,
     "metadata": {},
     "output_type": "execute_result"
    }
   ],
   "source": [
    "#Find out the shape\n",
    "df_CMSD.shape"
   ]
  },
  {
   "cell_type": "code",
   "execution_count": 84,
   "metadata": {},
   "outputs": [
    {
     "data": {
      "text/plain": [
       "District_IRN                  int64\n",
       "Building_IRN                  int64\n",
       "Building_Name                object\n",
       "Enrollment                   object\n",
       "School_Year                  object\n",
       "Overall_Value_Added_Grade    object\n",
       "Performance_Index_Percent    object\n",
       "dtype: object"
      ]
     },
     "execution_count": 84,
     "metadata": {},
     "output_type": "execute_result"
    }
   ],
   "source": [
    "#Find out the datatypes\n",
    "df_CMSD.dtypes"
   ]
  },
  {
   "cell_type": "code",
   "execution_count": 85,
   "metadata": {},
   "outputs": [
    {
     "name": "stdout",
     "output_type": "stream",
     "text": [
      "District_IRN                   int64\n",
      "Building_IRN                   int64\n",
      "Building_Name                 object\n",
      "Enrollment                   float64\n",
      "School_Year                   object\n",
      "Overall_Value_Added_Grade     object\n",
      "Performance_Index_Percent     object\n",
      "dtype: object\n"
     ]
    }
   ],
   "source": [
    "#Converting enrollment dtype from object to numeric\n",
    "df_CMSD[['Enrollment']] = df_CMSD[['Enrollment']].apply(pd.to_numeric)\n",
    "print(df_CMSD.dtypes)"
   ]
  },
  {
   "cell_type": "code",
   "execution_count": 86,
   "metadata": {},
   "outputs": [
    {
     "name": "stdout",
     "output_type": "stream",
     "text": [
      "District_IRN                   int64\n",
      "Building_IRN                   int64\n",
      "Building_Name                 object\n",
      "Enrollment                   float64\n",
      "School_Year                   object\n",
      "Overall_Value_Added_Grade     object\n",
      "Performance_Index_Percent    float64\n",
      "dtype: object\n"
     ]
    }
   ],
   "source": [
    "#Converting Performance Index Percent dtype from object to numeric\n",
    "df_CMSD[\"Performance_Index_Percent\"] = pd.to_numeric(df_CMSD[\"Performance_Index_Percent\"], errors='coerce')\n",
    "print(df_CMSD.dtypes)"
   ]
  },
  {
   "cell_type": "code",
   "execution_count": 87,
   "metadata": {},
   "outputs": [
    {
     "name": "stdout",
     "output_type": "stream",
     "text": [
      "<class 'pandas.core.frame.DataFrame'>\n",
      "RangeIndex: 359 entries, 0 to 358\n",
      "Data columns (total 7 columns):\n",
      " #   Column                     Non-Null Count  Dtype  \n",
      "---  ------                     --------------  -----  \n",
      " 0   District_IRN               359 non-null    int64  \n",
      " 1   Building_IRN               359 non-null    int64  \n",
      " 2   Building_Name              359 non-null    object \n",
      " 3   Enrollment                 356 non-null    float64\n",
      " 4   School_Year                359 non-null    object \n",
      " 5   Overall_Value_Added_Grade  359 non-null    object \n",
      " 6   Performance_Index_Percent  339 non-null    float64\n",
      "dtypes: float64(2), int64(2), object(3)\n",
      "memory usage: 19.8+ KB\n"
     ]
    }
   ],
   "source": [
    "#Checking the info about the data\n",
    "df_CMSD.info()"
   ]
  },
  {
   "cell_type": "code",
   "execution_count": 88,
   "metadata": {},
   "outputs": [
    {
     "data": {
      "text/html": [
       "<div>\n",
       "<style scoped>\n",
       "    .dataframe tbody tr th:only-of-type {\n",
       "        vertical-align: middle;\n",
       "    }\n",
       "\n",
       "    .dataframe tbody tr th {\n",
       "        vertical-align: top;\n",
       "    }\n",
       "\n",
       "    .dataframe thead th {\n",
       "        text-align: right;\n",
       "    }\n",
       "</style>\n",
       "<table border=\"1\" class=\"dataframe\">\n",
       "  <thead>\n",
       "    <tr style=\"text-align: right;\">\n",
       "      <th></th>\n",
       "      <th>District_IRN</th>\n",
       "      <th>Building_IRN</th>\n",
       "      <th>Enrollment</th>\n",
       "      <th>Performance_Index_Percent</th>\n",
       "    </tr>\n",
       "  </thead>\n",
       "  <tbody>\n",
       "    <tr>\n",
       "      <th>count</th>\n",
       "      <td>359.0</td>\n",
       "      <td>359.000000</td>\n",
       "      <td>356.000000</td>\n",
       "      <td>339.000000</td>\n",
       "    </tr>\n",
       "    <tr>\n",
       "      <th>mean</th>\n",
       "      <td>43786.0</td>\n",
       "      <td>25837.111421</td>\n",
       "      <td>366.676966</td>\n",
       "      <td>47.737758</td>\n",
       "    </tr>\n",
       "    <tr>\n",
       "      <th>std</th>\n",
       "      <td>0.0</td>\n",
       "      <td>27294.566571</td>\n",
       "      <td>156.060352</td>\n",
       "      <td>12.385176</td>\n",
       "    </tr>\n",
       "    <tr>\n",
       "      <th>min</th>\n",
       "      <td>43786.0</td>\n",
       "      <td>224.000000</td>\n",
       "      <td>48.000000</td>\n",
       "      <td>25.900000</td>\n",
       "    </tr>\n",
       "    <tr>\n",
       "      <th>25%</th>\n",
       "      <td>43786.0</td>\n",
       "      <td>11291.000000</td>\n",
       "      <td>265.000000</td>\n",
       "      <td>38.350000</td>\n",
       "    </tr>\n",
       "    <tr>\n",
       "      <th>50%</th>\n",
       "      <td>43786.0</td>\n",
       "      <td>15722.000000</td>\n",
       "      <td>357.000000</td>\n",
       "      <td>44.300000</td>\n",
       "    </tr>\n",
       "    <tr>\n",
       "      <th>75%</th>\n",
       "      <td>43786.0</td>\n",
       "      <td>32060.000000</td>\n",
       "      <td>431.750000</td>\n",
       "      <td>54.100000</td>\n",
       "    </tr>\n",
       "    <tr>\n",
       "      <th>max</th>\n",
       "      <td>43786.0</td>\n",
       "      <td>147397.000000</td>\n",
       "      <td>1276.000000</td>\n",
       "      <td>90.700000</td>\n",
       "    </tr>\n",
       "  </tbody>\n",
       "</table>\n",
       "</div>"
      ],
      "text/plain": [
       "       District_IRN   Building_IRN   Enrollment  Performance_Index_Percent\n",
       "count         359.0     359.000000   356.000000                 339.000000\n",
       "mean        43786.0   25837.111421   366.676966                  47.737758\n",
       "std             0.0   27294.566571   156.060352                  12.385176\n",
       "min         43786.0     224.000000    48.000000                  25.900000\n",
       "25%         43786.0   11291.000000   265.000000                  38.350000\n",
       "50%         43786.0   15722.000000   357.000000                  44.300000\n",
       "75%         43786.0   32060.000000   431.750000                  54.100000\n",
       "max         43786.0  147397.000000  1276.000000                  90.700000"
      ]
     },
     "execution_count": 88,
     "metadata": {},
     "output_type": "execute_result"
    }
   ],
   "source": [
    "#Describe the data \n",
    "df_CMSD.describe()"
   ]
  },
  {
   "cell_type": "code",
   "execution_count": 89,
   "metadata": {},
   "outputs": [],
   "source": [
    "#Filling the missing values with 0\n",
    "df_CMSD = df_CMSD.fillna(0)"
   ]
  },
  {
   "cell_type": "code",
   "execution_count": 90,
   "metadata": {},
   "outputs": [
    {
     "data": {
      "text/plain": [
       "District_IRN                 0\n",
       "Building_IRN                 0\n",
       "Building_Name                0\n",
       "Enrollment                   0\n",
       "School_Year                  0\n",
       "Overall_Value_Added_Grade    0\n",
       "Performance_Index_Percent    0\n",
       "dtype: int64"
      ]
     },
     "execution_count": 90,
     "metadata": {},
     "output_type": "execute_result"
    }
   ],
   "source": [
    "#df_CMSD.fillna(0)\n",
    "df_CMSD.isnull().sum()"
   ]
  },
  {
   "cell_type": "code",
   "execution_count": 91,
   "metadata": {},
   "outputs": [
    {
     "data": {
      "text/html": [
       "<div>\n",
       "<style scoped>\n",
       "    .dataframe tbody tr th:only-of-type {\n",
       "        vertical-align: middle;\n",
       "    }\n",
       "\n",
       "    .dataframe tbody tr th {\n",
       "        vertical-align: top;\n",
       "    }\n",
       "\n",
       "    .dataframe thead th {\n",
       "        text-align: right;\n",
       "    }\n",
       "</style>\n",
       "<table border=\"1\" class=\"dataframe\">\n",
       "  <thead>\n",
       "    <tr style=\"text-align: right;\">\n",
       "      <th></th>\n",
       "      <th>District_IRN</th>\n",
       "      <th>Building_IRN</th>\n",
       "      <th>Building_Name</th>\n",
       "      <th>Enrollment</th>\n",
       "      <th>School_Year</th>\n",
       "      <th>Overall_Value_Added_Grade</th>\n",
       "      <th>Performance_Index_Percent</th>\n",
       "    </tr>\n",
       "  </thead>\n",
       "  <tbody>\n",
       "    <tr>\n",
       "      <th>0</th>\n",
       "      <td>43786</td>\n",
       "      <td>224</td>\n",
       "      <td>Adlai Stevenson School</td>\n",
       "      <td>430.0</td>\n",
       "      <td>2015-2016</td>\n",
       "      <td>F</td>\n",
       "      <td>36.6</td>\n",
       "    </tr>\n",
       "    <tr>\n",
       "      <th>1</th>\n",
       "      <td>43786</td>\n",
       "      <td>318</td>\n",
       "      <td>Menlo Park Academy</td>\n",
       "      <td>367.0</td>\n",
       "      <td>2015-2016</td>\n",
       "      <td>C</td>\n",
       "      <td>0.0</td>\n",
       "    </tr>\n",
       "    <tr>\n",
       "      <th>2</th>\n",
       "      <td>43786</td>\n",
       "      <td>489</td>\n",
       "      <td>Almira</td>\n",
       "      <td>499.0</td>\n",
       "      <td>2015-2016</td>\n",
       "      <td>F</td>\n",
       "      <td>38.7</td>\n",
       "    </tr>\n",
       "    <tr>\n",
       "      <th>3</th>\n",
       "      <td>43786</td>\n",
       "      <td>729</td>\n",
       "      <td>Andrew J Rickoff</td>\n",
       "      <td>477.0</td>\n",
       "      <td>2015-2016</td>\n",
       "      <td>F</td>\n",
       "      <td>36.9</td>\n",
       "    </tr>\n",
       "    <tr>\n",
       "      <th>4</th>\n",
       "      <td>43786</td>\n",
       "      <td>828</td>\n",
       "      <td>Anton Grdina</td>\n",
       "      <td>371.0</td>\n",
       "      <td>2015-2016</td>\n",
       "      <td>F</td>\n",
       "      <td>32.4</td>\n",
       "    </tr>\n",
       "    <tr>\n",
       "      <th>...</th>\n",
       "      <td>...</td>\n",
       "      <td>...</td>\n",
       "      <td>...</td>\n",
       "      <td>...</td>\n",
       "      <td>...</td>\n",
       "      <td>...</td>\n",
       "      <td>...</td>\n",
       "    </tr>\n",
       "    <tr>\n",
       "      <th>354</th>\n",
       "      <td>43786</td>\n",
       "      <td>133629</td>\n",
       "      <td>Horizon Science Acad Cleveland</td>\n",
       "      <td>440.0</td>\n",
       "      <td>2017-2018</td>\n",
       "      <td>D</td>\n",
       "      <td>50.1</td>\n",
       "    </tr>\n",
       "    <tr>\n",
       "      <th>355</th>\n",
       "      <td>43786</td>\n",
       "      <td>147397</td>\n",
       "      <td>Cleveland School of Science &amp; Medicine</td>\n",
       "      <td>401.0</td>\n",
       "      <td>2017-2018</td>\n",
       "      <td>A</td>\n",
       "      <td>80.0</td>\n",
       "    </tr>\n",
       "    <tr>\n",
       "      <th>356</th>\n",
       "      <td>43786</td>\n",
       "      <td>12852</td>\n",
       "      <td>Citizens Academy East</td>\n",
       "      <td>0.0</td>\n",
       "      <td>2016-2017</td>\n",
       "      <td>F</td>\n",
       "      <td>68.1</td>\n",
       "    </tr>\n",
       "    <tr>\n",
       "      <th>357</th>\n",
       "      <td>43786</td>\n",
       "      <td>15261</td>\n",
       "      <td>Citizens Academy Southeast</td>\n",
       "      <td>0.0</td>\n",
       "      <td>2016-2017</td>\n",
       "      <td>NR</td>\n",
       "      <td>65.7</td>\n",
       "    </tr>\n",
       "    <tr>\n",
       "      <th>358</th>\n",
       "      <td>43786</td>\n",
       "      <td>133520</td>\n",
       "      <td>Citizens Academy</td>\n",
       "      <td>0.0</td>\n",
       "      <td>2016-2017</td>\n",
       "      <td>F</td>\n",
       "      <td>66.1</td>\n",
       "    </tr>\n",
       "  </tbody>\n",
       "</table>\n",
       "<p>359 rows × 7 columns</p>\n",
       "</div>"
      ],
      "text/plain": [
       "     District_IRN  Building_IRN                           Building_Name  \\\n",
       "0           43786           224                  Adlai Stevenson School   \n",
       "1           43786           318                      Menlo Park Academy   \n",
       "2           43786           489                                  Almira   \n",
       "3           43786           729                        Andrew J Rickoff   \n",
       "4           43786           828                            Anton Grdina   \n",
       "..            ...           ...                                     ...   \n",
       "354         43786        133629          Horizon Science Acad Cleveland   \n",
       "355         43786        147397  Cleveland School of Science & Medicine   \n",
       "356         43786         12852                   Citizens Academy East   \n",
       "357         43786         15261              Citizens Academy Southeast   \n",
       "358         43786        133520                        Citizens Academy   \n",
       "\n",
       "     Enrollment School_Year Overall_Value_Added_Grade  \\\n",
       "0         430.0   2015-2016                         F   \n",
       "1         367.0   2015-2016                         C   \n",
       "2         499.0   2015-2016                         F   \n",
       "3         477.0   2015-2016                         F   \n",
       "4         371.0   2015-2016                         F   \n",
       "..          ...         ...                       ...   \n",
       "354       440.0   2017-2018                         D   \n",
       "355       401.0   2017-2018                         A   \n",
       "356         0.0   2016-2017                         F   \n",
       "357         0.0   2016-2017                        NR   \n",
       "358         0.0   2016-2017                         F   \n",
       "\n",
       "     Performance_Index_Percent  \n",
       "0                         36.6  \n",
       "1                          0.0  \n",
       "2                         38.7  \n",
       "3                         36.9  \n",
       "4                         32.4  \n",
       "..                         ...  \n",
       "354                       50.1  \n",
       "355                       80.0  \n",
       "356                       68.1  \n",
       "357                       65.7  \n",
       "358                       66.1  \n",
       "\n",
       "[359 rows x 7 columns]"
      ]
     },
     "execution_count": 91,
     "metadata": {},
     "output_type": "execute_result"
    }
   ],
   "source": [
    "df_CMSD"
   ]
  },
  {
   "cell_type": "code",
   "execution_count": 92,
   "metadata": {},
   "outputs": [
    {
     "data": {
      "text/html": [
       "<div>\n",
       "<style scoped>\n",
       "    .dataframe tbody tr th:only-of-type {\n",
       "        vertical-align: middle;\n",
       "    }\n",
       "\n",
       "    .dataframe tbody tr th {\n",
       "        vertical-align: top;\n",
       "    }\n",
       "\n",
       "    .dataframe thead th {\n",
       "        text-align: right;\n",
       "    }\n",
       "</style>\n",
       "<table border=\"1\" class=\"dataframe\">\n",
       "  <thead>\n",
       "    <tr style=\"text-align: right;\">\n",
       "      <th></th>\n",
       "      <th>District_IRN</th>\n",
       "      <th>Building_IRN</th>\n",
       "      <th>Building_Name</th>\n",
       "      <th>School_Year</th>\n",
       "      <th>Enrollment</th>\n",
       "      <th>Overall_Value_Added_Grade</th>\n",
       "      <th>Performance_Index_Percent</th>\n",
       "    </tr>\n",
       "  </thead>\n",
       "  <tbody>\n",
       "    <tr>\n",
       "      <th>0</th>\n",
       "      <td>43786</td>\n",
       "      <td>224</td>\n",
       "      <td>Adlai Stevenson School</td>\n",
       "      <td>2015-2016</td>\n",
       "      <td>430.0</td>\n",
       "      <td>F</td>\n",
       "      <td>36.6</td>\n",
       "    </tr>\n",
       "    <tr>\n",
       "      <th>1</th>\n",
       "      <td>43786</td>\n",
       "      <td>318</td>\n",
       "      <td>Menlo Park Academy</td>\n",
       "      <td>2015-2016</td>\n",
       "      <td>367.0</td>\n",
       "      <td>C</td>\n",
       "      <td>0.0</td>\n",
       "    </tr>\n",
       "    <tr>\n",
       "      <th>2</th>\n",
       "      <td>43786</td>\n",
       "      <td>489</td>\n",
       "      <td>Almira</td>\n",
       "      <td>2015-2016</td>\n",
       "      <td>499.0</td>\n",
       "      <td>F</td>\n",
       "      <td>38.7</td>\n",
       "    </tr>\n",
       "    <tr>\n",
       "      <th>3</th>\n",
       "      <td>43786</td>\n",
       "      <td>729</td>\n",
       "      <td>Andrew J Rickoff</td>\n",
       "      <td>2015-2016</td>\n",
       "      <td>477.0</td>\n",
       "      <td>F</td>\n",
       "      <td>36.9</td>\n",
       "    </tr>\n",
       "    <tr>\n",
       "      <th>4</th>\n",
       "      <td>43786</td>\n",
       "      <td>828</td>\n",
       "      <td>Anton Grdina</td>\n",
       "      <td>2015-2016</td>\n",
       "      <td>371.0</td>\n",
       "      <td>F</td>\n",
       "      <td>32.4</td>\n",
       "    </tr>\n",
       "  </tbody>\n",
       "</table>\n",
       "</div>"
      ],
      "text/plain": [
       "   District_IRN  Building_IRN           Building_Name School_Year  Enrollment  \\\n",
       "0         43786           224  Adlai Stevenson School   2015-2016       430.0   \n",
       "1         43786           318      Menlo Park Academy   2015-2016       367.0   \n",
       "2         43786           489                  Almira   2015-2016       499.0   \n",
       "3         43786           729        Andrew J Rickoff   2015-2016       477.0   \n",
       "4         43786           828            Anton Grdina   2015-2016       371.0   \n",
       "\n",
       "  Overall_Value_Added_Grade  Performance_Index_Percent  \n",
       "0                         F                       36.6  \n",
       "1                         C                        0.0  \n",
       "2                         F                       38.7  \n",
       "3                         F                       36.9  \n",
       "4                         F                       32.4  "
      ]
     },
     "execution_count": 92,
     "metadata": {},
     "output_type": "execute_result"
    }
   ],
   "source": [
    "#Rearranging the column names \n",
    "df_CMSD = df_CMSD[['District_IRN', 'Building_IRN', 'Building_Name', 'School_Year', 'Enrollment', 'Overall_Value_Added_Grade','Performance_Index_Percent']]\n",
    "df_CMSD.head()"
   ]
  },
  {
   "cell_type": "code",
   "execution_count": null,
   "metadata": {},
   "outputs": [],
   "source": []
  },
  {
   "cell_type": "code",
   "execution_count": null,
   "metadata": {},
   "outputs": [],
   "source": []
  },
  {
   "cell_type": "markdown",
   "metadata": {},
   "source": [
    "## Download the Combined Dataframe as Excel File"
   ]
  },
  {
   "cell_type": "code",
   "execution_count": null,
   "metadata": {},
   "outputs": [],
   "source": [
    "#Giving the file name to dataframe\n",
    "CMSD_Final_Data = pd.DataFrame(df_CMSD)\n",
    "file_name = 'CMSD_Final_Data.xls'\n",
    " \n",
    "#Saving the dataframe into excel\n",
    "CMSD_Final_Data.to_excel(file_name)\n",
    "print('DataFrame is written to Excel File successfully.')"
   ]
  },
  {
   "cell_type": "code",
   "execution_count": null,
   "metadata": {},
   "outputs": [],
   "source": []
  },
  {
   "cell_type": "markdown",
   "metadata": {},
   "source": [
    "# 2nd Part of Assessment"
   ]
  },
  {
   "cell_type": "markdown",
   "metadata": {},
   "source": [
    "## Aggregate the data"
   ]
  },
  {
   "cell_type": "code",
   "execution_count": 93,
   "metadata": {},
   "outputs": [
    {
     "data": {
      "text/html": [
       "<div>\n",
       "<style scoped>\n",
       "    .dataframe tbody tr th:only-of-type {\n",
       "        vertical-align: middle;\n",
       "    }\n",
       "\n",
       "    .dataframe tbody tr th {\n",
       "        vertical-align: top;\n",
       "    }\n",
       "\n",
       "    .dataframe thead th {\n",
       "        text-align: right;\n",
       "    }\n",
       "</style>\n",
       "<table border=\"1\" class=\"dataframe\">\n",
       "  <thead>\n",
       "    <tr style=\"text-align: right;\">\n",
       "      <th></th>\n",
       "      <th>min</th>\n",
       "      <th>max</th>\n",
       "      <th>sum</th>\n",
       "      <th>count</th>\n",
       "      <th>mean</th>\n",
       "    </tr>\n",
       "    <tr>\n",
       "      <th>Building_IRN</th>\n",
       "      <th></th>\n",
       "      <th></th>\n",
       "      <th></th>\n",
       "      <th></th>\n",
       "      <th></th>\n",
       "    </tr>\n",
       "  </thead>\n",
       "  <tbody>\n",
       "    <tr>\n",
       "      <th>224</th>\n",
       "      <td>430.0</td>\n",
       "      <td>445.0</td>\n",
       "      <td>1318.0</td>\n",
       "      <td>3</td>\n",
       "      <td>439.333333</td>\n",
       "    </tr>\n",
       "    <tr>\n",
       "      <th>318</th>\n",
       "      <td>367.0</td>\n",
       "      <td>418.0</td>\n",
       "      <td>1190.0</td>\n",
       "      <td>3</td>\n",
       "      <td>396.666667</td>\n",
       "    </tr>\n",
       "    <tr>\n",
       "      <th>489</th>\n",
       "      <td>491.0</td>\n",
       "      <td>547.0</td>\n",
       "      <td>1537.0</td>\n",
       "      <td>3</td>\n",
       "      <td>512.333333</td>\n",
       "    </tr>\n",
       "    <tr>\n",
       "      <th>729</th>\n",
       "      <td>441.0</td>\n",
       "      <td>477.0</td>\n",
       "      <td>1375.0</td>\n",
       "      <td>3</td>\n",
       "      <td>458.333333</td>\n",
       "    </tr>\n",
       "    <tr>\n",
       "      <th>828</th>\n",
       "      <td>361.0</td>\n",
       "      <td>396.0</td>\n",
       "      <td>1128.0</td>\n",
       "      <td>3</td>\n",
       "      <td>376.000000</td>\n",
       "    </tr>\n",
       "    <tr>\n",
       "      <th>...</th>\n",
       "      <td>...</td>\n",
       "      <td>...</td>\n",
       "      <td>...</td>\n",
       "      <td>...</td>\n",
       "      <td>...</td>\n",
       "    </tr>\n",
       "    <tr>\n",
       "      <th>133215</th>\n",
       "      <td>241.0</td>\n",
       "      <td>250.0</td>\n",
       "      <td>738.0</td>\n",
       "      <td>3</td>\n",
       "      <td>246.000000</td>\n",
       "    </tr>\n",
       "    <tr>\n",
       "      <th>133520</th>\n",
       "      <td>0.0</td>\n",
       "      <td>446.0</td>\n",
       "      <td>856.0</td>\n",
       "      <td>3</td>\n",
       "      <td>285.333333</td>\n",
       "    </tr>\n",
       "    <tr>\n",
       "      <th>133629</th>\n",
       "      <td>440.0</td>\n",
       "      <td>440.0</td>\n",
       "      <td>440.0</td>\n",
       "      <td>1</td>\n",
       "      <td>440.000000</td>\n",
       "    </tr>\n",
       "    <tr>\n",
       "      <th>147389</th>\n",
       "      <td>48.0</td>\n",
       "      <td>85.0</td>\n",
       "      <td>133.0</td>\n",
       "      <td>2</td>\n",
       "      <td>66.500000</td>\n",
       "    </tr>\n",
       "    <tr>\n",
       "      <th>147397</th>\n",
       "      <td>382.0</td>\n",
       "      <td>404.0</td>\n",
       "      <td>1187.0</td>\n",
       "      <td>3</td>\n",
       "      <td>395.666667</td>\n",
       "    </tr>\n",
       "  </tbody>\n",
       "</table>\n",
       "<p>128 rows × 5 columns</p>\n",
       "</div>"
      ],
      "text/plain": [
       "                min    max     sum  count        mean\n",
       "Building_IRN                                         \n",
       "224           430.0  445.0  1318.0      3  439.333333\n",
       "318           367.0  418.0  1190.0      3  396.666667\n",
       "489           491.0  547.0  1537.0      3  512.333333\n",
       "729           441.0  477.0  1375.0      3  458.333333\n",
       "828           361.0  396.0  1128.0      3  376.000000\n",
       "...             ...    ...     ...    ...         ...\n",
       "133215        241.0  250.0   738.0      3  246.000000\n",
       "133520          0.0  446.0   856.0      3  285.333333\n",
       "133629        440.0  440.0   440.0      1  440.000000\n",
       "147389         48.0   85.0   133.0      2   66.500000\n",
       "147397        382.0  404.0  1187.0      3  395.666667\n",
       "\n",
       "[128 rows x 5 columns]"
      ]
     },
     "execution_count": 93,
     "metadata": {},
     "output_type": "execute_result"
    }
   ],
   "source": [
    "#Aggregating Building IRN for enrollment for last 3 years\n",
    "df_CMSD.groupby(df_CMSD[\"Building_IRN\"]).Enrollment.agg([\"min\", \"max\", \"sum\", \"count\", \"mean\"]) "
   ]
  },
  {
   "cell_type": "code",
   "execution_count": 94,
   "metadata": {},
   "outputs": [
    {
     "data": {
      "text/html": [
       "<div>\n",
       "<style scoped>\n",
       "    .dataframe tbody tr th:only-of-type {\n",
       "        vertical-align: middle;\n",
       "    }\n",
       "\n",
       "    .dataframe tbody tr th {\n",
       "        vertical-align: top;\n",
       "    }\n",
       "\n",
       "    .dataframe thead th {\n",
       "        text-align: right;\n",
       "    }\n",
       "</style>\n",
       "<table border=\"1\" class=\"dataframe\">\n",
       "  <thead>\n",
       "    <tr style=\"text-align: right;\">\n",
       "      <th></th>\n",
       "      <th>min</th>\n",
       "      <th>max</th>\n",
       "      <th>sum</th>\n",
       "      <th>count</th>\n",
       "      <th>mean</th>\n",
       "    </tr>\n",
       "    <tr>\n",
       "      <th>Building_IRN</th>\n",
       "      <th></th>\n",
       "      <th></th>\n",
       "      <th></th>\n",
       "      <th></th>\n",
       "      <th></th>\n",
       "    </tr>\n",
       "  </thead>\n",
       "  <tbody>\n",
       "    <tr>\n",
       "      <th>224</th>\n",
       "      <td>36.6</td>\n",
       "      <td>41.1</td>\n",
       "      <td>117.8</td>\n",
       "      <td>3</td>\n",
       "      <td>39.266667</td>\n",
       "    </tr>\n",
       "    <tr>\n",
       "      <th>318</th>\n",
       "      <td>0.0</td>\n",
       "      <td>90.7</td>\n",
       "      <td>179.4</td>\n",
       "      <td>3</td>\n",
       "      <td>59.800000</td>\n",
       "    </tr>\n",
       "    <tr>\n",
       "      <th>489</th>\n",
       "      <td>38.7</td>\n",
       "      <td>41.6</td>\n",
       "      <td>119.3</td>\n",
       "      <td>3</td>\n",
       "      <td>39.766667</td>\n",
       "    </tr>\n",
       "    <tr>\n",
       "      <th>729</th>\n",
       "      <td>36.9</td>\n",
       "      <td>41.6</td>\n",
       "      <td>117.8</td>\n",
       "      <td>3</td>\n",
       "      <td>39.266667</td>\n",
       "    </tr>\n",
       "    <tr>\n",
       "      <th>828</th>\n",
       "      <td>32.4</td>\n",
       "      <td>35.6</td>\n",
       "      <td>101.6</td>\n",
       "      <td>3</td>\n",
       "      <td>33.866667</td>\n",
       "    </tr>\n",
       "    <tr>\n",
       "      <th>...</th>\n",
       "      <td>...</td>\n",
       "      <td>...</td>\n",
       "      <td>...</td>\n",
       "      <td>...</td>\n",
       "      <td>...</td>\n",
       "    </tr>\n",
       "    <tr>\n",
       "      <th>133215</th>\n",
       "      <td>0.0</td>\n",
       "      <td>72.2</td>\n",
       "      <td>137.9</td>\n",
       "      <td>3</td>\n",
       "      <td>45.966667</td>\n",
       "    </tr>\n",
       "    <tr>\n",
       "      <th>133520</th>\n",
       "      <td>0.0</td>\n",
       "      <td>66.1</td>\n",
       "      <td>130.6</td>\n",
       "      <td>3</td>\n",
       "      <td>43.533333</td>\n",
       "    </tr>\n",
       "    <tr>\n",
       "      <th>133629</th>\n",
       "      <td>50.1</td>\n",
       "      <td>50.1</td>\n",
       "      <td>50.1</td>\n",
       "      <td>1</td>\n",
       "      <td>50.100000</td>\n",
       "    </tr>\n",
       "    <tr>\n",
       "      <th>147389</th>\n",
       "      <td>0.0</td>\n",
       "      <td>25.9</td>\n",
       "      <td>25.9</td>\n",
       "      <td>2</td>\n",
       "      <td>12.950000</td>\n",
       "    </tr>\n",
       "    <tr>\n",
       "      <th>147397</th>\n",
       "      <td>76.0</td>\n",
       "      <td>80.0</td>\n",
       "      <td>234.8</td>\n",
       "      <td>3</td>\n",
       "      <td>78.266667</td>\n",
       "    </tr>\n",
       "  </tbody>\n",
       "</table>\n",
       "<p>128 rows × 5 columns</p>\n",
       "</div>"
      ],
      "text/plain": [
       "               min   max    sum  count       mean\n",
       "Building_IRN                                     \n",
       "224           36.6  41.1  117.8      3  39.266667\n",
       "318            0.0  90.7  179.4      3  59.800000\n",
       "489           38.7  41.6  119.3      3  39.766667\n",
       "729           36.9  41.6  117.8      3  39.266667\n",
       "828           32.4  35.6  101.6      3  33.866667\n",
       "...            ...   ...    ...    ...        ...\n",
       "133215         0.0  72.2  137.9      3  45.966667\n",
       "133520         0.0  66.1  130.6      3  43.533333\n",
       "133629        50.1  50.1   50.1      1  50.100000\n",
       "147389         0.0  25.9   25.9      2  12.950000\n",
       "147397        76.0  80.0  234.8      3  78.266667\n",
       "\n",
       "[128 rows x 5 columns]"
      ]
     },
     "execution_count": 94,
     "metadata": {},
     "output_type": "execute_result"
    }
   ],
   "source": [
    "#Aggregating Building IRN for PIP for last 3 years\n",
    "df_CMSD.groupby(df_CMSD[\"Building_IRN\"]).Performance_Index_Percent.agg([\"min\", \"max\", \"sum\", \"count\", \"mean\"]) "
   ]
  },
  {
   "cell_type": "code",
   "execution_count": 95,
   "metadata": {},
   "outputs": [
    {
     "data": {
      "text/html": [
       "<div>\n",
       "<style scoped>\n",
       "    .dataframe tbody tr th:only-of-type {\n",
       "        vertical-align: middle;\n",
       "    }\n",
       "\n",
       "    .dataframe tbody tr th {\n",
       "        vertical-align: top;\n",
       "    }\n",
       "\n",
       "    .dataframe thead th {\n",
       "        text-align: right;\n",
       "    }\n",
       "</style>\n",
       "<table border=\"1\" class=\"dataframe\">\n",
       "  <thead>\n",
       "    <tr style=\"text-align: right;\">\n",
       "      <th></th>\n",
       "      <th>min</th>\n",
       "      <th>max</th>\n",
       "      <th>sum</th>\n",
       "      <th>count</th>\n",
       "      <th>mean</th>\n",
       "    </tr>\n",
       "    <tr>\n",
       "      <th>School_Year</th>\n",
       "      <th></th>\n",
       "      <th></th>\n",
       "      <th></th>\n",
       "      <th></th>\n",
       "      <th></th>\n",
       "    </tr>\n",
       "  </thead>\n",
       "  <tbody>\n",
       "    <tr>\n",
       "      <th>2015-2016</th>\n",
       "      <td>85.0</td>\n",
       "      <td>1252.0</td>\n",
       "      <td>43643.0</td>\n",
       "      <td>117</td>\n",
       "      <td>373.017094</td>\n",
       "    </tr>\n",
       "    <tr>\n",
       "      <th>2016-2017</th>\n",
       "      <td>0.0</td>\n",
       "      <td>1276.0</td>\n",
       "      <td>42695.0</td>\n",
       "      <td>119</td>\n",
       "      <td>358.781513</td>\n",
       "    </tr>\n",
       "    <tr>\n",
       "      <th>2017-2018</th>\n",
       "      <td>48.0</td>\n",
       "      <td>956.0</td>\n",
       "      <td>44199.0</td>\n",
       "      <td>123</td>\n",
       "      <td>359.341463</td>\n",
       "    </tr>\n",
       "  </tbody>\n",
       "</table>\n",
       "</div>"
      ],
      "text/plain": [
       "              min     max      sum  count        mean\n",
       "School_Year                                          \n",
       "2015-2016    85.0  1252.0  43643.0    117  373.017094\n",
       "2016-2017     0.0  1276.0  42695.0    119  358.781513\n",
       "2017-2018    48.0   956.0  44199.0    123  359.341463"
      ]
     },
     "execution_count": 95,
     "metadata": {},
     "output_type": "execute_result"
    }
   ],
   "source": [
    "#Aggregating enrollment for last 3 school years\n",
    "df_CMSD.groupby(df_CMSD[\"School_Year\"]).Enrollment.agg([\"min\", \"max\", \"sum\", \"count\", \"mean\"]) "
   ]
  },
  {
   "cell_type": "code",
   "execution_count": 123,
   "metadata": {},
   "outputs": [
    {
     "name": "stdout",
     "output_type": "stream",
     "text": [
      "  School_Year  Enrollment\n",
      "0   2015-2016     43643.0\n",
      "1   2016-2017     42695.0\n",
      "2   2017-2018     44199.0\n"
     ]
    }
   ],
   "source": [
    "#Calculating sum of enrollment foe each year\n",
    "total_by_year = df_CMSD.groupby('School_Year')['Enrollment'].sum().reset_index()\n",
    "print(total_by_year)"
   ]
  },
  {
   "cell_type": "code",
   "execution_count": 96,
   "metadata": {},
   "outputs": [
    {
     "data": {
      "text/html": [
       "<div>\n",
       "<style scoped>\n",
       "    .dataframe tbody tr th:only-of-type {\n",
       "        vertical-align: middle;\n",
       "    }\n",
       "\n",
       "    .dataframe tbody tr th {\n",
       "        vertical-align: top;\n",
       "    }\n",
       "\n",
       "    .dataframe thead th {\n",
       "        text-align: right;\n",
       "    }\n",
       "</style>\n",
       "<table border=\"1\" class=\"dataframe\">\n",
       "  <thead>\n",
       "    <tr style=\"text-align: right;\">\n",
       "      <th></th>\n",
       "      <th>min</th>\n",
       "      <th>max</th>\n",
       "      <th>sum</th>\n",
       "      <th>count</th>\n",
       "      <th>mean</th>\n",
       "    </tr>\n",
       "    <tr>\n",
       "      <th>School_Year</th>\n",
       "      <th></th>\n",
       "      <th></th>\n",
       "      <th></th>\n",
       "      <th></th>\n",
       "      <th></th>\n",
       "    </tr>\n",
       "  </thead>\n",
       "  <tbody>\n",
       "    <tr>\n",
       "      <th>2015-2016</th>\n",
       "      <td>0.0</td>\n",
       "      <td>76.0</td>\n",
       "      <td>4362.7</td>\n",
       "      <td>117</td>\n",
       "      <td>37.288034</td>\n",
       "    </tr>\n",
       "    <tr>\n",
       "      <th>2016-2017</th>\n",
       "      <td>0.0</td>\n",
       "      <td>88.7</td>\n",
       "      <td>5692.4</td>\n",
       "      <td>119</td>\n",
       "      <td>47.835294</td>\n",
       "    </tr>\n",
       "    <tr>\n",
       "      <th>2017-2018</th>\n",
       "      <td>27.6</td>\n",
       "      <td>90.7</td>\n",
       "      <td>6128.0</td>\n",
       "      <td>123</td>\n",
       "      <td>49.821138</td>\n",
       "    </tr>\n",
       "  </tbody>\n",
       "</table>\n",
       "</div>"
      ],
      "text/plain": [
       "              min   max     sum  count       mean\n",
       "School_Year                                      \n",
       "2015-2016     0.0  76.0  4362.7    117  37.288034\n",
       "2016-2017     0.0  88.7  5692.4    119  47.835294\n",
       "2017-2018    27.6  90.7  6128.0    123  49.821138"
      ]
     },
     "execution_count": 96,
     "metadata": {},
     "output_type": "execute_result"
    }
   ],
   "source": [
    "#Aggregating PIP for last 3 school years\n",
    "df_CMSD.groupby(df_CMSD[\"School_Year\"]).Performance_Index_Percent.agg([\"min\", \"max\", \"sum\", \"count\", \"mean\"]) "
   ]
  },
  {
   "cell_type": "code",
   "execution_count": 97,
   "metadata": {},
   "outputs": [
    {
     "name": "stdout",
     "output_type": "stream",
     "text": [
      "Overall_Value_Added_Grade School_Year   A   B   C   D   F  NR\n",
      "0                           2015-2016   8   2  10  13  78   6\n",
      "1                           2016-2017  10   3  16   8  78   4\n",
      "2                           2017-2018  14  12  14   9  72   2\n"
     ]
    }
   ],
   "source": [
    "# Calculate the sum of categories by year using groupby function\n",
    "result = df_CMSD.groupby('School_Year')['Overall_Value_Added_Grade'].value_counts().unstack(fill_value=0).reset_index()\n",
    "print(result)"
   ]
  },
  {
   "cell_type": "code",
   "execution_count": null,
   "metadata": {},
   "outputs": [],
   "source": []
  },
  {
   "cell_type": "code",
   "execution_count": null,
   "metadata": {},
   "outputs": [],
   "source": []
  },
  {
   "cell_type": "markdown",
   "metadata": {},
   "source": [
    "# Data Visualization"
   ]
  },
  {
   "cell_type": "markdown",
   "metadata": {},
   "source": [
    "### Interactive Chart for total number of Enrollment by school year"
   ]
  },
  {
   "cell_type": "code",
   "execution_count": 122,
   "metadata": {},
   "outputs": [
    {
     "name": "stdout",
     "output_type": "stream",
     "text": [
      "  School_Year  Enrollment\n",
      "0   2015-2016     43643.0\n",
      "1   2016-2017     42695.0\n",
      "2   2017-2018     44199.0\n"
     ]
    },
    {
     "data": {
      "application/vnd.plotly.v1+json": {
       "config": {
        "plotlyServerURL": "https://plot.ly"
       },
       "data": [
        {
         "alignmentgroup": "True",
         "hovertemplate": "School_Year=%{x}<br>Enrollment=%{y}<br>Building_IRN=%{marker.color}<extra></extra>",
         "legendgroup": "",
         "marker": {
          "color": [
           224,
           318,
           489,
           729,
           828,
           930,
           1040,
           2378,
           3137,
           4234,
           5066,
           5637,
           5892,
           5900,
           5942,
           6353,
           6429,
           6940,
           8060,
           8383,
           8490,
           8680,
           8987,
           9285,
           9421,
           9555,
           10200,
           10201,
           10801,
           11291,
           11923,
           12010,
           12029,
           12030,
           12031,
           12350,
           12352,
           12353,
           12355,
           12682,
           12852,
           12898,
           13034,
           13148,
           13292,
           13680,
           13847,
           14913,
           14918,
           14919,
           14920,
           15039,
           15073,
           15239,
           15261,
           15578,
           15598,
           15599,
           15600,
           17467,
           17830,
           17863,
           18325,
           18382,
           18408,
           18416,
           19406,
           21527,
           21543,
           21550,
           23069,
           23085,
           23259,
           23689,
           24687,
           24695,
           24703,
           25650,
           25874,
           26443,
           27102,
           28589,
           28720,
           29371,
           29413,
           31963,
           32060,
           32128,
           33902,
           36475,
           37101,
           37457,
           38182,
           38604,
           38927,
           39149,
           39206,
           39685,
           39875,
           39891,
           41236,
           41517,
           41541,
           62315,
           62323,
           62760,
           62778,
           63461,
           64576,
           65565,
           65573,
           68221,
           86306,
           133215,
           133520,
           147389,
           147397,
           224,
           318,
           489,
           729,
           828,
           930,
           1040,
           2378,
           3137,
           4234,
           5066,
           5637,
           5892,
           5900,
           5942,
           6353,
           6429,
           6940,
           8060,
           8383,
           8490,
           8680,
           8987,
           9285,
           9421,
           9555,
           10200,
           10201,
           10801,
           11291,
           11923,
           12010,
           12029,
           12030,
           12031,
           12350,
           12352,
           12353,
           12355,
           12682,
           12898,
           13034,
           13148,
           13292,
           13680,
           13847,
           14913,
           14918,
           14919,
           14920,
           15039,
           15073,
           15239,
           15578,
           15598,
           15599,
           15600,
           15722,
           16427,
           16429,
           17467,
           17830,
           17863,
           18325,
           18382,
           18408,
           18416,
           19406,
           21527,
           21543,
           21550,
           23069,
           23085,
           23259,
           23689,
           24687,
           24695,
           24703,
           25650,
           25874,
           26443,
           27102,
           28589,
           28720,
           29371,
           29413,
           31963,
           32060,
           32128,
           33902,
           36475,
           37101,
           37457,
           38182,
           38604,
           38927,
           39149,
           39206,
           39685,
           39891,
           41236,
           41517,
           41541,
           62315,
           62323,
           62760,
           62778,
           63461,
           64576,
           65565,
           65573,
           68221,
           86306,
           133215,
           147389,
           147397,
           224,
           318,
           489,
           729,
           828,
           930,
           936,
           1040,
           2378,
           3137,
           4234,
           5066,
           5637,
           5892,
           5900,
           5942,
           6353,
           6429,
           6940,
           8060,
           8383,
           8490,
           8680,
           8987,
           9285,
           9421,
           9555,
           10200,
           10201,
           10801,
           11291,
           11923,
           12010,
           12029,
           12030,
           12031,
           12350,
           12352,
           12353,
           12355,
           12682,
           12852,
           12898,
           13034,
           13148,
           13292,
           13680,
           13847,
           14913,
           14918,
           14919,
           14920,
           15039,
           15073,
           15239,
           15261,
           15578,
           15598,
           15599,
           15600,
           15722,
           16427,
           16429,
           16882,
           16883,
           16884,
           16885,
           16886,
           16887,
           17467,
           17830,
           17863,
           18325,
           18408,
           19406,
           21527,
           21543,
           21550,
           23069,
           23085,
           23259,
           24687,
           24695,
           24703,
           25650,
           25874,
           26443,
           27102,
           28589,
           28720,
           29371,
           29413,
           31963,
           32060,
           32128,
           33902,
           36475,
           37101,
           37457,
           38182,
           38604,
           38927,
           39149,
           39206,
           39685,
           39891,
           41236,
           41517,
           41541,
           62315,
           62323,
           62760,
           62778,
           63461,
           64576,
           65565,
           65573,
           68221,
           86306,
           133215,
           133520,
           133629,
           147397,
           12852,
           15261,
           133520
          ],
          "coloraxis": "coloraxis",
          "opacity": 0.8
         },
         "name": "",
         "offsetgroup": "",
         "orientation": "v",
         "showlegend": false,
         "textposition": "auto",
         "type": "bar",
         "x": [
          "2015-2016",
          "2015-2016",
          "2015-2016",
          "2015-2016",
          "2015-2016",
          "2015-2016",
          "2015-2016",
          "2015-2016",
          "2015-2016",
          "2015-2016",
          "2015-2016",
          "2015-2016",
          "2015-2016",
          "2015-2016",
          "2015-2016",
          "2015-2016",
          "2015-2016",
          "2015-2016",
          "2015-2016",
          "2015-2016",
          "2015-2016",
          "2015-2016",
          "2015-2016",
          "2015-2016",
          "2015-2016",
          "2015-2016",
          "2015-2016",
          "2015-2016",
          "2015-2016",
          "2015-2016",
          "2015-2016",
          "2015-2016",
          "2015-2016",
          "2015-2016",
          "2015-2016",
          "2015-2016",
          "2015-2016",
          "2015-2016",
          "2015-2016",
          "2015-2016",
          "2015-2016",
          "2015-2016",
          "2015-2016",
          "2015-2016",
          "2015-2016",
          "2015-2016",
          "2015-2016",
          "2015-2016",
          "2015-2016",
          "2015-2016",
          "2015-2016",
          "2015-2016",
          "2015-2016",
          "2015-2016",
          "2015-2016",
          "2015-2016",
          "2015-2016",
          "2015-2016",
          "2015-2016",
          "2015-2016",
          "2015-2016",
          "2015-2016",
          "2015-2016",
          "2015-2016",
          "2015-2016",
          "2015-2016",
          "2015-2016",
          "2015-2016",
          "2015-2016",
          "2015-2016",
          "2015-2016",
          "2015-2016",
          "2015-2016",
          "2015-2016",
          "2015-2016",
          "2015-2016",
          "2015-2016",
          "2015-2016",
          "2015-2016",
          "2015-2016",
          "2015-2016",
          "2015-2016",
          "2015-2016",
          "2015-2016",
          "2015-2016",
          "2015-2016",
          "2015-2016",
          "2015-2016",
          "2015-2016",
          "2015-2016",
          "2015-2016",
          "2015-2016",
          "2015-2016",
          "2015-2016",
          "2015-2016",
          "2015-2016",
          "2015-2016",
          "2015-2016",
          "2015-2016",
          "2015-2016",
          "2015-2016",
          "2015-2016",
          "2015-2016",
          "2015-2016",
          "2015-2016",
          "2015-2016",
          "2015-2016",
          "2015-2016",
          "2015-2016",
          "2015-2016",
          "2015-2016",
          "2015-2016",
          "2015-2016",
          "2015-2016",
          "2015-2016",
          "2015-2016",
          "2015-2016",
          "2016-2017",
          "2016-2017",
          "2016-2017",
          "2016-2017",
          "2016-2017",
          "2016-2017",
          "2016-2017",
          "2016-2017",
          "2016-2017",
          "2016-2017",
          "2016-2017",
          "2016-2017",
          "2016-2017",
          "2016-2017",
          "2016-2017",
          "2016-2017",
          "2016-2017",
          "2016-2017",
          "2016-2017",
          "2016-2017",
          "2016-2017",
          "2016-2017",
          "2016-2017",
          "2016-2017",
          "2016-2017",
          "2016-2017",
          "2016-2017",
          "2016-2017",
          "2016-2017",
          "2016-2017",
          "2016-2017",
          "2016-2017",
          "2016-2017",
          "2016-2017",
          "2016-2017",
          "2016-2017",
          "2016-2017",
          "2016-2017",
          "2016-2017",
          "2016-2017",
          "2016-2017",
          "2016-2017",
          "2016-2017",
          "2016-2017",
          "2016-2017",
          "2016-2017",
          "2016-2017",
          "2016-2017",
          "2016-2017",
          "2016-2017",
          "2016-2017",
          "2016-2017",
          "2016-2017",
          "2016-2017",
          "2016-2017",
          "2016-2017",
          "2016-2017",
          "2016-2017",
          "2016-2017",
          "2016-2017",
          "2016-2017",
          "2016-2017",
          "2016-2017",
          "2016-2017",
          "2016-2017",
          "2016-2017",
          "2016-2017",
          "2016-2017",
          "2016-2017",
          "2016-2017",
          "2016-2017",
          "2016-2017",
          "2016-2017",
          "2016-2017",
          "2016-2017",
          "2016-2017",
          "2016-2017",
          "2016-2017",
          "2016-2017",
          "2016-2017",
          "2016-2017",
          "2016-2017",
          "2016-2017",
          "2016-2017",
          "2016-2017",
          "2016-2017",
          "2016-2017",
          "2016-2017",
          "2016-2017",
          "2016-2017",
          "2016-2017",
          "2016-2017",
          "2016-2017",
          "2016-2017",
          "2016-2017",
          "2016-2017",
          "2016-2017",
          "2016-2017",
          "2016-2017",
          "2016-2017",
          "2016-2017",
          "2016-2017",
          "2016-2017",
          "2016-2017",
          "2016-2017",
          "2016-2017",
          "2016-2017",
          "2016-2017",
          "2016-2017",
          "2016-2017",
          "2016-2017",
          "2016-2017",
          "2016-2017",
          "2016-2017",
          "2016-2017",
          "2016-2017",
          "2017-2018",
          "2017-2018",
          "2017-2018",
          "2017-2018",
          "2017-2018",
          "2017-2018",
          "2017-2018",
          "2017-2018",
          "2017-2018",
          "2017-2018",
          "2017-2018",
          "2017-2018",
          "2017-2018",
          "2017-2018",
          "2017-2018",
          "2017-2018",
          "2017-2018",
          "2017-2018",
          "2017-2018",
          "2017-2018",
          "2017-2018",
          "2017-2018",
          "2017-2018",
          "2017-2018",
          "2017-2018",
          "2017-2018",
          "2017-2018",
          "2017-2018",
          "2017-2018",
          "2017-2018",
          "2017-2018",
          "2017-2018",
          "2017-2018",
          "2017-2018",
          "2017-2018",
          "2017-2018",
          "2017-2018",
          "2017-2018",
          "2017-2018",
          "2017-2018",
          "2017-2018",
          "2017-2018",
          "2017-2018",
          "2017-2018",
          "2017-2018",
          "2017-2018",
          "2017-2018",
          "2017-2018",
          "2017-2018",
          "2017-2018",
          "2017-2018",
          "2017-2018",
          "2017-2018",
          "2017-2018",
          "2017-2018",
          "2017-2018",
          "2017-2018",
          "2017-2018",
          "2017-2018",
          "2017-2018",
          "2017-2018",
          "2017-2018",
          "2017-2018",
          "2017-2018",
          "2017-2018",
          "2017-2018",
          "2017-2018",
          "2017-2018",
          "2017-2018",
          "2017-2018",
          "2017-2018",
          "2017-2018",
          "2017-2018",
          "2017-2018",
          "2017-2018",
          "2017-2018",
          "2017-2018",
          "2017-2018",
          "2017-2018",
          "2017-2018",
          "2017-2018",
          "2017-2018",
          "2017-2018",
          "2017-2018",
          "2017-2018",
          "2017-2018",
          "2017-2018",
          "2017-2018",
          "2017-2018",
          "2017-2018",
          "2017-2018",
          "2017-2018",
          "2017-2018",
          "2017-2018",
          "2017-2018",
          "2017-2018",
          "2017-2018",
          "2017-2018",
          "2017-2018",
          "2017-2018",
          "2017-2018",
          "2017-2018",
          "2017-2018",
          "2017-2018",
          "2017-2018",
          "2017-2018",
          "2017-2018",
          "2017-2018",
          "2017-2018",
          "2017-2018",
          "2017-2018",
          "2017-2018",
          "2017-2018",
          "2017-2018",
          "2017-2018",
          "2017-2018",
          "2017-2018",
          "2017-2018",
          "2017-2018",
          "2017-2018",
          "2017-2018",
          "2017-2018",
          "2017-2018",
          "2016-2017",
          "2016-2017",
          "2016-2017"
         ],
         "xaxis": "x",
         "y": [
          430,
          367,
          499,
          477,
          371,
          295,
          491,
          602,
          346,
          393,
          361,
          376,
          512,
          387,
          342,
          406,
          606,
          436,
          288,
          375,
          362,
          404,
          242,
          326,
          381,
          368,
          396,
          196,
          367,
          424,
          553,
          282,
          258,
          191,
          269,
          538,
          289,
          137,
          261,
          220,
          378,
          554,
          391,
          295,
          402,
          469,
          380,
          146,
          152,
          176,
          248,
          185,
          274,
          92,
          170,
          444,
          196,
          196,
          213,
          291,
          1252,
          338,
          833,
          319,
          281,
          621,
          326,
          335,
          445,
          258,
          346,
          280,
          650,
          255,
          418,
          513,
          258,
          398,
          316,
          505,
          400,
          275,
          445,
          361,
          334,
          519,
          375,
          477,
          434,
          380,
          720,
          585,
          205,
          407,
          399,
          239,
          425,
          282,
          189,
          166,
          380,
          259,
          368,
          717,
          239,
          588,
          741,
          252,
          584,
          360,
          318,
          200,
          434,
          250,
          446,
          85,
          382,
          445,
          405,
          491,
          457,
          361,
          311,
          514,
          652,
          318,
          391,
          331,
          348,
          499,
          408,
          315,
          413,
          598,
          370,
          268,
          343,
          338,
          429,
          271,
          340,
          407,
          365,
          406,
          228,
          344,
          406,
          554,
          275,
          271,
          212,
          287,
          604,
          298,
          146,
          308,
          213,
          579,
          418,
          294,
          384,
          405,
          356,
          177,
          241,
          245,
          339,
          208,
          266,
          151,
          475,
          260,
          298,
          294,
          68,
          95,
          125,
          285,
          1276,
          295,
          694,
          170,
          288,
          361,
          313,
          323,
          441,
          250,
          344,
          291,
          612,
          213,
          423,
          519,
          236,
          403,
          293,
          515,
          447,
          249,
          475,
          315,
          360,
          493,
          389,
          502,
          482,
          400,
          822,
          560,
          190,
          431,
          382,
          254,
          426,
          265,
          305,
          378,
          245,
          358,
          468,
          231,
          542,
          781,
          253,
          542,
          397,
          328,
          190,
          379,
          241,
          48,
          404,
          443,
          418,
          547,
          441,
          396,
          322,
          209,
          513,
          615,
          330,
          395,
          301,
          318,
          456,
          408,
          326,
          345,
          590,
          331,
          247,
          325,
          403,
          415,
          237,
          346,
          380,
          361,
          387,
          246,
          334,
          406,
          490,
          278,
          262,
          236,
          298,
          714,
          295,
          149,
          316,
          222,
          403,
          583,
          427,
          256,
          341,
          388,
          379,
          203,
          311,
          265,
          428,
          259,
          256,
          174,
          344,
          457,
          389,
          406,
          377,
          180,
          191,
          170,
          135,
          128,
          56,
          98,
          95,
          48,
          265,
          956,
          241,
          550,
          303,
          327,
          319,
          435,
          243,
          312,
          311,
          639,
          420,
          488,
          202,
          402,
          273,
          525,
          491,
          289,
          480,
          291,
          383,
          491,
          365,
          493,
          489,
          397,
          829,
          544,
          192,
          423,
          406,
          289,
          478,
          267,
          271,
          483,
          211,
          348,
          320,
          186,
          528,
          752,
          229,
          473,
          430,
          335,
          173,
          356,
          247,
          410,
          440,
          401,
          0,
          0,
          0
         ],
         "yaxis": "y"
        }
       ],
       "layout": {
        "annotations": [
         {
          "arrowhead": 4,
          "ax": 0,
          "ay": -40,
          "showarrow": true,
          "text": "Total: 43643.0",
          "x": "2015-2016",
          "y": 43643
         },
         {
          "arrowhead": 4,
          "ax": 0,
          "ay": -40,
          "showarrow": true,
          "text": "Total: 42695.0",
          "x": "2016-2017",
          "y": 42695
         },
         {
          "arrowhead": 4,
          "ax": 0,
          "ay": -40,
          "showarrow": true,
          "text": "Total: 44199.0",
          "x": "2017-2018",
          "y": 44199
         }
        ],
        "barmode": "relative",
        "coloraxis": {
         "colorbar": {
          "title": {
           "text": "Building_IRN"
          }
         },
         "colorscale": [
          [
           0,
           "#440154"
          ],
          [
           0.1111111111111111,
           "#482878"
          ],
          [
           0.2222222222222222,
           "#3e4989"
          ],
          [
           0.3333333333333333,
           "#31688e"
          ],
          [
           0.4444444444444444,
           "#26828e"
          ],
          [
           0.5555555555555556,
           "#1f9e89"
          ],
          [
           0.6666666666666666,
           "#35b779"
          ],
          [
           0.7777777777777778,
           "#6ece58"
          ],
          [
           0.8888888888888888,
           "#b5de2b"
          ],
          [
           1,
           "#fde725"
          ]
         ]
        },
        "height": 600,
        "legend": {
         "tracegroupgap": 0
        },
        "margin": {
         "t": 60
        },
        "template": {
         "data": {
          "bar": [
           {
            "error_x": {
             "color": "#2a3f5f"
            },
            "error_y": {
             "color": "#2a3f5f"
            },
            "marker": {
             "line": {
              "color": "#E5ECF6",
              "width": 0.5
             }
            },
            "type": "bar"
           }
          ],
          "barpolar": [
           {
            "marker": {
             "line": {
              "color": "#E5ECF6",
              "width": 0.5
             }
            },
            "type": "barpolar"
           }
          ],
          "carpet": [
           {
            "aaxis": {
             "endlinecolor": "#2a3f5f",
             "gridcolor": "white",
             "linecolor": "white",
             "minorgridcolor": "white",
             "startlinecolor": "#2a3f5f"
            },
            "baxis": {
             "endlinecolor": "#2a3f5f",
             "gridcolor": "white",
             "linecolor": "white",
             "minorgridcolor": "white",
             "startlinecolor": "#2a3f5f"
            },
            "type": "carpet"
           }
          ],
          "choropleth": [
           {
            "colorbar": {
             "outlinewidth": 0,
             "ticks": ""
            },
            "type": "choropleth"
           }
          ],
          "contour": [
           {
            "colorbar": {
             "outlinewidth": 0,
             "ticks": ""
            },
            "colorscale": [
             [
              0,
              "#0d0887"
             ],
             [
              0.1111111111111111,
              "#46039f"
             ],
             [
              0.2222222222222222,
              "#7201a8"
             ],
             [
              0.3333333333333333,
              "#9c179e"
             ],
             [
              0.4444444444444444,
              "#bd3786"
             ],
             [
              0.5555555555555556,
              "#d8576b"
             ],
             [
              0.6666666666666666,
              "#ed7953"
             ],
             [
              0.7777777777777778,
              "#fb9f3a"
             ],
             [
              0.8888888888888888,
              "#fdca26"
             ],
             [
              1,
              "#f0f921"
             ]
            ],
            "type": "contour"
           }
          ],
          "contourcarpet": [
           {
            "colorbar": {
             "outlinewidth": 0,
             "ticks": ""
            },
            "type": "contourcarpet"
           }
          ],
          "heatmap": [
           {
            "colorbar": {
             "outlinewidth": 0,
             "ticks": ""
            },
            "colorscale": [
             [
              0,
              "#0d0887"
             ],
             [
              0.1111111111111111,
              "#46039f"
             ],
             [
              0.2222222222222222,
              "#7201a8"
             ],
             [
              0.3333333333333333,
              "#9c179e"
             ],
             [
              0.4444444444444444,
              "#bd3786"
             ],
             [
              0.5555555555555556,
              "#d8576b"
             ],
             [
              0.6666666666666666,
              "#ed7953"
             ],
             [
              0.7777777777777778,
              "#fb9f3a"
             ],
             [
              0.8888888888888888,
              "#fdca26"
             ],
             [
              1,
              "#f0f921"
             ]
            ],
            "type": "heatmap"
           }
          ],
          "heatmapgl": [
           {
            "colorbar": {
             "outlinewidth": 0,
             "ticks": ""
            },
            "colorscale": [
             [
              0,
              "#0d0887"
             ],
             [
              0.1111111111111111,
              "#46039f"
             ],
             [
              0.2222222222222222,
              "#7201a8"
             ],
             [
              0.3333333333333333,
              "#9c179e"
             ],
             [
              0.4444444444444444,
              "#bd3786"
             ],
             [
              0.5555555555555556,
              "#d8576b"
             ],
             [
              0.6666666666666666,
              "#ed7953"
             ],
             [
              0.7777777777777778,
              "#fb9f3a"
             ],
             [
              0.8888888888888888,
              "#fdca26"
             ],
             [
              1,
              "#f0f921"
             ]
            ],
            "type": "heatmapgl"
           }
          ],
          "histogram": [
           {
            "marker": {
             "colorbar": {
              "outlinewidth": 0,
              "ticks": ""
             }
            },
            "type": "histogram"
           }
          ],
          "histogram2d": [
           {
            "colorbar": {
             "outlinewidth": 0,
             "ticks": ""
            },
            "colorscale": [
             [
              0,
              "#0d0887"
             ],
             [
              0.1111111111111111,
              "#46039f"
             ],
             [
              0.2222222222222222,
              "#7201a8"
             ],
             [
              0.3333333333333333,
              "#9c179e"
             ],
             [
              0.4444444444444444,
              "#bd3786"
             ],
             [
              0.5555555555555556,
              "#d8576b"
             ],
             [
              0.6666666666666666,
              "#ed7953"
             ],
             [
              0.7777777777777778,
              "#fb9f3a"
             ],
             [
              0.8888888888888888,
              "#fdca26"
             ],
             [
              1,
              "#f0f921"
             ]
            ],
            "type": "histogram2d"
           }
          ],
          "histogram2dcontour": [
           {
            "colorbar": {
             "outlinewidth": 0,
             "ticks": ""
            },
            "colorscale": [
             [
              0,
              "#0d0887"
             ],
             [
              0.1111111111111111,
              "#46039f"
             ],
             [
              0.2222222222222222,
              "#7201a8"
             ],
             [
              0.3333333333333333,
              "#9c179e"
             ],
             [
              0.4444444444444444,
              "#bd3786"
             ],
             [
              0.5555555555555556,
              "#d8576b"
             ],
             [
              0.6666666666666666,
              "#ed7953"
             ],
             [
              0.7777777777777778,
              "#fb9f3a"
             ],
             [
              0.8888888888888888,
              "#fdca26"
             ],
             [
              1,
              "#f0f921"
             ]
            ],
            "type": "histogram2dcontour"
           }
          ],
          "mesh3d": [
           {
            "colorbar": {
             "outlinewidth": 0,
             "ticks": ""
            },
            "type": "mesh3d"
           }
          ],
          "parcoords": [
           {
            "line": {
             "colorbar": {
              "outlinewidth": 0,
              "ticks": ""
             }
            },
            "type": "parcoords"
           }
          ],
          "pie": [
           {
            "automargin": true,
            "type": "pie"
           }
          ],
          "scatter": [
           {
            "marker": {
             "colorbar": {
              "outlinewidth": 0,
              "ticks": ""
             }
            },
            "type": "scatter"
           }
          ],
          "scatter3d": [
           {
            "line": {
             "colorbar": {
              "outlinewidth": 0,
              "ticks": ""
             }
            },
            "marker": {
             "colorbar": {
              "outlinewidth": 0,
              "ticks": ""
             }
            },
            "type": "scatter3d"
           }
          ],
          "scattercarpet": [
           {
            "marker": {
             "colorbar": {
              "outlinewidth": 0,
              "ticks": ""
             }
            },
            "type": "scattercarpet"
           }
          ],
          "scattergeo": [
           {
            "marker": {
             "colorbar": {
              "outlinewidth": 0,
              "ticks": ""
             }
            },
            "type": "scattergeo"
           }
          ],
          "scattergl": [
           {
            "marker": {
             "colorbar": {
              "outlinewidth": 0,
              "ticks": ""
             }
            },
            "type": "scattergl"
           }
          ],
          "scattermapbox": [
           {
            "marker": {
             "colorbar": {
              "outlinewidth": 0,
              "ticks": ""
             }
            },
            "type": "scattermapbox"
           }
          ],
          "scatterpolar": [
           {
            "marker": {
             "colorbar": {
              "outlinewidth": 0,
              "ticks": ""
             }
            },
            "type": "scatterpolar"
           }
          ],
          "scatterpolargl": [
           {
            "marker": {
             "colorbar": {
              "outlinewidth": 0,
              "ticks": ""
             }
            },
            "type": "scatterpolargl"
           }
          ],
          "scatterternary": [
           {
            "marker": {
             "colorbar": {
              "outlinewidth": 0,
              "ticks": ""
             }
            },
            "type": "scatterternary"
           }
          ],
          "surface": [
           {
            "colorbar": {
             "outlinewidth": 0,
             "ticks": ""
            },
            "colorscale": [
             [
              0,
              "#0d0887"
             ],
             [
              0.1111111111111111,
              "#46039f"
             ],
             [
              0.2222222222222222,
              "#7201a8"
             ],
             [
              0.3333333333333333,
              "#9c179e"
             ],
             [
              0.4444444444444444,
              "#bd3786"
             ],
             [
              0.5555555555555556,
              "#d8576b"
             ],
             [
              0.6666666666666666,
              "#ed7953"
             ],
             [
              0.7777777777777778,
              "#fb9f3a"
             ],
             [
              0.8888888888888888,
              "#fdca26"
             ],
             [
              1,
              "#f0f921"
             ]
            ],
            "type": "surface"
           }
          ],
          "table": [
           {
            "cells": {
             "fill": {
              "color": "#EBF0F8"
             },
             "line": {
              "color": "white"
             }
            },
            "header": {
             "fill": {
              "color": "#C8D4E3"
             },
             "line": {
              "color": "white"
             }
            },
            "type": "table"
           }
          ]
         },
         "layout": {
          "annotationdefaults": {
           "arrowcolor": "#2a3f5f",
           "arrowhead": 0,
           "arrowwidth": 1
          },
          "autotypenumbers": "strict",
          "coloraxis": {
           "colorbar": {
            "outlinewidth": 0,
            "ticks": ""
           }
          },
          "colorscale": {
           "diverging": [
            [
             0,
             "#8e0152"
            ],
            [
             0.1,
             "#c51b7d"
            ],
            [
             0.2,
             "#de77ae"
            ],
            [
             0.3,
             "#f1b6da"
            ],
            [
             0.4,
             "#fde0ef"
            ],
            [
             0.5,
             "#f7f7f7"
            ],
            [
             0.6,
             "#e6f5d0"
            ],
            [
             0.7,
             "#b8e186"
            ],
            [
             0.8,
             "#7fbc41"
            ],
            [
             0.9,
             "#4d9221"
            ],
            [
             1,
             "#276419"
            ]
           ],
           "sequential": [
            [
             0,
             "#0d0887"
            ],
            [
             0.1111111111111111,
             "#46039f"
            ],
            [
             0.2222222222222222,
             "#7201a8"
            ],
            [
             0.3333333333333333,
             "#9c179e"
            ],
            [
             0.4444444444444444,
             "#bd3786"
            ],
            [
             0.5555555555555556,
             "#d8576b"
            ],
            [
             0.6666666666666666,
             "#ed7953"
            ],
            [
             0.7777777777777778,
             "#fb9f3a"
            ],
            [
             0.8888888888888888,
             "#fdca26"
            ],
            [
             1,
             "#f0f921"
            ]
           ],
           "sequentialminus": [
            [
             0,
             "#0d0887"
            ],
            [
             0.1111111111111111,
             "#46039f"
            ],
            [
             0.2222222222222222,
             "#7201a8"
            ],
            [
             0.3333333333333333,
             "#9c179e"
            ],
            [
             0.4444444444444444,
             "#bd3786"
            ],
            [
             0.5555555555555556,
             "#d8576b"
            ],
            [
             0.6666666666666666,
             "#ed7953"
            ],
            [
             0.7777777777777778,
             "#fb9f3a"
            ],
            [
             0.8888888888888888,
             "#fdca26"
            ],
            [
             1,
             "#f0f921"
            ]
           ]
          },
          "colorway": [
           "#636efa",
           "#EF553B",
           "#00cc96",
           "#ab63fa",
           "#FFA15A",
           "#19d3f3",
           "#FF6692",
           "#B6E880",
           "#FF97FF",
           "#FECB52"
          ],
          "font": {
           "color": "#2a3f5f"
          },
          "geo": {
           "bgcolor": "white",
           "lakecolor": "white",
           "landcolor": "#E5ECF6",
           "showlakes": true,
           "showland": true,
           "subunitcolor": "white"
          },
          "hoverlabel": {
           "align": "left"
          },
          "hovermode": "closest",
          "mapbox": {
           "style": "light"
          },
          "paper_bgcolor": "white",
          "plot_bgcolor": "#E5ECF6",
          "polar": {
           "angularaxis": {
            "gridcolor": "white",
            "linecolor": "white",
            "ticks": ""
           },
           "bgcolor": "#E5ECF6",
           "radialaxis": {
            "gridcolor": "white",
            "linecolor": "white",
            "ticks": ""
           }
          },
          "scene": {
           "xaxis": {
            "backgroundcolor": "#E5ECF6",
            "gridcolor": "white",
            "gridwidth": 2,
            "linecolor": "white",
            "showbackground": true,
            "ticks": "",
            "zerolinecolor": "white"
           },
           "yaxis": {
            "backgroundcolor": "#E5ECF6",
            "gridcolor": "white",
            "gridwidth": 2,
            "linecolor": "white",
            "showbackground": true,
            "ticks": "",
            "zerolinecolor": "white"
           },
           "zaxis": {
            "backgroundcolor": "#E5ECF6",
            "gridcolor": "white",
            "gridwidth": 2,
            "linecolor": "white",
            "showbackground": true,
            "ticks": "",
            "zerolinecolor": "white"
           }
          },
          "shapedefaults": {
           "line": {
            "color": "#2a3f5f"
           }
          },
          "ternary": {
           "aaxis": {
            "gridcolor": "white",
            "linecolor": "white",
            "ticks": ""
           },
           "baxis": {
            "gridcolor": "white",
            "linecolor": "white",
            "ticks": ""
           },
           "bgcolor": "#E5ECF6",
           "caxis": {
            "gridcolor": "white",
            "linecolor": "white",
            "ticks": ""
           }
          },
          "title": {
           "x": 0.05
          },
          "xaxis": {
           "automargin": true,
           "gridcolor": "white",
           "linecolor": "white",
           "ticks": "",
           "title": {
            "standoff": 15
           },
           "zerolinecolor": "white",
           "zerolinewidth": 2
          },
          "yaxis": {
           "automargin": true,
           "gridcolor": "white",
           "linecolor": "white",
           "ticks": "",
           "title": {
            "standoff": 15
           },
           "zerolinecolor": "white",
           "zerolinewidth": 2
          }
         }
        },
        "title": {
         "text": "Enrollment by School Year"
        },
        "xaxis": {
         "anchor": "y",
         "domain": [
          0,
          1
         ],
         "title": {
          "text": "School Year"
         }
        },
        "yaxis": {
         "anchor": "x",
         "domain": [
          0,
          1
         ],
         "title": {
          "text": "Enrollment"
         }
        }
       }
      },
      "text/html": [
       "<div>                            <div id=\"f895b1db-1ffc-4d15-b1f3-a856e92a4f89\" class=\"plotly-graph-div\" style=\"height:600px; width:100%;\"></div>            <script type=\"text/javascript\">                require([\"plotly\"], function(Plotly) {                    window.PLOTLYENV=window.PLOTLYENV || {};                                    if (document.getElementById(\"f895b1db-1ffc-4d15-b1f3-a856e92a4f89\")) {                    Plotly.newPlot(                        \"f895b1db-1ffc-4d15-b1f3-a856e92a4f89\",                        [{\"alignmentgroup\": \"True\", \"hovertemplate\": \"School_Year=%{x}<br>Enrollment=%{y}<br>Building_IRN=%{marker.color}<extra></extra>\", \"legendgroup\": \"\", \"marker\": {\"color\": [224, 318, 489, 729, 828, 930, 1040, 2378, 3137, 4234, 5066, 5637, 5892, 5900, 5942, 6353, 6429, 6940, 8060, 8383, 8490, 8680, 8987, 9285, 9421, 9555, 10200, 10201, 10801, 11291, 11923, 12010, 12029, 12030, 12031, 12350, 12352, 12353, 12355, 12682, 12852, 12898, 13034, 13148, 13292, 13680, 13847, 14913, 14918, 14919, 14920, 15039, 15073, 15239, 15261, 15578, 15598, 15599, 15600, 17467, 17830, 17863, 18325, 18382, 18408, 18416, 19406, 21527, 21543, 21550, 23069, 23085, 23259, 23689, 24687, 24695, 24703, 25650, 25874, 26443, 27102, 28589, 28720, 29371, 29413, 31963, 32060, 32128, 33902, 36475, 37101, 37457, 38182, 38604, 38927, 39149, 39206, 39685, 39875, 39891, 41236, 41517, 41541, 62315, 62323, 62760, 62778, 63461, 64576, 65565, 65573, 68221, 86306, 133215, 133520, 147389, 147397, 224, 318, 489, 729, 828, 930, 1040, 2378, 3137, 4234, 5066, 5637, 5892, 5900, 5942, 6353, 6429, 6940, 8060, 8383, 8490, 8680, 8987, 9285, 9421, 9555, 10200, 10201, 10801, 11291, 11923, 12010, 12029, 12030, 12031, 12350, 12352, 12353, 12355, 12682, 12898, 13034, 13148, 13292, 13680, 13847, 14913, 14918, 14919, 14920, 15039, 15073, 15239, 15578, 15598, 15599, 15600, 15722, 16427, 16429, 17467, 17830, 17863, 18325, 18382, 18408, 18416, 19406, 21527, 21543, 21550, 23069, 23085, 23259, 23689, 24687, 24695, 24703, 25650, 25874, 26443, 27102, 28589, 28720, 29371, 29413, 31963, 32060, 32128, 33902, 36475, 37101, 37457, 38182, 38604, 38927, 39149, 39206, 39685, 39891, 41236, 41517, 41541, 62315, 62323, 62760, 62778, 63461, 64576, 65565, 65573, 68221, 86306, 133215, 147389, 147397, 224, 318, 489, 729, 828, 930, 936, 1040, 2378, 3137, 4234, 5066, 5637, 5892, 5900, 5942, 6353, 6429, 6940, 8060, 8383, 8490, 8680, 8987, 9285, 9421, 9555, 10200, 10201, 10801, 11291, 11923, 12010, 12029, 12030, 12031, 12350, 12352, 12353, 12355, 12682, 12852, 12898, 13034, 13148, 13292, 13680, 13847, 14913, 14918, 14919, 14920, 15039, 15073, 15239, 15261, 15578, 15598, 15599, 15600, 15722, 16427, 16429, 16882, 16883, 16884, 16885, 16886, 16887, 17467, 17830, 17863, 18325, 18408, 19406, 21527, 21543, 21550, 23069, 23085, 23259, 24687, 24695, 24703, 25650, 25874, 26443, 27102, 28589, 28720, 29371, 29413, 31963, 32060, 32128, 33902, 36475, 37101, 37457, 38182, 38604, 38927, 39149, 39206, 39685, 39891, 41236, 41517, 41541, 62315, 62323, 62760, 62778, 63461, 64576, 65565, 65573, 68221, 86306, 133215, 133520, 133629, 147397, 12852, 15261, 133520], \"coloraxis\": \"coloraxis\", \"opacity\": 0.8}, \"name\": \"\", \"offsetgroup\": \"\", \"orientation\": \"v\", \"showlegend\": false, \"textposition\": \"auto\", \"type\": \"bar\", \"x\": [\"2015-2016\", \"2015-2016\", \"2015-2016\", \"2015-2016\", \"2015-2016\", \"2015-2016\", \"2015-2016\", \"2015-2016\", \"2015-2016\", \"2015-2016\", \"2015-2016\", \"2015-2016\", \"2015-2016\", \"2015-2016\", \"2015-2016\", \"2015-2016\", \"2015-2016\", \"2015-2016\", \"2015-2016\", \"2015-2016\", \"2015-2016\", \"2015-2016\", \"2015-2016\", \"2015-2016\", \"2015-2016\", \"2015-2016\", \"2015-2016\", \"2015-2016\", \"2015-2016\", \"2015-2016\", \"2015-2016\", \"2015-2016\", \"2015-2016\", \"2015-2016\", \"2015-2016\", \"2015-2016\", \"2015-2016\", \"2015-2016\", \"2015-2016\", \"2015-2016\", \"2015-2016\", \"2015-2016\", \"2015-2016\", \"2015-2016\", \"2015-2016\", \"2015-2016\", \"2015-2016\", \"2015-2016\", \"2015-2016\", \"2015-2016\", \"2015-2016\", \"2015-2016\", \"2015-2016\", \"2015-2016\", \"2015-2016\", \"2015-2016\", \"2015-2016\", \"2015-2016\", \"2015-2016\", \"2015-2016\", \"2015-2016\", \"2015-2016\", \"2015-2016\", \"2015-2016\", \"2015-2016\", \"2015-2016\", \"2015-2016\", \"2015-2016\", \"2015-2016\", \"2015-2016\", \"2015-2016\", \"2015-2016\", \"2015-2016\", \"2015-2016\", \"2015-2016\", \"2015-2016\", \"2015-2016\", \"2015-2016\", \"2015-2016\", \"2015-2016\", \"2015-2016\", \"2015-2016\", \"2015-2016\", \"2015-2016\", \"2015-2016\", \"2015-2016\", \"2015-2016\", \"2015-2016\", \"2015-2016\", \"2015-2016\", \"2015-2016\", \"2015-2016\", \"2015-2016\", \"2015-2016\", \"2015-2016\", \"2015-2016\", \"2015-2016\", \"2015-2016\", \"2015-2016\", \"2015-2016\", \"2015-2016\", \"2015-2016\", \"2015-2016\", \"2015-2016\", \"2015-2016\", \"2015-2016\", \"2015-2016\", \"2015-2016\", \"2015-2016\", \"2015-2016\", \"2015-2016\", \"2015-2016\", \"2015-2016\", \"2015-2016\", \"2015-2016\", \"2015-2016\", \"2015-2016\", \"2016-2017\", \"2016-2017\", \"2016-2017\", \"2016-2017\", \"2016-2017\", \"2016-2017\", \"2016-2017\", \"2016-2017\", \"2016-2017\", \"2016-2017\", \"2016-2017\", \"2016-2017\", \"2016-2017\", \"2016-2017\", \"2016-2017\", \"2016-2017\", \"2016-2017\", \"2016-2017\", \"2016-2017\", \"2016-2017\", \"2016-2017\", \"2016-2017\", \"2016-2017\", \"2016-2017\", \"2016-2017\", \"2016-2017\", \"2016-2017\", \"2016-2017\", \"2016-2017\", \"2016-2017\", \"2016-2017\", \"2016-2017\", \"2016-2017\", \"2016-2017\", \"2016-2017\", \"2016-2017\", \"2016-2017\", \"2016-2017\", \"2016-2017\", \"2016-2017\", \"2016-2017\", \"2016-2017\", \"2016-2017\", \"2016-2017\", \"2016-2017\", \"2016-2017\", \"2016-2017\", \"2016-2017\", \"2016-2017\", \"2016-2017\", \"2016-2017\", \"2016-2017\", \"2016-2017\", \"2016-2017\", \"2016-2017\", \"2016-2017\", \"2016-2017\", \"2016-2017\", \"2016-2017\", \"2016-2017\", \"2016-2017\", \"2016-2017\", \"2016-2017\", \"2016-2017\", \"2016-2017\", \"2016-2017\", \"2016-2017\", \"2016-2017\", \"2016-2017\", \"2016-2017\", \"2016-2017\", \"2016-2017\", \"2016-2017\", \"2016-2017\", \"2016-2017\", \"2016-2017\", \"2016-2017\", \"2016-2017\", \"2016-2017\", \"2016-2017\", \"2016-2017\", \"2016-2017\", \"2016-2017\", \"2016-2017\", \"2016-2017\", \"2016-2017\", \"2016-2017\", \"2016-2017\", \"2016-2017\", \"2016-2017\", \"2016-2017\", \"2016-2017\", \"2016-2017\", \"2016-2017\", \"2016-2017\", \"2016-2017\", \"2016-2017\", \"2016-2017\", \"2016-2017\", \"2016-2017\", \"2016-2017\", \"2016-2017\", \"2016-2017\", \"2016-2017\", \"2016-2017\", \"2016-2017\", \"2016-2017\", \"2016-2017\", \"2016-2017\", \"2016-2017\", \"2016-2017\", \"2016-2017\", \"2016-2017\", \"2016-2017\", \"2016-2017\", \"2016-2017\", \"2017-2018\", \"2017-2018\", \"2017-2018\", \"2017-2018\", \"2017-2018\", \"2017-2018\", \"2017-2018\", \"2017-2018\", \"2017-2018\", \"2017-2018\", \"2017-2018\", \"2017-2018\", \"2017-2018\", \"2017-2018\", \"2017-2018\", \"2017-2018\", \"2017-2018\", \"2017-2018\", \"2017-2018\", \"2017-2018\", \"2017-2018\", \"2017-2018\", \"2017-2018\", \"2017-2018\", \"2017-2018\", \"2017-2018\", \"2017-2018\", \"2017-2018\", \"2017-2018\", \"2017-2018\", \"2017-2018\", \"2017-2018\", \"2017-2018\", \"2017-2018\", \"2017-2018\", \"2017-2018\", \"2017-2018\", \"2017-2018\", \"2017-2018\", \"2017-2018\", \"2017-2018\", \"2017-2018\", \"2017-2018\", \"2017-2018\", \"2017-2018\", \"2017-2018\", \"2017-2018\", \"2017-2018\", \"2017-2018\", \"2017-2018\", \"2017-2018\", \"2017-2018\", \"2017-2018\", \"2017-2018\", \"2017-2018\", \"2017-2018\", \"2017-2018\", \"2017-2018\", \"2017-2018\", \"2017-2018\", \"2017-2018\", \"2017-2018\", \"2017-2018\", \"2017-2018\", \"2017-2018\", \"2017-2018\", \"2017-2018\", \"2017-2018\", \"2017-2018\", \"2017-2018\", \"2017-2018\", \"2017-2018\", \"2017-2018\", \"2017-2018\", \"2017-2018\", \"2017-2018\", \"2017-2018\", \"2017-2018\", \"2017-2018\", \"2017-2018\", \"2017-2018\", \"2017-2018\", \"2017-2018\", \"2017-2018\", \"2017-2018\", \"2017-2018\", \"2017-2018\", \"2017-2018\", \"2017-2018\", \"2017-2018\", \"2017-2018\", \"2017-2018\", \"2017-2018\", \"2017-2018\", \"2017-2018\", \"2017-2018\", \"2017-2018\", \"2017-2018\", \"2017-2018\", \"2017-2018\", \"2017-2018\", \"2017-2018\", \"2017-2018\", \"2017-2018\", \"2017-2018\", \"2017-2018\", \"2017-2018\", \"2017-2018\", \"2017-2018\", \"2017-2018\", \"2017-2018\", \"2017-2018\", \"2017-2018\", \"2017-2018\", \"2017-2018\", \"2017-2018\", \"2017-2018\", \"2017-2018\", \"2017-2018\", \"2017-2018\", \"2017-2018\", \"2017-2018\", \"2017-2018\", \"2016-2017\", \"2016-2017\", \"2016-2017\"], \"xaxis\": \"x\", \"y\": [430.0, 367.0, 499.0, 477.0, 371.0, 295.0, 491.0, 602.0, 346.0, 393.0, 361.0, 376.0, 512.0, 387.0, 342.0, 406.0, 606.0, 436.0, 288.0, 375.0, 362.0, 404.0, 242.0, 326.0, 381.0, 368.0, 396.0, 196.0, 367.0, 424.0, 553.0, 282.0, 258.0, 191.0, 269.0, 538.0, 289.0, 137.0, 261.0, 220.0, 378.0, 554.0, 391.0, 295.0, 402.0, 469.0, 380.0, 146.0, 152.0, 176.0, 248.0, 185.0, 274.0, 92.0, 170.0, 444.0, 196.0, 196.0, 213.0, 291.0, 1252.0, 338.0, 833.0, 319.0, 281.0, 621.0, 326.0, 335.0, 445.0, 258.0, 346.0, 280.0, 650.0, 255.0, 418.0, 513.0, 258.0, 398.0, 316.0, 505.0, 400.0, 275.0, 445.0, 361.0, 334.0, 519.0, 375.0, 477.0, 434.0, 380.0, 720.0, 585.0, 205.0, 407.0, 399.0, 239.0, 425.0, 282.0, 189.0, 166.0, 380.0, 259.0, 368.0, 717.0, 239.0, 588.0, 741.0, 252.0, 584.0, 360.0, 318.0, 200.0, 434.0, 250.0, 446.0, 85.0, 382.0, 445.0, 405.0, 491.0, 457.0, 361.0, 311.0, 514.0, 652.0, 318.0, 391.0, 331.0, 348.0, 499.0, 408.0, 315.0, 413.0, 598.0, 370.0, 268.0, 343.0, 338.0, 429.0, 271.0, 340.0, 407.0, 365.0, 406.0, 228.0, 344.0, 406.0, 554.0, 275.0, 271.0, 212.0, 287.0, 604.0, 298.0, 146.0, 308.0, 213.0, 579.0, 418.0, 294.0, 384.0, 405.0, 356.0, 177.0, 241.0, 245.0, 339.0, 208.0, 266.0, 151.0, 475.0, 260.0, 298.0, 294.0, 68.0, 95.0, 125.0, 285.0, 1276.0, 295.0, 694.0, 170.0, 288.0, 361.0, 313.0, 323.0, 441.0, 250.0, 344.0, 291.0, 612.0, 213.0, 423.0, 519.0, 236.0, 403.0, 293.0, 515.0, 447.0, 249.0, 475.0, 315.0, 360.0, 493.0, 389.0, 502.0, 482.0, 400.0, 822.0, 560.0, 190.0, 431.0, 382.0, 254.0, 426.0, 265.0, 305.0, 378.0, 245.0, 358.0, 468.0, 231.0, 542.0, 781.0, 253.0, 542.0, 397.0, 328.0, 190.0, 379.0, 241.0, 48.0, 404.0, 443.0, 418.0, 547.0, 441.0, 396.0, 322.0, 209.0, 513.0, 615.0, 330.0, 395.0, 301.0, 318.0, 456.0, 408.0, 326.0, 345.0, 590.0, 331.0, 247.0, 325.0, 403.0, 415.0, 237.0, 346.0, 380.0, 361.0, 387.0, 246.0, 334.0, 406.0, 490.0, 278.0, 262.0, 236.0, 298.0, 714.0, 295.0, 149.0, 316.0, 222.0, 403.0, 583.0, 427.0, 256.0, 341.0, 388.0, 379.0, 203.0, 311.0, 265.0, 428.0, 259.0, 256.0, 174.0, 344.0, 457.0, 389.0, 406.0, 377.0, 180.0, 191.0, 170.0, 135.0, 128.0, 56.0, 98.0, 95.0, 48.0, 265.0, 956.0, 241.0, 550.0, 303.0, 327.0, 319.0, 435.0, 243.0, 312.0, 311.0, 639.0, 420.0, 488.0, 202.0, 402.0, 273.0, 525.0, 491.0, 289.0, 480.0, 291.0, 383.0, 491.0, 365.0, 493.0, 489.0, 397.0, 829.0, 544.0, 192.0, 423.0, 406.0, 289.0, 478.0, 267.0, 271.0, 483.0, 211.0, 348.0, 320.0, 186.0, 528.0, 752.0, 229.0, 473.0, 430.0, 335.0, 173.0, 356.0, 247.0, 410.0, 440.0, 401.0, 0.0, 0.0, 0.0], \"yaxis\": \"y\"}],                        {\"annotations\": [{\"arrowhead\": 4, \"ax\": 0, \"ay\": -40, \"showarrow\": true, \"text\": \"Total: 43643.0\", \"x\": \"2015-2016\", \"y\": 43643.0}, {\"arrowhead\": 4, \"ax\": 0, \"ay\": -40, \"showarrow\": true, \"text\": \"Total: 42695.0\", \"x\": \"2016-2017\", \"y\": 42695.0}, {\"arrowhead\": 4, \"ax\": 0, \"ay\": -40, \"showarrow\": true, \"text\": \"Total: 44199.0\", \"x\": \"2017-2018\", \"y\": 44199.0}], \"barmode\": \"relative\", \"coloraxis\": {\"colorbar\": {\"title\": {\"text\": \"Building_IRN\"}}, \"colorscale\": [[0.0, \"#440154\"], [0.1111111111111111, \"#482878\"], [0.2222222222222222, \"#3e4989\"], [0.3333333333333333, \"#31688e\"], [0.4444444444444444, \"#26828e\"], [0.5555555555555556, \"#1f9e89\"], [0.6666666666666666, \"#35b779\"], [0.7777777777777778, \"#6ece58\"], [0.8888888888888888, \"#b5de2b\"], [1.0, \"#fde725\"]]}, \"height\": 600, \"legend\": {\"tracegroupgap\": 0}, \"margin\": {\"t\": 60}, \"template\": {\"data\": {\"bar\": [{\"error_x\": {\"color\": \"#2a3f5f\"}, \"error_y\": {\"color\": \"#2a3f5f\"}, \"marker\": {\"line\": {\"color\": \"#E5ECF6\", \"width\": 0.5}}, \"type\": \"bar\"}], \"barpolar\": [{\"marker\": {\"line\": {\"color\": \"#E5ECF6\", \"width\": 0.5}}, \"type\": \"barpolar\"}], \"carpet\": [{\"aaxis\": {\"endlinecolor\": \"#2a3f5f\", \"gridcolor\": \"white\", \"linecolor\": \"white\", \"minorgridcolor\": \"white\", \"startlinecolor\": \"#2a3f5f\"}, \"baxis\": {\"endlinecolor\": \"#2a3f5f\", \"gridcolor\": \"white\", \"linecolor\": \"white\", \"minorgridcolor\": \"white\", \"startlinecolor\": \"#2a3f5f\"}, \"type\": \"carpet\"}], \"choropleth\": [{\"colorbar\": {\"outlinewidth\": 0, \"ticks\": \"\"}, \"type\": \"choropleth\"}], \"contour\": [{\"colorbar\": {\"outlinewidth\": 0, \"ticks\": \"\"}, \"colorscale\": [[0.0, \"#0d0887\"], [0.1111111111111111, \"#46039f\"], [0.2222222222222222, \"#7201a8\"], [0.3333333333333333, \"#9c179e\"], [0.4444444444444444, \"#bd3786\"], [0.5555555555555556, \"#d8576b\"], [0.6666666666666666, \"#ed7953\"], [0.7777777777777778, \"#fb9f3a\"], [0.8888888888888888, \"#fdca26\"], [1.0, \"#f0f921\"]], \"type\": \"contour\"}], \"contourcarpet\": [{\"colorbar\": {\"outlinewidth\": 0, \"ticks\": \"\"}, \"type\": \"contourcarpet\"}], \"heatmap\": [{\"colorbar\": {\"outlinewidth\": 0, \"ticks\": \"\"}, \"colorscale\": [[0.0, \"#0d0887\"], [0.1111111111111111, \"#46039f\"], [0.2222222222222222, \"#7201a8\"], [0.3333333333333333, \"#9c179e\"], [0.4444444444444444, \"#bd3786\"], [0.5555555555555556, \"#d8576b\"], [0.6666666666666666, \"#ed7953\"], [0.7777777777777778, \"#fb9f3a\"], [0.8888888888888888, \"#fdca26\"], [1.0, \"#f0f921\"]], \"type\": \"heatmap\"}], \"heatmapgl\": [{\"colorbar\": {\"outlinewidth\": 0, \"ticks\": \"\"}, \"colorscale\": [[0.0, \"#0d0887\"], [0.1111111111111111, \"#46039f\"], [0.2222222222222222, \"#7201a8\"], [0.3333333333333333, \"#9c179e\"], [0.4444444444444444, \"#bd3786\"], [0.5555555555555556, \"#d8576b\"], [0.6666666666666666, \"#ed7953\"], [0.7777777777777778, \"#fb9f3a\"], [0.8888888888888888, \"#fdca26\"], [1.0, \"#f0f921\"]], \"type\": \"heatmapgl\"}], \"histogram\": [{\"marker\": {\"colorbar\": {\"outlinewidth\": 0, \"ticks\": \"\"}}, \"type\": \"histogram\"}], \"histogram2d\": [{\"colorbar\": {\"outlinewidth\": 0, \"ticks\": \"\"}, \"colorscale\": [[0.0, \"#0d0887\"], [0.1111111111111111, \"#46039f\"], [0.2222222222222222, \"#7201a8\"], [0.3333333333333333, \"#9c179e\"], [0.4444444444444444, \"#bd3786\"], [0.5555555555555556, \"#d8576b\"], [0.6666666666666666, \"#ed7953\"], [0.7777777777777778, \"#fb9f3a\"], [0.8888888888888888, \"#fdca26\"], [1.0, \"#f0f921\"]], \"type\": \"histogram2d\"}], \"histogram2dcontour\": [{\"colorbar\": {\"outlinewidth\": 0, \"ticks\": \"\"}, \"colorscale\": [[0.0, \"#0d0887\"], [0.1111111111111111, \"#46039f\"], [0.2222222222222222, \"#7201a8\"], [0.3333333333333333, \"#9c179e\"], [0.4444444444444444, \"#bd3786\"], [0.5555555555555556, \"#d8576b\"], [0.6666666666666666, \"#ed7953\"], [0.7777777777777778, \"#fb9f3a\"], [0.8888888888888888, \"#fdca26\"], [1.0, \"#f0f921\"]], \"type\": \"histogram2dcontour\"}], \"mesh3d\": [{\"colorbar\": {\"outlinewidth\": 0, \"ticks\": \"\"}, \"type\": \"mesh3d\"}], \"parcoords\": [{\"line\": {\"colorbar\": {\"outlinewidth\": 0, \"ticks\": \"\"}}, \"type\": \"parcoords\"}], \"pie\": [{\"automargin\": true, \"type\": \"pie\"}], \"scatter\": [{\"marker\": {\"colorbar\": {\"outlinewidth\": 0, \"ticks\": \"\"}}, \"type\": \"scatter\"}], \"scatter3d\": [{\"line\": {\"colorbar\": {\"outlinewidth\": 0, \"ticks\": \"\"}}, \"marker\": {\"colorbar\": {\"outlinewidth\": 0, \"ticks\": \"\"}}, \"type\": \"scatter3d\"}], \"scattercarpet\": [{\"marker\": {\"colorbar\": {\"outlinewidth\": 0, \"ticks\": \"\"}}, \"type\": \"scattercarpet\"}], \"scattergeo\": [{\"marker\": {\"colorbar\": {\"outlinewidth\": 0, \"ticks\": \"\"}}, \"type\": \"scattergeo\"}], \"scattergl\": [{\"marker\": {\"colorbar\": {\"outlinewidth\": 0, \"ticks\": \"\"}}, \"type\": \"scattergl\"}], \"scattermapbox\": [{\"marker\": {\"colorbar\": {\"outlinewidth\": 0, \"ticks\": \"\"}}, \"type\": \"scattermapbox\"}], \"scatterpolar\": [{\"marker\": {\"colorbar\": {\"outlinewidth\": 0, \"ticks\": \"\"}}, \"type\": \"scatterpolar\"}], \"scatterpolargl\": [{\"marker\": {\"colorbar\": {\"outlinewidth\": 0, \"ticks\": \"\"}}, \"type\": \"scatterpolargl\"}], \"scatterternary\": [{\"marker\": {\"colorbar\": {\"outlinewidth\": 0, \"ticks\": \"\"}}, \"type\": \"scatterternary\"}], \"surface\": [{\"colorbar\": {\"outlinewidth\": 0, \"ticks\": \"\"}, \"colorscale\": [[0.0, \"#0d0887\"], [0.1111111111111111, \"#46039f\"], [0.2222222222222222, \"#7201a8\"], [0.3333333333333333, \"#9c179e\"], [0.4444444444444444, \"#bd3786\"], [0.5555555555555556, \"#d8576b\"], [0.6666666666666666, \"#ed7953\"], [0.7777777777777778, \"#fb9f3a\"], [0.8888888888888888, \"#fdca26\"], [1.0, \"#f0f921\"]], \"type\": \"surface\"}], \"table\": [{\"cells\": {\"fill\": {\"color\": \"#EBF0F8\"}, \"line\": {\"color\": \"white\"}}, \"header\": {\"fill\": {\"color\": \"#C8D4E3\"}, \"line\": {\"color\": \"white\"}}, \"type\": \"table\"}]}, \"layout\": {\"annotationdefaults\": {\"arrowcolor\": \"#2a3f5f\", \"arrowhead\": 0, \"arrowwidth\": 1}, \"autotypenumbers\": \"strict\", \"coloraxis\": {\"colorbar\": {\"outlinewidth\": 0, \"ticks\": \"\"}}, \"colorscale\": {\"diverging\": [[0, \"#8e0152\"], [0.1, \"#c51b7d\"], [0.2, \"#de77ae\"], [0.3, \"#f1b6da\"], [0.4, \"#fde0ef\"], [0.5, \"#f7f7f7\"], [0.6, \"#e6f5d0\"], [0.7, \"#b8e186\"], [0.8, \"#7fbc41\"], [0.9, \"#4d9221\"], [1, \"#276419\"]], \"sequential\": [[0.0, \"#0d0887\"], [0.1111111111111111, \"#46039f\"], [0.2222222222222222, \"#7201a8\"], [0.3333333333333333, \"#9c179e\"], [0.4444444444444444, \"#bd3786\"], [0.5555555555555556, \"#d8576b\"], [0.6666666666666666, \"#ed7953\"], [0.7777777777777778, \"#fb9f3a\"], [0.8888888888888888, \"#fdca26\"], [1.0, \"#f0f921\"]], \"sequentialminus\": [[0.0, \"#0d0887\"], [0.1111111111111111, \"#46039f\"], [0.2222222222222222, \"#7201a8\"], [0.3333333333333333, \"#9c179e\"], [0.4444444444444444, \"#bd3786\"], [0.5555555555555556, \"#d8576b\"], [0.6666666666666666, \"#ed7953\"], [0.7777777777777778, \"#fb9f3a\"], [0.8888888888888888, \"#fdca26\"], [1.0, \"#f0f921\"]]}, \"colorway\": [\"#636efa\", \"#EF553B\", \"#00cc96\", \"#ab63fa\", \"#FFA15A\", \"#19d3f3\", \"#FF6692\", \"#B6E880\", \"#FF97FF\", \"#FECB52\"], \"font\": {\"color\": \"#2a3f5f\"}, \"geo\": {\"bgcolor\": \"white\", \"lakecolor\": \"white\", \"landcolor\": \"#E5ECF6\", \"showlakes\": true, \"showland\": true, \"subunitcolor\": \"white\"}, \"hoverlabel\": {\"align\": \"left\"}, \"hovermode\": \"closest\", \"mapbox\": {\"style\": \"light\"}, \"paper_bgcolor\": \"white\", \"plot_bgcolor\": \"#E5ECF6\", \"polar\": {\"angularaxis\": {\"gridcolor\": \"white\", \"linecolor\": \"white\", \"ticks\": \"\"}, \"bgcolor\": \"#E5ECF6\", \"radialaxis\": {\"gridcolor\": \"white\", \"linecolor\": \"white\", \"ticks\": \"\"}}, \"scene\": {\"xaxis\": {\"backgroundcolor\": \"#E5ECF6\", \"gridcolor\": \"white\", \"gridwidth\": 2, \"linecolor\": \"white\", \"showbackground\": true, \"ticks\": \"\", \"zerolinecolor\": \"white\"}, \"yaxis\": {\"backgroundcolor\": \"#E5ECF6\", \"gridcolor\": \"white\", \"gridwidth\": 2, \"linecolor\": \"white\", \"showbackground\": true, \"ticks\": \"\", \"zerolinecolor\": \"white\"}, \"zaxis\": {\"backgroundcolor\": \"#E5ECF6\", \"gridcolor\": \"white\", \"gridwidth\": 2, \"linecolor\": \"white\", \"showbackground\": true, \"ticks\": \"\", \"zerolinecolor\": \"white\"}}, \"shapedefaults\": {\"line\": {\"color\": \"#2a3f5f\"}}, \"ternary\": {\"aaxis\": {\"gridcolor\": \"white\", \"linecolor\": \"white\", \"ticks\": \"\"}, \"baxis\": {\"gridcolor\": \"white\", \"linecolor\": \"white\", \"ticks\": \"\"}, \"bgcolor\": \"#E5ECF6\", \"caxis\": {\"gridcolor\": \"white\", \"linecolor\": \"white\", \"ticks\": \"\"}}, \"title\": {\"x\": 0.05}, \"xaxis\": {\"automargin\": true, \"gridcolor\": \"white\", \"linecolor\": \"white\", \"ticks\": \"\", \"title\": {\"standoff\": 15}, \"zerolinecolor\": \"white\", \"zerolinewidth\": 2}, \"yaxis\": {\"automargin\": true, \"gridcolor\": \"white\", \"linecolor\": \"white\", \"ticks\": \"\", \"title\": {\"standoff\": 15}, \"zerolinecolor\": \"white\", \"zerolinewidth\": 2}}}, \"title\": {\"text\": \"Enrollment by School Year\"}, \"xaxis\": {\"anchor\": \"y\", \"domain\": [0.0, 1.0], \"title\": {\"text\": \"School Year\"}}, \"yaxis\": {\"anchor\": \"x\", \"domain\": [0.0, 1.0], \"title\": {\"text\": \"Enrollment\"}}},                        {\"responsive\": true}                    ).then(function(){\n",
       "                            \n",
       "var gd = document.getElementById('f895b1db-1ffc-4d15-b1f3-a856e92a4f89');\n",
       "var x = new MutationObserver(function (mutations, observer) {{\n",
       "        var display = window.getComputedStyle(gd).display;\n",
       "        if (!display || display === 'none') {{\n",
       "            console.log([gd, 'removed!']);\n",
       "            Plotly.purge(gd);\n",
       "            observer.disconnect();\n",
       "        }}\n",
       "}});\n",
       "\n",
       "// Listen for the removal of the full notebook cells\n",
       "var notebookContainer = gd.closest('#notebook-container');\n",
       "if (notebookContainer) {{\n",
       "    x.observe(notebookContainer, {childList: true});\n",
       "}}\n",
       "\n",
       "// Listen for the clearing of the current output cell\n",
       "var outputEl = gd.closest('.output');\n",
       "if (outputEl) {{\n",
       "    x.observe(outputEl, {childList: true});\n",
       "}}\n",
       "\n",
       "                        })                };                });            </script>        </div>"
      ]
     },
     "metadata": {},
     "output_type": "display_data"
    }
   ],
   "source": [
    "#Interactive Chart for total number of Enrollment by school year\n",
    "#Calculating sum of enrollment foe each year\n",
    "total_by_year = df_CMSD.groupby('School_Year')['Enrollment'].sum().reset_index()\n",
    "print(total_by_year)\n",
    "\n",
    "# Plot the graph\n",
    "fig = px.bar(df_CMSD, \n",
    "             x=\"School_Year\", \n",
    "             y=\"Enrollment\",\n",
    "             color=\"Building_IRN\",\n",
    "             color_continuous_scale='Viridis',\n",
    "             opacity=0.8, \n",
    "             height=600\n",
    "            )\n",
    "\n",
    "fig.update_layout(\n",
    "            title='Enrollment by School Year', \n",
    "            xaxis_title='School Year', \n",
    "            yaxis_title='Enrollment'\n",
    ")\n",
    "\n",
    "# Annotate the plot with total values\n",
    "for i, row in total_by_year.iterrows():\n",
    "    fig.add_annotation(\n",
    "        x=row['School_Year'], \n",
    "        y=row['Enrollment'],\n",
    "        text=f\"Total: {row['Enrollment']}\",\n",
    "        showarrow=True,\n",
    "        arrowhead=4,\n",
    "        ax=0,\n",
    "        ay=-40\n",
    "    )\n",
    "\n",
    "fig.show()"
   ]
  },
  {
   "cell_type": "markdown",
   "metadata": {},
   "source": [
    "### Bar plot for Average Number of Enrollment per year"
   ]
  },
  {
   "cell_type": "code",
   "execution_count": 101,
   "metadata": {},
   "outputs": [
    {
     "name": "stderr",
     "output_type": "stream",
     "text": [
      "<ipython-input-101-b5fb51b327d3>:8: FutureWarning:\n",
      "\n",
      "\n",
      "\n",
      "Passing `palette` without assigning `hue` is deprecated and will be removed in v0.14.0. Assign the `x` variable to `hue` and set `legend=False` for the same effect.\n",
      "\n",
      "\n",
      "<ipython-input-101-b5fb51b327d3>:8: UserWarning:\n",
      "\n",
      "The palette list has more values (8) than needed (3), which may not be intended.\n",
      "\n"
     ]
    },
    {
     "data": {
      "image/png": "[encoded data removed]",
      "text/plain": [
       "<Figure size 576x576 with 1 Axes>"
      ]
     },
     "metadata": {
      "needs_background": "light"
     },
     "output_type": "display_data"
    }
   ],
   "source": [
    "# Average Number of Enrollment per year\n",
    "\n",
    "# Calculate mean of total enrollment \n",
    "Mean = df_CMSD.groupby('School_Year')['Enrollment'].mean().reset_index()\n",
    "\n",
    "# Create a bar plot\n",
    "fig, ax = plt.subplots(figsize=(8, 8))\n",
    "Enrollment_plot = sns.barplot(\n",
    "                             x='School_Year', \n",
    "                             y='Enrollment', \n",
    "                             data=Mean,\n",
    "                             palette=sns.cubehelix_palette(8), \n",
    "                             ax=ax)\n",
    "\n",
    "# Add total values on top of each bar\n",
    "for p in Enrollment_plot.patches:\n",
    "    height = p.get_height()\n",
    "    ax.text(p.get_x() + p.get_width() / 2., height + 2, f'{height:.1f}', ha=\"center\")\n",
    "\n",
    "# Show the plot\n",
    "plt.title('Avg Enrollment per year')\n",
    "plt.xlabel('School Year')\n",
    "plt.ylabel('Avg Enrollment')\n",
    "plt.show()"
   ]
  },
  {
   "cell_type": "markdown",
   "metadata": {},
   "source": [
    "### Ploting the graph of enrollment percentage changes over the school year 2015-2016"
   ]
  },
  {
   "cell_type": "code",
   "execution_count": 129,
   "metadata": {},
   "outputs": [
    {
     "name": "stdout",
     "output_type": "stream",
     "text": [
      "Enrollment Changes in terms of school Year 2015-2016:\n",
      "  School_Year  Enrollment  Enrollment_Difference  Enrollment_Percentage_Change\n",
      "0   2015-2016     43643.0                    0.0                       0.00000\n",
      "1   2016-2017     42695.0                 -948.0                      -2.17217\n",
      "2   2017-2018     44199.0                  556.0                       1.30226\n"
     ]
    }
   ],
   "source": [
    "# Calculating the sum of enrollment for each year\n",
    "total_by_year = df_CMSD.groupby('School_Year')['Enrollment'].sum().reset_index()\n",
    "\n",
    "# Filter data for the year 2015-2016 and later\n",
    "filtered_data = total_by_year[total_by_year['School_Year'] >= '2015-2016']\n",
    "\n",
    "# Calculate the difference in enrollment relative to 2015-2016\n",
    "filtered_data['Enrollment_Difference'] = filtered_data['Enrollment'] - filtered_data.loc[filtered_data['School_Year'] == '2015-2016', 'Enrollment'].values[0]\n",
    "\n",
    "# Calculating the percentage change per year\n",
    "filtered_data['Enrollment_Percentage_Change'] = (filtered_data['Enrollment_Difference'] / filtered_data['Enrollment'].shift(1)) * 100\n",
    "\n",
    "#Filling Missing values with 0's\n",
    "filtered_data = filtered_data.fillna(0)\n",
    "\n",
    "# Print the results\n",
    "print(\"Enrollment Changes in terms of school Year 2015-2016:\")\n",
    "print(filtered_data)\n"
   ]
  },
  {
   "cell_type": "code",
   "execution_count": 104,
   "metadata": {},
   "outputs": [
    {
     "data": {
      "application/vnd.plotly.v1+json": {
       "config": {
        "plotlyServerURL": "https://plot.ly"
       },
       "data": [
        {
         "alignmentgroup": "True",
         "hovertemplate": "School Year=%{x}<br>Percentage Change=%{y}<extra></extra>",
         "legendgroup": "2015-2016",
         "marker": {
          "color": "#636efa"
         },
         "name": "2015-2016",
         "offsetgroup": "2015-2016",
         "orientation": "v",
         "showlegend": true,
         "textposition": "auto",
         "type": "bar",
         "x": [
          "2015-2016"
         ],
         "xaxis": "x",
         "y": [
          0
         ],
         "yaxis": "y"
        },
        {
         "alignmentgroup": "True",
         "hovertemplate": "School Year=%{x}<br>Percentage Change=%{y}<extra></extra>",
         "legendgroup": "2016-2017",
         "marker": {
          "color": "#EF553B"
         },
         "name": "2016-2017",
         "offsetgroup": "2016-2017",
         "orientation": "v",
         "showlegend": true,
         "textposition": "auto",
         "type": "bar",
         "x": [
          "2016-2017"
         ],
         "xaxis": "x",
         "y": [
          -2.172169649199184
         ],
         "yaxis": "y"
        },
        {
         "alignmentgroup": "True",
         "hovertemplate": "School Year=%{x}<br>Percentage Change=%{y}<extra></extra>",
         "legendgroup": "2017-2018",
         "marker": {
          "color": "#00cc96"
         },
         "name": "2017-2018",
         "offsetgroup": "2017-2018",
         "orientation": "v",
         "showlegend": true,
         "textposition": "auto",
         "type": "bar",
         "x": [
          "2017-2018"
         ],
         "xaxis": "x",
         "y": [
          1.3022602178241012
         ],
         "yaxis": "y"
        }
       ],
       "layout": {
        "annotations": [
         {
          "arrowhead": 1,
          "ax": 0,
          "ay": -40,
          "showarrow": true,
          "text": "Percentage change: 0.0%",
          "x": "2015-2016",
          "y": 0
         },
         {
          "arrowhead": 1,
          "ax": 0,
          "ay": -40,
          "showarrow": true,
          "text": "Percentage change: -2.17%",
          "x": "2016-2017",
          "y": -2.17
         },
         {
          "arrowhead": 1,
          "ax": 0,
          "ay": -40,
          "showarrow": true,
          "text": "Percentage change: 1.3%",
          "x": "2017-2018",
          "y": 1.3
         }
        ],
        "barmode": "relative",
        "legend": {
         "title": {
          "text": "School Year"
         },
         "tracegroupgap": 0
        },
        "template": {
         "data": {
          "bar": [
           {
            "error_x": {
             "color": "#2a3f5f"
            },
            "error_y": {
             "color": "#2a3f5f"
            },
            "marker": {
             "line": {
              "color": "#E5ECF6",
              "width": 0.5
             }
            },
            "type": "bar"
           }
          ],
          "barpolar": [
           {
            "marker": {
             "line": {
              "color": "#E5ECF6",
              "width": 0.5
             }
            },
            "type": "barpolar"
           }
          ],
          "carpet": [
           {
            "aaxis": {
             "endlinecolor": "#2a3f5f",
             "gridcolor": "white",
             "linecolor": "white",
             "minorgridcolor": "white",
             "startlinecolor": "#2a3f5f"
            },
            "baxis": {
             "endlinecolor": "#2a3f5f",
             "gridcolor": "white",
             "linecolor": "white",
             "minorgridcolor": "white",
             "startlinecolor": "#2a3f5f"
            },
            "type": "carpet"
           }
          ],
          "choropleth": [
           {
            "colorbar": {
             "outlinewidth": 0,
             "ticks": ""
            },
            "type": "choropleth"
           }
          ],
          "contour": [
           {
            "colorbar": {
             "outlinewidth": 0,
             "ticks": ""
            },
            "colorscale": [
             [
              0,
              "#0d0887"
             ],
             [
              0.1111111111111111,
              "#46039f"
             ],
             [
              0.2222222222222222,
              "#7201a8"
             ],
             [
              0.3333333333333333,
              "#9c179e"
             ],
             [
              0.4444444444444444,
              "#bd3786"
             ],
             [
              0.5555555555555556,
              "#d8576b"
             ],
             [
              0.6666666666666666,
              "#ed7953"
             ],
             [
              0.7777777777777778,
              "#fb9f3a"
             ],
             [
              0.8888888888888888,
              "#fdca26"
             ],
             [
              1,
              "#f0f921"
             ]
            ],
            "type": "contour"
           }
          ],
          "contourcarpet": [
           {
            "colorbar": {
             "outlinewidth": 0,
             "ticks": ""
            },
            "type": "contourcarpet"
           }
          ],
          "heatmap": [
           {
            "colorbar": {
             "outlinewidth": 0,
             "ticks": ""
            },
            "colorscale": [
             [
              0,
              "#0d0887"
             ],
             [
              0.1111111111111111,
              "#46039f"
             ],
             [
              0.2222222222222222,
              "#7201a8"
             ],
             [
              0.3333333333333333,
              "#9c179e"
             ],
             [
              0.4444444444444444,
              "#bd3786"
             ],
             [
              0.5555555555555556,
              "#d8576b"
             ],
             [
              0.6666666666666666,
              "#ed7953"
             ],
             [
              0.7777777777777778,
              "#fb9f3a"
             ],
             [
              0.8888888888888888,
              "#fdca26"
             ],
             [
              1,
              "#f0f921"
             ]
            ],
            "type": "heatmap"
           }
          ],
          "heatmapgl": [
           {
            "colorbar": {
             "outlinewidth": 0,
             "ticks": ""
            },
            "colorscale": [
             [
              0,
              "#0d0887"
             ],
             [
              0.1111111111111111,
              "#46039f"
             ],
             [
              0.2222222222222222,
              "#7201a8"
             ],
             [
              0.3333333333333333,
              "#9c179e"
             ],
             [
              0.4444444444444444,
              "#bd3786"
             ],
             [
              0.5555555555555556,
              "#d8576b"
             ],
             [
              0.6666666666666666,
              "#ed7953"
             ],
             [
              0.7777777777777778,
              "#fb9f3a"
             ],
             [
              0.8888888888888888,
              "#fdca26"
             ],
             [
              1,
              "#f0f921"
             ]
            ],
            "type": "heatmapgl"
           }
          ],
          "histogram": [
           {
            "marker": {
             "colorbar": {
              "outlinewidth": 0,
              "ticks": ""
             }
            },
            "type": "histogram"
           }
          ],
          "histogram2d": [
           {
            "colorbar": {
             "outlinewidth": 0,
             "ticks": ""
            },
            "colorscale": [
             [
              0,
              "#0d0887"
             ],
             [
              0.1111111111111111,
              "#46039f"
             ],
             [
              0.2222222222222222,
              "#7201a8"
             ],
             [
              0.3333333333333333,
              "#9c179e"
             ],
             [
              0.4444444444444444,
              "#bd3786"
             ],
             [
              0.5555555555555556,
              "#d8576b"
             ],
             [
              0.6666666666666666,
              "#ed7953"
             ],
             [
              0.7777777777777778,
              "#fb9f3a"
             ],
             [
              0.8888888888888888,
              "#fdca26"
             ],
             [
              1,
              "#f0f921"
             ]
            ],
            "type": "histogram2d"
           }
          ],
          "histogram2dcontour": [
           {
            "colorbar": {
             "outlinewidth": 0,
             "ticks": ""
            },
            "colorscale": [
             [
              0,
              "#0d0887"
             ],
             [
              0.1111111111111111,
              "#46039f"
             ],
             [
              0.2222222222222222,
              "#7201a8"
             ],
             [
              0.3333333333333333,
              "#9c179e"
             ],
             [
              0.4444444444444444,
              "#bd3786"
             ],
             [
              0.5555555555555556,
              "#d8576b"
             ],
             [
              0.6666666666666666,
              "#ed7953"
             ],
             [
              0.7777777777777778,
              "#fb9f3a"
             ],
             [
              0.8888888888888888,
              "#fdca26"
             ],
             [
              1,
              "#f0f921"
             ]
            ],
            "type": "histogram2dcontour"
           }
          ],
          "mesh3d": [
           {
            "colorbar": {
             "outlinewidth": 0,
             "ticks": ""
            },
            "type": "mesh3d"
           }
          ],
          "parcoords": [
           {
            "line": {
             "colorbar": {
              "outlinewidth": 0,
              "ticks": ""
             }
            },
            "type": "parcoords"
           }
          ],
          "pie": [
           {
            "automargin": true,
            "type": "pie"
           }
          ],
          "scatter": [
           {
            "marker": {
             "colorbar": {
              "outlinewidth": 0,
              "ticks": ""
             }
            },
            "type": "scatter"
           }
          ],
          "scatter3d": [
           {
            "line": {
             "colorbar": {
              "outlinewidth": 0,
              "ticks": ""
             }
            },
            "marker": {
             "colorbar": {
              "outlinewidth": 0,
              "ticks": ""
             }
            },
            "type": "scatter3d"
           }
          ],
          "scattercarpet": [
           {
            "marker": {
             "colorbar": {
              "outlinewidth": 0,
              "ticks": ""
             }
            },
            "type": "scattercarpet"
           }
          ],
          "scattergeo": [
           {
            "marker": {
             "colorbar": {
              "outlinewidth": 0,
              "ticks": ""
             }
            },
            "type": "scattergeo"
           }
          ],
          "scattergl": [
           {
            "marker": {
             "colorbar": {
              "outlinewidth": 0,
              "ticks": ""
             }
            },
            "type": "scattergl"
           }
          ],
          "scattermapbox": [
           {
            "marker": {
             "colorbar": {
              "outlinewidth": 0,
              "ticks": ""
             }
            },
            "type": "scattermapbox"
           }
          ],
          "scatterpolar": [
           {
            "marker": {
             "colorbar": {
              "outlinewidth": 0,
              "ticks": ""
             }
            },
            "type": "scatterpolar"
           }
          ],
          "scatterpolargl": [
           {
            "marker": {
             "colorbar": {
              "outlinewidth": 0,
              "ticks": ""
             }
            },
            "type": "scatterpolargl"
           }
          ],
          "scatterternary": [
           {
            "marker": {
             "colorbar": {
              "outlinewidth": 0,
              "ticks": ""
             }
            },
            "type": "scatterternary"
           }
          ],
          "surface": [
           {
            "colorbar": {
             "outlinewidth": 0,
             "ticks": ""
            },
            "colorscale": [
             [
              0,
              "#0d0887"
             ],
             [
              0.1111111111111111,
              "#46039f"
             ],
             [
              0.2222222222222222,
              "#7201a8"
             ],
             [
              0.3333333333333333,
              "#9c179e"
             ],
             [
              0.4444444444444444,
              "#bd3786"
             ],
             [
              0.5555555555555556,
              "#d8576b"
             ],
             [
              0.6666666666666666,
              "#ed7953"
             ],
             [
              0.7777777777777778,
              "#fb9f3a"
             ],
             [
              0.8888888888888888,
              "#fdca26"
             ],
             [
              1,
              "#f0f921"
             ]
            ],
            "type": "surface"
           }
          ],
          "table": [
           {
            "cells": {
             "fill": {
              "color": "#EBF0F8"
             },
             "line": {
              "color": "white"
             }
            },
            "header": {
             "fill": {
              "color": "#C8D4E3"
             },
             "line": {
              "color": "white"
             }
            },
            "type": "table"
           }
          ]
         },
         "layout": {
          "annotationdefaults": {
           "arrowcolor": "#2a3f5f",
           "arrowhead": 0,
           "arrowwidth": 1
          },
          "autotypenumbers": "strict",
          "coloraxis": {
           "colorbar": {
            "outlinewidth": 0,
            "ticks": ""
           }
          },
          "colorscale": {
           "diverging": [
            [
             0,
             "#8e0152"
            ],
            [
             0.1,
             "#c51b7d"
            ],
            [
             0.2,
             "#de77ae"
            ],
            [
             0.3,
             "#f1b6da"
            ],
            [
             0.4,
             "#fde0ef"
            ],
            [
             0.5,
             "#f7f7f7"
            ],
            [
             0.6,
             "#e6f5d0"
            ],
            [
             0.7,
             "#b8e186"
            ],
            [
             0.8,
             "#7fbc41"
            ],
            [
             0.9,
             "#4d9221"
            ],
            [
             1,
             "#276419"
            ]
           ],
           "sequential": [
            [
             0,
             "#0d0887"
            ],
            [
             0.1111111111111111,
             "#46039f"
            ],
            [
             0.2222222222222222,
             "#7201a8"
            ],
            [
             0.3333333333333333,
             "#9c179e"
            ],
            [
             0.4444444444444444,
             "#bd3786"
            ],
            [
             0.5555555555555556,
             "#d8576b"
            ],
            [
             0.6666666666666666,
             "#ed7953"
            ],
            [
             0.7777777777777778,
             "#fb9f3a"
            ],
            [
             0.8888888888888888,
             "#fdca26"
            ],
            [
             1,
             "#f0f921"
            ]
           ],
           "sequentialminus": [
            [
             0,
             "#0d0887"
            ],
            [
             0.1111111111111111,
             "#46039f"
            ],
            [
             0.2222222222222222,
             "#7201a8"
            ],
            [
             0.3333333333333333,
             "#9c179e"
            ],
            [
             0.4444444444444444,
             "#bd3786"
            ],
            [
             0.5555555555555556,
             "#d8576b"
            ],
            [
             0.6666666666666666,
             "#ed7953"
            ],
            [
             0.7777777777777778,
             "#fb9f3a"
            ],
            [
             0.8888888888888888,
             "#fdca26"
            ],
            [
             1,
             "#f0f921"
            ]
           ]
          },
          "colorway": [
           "#636efa",
           "#EF553B",
           "#00cc96",
           "#ab63fa",
           "#FFA15A",
           "#19d3f3",
           "#FF6692",
           "#B6E880",
           "#FF97FF",
           "#FECB52"
          ],
          "font": {
           "color": "#2a3f5f"
          },
          "geo": {
           "bgcolor": "white",
           "lakecolor": "white",
           "landcolor": "#E5ECF6",
           "showlakes": true,
           "showland": true,
           "subunitcolor": "white"
          },
          "hoverlabel": {
           "align": "left"
          },
          "hovermode": "closest",
          "mapbox": {
           "style": "light"
          },
          "paper_bgcolor": "white",
          "plot_bgcolor": "#E5ECF6",
          "polar": {
           "angularaxis": {
            "gridcolor": "white",
            "linecolor": "white",
            "ticks": ""
           },
           "bgcolor": "#E5ECF6",
           "radialaxis": {
            "gridcolor": "white",
            "linecolor": "white",
            "ticks": ""
           }
          },
          "scene": {
           "xaxis": {
            "backgroundcolor": "#E5ECF6",
            "gridcolor": "white",
            "gridwidth": 2,
            "linecolor": "white",
            "showbackground": true,
            "ticks": "",
            "zerolinecolor": "white"
           },
           "yaxis": {
            "backgroundcolor": "#E5ECF6",
            "gridcolor": "white",
            "gridwidth": 2,
            "linecolor": "white",
            "showbackground": true,
            "ticks": "",
            "zerolinecolor": "white"
           },
           "zaxis": {
            "backgroundcolor": "#E5ECF6",
            "gridcolor": "white",
            "gridwidth": 2,
            "linecolor": "white",
            "showbackground": true,
            "ticks": "",
            "zerolinecolor": "white"
           }
          },
          "shapedefaults": {
           "line": {
            "color": "#2a3f5f"
           }
          },
          "ternary": {
           "aaxis": {
            "gridcolor": "white",
            "linecolor": "white",
            "ticks": ""
           },
           "baxis": {
            "gridcolor": "white",
            "linecolor": "white",
            "ticks": ""
           },
           "bgcolor": "#E5ECF6",
           "caxis": {
            "gridcolor": "white",
            "linecolor": "white",
            "ticks": ""
           }
          },
          "title": {
           "x": 0.05
          },
          "xaxis": {
           "automargin": true,
           "gridcolor": "white",
           "linecolor": "white",
           "ticks": "",
           "title": {
            "standoff": 15
           },
           "zerolinecolor": "white",
           "zerolinewidth": 2
          },
          "yaxis": {
           "automargin": true,
           "gridcolor": "white",
           "linecolor": "white",
           "ticks": "",
           "title": {
            "standoff": 15
           },
           "zerolinecolor": "white",
           "zerolinewidth": 2
          }
         }
        },
        "title": {
         "text": "Enrollment Percent change over the School Year 2015-2016"
        },
        "xaxis": {
         "anchor": "y",
         "categoryarray": [
          "2015-2016",
          "2016-2017",
          "2017-2018"
         ],
         "categoryorder": "array",
         "domain": [
          0,
          1
         ],
         "title": {
          "text": "School Year"
         }
        },
        "yaxis": {
         "anchor": "x",
         "domain": [
          0,
          1
         ],
         "title": {
          "text": "Enrollment_Percentage_Change"
         }
        }
       }
      },
      "text/html": [
       "<div>                            <div id=\"d21493c8-be4f-4a61-a7c0-e7df0c7c1d56\" class=\"plotly-graph-div\" style=\"height:525px; width:100%;\"></div>            <script type=\"text/javascript\">                require([\"plotly\"], function(Plotly) {                    window.PLOTLYENV=window.PLOTLYENV || {};                                    if (document.getElementById(\"d21493c8-be4f-4a61-a7c0-e7df0c7c1d56\")) {                    Plotly.newPlot(                        \"d21493c8-be4f-4a61-a7c0-e7df0c7c1d56\",                        [{\"alignmentgroup\": \"True\", \"hovertemplate\": \"School Year=%{x}<br>Percentage Change=%{y}<extra></extra>\", \"legendgroup\": \"2015-2016\", \"marker\": {\"color\": \"#636efa\"}, \"name\": \"2015-2016\", \"offsetgroup\": \"2015-2016\", \"orientation\": \"v\", \"showlegend\": true, \"textposition\": \"auto\", \"type\": \"bar\", \"x\": [\"2015-2016\"], \"xaxis\": \"x\", \"y\": [0.0], \"yaxis\": \"y\"}, {\"alignmentgroup\": \"True\", \"hovertemplate\": \"School Year=%{x}<br>Percentage Change=%{y}<extra></extra>\", \"legendgroup\": \"2016-2017\", \"marker\": {\"color\": \"#EF553B\"}, \"name\": \"2016-2017\", \"offsetgroup\": \"2016-2017\", \"orientation\": \"v\", \"showlegend\": true, \"textposition\": \"auto\", \"type\": \"bar\", \"x\": [\"2016-2017\"], \"xaxis\": \"x\", \"y\": [-2.172169649199184], \"yaxis\": \"y\"}, {\"alignmentgroup\": \"True\", \"hovertemplate\": \"School Year=%{x}<br>Percentage Change=%{y}<extra></extra>\", \"legendgroup\": \"2017-2018\", \"marker\": {\"color\": \"#00cc96\"}, \"name\": \"2017-2018\", \"offsetgroup\": \"2017-2018\", \"orientation\": \"v\", \"showlegend\": true, \"textposition\": \"auto\", \"type\": \"bar\", \"x\": [\"2017-2018\"], \"xaxis\": \"x\", \"y\": [1.3022602178241012], \"yaxis\": \"y\"}],                        {\"annotations\": [{\"arrowhead\": 1, \"ax\": 0, \"ay\": -40, \"showarrow\": true, \"text\": \"Percentage change: 0.0%\", \"x\": \"2015-2016\", \"y\": 0.0}, {\"arrowhead\": 1, \"ax\": 0, \"ay\": -40, \"showarrow\": true, \"text\": \"Percentage change: -2.17%\", \"x\": \"2016-2017\", \"y\": -2.17}, {\"arrowhead\": 1, \"ax\": 0, \"ay\": -40, \"showarrow\": true, \"text\": \"Percentage change: 1.3%\", \"x\": \"2017-2018\", \"y\": 1.3}], \"barmode\": \"relative\", \"legend\": {\"title\": {\"text\": \"School Year\"}, \"tracegroupgap\": 0}, \"template\": {\"data\": {\"bar\": [{\"error_x\": {\"color\": \"#2a3f5f\"}, \"error_y\": {\"color\": \"#2a3f5f\"}, \"marker\": {\"line\": {\"color\": \"#E5ECF6\", \"width\": 0.5}}, \"type\": \"bar\"}], \"barpolar\": [{\"marker\": {\"line\": {\"color\": \"#E5ECF6\", \"width\": 0.5}}, \"type\": \"barpolar\"}], \"carpet\": [{\"aaxis\": {\"endlinecolor\": \"#2a3f5f\", \"gridcolor\": \"white\", \"linecolor\": \"white\", \"minorgridcolor\": \"white\", \"startlinecolor\": \"#2a3f5f\"}, \"baxis\": {\"endlinecolor\": \"#2a3f5f\", \"gridcolor\": \"white\", \"linecolor\": \"white\", \"minorgridcolor\": \"white\", \"startlinecolor\": \"#2a3f5f\"}, \"type\": \"carpet\"}], \"choropleth\": [{\"colorbar\": {\"outlinewidth\": 0, \"ticks\": \"\"}, \"type\": \"choropleth\"}], \"contour\": [{\"colorbar\": {\"outlinewidth\": 0, \"ticks\": \"\"}, \"colorscale\": [[0.0, \"#0d0887\"], [0.1111111111111111, \"#46039f\"], [0.2222222222222222, \"#7201a8\"], [0.3333333333333333, \"#9c179e\"], [0.4444444444444444, \"#bd3786\"], [0.5555555555555556, \"#d8576b\"], [0.6666666666666666, \"#ed7953\"], [0.7777777777777778, \"#fb9f3a\"], [0.8888888888888888, \"#fdca26\"], [1.0, \"#f0f921\"]], \"type\": \"contour\"}], \"contourcarpet\": [{\"colorbar\": {\"outlinewidth\": 0, \"ticks\": \"\"}, \"type\": \"contourcarpet\"}], \"heatmap\": [{\"colorbar\": {\"outlinewidth\": 0, \"ticks\": \"\"}, \"colorscale\": [[0.0, \"#0d0887\"], [0.1111111111111111, \"#46039f\"], [0.2222222222222222, \"#7201a8\"], [0.3333333333333333, \"#9c179e\"], [0.4444444444444444, \"#bd3786\"], [0.5555555555555556, \"#d8576b\"], [0.6666666666666666, \"#ed7953\"], [0.7777777777777778, \"#fb9f3a\"], [0.8888888888888888, \"#fdca26\"], [1.0, \"#f0f921\"]], \"type\": \"heatmap\"}], \"heatmapgl\": [{\"colorbar\": {\"outlinewidth\": 0, \"ticks\": \"\"}, \"colorscale\": [[0.0, \"#0d0887\"], [0.1111111111111111, \"#46039f\"], [0.2222222222222222, \"#7201a8\"], [0.3333333333333333, \"#9c179e\"], [0.4444444444444444, \"#bd3786\"], [0.5555555555555556, \"#d8576b\"], [0.6666666666666666, \"#ed7953\"], [0.7777777777777778, \"#fb9f3a\"], [0.8888888888888888, \"#fdca26\"], [1.0, \"#f0f921\"]], \"type\": \"heatmapgl\"}], \"histogram\": [{\"marker\": {\"colorbar\": {\"outlinewidth\": 0, \"ticks\": \"\"}}, \"type\": \"histogram\"}], \"histogram2d\": [{\"colorbar\": {\"outlinewidth\": 0, \"ticks\": \"\"}, \"colorscale\": [[0.0, \"#0d0887\"], [0.1111111111111111, \"#46039f\"], [0.2222222222222222, \"#7201a8\"], [0.3333333333333333, \"#9c179e\"], [0.4444444444444444, \"#bd3786\"], [0.5555555555555556, \"#d8576b\"], [0.6666666666666666, \"#ed7953\"], [0.7777777777777778, \"#fb9f3a\"], [0.8888888888888888, \"#fdca26\"], [1.0, \"#f0f921\"]], \"type\": \"histogram2d\"}], \"histogram2dcontour\": [{\"colorbar\": {\"outlinewidth\": 0, \"ticks\": \"\"}, \"colorscale\": [[0.0, \"#0d0887\"], [0.1111111111111111, \"#46039f\"], [0.2222222222222222, \"#7201a8\"], [0.3333333333333333, \"#9c179e\"], [0.4444444444444444, \"#bd3786\"], [0.5555555555555556, \"#d8576b\"], [0.6666666666666666, \"#ed7953\"], [0.7777777777777778, \"#fb9f3a\"], [0.8888888888888888, \"#fdca26\"], [1.0, \"#f0f921\"]], \"type\": \"histogram2dcontour\"}], \"mesh3d\": [{\"colorbar\": {\"outlinewidth\": 0, \"ticks\": \"\"}, \"type\": \"mesh3d\"}], \"parcoords\": [{\"line\": {\"colorbar\": {\"outlinewidth\": 0, \"ticks\": \"\"}}, \"type\": \"parcoords\"}], \"pie\": [{\"automargin\": true, \"type\": \"pie\"}], \"scatter\": [{\"marker\": {\"colorbar\": {\"outlinewidth\": 0, \"ticks\": \"\"}}, \"type\": \"scatter\"}], \"scatter3d\": [{\"line\": {\"colorbar\": {\"outlinewidth\": 0, \"ticks\": \"\"}}, \"marker\": {\"colorbar\": {\"outlinewidth\": 0, \"ticks\": \"\"}}, \"type\": \"scatter3d\"}], \"scattercarpet\": [{\"marker\": {\"colorbar\": {\"outlinewidth\": 0, \"ticks\": \"\"}}, \"type\": \"scattercarpet\"}], \"scattergeo\": [{\"marker\": {\"colorbar\": {\"outlinewidth\": 0, \"ticks\": \"\"}}, \"type\": \"scattergeo\"}], \"scattergl\": [{\"marker\": {\"colorbar\": {\"outlinewidth\": 0, \"ticks\": \"\"}}, \"type\": \"scattergl\"}], \"scattermapbox\": [{\"marker\": {\"colorbar\": {\"outlinewidth\": 0, \"ticks\": \"\"}}, \"type\": \"scattermapbox\"}], \"scatterpolar\": [{\"marker\": {\"colorbar\": {\"outlinewidth\": 0, \"ticks\": \"\"}}, \"type\": \"scatterpolar\"}], \"scatterpolargl\": [{\"marker\": {\"colorbar\": {\"outlinewidth\": 0, \"ticks\": \"\"}}, \"type\": \"scatterpolargl\"}], \"scatterternary\": [{\"marker\": {\"colorbar\": {\"outlinewidth\": 0, \"ticks\": \"\"}}, \"type\": \"scatterternary\"}], \"surface\": [{\"colorbar\": {\"outlinewidth\": 0, \"ticks\": \"\"}, \"colorscale\": [[0.0, \"#0d0887\"], [0.1111111111111111, \"#46039f\"], [0.2222222222222222, \"#7201a8\"], [0.3333333333333333, \"#9c179e\"], [0.4444444444444444, \"#bd3786\"], [0.5555555555555556, \"#d8576b\"], [0.6666666666666666, \"#ed7953\"], [0.7777777777777778, \"#fb9f3a\"], [0.8888888888888888, \"#fdca26\"], [1.0, \"#f0f921\"]], \"type\": \"surface\"}], \"table\": [{\"cells\": {\"fill\": {\"color\": \"#EBF0F8\"}, \"line\": {\"color\": \"white\"}}, \"header\": {\"fill\": {\"color\": \"#C8D4E3\"}, \"line\": {\"color\": \"white\"}}, \"type\": \"table\"}]}, \"layout\": {\"annotationdefaults\": {\"arrowcolor\": \"#2a3f5f\", \"arrowhead\": 0, \"arrowwidth\": 1}, \"autotypenumbers\": \"strict\", \"coloraxis\": {\"colorbar\": {\"outlinewidth\": 0, \"ticks\": \"\"}}, \"colorscale\": {\"diverging\": [[0, \"#8e0152\"], [0.1, \"#c51b7d\"], [0.2, \"#de77ae\"], [0.3, \"#f1b6da\"], [0.4, \"#fde0ef\"], [0.5, \"#f7f7f7\"], [0.6, \"#e6f5d0\"], [0.7, \"#b8e186\"], [0.8, \"#7fbc41\"], [0.9, \"#4d9221\"], [1, \"#276419\"]], \"sequential\": [[0.0, \"#0d0887\"], [0.1111111111111111, \"#46039f\"], [0.2222222222222222, \"#7201a8\"], [0.3333333333333333, \"#9c179e\"], [0.4444444444444444, \"#bd3786\"], [0.5555555555555556, \"#d8576b\"], [0.6666666666666666, \"#ed7953\"], [0.7777777777777778, \"#fb9f3a\"], [0.8888888888888888, \"#fdca26\"], [1.0, \"#f0f921\"]], \"sequentialminus\": [[0.0, \"#0d0887\"], [0.1111111111111111, \"#46039f\"], [0.2222222222222222, \"#7201a8\"], [0.3333333333333333, \"#9c179e\"], [0.4444444444444444, \"#bd3786\"], [0.5555555555555556, \"#d8576b\"], [0.6666666666666666, \"#ed7953\"], [0.7777777777777778, \"#fb9f3a\"], [0.8888888888888888, \"#fdca26\"], [1.0, \"#f0f921\"]]}, \"colorway\": [\"#636efa\", \"#EF553B\", \"#00cc96\", \"#ab63fa\", \"#FFA15A\", \"#19d3f3\", \"#FF6692\", \"#B6E880\", \"#FF97FF\", \"#FECB52\"], \"font\": {\"color\": \"#2a3f5f\"}, \"geo\": {\"bgcolor\": \"white\", \"lakecolor\": \"white\", \"landcolor\": \"#E5ECF6\", \"showlakes\": true, \"showland\": true, \"subunitcolor\": \"white\"}, \"hoverlabel\": {\"align\": \"left\"}, \"hovermode\": \"closest\", \"mapbox\": {\"style\": \"light\"}, \"paper_bgcolor\": \"white\", \"plot_bgcolor\": \"#E5ECF6\", \"polar\": {\"angularaxis\": {\"gridcolor\": \"white\", \"linecolor\": \"white\", \"ticks\": \"\"}, \"bgcolor\": \"#E5ECF6\", \"radialaxis\": {\"gridcolor\": \"white\", \"linecolor\": \"white\", \"ticks\": \"\"}}, \"scene\": {\"xaxis\": {\"backgroundcolor\": \"#E5ECF6\", \"gridcolor\": \"white\", \"gridwidth\": 2, \"linecolor\": \"white\", \"showbackground\": true, \"ticks\": \"\", \"zerolinecolor\": \"white\"}, \"yaxis\": {\"backgroundcolor\": \"#E5ECF6\", \"gridcolor\": \"white\", \"gridwidth\": 2, \"linecolor\": \"white\", \"showbackground\": true, \"ticks\": \"\", \"zerolinecolor\": \"white\"}, \"zaxis\": {\"backgroundcolor\": \"#E5ECF6\", \"gridcolor\": \"white\", \"gridwidth\": 2, \"linecolor\": \"white\", \"showbackground\": true, \"ticks\": \"\", \"zerolinecolor\": \"white\"}}, \"shapedefaults\": {\"line\": {\"color\": \"#2a3f5f\"}}, \"ternary\": {\"aaxis\": {\"gridcolor\": \"white\", \"linecolor\": \"white\", \"ticks\": \"\"}, \"baxis\": {\"gridcolor\": \"white\", \"linecolor\": \"white\", \"ticks\": \"\"}, \"bgcolor\": \"#E5ECF6\", \"caxis\": {\"gridcolor\": \"white\", \"linecolor\": \"white\", \"ticks\": \"\"}}, \"title\": {\"x\": 0.05}, \"xaxis\": {\"automargin\": true, \"gridcolor\": \"white\", \"linecolor\": \"white\", \"ticks\": \"\", \"title\": {\"standoff\": 15}, \"zerolinecolor\": \"white\", \"zerolinewidth\": 2}, \"yaxis\": {\"automargin\": true, \"gridcolor\": \"white\", \"linecolor\": \"white\", \"ticks\": \"\", \"title\": {\"standoff\": 15}, \"zerolinecolor\": \"white\", \"zerolinewidth\": 2}}}, \"title\": {\"text\": \"Enrollment Percent change over the School Year 2015-2016\"}, \"xaxis\": {\"anchor\": \"y\", \"categoryarray\": [\"2015-2016\", \"2016-2017\", \"2017-2018\"], \"categoryorder\": \"array\", \"domain\": [0.0, 1.0], \"title\": {\"text\": \"School Year\"}}, \"yaxis\": {\"anchor\": \"x\", \"domain\": [0.0, 1.0], \"title\": {\"text\": \"Enrollment_Percentage_Change\"}}},                        {\"responsive\": true}                    ).then(function(){\n",
       "                            \n",
       "var gd = document.getElementById('d21493c8-be4f-4a61-a7c0-e7df0c7c1d56');\n",
       "var x = new MutationObserver(function (mutations, observer) {{\n",
       "        var display = window.getComputedStyle(gd).display;\n",
       "        if (!display || display === 'none') {{\n",
       "            console.log([gd, 'removed!']);\n",
       "            Plotly.purge(gd);\n",
       "            observer.disconnect();\n",
       "        }}\n",
       "}});\n",
       "\n",
       "// Listen for the removal of the full notebook cells\n",
       "var notebookContainer = gd.closest('#notebook-container');\n",
       "if (notebookContainer) {{\n",
       "    x.observe(notebookContainer, {childList: true});\n",
       "}}\n",
       "\n",
       "// Listen for the clearing of the current output cell\n",
       "var outputEl = gd.closest('.output');\n",
       "if (outputEl) {{\n",
       "    x.observe(outputEl, {childList: true});\n",
       "}}\n",
       "\n",
       "                        })                };                });            </script>        </div>"
      ]
     },
     "metadata": {},
     "output_type": "display_data"
    }
   ],
   "source": [
    "# Plot the percentage change in enrollment\n",
    "fig3 = px.bar(filtered_data, \n",
    "              x='School_Year', \n",
    "              y='Enrollment_Percentage_Change', \n",
    "              color='School_Year',\n",
    "              title='Percentage Change in Enrollment per Year',\n",
    "              labels={'Enrollment_Percentage_Change': 'Percentage Change', 'School_Year': 'School Year'})\n",
    "\n",
    "fig3.update_layout(\n",
    "            title='Enrollment Percent change over the School Year 2015-2016', \n",
    "            xaxis_title='School Year', \n",
    "            yaxis_title='Enrollment_Percentage_Change')\n",
    "\n",
    "# Rounding off the 'Enrollment_Percentage_Change' values to 2 decimal places\n",
    "filtered_data['Enrollment_Percentage_Change'] = round(filtered_data['Enrollment_Percentage_Change'], 2)\n",
    "\n",
    "# Annotating the plot \n",
    "for i, row in filtered_data.iterrows():\n",
    "    fig3.add_annotation(\n",
    "        x=row['School_Year'], \n",
    "        y=row['Enrollment_Percentage_Change'],\n",
    "        text=f\"Percentage change: {row['Enrollment_Percentage_Change']}%\",\n",
    "        showarrow=True,\n",
    "        arrowhead=1,\n",
    "        ax=0,\n",
    "        ay=-40\n",
    "    )\n",
    "\n",
    "fig3.show()"
   ]
  },
  {
   "cell_type": "markdown",
   "metadata": {},
   "source": [
    "### Calculation of number of school & Building name which has increased enrollment over 3 consecutive years"
   ]
  },
  {
   "cell_type": "code",
   "execution_count": 105,
   "metadata": {},
   "outputs": [
    {
     "name": "stdout",
     "output_type": "stream",
     "text": [
      "Schools with increased enrollment for three consecutive years:\n",
      "     Building_IRN                                      Building_Name\n",
      "234           318                                 Menlo Park Academy\n",
      "238           930      Cleveland Entrepreneurship Preparatory School\n",
      "257          9285                                  Douglas MacArthur\n",
      "261         10201                        Design Lab @ Health Careers\n",
      "267         12030                 Near West Intergenerational School\n",
      "268         12031  Entrepreneurship Preparatory School - Woodland...\n",
      "269         12350                        Campus International School\n",
      "271         12353                        New Technology HS@East Tech\n",
      "272         12355          Facing History High School@Charles Mooney\n",
      "275         12898                         Garfield Elementary School\n",
      "276         13034  Village Preparatory School:: Woodland Hills Ca...\n",
      "281         14913                 Lakeshore Intergenerational School\n",
      "282         14918         Cleveland High School for the Digital Arts\n",
      "283         14919                                         PACT @ JFK\n",
      "284         14920                       Bard Early College Cleveland\n",
      "285         15039                                     E3agle Academy\n",
      "287         15239                              Stonebrook Montessori\n",
      "290         15598                John Marshall School of Engineering\n",
      "291         15599  John Marshall School of Business and Civic Lea...\n",
      "292         15600     John Marshall School of Information Technology\n",
      "306         18408                       Cleveland Early College High\n",
      "312         23085                                     Mary M Bethune\n",
      "319         26443                                 Nathan Hale School\n",
      "320         27102                              Newton D Baker School\n",
      "322         28720                                     Orchard School\n",
      "324         29413                    Paul L Dunbar Elementary School\n",
      "328         33902                                    Scranton School\n",
      "330         37101                            Thomas Jefferson School\n",
      "335         39149                                      Walton School\n",
      "336         39206                    Warner Girls Leadership Academy\n",
      "348         65565                 Marion C Seltzer Elementary School\n",
      "349         65573                  Marion-Sterling Elementary School\n",
      "Number of schools with increased enrollment: 32\n"
     ]
    },
    {
     "name": "stderr",
     "output_type": "stream",
     "text": [
      "<ipython-input-105-1e5e86b7635d>:2: SettingWithCopyWarning:\n",
      "\n",
      "\n",
      "A value is trying to be set on a copy of a slice from a DataFrame.\n",
      "Try using .loc[row_indexer,col_indexer] = value instead\n",
      "\n",
      "See the caveats in the documentation: https://pandas.pydata.org/pandas-docs/stable/user_guide/indexing.html#returning-a-view-versus-a-copy\n",
      "\n"
     ]
    }
   ],
   "source": [
    "# Create a new column for increased enrollment\n",
    "df_CMSD['Increased_Enrollment_3_Years'] = False\n",
    "\n",
    "# For loop to Iterate the data and check for three consecutive increases per school\n",
    "for school_name in df_CMSD['Building_Name'].unique():\n",
    "    school_df = df_CMSD[df_CMSD['Building_Name'] == school_name]\n",
    "\n",
    "    # Check if there are enough data points for the school\n",
    "    if len(school_df) >= 3:\n",
    "        mask = (\n",
    "            (school_df['Enrollment'].shift(2) < school_df['Enrollment'].shift(1)) &\n",
    "            (school_df['Enrollment'].shift(1) < school_df['Enrollment']) &\n",
    "            school_df['Enrollment'].notna()\n",
    "        )\n",
    "\n",
    "        df_CMSD.loc[school_df.index[mask], 'Increased_Enrollment_3_Years'] = True\n",
    "\n",
    "# Filter schools with increased enrollment for three consecutive years\n",
    "schools_with_increased_3_years = df_CMSD[df_CMSD['Increased_Enrollment_3_Years']]\n",
    "print(\"Schools with increased enrollment for three consecutive years:\")\n",
    "print(schools_with_increased_3_years[['Building_IRN','Building_Name']])\n",
    "\n",
    "# Calculating the sum of schools\n",
    "schools_with_increased_3_years_sum = df_CMSD['Increased_Enrollment_3_Years'].sum()\n",
    "print(f\"Number of schools with increased enrollment: {schools_with_increased_3_years_sum}\")"
   ]
  },
  {
   "cell_type": "markdown",
   "metadata": {},
   "source": [
    "### Calculation of number of school & Building name which has decreased enrollment over 3 consecutive years"
   ]
  },
  {
   "cell_type": "code",
   "execution_count": 106,
   "metadata": {},
   "outputs": [
    {
     "name": "stderr",
     "output_type": "stream",
     "text": [
      "<ipython-input-106-5644730189e5>:2: SettingWithCopyWarning:\n",
      "\n",
      "\n",
      "A value is trying to be set on a copy of a slice from a DataFrame.\n",
      "Try using .loc[row_indexer,col_indexer] = value instead\n",
      "\n",
      "See the caveats in the documentation: https://pandas.pydata.org/pandas-docs/stable/user_guide/indexing.html#returning-a-view-versus-a-copy\n",
      "\n",
      "<ipython-input-106-5644730189e5>:5: SettingWithCopyWarning:\n",
      "\n",
      "\n",
      "A value is trying to be set on a copy of a slice from a DataFrame.\n",
      "Try using .loc[row_indexer,col_indexer] = value instead\n",
      "\n",
      "See the caveats in the documentation: https://pandas.pydata.org/pandas-docs/stable/user_guide/indexing.html#returning-a-view-versus-a-copy\n",
      "\n"
     ]
    },
    {
     "name": "stdout",
     "output_type": "stream",
     "text": [
      "Schools with decreased enrollment for three consecutive years:\n",
      "     Building_IRN                                Building_Name\n",
      "236           729                             Andrew J Rickoff\n",
      "244          5066                                         Case\n",
      "245          5637                               Alfred Benesch\n",
      "246          5892                      Charles A Mooney School\n",
      "250          6429                                 Clark School\n",
      "251          6940                       Collinwood High School\n",
      "252          8060                       Daniel E Morgan School\n",
      "253          8383                                      Denison\n",
      "259          9555                   East Technical High School\n",
      "262         10801                Euclid Park Elementary School\n",
      "277         13148                            Stepstone Academy\n",
      "278         13292                     George Washington Carver\n",
      "279         13680                        Glenville High School\n",
      "286         15073  Hannah Gibbons-Nottingham Elementary School\n",
      "302         17467                 Iowa-Maple Elementary School\n",
      "304         17863     Jane Addams Business Careers High School\n",
      "305         18325                       John Adams High School\n",
      "308         21527                         Louis Agassiz School\n",
      "309         21543                        Franklin D. Roosevelt\n",
      "310         21550          Louisa May Alcott Elementary School\n",
      "311         23069                         Mary B Martin School\n",
      "316         24703                             Michael R. White\n",
      "318         25874                            The School of One\n",
      "323         29371                         Patrick Henry School\n",
      "325         31963                             Riverside School\n",
      "331         37457                    Tremont Montessori School\n",
      "340         41517                                Willow School\n",
      "341         41541                               Willson School\n",
      "342         62315                     Lincoln-West High School\n",
      "343         62323                         Whitney Young School\n",
      "344         62760                      Luis Munoz Marin School\n",
      "347         64576     Cleveland School Of The Arts High School\n",
      "350         68221                            Kenneth W Clement\n",
      "358        133520                             Citizens Academy\n",
      "Number of schools with decreased enrollment: 34\n"
     ]
    }
   ],
   "source": [
    "# Convert 'Enrollment' to numeric (if not already)\n",
    "df_CMSD['Enrollment'] = pd.to_numeric(df_CMSD['Enrollment'], errors='coerce')\n",
    "\n",
    "# Create a new column to flag schools with decreased enrollment for three consecutive years\n",
    "df_CMSD['Decreased_Enrollment_3_Years'] = False\n",
    "\n",
    "# Iterate through the data and check for three consecutive decreases per school\n",
    "for school_name in df_CMSD['Building_Name'].unique():\n",
    "    school_df = df_CMSD[df_CMSD['Building_Name'] == school_name]\n",
    "\n",
    "    # Check if there are enough data points for the school\n",
    "    if len(school_df) >= 3:\n",
    "        mask = (\n",
    "            (school_df['Enrollment'].shift(2) > school_df['Enrollment'].shift(1)) &\n",
    "            (school_df['Enrollment'].shift(1) > school_df['Enrollment']) &\n",
    "            school_df['Enrollment'].notna()\n",
    "        )\n",
    "\n",
    "        df_CMSD.loc[school_df.index[mask], 'Decreased_Enrollment_3_Years'] = True\n",
    "\n",
    "# Filter schools with decreased enrollment for three consecutive years\n",
    "schools_with_decreased_3_years = df_CMSD[df_CMSD['Decreased_Enrollment_3_Years']]\n",
    "print(\"Schools with decreased enrollment for three consecutive years:\")\n",
    "print(schools_with_decreased_3_years[['Building_IRN','Building_Name']])\n",
    "\n",
    "# Calculating the sum of schools\n",
    "schools_with_decreased_3_years_sum = df_CMSD['Decreased_Enrollment_3_Years'].sum()\n",
    "print(f\"Number of schools with decreased enrollment: {schools_with_decreased_3_years_sum}\")"
   ]
  },
  {
   "cell_type": "markdown",
   "metadata": {},
   "source": [
    "### Interactive bar plot for each years Enrollment distribution for each school"
   ]
  },
  {
   "cell_type": "code",
   "execution_count": 138,
   "metadata": {},
   "outputs": [
    {
     "data": {
      "application/vnd.plotly.v1+json": {
       "config": {
        "plotlyServerURL": "https://plot.ly"
       },
       "data": [
        {
         "alignmentgroup": "True",
         "hovertemplate": "Building_Name=%{x}<br>Enrollment=%{marker.color}<extra></extra>",
         "legendgroup": "",
         "marker": {
          "color": [
           430,
           367,
           499,
           477,
           371,
           295,
           491,
           602,
           346,
           393,
           361,
           376,
           512,
           387,
           342,
           406,
           606,
           436,
           288,
           375,
           362,
           404,
           242,
           326,
           381,
           368,
           396,
           196,
           367,
           424,
           553,
           282,
           258,
           191,
           269,
           538,
           289,
           137,
           261,
           220,
           378,
           554,
           391,
           295,
           402,
           469,
           380,
           146,
           152,
           176,
           248,
           185,
           274,
           92,
           170,
           444,
           196,
           196,
           213,
           291,
           1252,
           338,
           833,
           319,
           281,
           621,
           326,
           335,
           445,
           258,
           346,
           280,
           650,
           255,
           418,
           513,
           258,
           398,
           316,
           505,
           400,
           275,
           445,
           361,
           334,
           519,
           375,
           477,
           434,
           380,
           720,
           585,
           205,
           407,
           399,
           239,
           425,
           282,
           189,
           166,
           380,
           259,
           368,
           717,
           239,
           588,
           741,
           252,
           584,
           360,
           318,
           200,
           434,
           250,
           446,
           85,
           382
          ],
          "coloraxis": "coloraxis"
         },
         "name": "",
         "offsetgroup": "",
         "orientation": "v",
         "showlegend": false,
         "textposition": "auto",
         "type": "bar",
         "x": [
          "Adlai Stevenson School",
          "Menlo Park Academy",
          "Almira",
          "Andrew J Rickoff",
          "Anton Grdina",
          "Cleveland Entrepreneurship Preparatory School",
          "Artemus Ward",
          "Benjamin Franklin",
          "Bolton",
          "Buhrer",
          "Case",
          "Alfred Benesch",
          "Charles A Mooney School",
          "Charles Dickens School",
          "Charles W Eliot School",
          "Clara E Westropp School",
          "Clark School",
          "Collinwood High School",
          "Daniel E Morgan School",
          "Denison",
          "Cleveland School of Arts Lower Campus",
          "Memorial School",
          "East Clark",
          "Douglas MacArthur",
          "Ginn Academy",
          "East Technical High School",
          "MC^2 STEM High School",
          "Design Lab @ Health Careers",
          "Euclid Park Elementary School",
          "Village Preparatory School",
          "Northeast Ohio College Preparatory School",
          "Cleveland College Preparatory School",
          "Citizens Leadership Academy",
          "Near West Intergenerational School",
          "Entrepreneurship Preparatory School - Woodland Hills Campus",
          "Campus International School",
          "New Technology West",
          "New Technology HS@East Tech",
          "Facing History High School@Charles Mooney",
          "Fullerton School",
          "Citizens Academy East",
          "Garfield Elementary School",
          "Village Preparatory School:: Woodland Hills Campus",
          "Stepstone Academy",
          "George Washington Carver",
          "Glenville High School",
          "H Barbara Booker Elementary School",
          "Lakeshore Intergenerational School",
          "Cleveland High School for the Digital Arts",
          "PACT @ JFK",
          "Bard Early College Cleveland",
          "E3agle Academy",
          "Hannah Gibbons-Nottingham Elementary School",
          "Stonebrook Montessori",
          "Citizens Academy Southeast",
          "Harvey Rice Elementary School",
          "John Marshall School of Engineering",
          "John Marshall School of Business and Civic Leadership",
          "John Marshall School of Information Technology",
          "Iowa-Maple Elementary School",
          "James Ford Rhodes High School",
          "Jane Addams Business Careers High School",
          "John Adams High School",
          "John F Kennedy High School",
          "Cleveland Early College High",
          "John Marshall High School",
          "Cleveland School of Architecture & Design",
          "Louis Agassiz School",
          "Franklin D. Roosevelt",
          "Louisa May Alcott Elementary School",
          "Mary B Martin School",
          "Mary M Bethune",
          "Max S Hayes High School",
          "McKinley School",
          "Miles School",
          "Miles Park School",
          "Michael R. White",
          "Mound Elementary School",
          "The School of One",
          "Nathan Hale School",
          "Newton D Baker School",
          "Oliver H Perry Elementary School",
          "Orchard School",
          "Patrick Henry School",
          "Paul L Dunbar Elementary School",
          "Riverside School",
          "Robert H Jamison School",
          "Robinson G Jones Elementary School",
          "Scranton School",
          "Sunbeam",
          "Thomas Jefferson School",
          "Tremont Montessori School",
          "Valley View Elementary School",
          "William C Bryant Elementary School",
          "Wade Park",
          "Walton School",
          "Warner Girls Leadership Academy",
          "Washington Park",
          "Watterson-Lake School",
          "Waverly Elementary School",
          "Wilbur Wright School",
          "Willow School",
          "Willson School",
          "Lincoln-West High School",
          "Whitney Young School",
          "Luis Munoz Marin School",
          "Joseph M Gallagher School",
          "Garrett Morgan Schl Of Science School",
          "Cleveland School Of The Arts High School",
          "Marion C Seltzer Elementary School",
          "Marion-Sterling Elementary School",
          "Kenneth W Clement",
          "Health Careers Center High School",
          "Intergenerational School, The",
          "Citizens Academy",
          "SuccessTech Academy School",
          "Cleveland School of Science & Medicine"
         ],
         "xaxis": "x",
         "y": [
          430,
          367,
          499,
          477,
          371,
          295,
          491,
          602,
          346,
          393,
          361,
          376,
          512,
          387,
          342,
          406,
          606,
          436,
          288,
          375,
          362,
          404,
          242,
          326,
          381,
          368,
          396,
          196,
          367,
          424,
          553,
          282,
          258,
          191,
          269,
          538,
          289,
          137,
          261,
          220,
          378,
          554,
          391,
          295,
          402,
          469,
          380,
          146,
          152,
          176,
          248,
          185,
          274,
          92,
          170,
          444,
          196,
          196,
          213,
          291,
          1252,
          338,
          833,
          319,
          281,
          621,
          326,
          335,
          445,
          258,
          346,
          280,
          650,
          255,
          418,
          513,
          258,
          398,
          316,
          505,
          400,
          275,
          445,
          361,
          334,
          519,
          375,
          477,
          434,
          380,
          720,
          585,
          205,
          407,
          399,
          239,
          425,
          282,
          189,
          166,
          380,
          259,
          368,
          717,
          239,
          588,
          741,
          252,
          584,
          360,
          318,
          200,
          434,
          250,
          446,
          85,
          382
         ],
         "yaxis": "y"
        }
       ],
       "layout": {
        "barmode": "relative",
        "coloraxis": {
         "colorbar": {
          "title": {
           "text": "Enrollment"
          }
         },
         "colorscale": [
          [
           0,
           "#0d0887"
          ],
          [
           0.1111111111111111,
           "#46039f"
          ],
          [
           0.2222222222222222,
           "#7201a8"
          ],
          [
           0.3333333333333333,
           "#9c179e"
          ],
          [
           0.4444444444444444,
           "#bd3786"
          ],
          [
           0.5555555555555556,
           "#d8576b"
          ],
          [
           0.6666666666666666,
           "#ed7953"
          ],
          [
           0.7777777777777778,
           "#fb9f3a"
          ],
          [
           0.8888888888888888,
           "#fdca26"
          ],
          [
           1,
           "#f0f921"
          ]
         ]
        },
        "height": 800,
        "legend": {
         "tracegroupgap": 0
        },
        "template": {
         "data": {
          "bar": [
           {
            "error_x": {
             "color": "#2a3f5f"
            },
            "error_y": {
             "color": "#2a3f5f"
            },
            "marker": {
             "line": {
              "color": "#E5ECF6",
              "width": 0.5
             }
            },
            "type": "bar"
           }
          ],
          "barpolar": [
           {
            "marker": {
             "line": {
              "color": "#E5ECF6",
              "width": 0.5
             }
            },
            "type": "barpolar"
           }
          ],
          "carpet": [
           {
            "aaxis": {
             "endlinecolor": "#2a3f5f",
             "gridcolor": "white",
             "linecolor": "white",
             "minorgridcolor": "white",
             "startlinecolor": "#2a3f5f"
            },
            "baxis": {
             "endlinecolor": "#2a3f5f",
             "gridcolor": "white",
             "linecolor": "white",
             "minorgridcolor": "white",
             "startlinecolor": "#2a3f5f"
            },
            "type": "carpet"
           }
          ],
          "choropleth": [
           {
            "colorbar": {
             "outlinewidth": 0,
             "ticks": ""
            },
            "type": "choropleth"
           }
          ],
          "contour": [
           {
            "colorbar": {
             "outlinewidth": 0,
             "ticks": ""
            },
            "colorscale": [
             [
              0,
              "#0d0887"
             ],
             [
              0.1111111111111111,
              "#46039f"
             ],
             [
              0.2222222222222222,
              "#7201a8"
             ],
             [
              0.3333333333333333,
              "#9c179e"
             ],
             [
              0.4444444444444444,
              "#bd3786"
             ],
             [
              0.5555555555555556,
              "#d8576b"
             ],
             [
              0.6666666666666666,
              "#ed7953"
             ],
             [
              0.7777777777777778,
              "#fb9f3a"
             ],
             [
              0.8888888888888888,
              "#fdca26"
             ],
             [
              1,
              "#f0f921"
             ]
            ],
            "type": "contour"
           }
          ],
          "contourcarpet": [
           {
            "colorbar": {
             "outlinewidth": 0,
             "ticks": ""
            },
            "type": "contourcarpet"
           }
          ],
          "heatmap": [
           {
            "colorbar": {
             "outlinewidth": 0,
             "ticks": ""
            },
            "colorscale": [
             [
              0,
              "#0d0887"
             ],
             [
              0.1111111111111111,
              "#46039f"
             ],
             [
              0.2222222222222222,
              "#7201a8"
             ],
             [
              0.3333333333333333,
              "#9c179e"
             ],
             [
              0.4444444444444444,
              "#bd3786"
             ],
             [
              0.5555555555555556,
              "#d8576b"
             ],
             [
              0.6666666666666666,
              "#ed7953"
             ],
             [
              0.7777777777777778,
              "#fb9f3a"
             ],
             [
              0.8888888888888888,
              "#fdca26"
             ],
             [
              1,
              "#f0f921"
             ]
            ],
            "type": "heatmap"
           }
          ],
          "heatmapgl": [
           {
            "colorbar": {
             "outlinewidth": 0,
             "ticks": ""
            },
            "colorscale": [
             [
              0,
              "#0d0887"
             ],
             [
              0.1111111111111111,
              "#46039f"
             ],
             [
              0.2222222222222222,
              "#7201a8"
             ],
             [
              0.3333333333333333,
              "#9c179e"
             ],
             [
              0.4444444444444444,
              "#bd3786"
             ],
             [
              0.5555555555555556,
              "#d8576b"
             ],
             [
              0.6666666666666666,
              "#ed7953"
             ],
             [
              0.7777777777777778,
              "#fb9f3a"
             ],
             [
              0.8888888888888888,
              "#fdca26"
             ],
             [
              1,
              "#f0f921"
             ]
            ],
            "type": "heatmapgl"
           }
          ],
          "histogram": [
           {
            "marker": {
             "colorbar": {
              "outlinewidth": 0,
              "ticks": ""
             }
            },
            "type": "histogram"
           }
          ],
          "histogram2d": [
           {
            "colorbar": {
             "outlinewidth": 0,
             "ticks": ""
            },
            "colorscale": [
             [
              0,
              "#0d0887"
             ],
             [
              0.1111111111111111,
              "#46039f"
             ],
             [
              0.2222222222222222,
              "#7201a8"
             ],
             [
              0.3333333333333333,
              "#9c179e"
             ],
             [
              0.4444444444444444,
              "#bd3786"
             ],
             [
              0.5555555555555556,
              "#d8576b"
             ],
             [
              0.6666666666666666,
              "#ed7953"
             ],
             [
              0.7777777777777778,
              "#fb9f3a"
             ],
             [
              0.8888888888888888,
              "#fdca26"
             ],
             [
              1,
              "#f0f921"
             ]
            ],
            "type": "histogram2d"
           }
          ],
          "histogram2dcontour": [
           {
            "colorbar": {
             "outlinewidth": 0,
             "ticks": ""
            },
            "colorscale": [
             [
              0,
              "#0d0887"
             ],
             [
              0.1111111111111111,
              "#46039f"
             ],
             [
              0.2222222222222222,
              "#7201a8"
             ],
             [
              0.3333333333333333,
              "#9c179e"
             ],
             [
              0.4444444444444444,
              "#bd3786"
             ],
             [
              0.5555555555555556,
              "#d8576b"
             ],
             [
              0.6666666666666666,
              "#ed7953"
             ],
             [
              0.7777777777777778,
              "#fb9f3a"
             ],
             [
              0.8888888888888888,
              "#fdca26"
             ],
             [
              1,
              "#f0f921"
             ]
            ],
            "type": "histogram2dcontour"
           }
          ],
          "mesh3d": [
           {
            "colorbar": {
             "outlinewidth": 0,
             "ticks": ""
            },
            "type": "mesh3d"
           }
          ],
          "parcoords": [
           {
            "line": {
             "colorbar": {
              "outlinewidth": 0,
              "ticks": ""
             }
            },
            "type": "parcoords"
           }
          ],
          "pie": [
           {
            "automargin": true,
            "type": "pie"
           }
          ],
          "scatter": [
           {
            "marker": {
             "colorbar": {
              "outlinewidth": 0,
              "ticks": ""
             }
            },
            "type": "scatter"
           }
          ],
          "scatter3d": [
           {
            "line": {
             "colorbar": {
              "outlinewidth": 0,
              "ticks": ""
             }
            },
            "marker": {
             "colorbar": {
              "outlinewidth": 0,
              "ticks": ""
             }
            },
            "type": "scatter3d"
           }
          ],
          "scattercarpet": [
           {
            "marker": {
             "colorbar": {
              "outlinewidth": 0,
              "ticks": ""
             }
            },
            "type": "scattercarpet"
           }
          ],
          "scattergeo": [
           {
            "marker": {
             "colorbar": {
              "outlinewidth": 0,
              "ticks": ""
             }
            },
            "type": "scattergeo"
           }
          ],
          "scattergl": [
           {
            "marker": {
             "colorbar": {
              "outlinewidth": 0,
              "ticks": ""
             }
            },
            "type": "scattergl"
           }
          ],
          "scattermapbox": [
           {
            "marker": {
             "colorbar": {
              "outlinewidth": 0,
              "ticks": ""
             }
            },
            "type": "scattermapbox"
           }
          ],
          "scatterpolar": [
           {
            "marker": {
             "colorbar": {
              "outlinewidth": 0,
              "ticks": ""
             }
            },
            "type": "scatterpolar"
           }
          ],
          "scatterpolargl": [
           {
            "marker": {
             "colorbar": {
              "outlinewidth": 0,
              "ticks": ""
             }
            },
            "type": "scatterpolargl"
           }
          ],
          "scatterternary": [
           {
            "marker": {
             "colorbar": {
              "outlinewidth": 0,
              "ticks": ""
             }
            },
            "type": "scatterternary"
           }
          ],
          "surface": [
           {
            "colorbar": {
             "outlinewidth": 0,
             "ticks": ""
            },
            "colorscale": [
             [
              0,
              "#0d0887"
             ],
             [
              0.1111111111111111,
              "#46039f"
             ],
             [
              0.2222222222222222,
              "#7201a8"
             ],
             [
              0.3333333333333333,
              "#9c179e"
             ],
             [
              0.4444444444444444,
              "#bd3786"
             ],
             [
              0.5555555555555556,
              "#d8576b"
             ],
             [
              0.6666666666666666,
              "#ed7953"
             ],
             [
              0.7777777777777778,
              "#fb9f3a"
             ],
             [
              0.8888888888888888,
              "#fdca26"
             ],
             [
              1,
              "#f0f921"
             ]
            ],
            "type": "surface"
           }
          ],
          "table": [
           {
            "cells": {
             "fill": {
              "color": "#EBF0F8"
             },
             "line": {
              "color": "white"
             }
            },
            "header": {
             "fill": {
              "color": "#C8D4E3"
             },
             "line": {
              "color": "white"
             }
            },
            "type": "table"
           }
          ]
         },
         "layout": {
          "annotationdefaults": {
           "arrowcolor": "#2a3f5f",
           "arrowhead": 0,
           "arrowwidth": 1
          },
          "autotypenumbers": "strict",
          "coloraxis": {
           "colorbar": {
            "outlinewidth": 0,
            "ticks": ""
           }
          },
          "colorscale": {
           "diverging": [
            [
             0,
             "#8e0152"
            ],
            [
             0.1,
             "#c51b7d"
            ],
            [
             0.2,
             "#de77ae"
            ],
            [
             0.3,
             "#f1b6da"
            ],
            [
             0.4,
             "#fde0ef"
            ],
            [
             0.5,
             "#f7f7f7"
            ],
            [
             0.6,
             "#e6f5d0"
            ],
            [
             0.7,
             "#b8e186"
            ],
            [
             0.8,
             "#7fbc41"
            ],
            [
             0.9,
             "#4d9221"
            ],
            [
             1,
             "#276419"
            ]
           ],
           "sequential": [
            [
             0,
             "#0d0887"
            ],
            [
             0.1111111111111111,
             "#46039f"
            ],
            [
             0.2222222222222222,
             "#7201a8"
            ],
            [
             0.3333333333333333,
             "#9c179e"
            ],
            [
             0.4444444444444444,
             "#bd3786"
            ],
            [
             0.5555555555555556,
             "#d8576b"
            ],
            [
             0.6666666666666666,
             "#ed7953"
            ],
            [
             0.7777777777777778,
             "#fb9f3a"
            ],
            [
             0.8888888888888888,
             "#fdca26"
            ],
            [
             1,
             "#f0f921"
            ]
           ],
           "sequentialminus": [
            [
             0,
             "#0d0887"
            ],
            [
             0.1111111111111111,
             "#46039f"
            ],
            [
             0.2222222222222222,
             "#7201a8"
            ],
            [
             0.3333333333333333,
             "#9c179e"
            ],
            [
             0.4444444444444444,
             "#bd3786"
            ],
            [
             0.5555555555555556,
             "#d8576b"
            ],
            [
             0.6666666666666666,
             "#ed7953"
            ],
            [
             0.7777777777777778,
             "#fb9f3a"
            ],
            [
             0.8888888888888888,
             "#fdca26"
            ],
            [
             1,
             "#f0f921"
            ]
           ]
          },
          "colorway": [
           "#636efa",
           "#EF553B",
           "#00cc96",
           "#ab63fa",
           "#FFA15A",
           "#19d3f3",
           "#FF6692",
           "#B6E880",
           "#FF97FF",
           "#FECB52"
          ],
          "font": {
           "color": "#2a3f5f"
          },
          "geo": {
           "bgcolor": "white",
           "lakecolor": "white",
           "landcolor": "#E5ECF6",
           "showlakes": true,
           "showland": true,
           "subunitcolor": "white"
          },
          "hoverlabel": {
           "align": "left"
          },
          "hovermode": "closest",
          "mapbox": {
           "style": "light"
          },
          "paper_bgcolor": "white",
          "plot_bgcolor": "#E5ECF6",
          "polar": {
           "angularaxis": {
            "gridcolor": "white",
            "linecolor": "white",
            "ticks": ""
           },
           "bgcolor": "#E5ECF6",
           "radialaxis": {
            "gridcolor": "white",
            "linecolor": "white",
            "ticks": ""
           }
          },
          "scene": {
           "xaxis": {
            "backgroundcolor": "#E5ECF6",
            "gridcolor": "white",
            "gridwidth": 2,
            "linecolor": "white",
            "showbackground": true,
            "ticks": "",
            "zerolinecolor": "white"
           },
           "yaxis": {
            "backgroundcolor": "#E5ECF6",
            "gridcolor": "white",
            "gridwidth": 2,
            "linecolor": "white",
            "showbackground": true,
            "ticks": "",
            "zerolinecolor": "white"
           },
           "zaxis": {
            "backgroundcolor": "#E5ECF6",
            "gridcolor": "white",
            "gridwidth": 2,
            "linecolor": "white",
            "showbackground": true,
            "ticks": "",
            "zerolinecolor": "white"
           }
          },
          "shapedefaults": {
           "line": {
            "color": "#2a3f5f"
           }
          },
          "ternary": {
           "aaxis": {
            "gridcolor": "white",
            "linecolor": "white",
            "ticks": ""
           },
           "baxis": {
            "gridcolor": "white",
            "linecolor": "white",
            "ticks": ""
           },
           "bgcolor": "#E5ECF6",
           "caxis": {
            "gridcolor": "white",
            "linecolor": "white",
            "ticks": ""
           }
          },
          "title": {
           "x": 0.05
          },
          "xaxis": {
           "automargin": true,
           "gridcolor": "white",
           "linecolor": "white",
           "ticks": "",
           "title": {
            "standoff": 15
           },
           "zerolinecolor": "white",
           "zerolinewidth": 2
          },
          "yaxis": {
           "automargin": true,
           "gridcolor": "white",
           "linecolor": "white",
           "ticks": "",
           "title": {
            "standoff": 15
           },
           "zerolinecolor": "white",
           "zerolinewidth": 2
          }
         }
        },
        "title": {
         "text": "Enrollment for each School in 2015-2016"
        },
        "width": 900,
        "xaxis": {
         "anchor": "y",
         "domain": [
          0,
          1
         ],
         "title": {
          "text": "Building_Name"
         }
        },
        "yaxis": {
         "anchor": "x",
         "domain": [
          0,
          1
         ],
         "title": {
          "text": "Enrollment"
         }
        }
       }
      },
      "text/html": [
       "<div>                            <div id=\"6fe82ddc-5c53-4fb0-824b-b778620ec63b\" class=\"plotly-graph-div\" style=\"height:800px; width:900px;\"></div>            <script type=\"text/javascript\">                require([\"plotly\"], function(Plotly) {                    window.PLOTLYENV=window.PLOTLYENV || {};                                    if (document.getElementById(\"6fe82ddc-5c53-4fb0-824b-b778620ec63b\")) {                    Plotly.newPlot(                        \"6fe82ddc-5c53-4fb0-824b-b778620ec63b\",                        [{\"alignmentgroup\": \"True\", \"hovertemplate\": \"Building_Name=%{x}<br>Enrollment=%{marker.color}<extra></extra>\", \"legendgroup\": \"\", \"marker\": {\"color\": [430.0, 367.0, 499.0, 477.0, 371.0, 295.0, 491.0, 602.0, 346.0, 393.0, 361.0, 376.0, 512.0, 387.0, 342.0, 406.0, 606.0, 436.0, 288.0, 375.0, 362.0, 404.0, 242.0, 326.0, 381.0, 368.0, 396.0, 196.0, 367.0, 424.0, 553.0, 282.0, 258.0, 191.0, 269.0, 538.0, 289.0, 137.0, 261.0, 220.0, 378.0, 554.0, 391.0, 295.0, 402.0, 469.0, 380.0, 146.0, 152.0, 176.0, 248.0, 185.0, 274.0, 92.0, 170.0, 444.0, 196.0, 196.0, 213.0, 291.0, 1252.0, 338.0, 833.0, 319.0, 281.0, 621.0, 326.0, 335.0, 445.0, 258.0, 346.0, 280.0, 650.0, 255.0, 418.0, 513.0, 258.0, 398.0, 316.0, 505.0, 400.0, 275.0, 445.0, 361.0, 334.0, 519.0, 375.0, 477.0, 434.0, 380.0, 720.0, 585.0, 205.0, 407.0, 399.0, 239.0, 425.0, 282.0, 189.0, 166.0, 380.0, 259.0, 368.0, 717.0, 239.0, 588.0, 741.0, 252.0, 584.0, 360.0, 318.0, 200.0, 434.0, 250.0, 446.0, 85.0, 382.0], \"coloraxis\": \"coloraxis\"}, \"name\": \"\", \"offsetgroup\": \"\", \"orientation\": \"v\", \"showlegend\": false, \"textposition\": \"auto\", \"type\": \"bar\", \"x\": [\"Adlai Stevenson School\", \"Menlo Park Academy\", \"Almira\", \"Andrew J Rickoff\", \"Anton Grdina\", \"Cleveland Entrepreneurship Preparatory School\", \"Artemus Ward\", \"Benjamin Franklin\", \"Bolton\", \"Buhrer\", \"Case\", \"Alfred Benesch\", \"Charles A Mooney School\", \"Charles Dickens School\", \"Charles W Eliot School\", \"Clara E Westropp School\", \"Clark School\", \"Collinwood High School\", \"Daniel E Morgan School\", \"Denison\", \"Cleveland School of Arts Lower Campus\", \"Memorial School\", \"East Clark\", \"Douglas MacArthur\", \"Ginn Academy\", \"East Technical High School\", \"MC^2 STEM High School\", \"Design Lab @ Health Careers\", \"Euclid Park Elementary School\", \"Village Preparatory School\", \"Northeast Ohio College Preparatory School\", \"Cleveland College Preparatory School\", \"Citizens Leadership Academy\", \"Near West Intergenerational School\", \"Entrepreneurship Preparatory School - Woodland Hills Campus\", \"Campus International School\", \"New Technology West\", \"New Technology HS@East Tech\", \"Facing History High School@Charles Mooney\", \"Fullerton School\", \"Citizens Academy East\", \"Garfield Elementary School\", \"Village Preparatory School:: Woodland Hills Campus\", \"Stepstone Academy\", \"George Washington Carver\", \"Glenville High School\", \"H Barbara Booker Elementary School\", \"Lakeshore Intergenerational School\", \"Cleveland High School for the Digital Arts\", \"PACT @ JFK\", \"Bard Early College Cleveland\", \"E3agle Academy\", \"Hannah Gibbons-Nottingham Elementary School\", \"Stonebrook Montessori\", \"Citizens Academy Southeast\", \"Harvey Rice Elementary School\", \"John Marshall School of Engineering\", \"John Marshall School of Business and Civic Leadership\", \"John Marshall School of Information Technology\", \"Iowa-Maple Elementary School\", \"James Ford Rhodes High School\", \"Jane Addams Business Careers High School\", \"John Adams High School\", \"John F Kennedy High School\", \"Cleveland Early College High\", \"John Marshall High School\", \"Cleveland School of Architecture & Design\", \"Louis Agassiz School\", \"Franklin D. Roosevelt\", \"Louisa May Alcott Elementary School\", \"Mary B Martin School\", \"Mary M Bethune\", \"Max S Hayes High School\", \"McKinley School\", \"Miles School\", \"Miles Park School\", \"Michael R. White\", \"Mound Elementary School\", \"The School of One\", \"Nathan Hale School\", \"Newton D Baker School\", \"Oliver H Perry Elementary School\", \"Orchard School\", \"Patrick Henry School\", \"Paul L Dunbar Elementary School\", \"Riverside School\", \"Robert H Jamison School\", \"Robinson G Jones Elementary School\", \"Scranton School\", \"Sunbeam\", \"Thomas Jefferson School\", \"Tremont Montessori School\", \"Valley View Elementary School\", \"William C Bryant Elementary School\", \"Wade Park\", \"Walton School\", \"Warner Girls Leadership Academy\", \"Washington Park\", \"Watterson-Lake School\", \"Waverly Elementary School\", \"Wilbur Wright School\", \"Willow School\", \"Willson School\", \"Lincoln-West High School\", \"Whitney Young School\", \"Luis Munoz Marin School\", \"Joseph M Gallagher School\", \"Garrett Morgan Schl Of Science School\", \"Cleveland School Of The Arts High School\", \"Marion C Seltzer Elementary School\", \"Marion-Sterling Elementary School\", \"Kenneth W Clement\", \"Health Careers Center High School\", \"Intergenerational School, The\", \"Citizens Academy\", \"SuccessTech Academy School\", \"Cleveland School of Science & Medicine\"], \"xaxis\": \"x\", \"y\": [430.0, 367.0, 499.0, 477.0, 371.0, 295.0, 491.0, 602.0, 346.0, 393.0, 361.0, 376.0, 512.0, 387.0, 342.0, 406.0, 606.0, 436.0, 288.0, 375.0, 362.0, 404.0, 242.0, 326.0, 381.0, 368.0, 396.0, 196.0, 367.0, 424.0, 553.0, 282.0, 258.0, 191.0, 269.0, 538.0, 289.0, 137.0, 261.0, 220.0, 378.0, 554.0, 391.0, 295.0, 402.0, 469.0, 380.0, 146.0, 152.0, 176.0, 248.0, 185.0, 274.0, 92.0, 170.0, 444.0, 196.0, 196.0, 213.0, 291.0, 1252.0, 338.0, 833.0, 319.0, 281.0, 621.0, 326.0, 335.0, 445.0, 258.0, 346.0, 280.0, 650.0, 255.0, 418.0, 513.0, 258.0, 398.0, 316.0, 505.0, 400.0, 275.0, 445.0, 361.0, 334.0, 519.0, 375.0, 477.0, 434.0, 380.0, 720.0, 585.0, 205.0, 407.0, 399.0, 239.0, 425.0, 282.0, 189.0, 166.0, 380.0, 259.0, 368.0, 717.0, 239.0, 588.0, 741.0, 252.0, 584.0, 360.0, 318.0, 200.0, 434.0, 250.0, 446.0, 85.0, 382.0], \"yaxis\": \"y\"}],                        {\"barmode\": \"relative\", \"coloraxis\": {\"colorbar\": {\"title\": {\"text\": \"Enrollment\"}}, \"colorscale\": [[0.0, \"#0d0887\"], [0.1111111111111111, \"#46039f\"], [0.2222222222222222, \"#7201a8\"], [0.3333333333333333, \"#9c179e\"], [0.4444444444444444, \"#bd3786\"], [0.5555555555555556, \"#d8576b\"], [0.6666666666666666, \"#ed7953\"], [0.7777777777777778, \"#fb9f3a\"], [0.8888888888888888, \"#fdca26\"], [1.0, \"#f0f921\"]]}, \"height\": 800, \"legend\": {\"tracegroupgap\": 0}, \"template\": {\"data\": {\"bar\": [{\"error_x\": {\"color\": \"#2a3f5f\"}, \"error_y\": {\"color\": \"#2a3f5f\"}, \"marker\": {\"line\": {\"color\": \"#E5ECF6\", \"width\": 0.5}}, \"type\": \"bar\"}], \"barpolar\": [{\"marker\": {\"line\": {\"color\": \"#E5ECF6\", \"width\": 0.5}}, \"type\": \"barpolar\"}], \"carpet\": [{\"aaxis\": {\"endlinecolor\": \"#2a3f5f\", \"gridcolor\": \"white\", \"linecolor\": \"white\", \"minorgridcolor\": \"white\", \"startlinecolor\": \"#2a3f5f\"}, \"baxis\": {\"endlinecolor\": \"#2a3f5f\", \"gridcolor\": \"white\", \"linecolor\": \"white\", \"minorgridcolor\": \"white\", \"startlinecolor\": \"#2a3f5f\"}, \"type\": \"carpet\"}], \"choropleth\": [{\"colorbar\": {\"outlinewidth\": 0, \"ticks\": \"\"}, \"type\": \"choropleth\"}], \"contour\": [{\"colorbar\": {\"outlinewidth\": 0, \"ticks\": \"\"}, \"colorscale\": [[0.0, \"#0d0887\"], [0.1111111111111111, \"#46039f\"], [0.2222222222222222, \"#7201a8\"], [0.3333333333333333, \"#9c179e\"], [0.4444444444444444, \"#bd3786\"], [0.5555555555555556, \"#d8576b\"], [0.6666666666666666, \"#ed7953\"], [0.7777777777777778, \"#fb9f3a\"], [0.8888888888888888, \"#fdca26\"], [1.0, \"#f0f921\"]], \"type\": \"contour\"}], \"contourcarpet\": [{\"colorbar\": {\"outlinewidth\": 0, \"ticks\": \"\"}, \"type\": \"contourcarpet\"}], \"heatmap\": [{\"colorbar\": {\"outlinewidth\": 0, \"ticks\": \"\"}, \"colorscale\": [[0.0, \"#0d0887\"], [0.1111111111111111, \"#46039f\"], [0.2222222222222222, \"#7201a8\"], [0.3333333333333333, \"#9c179e\"], [0.4444444444444444, \"#bd3786\"], [0.5555555555555556, \"#d8576b\"], [0.6666666666666666, \"#ed7953\"], [0.7777777777777778, \"#fb9f3a\"], [0.8888888888888888, \"#fdca26\"], [1.0, \"#f0f921\"]], \"type\": \"heatmap\"}], \"heatmapgl\": [{\"colorbar\": {\"outlinewidth\": 0, \"ticks\": \"\"}, \"colorscale\": [[0.0, \"#0d0887\"], [0.1111111111111111, \"#46039f\"], [0.2222222222222222, \"#7201a8\"], [0.3333333333333333, \"#9c179e\"], [0.4444444444444444, \"#bd3786\"], [0.5555555555555556, \"#d8576b\"], [0.6666666666666666, \"#ed7953\"], [0.7777777777777778, \"#fb9f3a\"], [0.8888888888888888, \"#fdca26\"], [1.0, \"#f0f921\"]], \"type\": \"heatmapgl\"}], \"histogram\": [{\"marker\": {\"colorbar\": {\"outlinewidth\": 0, \"ticks\": \"\"}}, \"type\": \"histogram\"}], \"histogram2d\": [{\"colorbar\": {\"outlinewidth\": 0, \"ticks\": \"\"}, \"colorscale\": [[0.0, \"#0d0887\"], [0.1111111111111111, \"#46039f\"], [0.2222222222222222, \"#7201a8\"], [0.3333333333333333, \"#9c179e\"], [0.4444444444444444, \"#bd3786\"], [0.5555555555555556, \"#d8576b\"], [0.6666666666666666, \"#ed7953\"], [0.7777777777777778, \"#fb9f3a\"], [0.8888888888888888, \"#fdca26\"], [1.0, \"#f0f921\"]], \"type\": \"histogram2d\"}], \"histogram2dcontour\": [{\"colorbar\": {\"outlinewidth\": 0, \"ticks\": \"\"}, \"colorscale\": [[0.0, \"#0d0887\"], [0.1111111111111111, \"#46039f\"], [0.2222222222222222, \"#7201a8\"], [0.3333333333333333, \"#9c179e\"], [0.4444444444444444, \"#bd3786\"], [0.5555555555555556, \"#d8576b\"], [0.6666666666666666, \"#ed7953\"], [0.7777777777777778, \"#fb9f3a\"], [0.8888888888888888, \"#fdca26\"], [1.0, \"#f0f921\"]], \"type\": \"histogram2dcontour\"}], \"mesh3d\": [{\"colorbar\": {\"outlinewidth\": 0, \"ticks\": \"\"}, \"type\": \"mesh3d\"}], \"parcoords\": [{\"line\": {\"colorbar\": {\"outlinewidth\": 0, \"ticks\": \"\"}}, \"type\": \"parcoords\"}], \"pie\": [{\"automargin\": true, \"type\": \"pie\"}], \"scatter\": [{\"marker\": {\"colorbar\": {\"outlinewidth\": 0, \"ticks\": \"\"}}, \"type\": \"scatter\"}], \"scatter3d\": [{\"line\": {\"colorbar\": {\"outlinewidth\": 0, \"ticks\": \"\"}}, \"marker\": {\"colorbar\": {\"outlinewidth\": 0, \"ticks\": \"\"}}, \"type\": \"scatter3d\"}], \"scattercarpet\": [{\"marker\": {\"colorbar\": {\"outlinewidth\": 0, \"ticks\": \"\"}}, \"type\": \"scattercarpet\"}], \"scattergeo\": [{\"marker\": {\"colorbar\": {\"outlinewidth\": 0, \"ticks\": \"\"}}, \"type\": \"scattergeo\"}], \"scattergl\": [{\"marker\": {\"colorbar\": {\"outlinewidth\": 0, \"ticks\": \"\"}}, \"type\": \"scattergl\"}], \"scattermapbox\": [{\"marker\": {\"colorbar\": {\"outlinewidth\": 0, \"ticks\": \"\"}}, \"type\": \"scattermapbox\"}], \"scatterpolar\": [{\"marker\": {\"colorbar\": {\"outlinewidth\": 0, \"ticks\": \"\"}}, \"type\": \"scatterpolar\"}], \"scatterpolargl\": [{\"marker\": {\"colorbar\": {\"outlinewidth\": 0, \"ticks\": \"\"}}, \"type\": \"scatterpolargl\"}], \"scatterternary\": [{\"marker\": {\"colorbar\": {\"outlinewidth\": 0, \"ticks\": \"\"}}, \"type\": \"scatterternary\"}], \"surface\": [{\"colorbar\": {\"outlinewidth\": 0, \"ticks\": \"\"}, \"colorscale\": [[0.0, \"#0d0887\"], [0.1111111111111111, \"#46039f\"], [0.2222222222222222, \"#7201a8\"], [0.3333333333333333, \"#9c179e\"], [0.4444444444444444, \"#bd3786\"], [0.5555555555555556, \"#d8576b\"], [0.6666666666666666, \"#ed7953\"], [0.7777777777777778, \"#fb9f3a\"], [0.8888888888888888, \"#fdca26\"], [1.0, \"#f0f921\"]], \"type\": \"surface\"}], \"table\": [{\"cells\": {\"fill\": {\"color\": \"#EBF0F8\"}, \"line\": {\"color\": \"white\"}}, \"header\": {\"fill\": {\"color\": \"#C8D4E3\"}, \"line\": {\"color\": \"white\"}}, \"type\": \"table\"}]}, \"layout\": {\"annotationdefaults\": {\"arrowcolor\": \"#2a3f5f\", \"arrowhead\": 0, \"arrowwidth\": 1}, \"autotypenumbers\": \"strict\", \"coloraxis\": {\"colorbar\": {\"outlinewidth\": 0, \"ticks\": \"\"}}, \"colorscale\": {\"diverging\": [[0, \"#8e0152\"], [0.1, \"#c51b7d\"], [0.2, \"#de77ae\"], [0.3, \"#f1b6da\"], [0.4, \"#fde0ef\"], [0.5, \"#f7f7f7\"], [0.6, \"#e6f5d0\"], [0.7, \"#b8e186\"], [0.8, \"#7fbc41\"], [0.9, \"#4d9221\"], [1, \"#276419\"]], \"sequential\": [[0.0, \"#0d0887\"], [0.1111111111111111, \"#46039f\"], [0.2222222222222222, \"#7201a8\"], [0.3333333333333333, \"#9c179e\"], [0.4444444444444444, \"#bd3786\"], [0.5555555555555556, \"#d8576b\"], [0.6666666666666666, \"#ed7953\"], [0.7777777777777778, \"#fb9f3a\"], [0.8888888888888888, \"#fdca26\"], [1.0, \"#f0f921\"]], \"sequentialminus\": [[0.0, \"#0d0887\"], [0.1111111111111111, \"#46039f\"], [0.2222222222222222, \"#7201a8\"], [0.3333333333333333, \"#9c179e\"], [0.4444444444444444, \"#bd3786\"], [0.5555555555555556, \"#d8576b\"], [0.6666666666666666, \"#ed7953\"], [0.7777777777777778, \"#fb9f3a\"], [0.8888888888888888, \"#fdca26\"], [1.0, \"#f0f921\"]]}, \"colorway\": [\"#636efa\", \"#EF553B\", \"#00cc96\", \"#ab63fa\", \"#FFA15A\", \"#19d3f3\", \"#FF6692\", \"#B6E880\", \"#FF97FF\", \"#FECB52\"], \"font\": {\"color\": \"#2a3f5f\"}, \"geo\": {\"bgcolor\": \"white\", \"lakecolor\": \"white\", \"landcolor\": \"#E5ECF6\", \"showlakes\": true, \"showland\": true, \"subunitcolor\": \"white\"}, \"hoverlabel\": {\"align\": \"left\"}, \"hovermode\": \"closest\", \"mapbox\": {\"style\": \"light\"}, \"paper_bgcolor\": \"white\", \"plot_bgcolor\": \"#E5ECF6\", \"polar\": {\"angularaxis\": {\"gridcolor\": \"white\", \"linecolor\": \"white\", \"ticks\": \"\"}, \"bgcolor\": \"#E5ECF6\", \"radialaxis\": {\"gridcolor\": \"white\", \"linecolor\": \"white\", \"ticks\": \"\"}}, \"scene\": {\"xaxis\": {\"backgroundcolor\": \"#E5ECF6\", \"gridcolor\": \"white\", \"gridwidth\": 2, \"linecolor\": \"white\", \"showbackground\": true, \"ticks\": \"\", \"zerolinecolor\": \"white\"}, \"yaxis\": {\"backgroundcolor\": \"#E5ECF6\", \"gridcolor\": \"white\", \"gridwidth\": 2, \"linecolor\": \"white\", \"showbackground\": true, \"ticks\": \"\", \"zerolinecolor\": \"white\"}, \"zaxis\": {\"backgroundcolor\": \"#E5ECF6\", \"gridcolor\": \"white\", \"gridwidth\": 2, \"linecolor\": \"white\", \"showbackground\": true, \"ticks\": \"\", \"zerolinecolor\": \"white\"}}, \"shapedefaults\": {\"line\": {\"color\": \"#2a3f5f\"}}, \"ternary\": {\"aaxis\": {\"gridcolor\": \"white\", \"linecolor\": \"white\", \"ticks\": \"\"}, \"baxis\": {\"gridcolor\": \"white\", \"linecolor\": \"white\", \"ticks\": \"\"}, \"bgcolor\": \"#E5ECF6\", \"caxis\": {\"gridcolor\": \"white\", \"linecolor\": \"white\", \"ticks\": \"\"}}, \"title\": {\"x\": 0.05}, \"xaxis\": {\"automargin\": true, \"gridcolor\": \"white\", \"linecolor\": \"white\", \"ticks\": \"\", \"title\": {\"standoff\": 15}, \"zerolinecolor\": \"white\", \"zerolinewidth\": 2}, \"yaxis\": {\"automargin\": true, \"gridcolor\": \"white\", \"linecolor\": \"white\", \"ticks\": \"\", \"title\": {\"standoff\": 15}, \"zerolinecolor\": \"white\", \"zerolinewidth\": 2}}}, \"title\": {\"text\": \"Enrollment for each School in 2015-2016\"}, \"width\": 900, \"xaxis\": {\"anchor\": \"y\", \"domain\": [0.0, 1.0], \"title\": {\"text\": \"Building_Name\"}}, \"yaxis\": {\"anchor\": \"x\", \"domain\": [0.0, 1.0], \"title\": {\"text\": \"Enrollment\"}}},                        {\"responsive\": true}                    ).then(function(){\n",
       "                            \n",
       "var gd = document.getElementById('6fe82ddc-5c53-4fb0-824b-b778620ec63b');\n",
       "var x = new MutationObserver(function (mutations, observer) {{\n",
       "        var display = window.getComputedStyle(gd).display;\n",
       "        if (!display || display === 'none') {{\n",
       "            console.log([gd, 'removed!']);\n",
       "            Plotly.purge(gd);\n",
       "            observer.disconnect();\n",
       "        }}\n",
       "}});\n",
       "\n",
       "// Listen for the removal of the full notebook cells\n",
       "var notebookContainer = gd.closest('#notebook-container');\n",
       "if (notebookContainer) {{\n",
       "    x.observe(notebookContainer, {childList: true});\n",
       "}}\n",
       "\n",
       "// Listen for the clearing of the current output cell\n",
       "var outputEl = gd.closest('.output');\n",
       "if (outputEl) {{\n",
       "    x.observe(outputEl, {childList: true});\n",
       "}}\n",
       "\n",
       "                        })                };                });            </script>        </div>"
      ]
     },
     "metadata": {},
     "output_type": "display_data"
    }
   ],
   "source": [
    "# Filter data for the year 2015-2016\n",
    "df_2015_2016 = df_CMSD[df_CMSD['School_Year'] == '2015-2016']\n",
    "\n",
    "# Plot with Plotly Express\n",
    "fig = px.bar(\n",
    "    df_2015_2016,\n",
    "    x ='Building_Name', \n",
    "    y ='Enrollment',\n",
    "    color='Enrollment',\n",
    "    title='Enrollment for each School in 2015-2016',\n",
    "    labels={'Enrollment': 'Enrollment', 'School_Name': 'School Name'},\n",
    "    height=800,  \n",
    "    width=900,\n",
    ")\n",
    "\n",
    "# Show the plot\n",
    "fig.show()"
   ]
  },
  {
   "cell_type": "code",
   "execution_count": 137,
   "metadata": {},
   "outputs": [
    {
     "data": {
      "application/vnd.plotly.v1+json": {
       "config": {
        "plotlyServerURL": "https://plot.ly"
       },
       "data": [
        {
         "alignmentgroup": "True",
         "hovertemplate": "Building_Name=%{x}<br>Enrollment=%{marker.color}<extra></extra>",
         "legendgroup": "",
         "marker": {
          "color": [
           445,
           405,
           491,
           457,
           361,
           311,
           514,
           652,
           318,
           391,
           331,
           348,
           499,
           408,
           315,
           413,
           598,
           370,
           268,
           343,
           338,
           429,
           271,
           340,
           407,
           365,
           406,
           228,
           344,
           406,
           554,
           275,
           271,
           212,
           287,
           604,
           298,
           146,
           308,
           213,
           579,
           418,
           294,
           384,
           405,
           356,
           177,
           241,
           245,
           339,
           208,
           266,
           151,
           475,
           260,
           298,
           294,
           68,
           95,
           125,
           285,
           1276,
           295,
           694,
           170,
           288,
           361,
           313,
           323,
           441,
           250,
           344,
           291,
           612,
           213,
           423,
           519,
           236,
           403,
           293,
           515,
           447,
           249,
           475,
           315,
           360,
           493,
           389,
           502,
           482,
           400,
           822,
           560,
           190,
           431,
           382,
           254,
           426,
           265,
           305,
           378,
           245,
           358,
           468,
           231,
           542,
           781,
           253,
           542,
           397,
           328,
           190,
           379,
           241,
           48,
           404,
           0,
           0,
           0
          ],
          "coloraxis": "coloraxis"
         },
         "name": "",
         "offsetgroup": "",
         "orientation": "v",
         "showlegend": false,
         "textposition": "auto",
         "type": "bar",
         "x": [
          "Adlai Stevenson School",
          "Menlo Park Academy",
          "Almira",
          "Andrew J Rickoff",
          "Anton Grdina",
          "Cleveland Entrepreneurship Preparatory School",
          "Artemus Ward",
          "Benjamin Franklin",
          "Bolton",
          "Buhrer",
          "Case",
          "Alfred Benesch",
          "Charles A Mooney School",
          "Charles Dickens School",
          "Charles W Eliot School",
          "Clara E Westropp School",
          "Clark School",
          "Collinwood High School",
          "Daniel E Morgan School",
          "Denison",
          "Cleveland School of Arts Lower Campus",
          "Memorial School",
          "East Clark",
          "Douglas MacArthur",
          "Ginn Academy",
          "East Technical High School",
          "MC^2 STEM High School",
          "Design Lab @ Health Careers",
          "Euclid Park Elementary School",
          "Village Preparatory School",
          "Northeast Ohio College Preparatory School",
          "Cleveland College Preparatory School",
          "Citizens Leadership Academy",
          "Near West Intergenerational School",
          "Entrepreneurship Preparatory School - Woodland Hills Campus",
          "Campus International School",
          "New Technology West",
          "New Technology HS@East Tech",
          "Facing History High School@Charles Mooney",
          "Fullerton School",
          "Garfield Elementary School",
          "Village Preparatory School:: Woodland Hills Campus",
          "Stepstone Academy",
          "George Washington Carver",
          "Glenville High School",
          "H Barbara Booker Elementary School",
          "Lakeshore Intergenerational School",
          "Cleveland High School for the Digital Arts",
          "PACT @ JFK",
          "Bard Early College Cleveland",
          "E3agle Academy",
          "Hannah Gibbons-Nottingham Elementary School",
          "Stonebrook Montessori",
          "Harvey Rice Elementary School",
          "John Marshall School of Engineering",
          "John Marshall School of Business and Civic Leadership",
          "John Marshall School of Information Technology",
          "Village Preparatory School Willard",
          "Lincoln West School Of Global Studies",
          "Lincoln West School of Science & Health",
          "Iowa-Maple Elementary School",
          "James Ford Rhodes High School",
          "Jane Addams Business Careers High School",
          "John Adams High School",
          "John F Kennedy High School",
          "Cleveland Early College High",
          "John Marshall High School",
          "Cleveland School of Architecture & Design",
          "Louis Agassiz School",
          "Franklin D. Roosevelt",
          "Louisa May Alcott Elementary School",
          "Mary B Martin School",
          "Mary M Bethune",
          "Max S Hayes High School",
          "McKinley School",
          "Miles School",
          "Miles Park School",
          "Michael R. White",
          "Mound Elementary School",
          "The School of One",
          "Nathan Hale School",
          "Newton D Baker School",
          "Oliver H Perry Elementary School",
          "Orchard School",
          "Patrick Henry School",
          "Paul L Dunbar Elementary School",
          "Riverside School",
          "Robert H Jamison School",
          "Robinson G Jones Elementary School",
          "Scranton School",
          "Sunbeam",
          "Thomas Jefferson School",
          "Tremont Montessori School",
          "Valley View Elementary School",
          "William C Bryant Elementary School",
          "Wade Park",
          "Walton School",
          "Warner Girls Leadership Academy",
          "Washington Park",
          "Waverly Elementary School",
          "Wilbur Wright School",
          "Willow School",
          "Willson School",
          "Lincoln-West High School",
          "Whitney Young School",
          "Luis Munoz Marin School",
          "Joseph M Gallagher School",
          "Garrett Morgan Schl Of Science School",
          "Cleveland School Of The Arts High School",
          "Marion C Seltzer Elementary School",
          "Marion-Sterling Elementary School",
          "Kenneth W Clement",
          "Health Careers Center High School",
          "Intergenerational School, The",
          "SuccessTech Academy School",
          "Cleveland School of Science & Medicine",
          "Citizens Academy East",
          "Citizens Academy Southeast",
          "Citizens Academy"
         ],
         "xaxis": "x",
         "y": [
          445,
          405,
          491,
          457,
          361,
          311,
          514,
          652,
          318,
          391,
          331,
          348,
          499,
          408,
          315,
          413,
          598,
          370,
          268,
          343,
          338,
          429,
          271,
          340,
          407,
          365,
          406,
          228,
          344,
          406,
          554,
          275,
          271,
          212,
          287,
          604,
          298,
          146,
          308,
          213,
          579,
          418,
          294,
          384,
          405,
          356,
          177,
          241,
          245,
          339,
          208,
          266,
          151,
          475,
          260,
          298,
          294,
          68,
          95,
          125,
          285,
          1276,
          295,
          694,
          170,
          288,
          361,
          313,
          323,
          441,
          250,
          344,
          291,
          612,
          213,
          423,
          519,
          236,
          403,
          293,
          515,
          447,
          249,
          475,
          315,
          360,
          493,
          389,
          502,
          482,
          400,
          822,
          560,
          190,
          431,
          382,
          254,
          426,
          265,
          305,
          378,
          245,
          358,
          468,
          231,
          542,
          781,
          253,
          542,
          397,
          328,
          190,
          379,
          241,
          48,
          404,
          0,
          0,
          0
         ],
         "yaxis": "y"
        }
       ],
       "layout": {
        "barmode": "relative",
        "coloraxis": {
         "colorbar": {
          "title": {
           "text": "Enrollment"
          }
         },
         "colorscale": [
          [
           0,
           "#0d0887"
          ],
          [
           0.1111111111111111,
           "#46039f"
          ],
          [
           0.2222222222222222,
           "#7201a8"
          ],
          [
           0.3333333333333333,
           "#9c179e"
          ],
          [
           0.4444444444444444,
           "#bd3786"
          ],
          [
           0.5555555555555556,
           "#d8576b"
          ],
          [
           0.6666666666666666,
           "#ed7953"
          ],
          [
           0.7777777777777778,
           "#fb9f3a"
          ],
          [
           0.8888888888888888,
           "#fdca26"
          ],
          [
           1,
           "#f0f921"
          ]
         ]
        },
        "height": 800,
        "legend": {
         "tracegroupgap": 0
        },
        "template": {
         "data": {
          "bar": [
           {
            "error_x": {
             "color": "#2a3f5f"
            },
            "error_y": {
             "color": "#2a3f5f"
            },
            "marker": {
             "line": {
              "color": "#E5ECF6",
              "width": 0.5
             }
            },
            "type": "bar"
           }
          ],
          "barpolar": [
           {
            "marker": {
             "line": {
              "color": "#E5ECF6",
              "width": 0.5
             }
            },
            "type": "barpolar"
           }
          ],
          "carpet": [
           {
            "aaxis": {
             "endlinecolor": "#2a3f5f",
             "gridcolor": "white",
             "linecolor": "white",
             "minorgridcolor": "white",
             "startlinecolor": "#2a3f5f"
            },
            "baxis": {
             "endlinecolor": "#2a3f5f",
             "gridcolor": "white",
             "linecolor": "white",
             "minorgridcolor": "white",
             "startlinecolor": "#2a3f5f"
            },
            "type": "carpet"
           }
          ],
          "choropleth": [
           {
            "colorbar": {
             "outlinewidth": 0,
             "ticks": ""
            },
            "type": "choropleth"
           }
          ],
          "contour": [
           {
            "colorbar": {
             "outlinewidth": 0,
             "ticks": ""
            },
            "colorscale": [
             [
              0,
              "#0d0887"
             ],
             [
              0.1111111111111111,
              "#46039f"
             ],
             [
              0.2222222222222222,
              "#7201a8"
             ],
             [
              0.3333333333333333,
              "#9c179e"
             ],
             [
              0.4444444444444444,
              "#bd3786"
             ],
             [
              0.5555555555555556,
              "#d8576b"
             ],
             [
              0.6666666666666666,
              "#ed7953"
             ],
             [
              0.7777777777777778,
              "#fb9f3a"
             ],
             [
              0.8888888888888888,
              "#fdca26"
             ],
             [
              1,
              "#f0f921"
             ]
            ],
            "type": "contour"
           }
          ],
          "contourcarpet": [
           {
            "colorbar": {
             "outlinewidth": 0,
             "ticks": ""
            },
            "type": "contourcarpet"
           }
          ],
          "heatmap": [
           {
            "colorbar": {
             "outlinewidth": 0,
             "ticks": ""
            },
            "colorscale": [
             [
              0,
              "#0d0887"
             ],
             [
              0.1111111111111111,
              "#46039f"
             ],
             [
              0.2222222222222222,
              "#7201a8"
             ],
             [
              0.3333333333333333,
              "#9c179e"
             ],
             [
              0.4444444444444444,
              "#bd3786"
             ],
             [
              0.5555555555555556,
              "#d8576b"
             ],
             [
              0.6666666666666666,
              "#ed7953"
             ],
             [
              0.7777777777777778,
              "#fb9f3a"
             ],
             [
              0.8888888888888888,
              "#fdca26"
             ],
             [
              1,
              "#f0f921"
             ]
            ],
            "type": "heatmap"
           }
          ],
          "heatmapgl": [
           {
            "colorbar": {
             "outlinewidth": 0,
             "ticks": ""
            },
            "colorscale": [
             [
              0,
              "#0d0887"
             ],
             [
              0.1111111111111111,
              "#46039f"
             ],
             [
              0.2222222222222222,
              "#7201a8"
             ],
             [
              0.3333333333333333,
              "#9c179e"
             ],
             [
              0.4444444444444444,
              "#bd3786"
             ],
             [
              0.5555555555555556,
              "#d8576b"
             ],
             [
              0.6666666666666666,
              "#ed7953"
             ],
             [
              0.7777777777777778,
              "#fb9f3a"
             ],
             [
              0.8888888888888888,
              "#fdca26"
             ],
             [
              1,
              "#f0f921"
             ]
            ],
            "type": "heatmapgl"
           }
          ],
          "histogram": [
           {
            "marker": {
             "colorbar": {
              "outlinewidth": 0,
              "ticks": ""
             }
            },
            "type": "histogram"
           }
          ],
          "histogram2d": [
           {
            "colorbar": {
             "outlinewidth": 0,
             "ticks": ""
            },
            "colorscale": [
             [
              0,
              "#0d0887"
             ],
             [
              0.1111111111111111,
              "#46039f"
             ],
             [
              0.2222222222222222,
              "#7201a8"
             ],
             [
              0.3333333333333333,
              "#9c179e"
             ],
             [
              0.4444444444444444,
              "#bd3786"
             ],
             [
              0.5555555555555556,
              "#d8576b"
             ],
             [
              0.6666666666666666,
              "#ed7953"
             ],
             [
              0.7777777777777778,
              "#fb9f3a"
             ],
             [
              0.8888888888888888,
              "#fdca26"
             ],
             [
              1,
              "#f0f921"
             ]
            ],
            "type": "histogram2d"
           }
          ],
          "histogram2dcontour": [
           {
            "colorbar": {
             "outlinewidth": 0,
             "ticks": ""
            },
            "colorscale": [
             [
              0,
              "#0d0887"
             ],
             [
              0.1111111111111111,
              "#46039f"
             ],
             [
              0.2222222222222222,
              "#7201a8"
             ],
             [
              0.3333333333333333,
              "#9c179e"
             ],
             [
              0.4444444444444444,
              "#bd3786"
             ],
             [
              0.5555555555555556,
              "#d8576b"
             ],
             [
              0.6666666666666666,
              "#ed7953"
             ],
             [
              0.7777777777777778,
              "#fb9f3a"
             ],
             [
              0.8888888888888888,
              "#fdca26"
             ],
             [
              1,
              "#f0f921"
             ]
            ],
            "type": "histogram2dcontour"
           }
          ],
          "mesh3d": [
           {
            "colorbar": {
             "outlinewidth": 0,
             "ticks": ""
            },
            "type": "mesh3d"
           }
          ],
          "parcoords": [
           {
            "line": {
             "colorbar": {
              "outlinewidth": 0,
              "ticks": ""
             }
            },
            "type": "parcoords"
           }
          ],
          "pie": [
           {
            "automargin": true,
            "type": "pie"
           }
          ],
          "scatter": [
           {
            "marker": {
             "colorbar": {
              "outlinewidth": 0,
              "ticks": ""
             }
            },
            "type": "scatter"
           }
          ],
          "scatter3d": [
           {
            "line": {
             "colorbar": {
              "outlinewidth": 0,
              "ticks": ""
             }
            },
            "marker": {
             "colorbar": {
              "outlinewidth": 0,
              "ticks": ""
             }
            },
            "type": "scatter3d"
           }
          ],
          "scattercarpet": [
           {
            "marker": {
             "colorbar": {
              "outlinewidth": 0,
              "ticks": ""
             }
            },
            "type": "scattercarpet"
           }
          ],
          "scattergeo": [
           {
            "marker": {
             "colorbar": {
              "outlinewidth": 0,
              "ticks": ""
             }
            },
            "type": "scattergeo"
           }
          ],
          "scattergl": [
           {
            "marker": {
             "colorbar": {
              "outlinewidth": 0,
              "ticks": ""
             }
            },
            "type": "scattergl"
           }
          ],
          "scattermapbox": [
           {
            "marker": {
             "colorbar": {
              "outlinewidth": 0,
              "ticks": ""
             }
            },
            "type": "scattermapbox"
           }
          ],
          "scatterpolar": [
           {
            "marker": {
             "colorbar": {
              "outlinewidth": 0,
              "ticks": ""
             }
            },
            "type": "scatterpolar"
           }
          ],
          "scatterpolargl": [
           {
            "marker": {
             "colorbar": {
              "outlinewidth": 0,
              "ticks": ""
             }
            },
            "type": "scatterpolargl"
           }
          ],
          "scatterternary": [
           {
            "marker": {
             "colorbar": {
              "outlinewidth": 0,
              "ticks": ""
             }
            },
            "type": "scatterternary"
           }
          ],
          "surface": [
           {
            "colorbar": {
             "outlinewidth": 0,
             "ticks": ""
            },
            "colorscale": [
             [
              0,
              "#0d0887"
             ],
             [
              0.1111111111111111,
              "#46039f"
             ],
             [
              0.2222222222222222,
              "#7201a8"
             ],
             [
              0.3333333333333333,
              "#9c179e"
             ],
             [
              0.4444444444444444,
              "#bd3786"
             ],
             [
              0.5555555555555556,
              "#d8576b"
             ],
             [
              0.6666666666666666,
              "#ed7953"
             ],
             [
              0.7777777777777778,
              "#fb9f3a"
             ],
             [
              0.8888888888888888,
              "#fdca26"
             ],
             [
              1,
              "#f0f921"
             ]
            ],
            "type": "surface"
           }
          ],
          "table": [
           {
            "cells": {
             "fill": {
              "color": "#EBF0F8"
             },
             "line": {
              "color": "white"
             }
            },
            "header": {
             "fill": {
              "color": "#C8D4E3"
             },
             "line": {
              "color": "white"
             }
            },
            "type": "table"
           }
          ]
         },
         "layout": {
          "annotationdefaults": {
           "arrowcolor": "#2a3f5f",
           "arrowhead": 0,
           "arrowwidth": 1
          },
          "autotypenumbers": "strict",
          "coloraxis": {
           "colorbar": {
            "outlinewidth": 0,
            "ticks": ""
           }
          },
          "colorscale": {
           "diverging": [
            [
             0,
             "#8e0152"
            ],
            [
             0.1,
             "#c51b7d"
            ],
            [
             0.2,
             "#de77ae"
            ],
            [
             0.3,
             "#f1b6da"
            ],
            [
             0.4,
             "#fde0ef"
            ],
            [
             0.5,
             "#f7f7f7"
            ],
            [
             0.6,
             "#e6f5d0"
            ],
            [
             0.7,
             "#b8e186"
            ],
            [
             0.8,
             "#7fbc41"
            ],
            [
             0.9,
             "#4d9221"
            ],
            [
             1,
             "#276419"
            ]
           ],
           "sequential": [
            [
             0,
             "#0d0887"
            ],
            [
             0.1111111111111111,
             "#46039f"
            ],
            [
             0.2222222222222222,
             "#7201a8"
            ],
            [
             0.3333333333333333,
             "#9c179e"
            ],
            [
             0.4444444444444444,
             "#bd3786"
            ],
            [
             0.5555555555555556,
             "#d8576b"
            ],
            [
             0.6666666666666666,
             "#ed7953"
            ],
            [
             0.7777777777777778,
             "#fb9f3a"
            ],
            [
             0.8888888888888888,
             "#fdca26"
            ],
            [
             1,
             "#f0f921"
            ]
           ],
           "sequentialminus": [
            [
             0,
             "#0d0887"
            ],
            [
             0.1111111111111111,
             "#46039f"
            ],
            [
             0.2222222222222222,
             "#7201a8"
            ],
            [
             0.3333333333333333,
             "#9c179e"
            ],
            [
             0.4444444444444444,
             "#bd3786"
            ],
            [
             0.5555555555555556,
             "#d8576b"
            ],
            [
             0.6666666666666666,
             "#ed7953"
            ],
            [
             0.7777777777777778,
             "#fb9f3a"
            ],
            [
             0.8888888888888888,
             "#fdca26"
            ],
            [
             1,
             "#f0f921"
            ]
           ]
          },
          "colorway": [
           "#636efa",
           "#EF553B",
           "#00cc96",
           "#ab63fa",
           "#FFA15A",
           "#19d3f3",
           "#FF6692",
           "#B6E880",
           "#FF97FF",
           "#FECB52"
          ],
          "font": {
           "color": "#2a3f5f"
          },
          "geo": {
           "bgcolor": "white",
           "lakecolor": "white",
           "landcolor": "#E5ECF6",
           "showlakes": true,
           "showland": true,
           "subunitcolor": "white"
          },
          "hoverlabel": {
           "align": "left"
          },
          "hovermode": "closest",
          "mapbox": {
           "style": "light"
          },
          "paper_bgcolor": "white",
          "plot_bgcolor": "#E5ECF6",
          "polar": {
           "angularaxis": {
            "gridcolor": "white",
            "linecolor": "white",
            "ticks": ""
           },
           "bgcolor": "#E5ECF6",
           "radialaxis": {
            "gridcolor": "white",
            "linecolor": "white",
            "ticks": ""
           }
          },
          "scene": {
           "xaxis": {
            "backgroundcolor": "#E5ECF6",
            "gridcolor": "white",
            "gridwidth": 2,
            "linecolor": "white",
            "showbackground": true,
            "ticks": "",
            "zerolinecolor": "white"
           },
           "yaxis": {
            "backgroundcolor": "#E5ECF6",
            "gridcolor": "white",
            "gridwidth": 2,
            "linecolor": "white",
            "showbackground": true,
            "ticks": "",
            "zerolinecolor": "white"
           },
           "zaxis": {
            "backgroundcolor": "#E5ECF6",
            "gridcolor": "white",
            "gridwidth": 2,
            "linecolor": "white",
            "showbackground": true,
            "ticks": "",
            "zerolinecolor": "white"
           }
          },
          "shapedefaults": {
           "line": {
            "color": "#2a3f5f"
           }
          },
          "ternary": {
           "aaxis": {
            "gridcolor": "white",
            "linecolor": "white",
            "ticks": ""
           },
           "baxis": {
            "gridcolor": "white",
            "linecolor": "white",
            "ticks": ""
           },
           "bgcolor": "#E5ECF6",
           "caxis": {
            "gridcolor": "white",
            "linecolor": "white",
            "ticks": ""
           }
          },
          "title": {
           "x": 0.05
          },
          "xaxis": {
           "automargin": true,
           "gridcolor": "white",
           "linecolor": "white",
           "ticks": "",
           "title": {
            "standoff": 15
           },
           "zerolinecolor": "white",
           "zerolinewidth": 2
          },
          "yaxis": {
           "automargin": true,
           "gridcolor": "white",
           "linecolor": "white",
           "ticks": "",
           "title": {
            "standoff": 15
           },
           "zerolinecolor": "white",
           "zerolinewidth": 2
          }
         }
        },
        "title": {
         "text": "Enrollment for each School in 2016-2017"
        },
        "width": 900,
        "xaxis": {
         "anchor": "y",
         "domain": [
          0,
          1
         ],
         "title": {
          "text": "Building_Name"
         }
        },
        "yaxis": {
         "anchor": "x",
         "domain": [
          0,
          1
         ],
         "title": {
          "text": "Enrollment"
         }
        }
       }
      },
      "text/html": [
       "<div>                            <div id=\"042d80ef-6994-4ad3-a328-177d77b6797c\" class=\"plotly-graph-div\" style=\"height:800px; width:900px;\"></div>            <script type=\"text/javascript\">                require([\"plotly\"], function(Plotly) {                    window.PLOTLYENV=window.PLOTLYENV || {};                                    if (document.getElementById(\"042d80ef-6994-4ad3-a328-177d77b6797c\")) {                    Plotly.newPlot(                        \"042d80ef-6994-4ad3-a328-177d77b6797c\",                        [{\"alignmentgroup\": \"True\", \"hovertemplate\": \"Building_Name=%{x}<br>Enrollment=%{marker.color}<extra></extra>\", \"legendgroup\": \"\", \"marker\": {\"color\": [445.0, 405.0, 491.0, 457.0, 361.0, 311.0, 514.0, 652.0, 318.0, 391.0, 331.0, 348.0, 499.0, 408.0, 315.0, 413.0, 598.0, 370.0, 268.0, 343.0, 338.0, 429.0, 271.0, 340.0, 407.0, 365.0, 406.0, 228.0, 344.0, 406.0, 554.0, 275.0, 271.0, 212.0, 287.0, 604.0, 298.0, 146.0, 308.0, 213.0, 579.0, 418.0, 294.0, 384.0, 405.0, 356.0, 177.0, 241.0, 245.0, 339.0, 208.0, 266.0, 151.0, 475.0, 260.0, 298.0, 294.0, 68.0, 95.0, 125.0, 285.0, 1276.0, 295.0, 694.0, 170.0, 288.0, 361.0, 313.0, 323.0, 441.0, 250.0, 344.0, 291.0, 612.0, 213.0, 423.0, 519.0, 236.0, 403.0, 293.0, 515.0, 447.0, 249.0, 475.0, 315.0, 360.0, 493.0, 389.0, 502.0, 482.0, 400.0, 822.0, 560.0, 190.0, 431.0, 382.0, 254.0, 426.0, 265.0, 305.0, 378.0, 245.0, 358.0, 468.0, 231.0, 542.0, 781.0, 253.0, 542.0, 397.0, 328.0, 190.0, 379.0, 241.0, 48.0, 404.0, 0.0, 0.0, 0.0], \"coloraxis\": \"coloraxis\"}, \"name\": \"\", \"offsetgroup\": \"\", \"orientation\": \"v\", \"showlegend\": false, \"textposition\": \"auto\", \"type\": \"bar\", \"x\": [\"Adlai Stevenson School\", \"Menlo Park Academy\", \"Almira\", \"Andrew J Rickoff\", \"Anton Grdina\", \"Cleveland Entrepreneurship Preparatory School\", \"Artemus Ward\", \"Benjamin Franklin\", \"Bolton\", \"Buhrer\", \"Case\", \"Alfred Benesch\", \"Charles A Mooney School\", \"Charles Dickens School\", \"Charles W Eliot School\", \"Clara E Westropp School\", \"Clark School\", \"Collinwood High School\", \"Daniel E Morgan School\", \"Denison\", \"Cleveland School of Arts Lower Campus\", \"Memorial School\", \"East Clark\", \"Douglas MacArthur\", \"Ginn Academy\", \"East Technical High School\", \"MC^2 STEM High School\", \"Design Lab @ Health Careers\", \"Euclid Park Elementary School\", \"Village Preparatory School\", \"Northeast Ohio College Preparatory School\", \"Cleveland College Preparatory School\", \"Citizens Leadership Academy\", \"Near West Intergenerational School\", \"Entrepreneurship Preparatory School - Woodland Hills Campus\", \"Campus International School\", \"New Technology West\", \"New Technology HS@East Tech\", \"Facing History High School@Charles Mooney\", \"Fullerton School\", \"Garfield Elementary School\", \"Village Preparatory School:: Woodland Hills Campus\", \"Stepstone Academy\", \"George Washington Carver\", \"Glenville High School\", \"H Barbara Booker Elementary School\", \"Lakeshore Intergenerational School\", \"Cleveland High School for the Digital Arts\", \"PACT @ JFK\", \"Bard Early College Cleveland\", \"E3agle Academy\", \"Hannah Gibbons-Nottingham Elementary School\", \"Stonebrook Montessori\", \"Harvey Rice Elementary School\", \"John Marshall School of Engineering\", \"John Marshall School of Business and Civic Leadership\", \"John Marshall School of Information Technology\", \"Village Preparatory School Willard\", \"Lincoln West School Of Global Studies\", \"Lincoln West School of Science & Health\", \"Iowa-Maple Elementary School\", \"James Ford Rhodes High School\", \"Jane Addams Business Careers High School\", \"John Adams High School\", \"John F Kennedy High School\", \"Cleveland Early College High\", \"John Marshall High School\", \"Cleveland School of Architecture & Design\", \"Louis Agassiz School\", \"Franklin D. Roosevelt\", \"Louisa May Alcott Elementary School\", \"Mary B Martin School\", \"Mary M Bethune\", \"Max S Hayes High School\", \"McKinley School\", \"Miles School\", \"Miles Park School\", \"Michael R. White\", \"Mound Elementary School\", \"The School of One\", \"Nathan Hale School\", \"Newton D Baker School\", \"Oliver H Perry Elementary School\", \"Orchard School\", \"Patrick Henry School\", \"Paul L Dunbar Elementary School\", \"Riverside School\", \"Robert H Jamison School\", \"Robinson G Jones Elementary School\", \"Scranton School\", \"Sunbeam\", \"Thomas Jefferson School\", \"Tremont Montessori School\", \"Valley View Elementary School\", \"William C Bryant Elementary School\", \"Wade Park\", \"Walton School\", \"Warner Girls Leadership Academy\", \"Washington Park\", \"Waverly Elementary School\", \"Wilbur Wright School\", \"Willow School\", \"Willson School\", \"Lincoln-West High School\", \"Whitney Young School\", \"Luis Munoz Marin School\", \"Joseph M Gallagher School\", \"Garrett Morgan Schl Of Science School\", \"Cleveland School Of The Arts High School\", \"Marion C Seltzer Elementary School\", \"Marion-Sterling Elementary School\", \"Kenneth W Clement\", \"Health Careers Center High School\", \"Intergenerational School, The\", \"SuccessTech Academy School\", \"Cleveland School of Science & Medicine\", \"Citizens Academy East\", \"Citizens Academy Southeast\", \"Citizens Academy\"], \"xaxis\": \"x\", \"y\": [445.0, 405.0, 491.0, 457.0, 361.0, 311.0, 514.0, 652.0, 318.0, 391.0, 331.0, 348.0, 499.0, 408.0, 315.0, 413.0, 598.0, 370.0, 268.0, 343.0, 338.0, 429.0, 271.0, 340.0, 407.0, 365.0, 406.0, 228.0, 344.0, 406.0, 554.0, 275.0, 271.0, 212.0, 287.0, 604.0, 298.0, 146.0, 308.0, 213.0, 579.0, 418.0, 294.0, 384.0, 405.0, 356.0, 177.0, 241.0, 245.0, 339.0, 208.0, 266.0, 151.0, 475.0, 260.0, 298.0, 294.0, 68.0, 95.0, 125.0, 285.0, 1276.0, 295.0, 694.0, 170.0, 288.0, 361.0, 313.0, 323.0, 441.0, 250.0, 344.0, 291.0, 612.0, 213.0, 423.0, 519.0, 236.0, 403.0, 293.0, 515.0, 447.0, 249.0, 475.0, 315.0, 360.0, 493.0, 389.0, 502.0, 482.0, 400.0, 822.0, 560.0, 190.0, 431.0, 382.0, 254.0, 426.0, 265.0, 305.0, 378.0, 245.0, 358.0, 468.0, 231.0, 542.0, 781.0, 253.0, 542.0, 397.0, 328.0, 190.0, 379.0, 241.0, 48.0, 404.0, 0.0, 0.0, 0.0], \"yaxis\": \"y\"}],                        {\"barmode\": \"relative\", \"coloraxis\": {\"colorbar\": {\"title\": {\"text\": \"Enrollment\"}}, \"colorscale\": [[0.0, \"#0d0887\"], [0.1111111111111111, \"#46039f\"], [0.2222222222222222, \"#7201a8\"], [0.3333333333333333, \"#9c179e\"], [0.4444444444444444, \"#bd3786\"], [0.5555555555555556, \"#d8576b\"], [0.6666666666666666, \"#ed7953\"], [0.7777777777777778, \"#fb9f3a\"], [0.8888888888888888, \"#fdca26\"], [1.0, \"#f0f921\"]]}, \"height\": 800, \"legend\": {\"tracegroupgap\": 0}, \"template\": {\"data\": {\"bar\": [{\"error_x\": {\"color\": \"#2a3f5f\"}, \"error_y\": {\"color\": \"#2a3f5f\"}, \"marker\": {\"line\": {\"color\": \"#E5ECF6\", \"width\": 0.5}}, \"type\": \"bar\"}], \"barpolar\": [{\"marker\": {\"line\": {\"color\": \"#E5ECF6\", \"width\": 0.5}}, \"type\": \"barpolar\"}], \"carpet\": [{\"aaxis\": {\"endlinecolor\": \"#2a3f5f\", \"gridcolor\": \"white\", \"linecolor\": \"white\", \"minorgridcolor\": \"white\", \"startlinecolor\": \"#2a3f5f\"}, \"baxis\": {\"endlinecolor\": \"#2a3f5f\", \"gridcolor\": \"white\", \"linecolor\": \"white\", \"minorgridcolor\": \"white\", \"startlinecolor\": \"#2a3f5f\"}, \"type\": \"carpet\"}], \"choropleth\": [{\"colorbar\": {\"outlinewidth\": 0, \"ticks\": \"\"}, \"type\": \"choropleth\"}], \"contour\": [{\"colorbar\": {\"outlinewidth\": 0, \"ticks\": \"\"}, \"colorscale\": [[0.0, \"#0d0887\"], [0.1111111111111111, \"#46039f\"], [0.2222222222222222, \"#7201a8\"], [0.3333333333333333, \"#9c179e\"], [0.4444444444444444, \"#bd3786\"], [0.5555555555555556, \"#d8576b\"], [0.6666666666666666, \"#ed7953\"], [0.7777777777777778, \"#fb9f3a\"], [0.8888888888888888, \"#fdca26\"], [1.0, \"#f0f921\"]], \"type\": \"contour\"}], \"contourcarpet\": [{\"colorbar\": {\"outlinewidth\": 0, \"ticks\": \"\"}, \"type\": \"contourcarpet\"}], \"heatmap\": [{\"colorbar\": {\"outlinewidth\": 0, \"ticks\": \"\"}, \"colorscale\": [[0.0, \"#0d0887\"], [0.1111111111111111, \"#46039f\"], [0.2222222222222222, \"#7201a8\"], [0.3333333333333333, \"#9c179e\"], [0.4444444444444444, \"#bd3786\"], [0.5555555555555556, \"#d8576b\"], [0.6666666666666666, \"#ed7953\"], [0.7777777777777778, \"#fb9f3a\"], [0.8888888888888888, \"#fdca26\"], [1.0, \"#f0f921\"]], \"type\": \"heatmap\"}], \"heatmapgl\": [{\"colorbar\": {\"outlinewidth\": 0, \"ticks\": \"\"}, \"colorscale\": [[0.0, \"#0d0887\"], [0.1111111111111111, \"#46039f\"], [0.2222222222222222, \"#7201a8\"], [0.3333333333333333, \"#9c179e\"], [0.4444444444444444, \"#bd3786\"], [0.5555555555555556, \"#d8576b\"], [0.6666666666666666, \"#ed7953\"], [0.7777777777777778, \"#fb9f3a\"], [0.8888888888888888, \"#fdca26\"], [1.0, \"#f0f921\"]], \"type\": \"heatmapgl\"}], \"histogram\": [{\"marker\": {\"colorbar\": {\"outlinewidth\": 0, \"ticks\": \"\"}}, \"type\": \"histogram\"}], \"histogram2d\": [{\"colorbar\": {\"outlinewidth\": 0, \"ticks\": \"\"}, \"colorscale\": [[0.0, \"#0d0887\"], [0.1111111111111111, \"#46039f\"], [0.2222222222222222, \"#7201a8\"], [0.3333333333333333, \"#9c179e\"], [0.4444444444444444, \"#bd3786\"], [0.5555555555555556, \"#d8576b\"], [0.6666666666666666, \"#ed7953\"], [0.7777777777777778, \"#fb9f3a\"], [0.8888888888888888, \"#fdca26\"], [1.0, \"#f0f921\"]], \"type\": \"histogram2d\"}], \"histogram2dcontour\": [{\"colorbar\": {\"outlinewidth\": 0, \"ticks\": \"\"}, \"colorscale\": [[0.0, \"#0d0887\"], [0.1111111111111111, \"#46039f\"], [0.2222222222222222, \"#7201a8\"], [0.3333333333333333, \"#9c179e\"], [0.4444444444444444, \"#bd3786\"], [0.5555555555555556, \"#d8576b\"], [0.6666666666666666, \"#ed7953\"], [0.7777777777777778, \"#fb9f3a\"], [0.8888888888888888, \"#fdca26\"], [1.0, \"#f0f921\"]], \"type\": \"histogram2dcontour\"}], \"mesh3d\": [{\"colorbar\": {\"outlinewidth\": 0, \"ticks\": \"\"}, \"type\": \"mesh3d\"}], \"parcoords\": [{\"line\": {\"colorbar\": {\"outlinewidth\": 0, \"ticks\": \"\"}}, \"type\": \"parcoords\"}], \"pie\": [{\"automargin\": true, \"type\": \"pie\"}], \"scatter\": [{\"marker\": {\"colorbar\": {\"outlinewidth\": 0, \"ticks\": \"\"}}, \"type\": \"scatter\"}], \"scatter3d\": [{\"line\": {\"colorbar\": {\"outlinewidth\": 0, \"ticks\": \"\"}}, \"marker\": {\"colorbar\": {\"outlinewidth\": 0, \"ticks\": \"\"}}, \"type\": \"scatter3d\"}], \"scattercarpet\": [{\"marker\": {\"colorbar\": {\"outlinewidth\": 0, \"ticks\": \"\"}}, \"type\": \"scattercarpet\"}], \"scattergeo\": [{\"marker\": {\"colorbar\": {\"outlinewidth\": 0, \"ticks\": \"\"}}, \"type\": \"scattergeo\"}], \"scattergl\": [{\"marker\": {\"colorbar\": {\"outlinewidth\": 0, \"ticks\": \"\"}}, \"type\": \"scattergl\"}], \"scattermapbox\": [{\"marker\": {\"colorbar\": {\"outlinewidth\": 0, \"ticks\": \"\"}}, \"type\": \"scattermapbox\"}], \"scatterpolar\": [{\"marker\": {\"colorbar\": {\"outlinewidth\": 0, \"ticks\": \"\"}}, \"type\": \"scatterpolar\"}], \"scatterpolargl\": [{\"marker\": {\"colorbar\": {\"outlinewidth\": 0, \"ticks\": \"\"}}, \"type\": \"scatterpolargl\"}], \"scatterternary\": [{\"marker\": {\"colorbar\": {\"outlinewidth\": 0, \"ticks\": \"\"}}, \"type\": \"scatterternary\"}], \"surface\": [{\"colorbar\": {\"outlinewidth\": 0, \"ticks\": \"\"}, \"colorscale\": [[0.0, \"#0d0887\"], [0.1111111111111111, \"#46039f\"], [0.2222222222222222, \"#7201a8\"], [0.3333333333333333, \"#9c179e\"], [0.4444444444444444, \"#bd3786\"], [0.5555555555555556, \"#d8576b\"], [0.6666666666666666, \"#ed7953\"], [0.7777777777777778, \"#fb9f3a\"], [0.8888888888888888, \"#fdca26\"], [1.0, \"#f0f921\"]], \"type\": \"surface\"}], \"table\": [{\"cells\": {\"fill\": {\"color\": \"#EBF0F8\"}, \"line\": {\"color\": \"white\"}}, \"header\": {\"fill\": {\"color\": \"#C8D4E3\"}, \"line\": {\"color\": \"white\"}}, \"type\": \"table\"}]}, \"layout\": {\"annotationdefaults\": {\"arrowcolor\": \"#2a3f5f\", \"arrowhead\": 0, \"arrowwidth\": 1}, \"autotypenumbers\": \"strict\", \"coloraxis\": {\"colorbar\": {\"outlinewidth\": 0, \"ticks\": \"\"}}, \"colorscale\": {\"diverging\": [[0, \"#8e0152\"], [0.1, \"#c51b7d\"], [0.2, \"#de77ae\"], [0.3, \"#f1b6da\"], [0.4, \"#fde0ef\"], [0.5, \"#f7f7f7\"], [0.6, \"#e6f5d0\"], [0.7, \"#b8e186\"], [0.8, \"#7fbc41\"], [0.9, \"#4d9221\"], [1, \"#276419\"]], \"sequential\": [[0.0, \"#0d0887\"], [0.1111111111111111, \"#46039f\"], [0.2222222222222222, \"#7201a8\"], [0.3333333333333333, \"#9c179e\"], [0.4444444444444444, \"#bd3786\"], [0.5555555555555556, \"#d8576b\"], [0.6666666666666666, \"#ed7953\"], [0.7777777777777778, \"#fb9f3a\"], [0.8888888888888888, \"#fdca26\"], [1.0, \"#f0f921\"]], \"sequentialminus\": [[0.0, \"#0d0887\"], [0.1111111111111111, \"#46039f\"], [0.2222222222222222, \"#7201a8\"], [0.3333333333333333, \"#9c179e\"], [0.4444444444444444, \"#bd3786\"], [0.5555555555555556, \"#d8576b\"], [0.6666666666666666, \"#ed7953\"], [0.7777777777777778, \"#fb9f3a\"], [0.8888888888888888, \"#fdca26\"], [1.0, \"#f0f921\"]]}, \"colorway\": [\"#636efa\", \"#EF553B\", \"#00cc96\", \"#ab63fa\", \"#FFA15A\", \"#19d3f3\", \"#FF6692\", \"#B6E880\", \"#FF97FF\", \"#FECB52\"], \"font\": {\"color\": \"#2a3f5f\"}, \"geo\": {\"bgcolor\": \"white\", \"lakecolor\": \"white\", \"landcolor\": \"#E5ECF6\", \"showlakes\": true, \"showland\": true, \"subunitcolor\": \"white\"}, \"hoverlabel\": {\"align\": \"left\"}, \"hovermode\": \"closest\", \"mapbox\": {\"style\": \"light\"}, \"paper_bgcolor\": \"white\", \"plot_bgcolor\": \"#E5ECF6\", \"polar\": {\"angularaxis\": {\"gridcolor\": \"white\", \"linecolor\": \"white\", \"ticks\": \"\"}, \"bgcolor\": \"#E5ECF6\", \"radialaxis\": {\"gridcolor\": \"white\", \"linecolor\": \"white\", \"ticks\": \"\"}}, \"scene\": {\"xaxis\": {\"backgroundcolor\": \"#E5ECF6\", \"gridcolor\": \"white\", \"gridwidth\": 2, \"linecolor\": \"white\", \"showbackground\": true, \"ticks\": \"\", \"zerolinecolor\": \"white\"}, \"yaxis\": {\"backgroundcolor\": \"#E5ECF6\", \"gridcolor\": \"white\", \"gridwidth\": 2, \"linecolor\": \"white\", \"showbackground\": true, \"ticks\": \"\", \"zerolinecolor\": \"white\"}, \"zaxis\": {\"backgroundcolor\": \"#E5ECF6\", \"gridcolor\": \"white\", \"gridwidth\": 2, \"linecolor\": \"white\", \"showbackground\": true, \"ticks\": \"\", \"zerolinecolor\": \"white\"}}, \"shapedefaults\": {\"line\": {\"color\": \"#2a3f5f\"}}, \"ternary\": {\"aaxis\": {\"gridcolor\": \"white\", \"linecolor\": \"white\", \"ticks\": \"\"}, \"baxis\": {\"gridcolor\": \"white\", \"linecolor\": \"white\", \"ticks\": \"\"}, \"bgcolor\": \"#E5ECF6\", \"caxis\": {\"gridcolor\": \"white\", \"linecolor\": \"white\", \"ticks\": \"\"}}, \"title\": {\"x\": 0.05}, \"xaxis\": {\"automargin\": true, \"gridcolor\": \"white\", \"linecolor\": \"white\", \"ticks\": \"\", \"title\": {\"standoff\": 15}, \"zerolinecolor\": \"white\", \"zerolinewidth\": 2}, \"yaxis\": {\"automargin\": true, \"gridcolor\": \"white\", \"linecolor\": \"white\", \"ticks\": \"\", \"title\": {\"standoff\": 15}, \"zerolinecolor\": \"white\", \"zerolinewidth\": 2}}}, \"title\": {\"text\": \"Enrollment for each School in 2016-2017\"}, \"width\": 900, \"xaxis\": {\"anchor\": \"y\", \"domain\": [0.0, 1.0], \"title\": {\"text\": \"Building_Name\"}}, \"yaxis\": {\"anchor\": \"x\", \"domain\": [0.0, 1.0], \"title\": {\"text\": \"Enrollment\"}}},                        {\"responsive\": true}                    ).then(function(){\n",
       "                            \n",
       "var gd = document.getElementById('042d80ef-6994-4ad3-a328-177d77b6797c');\n",
       "var x = new MutationObserver(function (mutations, observer) {{\n",
       "        var display = window.getComputedStyle(gd).display;\n",
       "        if (!display || display === 'none') {{\n",
       "            console.log([gd, 'removed!']);\n",
       "            Plotly.purge(gd);\n",
       "            observer.disconnect();\n",
       "        }}\n",
       "}});\n",
       "\n",
       "// Listen for the removal of the full notebook cells\n",
       "var notebookContainer = gd.closest('#notebook-container');\n",
       "if (notebookContainer) {{\n",
       "    x.observe(notebookContainer, {childList: true});\n",
       "}}\n",
       "\n",
       "// Listen for the clearing of the current output cell\n",
       "var outputEl = gd.closest('.output');\n",
       "if (outputEl) {{\n",
       "    x.observe(outputEl, {childList: true});\n",
       "}}\n",
       "\n",
       "                        })                };                });            </script>        </div>"
      ]
     },
     "metadata": {},
     "output_type": "display_data"
    }
   ],
   "source": [
    "# Filter data for the year 2015-2016\n",
    "df_2016_2017 = df_CMSD[df_CMSD['School_Year'] == '2016-2017']\n",
    "\n",
    "# Plot with Plotly Express\n",
    "fig = px.bar(\n",
    "    df_2016_2017,\n",
    "    x ='Building_Name', \n",
    "    y ='Enrollment',\n",
    "    title='Enrollment for each School in 2016-2017',\n",
    "    color='Enrollment',\n",
    "    labels={'Enrollment': 'Enrollment', 'School_Name': 'School Name'},\n",
    "    height=800,  \n",
    "    width=900,\n",
    ")\n",
    "\n",
    "# Show the plot\n",
    "fig.show()"
   ]
  },
  {
   "cell_type": "code",
   "execution_count": 139,
   "metadata": {},
   "outputs": [
    {
     "data": {
      "application/vnd.plotly.v1+json": {
       "config": {
        "plotlyServerURL": "https://plot.ly"
       },
       "data": [
        {
         "alignmentgroup": "True",
         "hovertemplate": "Building_Name=%{x}<br>Enrollment=%{marker.color}<extra></extra>",
         "legendgroup": "",
         "marker": {
          "color": [
           443,
           418,
           547,
           441,
           396,
           322,
           209,
           513,
           615,
           330,
           395,
           301,
           318,
           456,
           408,
           326,
           345,
           590,
           331,
           247,
           325,
           403,
           415,
           237,
           346,
           380,
           361,
           387,
           246,
           334,
           406,
           490,
           278,
           262,
           236,
           298,
           714,
           295,
           149,
           316,
           222,
           403,
           583,
           427,
           256,
           341,
           388,
           379,
           203,
           311,
           265,
           428,
           259,
           256,
           174,
           344,
           457,
           389,
           406,
           377,
           180,
           191,
           170,
           135,
           128,
           56,
           98,
           95,
           48,
           265,
           956,
           241,
           550,
           303,
           327,
           319,
           435,
           243,
           312,
           311,
           639,
           420,
           488,
           202,
           402,
           273,
           525,
           491,
           289,
           480,
           291,
           383,
           491,
           365,
           493,
           489,
           397,
           829,
           544,
           192,
           423,
           406,
           289,
           478,
           267,
           271,
           483,
           211,
           348,
           320,
           186,
           528,
           752,
           229,
           473,
           430,
           335,
           173,
           356,
           247,
           410,
           440,
           401
          ],
          "coloraxis": "coloraxis"
         },
         "name": "",
         "offsetgroup": "",
         "orientation": "v",
         "showlegend": false,
         "textposition": "auto",
         "type": "bar",
         "x": [
          "Adlai Stevenson School",
          "Menlo Park Academy",
          "Almira",
          "Andrew J Rickoff",
          "Anton Grdina",
          "Cleveland Entrepreneurship Preparatory School",
          "Promise Academy",
          "Artemus Ward",
          "Benjamin Franklin",
          "Bolton",
          "Buhrer",
          "Case",
          "Alfred Benesch",
          "Charles A Mooney School",
          "Charles Dickens School",
          "Charles W Eliot  School",
          "Clara E Westropp School",
          "Clark School",
          "Collinwood High School",
          "Daniel E Morgan School",
          "Denison",
          "Cleveland School of Arts Lower Campus",
          "Memorial School",
          "East Clark",
          "Douglas MacArthur",
          "Ginn Academy",
          "East Technical High School",
          "MC^2 STEM High School",
          "Design Lab @ Health Careers",
          "Euclid Park Elementary School",
          "Village Preparatory School",
          "Northeast Ohio College Preparatory School",
          "Cleveland College Preparatory School",
          "Citizens Leadership Academy",
          "Near West Intergenerational School",
          "Entrepreneurship Preparatory School - Woodland Hills Campus",
          "Campus International School",
          "New Technology West",
          "New Technology HS@East Tech",
          "Facing History High School@Charles Mooney",
          "Fullerton School",
          "Citizens Academy East",
          "Garfield Elementary School",
          "Village Preparatory School:: Woodland Hills Campus",
          "Stepstone Academy",
          "George Washington Carver",
          "Glenville High School",
          "H Barbara Booker Elementary School",
          "Lakeshore Intergenerational School",
          "Cleveland High School for the Digital Arts",
          "PACT @ JFK",
          "Bard Early College Cleveland",
          "E3agle Academy",
          "Hannah Gibbons-Nottingham Elementary School",
          "Stonebrook Montessori",
          "Citizens Academy Southeast",
          "Harvey Rice Elementary School",
          "John Marshall School of Engineering",
          "John Marshall School of Business and Civic Leadership",
          "John Marshall School of Information Technology",
          "Village Preparatory School Willard",
          "Lincoln West School Of Global Studies",
          "Lincoln West School of Science & Health",
          "Rhodes Schools of Environmental Studies",
          "Rhodes College and Career Academy",
          "Bard High Early College Cleveland East Campus",
          "John Adams College & Career Academy",
          "Campus International High School",
          "Davis Aerospace & Maritime High School",
          "Iowa-Maple Elementary School",
          "James Ford Rhodes High School",
          "Jane Addams Business Careers High School",
          "John Adams High School",
          "Cleveland Early College High",
          "Cleveland School of Architecture & Design",
          "Louis Agassiz School",
          "Franklin D. Roosevelt",
          "Louisa May Alcott Elementary School",
          "Mary B Martin School",
          "Mary M Bethune",
          "Max S Hayes High School",
          "Miles School",
          "Miles Park School",
          "Michael R. White",
          "Mound Elementary School",
          "The School of One",
          "Nathan Hale School",
          "Newton D Baker School",
          "Oliver H Perry Elementary School",
          "Orchard School",
          "Patrick Henry School",
          "Paul L Dunbar Elementary School",
          "Riverside School",
          "Robert H Jamison School",
          "Robinson G Jones Elementary School",
          "Scranton School",
          "Sunbeam",
          "Thomas Jefferson School",
          "Tremont Montessori School",
          "Valley View Elementary School",
          "William C Bryant Elementary School",
          "Wade Park",
          "Walton School",
          "Warner Girls Leadership Academy",
          "Washington Park",
          "Waverly Elementary School",
          "Wilbur Wright School",
          "Willow School",
          "Willson School",
          "Lincoln-West High School",
          "Whitney Young School",
          "Luis Munoz Marin School",
          "Joseph M Gallagher School",
          "Garrett Morgan Schl Of Science School",
          "Cleveland School Of The Arts High School",
          "Marion C Seltzer Elementary School",
          "Marion-Sterling Elementary School",
          "Kenneth W Clement",
          "Martin Luther King Jr. Campus",
          "Intergenerational School, The",
          "Citizens Academy",
          "Horizon Science Acad Cleveland",
          "Cleveland School of Science & Medicine"
         ],
         "xaxis": "x",
         "y": [
          443,
          418,
          547,
          441,
          396,
          322,
          209,
          513,
          615,
          330,
          395,
          301,
          318,
          456,
          408,
          326,
          345,
          590,
          331,
          247,
          325,
          403,
          415,
          237,
          346,
          380,
          361,
          387,
          246,
          334,
          406,
          490,
          278,
          262,
          236,
          298,
          714,
          295,
          149,
          316,
          222,
          403,
          583,
          427,
          256,
          341,
          388,
          379,
          203,
          311,
          265,
          428,
          259,
          256,
          174,
          344,
          457,
          389,
          406,
          377,
          180,
          191,
          170,
          135,
          128,
          56,
          98,
          95,
          48,
          265,
          956,
          241,
          550,
          303,
          327,
          319,
          435,
          243,
          312,
          311,
          639,
          420,
          488,
          202,
          402,
          273,
          525,
          491,
          289,
          480,
          291,
          383,
          491,
          365,
          493,
          489,
          397,
          829,
          544,
          192,
          423,
          406,
          289,
          478,
          267,
          271,
          483,
          211,
          348,
          320,
          186,
          528,
          752,
          229,
          473,
          430,
          335,
          173,
          356,
          247,
          410,
          440,
          401
         ],
         "yaxis": "y"
        }
       ],
       "layout": {
        "barmode": "relative",
        "coloraxis": {
         "colorbar": {
          "title": {
           "text": "Enrollment"
          }
         },
         "colorscale": [
          [
           0,
           "#0d0887"
          ],
          [
           0.1111111111111111,
           "#46039f"
          ],
          [
           0.2222222222222222,
           "#7201a8"
          ],
          [
           0.3333333333333333,
           "#9c179e"
          ],
          [
           0.4444444444444444,
           "#bd3786"
          ],
          [
           0.5555555555555556,
           "#d8576b"
          ],
          [
           0.6666666666666666,
           "#ed7953"
          ],
          [
           0.7777777777777778,
           "#fb9f3a"
          ],
          [
           0.8888888888888888,
           "#fdca26"
          ],
          [
           1,
           "#f0f921"
          ]
         ]
        },
        "height": 800,
        "legend": {
         "tracegroupgap": 0
        },
        "template": {
         "data": {
          "bar": [
           {
            "error_x": {
             "color": "#2a3f5f"
            },
            "error_y": {
             "color": "#2a3f5f"
            },
            "marker": {
             "line": {
              "color": "#E5ECF6",
              "width": 0.5
             }
            },
            "type": "bar"
           }
          ],
          "barpolar": [
           {
            "marker": {
             "line": {
              "color": "#E5ECF6",
              "width": 0.5
             }
            },
            "type": "barpolar"
           }
          ],
          "carpet": [
           {
            "aaxis": {
             "endlinecolor": "#2a3f5f",
             "gridcolor": "white",
             "linecolor": "white",
             "minorgridcolor": "white",
             "startlinecolor": "#2a3f5f"
            },
            "baxis": {
             "endlinecolor": "#2a3f5f",
             "gridcolor": "white",
             "linecolor": "white",
             "minorgridcolor": "white",
             "startlinecolor": "#2a3f5f"
            },
            "type": "carpet"
           }
          ],
          "choropleth": [
           {
            "colorbar": {
             "outlinewidth": 0,
             "ticks": ""
            },
            "type": "choropleth"
           }
          ],
          "contour": [
           {
            "colorbar": {
             "outlinewidth": 0,
             "ticks": ""
            },
            "colorscale": [
             [
              0,
              "#0d0887"
             ],
             [
              0.1111111111111111,
              "#46039f"
             ],
             [
              0.2222222222222222,
              "#7201a8"
             ],
             [
              0.3333333333333333,
              "#9c179e"
             ],
             [
              0.4444444444444444,
              "#bd3786"
             ],
             [
              0.5555555555555556,
              "#d8576b"
             ],
             [
              0.6666666666666666,
              "#ed7953"
             ],
             [
              0.7777777777777778,
              "#fb9f3a"
             ],
             [
              0.8888888888888888,
              "#fdca26"
             ],
             [
              1,
              "#f0f921"
             ]
            ],
            "type": "contour"
           }
          ],
          "contourcarpet": [
           {
            "colorbar": {
             "outlinewidth": 0,
             "ticks": ""
            },
            "type": "contourcarpet"
           }
          ],
          "heatmap": [
           {
            "colorbar": {
             "outlinewidth": 0,
             "ticks": ""
            },
            "colorscale": [
             [
              0,
              "#0d0887"
             ],
             [
              0.1111111111111111,
              "#46039f"
             ],
             [
              0.2222222222222222,
              "#7201a8"
             ],
             [
              0.3333333333333333,
              "#9c179e"
             ],
             [
              0.4444444444444444,
              "#bd3786"
             ],
             [
              0.5555555555555556,
              "#d8576b"
             ],
             [
              0.6666666666666666,
              "#ed7953"
             ],
             [
              0.7777777777777778,
              "#fb9f3a"
             ],
             [
              0.8888888888888888,
              "#fdca26"
             ],
             [
              1,
              "#f0f921"
             ]
            ],
            "type": "heatmap"
           }
          ],
          "heatmapgl": [
           {
            "colorbar": {
             "outlinewidth": 0,
             "ticks": ""
            },
            "colorscale": [
             [
              0,
              "#0d0887"
             ],
             [
              0.1111111111111111,
              "#46039f"
             ],
             [
              0.2222222222222222,
              "#7201a8"
             ],
             [
              0.3333333333333333,
              "#9c179e"
             ],
             [
              0.4444444444444444,
              "#bd3786"
             ],
             [
              0.5555555555555556,
              "#d8576b"
             ],
             [
              0.6666666666666666,
              "#ed7953"
             ],
             [
              0.7777777777777778,
              "#fb9f3a"
             ],
             [
              0.8888888888888888,
              "#fdca26"
             ],
             [
              1,
              "#f0f921"
             ]
            ],
            "type": "heatmapgl"
           }
          ],
          "histogram": [
           {
            "marker": {
             "colorbar": {
              "outlinewidth": 0,
              "ticks": ""
             }
            },
            "type": "histogram"
           }
          ],
          "histogram2d": [
           {
            "colorbar": {
             "outlinewidth": 0,
             "ticks": ""
            },
            "colorscale": [
             [
              0,
              "#0d0887"
             ],
             [
              0.1111111111111111,
              "#46039f"
             ],
             [
              0.2222222222222222,
              "#7201a8"
             ],
             [
              0.3333333333333333,
              "#9c179e"
             ],
             [
              0.4444444444444444,
              "#bd3786"
             ],
             [
              0.5555555555555556,
              "#d8576b"
             ],
             [
              0.6666666666666666,
              "#ed7953"
             ],
             [
              0.7777777777777778,
              "#fb9f3a"
             ],
             [
              0.8888888888888888,
              "#fdca26"
             ],
             [
              1,
              "#f0f921"
             ]
            ],
            "type": "histogram2d"
           }
          ],
          "histogram2dcontour": [
           {
            "colorbar": {
             "outlinewidth": 0,
             "ticks": ""
            },
            "colorscale": [
             [
              0,
              "#0d0887"
             ],
             [
              0.1111111111111111,
              "#46039f"
             ],
             [
              0.2222222222222222,
              "#7201a8"
             ],
             [
              0.3333333333333333,
              "#9c179e"
             ],
             [
              0.4444444444444444,
              "#bd3786"
             ],
             [
              0.5555555555555556,
              "#d8576b"
             ],
             [
              0.6666666666666666,
              "#ed7953"
             ],
             [
              0.7777777777777778,
              "#fb9f3a"
             ],
             [
              0.8888888888888888,
              "#fdca26"
             ],
             [
              1,
              "#f0f921"
             ]
            ],
            "type": "histogram2dcontour"
           }
          ],
          "mesh3d": [
           {
            "colorbar": {
             "outlinewidth": 0,
             "ticks": ""
            },
            "type": "mesh3d"
           }
          ],
          "parcoords": [
           {
            "line": {
             "colorbar": {
              "outlinewidth": 0,
              "ticks": ""
             }
            },
            "type": "parcoords"
           }
          ],
          "pie": [
           {
            "automargin": true,
            "type": "pie"
           }
          ],
          "scatter": [
           {
            "marker": {
             "colorbar": {
              "outlinewidth": 0,
              "ticks": ""
             }
            },
            "type": "scatter"
           }
          ],
          "scatter3d": [
           {
            "line": {
             "colorbar": {
              "outlinewidth": 0,
              "ticks": ""
             }
            },
            "marker": {
             "colorbar": {
              "outlinewidth": 0,
              "ticks": ""
             }
            },
            "type": "scatter3d"
           }
          ],
          "scattercarpet": [
           {
            "marker": {
             "colorbar": {
              "outlinewidth": 0,
              "ticks": ""
             }
            },
            "type": "scattercarpet"
           }
          ],
          "scattergeo": [
           {
            "marker": {
             "colorbar": {
              "outlinewidth": 0,
              "ticks": ""
             }
            },
            "type": "scattergeo"
           }
          ],
          "scattergl": [
           {
            "marker": {
             "colorbar": {
              "outlinewidth": 0,
              "ticks": ""
             }
            },
            "type": "scattergl"
           }
          ],
          "scattermapbox": [
           {
            "marker": {
             "colorbar": {
              "outlinewidth": 0,
              "ticks": ""
             }
            },
            "type": "scattermapbox"
           }
          ],
          "scatterpolar": [
           {
            "marker": {
             "colorbar": {
              "outlinewidth": 0,
              "ticks": ""
             }
            },
            "type": "scatterpolar"
           }
          ],
          "scatterpolargl": [
           {
            "marker": {
             "colorbar": {
              "outlinewidth": 0,
              "ticks": ""
             }
            },
            "type": "scatterpolargl"
           }
          ],
          "scatterternary": [
           {
            "marker": {
             "colorbar": {
              "outlinewidth": 0,
              "ticks": ""
             }
            },
            "type": "scatterternary"
           }
          ],
          "surface": [
           {
            "colorbar": {
             "outlinewidth": 0,
             "ticks": ""
            },
            "colorscale": [
             [
              0,
              "#0d0887"
             ],
             [
              0.1111111111111111,
              "#46039f"
             ],
             [
              0.2222222222222222,
              "#7201a8"
             ],
             [
              0.3333333333333333,
              "#9c179e"
             ],
             [
              0.4444444444444444,
              "#bd3786"
             ],
             [
              0.5555555555555556,
              "#d8576b"
             ],
             [
              0.6666666666666666,
              "#ed7953"
             ],
             [
              0.7777777777777778,
              "#fb9f3a"
             ],
             [
              0.8888888888888888,
              "#fdca26"
             ],
             [
              1,
              "#f0f921"
             ]
            ],
            "type": "surface"
           }
          ],
          "table": [
           {
            "cells": {
             "fill": {
              "color": "#EBF0F8"
             },
             "line": {
              "color": "white"
             }
            },
            "header": {
             "fill": {
              "color": "#C8D4E3"
             },
             "line": {
              "color": "white"
             }
            },
            "type": "table"
           }
          ]
         },
         "layout": {
          "annotationdefaults": {
           "arrowcolor": "#2a3f5f",
           "arrowhead": 0,
           "arrowwidth": 1
          },
          "autotypenumbers": "strict",
          "coloraxis": {
           "colorbar": {
            "outlinewidth": 0,
            "ticks": ""
           }
          },
          "colorscale": {
           "diverging": [
            [
             0,
             "#8e0152"
            ],
            [
             0.1,
             "#c51b7d"
            ],
            [
             0.2,
             "#de77ae"
            ],
            [
             0.3,
             "#f1b6da"
            ],
            [
             0.4,
             "#fde0ef"
            ],
            [
             0.5,
             "#f7f7f7"
            ],
            [
             0.6,
             "#e6f5d0"
            ],
            [
             0.7,
             "#b8e186"
            ],
            [
             0.8,
             "#7fbc41"
            ],
            [
             0.9,
             "#4d9221"
            ],
            [
             1,
             "#276419"
            ]
           ],
           "sequential": [
            [
             0,
             "#0d0887"
            ],
            [
             0.1111111111111111,
             "#46039f"
            ],
            [
             0.2222222222222222,
             "#7201a8"
            ],
            [
             0.3333333333333333,
             "#9c179e"
            ],
            [
             0.4444444444444444,
             "#bd3786"
            ],
            [
             0.5555555555555556,
             "#d8576b"
            ],
            [
             0.6666666666666666,
             "#ed7953"
            ],
            [
             0.7777777777777778,
             "#fb9f3a"
            ],
            [
             0.8888888888888888,
             "#fdca26"
            ],
            [
             1,
             "#f0f921"
            ]
           ],
           "sequentialminus": [
            [
             0,
             "#0d0887"
            ],
            [
             0.1111111111111111,
             "#46039f"
            ],
            [
             0.2222222222222222,
             "#7201a8"
            ],
            [
             0.3333333333333333,
             "#9c179e"
            ],
            [
             0.4444444444444444,
             "#bd3786"
            ],
            [
             0.5555555555555556,
             "#d8576b"
            ],
            [
             0.6666666666666666,
             "#ed7953"
            ],
            [
             0.7777777777777778,
             "#fb9f3a"
            ],
            [
             0.8888888888888888,
             "#fdca26"
            ],
            [
             1,
             "#f0f921"
            ]
           ]
          },
          "colorway": [
           "#636efa",
           "#EF553B",
           "#00cc96",
           "#ab63fa",
           "#FFA15A",
           "#19d3f3",
           "#FF6692",
           "#B6E880",
           "#FF97FF",
           "#FECB52"
          ],
          "font": {
           "color": "#2a3f5f"
          },
          "geo": {
           "bgcolor": "white",
           "lakecolor": "white",
           "landcolor": "#E5ECF6",
           "showlakes": true,
           "showland": true,
           "subunitcolor": "white"
          },
          "hoverlabel": {
           "align": "left"
          },
          "hovermode": "closest",
          "mapbox": {
           "style": "light"
          },
          "paper_bgcolor": "white",
          "plot_bgcolor": "#E5ECF6",
          "polar": {
           "angularaxis": {
            "gridcolor": "white",
            "linecolor": "white",
            "ticks": ""
           },
           "bgcolor": "#E5ECF6",
           "radialaxis": {
            "gridcolor": "white",
            "linecolor": "white",
            "ticks": ""
           }
          },
          "scene": {
           "xaxis": {
            "backgroundcolor": "#E5ECF6",
            "gridcolor": "white",
            "gridwidth": 2,
            "linecolor": "white",
            "showbackground": true,
            "ticks": "",
            "zerolinecolor": "white"
           },
           "yaxis": {
            "backgroundcolor": "#E5ECF6",
            "gridcolor": "white",
            "gridwidth": 2,
            "linecolor": "white",
            "showbackground": true,
            "ticks": "",
            "zerolinecolor": "white"
           },
           "zaxis": {
            "backgroundcolor": "#E5ECF6",
            "gridcolor": "white",
            "gridwidth": 2,
            "linecolor": "white",
            "showbackground": true,
            "ticks": "",
            "zerolinecolor": "white"
           }
          },
          "shapedefaults": {
           "line": {
            "color": "#2a3f5f"
           }
          },
          "ternary": {
           "aaxis": {
            "gridcolor": "white",
            "linecolor": "white",
            "ticks": ""
           },
           "baxis": {
            "gridcolor": "white",
            "linecolor": "white",
            "ticks": ""
           },
           "bgcolor": "#E5ECF6",
           "caxis": {
            "gridcolor": "white",
            "linecolor": "white",
            "ticks": ""
           }
          },
          "title": {
           "x": 0.05
          },
          "xaxis": {
           "automargin": true,
           "gridcolor": "white",
           "linecolor": "white",
           "ticks": "",
           "title": {
            "standoff": 15
           },
           "zerolinecolor": "white",
           "zerolinewidth": 2
          },
          "yaxis": {
           "automargin": true,
           "gridcolor": "white",
           "linecolor": "white",
           "ticks": "",
           "title": {
            "standoff": 15
           },
           "zerolinecolor": "white",
           "zerolinewidth": 2
          }
         }
        },
        "title": {
         "text": "Enrollment for each School in 2017-2018"
        },
        "width": 900,
        "xaxis": {
         "anchor": "y",
         "domain": [
          0,
          1
         ],
         "title": {
          "text": "Building_Name"
         }
        },
        "yaxis": {
         "anchor": "x",
         "domain": [
          0,
          1
         ],
         "title": {
          "text": "Enrollment"
         }
        }
       }
      },
      "text/html": [
       "<div>                            <div id=\"8e273195-196d-42f3-84f5-f866d1240b37\" class=\"plotly-graph-div\" style=\"height:800px; width:900px;\"></div>            <script type=\"text/javascript\">                require([\"plotly\"], function(Plotly) {                    window.PLOTLYENV=window.PLOTLYENV || {};                                    if (document.getElementById(\"8e273195-196d-42f3-84f5-f866d1240b37\")) {                    Plotly.newPlot(                        \"8e273195-196d-42f3-84f5-f866d1240b37\",                        [{\"alignmentgroup\": \"True\", \"hovertemplate\": \"Building_Name=%{x}<br>Enrollment=%{marker.color}<extra></extra>\", \"legendgroup\": \"\", \"marker\": {\"color\": [443.0, 418.0, 547.0, 441.0, 396.0, 322.0, 209.0, 513.0, 615.0, 330.0, 395.0, 301.0, 318.0, 456.0, 408.0, 326.0, 345.0, 590.0, 331.0, 247.0, 325.0, 403.0, 415.0, 237.0, 346.0, 380.0, 361.0, 387.0, 246.0, 334.0, 406.0, 490.0, 278.0, 262.0, 236.0, 298.0, 714.0, 295.0, 149.0, 316.0, 222.0, 403.0, 583.0, 427.0, 256.0, 341.0, 388.0, 379.0, 203.0, 311.0, 265.0, 428.0, 259.0, 256.0, 174.0, 344.0, 457.0, 389.0, 406.0, 377.0, 180.0, 191.0, 170.0, 135.0, 128.0, 56.0, 98.0, 95.0, 48.0, 265.0, 956.0, 241.0, 550.0, 303.0, 327.0, 319.0, 435.0, 243.0, 312.0, 311.0, 639.0, 420.0, 488.0, 202.0, 402.0, 273.0, 525.0, 491.0, 289.0, 480.0, 291.0, 383.0, 491.0, 365.0, 493.0, 489.0, 397.0, 829.0, 544.0, 192.0, 423.0, 406.0, 289.0, 478.0, 267.0, 271.0, 483.0, 211.0, 348.0, 320.0, 186.0, 528.0, 752.0, 229.0, 473.0, 430.0, 335.0, 173.0, 356.0, 247.0, 410.0, 440.0, 401.0], \"coloraxis\": \"coloraxis\"}, \"name\": \"\", \"offsetgroup\": \"\", \"orientation\": \"v\", \"showlegend\": false, \"textposition\": \"auto\", \"type\": \"bar\", \"x\": [\"Adlai Stevenson School\", \"Menlo Park Academy\", \"Almira\", \"Andrew J Rickoff\", \"Anton Grdina\", \"Cleveland Entrepreneurship Preparatory School\", \"Promise Academy\", \"Artemus Ward\", \"Benjamin Franklin\", \"Bolton\", \"Buhrer\", \"Case\", \"Alfred Benesch\", \"Charles A Mooney School\", \"Charles Dickens School\", \"Charles W Eliot  School\", \"Clara E Westropp School\", \"Clark School\", \"Collinwood High School\", \"Daniel E Morgan School\", \"Denison\", \"Cleveland School of Arts Lower Campus\", \"Memorial School\", \"East Clark\", \"Douglas MacArthur\", \"Ginn Academy\", \"East Technical High School\", \"MC^2 STEM High School\", \"Design Lab @ Health Careers\", \"Euclid Park Elementary School\", \"Village Preparatory School\", \"Northeast Ohio College Preparatory School\", \"Cleveland College Preparatory School\", \"Citizens Leadership Academy\", \"Near West Intergenerational School\", \"Entrepreneurship Preparatory School - Woodland Hills Campus\", \"Campus International School\", \"New Technology West\", \"New Technology HS@East Tech\", \"Facing History High School@Charles Mooney\", \"Fullerton School\", \"Citizens Academy East\", \"Garfield Elementary School\", \"Village Preparatory School:: Woodland Hills Campus\", \"Stepstone Academy\", \"George Washington Carver\", \"Glenville High School\", \"H Barbara Booker Elementary School\", \"Lakeshore Intergenerational School\", \"Cleveland High School for the Digital Arts\", \"PACT @ JFK\", \"Bard Early College Cleveland\", \"E3agle Academy\", \"Hannah Gibbons-Nottingham Elementary School\", \"Stonebrook Montessori\", \"Citizens Academy Southeast\", \"Harvey Rice Elementary School\", \"John Marshall School of Engineering\", \"John Marshall School of Business and Civic Leadership\", \"John Marshall School of Information Technology\", \"Village Preparatory School Willard\", \"Lincoln West School Of Global Studies\", \"Lincoln West School of Science & Health\", \"Rhodes Schools of Environmental Studies\", \"Rhodes College and Career Academy\", \"Bard High Early College Cleveland East Campus\", \"John Adams College & Career Academy\", \"Campus International High School\", \"Davis Aerospace & Maritime High School\", \"Iowa-Maple Elementary School\", \"James Ford Rhodes High School\", \"Jane Addams Business Careers High School\", \"John Adams High School\", \"Cleveland Early College High\", \"Cleveland School of Architecture & Design\", \"Louis Agassiz School\", \"Franklin D. Roosevelt\", \"Louisa May Alcott Elementary School\", \"Mary B Martin School\", \"Mary M Bethune\", \"Max S Hayes High School\", \"Miles School\", \"Miles Park School\", \"Michael R. White\", \"Mound Elementary School\", \"The School of One\", \"Nathan Hale School\", \"Newton D Baker School\", \"Oliver H Perry Elementary School\", \"Orchard School\", \"Patrick Henry School\", \"Paul L Dunbar Elementary School\", \"Riverside School\", \"Robert H Jamison School\", \"Robinson G Jones Elementary School\", \"Scranton School\", \"Sunbeam\", \"Thomas Jefferson School\", \"Tremont Montessori School\", \"Valley View Elementary School\", \"William C Bryant Elementary School\", \"Wade Park\", \"Walton School\", \"Warner Girls Leadership Academy\", \"Washington Park\", \"Waverly Elementary School\", \"Wilbur Wright School\", \"Willow School\", \"Willson School\", \"Lincoln-West High School\", \"Whitney Young School\", \"Luis Munoz Marin School\", \"Joseph M Gallagher School\", \"Garrett Morgan Schl Of Science School\", \"Cleveland School Of The Arts High School\", \"Marion C Seltzer Elementary School\", \"Marion-Sterling Elementary School\", \"Kenneth W Clement\", \"Martin Luther King Jr. Campus\", \"Intergenerational School, The\", \"Citizens Academy\", \"Horizon Science Acad Cleveland\", \"Cleveland School of Science & Medicine\"], \"xaxis\": \"x\", \"y\": [443.0, 418.0, 547.0, 441.0, 396.0, 322.0, 209.0, 513.0, 615.0, 330.0, 395.0, 301.0, 318.0, 456.0, 408.0, 326.0, 345.0, 590.0, 331.0, 247.0, 325.0, 403.0, 415.0, 237.0, 346.0, 380.0, 361.0, 387.0, 246.0, 334.0, 406.0, 490.0, 278.0, 262.0, 236.0, 298.0, 714.0, 295.0, 149.0, 316.0, 222.0, 403.0, 583.0, 427.0, 256.0, 341.0, 388.0, 379.0, 203.0, 311.0, 265.0, 428.0, 259.0, 256.0, 174.0, 344.0, 457.0, 389.0, 406.0, 377.0, 180.0, 191.0, 170.0, 135.0, 128.0, 56.0, 98.0, 95.0, 48.0, 265.0, 956.0, 241.0, 550.0, 303.0, 327.0, 319.0, 435.0, 243.0, 312.0, 311.0, 639.0, 420.0, 488.0, 202.0, 402.0, 273.0, 525.0, 491.0, 289.0, 480.0, 291.0, 383.0, 491.0, 365.0, 493.0, 489.0, 397.0, 829.0, 544.0, 192.0, 423.0, 406.0, 289.0, 478.0, 267.0, 271.0, 483.0, 211.0, 348.0, 320.0, 186.0, 528.0, 752.0, 229.0, 473.0, 430.0, 335.0, 173.0, 356.0, 247.0, 410.0, 440.0, 401.0], \"yaxis\": \"y\"}],                        {\"barmode\": \"relative\", \"coloraxis\": {\"colorbar\": {\"title\": {\"text\": \"Enrollment\"}}, \"colorscale\": [[0.0, \"#0d0887\"], [0.1111111111111111, \"#46039f\"], [0.2222222222222222, \"#7201a8\"], [0.3333333333333333, \"#9c179e\"], [0.4444444444444444, \"#bd3786\"], [0.5555555555555556, \"#d8576b\"], [0.6666666666666666, \"#ed7953\"], [0.7777777777777778, \"#fb9f3a\"], [0.8888888888888888, \"#fdca26\"], [1.0, \"#f0f921\"]]}, \"height\": 800, \"legend\": {\"tracegroupgap\": 0}, \"template\": {\"data\": {\"bar\": [{\"error_x\": {\"color\": \"#2a3f5f\"}, \"error_y\": {\"color\": \"#2a3f5f\"}, \"marker\": {\"line\": {\"color\": \"#E5ECF6\", \"width\": 0.5}}, \"type\": \"bar\"}], \"barpolar\": [{\"marker\": {\"line\": {\"color\": \"#E5ECF6\", \"width\": 0.5}}, \"type\": \"barpolar\"}], \"carpet\": [{\"aaxis\": {\"endlinecolor\": \"#2a3f5f\", \"gridcolor\": \"white\", \"linecolor\": \"white\", \"minorgridcolor\": \"white\", \"startlinecolor\": \"#2a3f5f\"}, \"baxis\": {\"endlinecolor\": \"#2a3f5f\", \"gridcolor\": \"white\", \"linecolor\": \"white\", \"minorgridcolor\": \"white\", \"startlinecolor\": \"#2a3f5f\"}, \"type\": \"carpet\"}], \"choropleth\": [{\"colorbar\": {\"outlinewidth\": 0, \"ticks\": \"\"}, \"type\": \"choropleth\"}], \"contour\": [{\"colorbar\": {\"outlinewidth\": 0, \"ticks\": \"\"}, \"colorscale\": [[0.0, \"#0d0887\"], [0.1111111111111111, \"#46039f\"], [0.2222222222222222, \"#7201a8\"], [0.3333333333333333, \"#9c179e\"], [0.4444444444444444, \"#bd3786\"], [0.5555555555555556, \"#d8576b\"], [0.6666666666666666, \"#ed7953\"], [0.7777777777777778, \"#fb9f3a\"], [0.8888888888888888, \"#fdca26\"], [1.0, \"#f0f921\"]], \"type\": \"contour\"}], \"contourcarpet\": [{\"colorbar\": {\"outlinewidth\": 0, \"ticks\": \"\"}, \"type\": \"contourcarpet\"}], \"heatmap\": [{\"colorbar\": {\"outlinewidth\": 0, \"ticks\": \"\"}, \"colorscale\": [[0.0, \"#0d0887\"], [0.1111111111111111, \"#46039f\"], [0.2222222222222222, \"#7201a8\"], [0.3333333333333333, \"#9c179e\"], [0.4444444444444444, \"#bd3786\"], [0.5555555555555556, \"#d8576b\"], [0.6666666666666666, \"#ed7953\"], [0.7777777777777778, \"#fb9f3a\"], [0.8888888888888888, \"#fdca26\"], [1.0, \"#f0f921\"]], \"type\": \"heatmap\"}], \"heatmapgl\": [{\"colorbar\": {\"outlinewidth\": 0, \"ticks\": \"\"}, \"colorscale\": [[0.0, \"#0d0887\"], [0.1111111111111111, \"#46039f\"], [0.2222222222222222, \"#7201a8\"], [0.3333333333333333, \"#9c179e\"], [0.4444444444444444, \"#bd3786\"], [0.5555555555555556, \"#d8576b\"], [0.6666666666666666, \"#ed7953\"], [0.7777777777777778, \"#fb9f3a\"], [0.8888888888888888, \"#fdca26\"], [1.0, \"#f0f921\"]], \"type\": \"heatmapgl\"}], \"histogram\": [{\"marker\": {\"colorbar\": {\"outlinewidth\": 0, \"ticks\": \"\"}}, \"type\": \"histogram\"}], \"histogram2d\": [{\"colorbar\": {\"outlinewidth\": 0, \"ticks\": \"\"}, \"colorscale\": [[0.0, \"#0d0887\"], [0.1111111111111111, \"#46039f\"], [0.2222222222222222, \"#7201a8\"], [0.3333333333333333, \"#9c179e\"], [0.4444444444444444, \"#bd3786\"], [0.5555555555555556, \"#d8576b\"], [0.6666666666666666, \"#ed7953\"], [0.7777777777777778, \"#fb9f3a\"], [0.8888888888888888, \"#fdca26\"], [1.0, \"#f0f921\"]], \"type\": \"histogram2d\"}], \"histogram2dcontour\": [{\"colorbar\": {\"outlinewidth\": 0, \"ticks\": \"\"}, \"colorscale\": [[0.0, \"#0d0887\"], [0.1111111111111111, \"#46039f\"], [0.2222222222222222, \"#7201a8\"], [0.3333333333333333, \"#9c179e\"], [0.4444444444444444, \"#bd3786\"], [0.5555555555555556, \"#d8576b\"], [0.6666666666666666, \"#ed7953\"], [0.7777777777777778, \"#fb9f3a\"], [0.8888888888888888, \"#fdca26\"], [1.0, \"#f0f921\"]], \"type\": \"histogram2dcontour\"}], \"mesh3d\": [{\"colorbar\": {\"outlinewidth\": 0, \"ticks\": \"\"}, \"type\": \"mesh3d\"}], \"parcoords\": [{\"line\": {\"colorbar\": {\"outlinewidth\": 0, \"ticks\": \"\"}}, \"type\": \"parcoords\"}], \"pie\": [{\"automargin\": true, \"type\": \"pie\"}], \"scatter\": [{\"marker\": {\"colorbar\": {\"outlinewidth\": 0, \"ticks\": \"\"}}, \"type\": \"scatter\"}], \"scatter3d\": [{\"line\": {\"colorbar\": {\"outlinewidth\": 0, \"ticks\": \"\"}}, \"marker\": {\"colorbar\": {\"outlinewidth\": 0, \"ticks\": \"\"}}, \"type\": \"scatter3d\"}], \"scattercarpet\": [{\"marker\": {\"colorbar\": {\"outlinewidth\": 0, \"ticks\": \"\"}}, \"type\": \"scattercarpet\"}], \"scattergeo\": [{\"marker\": {\"colorbar\": {\"outlinewidth\": 0, \"ticks\": \"\"}}, \"type\": \"scattergeo\"}], \"scattergl\": [{\"marker\": {\"colorbar\": {\"outlinewidth\": 0, \"ticks\": \"\"}}, \"type\": \"scattergl\"}], \"scattermapbox\": [{\"marker\": {\"colorbar\": {\"outlinewidth\": 0, \"ticks\": \"\"}}, \"type\": \"scattermapbox\"}], \"scatterpolar\": [{\"marker\": {\"colorbar\": {\"outlinewidth\": 0, \"ticks\": \"\"}}, \"type\": \"scatterpolar\"}], \"scatterpolargl\": [{\"marker\": {\"colorbar\": {\"outlinewidth\": 0, \"ticks\": \"\"}}, \"type\": \"scatterpolargl\"}], \"scatterternary\": [{\"marker\": {\"colorbar\": {\"outlinewidth\": 0, \"ticks\": \"\"}}, \"type\": \"scatterternary\"}], \"surface\": [{\"colorbar\": {\"outlinewidth\": 0, \"ticks\": \"\"}, \"colorscale\": [[0.0, \"#0d0887\"], [0.1111111111111111, \"#46039f\"], [0.2222222222222222, \"#7201a8\"], [0.3333333333333333, \"#9c179e\"], [0.4444444444444444, \"#bd3786\"], [0.5555555555555556, \"#d8576b\"], [0.6666666666666666, \"#ed7953\"], [0.7777777777777778, \"#fb9f3a\"], [0.8888888888888888, \"#fdca26\"], [1.0, \"#f0f921\"]], \"type\": \"surface\"}], \"table\": [{\"cells\": {\"fill\": {\"color\": \"#EBF0F8\"}, \"line\": {\"color\": \"white\"}}, \"header\": {\"fill\": {\"color\": \"#C8D4E3\"}, \"line\": {\"color\": \"white\"}}, \"type\": \"table\"}]}, \"layout\": {\"annotationdefaults\": {\"arrowcolor\": \"#2a3f5f\", \"arrowhead\": 0, \"arrowwidth\": 1}, \"autotypenumbers\": \"strict\", \"coloraxis\": {\"colorbar\": {\"outlinewidth\": 0, \"ticks\": \"\"}}, \"colorscale\": {\"diverging\": [[0, \"#8e0152\"], [0.1, \"#c51b7d\"], [0.2, \"#de77ae\"], [0.3, \"#f1b6da\"], [0.4, \"#fde0ef\"], [0.5, \"#f7f7f7\"], [0.6, \"#e6f5d0\"], [0.7, \"#b8e186\"], [0.8, \"#7fbc41\"], [0.9, \"#4d9221\"], [1, \"#276419\"]], \"sequential\": [[0.0, \"#0d0887\"], [0.1111111111111111, \"#46039f\"], [0.2222222222222222, \"#7201a8\"], [0.3333333333333333, \"#9c179e\"], [0.4444444444444444, \"#bd3786\"], [0.5555555555555556, \"#d8576b\"], [0.6666666666666666, \"#ed7953\"], [0.7777777777777778, \"#fb9f3a\"], [0.8888888888888888, \"#fdca26\"], [1.0, \"#f0f921\"]], \"sequentialminus\": [[0.0, \"#0d0887\"], [0.1111111111111111, \"#46039f\"], [0.2222222222222222, \"#7201a8\"], [0.3333333333333333, \"#9c179e\"], [0.4444444444444444, \"#bd3786\"], [0.5555555555555556, \"#d8576b\"], [0.6666666666666666, \"#ed7953\"], [0.7777777777777778, \"#fb9f3a\"], [0.8888888888888888, \"#fdca26\"], [1.0, \"#f0f921\"]]}, \"colorway\": [\"#636efa\", \"#EF553B\", \"#00cc96\", \"#ab63fa\", \"#FFA15A\", \"#19d3f3\", \"#FF6692\", \"#B6E880\", \"#FF97FF\", \"#FECB52\"], \"font\": {\"color\": \"#2a3f5f\"}, \"geo\": {\"bgcolor\": \"white\", \"lakecolor\": \"white\", \"landcolor\": \"#E5ECF6\", \"showlakes\": true, \"showland\": true, \"subunitcolor\": \"white\"}, \"hoverlabel\": {\"align\": \"left\"}, \"hovermode\": \"closest\", \"mapbox\": {\"style\": \"light\"}, \"paper_bgcolor\": \"white\", \"plot_bgcolor\": \"#E5ECF6\", \"polar\": {\"angularaxis\": {\"gridcolor\": \"white\", \"linecolor\": \"white\", \"ticks\": \"\"}, \"bgcolor\": \"#E5ECF6\", \"radialaxis\": {\"gridcolor\": \"white\", \"linecolor\": \"white\", \"ticks\": \"\"}}, \"scene\": {\"xaxis\": {\"backgroundcolor\": \"#E5ECF6\", \"gridcolor\": \"white\", \"gridwidth\": 2, \"linecolor\": \"white\", \"showbackground\": true, \"ticks\": \"\", \"zerolinecolor\": \"white\"}, \"yaxis\": {\"backgroundcolor\": \"#E5ECF6\", \"gridcolor\": \"white\", \"gridwidth\": 2, \"linecolor\": \"white\", \"showbackground\": true, \"ticks\": \"\", \"zerolinecolor\": \"white\"}, \"zaxis\": {\"backgroundcolor\": \"#E5ECF6\", \"gridcolor\": \"white\", \"gridwidth\": 2, \"linecolor\": \"white\", \"showbackground\": true, \"ticks\": \"\", \"zerolinecolor\": \"white\"}}, \"shapedefaults\": {\"line\": {\"color\": \"#2a3f5f\"}}, \"ternary\": {\"aaxis\": {\"gridcolor\": \"white\", \"linecolor\": \"white\", \"ticks\": \"\"}, \"baxis\": {\"gridcolor\": \"white\", \"linecolor\": \"white\", \"ticks\": \"\"}, \"bgcolor\": \"#E5ECF6\", \"caxis\": {\"gridcolor\": \"white\", \"linecolor\": \"white\", \"ticks\": \"\"}}, \"title\": {\"x\": 0.05}, \"xaxis\": {\"automargin\": true, \"gridcolor\": \"white\", \"linecolor\": \"white\", \"ticks\": \"\", \"title\": {\"standoff\": 15}, \"zerolinecolor\": \"white\", \"zerolinewidth\": 2}, \"yaxis\": {\"automargin\": true, \"gridcolor\": \"white\", \"linecolor\": \"white\", \"ticks\": \"\", \"title\": {\"standoff\": 15}, \"zerolinecolor\": \"white\", \"zerolinewidth\": 2}}}, \"title\": {\"text\": \"Enrollment for each School in 2017-2018\"}, \"width\": 900, \"xaxis\": {\"anchor\": \"y\", \"domain\": [0.0, 1.0], \"title\": {\"text\": \"Building_Name\"}}, \"yaxis\": {\"anchor\": \"x\", \"domain\": [0.0, 1.0], \"title\": {\"text\": \"Enrollment\"}}},                        {\"responsive\": true}                    ).then(function(){\n",
       "                            \n",
       "var gd = document.getElementById('8e273195-196d-42f3-84f5-f866d1240b37');\n",
       "var x = new MutationObserver(function (mutations, observer) {{\n",
       "        var display = window.getComputedStyle(gd).display;\n",
       "        if (!display || display === 'none') {{\n",
       "            console.log([gd, 'removed!']);\n",
       "            Plotly.purge(gd);\n",
       "            observer.disconnect();\n",
       "        }}\n",
       "}});\n",
       "\n",
       "// Listen for the removal of the full notebook cells\n",
       "var notebookContainer = gd.closest('#notebook-container');\n",
       "if (notebookContainer) {{\n",
       "    x.observe(notebookContainer, {childList: true});\n",
       "}}\n",
       "\n",
       "// Listen for the clearing of the current output cell\n",
       "var outputEl = gd.closest('.output');\n",
       "if (outputEl) {{\n",
       "    x.observe(outputEl, {childList: true});\n",
       "}}\n",
       "\n",
       "                        })                };                });            </script>        </div>"
      ]
     },
     "metadata": {},
     "output_type": "display_data"
    }
   ],
   "source": [
    "# Filter data for the year 2015-2016\n",
    "df_2017_2018 = df_CMSD[df_CMSD['School_Year'] == '2017-2018']\n",
    "\n",
    "# Plot with Plotly Express\n",
    "fig = px.bar(\n",
    "    df_2017_2018,\n",
    "    x ='Building_Name', \n",
    "    y ='Enrollment',\n",
    "    color='Enrollment',\n",
    "    title='Enrollment for each School in 2017-2018',\n",
    "    labels={'Enrollment': 'Enrollment', 'School_Name': 'School Name'},\n",
    "    height=800,  \n",
    "    width=900,\n",
    ")\n",
    "\n",
    "# Show the plot\n",
    "fig.show()"
   ]
  },
  {
   "cell_type": "markdown",
   "metadata": {},
   "source": [
    "### Interactive plot for Enrollment distribution percentage over the year"
   ]
  },
  {
   "cell_type": "code",
   "execution_count": 147,
   "metadata": {},
   "outputs": [
    {
     "data": {
      "application/vnd.plotly.v1+json": {
       "config": {
        "plotlyServerURL": "https://plot.ly"
       },
       "data": [
        {
         "domain": {
          "x": [
           0,
           1
          ],
          "y": [
           0,
           1
          ]
         },
         "hovertemplate": "School_Year=%{label}<br>Enrollment=%{value}<extra></extra>",
         "labels": [
          "2015-2016",
          "2015-2016",
          "2015-2016",
          "2015-2016",
          "2015-2016",
          "2015-2016",
          "2015-2016",
          "2015-2016",
          "2015-2016",
          "2015-2016",
          "2015-2016",
          "2015-2016",
          "2015-2016",
          "2015-2016",
          "2015-2016",
          "2015-2016",
          "2015-2016",
          "2015-2016",
          "2015-2016",
          "2015-2016",
          "2015-2016",
          "2015-2016",
          "2015-2016",
          "2015-2016",
          "2015-2016",
          "2015-2016",
          "2015-2016",
          "2015-2016",
          "2015-2016",
          "2015-2016",
          "2015-2016",
          "2015-2016",
          "2015-2016",
          "2015-2016",
          "2015-2016",
          "2015-2016",
          "2015-2016",
          "2015-2016",
          "2015-2016",
          "2015-2016",
          "2015-2016",
          "2015-2016",
          "2015-2016",
          "2015-2016",
          "2015-2016",
          "2015-2016",
          "2015-2016",
          "2015-2016",
          "2015-2016",
          "2015-2016",
          "2015-2016",
          "2015-2016",
          "2015-2016",
          "2015-2016",
          "2015-2016",
          "2015-2016",
          "2015-2016",
          "2015-2016",
          "2015-2016",
          "2015-2016",
          "2015-2016",
          "2015-2016",
          "2015-2016",
          "2015-2016",
          "2015-2016",
          "2015-2016",
          "2015-2016",
          "2015-2016",
          "2015-2016",
          "2015-2016",
          "2015-2016",
          "2015-2016",
          "2015-2016",
          "2015-2016",
          "2015-2016",
          "2015-2016",
          "2015-2016",
          "2015-2016",
          "2015-2016",
          "2015-2016",
          "2015-2016",
          "2015-2016",
          "2015-2016",
          "2015-2016",
          "2015-2016",
          "2015-2016",
          "2015-2016",
          "2015-2016",
          "2015-2016",
          "2015-2016",
          "2015-2016",
          "2015-2016",
          "2015-2016",
          "2015-2016",
          "2015-2016",
          "2015-2016",
          "2015-2016",
          "2015-2016",
          "2015-2016",
          "2015-2016",
          "2015-2016",
          "2015-2016",
          "2015-2016",
          "2015-2016",
          "2015-2016",
          "2015-2016",
          "2015-2016",
          "2015-2016",
          "2015-2016",
          "2015-2016",
          "2015-2016",
          "2015-2016",
          "2015-2016",
          "2015-2016",
          "2015-2016",
          "2015-2016",
          "2015-2016",
          "2016-2017",
          "2016-2017",
          "2016-2017",
          "2016-2017",
          "2016-2017",
          "2016-2017",
          "2016-2017",
          "2016-2017",
          "2016-2017",
          "2016-2017",
          "2016-2017",
          "2016-2017",
          "2016-2017",
          "2016-2017",
          "2016-2017",
          "2016-2017",
          "2016-2017",
          "2016-2017",
          "2016-2017",
          "2016-2017",
          "2016-2017",
          "2016-2017",
          "2016-2017",
          "2016-2017",
          "2016-2017",
          "2016-2017",
          "2016-2017",
          "2016-2017",
          "2016-2017",
          "2016-2017",
          "2016-2017",
          "2016-2017",
          "2016-2017",
          "2016-2017",
          "2016-2017",
          "2016-2017",
          "2016-2017",
          "2016-2017",
          "2016-2017",
          "2016-2017",
          "2016-2017",
          "2016-2017",
          "2016-2017",
          "2016-2017",
          "2016-2017",
          "2016-2017",
          "2016-2017",
          "2016-2017",
          "2016-2017",
          "2016-2017",
          "2016-2017",
          "2016-2017",
          "2016-2017",
          "2016-2017",
          "2016-2017",
          "2016-2017",
          "2016-2017",
          "2016-2017",
          "2016-2017",
          "2016-2017",
          "2016-2017",
          "2016-2017",
          "2016-2017",
          "2016-2017",
          "2016-2017",
          "2016-2017",
          "2016-2017",
          "2016-2017",
          "2016-2017",
          "2016-2017",
          "2016-2017",
          "2016-2017",
          "2016-2017",
          "2016-2017",
          "2016-2017",
          "2016-2017",
          "2016-2017",
          "2016-2017",
          "2016-2017",
          "2016-2017",
          "2016-2017",
          "2016-2017",
          "2016-2017",
          "2016-2017",
          "2016-2017",
          "2016-2017",
          "2016-2017",
          "2016-2017",
          "2016-2017",
          "2016-2017",
          "2016-2017",
          "2016-2017",
          "2016-2017",
          "2016-2017",
          "2016-2017",
          "2016-2017",
          "2016-2017",
          "2016-2017",
          "2016-2017",
          "2016-2017",
          "2016-2017",
          "2016-2017",
          "2016-2017",
          "2016-2017",
          "2016-2017",
          "2016-2017",
          "2016-2017",
          "2016-2017",
          "2016-2017",
          "2016-2017",
          "2016-2017",
          "2016-2017",
          "2016-2017",
          "2016-2017",
          "2016-2017",
          "2016-2017",
          "2017-2018",
          "2017-2018",
          "2017-2018",
          "2017-2018",
          "2017-2018",
          "2017-2018",
          "2017-2018",
          "2017-2018",
          "2017-2018",
          "2017-2018",
          "2017-2018",
          "2017-2018",
          "2017-2018",
          "2017-2018",
          "2017-2018",
          "2017-2018",
          "2017-2018",
          "2017-2018",
          "2017-2018",
          "2017-2018",
          "2017-2018",
          "2017-2018",
          "2017-2018",
          "2017-2018",
          "2017-2018",
          "2017-2018",
          "2017-2018",
          "2017-2018",
          "2017-2018",
          "2017-2018",
          "2017-2018",
          "2017-2018",
          "2017-2018",
          "2017-2018",
          "2017-2018",
          "2017-2018",
          "2017-2018",
          "2017-2018",
          "2017-2018",
          "2017-2018",
          "2017-2018",
          "2017-2018",
          "2017-2018",
          "2017-2018",
          "2017-2018",
          "2017-2018",
          "2017-2018",
          "2017-2018",
          "2017-2018",
          "2017-2018",
          "2017-2018",
          "2017-2018",
          "2017-2018",
          "2017-2018",
          "2017-2018",
          "2017-2018",
          "2017-2018",
          "2017-2018",
          "2017-2018",
          "2017-2018",
          "2017-2018",
          "2017-2018",
          "2017-2018",
          "2017-2018",
          "2017-2018",
          "2017-2018",
          "2017-2018",
          "2017-2018",
          "2017-2018",
          "2017-2018",
          "2017-2018",
          "2017-2018",
          "2017-2018",
          "2017-2018",
          "2017-2018",
          "2017-2018",
          "2017-2018",
          "2017-2018",
          "2017-2018",
          "2017-2018",
          "2017-2018",
          "2017-2018",
          "2017-2018",
          "2017-2018",
          "2017-2018",
          "2017-2018",
          "2017-2018",
          "2017-2018",
          "2017-2018",
          "2017-2018",
          "2017-2018",
          "2017-2018",
          "2017-2018",
          "2017-2018",
          "2017-2018",
          "2017-2018",
          "2017-2018",
          "2017-2018",
          "2017-2018",
          "2017-2018",
          "2017-2018",
          "2017-2018",
          "2017-2018",
          "2017-2018",
          "2017-2018",
          "2017-2018",
          "2017-2018",
          "2017-2018",
          "2017-2018",
          "2017-2018",
          "2017-2018",
          "2017-2018",
          "2017-2018",
          "2017-2018",
          "2017-2018",
          "2017-2018",
          "2017-2018",
          "2017-2018",
          "2017-2018",
          "2017-2018",
          "2017-2018",
          "2017-2018",
          "2017-2018",
          "2016-2017",
          "2016-2017",
          "2016-2017"
         ],
         "legendgroup": "",
         "name": "",
         "showlegend": true,
         "type": "pie",
         "values": [
          430,
          367,
          499,
          477,
          371,
          295,
          491,
          602,
          346,
          393,
          361,
          376,
          512,
          387,
          342,
          406,
          606,
          436,
          288,
          375,
          362,
          404,
          242,
          326,
          381,
          368,
          396,
          196,
          367,
          424,
          553,
          282,
          258,
          191,
          269,
          538,
          289,
          137,
          261,
          220,
          378,
          554,
          391,
          295,
          402,
          469,
          380,
          146,
          152,
          176,
          248,
          185,
          274,
          92,
          170,
          444,
          196,
          196,
          213,
          291,
          1252,
          338,
          833,
          319,
          281,
          621,
          326,
          335,
          445,
          258,
          346,
          280,
          650,
          255,
          418,
          513,
          258,
          398,
          316,
          505,
          400,
          275,
          445,
          361,
          334,
          519,
          375,
          477,
          434,
          380,
          720,
          585,
          205,
          407,
          399,
          239,
          425,
          282,
          189,
          166,
          380,
          259,
          368,
          717,
          239,
          588,
          741,
          252,
          584,
          360,
          318,
          200,
          434,
          250,
          446,
          85,
          382,
          445,
          405,
          491,
          457,
          361,
          311,
          514,
          652,
          318,
          391,
          331,
          348,
          499,
          408,
          315,
          413,
          598,
          370,
          268,
          343,
          338,
          429,
          271,
          340,
          407,
          365,
          406,
          228,
          344,
          406,
          554,
          275,
          271,
          212,
          287,
          604,
          298,
          146,
          308,
          213,
          579,
          418,
          294,
          384,
          405,
          356,
          177,
          241,
          245,
          339,
          208,
          266,
          151,
          475,
          260,
          298,
          294,
          68,
          95,
          125,
          285,
          1276,
          295,
          694,
          170,
          288,
          361,
          313,
          323,
          441,
          250,
          344,
          291,
          612,
          213,
          423,
          519,
          236,
          403,
          293,
          515,
          447,
          249,
          475,
          315,
          360,
          493,
          389,
          502,
          482,
          400,
          822,
          560,
          190,
          431,
          382,
          254,
          426,
          265,
          305,
          378,
          245,
          358,
          468,
          231,
          542,
          781,
          253,
          542,
          397,
          328,
          190,
          379,
          241,
          48,
          404,
          443,
          418,
          547,
          441,
          396,
          322,
          209,
          513,
          615,
          330,
          395,
          301,
          318,
          456,
          408,
          326,
          345,
          590,
          331,
          247,
          325,
          403,
          415,
          237,
          346,
          380,
          361,
          387,
          246,
          334,
          406,
          490,
          278,
          262,
          236,
          298,
          714,
          295,
          149,
          316,
          222,
          403,
          583,
          427,
          256,
          341,
          388,
          379,
          203,
          311,
          265,
          428,
          259,
          256,
          174,
          344,
          457,
          389,
          406,
          377,
          180,
          191,
          170,
          135,
          128,
          56,
          98,
          95,
          48,
          265,
          956,
          241,
          550,
          303,
          327,
          319,
          435,
          243,
          312,
          311,
          639,
          420,
          488,
          202,
          402,
          273,
          525,
          491,
          289,
          480,
          291,
          383,
          491,
          365,
          493,
          489,
          397,
          829,
          544,
          192,
          423,
          406,
          289,
          478,
          267,
          271,
          483,
          211,
          348,
          320,
          186,
          528,
          752,
          229,
          473,
          430,
          335,
          173,
          356,
          247,
          410,
          440,
          401,
          0,
          0,
          0
         ]
        }
       ],
       "layout": {
        "legend": {
         "tracegroupgap": 0
        },
        "margin": {
         "t": 60
        },
        "template": {
         "data": {
          "bar": [
           {
            "error_x": {
             "color": "#2a3f5f"
            },
            "error_y": {
             "color": "#2a3f5f"
            },
            "marker": {
             "line": {
              "color": "#E5ECF6",
              "width": 0.5
             }
            },
            "type": "bar"
           }
          ],
          "barpolar": [
           {
            "marker": {
             "line": {
              "color": "#E5ECF6",
              "width": 0.5
             }
            },
            "type": "barpolar"
           }
          ],
          "carpet": [
           {
            "aaxis": {
             "endlinecolor": "#2a3f5f",
             "gridcolor": "white",
             "linecolor": "white",
             "minorgridcolor": "white",
             "startlinecolor": "#2a3f5f"
            },
            "baxis": {
             "endlinecolor": "#2a3f5f",
             "gridcolor": "white",
             "linecolor": "white",
             "minorgridcolor": "white",
             "startlinecolor": "#2a3f5f"
            },
            "type": "carpet"
           }
          ],
          "choropleth": [
           {
            "colorbar": {
             "outlinewidth": 0,
             "ticks": ""
            },
            "type": "choropleth"
           }
          ],
          "contour": [
           {
            "colorbar": {
             "outlinewidth": 0,
             "ticks": ""
            },
            "colorscale": [
             [
              0,
              "#0d0887"
             ],
             [
              0.1111111111111111,
              "#46039f"
             ],
             [
              0.2222222222222222,
              "#7201a8"
             ],
             [
              0.3333333333333333,
              "#9c179e"
             ],
             [
              0.4444444444444444,
              "#bd3786"
             ],
             [
              0.5555555555555556,
              "#d8576b"
             ],
             [
              0.6666666666666666,
              "#ed7953"
             ],
             [
              0.7777777777777778,
              "#fb9f3a"
             ],
             [
              0.8888888888888888,
              "#fdca26"
             ],
             [
              1,
              "#f0f921"
             ]
            ],
            "type": "contour"
           }
          ],
          "contourcarpet": [
           {
            "colorbar": {
             "outlinewidth": 0,
             "ticks": ""
            },
            "type": "contourcarpet"
           }
          ],
          "heatmap": [
           {
            "colorbar": {
             "outlinewidth": 0,
             "ticks": ""
            },
            "colorscale": [
             [
              0,
              "#0d0887"
             ],
             [
              0.1111111111111111,
              "#46039f"
             ],
             [
              0.2222222222222222,
              "#7201a8"
             ],
             [
              0.3333333333333333,
              "#9c179e"
             ],
             [
              0.4444444444444444,
              "#bd3786"
             ],
             [
              0.5555555555555556,
              "#d8576b"
             ],
             [
              0.6666666666666666,
              "#ed7953"
             ],
             [
              0.7777777777777778,
              "#fb9f3a"
             ],
             [
              0.8888888888888888,
              "#fdca26"
             ],
             [
              1,
              "#f0f921"
             ]
            ],
            "type": "heatmap"
           }
          ],
          "heatmapgl": [
           {
            "colorbar": {
             "outlinewidth": 0,
             "ticks": ""
            },
            "colorscale": [
             [
              0,
              "#0d0887"
             ],
             [
              0.1111111111111111,
              "#46039f"
             ],
             [
              0.2222222222222222,
              "#7201a8"
             ],
             [
              0.3333333333333333,
              "#9c179e"
             ],
             [
              0.4444444444444444,
              "#bd3786"
             ],
             [
              0.5555555555555556,
              "#d8576b"
             ],
             [
              0.6666666666666666,
              "#ed7953"
             ],
             [
              0.7777777777777778,
              "#fb9f3a"
             ],
             [
              0.8888888888888888,
              "#fdca26"
             ],
             [
              1,
              "#f0f921"
             ]
            ],
            "type": "heatmapgl"
           }
          ],
          "histogram": [
           {
            "marker": {
             "colorbar": {
              "outlinewidth": 0,
              "ticks": ""
             }
            },
            "type": "histogram"
           }
          ],
          "histogram2d": [
           {
            "colorbar": {
             "outlinewidth": 0,
             "ticks": ""
            },
            "colorscale": [
             [
              0,
              "#0d0887"
             ],
             [
              0.1111111111111111,
              "#46039f"
             ],
             [
              0.2222222222222222,
              "#7201a8"
             ],
             [
              0.3333333333333333,
              "#9c179e"
             ],
             [
              0.4444444444444444,
              "#bd3786"
             ],
             [
              0.5555555555555556,
              "#d8576b"
             ],
             [
              0.6666666666666666,
              "#ed7953"
             ],
             [
              0.7777777777777778,
              "#fb9f3a"
             ],
             [
              0.8888888888888888,
              "#fdca26"
             ],
             [
              1,
              "#f0f921"
             ]
            ],
            "type": "histogram2d"
           }
          ],
          "histogram2dcontour": [
           {
            "colorbar": {
             "outlinewidth": 0,
             "ticks": ""
            },
            "colorscale": [
             [
              0,
              "#0d0887"
             ],
             [
              0.1111111111111111,
              "#46039f"
             ],
             [
              0.2222222222222222,
              "#7201a8"
             ],
             [
              0.3333333333333333,
              "#9c179e"
             ],
             [
              0.4444444444444444,
              "#bd3786"
             ],
             [
              0.5555555555555556,
              "#d8576b"
             ],
             [
              0.6666666666666666,
              "#ed7953"
             ],
             [
              0.7777777777777778,
              "#fb9f3a"
             ],
             [
              0.8888888888888888,
              "#fdca26"
             ],
             [
              1,
              "#f0f921"
             ]
            ],
            "type": "histogram2dcontour"
           }
          ],
          "mesh3d": [
           {
            "colorbar": {
             "outlinewidth": 0,
             "ticks": ""
            },
            "type": "mesh3d"
           }
          ],
          "parcoords": [
           {
            "line": {
             "colorbar": {
              "outlinewidth": 0,
              "ticks": ""
             }
            },
            "type": "parcoords"
           }
          ],
          "pie": [
           {
            "automargin": true,
            "type": "pie"
           }
          ],
          "scatter": [
           {
            "marker": {
             "colorbar": {
              "outlinewidth": 0,
              "ticks": ""
             }
            },
            "type": "scatter"
           }
          ],
          "scatter3d": [
           {
            "line": {
             "colorbar": {
              "outlinewidth": 0,
              "ticks": ""
             }
            },
            "marker": {
             "colorbar": {
              "outlinewidth": 0,
              "ticks": ""
             }
            },
            "type": "scatter3d"
           }
          ],
          "scattercarpet": [
           {
            "marker": {
             "colorbar": {
              "outlinewidth": 0,
              "ticks": ""
             }
            },
            "type": "scattercarpet"
           }
          ],
          "scattergeo": [
           {
            "marker": {
             "colorbar": {
              "outlinewidth": 0,
              "ticks": ""
             }
            },
            "type": "scattergeo"
           }
          ],
          "scattergl": [
           {
            "marker": {
             "colorbar": {
              "outlinewidth": 0,
              "ticks": ""
             }
            },
            "type": "scattergl"
           }
          ],
          "scattermapbox": [
           {
            "marker": {
             "colorbar": {
              "outlinewidth": 0,
              "ticks": ""
             }
            },
            "type": "scattermapbox"
           }
          ],
          "scatterpolar": [
           {
            "marker": {
             "colorbar": {
              "outlinewidth": 0,
              "ticks": ""
             }
            },
            "type": "scatterpolar"
           }
          ],
          "scatterpolargl": [
           {
            "marker": {
             "colorbar": {
              "outlinewidth": 0,
              "ticks": ""
             }
            },
            "type": "scatterpolargl"
           }
          ],
          "scatterternary": [
           {
            "marker": {
             "colorbar": {
              "outlinewidth": 0,
              "ticks": ""
             }
            },
            "type": "scatterternary"
           }
          ],
          "surface": [
           {
            "colorbar": {
             "outlinewidth": 0,
             "ticks": ""
            },
            "colorscale": [
             [
              0,
              "#0d0887"
             ],
             [
              0.1111111111111111,
              "#46039f"
             ],
             [
              0.2222222222222222,
              "#7201a8"
             ],
             [
              0.3333333333333333,
              "#9c179e"
             ],
             [
              0.4444444444444444,
              "#bd3786"
             ],
             [
              0.5555555555555556,
              "#d8576b"
             ],
             [
              0.6666666666666666,
              "#ed7953"
             ],
             [
              0.7777777777777778,
              "#fb9f3a"
             ],
             [
              0.8888888888888888,
              "#fdca26"
             ],
             [
              1,
              "#f0f921"
             ]
            ],
            "type": "surface"
           }
          ],
          "table": [
           {
            "cells": {
             "fill": {
              "color": "#EBF0F8"
             },
             "line": {
              "color": "white"
             }
            },
            "header": {
             "fill": {
              "color": "#C8D4E3"
             },
             "line": {
              "color": "white"
             }
            },
            "type": "table"
           }
          ]
         },
         "layout": {
          "annotationdefaults": {
           "arrowcolor": "#2a3f5f",
           "arrowhead": 0,
           "arrowwidth": 1
          },
          "autotypenumbers": "strict",
          "coloraxis": {
           "colorbar": {
            "outlinewidth": 0,
            "ticks": ""
           }
          },
          "colorscale": {
           "diverging": [
            [
             0,
             "#8e0152"
            ],
            [
             0.1,
             "#c51b7d"
            ],
            [
             0.2,
             "#de77ae"
            ],
            [
             0.3,
             "#f1b6da"
            ],
            [
             0.4,
             "#fde0ef"
            ],
            [
             0.5,
             "#f7f7f7"
            ],
            [
             0.6,
             "#e6f5d0"
            ],
            [
             0.7,
             "#b8e186"
            ],
            [
             0.8,
             "#7fbc41"
            ],
            [
             0.9,
             "#4d9221"
            ],
            [
             1,
             "#276419"
            ]
           ],
           "sequential": [
            [
             0,
             "#0d0887"
            ],
            [
             0.1111111111111111,
             "#46039f"
            ],
            [
             0.2222222222222222,
             "#7201a8"
            ],
            [
             0.3333333333333333,
             "#9c179e"
            ],
            [
             0.4444444444444444,
             "#bd3786"
            ],
            [
             0.5555555555555556,
             "#d8576b"
            ],
            [
             0.6666666666666666,
             "#ed7953"
            ],
            [
             0.7777777777777778,
             "#fb9f3a"
            ],
            [
             0.8888888888888888,
             "#fdca26"
            ],
            [
             1,
             "#f0f921"
            ]
           ],
           "sequentialminus": [
            [
             0,
             "#0d0887"
            ],
            [
             0.1111111111111111,
             "#46039f"
            ],
            [
             0.2222222222222222,
             "#7201a8"
            ],
            [
             0.3333333333333333,
             "#9c179e"
            ],
            [
             0.4444444444444444,
             "#bd3786"
            ],
            [
             0.5555555555555556,
             "#d8576b"
            ],
            [
             0.6666666666666666,
             "#ed7953"
            ],
            [
             0.7777777777777778,
             "#fb9f3a"
            ],
            [
             0.8888888888888888,
             "#fdca26"
            ],
            [
             1,
             "#f0f921"
            ]
           ]
          },
          "colorway": [
           "#636efa",
           "#EF553B",
           "#00cc96",
           "#ab63fa",
           "#FFA15A",
           "#19d3f3",
           "#FF6692",
           "#B6E880",
           "#FF97FF",
           "#FECB52"
          ],
          "font": {
           "color": "#2a3f5f"
          },
          "geo": {
           "bgcolor": "white",
           "lakecolor": "white",
           "landcolor": "#E5ECF6",
           "showlakes": true,
           "showland": true,
           "subunitcolor": "white"
          },
          "hoverlabel": {
           "align": "left"
          },
          "hovermode": "closest",
          "mapbox": {
           "style": "light"
          },
          "paper_bgcolor": "white",
          "plot_bgcolor": "#E5ECF6",
          "polar": {
           "angularaxis": {
            "gridcolor": "white",
            "linecolor": "white",
            "ticks": ""
           },
           "bgcolor": "#E5ECF6",
           "radialaxis": {
            "gridcolor": "white",
            "linecolor": "white",
            "ticks": ""
           }
          },
          "scene": {
           "xaxis": {
            "backgroundcolor": "#E5ECF6",
            "gridcolor": "white",
            "gridwidth": 2,
            "linecolor": "white",
            "showbackground": true,
            "ticks": "",
            "zerolinecolor": "white"
           },
           "yaxis": {
            "backgroundcolor": "#E5ECF6",
            "gridcolor": "white",
            "gridwidth": 2,
            "linecolor": "white",
            "showbackground": true,
            "ticks": "",
            "zerolinecolor": "white"
           },
           "zaxis": {
            "backgroundcolor": "#E5ECF6",
            "gridcolor": "white",
            "gridwidth": 2,
            "linecolor": "white",
            "showbackground": true,
            "ticks": "",
            "zerolinecolor": "white"
           }
          },
          "shapedefaults": {
           "line": {
            "color": "#2a3f5f"
           }
          },
          "ternary": {
           "aaxis": {
            "gridcolor": "white",
            "linecolor": "white",
            "ticks": ""
           },
           "baxis": {
            "gridcolor": "white",
            "linecolor": "white",
            "ticks": ""
           },
           "bgcolor": "#E5ECF6",
           "caxis": {
            "gridcolor": "white",
            "linecolor": "white",
            "ticks": ""
           }
          },
          "title": {
           "x": 0.05
          },
          "xaxis": {
           "automargin": true,
           "gridcolor": "white",
           "linecolor": "white",
           "ticks": "",
           "title": {
            "standoff": 15
           },
           "zerolinecolor": "white",
           "zerolinewidth": 2
          },
          "yaxis": {
           "automargin": true,
           "gridcolor": "white",
           "linecolor": "white",
           "ticks": "",
           "title": {
            "standoff": 15
           },
           "zerolinecolor": "white",
           "zerolinewidth": 2
          }
         }
        },
        "title": {
         "text": "Distribution of Enrollment by School Year",
         "x": 0.5
        }
       }
      },
      "text/html": [
       "<div>                            <div id=\"16e9a167-c60d-4abb-b901-d6b9747f2254\" class=\"plotly-graph-div\" style=\"height:525px; width:100%;\"></div>            <script type=\"text/javascript\">                require([\"plotly\"], function(Plotly) {                    window.PLOTLYENV=window.PLOTLYENV || {};                                    if (document.getElementById(\"16e9a167-c60d-4abb-b901-d6b9747f2254\")) {                    Plotly.newPlot(                        \"16e9a167-c60d-4abb-b901-d6b9747f2254\",                        [{\"domain\": {\"x\": [0.0, 1.0], \"y\": [0.0, 1.0]}, \"hovertemplate\": \"School_Year=%{label}<br>Enrollment=%{value}<extra></extra>\", \"labels\": [\"2015-2016\", \"2015-2016\", \"2015-2016\", \"2015-2016\", \"2015-2016\", \"2015-2016\", \"2015-2016\", \"2015-2016\", \"2015-2016\", \"2015-2016\", \"2015-2016\", \"2015-2016\", \"2015-2016\", \"2015-2016\", \"2015-2016\", \"2015-2016\", \"2015-2016\", \"2015-2016\", \"2015-2016\", \"2015-2016\", \"2015-2016\", \"2015-2016\", \"2015-2016\", \"2015-2016\", \"2015-2016\", \"2015-2016\", \"2015-2016\", \"2015-2016\", \"2015-2016\", \"2015-2016\", \"2015-2016\", \"2015-2016\", \"2015-2016\", \"2015-2016\", \"2015-2016\", \"2015-2016\", \"2015-2016\", \"2015-2016\", \"2015-2016\", \"2015-2016\", \"2015-2016\", \"2015-2016\", \"2015-2016\", \"2015-2016\", \"2015-2016\", \"2015-2016\", \"2015-2016\", \"2015-2016\", \"2015-2016\", \"2015-2016\", \"2015-2016\", \"2015-2016\", \"2015-2016\", \"2015-2016\", \"2015-2016\", \"2015-2016\", \"2015-2016\", \"2015-2016\", \"2015-2016\", \"2015-2016\", \"2015-2016\", \"2015-2016\", \"2015-2016\", \"2015-2016\", \"2015-2016\", \"2015-2016\", \"2015-2016\", \"2015-2016\", \"2015-2016\", \"2015-2016\", \"2015-2016\", \"2015-2016\", \"2015-2016\", \"2015-2016\", \"2015-2016\", \"2015-2016\", \"2015-2016\", \"2015-2016\", \"2015-2016\", \"2015-2016\", \"2015-2016\", \"2015-2016\", \"2015-2016\", \"2015-2016\", \"2015-2016\", \"2015-2016\", \"2015-2016\", \"2015-2016\", \"2015-2016\", \"2015-2016\", \"2015-2016\", \"2015-2016\", \"2015-2016\", \"2015-2016\", \"2015-2016\", \"2015-2016\", \"2015-2016\", \"2015-2016\", \"2015-2016\", \"2015-2016\", \"2015-2016\", \"2015-2016\", \"2015-2016\", \"2015-2016\", \"2015-2016\", \"2015-2016\", \"2015-2016\", \"2015-2016\", \"2015-2016\", \"2015-2016\", \"2015-2016\", \"2015-2016\", \"2015-2016\", \"2015-2016\", \"2015-2016\", \"2015-2016\", \"2015-2016\", \"2016-2017\", \"2016-2017\", \"2016-2017\", \"2016-2017\", \"2016-2017\", \"2016-2017\", \"2016-2017\", \"2016-2017\", \"2016-2017\", \"2016-2017\", \"2016-2017\", \"2016-2017\", \"2016-2017\", \"2016-2017\", \"2016-2017\", \"2016-2017\", \"2016-2017\", \"2016-2017\", \"2016-2017\", \"2016-2017\", \"2016-2017\", \"2016-2017\", \"2016-2017\", \"2016-2017\", \"2016-2017\", \"2016-2017\", \"2016-2017\", \"2016-2017\", \"2016-2017\", \"2016-2017\", \"2016-2017\", \"2016-2017\", \"2016-2017\", \"2016-2017\", \"2016-2017\", \"2016-2017\", \"2016-2017\", \"2016-2017\", \"2016-2017\", \"2016-2017\", \"2016-2017\", \"2016-2017\", \"2016-2017\", \"2016-2017\", \"2016-2017\", \"2016-2017\", \"2016-2017\", \"2016-2017\", \"2016-2017\", \"2016-2017\", \"2016-2017\", \"2016-2017\", \"2016-2017\", \"2016-2017\", \"2016-2017\", \"2016-2017\", \"2016-2017\", \"2016-2017\", \"2016-2017\", \"2016-2017\", \"2016-2017\", \"2016-2017\", \"2016-2017\", \"2016-2017\", \"2016-2017\", \"2016-2017\", \"2016-2017\", \"2016-2017\", \"2016-2017\", \"2016-2017\", \"2016-2017\", \"2016-2017\", \"2016-2017\", \"2016-2017\", \"2016-2017\", \"2016-2017\", \"2016-2017\", \"2016-2017\", \"2016-2017\", \"2016-2017\", \"2016-2017\", \"2016-2017\", \"2016-2017\", \"2016-2017\", \"2016-2017\", \"2016-2017\", \"2016-2017\", \"2016-2017\", \"2016-2017\", \"2016-2017\", \"2016-2017\", \"2016-2017\", \"2016-2017\", \"2016-2017\", \"2016-2017\", \"2016-2017\", \"2016-2017\", \"2016-2017\", \"2016-2017\", \"2016-2017\", \"2016-2017\", \"2016-2017\", \"2016-2017\", \"2016-2017\", \"2016-2017\", \"2016-2017\", \"2016-2017\", \"2016-2017\", \"2016-2017\", \"2016-2017\", \"2016-2017\", \"2016-2017\", \"2016-2017\", \"2016-2017\", \"2016-2017\", \"2016-2017\", \"2017-2018\", \"2017-2018\", \"2017-2018\", \"2017-2018\", \"2017-2018\", \"2017-2018\", \"2017-2018\", \"2017-2018\", \"2017-2018\", \"2017-2018\", \"2017-2018\", \"2017-2018\", \"2017-2018\", \"2017-2018\", \"2017-2018\", \"2017-2018\", \"2017-2018\", \"2017-2018\", \"2017-2018\", \"2017-2018\", \"2017-2018\", \"2017-2018\", \"2017-2018\", \"2017-2018\", \"2017-2018\", \"2017-2018\", \"2017-2018\", \"2017-2018\", \"2017-2018\", \"2017-2018\", \"2017-2018\", \"2017-2018\", \"2017-2018\", \"2017-2018\", \"2017-2018\", \"2017-2018\", \"2017-2018\", \"2017-2018\", \"2017-2018\", \"2017-2018\", \"2017-2018\", \"2017-2018\", \"2017-2018\", \"2017-2018\", \"2017-2018\", \"2017-2018\", \"2017-2018\", \"2017-2018\", \"2017-2018\", \"2017-2018\", \"2017-2018\", \"2017-2018\", \"2017-2018\", \"2017-2018\", \"2017-2018\", \"2017-2018\", \"2017-2018\", \"2017-2018\", \"2017-2018\", \"2017-2018\", \"2017-2018\", \"2017-2018\", \"2017-2018\", \"2017-2018\", \"2017-2018\", \"2017-2018\", \"2017-2018\", \"2017-2018\", \"2017-2018\", \"2017-2018\", \"2017-2018\", \"2017-2018\", \"2017-2018\", \"2017-2018\", \"2017-2018\", \"2017-2018\", \"2017-2018\", \"2017-2018\", \"2017-2018\", \"2017-2018\", \"2017-2018\", \"2017-2018\", \"2017-2018\", \"2017-2018\", \"2017-2018\", \"2017-2018\", \"2017-2018\", \"2017-2018\", \"2017-2018\", \"2017-2018\", \"2017-2018\", \"2017-2018\", \"2017-2018\", \"2017-2018\", \"2017-2018\", \"2017-2018\", \"2017-2018\", \"2017-2018\", \"2017-2018\", \"2017-2018\", \"2017-2018\", \"2017-2018\", \"2017-2018\", \"2017-2018\", \"2017-2018\", \"2017-2018\", \"2017-2018\", \"2017-2018\", \"2017-2018\", \"2017-2018\", \"2017-2018\", \"2017-2018\", \"2017-2018\", \"2017-2018\", \"2017-2018\", \"2017-2018\", \"2017-2018\", \"2017-2018\", \"2017-2018\", \"2017-2018\", \"2017-2018\", \"2017-2018\", \"2017-2018\", \"2016-2017\", \"2016-2017\", \"2016-2017\"], \"legendgroup\": \"\", \"name\": \"\", \"showlegend\": true, \"type\": \"pie\", \"values\": [430.0, 367.0, 499.0, 477.0, 371.0, 295.0, 491.0, 602.0, 346.0, 393.0, 361.0, 376.0, 512.0, 387.0, 342.0, 406.0, 606.0, 436.0, 288.0, 375.0, 362.0, 404.0, 242.0, 326.0, 381.0, 368.0, 396.0, 196.0, 367.0, 424.0, 553.0, 282.0, 258.0, 191.0, 269.0, 538.0, 289.0, 137.0, 261.0, 220.0, 378.0, 554.0, 391.0, 295.0, 402.0, 469.0, 380.0, 146.0, 152.0, 176.0, 248.0, 185.0, 274.0, 92.0, 170.0, 444.0, 196.0, 196.0, 213.0, 291.0, 1252.0, 338.0, 833.0, 319.0, 281.0, 621.0, 326.0, 335.0, 445.0, 258.0, 346.0, 280.0, 650.0, 255.0, 418.0, 513.0, 258.0, 398.0, 316.0, 505.0, 400.0, 275.0, 445.0, 361.0, 334.0, 519.0, 375.0, 477.0, 434.0, 380.0, 720.0, 585.0, 205.0, 407.0, 399.0, 239.0, 425.0, 282.0, 189.0, 166.0, 380.0, 259.0, 368.0, 717.0, 239.0, 588.0, 741.0, 252.0, 584.0, 360.0, 318.0, 200.0, 434.0, 250.0, 446.0, 85.0, 382.0, 445.0, 405.0, 491.0, 457.0, 361.0, 311.0, 514.0, 652.0, 318.0, 391.0, 331.0, 348.0, 499.0, 408.0, 315.0, 413.0, 598.0, 370.0, 268.0, 343.0, 338.0, 429.0, 271.0, 340.0, 407.0, 365.0, 406.0, 228.0, 344.0, 406.0, 554.0, 275.0, 271.0, 212.0, 287.0, 604.0, 298.0, 146.0, 308.0, 213.0, 579.0, 418.0, 294.0, 384.0, 405.0, 356.0, 177.0, 241.0, 245.0, 339.0, 208.0, 266.0, 151.0, 475.0, 260.0, 298.0, 294.0, 68.0, 95.0, 125.0, 285.0, 1276.0, 295.0, 694.0, 170.0, 288.0, 361.0, 313.0, 323.0, 441.0, 250.0, 344.0, 291.0, 612.0, 213.0, 423.0, 519.0, 236.0, 403.0, 293.0, 515.0, 447.0, 249.0, 475.0, 315.0, 360.0, 493.0, 389.0, 502.0, 482.0, 400.0, 822.0, 560.0, 190.0, 431.0, 382.0, 254.0, 426.0, 265.0, 305.0, 378.0, 245.0, 358.0, 468.0, 231.0, 542.0, 781.0, 253.0, 542.0, 397.0, 328.0, 190.0, 379.0, 241.0, 48.0, 404.0, 443.0, 418.0, 547.0, 441.0, 396.0, 322.0, 209.0, 513.0, 615.0, 330.0, 395.0, 301.0, 318.0, 456.0, 408.0, 326.0, 345.0, 590.0, 331.0, 247.0, 325.0, 403.0, 415.0, 237.0, 346.0, 380.0, 361.0, 387.0, 246.0, 334.0, 406.0, 490.0, 278.0, 262.0, 236.0, 298.0, 714.0, 295.0, 149.0, 316.0, 222.0, 403.0, 583.0, 427.0, 256.0, 341.0, 388.0, 379.0, 203.0, 311.0, 265.0, 428.0, 259.0, 256.0, 174.0, 344.0, 457.0, 389.0, 406.0, 377.0, 180.0, 191.0, 170.0, 135.0, 128.0, 56.0, 98.0, 95.0, 48.0, 265.0, 956.0, 241.0, 550.0, 303.0, 327.0, 319.0, 435.0, 243.0, 312.0, 311.0, 639.0, 420.0, 488.0, 202.0, 402.0, 273.0, 525.0, 491.0, 289.0, 480.0, 291.0, 383.0, 491.0, 365.0, 493.0, 489.0, 397.0, 829.0, 544.0, 192.0, 423.0, 406.0, 289.0, 478.0, 267.0, 271.0, 483.0, 211.0, 348.0, 320.0, 186.0, 528.0, 752.0, 229.0, 473.0, 430.0, 335.0, 173.0, 356.0, 247.0, 410.0, 440.0, 401.0, 0.0, 0.0, 0.0]}],                        {\"legend\": {\"tracegroupgap\": 0}, \"margin\": {\"t\": 60}, \"template\": {\"data\": {\"bar\": [{\"error_x\": {\"color\": \"#2a3f5f\"}, \"error_y\": {\"color\": \"#2a3f5f\"}, \"marker\": {\"line\": {\"color\": \"#E5ECF6\", \"width\": 0.5}}, \"type\": \"bar\"}], \"barpolar\": [{\"marker\": {\"line\": {\"color\": \"#E5ECF6\", \"width\": 0.5}}, \"type\": \"barpolar\"}], \"carpet\": [{\"aaxis\": {\"endlinecolor\": \"#2a3f5f\", \"gridcolor\": \"white\", \"linecolor\": \"white\", \"minorgridcolor\": \"white\", \"startlinecolor\": \"#2a3f5f\"}, \"baxis\": {\"endlinecolor\": \"#2a3f5f\", \"gridcolor\": \"white\", \"linecolor\": \"white\", \"minorgridcolor\": \"white\", \"startlinecolor\": \"#2a3f5f\"}, \"type\": \"carpet\"}], \"choropleth\": [{\"colorbar\": {\"outlinewidth\": 0, \"ticks\": \"\"}, \"type\": \"choropleth\"}], \"contour\": [{\"colorbar\": {\"outlinewidth\": 0, \"ticks\": \"\"}, \"colorscale\": [[0.0, \"#0d0887\"], [0.1111111111111111, \"#46039f\"], [0.2222222222222222, \"#7201a8\"], [0.3333333333333333, \"#9c179e\"], [0.4444444444444444, \"#bd3786\"], [0.5555555555555556, \"#d8576b\"], [0.6666666666666666, \"#ed7953\"], [0.7777777777777778, \"#fb9f3a\"], [0.8888888888888888, \"#fdca26\"], [1.0, \"#f0f921\"]], \"type\": \"contour\"}], \"contourcarpet\": [{\"colorbar\": {\"outlinewidth\": 0, \"ticks\": \"\"}, \"type\": \"contourcarpet\"}], \"heatmap\": [{\"colorbar\": {\"outlinewidth\": 0, \"ticks\": \"\"}, \"colorscale\": [[0.0, \"#0d0887\"], [0.1111111111111111, \"#46039f\"], [0.2222222222222222, \"#7201a8\"], [0.3333333333333333, \"#9c179e\"], [0.4444444444444444, \"#bd3786\"], [0.5555555555555556, \"#d8576b\"], [0.6666666666666666, \"#ed7953\"], [0.7777777777777778, \"#fb9f3a\"], [0.8888888888888888, \"#fdca26\"], [1.0, \"#f0f921\"]], \"type\": \"heatmap\"}], \"heatmapgl\": [{\"colorbar\": {\"outlinewidth\": 0, \"ticks\": \"\"}, \"colorscale\": [[0.0, \"#0d0887\"], [0.1111111111111111, \"#46039f\"], [0.2222222222222222, \"#7201a8\"], [0.3333333333333333, \"#9c179e\"], [0.4444444444444444, \"#bd3786\"], [0.5555555555555556, \"#d8576b\"], [0.6666666666666666, \"#ed7953\"], [0.7777777777777778, \"#fb9f3a\"], [0.8888888888888888, \"#fdca26\"], [1.0, \"#f0f921\"]], \"type\": \"heatmapgl\"}], \"histogram\": [{\"marker\": {\"colorbar\": {\"outlinewidth\": 0, \"ticks\": \"\"}}, \"type\": \"histogram\"}], \"histogram2d\": [{\"colorbar\": {\"outlinewidth\": 0, \"ticks\": \"\"}, \"colorscale\": [[0.0, \"#0d0887\"], [0.1111111111111111, \"#46039f\"], [0.2222222222222222, \"#7201a8\"], [0.3333333333333333, \"#9c179e\"], [0.4444444444444444, \"#bd3786\"], [0.5555555555555556, \"#d8576b\"], [0.6666666666666666, \"#ed7953\"], [0.7777777777777778, \"#fb9f3a\"], [0.8888888888888888, \"#fdca26\"], [1.0, \"#f0f921\"]], \"type\": \"histogram2d\"}], \"histogram2dcontour\": [{\"colorbar\": {\"outlinewidth\": 0, \"ticks\": \"\"}, \"colorscale\": [[0.0, \"#0d0887\"], [0.1111111111111111, \"#46039f\"], [0.2222222222222222, \"#7201a8\"], [0.3333333333333333, \"#9c179e\"], [0.4444444444444444, \"#bd3786\"], [0.5555555555555556, \"#d8576b\"], [0.6666666666666666, \"#ed7953\"], [0.7777777777777778, \"#fb9f3a\"], [0.8888888888888888, \"#fdca26\"], [1.0, \"#f0f921\"]], \"type\": \"histogram2dcontour\"}], \"mesh3d\": [{\"colorbar\": {\"outlinewidth\": 0, \"ticks\": \"\"}, \"type\": \"mesh3d\"}], \"parcoords\": [{\"line\": {\"colorbar\": {\"outlinewidth\": 0, \"ticks\": \"\"}}, \"type\": \"parcoords\"}], \"pie\": [{\"automargin\": true, \"type\": \"pie\"}], \"scatter\": [{\"marker\": {\"colorbar\": {\"outlinewidth\": 0, \"ticks\": \"\"}}, \"type\": \"scatter\"}], \"scatter3d\": [{\"line\": {\"colorbar\": {\"outlinewidth\": 0, \"ticks\": \"\"}}, \"marker\": {\"colorbar\": {\"outlinewidth\": 0, \"ticks\": \"\"}}, \"type\": \"scatter3d\"}], \"scattercarpet\": [{\"marker\": {\"colorbar\": {\"outlinewidth\": 0, \"ticks\": \"\"}}, \"type\": \"scattercarpet\"}], \"scattergeo\": [{\"marker\": {\"colorbar\": {\"outlinewidth\": 0, \"ticks\": \"\"}}, \"type\": \"scattergeo\"}], \"scattergl\": [{\"marker\": {\"colorbar\": {\"outlinewidth\": 0, \"ticks\": \"\"}}, \"type\": \"scattergl\"}], \"scattermapbox\": [{\"marker\": {\"colorbar\": {\"outlinewidth\": 0, \"ticks\": \"\"}}, \"type\": \"scattermapbox\"}], \"scatterpolar\": [{\"marker\": {\"colorbar\": {\"outlinewidth\": 0, \"ticks\": \"\"}}, \"type\": \"scatterpolar\"}], \"scatterpolargl\": [{\"marker\": {\"colorbar\": {\"outlinewidth\": 0, \"ticks\": \"\"}}, \"type\": \"scatterpolargl\"}], \"scatterternary\": [{\"marker\": {\"colorbar\": {\"outlinewidth\": 0, \"ticks\": \"\"}}, \"type\": \"scatterternary\"}], \"surface\": [{\"colorbar\": {\"outlinewidth\": 0, \"ticks\": \"\"}, \"colorscale\": [[0.0, \"#0d0887\"], [0.1111111111111111, \"#46039f\"], [0.2222222222222222, \"#7201a8\"], [0.3333333333333333, \"#9c179e\"], [0.4444444444444444, \"#bd3786\"], [0.5555555555555556, \"#d8576b\"], [0.6666666666666666, \"#ed7953\"], [0.7777777777777778, \"#fb9f3a\"], [0.8888888888888888, \"#fdca26\"], [1.0, \"#f0f921\"]], \"type\": \"surface\"}], \"table\": [{\"cells\": {\"fill\": {\"color\": \"#EBF0F8\"}, \"line\": {\"color\": \"white\"}}, \"header\": {\"fill\": {\"color\": \"#C8D4E3\"}, \"line\": {\"color\": \"white\"}}, \"type\": \"table\"}]}, \"layout\": {\"annotationdefaults\": {\"arrowcolor\": \"#2a3f5f\", \"arrowhead\": 0, \"arrowwidth\": 1}, \"autotypenumbers\": \"strict\", \"coloraxis\": {\"colorbar\": {\"outlinewidth\": 0, \"ticks\": \"\"}}, \"colorscale\": {\"diverging\": [[0, \"#8e0152\"], [0.1, \"#c51b7d\"], [0.2, \"#de77ae\"], [0.3, \"#f1b6da\"], [0.4, \"#fde0ef\"], [0.5, \"#f7f7f7\"], [0.6, \"#e6f5d0\"], [0.7, \"#b8e186\"], [0.8, \"#7fbc41\"], [0.9, \"#4d9221\"], [1, \"#276419\"]], \"sequential\": [[0.0, \"#0d0887\"], [0.1111111111111111, \"#46039f\"], [0.2222222222222222, \"#7201a8\"], [0.3333333333333333, \"#9c179e\"], [0.4444444444444444, \"#bd3786\"], [0.5555555555555556, \"#d8576b\"], [0.6666666666666666, \"#ed7953\"], [0.7777777777777778, \"#fb9f3a\"], [0.8888888888888888, \"#fdca26\"], [1.0, \"#f0f921\"]], \"sequentialminus\": [[0.0, \"#0d0887\"], [0.1111111111111111, \"#46039f\"], [0.2222222222222222, \"#7201a8\"], [0.3333333333333333, \"#9c179e\"], [0.4444444444444444, \"#bd3786\"], [0.5555555555555556, \"#d8576b\"], [0.6666666666666666, \"#ed7953\"], [0.7777777777777778, \"#fb9f3a\"], [0.8888888888888888, \"#fdca26\"], [1.0, \"#f0f921\"]]}, \"colorway\": [\"#636efa\", \"#EF553B\", \"#00cc96\", \"#ab63fa\", \"#FFA15A\", \"#19d3f3\", \"#FF6692\", \"#B6E880\", \"#FF97FF\", \"#FECB52\"], \"font\": {\"color\": \"#2a3f5f\"}, \"geo\": {\"bgcolor\": \"white\", \"lakecolor\": \"white\", \"landcolor\": \"#E5ECF6\", \"showlakes\": true, \"showland\": true, \"subunitcolor\": \"white\"}, \"hoverlabel\": {\"align\": \"left\"}, \"hovermode\": \"closest\", \"mapbox\": {\"style\": \"light\"}, \"paper_bgcolor\": \"white\", \"plot_bgcolor\": \"#E5ECF6\", \"polar\": {\"angularaxis\": {\"gridcolor\": \"white\", \"linecolor\": \"white\", \"ticks\": \"\"}, \"bgcolor\": \"#E5ECF6\", \"radialaxis\": {\"gridcolor\": \"white\", \"linecolor\": \"white\", \"ticks\": \"\"}}, \"scene\": {\"xaxis\": {\"backgroundcolor\": \"#E5ECF6\", \"gridcolor\": \"white\", \"gridwidth\": 2, \"linecolor\": \"white\", \"showbackground\": true, \"ticks\": \"\", \"zerolinecolor\": \"white\"}, \"yaxis\": {\"backgroundcolor\": \"#E5ECF6\", \"gridcolor\": \"white\", \"gridwidth\": 2, \"linecolor\": \"white\", \"showbackground\": true, \"ticks\": \"\", \"zerolinecolor\": \"white\"}, \"zaxis\": {\"backgroundcolor\": \"#E5ECF6\", \"gridcolor\": \"white\", \"gridwidth\": 2, \"linecolor\": \"white\", \"showbackground\": true, \"ticks\": \"\", \"zerolinecolor\": \"white\"}}, \"shapedefaults\": {\"line\": {\"color\": \"#2a3f5f\"}}, \"ternary\": {\"aaxis\": {\"gridcolor\": \"white\", \"linecolor\": \"white\", \"ticks\": \"\"}, \"baxis\": {\"gridcolor\": \"white\", \"linecolor\": \"white\", \"ticks\": \"\"}, \"bgcolor\": \"#E5ECF6\", \"caxis\": {\"gridcolor\": \"white\", \"linecolor\": \"white\", \"ticks\": \"\"}}, \"title\": {\"x\": 0.05}, \"xaxis\": {\"automargin\": true, \"gridcolor\": \"white\", \"linecolor\": \"white\", \"ticks\": \"\", \"title\": {\"standoff\": 15}, \"zerolinecolor\": \"white\", \"zerolinewidth\": 2}, \"yaxis\": {\"automargin\": true, \"gridcolor\": \"white\", \"linecolor\": \"white\", \"ticks\": \"\", \"title\": {\"standoff\": 15}, \"zerolinecolor\": \"white\", \"zerolinewidth\": 2}}}, \"title\": {\"text\": \"Distribution of Enrollment by School Year\", \"x\": 0.5}},                        {\"responsive\": true}                    ).then(function(){\n",
       "                            \n",
       "var gd = document.getElementById('16e9a167-c60d-4abb-b901-d6b9747f2254');\n",
       "var x = new MutationObserver(function (mutations, observer) {{\n",
       "        var display = window.getComputedStyle(gd).display;\n",
       "        if (!display || display === 'none') {{\n",
       "            console.log([gd, 'removed!']);\n",
       "            Plotly.purge(gd);\n",
       "            observer.disconnect();\n",
       "        }}\n",
       "}});\n",
       "\n",
       "// Listen for the removal of the full notebook cells\n",
       "var notebookContainer = gd.closest('#notebook-container');\n",
       "if (notebookContainer) {{\n",
       "    x.observe(notebookContainer, {childList: true});\n",
       "}}\n",
       "\n",
       "// Listen for the clearing of the current output cell\n",
       "var outputEl = gd.closest('.output');\n",
       "if (outputEl) {{\n",
       "    x.observe(outputEl, {childList: true});\n",
       "}}\n",
       "\n",
       "                        })                };                });            </script>        </div>"
      ]
     },
     "metadata": {},
     "output_type": "display_data"
    }
   ],
   "source": [
    "#Interactive plot for Enrollment distribution percentage over the year\n",
    "fig = px.pie(df_CMSD, \n",
    "             values=\"Enrollment\", \n",
    "             names=\"School_Year\", \n",
    "            )\n",
    "fig.update_layout(title_text='Distribution of Enrollment by School Year',title_x=0.5)\n",
    "fig.show()"
   ]
  },
  {
   "cell_type": "code",
   "execution_count": null,
   "metadata": {},
   "outputs": [],
   "source": []
  },
  {
   "cell_type": "markdown",
   "metadata": {},
   "source": [
    "# Data Visualization of Value Added Grades"
   ]
  },
  {
   "cell_type": "markdown",
   "metadata": {},
   "source": [
    "## Creat a visualization that shows how value added grade changed over the 3 years."
   ]
  },
  {
   "cell_type": "code",
   "execution_count": 110,
   "metadata": {},
   "outputs": [
    {
     "name": "stdout",
     "output_type": "stream",
     "text": [
      "Overall_Value_Added_Grade School_Year   A   B   C   D   F  NR\n",
      "0                           2015-2016   8   2  10  13  78   6\n",
      "1                           2016-2017  10   3  16   8  78   4\n",
      "2                           2017-2018  14  12  14   9  72   2\n"
     ]
    },
    {
     "data": {
      "image/png": "[encoded data removed]",
      "text/plain": [
       "<Figure size 432x288 with 1 Axes>"
      ]
     },
     "metadata": {
      "needs_background": "light"
     },
     "output_type": "display_data"
    }
   ],
   "source": [
    "# Calculate the sum of categories by year\n",
    "result = df_CMSD.groupby('School_Year')['Overall_Value_Added_Grade'].value_counts().unstack(fill_value=0).reset_index()\n",
    "\n",
    "# Print the result\n",
    "print(result)\n",
    "\n",
    "# Plot the graph\n",
    "result.plot(x='School_Year', kind='bar')\n",
    "plt.title('Sum of Value added Categories by Year')\n",
    "plt.xlabel('School Year')\n",
    "plt.ylabel('Count')\n",
    "plt.legend(title='Overall Value Added Grade', bbox_to_anchor=(1, 1))\n",
    "\n",
    "# Show the plot\n",
    "plt.show()"
   ]
  },
  {
   "cell_type": "markdown",
   "metadata": {},
   "source": [
    "### Interactive stacked bar plot for how Overall value added grade is changing over the years "
   ]
  },
  {
   "cell_type": "code",
   "execution_count": 150,
   "metadata": {},
   "outputs": [
    {
     "data": {
      "application/vnd.plotly.v1+json": {
       "config": {
        "plotlyServerURL": "https://plot.ly"
       },
       "data": [
        {
         "alignmentgroup": "True",
         "hovertemplate": "variable=A<br>School Year=%{x}<br>Count=%{y}<extra></extra>",
         "legendgroup": "A",
         "marker": {
          "color": "#636efa"
         },
         "name": "A",
         "offsetgroup": "A",
         "orientation": "v",
         "showlegend": true,
         "textposition": "auto",
         "type": "bar",
         "x": [
          "2015-2016",
          "2016-2017",
          "2017-2018"
         ],
         "xaxis": "x",
         "y": [
          8,
          10,
          14
         ],
         "yaxis": "y"
        },
        {
         "alignmentgroup": "True",
         "hovertemplate": "variable=B<br>School Year=%{x}<br>Count=%{y}<extra></extra>",
         "legendgroup": "B",
         "marker": {
          "color": "#EF553B"
         },
         "name": "B",
         "offsetgroup": "B",
         "orientation": "v",
         "showlegend": true,
         "textposition": "auto",
         "type": "bar",
         "x": [
          "2015-2016",
          "2016-2017",
          "2017-2018"
         ],
         "xaxis": "x",
         "y": [
          2,
          3,
          12
         ],
         "yaxis": "y"
        },
        {
         "alignmentgroup": "True",
         "hovertemplate": "variable=C<br>School Year=%{x}<br>Count=%{y}<extra></extra>",
         "legendgroup": "C",
         "marker": {
          "color": "#00cc96"
         },
         "name": "C",
         "offsetgroup": "C",
         "orientation": "v",
         "showlegend": true,
         "textposition": "auto",
         "type": "bar",
         "x": [
          "2015-2016",
          "2016-2017",
          "2017-2018"
         ],
         "xaxis": "x",
         "y": [
          10,
          16,
          14
         ],
         "yaxis": "y"
        },
        {
         "alignmentgroup": "True",
         "hovertemplate": "variable=D<br>School Year=%{x}<br>Count=%{y}<extra></extra>",
         "legendgroup": "D",
         "marker": {
          "color": "#ab63fa"
         },
         "name": "D",
         "offsetgroup": "D",
         "orientation": "v",
         "showlegend": true,
         "textposition": "auto",
         "type": "bar",
         "x": [
          "2015-2016",
          "2016-2017",
          "2017-2018"
         ],
         "xaxis": "x",
         "y": [
          13,
          8,
          9
         ],
         "yaxis": "y"
        },
        {
         "alignmentgroup": "True",
         "hovertemplate": "variable=F<br>School Year=%{x}<br>Count=%{y}<extra></extra>",
         "legendgroup": "F",
         "marker": {
          "color": "#FFA15A"
         },
         "name": "F",
         "offsetgroup": "F",
         "orientation": "v",
         "showlegend": true,
         "textposition": "auto",
         "type": "bar",
         "x": [
          "2015-2016",
          "2016-2017",
          "2017-2018"
         ],
         "xaxis": "x",
         "y": [
          78,
          78,
          72
         ],
         "yaxis": "y"
        },
        {
         "alignmentgroup": "True",
         "hovertemplate": "variable=NR<br>School Year=%{x}<br>Count=%{y}<extra></extra>",
         "legendgroup": "NR",
         "marker": {
          "color": "#19d3f3"
         },
         "name": "NR",
         "offsetgroup": "NR",
         "orientation": "v",
         "showlegend": true,
         "textposition": "auto",
         "type": "bar",
         "x": [
          "2015-2016",
          "2016-2017",
          "2017-2018"
         ],
         "xaxis": "x",
         "y": [
          6,
          4,
          2
         ],
         "yaxis": "y"
        }
       ],
       "layout": {
        "barmode": "stack",
        "height": 600,
        "legend": {
         "orientation": "h",
         "title": {
          "text": "Overall Value Added Grades"
         },
         "tracegroupgap": 0,
         "x": 1,
         "xanchor": "right",
         "y": 1.02,
         "yanchor": "bottom"
        },
        "template": {
         "data": {
          "bar": [
           {
            "error_x": {
             "color": "#2a3f5f"
            },
            "error_y": {
             "color": "#2a3f5f"
            },
            "marker": {
             "line": {
              "color": "#E5ECF6",
              "width": 0.5
             }
            },
            "type": "bar"
           }
          ],
          "barpolar": [
           {
            "marker": {
             "line": {
              "color": "#E5ECF6",
              "width": 0.5
             }
            },
            "type": "barpolar"
           }
          ],
          "carpet": [
           {
            "aaxis": {
             "endlinecolor": "#2a3f5f",
             "gridcolor": "white",
             "linecolor": "white",
             "minorgridcolor": "white",
             "startlinecolor": "#2a3f5f"
            },
            "baxis": {
             "endlinecolor": "#2a3f5f",
             "gridcolor": "white",
             "linecolor": "white",
             "minorgridcolor": "white",
             "startlinecolor": "#2a3f5f"
            },
            "type": "carpet"
           }
          ],
          "choropleth": [
           {
            "colorbar": {
             "outlinewidth": 0,
             "ticks": ""
            },
            "type": "choropleth"
           }
          ],
          "contour": [
           {
            "colorbar": {
             "outlinewidth": 0,
             "ticks": ""
            },
            "colorscale": [
             [
              0,
              "#0d0887"
             ],
             [
              0.1111111111111111,
              "#46039f"
             ],
             [
              0.2222222222222222,
              "#7201a8"
             ],
             [
              0.3333333333333333,
              "#9c179e"
             ],
             [
              0.4444444444444444,
              "#bd3786"
             ],
             [
              0.5555555555555556,
              "#d8576b"
             ],
             [
              0.6666666666666666,
              "#ed7953"
             ],
             [
              0.7777777777777778,
              "#fb9f3a"
             ],
             [
              0.8888888888888888,
              "#fdca26"
             ],
             [
              1,
              "#f0f921"
             ]
            ],
            "type": "contour"
           }
          ],
          "contourcarpet": [
           {
            "colorbar": {
             "outlinewidth": 0,
             "ticks": ""
            },
            "type": "contourcarpet"
           }
          ],
          "heatmap": [
           {
            "colorbar": {
             "outlinewidth": 0,
             "ticks": ""
            },
            "colorscale": [
             [
              0,
              "#0d0887"
             ],
             [
              0.1111111111111111,
              "#46039f"
             ],
             [
              0.2222222222222222,
              "#7201a8"
             ],
             [
              0.3333333333333333,
              "#9c179e"
             ],
             [
              0.4444444444444444,
              "#bd3786"
             ],
             [
              0.5555555555555556,
              "#d8576b"
             ],
             [
              0.6666666666666666,
              "#ed7953"
             ],
             [
              0.7777777777777778,
              "#fb9f3a"
             ],
             [
              0.8888888888888888,
              "#fdca26"
             ],
             [
              1,
              "#f0f921"
             ]
            ],
            "type": "heatmap"
           }
          ],
          "heatmapgl": [
           {
            "colorbar": {
             "outlinewidth": 0,
             "ticks": ""
            },
            "colorscale": [
             [
              0,
              "#0d0887"
             ],
             [
              0.1111111111111111,
              "#46039f"
             ],
             [
              0.2222222222222222,
              "#7201a8"
             ],
             [
              0.3333333333333333,
              "#9c179e"
             ],
             [
              0.4444444444444444,
              "#bd3786"
             ],
             [
              0.5555555555555556,
              "#d8576b"
             ],
             [
              0.6666666666666666,
              "#ed7953"
             ],
             [
              0.7777777777777778,
              "#fb9f3a"
             ],
             [
              0.8888888888888888,
              "#fdca26"
             ],
             [
              1,
              "#f0f921"
             ]
            ],
            "type": "heatmapgl"
           }
          ],
          "histogram": [
           {
            "marker": {
             "colorbar": {
              "outlinewidth": 0,
              "ticks": ""
             }
            },
            "type": "histogram"
           }
          ],
          "histogram2d": [
           {
            "colorbar": {
             "outlinewidth": 0,
             "ticks": ""
            },
            "colorscale": [
             [
              0,
              "#0d0887"
             ],
             [
              0.1111111111111111,
              "#46039f"
             ],
             [
              0.2222222222222222,
              "#7201a8"
             ],
             [
              0.3333333333333333,
              "#9c179e"
             ],
             [
              0.4444444444444444,
              "#bd3786"
             ],
             [
              0.5555555555555556,
              "#d8576b"
             ],
             [
              0.6666666666666666,
              "#ed7953"
             ],
             [
              0.7777777777777778,
              "#fb9f3a"
             ],
             [
              0.8888888888888888,
              "#fdca26"
             ],
             [
              1,
              "#f0f921"
             ]
            ],
            "type": "histogram2d"
           }
          ],
          "histogram2dcontour": [
           {
            "colorbar": {
             "outlinewidth": 0,
             "ticks": ""
            },
            "colorscale": [
             [
              0,
              "#0d0887"
             ],
             [
              0.1111111111111111,
              "#46039f"
             ],
             [
              0.2222222222222222,
              "#7201a8"
             ],
             [
              0.3333333333333333,
              "#9c179e"
             ],
             [
              0.4444444444444444,
              "#bd3786"
             ],
             [
              0.5555555555555556,
              "#d8576b"
             ],
             [
              0.6666666666666666,
              "#ed7953"
             ],
             [
              0.7777777777777778,
              "#fb9f3a"
             ],
             [
              0.8888888888888888,
              "#fdca26"
             ],
             [
              1,
              "#f0f921"
             ]
            ],
            "type": "histogram2dcontour"
           }
          ],
          "mesh3d": [
           {
            "colorbar": {
             "outlinewidth": 0,
             "ticks": ""
            },
            "type": "mesh3d"
           }
          ],
          "parcoords": [
           {
            "line": {
             "colorbar": {
              "outlinewidth": 0,
              "ticks": ""
             }
            },
            "type": "parcoords"
           }
          ],
          "pie": [
           {
            "automargin": true,
            "type": "pie"
           }
          ],
          "scatter": [
           {
            "marker": {
             "colorbar": {
              "outlinewidth": 0,
              "ticks": ""
             }
            },
            "type": "scatter"
           }
          ],
          "scatter3d": [
           {
            "line": {
             "colorbar": {
              "outlinewidth": 0,
              "ticks": ""
             }
            },
            "marker": {
             "colorbar": {
              "outlinewidth": 0,
              "ticks": ""
             }
            },
            "type": "scatter3d"
           }
          ],
          "scattercarpet": [
           {
            "marker": {
             "colorbar": {
              "outlinewidth": 0,
              "ticks": ""
             }
            },
            "type": "scattercarpet"
           }
          ],
          "scattergeo": [
           {
            "marker": {
             "colorbar": {
              "outlinewidth": 0,
              "ticks": ""
             }
            },
            "type": "scattergeo"
           }
          ],
          "scattergl": [
           {
            "marker": {
             "colorbar": {
              "outlinewidth": 0,
              "ticks": ""
             }
            },
            "type": "scattergl"
           }
          ],
          "scattermapbox": [
           {
            "marker": {
             "colorbar": {
              "outlinewidth": 0,
              "ticks": ""
             }
            },
            "type": "scattermapbox"
           }
          ],
          "scatterpolar": [
           {
            "marker": {
             "colorbar": {
              "outlinewidth": 0,
              "ticks": ""
             }
            },
            "type": "scatterpolar"
           }
          ],
          "scatterpolargl": [
           {
            "marker": {
             "colorbar": {
              "outlinewidth": 0,
              "ticks": ""
             }
            },
            "type": "scatterpolargl"
           }
          ],
          "scatterternary": [
           {
            "marker": {
             "colorbar": {
              "outlinewidth": 0,
              "ticks": ""
             }
            },
            "type": "scatterternary"
           }
          ],
          "surface": [
           {
            "colorbar": {
             "outlinewidth": 0,
             "ticks": ""
            },
            "colorscale": [
             [
              0,
              "#0d0887"
             ],
             [
              0.1111111111111111,
              "#46039f"
             ],
             [
              0.2222222222222222,
              "#7201a8"
             ],
             [
              0.3333333333333333,
              "#9c179e"
             ],
             [
              0.4444444444444444,
              "#bd3786"
             ],
             [
              0.5555555555555556,
              "#d8576b"
             ],
             [
              0.6666666666666666,
              "#ed7953"
             ],
             [
              0.7777777777777778,
              "#fb9f3a"
             ],
             [
              0.8888888888888888,
              "#fdca26"
             ],
             [
              1,
              "#f0f921"
             ]
            ],
            "type": "surface"
           }
          ],
          "table": [
           {
            "cells": {
             "fill": {
              "color": "#EBF0F8"
             },
             "line": {
              "color": "white"
             }
            },
            "header": {
             "fill": {
              "color": "#C8D4E3"
             },
             "line": {
              "color": "white"
             }
            },
            "type": "table"
           }
          ]
         },
         "layout": {
          "annotationdefaults": {
           "arrowcolor": "#2a3f5f",
           "arrowhead": 0,
           "arrowwidth": 1
          },
          "autotypenumbers": "strict",
          "coloraxis": {
           "colorbar": {
            "outlinewidth": 0,
            "ticks": ""
           }
          },
          "colorscale": {
           "diverging": [
            [
             0,
             "#8e0152"
            ],
            [
             0.1,
             "#c51b7d"
            ],
            [
             0.2,
             "#de77ae"
            ],
            [
             0.3,
             "#f1b6da"
            ],
            [
             0.4,
             "#fde0ef"
            ],
            [
             0.5,
             "#f7f7f7"
            ],
            [
             0.6,
             "#e6f5d0"
            ],
            [
             0.7,
             "#b8e186"
            ],
            [
             0.8,
             "#7fbc41"
            ],
            [
             0.9,
             "#4d9221"
            ],
            [
             1,
             "#276419"
            ]
           ],
           "sequential": [
            [
             0,
             "#0d0887"
            ],
            [
             0.1111111111111111,
             "#46039f"
            ],
            [
             0.2222222222222222,
             "#7201a8"
            ],
            [
             0.3333333333333333,
             "#9c179e"
            ],
            [
             0.4444444444444444,
             "#bd3786"
            ],
            [
             0.5555555555555556,
             "#d8576b"
            ],
            [
             0.6666666666666666,
             "#ed7953"
            ],
            [
             0.7777777777777778,
             "#fb9f3a"
            ],
            [
             0.8888888888888888,
             "#fdca26"
            ],
            [
             1,
             "#f0f921"
            ]
           ],
           "sequentialminus": [
            [
             0,
             "#0d0887"
            ],
            [
             0.1111111111111111,
             "#46039f"
            ],
            [
             0.2222222222222222,
             "#7201a8"
            ],
            [
             0.3333333333333333,
             "#9c179e"
            ],
            [
             0.4444444444444444,
             "#bd3786"
            ],
            [
             0.5555555555555556,
             "#d8576b"
            ],
            [
             0.6666666666666666,
             "#ed7953"
            ],
            [
             0.7777777777777778,
             "#fb9f3a"
            ],
            [
             0.8888888888888888,
             "#fdca26"
            ],
            [
             1,
             "#f0f921"
            ]
           ]
          },
          "colorway": [
           "#636efa",
           "#EF553B",
           "#00cc96",
           "#ab63fa",
           "#FFA15A",
           "#19d3f3",
           "#FF6692",
           "#B6E880",
           "#FF97FF",
           "#FECB52"
          ],
          "font": {
           "color": "#2a3f5f"
          },
          "geo": {
           "bgcolor": "white",
           "lakecolor": "white",
           "landcolor": "#E5ECF6",
           "showlakes": true,
           "showland": true,
           "subunitcolor": "white"
          },
          "hoverlabel": {
           "align": "left"
          },
          "hovermode": "closest",
          "mapbox": {
           "style": "light"
          },
          "paper_bgcolor": "white",
          "plot_bgcolor": "#E5ECF6",
          "polar": {
           "angularaxis": {
            "gridcolor": "white",
            "linecolor": "white",
            "ticks": ""
           },
           "bgcolor": "#E5ECF6",
           "radialaxis": {
            "gridcolor": "white",
            "linecolor": "white",
            "ticks": ""
           }
          },
          "scene": {
           "xaxis": {
            "backgroundcolor": "#E5ECF6",
            "gridcolor": "white",
            "gridwidth": 2,
            "linecolor": "white",
            "showbackground": true,
            "ticks": "",
            "zerolinecolor": "white"
           },
           "yaxis": {
            "backgroundcolor": "#E5ECF6",
            "gridcolor": "white",
            "gridwidth": 2,
            "linecolor": "white",
            "showbackground": true,
            "ticks": "",
            "zerolinecolor": "white"
           },
           "zaxis": {
            "backgroundcolor": "#E5ECF6",
            "gridcolor": "white",
            "gridwidth": 2,
            "linecolor": "white",
            "showbackground": true,
            "ticks": "",
            "zerolinecolor": "white"
           }
          },
          "shapedefaults": {
           "line": {
            "color": "#2a3f5f"
           }
          },
          "ternary": {
           "aaxis": {
            "gridcolor": "white",
            "linecolor": "white",
            "ticks": ""
           },
           "baxis": {
            "gridcolor": "white",
            "linecolor": "white",
            "ticks": ""
           },
           "bgcolor": "#E5ECF6",
           "caxis": {
            "gridcolor": "white",
            "linecolor": "white",
            "ticks": ""
           }
          },
          "title": {
           "x": 0.05
          },
          "xaxis": {
           "automargin": true,
           "gridcolor": "white",
           "linecolor": "white",
           "ticks": "",
           "title": {
            "standoff": 15
           },
           "zerolinecolor": "white",
           "zerolinewidth": 2
          },
          "yaxis": {
           "automargin": true,
           "gridcolor": "white",
           "linecolor": "white",
           "ticks": "",
           "title": {
            "standoff": 15
           },
           "zerolinecolor": "white",
           "zerolinewidth": 2
          }
         }
        },
        "title": {
         "text": "Sum of Value added Categories by Year"
        },
        "width": 800,
        "xaxis": {
         "anchor": "y",
         "domain": [
          0,
          1
         ],
         "title": {
          "text": "School Year"
         }
        },
        "yaxis": {
         "anchor": "x",
         "domain": [
          0,
          1
         ],
         "title": {
          "text": "Count"
         }
        }
       }
      },
      "text/html": [
       "<div>                            <div id=\"efee1712-366d-46c2-90fc-226288a2f5d7\" class=\"plotly-graph-div\" style=\"height:600px; width:800px;\"></div>            <script type=\"text/javascript\">                require([\"plotly\"], function(Plotly) {                    window.PLOTLYENV=window.PLOTLYENV || {};                                    if (document.getElementById(\"efee1712-366d-46c2-90fc-226288a2f5d7\")) {                    Plotly.newPlot(                        \"efee1712-366d-46c2-90fc-226288a2f5d7\",                        [{\"alignmentgroup\": \"True\", \"hovertemplate\": \"variable=A<br>School Year=%{x}<br>Count=%{y}<extra></extra>\", \"legendgroup\": \"A\", \"marker\": {\"color\": \"#636efa\"}, \"name\": \"A\", \"offsetgroup\": \"A\", \"orientation\": \"v\", \"showlegend\": true, \"textposition\": \"auto\", \"type\": \"bar\", \"x\": [\"2015-2016\", \"2016-2017\", \"2017-2018\"], \"xaxis\": \"x\", \"y\": [8, 10, 14], \"yaxis\": \"y\"}, {\"alignmentgroup\": \"True\", \"hovertemplate\": \"variable=B<br>School Year=%{x}<br>Count=%{y}<extra></extra>\", \"legendgroup\": \"B\", \"marker\": {\"color\": \"#EF553B\"}, \"name\": \"B\", \"offsetgroup\": \"B\", \"orientation\": \"v\", \"showlegend\": true, \"textposition\": \"auto\", \"type\": \"bar\", \"x\": [\"2015-2016\", \"2016-2017\", \"2017-2018\"], \"xaxis\": \"x\", \"y\": [2, 3, 12], \"yaxis\": \"y\"}, {\"alignmentgroup\": \"True\", \"hovertemplate\": \"variable=C<br>School Year=%{x}<br>Count=%{y}<extra></extra>\", \"legendgroup\": \"C\", \"marker\": {\"color\": \"#00cc96\"}, \"name\": \"C\", \"offsetgroup\": \"C\", \"orientation\": \"v\", \"showlegend\": true, \"textposition\": \"auto\", \"type\": \"bar\", \"x\": [\"2015-2016\", \"2016-2017\", \"2017-2018\"], \"xaxis\": \"x\", \"y\": [10, 16, 14], \"yaxis\": \"y\"}, {\"alignmentgroup\": \"True\", \"hovertemplate\": \"variable=D<br>School Year=%{x}<br>Count=%{y}<extra></extra>\", \"legendgroup\": \"D\", \"marker\": {\"color\": \"#ab63fa\"}, \"name\": \"D\", \"offsetgroup\": \"D\", \"orientation\": \"v\", \"showlegend\": true, \"textposition\": \"auto\", \"type\": \"bar\", \"x\": [\"2015-2016\", \"2016-2017\", \"2017-2018\"], \"xaxis\": \"x\", \"y\": [13, 8, 9], \"yaxis\": \"y\"}, {\"alignmentgroup\": \"True\", \"hovertemplate\": \"variable=F<br>School Year=%{x}<br>Count=%{y}<extra></extra>\", \"legendgroup\": \"F\", \"marker\": {\"color\": \"#FFA15A\"}, \"name\": \"F\", \"offsetgroup\": \"F\", \"orientation\": \"v\", \"showlegend\": true, \"textposition\": \"auto\", \"type\": \"bar\", \"x\": [\"2015-2016\", \"2016-2017\", \"2017-2018\"], \"xaxis\": \"x\", \"y\": [78, 78, 72], \"yaxis\": \"y\"}, {\"alignmentgroup\": \"True\", \"hovertemplate\": \"variable=NR<br>School Year=%{x}<br>Count=%{y}<extra></extra>\", \"legendgroup\": \"NR\", \"marker\": {\"color\": \"#19d3f3\"}, \"name\": \"NR\", \"offsetgroup\": \"NR\", \"orientation\": \"v\", \"showlegend\": true, \"textposition\": \"auto\", \"type\": \"bar\", \"x\": [\"2015-2016\", \"2016-2017\", \"2017-2018\"], \"xaxis\": \"x\", \"y\": [6, 4, 2], \"yaxis\": \"y\"}],                        {\"barmode\": \"stack\", \"height\": 600, \"legend\": {\"orientation\": \"h\", \"title\": {\"text\": \"Overall Value Added Grades\"}, \"tracegroupgap\": 0, \"x\": 1, \"xanchor\": \"right\", \"y\": 1.02, \"yanchor\": \"bottom\"}, \"template\": {\"data\": {\"bar\": [{\"error_x\": {\"color\": \"#2a3f5f\"}, \"error_y\": {\"color\": \"#2a3f5f\"}, \"marker\": {\"line\": {\"color\": \"#E5ECF6\", \"width\": 0.5}}, \"type\": \"bar\"}], \"barpolar\": [{\"marker\": {\"line\": {\"color\": \"#E5ECF6\", \"width\": 0.5}}, \"type\": \"barpolar\"}], \"carpet\": [{\"aaxis\": {\"endlinecolor\": \"#2a3f5f\", \"gridcolor\": \"white\", \"linecolor\": \"white\", \"minorgridcolor\": \"white\", \"startlinecolor\": \"#2a3f5f\"}, \"baxis\": {\"endlinecolor\": \"#2a3f5f\", \"gridcolor\": \"white\", \"linecolor\": \"white\", \"minorgridcolor\": \"white\", \"startlinecolor\": \"#2a3f5f\"}, \"type\": \"carpet\"}], \"choropleth\": [{\"colorbar\": {\"outlinewidth\": 0, \"ticks\": \"\"}, \"type\": \"choropleth\"}], \"contour\": [{\"colorbar\": {\"outlinewidth\": 0, \"ticks\": \"\"}, \"colorscale\": [[0.0, \"#0d0887\"], [0.1111111111111111, \"#46039f\"], [0.2222222222222222, \"#7201a8\"], [0.3333333333333333, \"#9c179e\"], [0.4444444444444444, \"#bd3786\"], [0.5555555555555556, \"#d8576b\"], [0.6666666666666666, \"#ed7953\"], [0.7777777777777778, \"#fb9f3a\"], [0.8888888888888888, \"#fdca26\"], [1.0, \"#f0f921\"]], \"type\": \"contour\"}], \"contourcarpet\": [{\"colorbar\": {\"outlinewidth\": 0, \"ticks\": \"\"}, \"type\": \"contourcarpet\"}], \"heatmap\": [{\"colorbar\": {\"outlinewidth\": 0, \"ticks\": \"\"}, \"colorscale\": [[0.0, \"#0d0887\"], [0.1111111111111111, \"#46039f\"], [0.2222222222222222, \"#7201a8\"], [0.3333333333333333, \"#9c179e\"], [0.4444444444444444, \"#bd3786\"], [0.5555555555555556, \"#d8576b\"], [0.6666666666666666, \"#ed7953\"], [0.7777777777777778, \"#fb9f3a\"], [0.8888888888888888, \"#fdca26\"], [1.0, \"#f0f921\"]], \"type\": \"heatmap\"}], \"heatmapgl\": [{\"colorbar\": {\"outlinewidth\": 0, \"ticks\": \"\"}, \"colorscale\": [[0.0, \"#0d0887\"], [0.1111111111111111, \"#46039f\"], [0.2222222222222222, \"#7201a8\"], [0.3333333333333333, \"#9c179e\"], [0.4444444444444444, \"#bd3786\"], [0.5555555555555556, \"#d8576b\"], [0.6666666666666666, \"#ed7953\"], [0.7777777777777778, \"#fb9f3a\"], [0.8888888888888888, \"#fdca26\"], [1.0, \"#f0f921\"]], \"type\": \"heatmapgl\"}], \"histogram\": [{\"marker\": {\"colorbar\": {\"outlinewidth\": 0, \"ticks\": \"\"}}, \"type\": \"histogram\"}], \"histogram2d\": [{\"colorbar\": {\"outlinewidth\": 0, \"ticks\": \"\"}, \"colorscale\": [[0.0, \"#0d0887\"], [0.1111111111111111, \"#46039f\"], [0.2222222222222222, \"#7201a8\"], [0.3333333333333333, \"#9c179e\"], [0.4444444444444444, \"#bd3786\"], [0.5555555555555556, \"#d8576b\"], [0.6666666666666666, \"#ed7953\"], [0.7777777777777778, \"#fb9f3a\"], [0.8888888888888888, \"#fdca26\"], [1.0, \"#f0f921\"]], \"type\": \"histogram2d\"}], \"histogram2dcontour\": [{\"colorbar\": {\"outlinewidth\": 0, \"ticks\": \"\"}, \"colorscale\": [[0.0, \"#0d0887\"], [0.1111111111111111, \"#46039f\"], [0.2222222222222222, \"#7201a8\"], [0.3333333333333333, \"#9c179e\"], [0.4444444444444444, \"#bd3786\"], [0.5555555555555556, \"#d8576b\"], [0.6666666666666666, \"#ed7953\"], [0.7777777777777778, \"#fb9f3a\"], [0.8888888888888888, \"#fdca26\"], [1.0, \"#f0f921\"]], \"type\": \"histogram2dcontour\"}], \"mesh3d\": [{\"colorbar\": {\"outlinewidth\": 0, \"ticks\": \"\"}, \"type\": \"mesh3d\"}], \"parcoords\": [{\"line\": {\"colorbar\": {\"outlinewidth\": 0, \"ticks\": \"\"}}, \"type\": \"parcoords\"}], \"pie\": [{\"automargin\": true, \"type\": \"pie\"}], \"scatter\": [{\"marker\": {\"colorbar\": {\"outlinewidth\": 0, \"ticks\": \"\"}}, \"type\": \"scatter\"}], \"scatter3d\": [{\"line\": {\"colorbar\": {\"outlinewidth\": 0, \"ticks\": \"\"}}, \"marker\": {\"colorbar\": {\"outlinewidth\": 0, \"ticks\": \"\"}}, \"type\": \"scatter3d\"}], \"scattercarpet\": [{\"marker\": {\"colorbar\": {\"outlinewidth\": 0, \"ticks\": \"\"}}, \"type\": \"scattercarpet\"}], \"scattergeo\": [{\"marker\": {\"colorbar\": {\"outlinewidth\": 0, \"ticks\": \"\"}}, \"type\": \"scattergeo\"}], \"scattergl\": [{\"marker\": {\"colorbar\": {\"outlinewidth\": 0, \"ticks\": \"\"}}, \"type\": \"scattergl\"}], \"scattermapbox\": [{\"marker\": {\"colorbar\": {\"outlinewidth\": 0, \"ticks\": \"\"}}, \"type\": \"scattermapbox\"}], \"scatterpolar\": [{\"marker\": {\"colorbar\": {\"outlinewidth\": 0, \"ticks\": \"\"}}, \"type\": \"scatterpolar\"}], \"scatterpolargl\": [{\"marker\": {\"colorbar\": {\"outlinewidth\": 0, \"ticks\": \"\"}}, \"type\": \"scatterpolargl\"}], \"scatterternary\": [{\"marker\": {\"colorbar\": {\"outlinewidth\": 0, \"ticks\": \"\"}}, \"type\": \"scatterternary\"}], \"surface\": [{\"colorbar\": {\"outlinewidth\": 0, \"ticks\": \"\"}, \"colorscale\": [[0.0, \"#0d0887\"], [0.1111111111111111, \"#46039f\"], [0.2222222222222222, \"#7201a8\"], [0.3333333333333333, \"#9c179e\"], [0.4444444444444444, \"#bd3786\"], [0.5555555555555556, \"#d8576b\"], [0.6666666666666666, \"#ed7953\"], [0.7777777777777778, \"#fb9f3a\"], [0.8888888888888888, \"#fdca26\"], [1.0, \"#f0f921\"]], \"type\": \"surface\"}], \"table\": [{\"cells\": {\"fill\": {\"color\": \"#EBF0F8\"}, \"line\": {\"color\": \"white\"}}, \"header\": {\"fill\": {\"color\": \"#C8D4E3\"}, \"line\": {\"color\": \"white\"}}, \"type\": \"table\"}]}, \"layout\": {\"annotationdefaults\": {\"arrowcolor\": \"#2a3f5f\", \"arrowhead\": 0, \"arrowwidth\": 1}, \"autotypenumbers\": \"strict\", \"coloraxis\": {\"colorbar\": {\"outlinewidth\": 0, \"ticks\": \"\"}}, \"colorscale\": {\"diverging\": [[0, \"#8e0152\"], [0.1, \"#c51b7d\"], [0.2, \"#de77ae\"], [0.3, \"#f1b6da\"], [0.4, \"#fde0ef\"], [0.5, \"#f7f7f7\"], [0.6, \"#e6f5d0\"], [0.7, \"#b8e186\"], [0.8, \"#7fbc41\"], [0.9, \"#4d9221\"], [1, \"#276419\"]], \"sequential\": [[0.0, \"#0d0887\"], [0.1111111111111111, \"#46039f\"], [0.2222222222222222, \"#7201a8\"], [0.3333333333333333, \"#9c179e\"], [0.4444444444444444, \"#bd3786\"], [0.5555555555555556, \"#d8576b\"], [0.6666666666666666, \"#ed7953\"], [0.7777777777777778, \"#fb9f3a\"], [0.8888888888888888, \"#fdca26\"], [1.0, \"#f0f921\"]], \"sequentialminus\": [[0.0, \"#0d0887\"], [0.1111111111111111, \"#46039f\"], [0.2222222222222222, \"#7201a8\"], [0.3333333333333333, \"#9c179e\"], [0.4444444444444444, \"#bd3786\"], [0.5555555555555556, \"#d8576b\"], [0.6666666666666666, \"#ed7953\"], [0.7777777777777778, \"#fb9f3a\"], [0.8888888888888888, \"#fdca26\"], [1.0, \"#f0f921\"]]}, \"colorway\": [\"#636efa\", \"#EF553B\", \"#00cc96\", \"#ab63fa\", \"#FFA15A\", \"#19d3f3\", \"#FF6692\", \"#B6E880\", \"#FF97FF\", \"#FECB52\"], \"font\": {\"color\": \"#2a3f5f\"}, \"geo\": {\"bgcolor\": \"white\", \"lakecolor\": \"white\", \"landcolor\": \"#E5ECF6\", \"showlakes\": true, \"showland\": true, \"subunitcolor\": \"white\"}, \"hoverlabel\": {\"align\": \"left\"}, \"hovermode\": \"closest\", \"mapbox\": {\"style\": \"light\"}, \"paper_bgcolor\": \"white\", \"plot_bgcolor\": \"#E5ECF6\", \"polar\": {\"angularaxis\": {\"gridcolor\": \"white\", \"linecolor\": \"white\", \"ticks\": \"\"}, \"bgcolor\": \"#E5ECF6\", \"radialaxis\": {\"gridcolor\": \"white\", \"linecolor\": \"white\", \"ticks\": \"\"}}, \"scene\": {\"xaxis\": {\"backgroundcolor\": \"#E5ECF6\", \"gridcolor\": \"white\", \"gridwidth\": 2, \"linecolor\": \"white\", \"showbackground\": true, \"ticks\": \"\", \"zerolinecolor\": \"white\"}, \"yaxis\": {\"backgroundcolor\": \"#E5ECF6\", \"gridcolor\": \"white\", \"gridwidth\": 2, \"linecolor\": \"white\", \"showbackground\": true, \"ticks\": \"\", \"zerolinecolor\": \"white\"}, \"zaxis\": {\"backgroundcolor\": \"#E5ECF6\", \"gridcolor\": \"white\", \"gridwidth\": 2, \"linecolor\": \"white\", \"showbackground\": true, \"ticks\": \"\", \"zerolinecolor\": \"white\"}}, \"shapedefaults\": {\"line\": {\"color\": \"#2a3f5f\"}}, \"ternary\": {\"aaxis\": {\"gridcolor\": \"white\", \"linecolor\": \"white\", \"ticks\": \"\"}, \"baxis\": {\"gridcolor\": \"white\", \"linecolor\": \"white\", \"ticks\": \"\"}, \"bgcolor\": \"#E5ECF6\", \"caxis\": {\"gridcolor\": \"white\", \"linecolor\": \"white\", \"ticks\": \"\"}}, \"title\": {\"x\": 0.05}, \"xaxis\": {\"automargin\": true, \"gridcolor\": \"white\", \"linecolor\": \"white\", \"ticks\": \"\", \"title\": {\"standoff\": 15}, \"zerolinecolor\": \"white\", \"zerolinewidth\": 2}, \"yaxis\": {\"automargin\": true, \"gridcolor\": \"white\", \"linecolor\": \"white\", \"ticks\": \"\", \"title\": {\"standoff\": 15}, \"zerolinecolor\": \"white\", \"zerolinewidth\": 2}}}, \"title\": {\"text\": \"Sum of Value added Categories by Year\"}, \"width\": 800, \"xaxis\": {\"anchor\": \"y\", \"domain\": [0.0, 1.0], \"title\": {\"text\": \"School Year\"}}, \"yaxis\": {\"anchor\": \"x\", \"domain\": [0.0, 1.0], \"title\": {\"text\": \"Count\"}}},                        {\"responsive\": true}                    ).then(function(){\n",
       "                            \n",
       "var gd = document.getElementById('efee1712-366d-46c2-90fc-226288a2f5d7');\n",
       "var x = new MutationObserver(function (mutations, observer) {{\n",
       "        var display = window.getComputedStyle(gd).display;\n",
       "        if (!display || display === 'none') {{\n",
       "            console.log([gd, 'removed!']);\n",
       "            Plotly.purge(gd);\n",
       "            observer.disconnect();\n",
       "        }}\n",
       "}});\n",
       "\n",
       "// Listen for the removal of the full notebook cells\n",
       "var notebookContainer = gd.closest('#notebook-container');\n",
       "if (notebookContainer) {{\n",
       "    x.observe(notebookContainer, {childList: true});\n",
       "}}\n",
       "\n",
       "// Listen for the clearing of the current output cell\n",
       "var outputEl = gd.closest('.output');\n",
       "if (outputEl) {{\n",
       "    x.observe(outputEl, {childList: true});\n",
       "}}\n",
       "\n",
       "                        })                };                });            </script>        </div>"
      ]
     },
     "metadata": {},
     "output_type": "display_data"
    }
   ],
   "source": [
    "# Calculate the sum of categories by year\n",
    "result = df_CMSD.groupby('School_Year')['Overall_Value_Added_Grade'].value_counts().unstack(fill_value=0).reset_index()\n",
    "\n",
    "# Plot with Plotly Express\n",
    "fig = px.bar(\n",
    "    result,\n",
    "    x='School_Year',\n",
    "    y=result.columns[1:],  \n",
    "    title='Sum of Value added Categories by Year',\n",
    "    labels={'value': 'Count', 'School_Year': 'School Year'},\n",
    "    barmode='stack',\n",
    "    height=600,  \n",
    "    width=800,\n",
    ")\n",
    "\n",
    "# Add legend\n",
    "fig.update_layout(\n",
    "    legend=dict(\n",
    "        title='Overall Value Added Grades',\n",
    "        orientation='h',\n",
    "        yanchor='bottom',\n",
    "        y=1.02,\n",
    "        xanchor='right',\n",
    "        x=1\n",
    "    )\n",
    ")\n",
    "\n",
    "# Show the plot\n",
    "fig.show()"
   ]
  },
  {
   "cell_type": "code",
   "execution_count": null,
   "metadata": {},
   "outputs": [],
   "source": []
  },
  {
   "cell_type": "markdown",
   "metadata": {},
   "source": [
    "## Data visualization for Performance Index Percent "
   ]
  },
  {
   "cell_type": "markdown",
   "metadata": {},
   "source": [
    "### Interactive Plot thats shows Average Percentage of performance index for each year"
   ]
  },
  {
   "cell_type": "code",
   "execution_count": 141,
   "metadata": {},
   "outputs": [
    {
     "data": {
      "application/vnd.plotly.v1+json": {
       "config": {
        "plotlyServerURL": "https://plot.ly"
       },
       "data": [
        {
         "alignmentgroup": "True",
         "hovertemplate": "School Year=%{x}<br>Avg Performance Index Percent=%{y}<extra></extra>",
         "legendgroup": "2015-2016",
         "marker": {
          "color": "#636efa"
         },
         "name": "2015-2016",
         "offsetgroup": "2015-2016",
         "orientation": "v",
         "showlegend": true,
         "textposition": "auto",
         "type": "bar",
         "x": [
          "2015-2016"
         ],
         "xaxis": "x",
         "y": [
          37.28803418803419
         ],
         "yaxis": "y"
        },
        {
         "alignmentgroup": "True",
         "hovertemplate": "School Year=%{x}<br>Avg Performance Index Percent=%{y}<extra></extra>",
         "legendgroup": "2016-2017",
         "marker": {
          "color": "#EF553B"
         },
         "name": "2016-2017",
         "offsetgroup": "2016-2017",
         "orientation": "v",
         "showlegend": true,
         "textposition": "auto",
         "type": "bar",
         "x": [
          "2016-2017"
         ],
         "xaxis": "x",
         "y": [
          47.83529411764705
         ],
         "yaxis": "y"
        },
        {
         "alignmentgroup": "True",
         "hovertemplate": "School Year=%{x}<br>Avg Performance Index Percent=%{y}<extra></extra>",
         "legendgroup": "2017-2018",
         "marker": {
          "color": "#00cc96"
         },
         "name": "2017-2018",
         "offsetgroup": "2017-2018",
         "orientation": "v",
         "showlegend": true,
         "textposition": "auto",
         "type": "bar",
         "x": [
          "2017-2018"
         ],
         "xaxis": "x",
         "y": [
          49.82113821138211
         ],
         "yaxis": "y"
        }
       ],
       "layout": {
        "annotations": [
         {
          "font": {
           "size": 10
          },
          "showarrow": false,
          "text": "Avg PIP: 37.29%",
          "x": "2015-2016",
          "y": 39.28803418803419
         },
         {
          "font": {
           "size": 10
          },
          "showarrow": false,
          "text": "Avg PIP: 47.84%",
          "x": "2016-2017",
          "y": 49.83529411764705
         },
         {
          "font": {
           "size": 10
          },
          "showarrow": false,
          "text": "Avg PIP: 49.82%",
          "x": "2017-2018",
          "y": 51.82113821138211
         }
        ],
        "barmode": "relative",
        "height": 600,
        "legend": {
         "title": {
          "text": "School Year"
         },
         "tracegroupgap": 0
        },
        "template": {
         "data": {
          "bar": [
           {
            "error_x": {
             "color": "#2a3f5f"
            },
            "error_y": {
             "color": "#2a3f5f"
            },
            "marker": {
             "line": {
              "color": "#E5ECF6",
              "width": 0.5
             }
            },
            "type": "bar"
           }
          ],
          "barpolar": [
           {
            "marker": {
             "line": {
              "color": "#E5ECF6",
              "width": 0.5
             }
            },
            "type": "barpolar"
           }
          ],
          "carpet": [
           {
            "aaxis": {
             "endlinecolor": "#2a3f5f",
             "gridcolor": "white",
             "linecolor": "white",
             "minorgridcolor": "white",
             "startlinecolor": "#2a3f5f"
            },
            "baxis": {
             "endlinecolor": "#2a3f5f",
             "gridcolor": "white",
             "linecolor": "white",
             "minorgridcolor": "white",
             "startlinecolor": "#2a3f5f"
            },
            "type": "carpet"
           }
          ],
          "choropleth": [
           {
            "colorbar": {
             "outlinewidth": 0,
             "ticks": ""
            },
            "type": "choropleth"
           }
          ],
          "contour": [
           {
            "colorbar": {
             "outlinewidth": 0,
             "ticks": ""
            },
            "colorscale": [
             [
              0,
              "#0d0887"
             ],
             [
              0.1111111111111111,
              "#46039f"
             ],
             [
              0.2222222222222222,
              "#7201a8"
             ],
             [
              0.3333333333333333,
              "#9c179e"
             ],
             [
              0.4444444444444444,
              "#bd3786"
             ],
             [
              0.5555555555555556,
              "#d8576b"
             ],
             [
              0.6666666666666666,
              "#ed7953"
             ],
             [
              0.7777777777777778,
              "#fb9f3a"
             ],
             [
              0.8888888888888888,
              "#fdca26"
             ],
             [
              1,
              "#f0f921"
             ]
            ],
            "type": "contour"
           }
          ],
          "contourcarpet": [
           {
            "colorbar": {
             "outlinewidth": 0,
             "ticks": ""
            },
            "type": "contourcarpet"
           }
          ],
          "heatmap": [
           {
            "colorbar": {
             "outlinewidth": 0,
             "ticks": ""
            },
            "colorscale": [
             [
              0,
              "#0d0887"
             ],
             [
              0.1111111111111111,
              "#46039f"
             ],
             [
              0.2222222222222222,
              "#7201a8"
             ],
             [
              0.3333333333333333,
              "#9c179e"
             ],
             [
              0.4444444444444444,
              "#bd3786"
             ],
             [
              0.5555555555555556,
              "#d8576b"
             ],
             [
              0.6666666666666666,
              "#ed7953"
             ],
             [
              0.7777777777777778,
              "#fb9f3a"
             ],
             [
              0.8888888888888888,
              "#fdca26"
             ],
             [
              1,
              "#f0f921"
             ]
            ],
            "type": "heatmap"
           }
          ],
          "heatmapgl": [
           {
            "colorbar": {
             "outlinewidth": 0,
             "ticks": ""
            },
            "colorscale": [
             [
              0,
              "#0d0887"
             ],
             [
              0.1111111111111111,
              "#46039f"
             ],
             [
              0.2222222222222222,
              "#7201a8"
             ],
             [
              0.3333333333333333,
              "#9c179e"
             ],
             [
              0.4444444444444444,
              "#bd3786"
             ],
             [
              0.5555555555555556,
              "#d8576b"
             ],
             [
              0.6666666666666666,
              "#ed7953"
             ],
             [
              0.7777777777777778,
              "#fb9f3a"
             ],
             [
              0.8888888888888888,
              "#fdca26"
             ],
             [
              1,
              "#f0f921"
             ]
            ],
            "type": "heatmapgl"
           }
          ],
          "histogram": [
           {
            "marker": {
             "colorbar": {
              "outlinewidth": 0,
              "ticks": ""
             }
            },
            "type": "histogram"
           }
          ],
          "histogram2d": [
           {
            "colorbar": {
             "outlinewidth": 0,
             "ticks": ""
            },
            "colorscale": [
             [
              0,
              "#0d0887"
             ],
             [
              0.1111111111111111,
              "#46039f"
             ],
             [
              0.2222222222222222,
              "#7201a8"
             ],
             [
              0.3333333333333333,
              "#9c179e"
             ],
             [
              0.4444444444444444,
              "#bd3786"
             ],
             [
              0.5555555555555556,
              "#d8576b"
             ],
             [
              0.6666666666666666,
              "#ed7953"
             ],
             [
              0.7777777777777778,
              "#fb9f3a"
             ],
             [
              0.8888888888888888,
              "#fdca26"
             ],
             [
              1,
              "#f0f921"
             ]
            ],
            "type": "histogram2d"
           }
          ],
          "histogram2dcontour": [
           {
            "colorbar": {
             "outlinewidth": 0,
             "ticks": ""
            },
            "colorscale": [
             [
              0,
              "#0d0887"
             ],
             [
              0.1111111111111111,
              "#46039f"
             ],
             [
              0.2222222222222222,
              "#7201a8"
             ],
             [
              0.3333333333333333,
              "#9c179e"
             ],
             [
              0.4444444444444444,
              "#bd3786"
             ],
             [
              0.5555555555555556,
              "#d8576b"
             ],
             [
              0.6666666666666666,
              "#ed7953"
             ],
             [
              0.7777777777777778,
              "#fb9f3a"
             ],
             [
              0.8888888888888888,
              "#fdca26"
             ],
             [
              1,
              "#f0f921"
             ]
            ],
            "type": "histogram2dcontour"
           }
          ],
          "mesh3d": [
           {
            "colorbar": {
             "outlinewidth": 0,
             "ticks": ""
            },
            "type": "mesh3d"
           }
          ],
          "parcoords": [
           {
            "line": {
             "colorbar": {
              "outlinewidth": 0,
              "ticks": ""
             }
            },
            "type": "parcoords"
           }
          ],
          "pie": [
           {
            "automargin": true,
            "type": "pie"
           }
          ],
          "scatter": [
           {
            "marker": {
             "colorbar": {
              "outlinewidth": 0,
              "ticks": ""
             }
            },
            "type": "scatter"
           }
          ],
          "scatter3d": [
           {
            "line": {
             "colorbar": {
              "outlinewidth": 0,
              "ticks": ""
             }
            },
            "marker": {
             "colorbar": {
              "outlinewidth": 0,
              "ticks": ""
             }
            },
            "type": "scatter3d"
           }
          ],
          "scattercarpet": [
           {
            "marker": {
             "colorbar": {
              "outlinewidth": 0,
              "ticks": ""
             }
            },
            "type": "scattercarpet"
           }
          ],
          "scattergeo": [
           {
            "marker": {
             "colorbar": {
              "outlinewidth": 0,
              "ticks": ""
             }
            },
            "type": "scattergeo"
           }
          ],
          "scattergl": [
           {
            "marker": {
             "colorbar": {
              "outlinewidth": 0,
              "ticks": ""
             }
            },
            "type": "scattergl"
           }
          ],
          "scattermapbox": [
           {
            "marker": {
             "colorbar": {
              "outlinewidth": 0,
              "ticks": ""
             }
            },
            "type": "scattermapbox"
           }
          ],
          "scatterpolar": [
           {
            "marker": {
             "colorbar": {
              "outlinewidth": 0,
              "ticks": ""
             }
            },
            "type": "scatterpolar"
           }
          ],
          "scatterpolargl": [
           {
            "marker": {
             "colorbar": {
              "outlinewidth": 0,
              "ticks": ""
             }
            },
            "type": "scatterpolargl"
           }
          ],
          "scatterternary": [
           {
            "marker": {
             "colorbar": {
              "outlinewidth": 0,
              "ticks": ""
             }
            },
            "type": "scatterternary"
           }
          ],
          "surface": [
           {
            "colorbar": {
             "outlinewidth": 0,
             "ticks": ""
            },
            "colorscale": [
             [
              0,
              "#0d0887"
             ],
             [
              0.1111111111111111,
              "#46039f"
             ],
             [
              0.2222222222222222,
              "#7201a8"
             ],
             [
              0.3333333333333333,
              "#9c179e"
             ],
             [
              0.4444444444444444,
              "#bd3786"
             ],
             [
              0.5555555555555556,
              "#d8576b"
             ],
             [
              0.6666666666666666,
              "#ed7953"
             ],
             [
              0.7777777777777778,
              "#fb9f3a"
             ],
             [
              0.8888888888888888,
              "#fdca26"
             ],
             [
              1,
              "#f0f921"
             ]
            ],
            "type": "surface"
           }
          ],
          "table": [
           {
            "cells": {
             "fill": {
              "color": "#EBF0F8"
             },
             "line": {
              "color": "white"
             }
            },
            "header": {
             "fill": {
              "color": "#C8D4E3"
             },
             "line": {
              "color": "white"
             }
            },
            "type": "table"
           }
          ]
         },
         "layout": {
          "annotationdefaults": {
           "arrowcolor": "#2a3f5f",
           "arrowhead": 0,
           "arrowwidth": 1
          },
          "autotypenumbers": "strict",
          "coloraxis": {
           "colorbar": {
            "outlinewidth": 0,
            "ticks": ""
           }
          },
          "colorscale": {
           "diverging": [
            [
             0,
             "#8e0152"
            ],
            [
             0.1,
             "#c51b7d"
            ],
            [
             0.2,
             "#de77ae"
            ],
            [
             0.3,
             "#f1b6da"
            ],
            [
             0.4,
             "#fde0ef"
            ],
            [
             0.5,
             "#f7f7f7"
            ],
            [
             0.6,
             "#e6f5d0"
            ],
            [
             0.7,
             "#b8e186"
            ],
            [
             0.8,
             "#7fbc41"
            ],
            [
             0.9,
             "#4d9221"
            ],
            [
             1,
             "#276419"
            ]
           ],
           "sequential": [
            [
             0,
             "#0d0887"
            ],
            [
             0.1111111111111111,
             "#46039f"
            ],
            [
             0.2222222222222222,
             "#7201a8"
            ],
            [
             0.3333333333333333,
             "#9c179e"
            ],
            [
             0.4444444444444444,
             "#bd3786"
            ],
            [
             0.5555555555555556,
             "#d8576b"
            ],
            [
             0.6666666666666666,
             "#ed7953"
            ],
            [
             0.7777777777777778,
             "#fb9f3a"
            ],
            [
             0.8888888888888888,
             "#fdca26"
            ],
            [
             1,
             "#f0f921"
            ]
           ],
           "sequentialminus": [
            [
             0,
             "#0d0887"
            ],
            [
             0.1111111111111111,
             "#46039f"
            ],
            [
             0.2222222222222222,
             "#7201a8"
            ],
            [
             0.3333333333333333,
             "#9c179e"
            ],
            [
             0.4444444444444444,
             "#bd3786"
            ],
            [
             0.5555555555555556,
             "#d8576b"
            ],
            [
             0.6666666666666666,
             "#ed7953"
            ],
            [
             0.7777777777777778,
             "#fb9f3a"
            ],
            [
             0.8888888888888888,
             "#fdca26"
            ],
            [
             1,
             "#f0f921"
            ]
           ]
          },
          "colorway": [
           "#636efa",
           "#EF553B",
           "#00cc96",
           "#ab63fa",
           "#FFA15A",
           "#19d3f3",
           "#FF6692",
           "#B6E880",
           "#FF97FF",
           "#FECB52"
          ],
          "font": {
           "color": "#2a3f5f"
          },
          "geo": {
           "bgcolor": "white",
           "lakecolor": "white",
           "landcolor": "#E5ECF6",
           "showlakes": true,
           "showland": true,
           "subunitcolor": "white"
          },
          "hoverlabel": {
           "align": "left"
          },
          "hovermode": "closest",
          "mapbox": {
           "style": "light"
          },
          "paper_bgcolor": "white",
          "plot_bgcolor": "#E5ECF6",
          "polar": {
           "angularaxis": {
            "gridcolor": "white",
            "linecolor": "white",
            "ticks": ""
           },
           "bgcolor": "#E5ECF6",
           "radialaxis": {
            "gridcolor": "white",
            "linecolor": "white",
            "ticks": ""
           }
          },
          "scene": {
           "xaxis": {
            "backgroundcolor": "#E5ECF6",
            "gridcolor": "white",
            "gridwidth": 2,
            "linecolor": "white",
            "showbackground": true,
            "ticks": "",
            "zerolinecolor": "white"
           },
           "yaxis": {
            "backgroundcolor": "#E5ECF6",
            "gridcolor": "white",
            "gridwidth": 2,
            "linecolor": "white",
            "showbackground": true,
            "ticks": "",
            "zerolinecolor": "white"
           },
           "zaxis": {
            "backgroundcolor": "#E5ECF6",
            "gridcolor": "white",
            "gridwidth": 2,
            "linecolor": "white",
            "showbackground": true,
            "ticks": "",
            "zerolinecolor": "white"
           }
          },
          "shapedefaults": {
           "line": {
            "color": "#2a3f5f"
           }
          },
          "ternary": {
           "aaxis": {
            "gridcolor": "white",
            "linecolor": "white",
            "ticks": ""
           },
           "baxis": {
            "gridcolor": "white",
            "linecolor": "white",
            "ticks": ""
           },
           "bgcolor": "#E5ECF6",
           "caxis": {
            "gridcolor": "white",
            "linecolor": "white",
            "ticks": ""
           }
          },
          "title": {
           "x": 0.05
          },
          "xaxis": {
           "automargin": true,
           "gridcolor": "white",
           "linecolor": "white",
           "ticks": "",
           "title": {
            "standoff": 15
           },
           "zerolinecolor": "white",
           "zerolinewidth": 2
          },
          "yaxis": {
           "automargin": true,
           "gridcolor": "white",
           "linecolor": "white",
           "ticks": "",
           "title": {
            "standoff": 15
           },
           "zerolinecolor": "white",
           "zerolinewidth": 2
          }
         }
        },
        "title": {
         "text": "Avg Performance Index Percent for the School Years"
        },
        "width": 600,
        "xaxis": {
         "anchor": "y",
         "categoryarray": [
          "2015-2016",
          "2016-2017",
          "2017-2018"
         ],
         "categoryorder": "array",
         "domain": [
          0,
          1
         ],
         "title": {
          "text": "School Year"
         }
        },
        "yaxis": {
         "anchor": "x",
         "domain": [
          0,
          1
         ],
         "title": {
          "text": "Avg Performance Index Percent"
         }
        }
       }
      },
      "text/html": [
       "<div>                            <div id=\"759548eb-1a21-4977-9005-c626cd973aad\" class=\"plotly-graph-div\" style=\"height:600px; width:600px;\"></div>            <script type=\"text/javascript\">                require([\"plotly\"], function(Plotly) {                    window.PLOTLYENV=window.PLOTLYENV || {};                                    if (document.getElementById(\"759548eb-1a21-4977-9005-c626cd973aad\")) {                    Plotly.newPlot(                        \"759548eb-1a21-4977-9005-c626cd973aad\",                        [{\"alignmentgroup\": \"True\", \"hovertemplate\": \"School Year=%{x}<br>Avg Performance Index Percent=%{y}<extra></extra>\", \"legendgroup\": \"2015-2016\", \"marker\": {\"color\": \"#636efa\"}, \"name\": \"2015-2016\", \"offsetgroup\": \"2015-2016\", \"orientation\": \"v\", \"showlegend\": true, \"textposition\": \"auto\", \"type\": \"bar\", \"x\": [\"2015-2016\"], \"xaxis\": \"x\", \"y\": [37.28803418803419], \"yaxis\": \"y\"}, {\"alignmentgroup\": \"True\", \"hovertemplate\": \"School Year=%{x}<br>Avg Performance Index Percent=%{y}<extra></extra>\", \"legendgroup\": \"2016-2017\", \"marker\": {\"color\": \"#EF553B\"}, \"name\": \"2016-2017\", \"offsetgroup\": \"2016-2017\", \"orientation\": \"v\", \"showlegend\": true, \"textposition\": \"auto\", \"type\": \"bar\", \"x\": [\"2016-2017\"], \"xaxis\": \"x\", \"y\": [47.83529411764705], \"yaxis\": \"y\"}, {\"alignmentgroup\": \"True\", \"hovertemplate\": \"School Year=%{x}<br>Avg Performance Index Percent=%{y}<extra></extra>\", \"legendgroup\": \"2017-2018\", \"marker\": {\"color\": \"#00cc96\"}, \"name\": \"2017-2018\", \"offsetgroup\": \"2017-2018\", \"orientation\": \"v\", \"showlegend\": true, \"textposition\": \"auto\", \"type\": \"bar\", \"x\": [\"2017-2018\"], \"xaxis\": \"x\", \"y\": [49.82113821138211], \"yaxis\": \"y\"}],                        {\"annotations\": [{\"font\": {\"size\": 10}, \"showarrow\": false, \"text\": \"Avg PIP: 37.29%\", \"x\": \"2015-2016\", \"y\": 39.28803418803419}, {\"font\": {\"size\": 10}, \"showarrow\": false, \"text\": \"Avg PIP: 47.84%\", \"x\": \"2016-2017\", \"y\": 49.83529411764705}, {\"font\": {\"size\": 10}, \"showarrow\": false, \"text\": \"Avg PIP: 49.82%\", \"x\": \"2017-2018\", \"y\": 51.82113821138211}], \"barmode\": \"relative\", \"height\": 600, \"legend\": {\"title\": {\"text\": \"School Year\"}, \"tracegroupgap\": 0}, \"template\": {\"data\": {\"bar\": [{\"error_x\": {\"color\": \"#2a3f5f\"}, \"error_y\": {\"color\": \"#2a3f5f\"}, \"marker\": {\"line\": {\"color\": \"#E5ECF6\", \"width\": 0.5}}, \"type\": \"bar\"}], \"barpolar\": [{\"marker\": {\"line\": {\"color\": \"#E5ECF6\", \"width\": 0.5}}, \"type\": \"barpolar\"}], \"carpet\": [{\"aaxis\": {\"endlinecolor\": \"#2a3f5f\", \"gridcolor\": \"white\", \"linecolor\": \"white\", \"minorgridcolor\": \"white\", \"startlinecolor\": \"#2a3f5f\"}, \"baxis\": {\"endlinecolor\": \"#2a3f5f\", \"gridcolor\": \"white\", \"linecolor\": \"white\", \"minorgridcolor\": \"white\", \"startlinecolor\": \"#2a3f5f\"}, \"type\": \"carpet\"}], \"choropleth\": [{\"colorbar\": {\"outlinewidth\": 0, \"ticks\": \"\"}, \"type\": \"choropleth\"}], \"contour\": [{\"colorbar\": {\"outlinewidth\": 0, \"ticks\": \"\"}, \"colorscale\": [[0.0, \"#0d0887\"], [0.1111111111111111, \"#46039f\"], [0.2222222222222222, \"#7201a8\"], [0.3333333333333333, \"#9c179e\"], [0.4444444444444444, \"#bd3786\"], [0.5555555555555556, \"#d8576b\"], [0.6666666666666666, \"#ed7953\"], [0.7777777777777778, \"#fb9f3a\"], [0.8888888888888888, \"#fdca26\"], [1.0, \"#f0f921\"]], \"type\": \"contour\"}], \"contourcarpet\": [{\"colorbar\": {\"outlinewidth\": 0, \"ticks\": \"\"}, \"type\": \"contourcarpet\"}], \"heatmap\": [{\"colorbar\": {\"outlinewidth\": 0, \"ticks\": \"\"}, \"colorscale\": [[0.0, \"#0d0887\"], [0.1111111111111111, \"#46039f\"], [0.2222222222222222, \"#7201a8\"], [0.3333333333333333, \"#9c179e\"], [0.4444444444444444, \"#bd3786\"], [0.5555555555555556, \"#d8576b\"], [0.6666666666666666, \"#ed7953\"], [0.7777777777777778, \"#fb9f3a\"], [0.8888888888888888, \"#fdca26\"], [1.0, \"#f0f921\"]], \"type\": \"heatmap\"}], \"heatmapgl\": [{\"colorbar\": {\"outlinewidth\": 0, \"ticks\": \"\"}, \"colorscale\": [[0.0, \"#0d0887\"], [0.1111111111111111, \"#46039f\"], [0.2222222222222222, \"#7201a8\"], [0.3333333333333333, \"#9c179e\"], [0.4444444444444444, \"#bd3786\"], [0.5555555555555556, \"#d8576b\"], [0.6666666666666666, \"#ed7953\"], [0.7777777777777778, \"#fb9f3a\"], [0.8888888888888888, \"#fdca26\"], [1.0, \"#f0f921\"]], \"type\": \"heatmapgl\"}], \"histogram\": [{\"marker\": {\"colorbar\": {\"outlinewidth\": 0, \"ticks\": \"\"}}, \"type\": \"histogram\"}], \"histogram2d\": [{\"colorbar\": {\"outlinewidth\": 0, \"ticks\": \"\"}, \"colorscale\": [[0.0, \"#0d0887\"], [0.1111111111111111, \"#46039f\"], [0.2222222222222222, \"#7201a8\"], [0.3333333333333333, \"#9c179e\"], [0.4444444444444444, \"#bd3786\"], [0.5555555555555556, \"#d8576b\"], [0.6666666666666666, \"#ed7953\"], [0.7777777777777778, \"#fb9f3a\"], [0.8888888888888888, \"#fdca26\"], [1.0, \"#f0f921\"]], \"type\": \"histogram2d\"}], \"histogram2dcontour\": [{\"colorbar\": {\"outlinewidth\": 0, \"ticks\": \"\"}, \"colorscale\": [[0.0, \"#0d0887\"], [0.1111111111111111, \"#46039f\"], [0.2222222222222222, \"#7201a8\"], [0.3333333333333333, \"#9c179e\"], [0.4444444444444444, \"#bd3786\"], [0.5555555555555556, \"#d8576b\"], [0.6666666666666666, \"#ed7953\"], [0.7777777777777778, \"#fb9f3a\"], [0.8888888888888888, \"#fdca26\"], [1.0, \"#f0f921\"]], \"type\": \"histogram2dcontour\"}], \"mesh3d\": [{\"colorbar\": {\"outlinewidth\": 0, \"ticks\": \"\"}, \"type\": \"mesh3d\"}], \"parcoords\": [{\"line\": {\"colorbar\": {\"outlinewidth\": 0, \"ticks\": \"\"}}, \"type\": \"parcoords\"}], \"pie\": [{\"automargin\": true, \"type\": \"pie\"}], \"scatter\": [{\"marker\": {\"colorbar\": {\"outlinewidth\": 0, \"ticks\": \"\"}}, \"type\": \"scatter\"}], \"scatter3d\": [{\"line\": {\"colorbar\": {\"outlinewidth\": 0, \"ticks\": \"\"}}, \"marker\": {\"colorbar\": {\"outlinewidth\": 0, \"ticks\": \"\"}}, \"type\": \"scatter3d\"}], \"scattercarpet\": [{\"marker\": {\"colorbar\": {\"outlinewidth\": 0, \"ticks\": \"\"}}, \"type\": \"scattercarpet\"}], \"scattergeo\": [{\"marker\": {\"colorbar\": {\"outlinewidth\": 0, \"ticks\": \"\"}}, \"type\": \"scattergeo\"}], \"scattergl\": [{\"marker\": {\"colorbar\": {\"outlinewidth\": 0, \"ticks\": \"\"}}, \"type\": \"scattergl\"}], \"scattermapbox\": [{\"marker\": {\"colorbar\": {\"outlinewidth\": 0, \"ticks\": \"\"}}, \"type\": \"scattermapbox\"}], \"scatterpolar\": [{\"marker\": {\"colorbar\": {\"outlinewidth\": 0, \"ticks\": \"\"}}, \"type\": \"scatterpolar\"}], \"scatterpolargl\": [{\"marker\": {\"colorbar\": {\"outlinewidth\": 0, \"ticks\": \"\"}}, \"type\": \"scatterpolargl\"}], \"scatterternary\": [{\"marker\": {\"colorbar\": {\"outlinewidth\": 0, \"ticks\": \"\"}}, \"type\": \"scatterternary\"}], \"surface\": [{\"colorbar\": {\"outlinewidth\": 0, \"ticks\": \"\"}, \"colorscale\": [[0.0, \"#0d0887\"], [0.1111111111111111, \"#46039f\"], [0.2222222222222222, \"#7201a8\"], [0.3333333333333333, \"#9c179e\"], [0.4444444444444444, \"#bd3786\"], [0.5555555555555556, \"#d8576b\"], [0.6666666666666666, \"#ed7953\"], [0.7777777777777778, \"#fb9f3a\"], [0.8888888888888888, \"#fdca26\"], [1.0, \"#f0f921\"]], \"type\": \"surface\"}], \"table\": [{\"cells\": {\"fill\": {\"color\": \"#EBF0F8\"}, \"line\": {\"color\": \"white\"}}, \"header\": {\"fill\": {\"color\": \"#C8D4E3\"}, \"line\": {\"color\": \"white\"}}, \"type\": \"table\"}]}, \"layout\": {\"annotationdefaults\": {\"arrowcolor\": \"#2a3f5f\", \"arrowhead\": 0, \"arrowwidth\": 1}, \"autotypenumbers\": \"strict\", \"coloraxis\": {\"colorbar\": {\"outlinewidth\": 0, \"ticks\": \"\"}}, \"colorscale\": {\"diverging\": [[0, \"#8e0152\"], [0.1, \"#c51b7d\"], [0.2, \"#de77ae\"], [0.3, \"#f1b6da\"], [0.4, \"#fde0ef\"], [0.5, \"#f7f7f7\"], [0.6, \"#e6f5d0\"], [0.7, \"#b8e186\"], [0.8, \"#7fbc41\"], [0.9, \"#4d9221\"], [1, \"#276419\"]], \"sequential\": [[0.0, \"#0d0887\"], [0.1111111111111111, \"#46039f\"], [0.2222222222222222, \"#7201a8\"], [0.3333333333333333, \"#9c179e\"], [0.4444444444444444, \"#bd3786\"], [0.5555555555555556, \"#d8576b\"], [0.6666666666666666, \"#ed7953\"], [0.7777777777777778, \"#fb9f3a\"], [0.8888888888888888, \"#fdca26\"], [1.0, \"#f0f921\"]], \"sequentialminus\": [[0.0, \"#0d0887\"], [0.1111111111111111, \"#46039f\"], [0.2222222222222222, \"#7201a8\"], [0.3333333333333333, \"#9c179e\"], [0.4444444444444444, \"#bd3786\"], [0.5555555555555556, \"#d8576b\"], [0.6666666666666666, \"#ed7953\"], [0.7777777777777778, \"#fb9f3a\"], [0.8888888888888888, \"#fdca26\"], [1.0, \"#f0f921\"]]}, \"colorway\": [\"#636efa\", \"#EF553B\", \"#00cc96\", \"#ab63fa\", \"#FFA15A\", \"#19d3f3\", \"#FF6692\", \"#B6E880\", \"#FF97FF\", \"#FECB52\"], \"font\": {\"color\": \"#2a3f5f\"}, \"geo\": {\"bgcolor\": \"white\", \"lakecolor\": \"white\", \"landcolor\": \"#E5ECF6\", \"showlakes\": true, \"showland\": true, \"subunitcolor\": \"white\"}, \"hoverlabel\": {\"align\": \"left\"}, \"hovermode\": \"closest\", \"mapbox\": {\"style\": \"light\"}, \"paper_bgcolor\": \"white\", \"plot_bgcolor\": \"#E5ECF6\", \"polar\": {\"angularaxis\": {\"gridcolor\": \"white\", \"linecolor\": \"white\", \"ticks\": \"\"}, \"bgcolor\": \"#E5ECF6\", \"radialaxis\": {\"gridcolor\": \"white\", \"linecolor\": \"white\", \"ticks\": \"\"}}, \"scene\": {\"xaxis\": {\"backgroundcolor\": \"#E5ECF6\", \"gridcolor\": \"white\", \"gridwidth\": 2, \"linecolor\": \"white\", \"showbackground\": true, \"ticks\": \"\", \"zerolinecolor\": \"white\"}, \"yaxis\": {\"backgroundcolor\": \"#E5ECF6\", \"gridcolor\": \"white\", \"gridwidth\": 2, \"linecolor\": \"white\", \"showbackground\": true, \"ticks\": \"\", \"zerolinecolor\": \"white\"}, \"zaxis\": {\"backgroundcolor\": \"#E5ECF6\", \"gridcolor\": \"white\", \"gridwidth\": 2, \"linecolor\": \"white\", \"showbackground\": true, \"ticks\": \"\", \"zerolinecolor\": \"white\"}}, \"shapedefaults\": {\"line\": {\"color\": \"#2a3f5f\"}}, \"ternary\": {\"aaxis\": {\"gridcolor\": \"white\", \"linecolor\": \"white\", \"ticks\": \"\"}, \"baxis\": {\"gridcolor\": \"white\", \"linecolor\": \"white\", \"ticks\": \"\"}, \"bgcolor\": \"#E5ECF6\", \"caxis\": {\"gridcolor\": \"white\", \"linecolor\": \"white\", \"ticks\": \"\"}}, \"title\": {\"x\": 0.05}, \"xaxis\": {\"automargin\": true, \"gridcolor\": \"white\", \"linecolor\": \"white\", \"ticks\": \"\", \"title\": {\"standoff\": 15}, \"zerolinecolor\": \"white\", \"zerolinewidth\": 2}, \"yaxis\": {\"automargin\": true, \"gridcolor\": \"white\", \"linecolor\": \"white\", \"ticks\": \"\", \"title\": {\"standoff\": 15}, \"zerolinecolor\": \"white\", \"zerolinewidth\": 2}}}, \"title\": {\"text\": \"Avg Performance Index Percent for the School Years\"}, \"width\": 600, \"xaxis\": {\"anchor\": \"y\", \"categoryarray\": [\"2015-2016\", \"2016-2017\", \"2017-2018\"], \"categoryorder\": \"array\", \"domain\": [0.0, 1.0], \"title\": {\"text\": \"School Year\"}}, \"yaxis\": {\"anchor\": \"x\", \"domain\": [0.0, 1.0], \"title\": {\"text\": \"Avg Performance Index Percent\"}}},                        {\"responsive\": true}                    ).then(function(){\n",
       "                            \n",
       "var gd = document.getElementById('759548eb-1a21-4977-9005-c626cd973aad');\n",
       "var x = new MutationObserver(function (mutations, observer) {{\n",
       "        var display = window.getComputedStyle(gd).display;\n",
       "        if (!display || display === 'none') {{\n",
       "            console.log([gd, 'removed!']);\n",
       "            Plotly.purge(gd);\n",
       "            observer.disconnect();\n",
       "        }}\n",
       "}});\n",
       "\n",
       "// Listen for the removal of the full notebook cells\n",
       "var notebookContainer = gd.closest('#notebook-container');\n",
       "if (notebookContainer) {{\n",
       "    x.observe(notebookContainer, {childList: true});\n",
       "}}\n",
       "\n",
       "// Listen for the clearing of the current output cell\n",
       "var outputEl = gd.closest('.output');\n",
       "if (outputEl) {{\n",
       "    x.observe(outputEl, {childList: true});\n",
       "}}\n",
       "\n",
       "                        })                };                });            </script>        </div>"
      ]
     },
     "metadata": {},
     "output_type": "display_data"
    }
   ],
   "source": [
    "# Filter data for the year 2015-2016\n",
    "Mean = df_CMSD.groupby('School_Year')['Performance_Index_Percent'].mean().reset_index()\n",
    "\n",
    "# Plot bar plot for avg PIP over the years\n",
    "fig = px.bar(\n",
    "    Mean,\n",
    "    x ='School_Year', \n",
    "    y ='Performance_Index_Percent', color = 'School_Year',\n",
    "    title='Avg Performance Index Percent for the School Years',\n",
    "    labels={'Performance_Index_Percent': 'Avg Performance Index Percent', 'School_Year': 'School Year'},\n",
    "    height=600,  \n",
    "    width=600,)\n",
    "\n",
    "# Adding mean values \n",
    "for index, row in Mean.iterrows():\n",
    "    fig.add_annotation(\n",
    "        x=row['School_Year'],\n",
    "        y=row['Performance_Index_Percent']+2,\n",
    "        text=f'Avg PIP: {row[\"Performance_Index_Percent\"]:.2f}%',\n",
    "        showarrow=False,\n",
    "        font=dict(size=10),)\n",
    "       \n",
    "fig.show()"
   ]
  },
  {
   "cell_type": "markdown",
   "metadata": {},
   "source": [
    "### Ploting the graph of how Average of Performance Index Percentage is changed over the school year 2015-2016 in Percentage"
   ]
  },
  {
   "cell_type": "code",
   "execution_count": 113,
   "metadata": {},
   "outputs": [
    {
     "name": "stdout",
     "output_type": "stream",
     "text": [
      "  School_Year  Performance_Index_Percent  Avg_PIP_Difference  \\\n",
      "0   2015-2016                  37.288034            0.000000   \n",
      "1   2016-2017                  47.835294           10.547260   \n",
      "2   2017-2018                  49.821138           12.533104   \n",
      "\n",
      "   AVG_PIP_Percentage_Change  \n",
      "0                   0.000000  \n",
      "1                  28.285911  \n",
      "2                  33.611598  \n"
     ]
    }
   ],
   "source": [
    "# Calculating the sum of PIP for each year\n",
    "total_by_year_PIP = df_CMSD.groupby('School_Year')['Performance_Index_Percent'].mean().reset_index()\n",
    "\n",
    "# Filter data for the year 2015-2016 and later\n",
    "filtered_data_PIP = total_by_year_PIP[total_by_year_PIP['School_Year'] >= '2015-2016']\n",
    "\n",
    "# Calculate the difference in enrollment relative to 2015-2016\n",
    "filtered_data_PIP['Avg_PIP_Difference'] = filtered_data_PIP['Performance_Index_Percent'] - filtered_data_PIP.loc[filtered_data_PIP['School_Year'] == '2015-2016', 'Performance_Index_Percent'].values[0]\n",
    "\n",
    "# Calculating the percentage change per year\n",
    "filtered_data_PIP['AVG_PIP_Percentage_Change'] = (filtered_data_PIP['Avg_PIP_Difference'] / 37.288034) * 100\n",
    "\n",
    "print(filtered_data_PIP)\n"
   ]
  },
  {
   "cell_type": "code",
   "execution_count": 143,
   "metadata": {},
   "outputs": [
    {
     "data": {
      "application/vnd.plotly.v1+json": {
       "config": {
        "plotlyServerURL": "https://plot.ly"
       },
       "data": [
        {
         "alignmentgroup": "True",
         "hovertemplate": "School Year=%{x}<br>PIP Percentage Change=%{y}<extra></extra>",
         "legendgroup": "2015-2016",
         "marker": {
          "color": "#636efa"
         },
         "name": "2015-2016",
         "offsetgroup": "2015-2016",
         "orientation": "v",
         "showlegend": true,
         "textposition": "auto",
         "type": "bar",
         "x": [
          "2015-2016"
         ],
         "xaxis": "x",
         "y": [
          0
         ],
         "yaxis": "y"
        },
        {
         "alignmentgroup": "True",
         "hovertemplate": "School Year=%{x}<br>PIP Percentage Change=%{y}<extra></extra>",
         "legendgroup": "2016-2017",
         "marker": {
          "color": "#EF553B"
         },
         "name": "2016-2017",
         "offsetgroup": "2016-2017",
         "orientation": "v",
         "showlegend": true,
         "textposition": "auto",
         "type": "bar",
         "x": [
          "2016-2017"
         ],
         "xaxis": "x",
         "y": [
          28.29
         ],
         "yaxis": "y"
        },
        {
         "alignmentgroup": "True",
         "hovertemplate": "School Year=%{x}<br>PIP Percentage Change=%{y}<extra></extra>",
         "legendgroup": "2017-2018",
         "marker": {
          "color": "#00cc96"
         },
         "name": "2017-2018",
         "offsetgroup": "2017-2018",
         "orientation": "v",
         "showlegend": true,
         "textposition": "auto",
         "type": "bar",
         "x": [
          "2017-2018"
         ],
         "xaxis": "x",
         "y": [
          33.61
         ],
         "yaxis": "y"
        }
       ],
       "layout": {
        "annotations": [
         {
          "arrowhead": 1,
          "ax": 0,
          "ay": -40,
          "showarrow": true,
          "text": "0.0%",
          "x": "2015-2016",
          "y": 0
         },
         {
          "arrowhead": 1,
          "ax": 0,
          "ay": -40,
          "showarrow": true,
          "text": "28.29%",
          "x": "2016-2017",
          "y": 28.29
         },
         {
          "arrowhead": 1,
          "ax": 0,
          "ay": -40,
          "showarrow": true,
          "text": "33.61%",
          "x": "2017-2018",
          "y": 33.61
         }
        ],
        "barmode": "relative",
        "legend": {
         "title": {
          "text": "School Year"
         },
         "tracegroupgap": 0
        },
        "template": {
         "data": {
          "bar": [
           {
            "error_x": {
             "color": "#2a3f5f"
            },
            "error_y": {
             "color": "#2a3f5f"
            },
            "marker": {
             "line": {
              "color": "#E5ECF6",
              "width": 0.5
             }
            },
            "type": "bar"
           }
          ],
          "barpolar": [
           {
            "marker": {
             "line": {
              "color": "#E5ECF6",
              "width": 0.5
             }
            },
            "type": "barpolar"
           }
          ],
          "carpet": [
           {
            "aaxis": {
             "endlinecolor": "#2a3f5f",
             "gridcolor": "white",
             "linecolor": "white",
             "minorgridcolor": "white",
             "startlinecolor": "#2a3f5f"
            },
            "baxis": {
             "endlinecolor": "#2a3f5f",
             "gridcolor": "white",
             "linecolor": "white",
             "minorgridcolor": "white",
             "startlinecolor": "#2a3f5f"
            },
            "type": "carpet"
           }
          ],
          "choropleth": [
           {
            "colorbar": {
             "outlinewidth": 0,
             "ticks": ""
            },
            "type": "choropleth"
           }
          ],
          "contour": [
           {
            "colorbar": {
             "outlinewidth": 0,
             "ticks": ""
            },
            "colorscale": [
             [
              0,
              "#0d0887"
             ],
             [
              0.1111111111111111,
              "#46039f"
             ],
             [
              0.2222222222222222,
              "#7201a8"
             ],
             [
              0.3333333333333333,
              "#9c179e"
             ],
             [
              0.4444444444444444,
              "#bd3786"
             ],
             [
              0.5555555555555556,
              "#d8576b"
             ],
             [
              0.6666666666666666,
              "#ed7953"
             ],
             [
              0.7777777777777778,
              "#fb9f3a"
             ],
             [
              0.8888888888888888,
              "#fdca26"
             ],
             [
              1,
              "#f0f921"
             ]
            ],
            "type": "contour"
           }
          ],
          "contourcarpet": [
           {
            "colorbar": {
             "outlinewidth": 0,
             "ticks": ""
            },
            "type": "contourcarpet"
           }
          ],
          "heatmap": [
           {
            "colorbar": {
             "outlinewidth": 0,
             "ticks": ""
            },
            "colorscale": [
             [
              0,
              "#0d0887"
             ],
             [
              0.1111111111111111,
              "#46039f"
             ],
             [
              0.2222222222222222,
              "#7201a8"
             ],
             [
              0.3333333333333333,
              "#9c179e"
             ],
             [
              0.4444444444444444,
              "#bd3786"
             ],
             [
              0.5555555555555556,
              "#d8576b"
             ],
             [
              0.6666666666666666,
              "#ed7953"
             ],
             [
              0.7777777777777778,
              "#fb9f3a"
             ],
             [
              0.8888888888888888,
              "#fdca26"
             ],
             [
              1,
              "#f0f921"
             ]
            ],
            "type": "heatmap"
           }
          ],
          "heatmapgl": [
           {
            "colorbar": {
             "outlinewidth": 0,
             "ticks": ""
            },
            "colorscale": [
             [
              0,
              "#0d0887"
             ],
             [
              0.1111111111111111,
              "#46039f"
             ],
             [
              0.2222222222222222,
              "#7201a8"
             ],
             [
              0.3333333333333333,
              "#9c179e"
             ],
             [
              0.4444444444444444,
              "#bd3786"
             ],
             [
              0.5555555555555556,
              "#d8576b"
             ],
             [
              0.6666666666666666,
              "#ed7953"
             ],
             [
              0.7777777777777778,
              "#fb9f3a"
             ],
             [
              0.8888888888888888,
              "#fdca26"
             ],
             [
              1,
              "#f0f921"
             ]
            ],
            "type": "heatmapgl"
           }
          ],
          "histogram": [
           {
            "marker": {
             "colorbar": {
              "outlinewidth": 0,
              "ticks": ""
             }
            },
            "type": "histogram"
           }
          ],
          "histogram2d": [
           {
            "colorbar": {
             "outlinewidth": 0,
             "ticks": ""
            },
            "colorscale": [
             [
              0,
              "#0d0887"
             ],
             [
              0.1111111111111111,
              "#46039f"
             ],
             [
              0.2222222222222222,
              "#7201a8"
             ],
             [
              0.3333333333333333,
              "#9c179e"
             ],
             [
              0.4444444444444444,
              "#bd3786"
             ],
             [
              0.5555555555555556,
              "#d8576b"
             ],
             [
              0.6666666666666666,
              "#ed7953"
             ],
             [
              0.7777777777777778,
              "#fb9f3a"
             ],
             [
              0.8888888888888888,
              "#fdca26"
             ],
             [
              1,
              "#f0f921"
             ]
            ],
            "type": "histogram2d"
           }
          ],
          "histogram2dcontour": [
           {
            "colorbar": {
             "outlinewidth": 0,
             "ticks": ""
            },
            "colorscale": [
             [
              0,
              "#0d0887"
             ],
             [
              0.1111111111111111,
              "#46039f"
             ],
             [
              0.2222222222222222,
              "#7201a8"
             ],
             [
              0.3333333333333333,
              "#9c179e"
             ],
             [
              0.4444444444444444,
              "#bd3786"
             ],
             [
              0.5555555555555556,
              "#d8576b"
             ],
             [
              0.6666666666666666,
              "#ed7953"
             ],
             [
              0.7777777777777778,
              "#fb9f3a"
             ],
             [
              0.8888888888888888,
              "#fdca26"
             ],
             [
              1,
              "#f0f921"
             ]
            ],
            "type": "histogram2dcontour"
           }
          ],
          "mesh3d": [
           {
            "colorbar": {
             "outlinewidth": 0,
             "ticks": ""
            },
            "type": "mesh3d"
           }
          ],
          "parcoords": [
           {
            "line": {
             "colorbar": {
              "outlinewidth": 0,
              "ticks": ""
             }
            },
            "type": "parcoords"
           }
          ],
          "pie": [
           {
            "automargin": true,
            "type": "pie"
           }
          ],
          "scatter": [
           {
            "marker": {
             "colorbar": {
              "outlinewidth": 0,
              "ticks": ""
             }
            },
            "type": "scatter"
           }
          ],
          "scatter3d": [
           {
            "line": {
             "colorbar": {
              "outlinewidth": 0,
              "ticks": ""
             }
            },
            "marker": {
             "colorbar": {
              "outlinewidth": 0,
              "ticks": ""
             }
            },
            "type": "scatter3d"
           }
          ],
          "scattercarpet": [
           {
            "marker": {
             "colorbar": {
              "outlinewidth": 0,
              "ticks": ""
             }
            },
            "type": "scattercarpet"
           }
          ],
          "scattergeo": [
           {
            "marker": {
             "colorbar": {
              "outlinewidth": 0,
              "ticks": ""
             }
            },
            "type": "scattergeo"
           }
          ],
          "scattergl": [
           {
            "marker": {
             "colorbar": {
              "outlinewidth": 0,
              "ticks": ""
             }
            },
            "type": "scattergl"
           }
          ],
          "scattermapbox": [
           {
            "marker": {
             "colorbar": {
              "outlinewidth": 0,
              "ticks": ""
             }
            },
            "type": "scattermapbox"
           }
          ],
          "scatterpolar": [
           {
            "marker": {
             "colorbar": {
              "outlinewidth": 0,
              "ticks": ""
             }
            },
            "type": "scatterpolar"
           }
          ],
          "scatterpolargl": [
           {
            "marker": {
             "colorbar": {
              "outlinewidth": 0,
              "ticks": ""
             }
            },
            "type": "scatterpolargl"
           }
          ],
          "scatterternary": [
           {
            "marker": {
             "colorbar": {
              "outlinewidth": 0,
              "ticks": ""
             }
            },
            "type": "scatterternary"
           }
          ],
          "surface": [
           {
            "colorbar": {
             "outlinewidth": 0,
             "ticks": ""
            },
            "colorscale": [
             [
              0,
              "#0d0887"
             ],
             [
              0.1111111111111111,
              "#46039f"
             ],
             [
              0.2222222222222222,
              "#7201a8"
             ],
             [
              0.3333333333333333,
              "#9c179e"
             ],
             [
              0.4444444444444444,
              "#bd3786"
             ],
             [
              0.5555555555555556,
              "#d8576b"
             ],
             [
              0.6666666666666666,
              "#ed7953"
             ],
             [
              0.7777777777777778,
              "#fb9f3a"
             ],
             [
              0.8888888888888888,
              "#fdca26"
             ],
             [
              1,
              "#f0f921"
             ]
            ],
            "type": "surface"
           }
          ],
          "table": [
           {
            "cells": {
             "fill": {
              "color": "#EBF0F8"
             },
             "line": {
              "color": "white"
             }
            },
            "header": {
             "fill": {
              "color": "#C8D4E3"
             },
             "line": {
              "color": "white"
             }
            },
            "type": "table"
           }
          ]
         },
         "layout": {
          "annotationdefaults": {
           "arrowcolor": "#2a3f5f",
           "arrowhead": 0,
           "arrowwidth": 1
          },
          "autotypenumbers": "strict",
          "coloraxis": {
           "colorbar": {
            "outlinewidth": 0,
            "ticks": ""
           }
          },
          "colorscale": {
           "diverging": [
            [
             0,
             "#8e0152"
            ],
            [
             0.1,
             "#c51b7d"
            ],
            [
             0.2,
             "#de77ae"
            ],
            [
             0.3,
             "#f1b6da"
            ],
            [
             0.4,
             "#fde0ef"
            ],
            [
             0.5,
             "#f7f7f7"
            ],
            [
             0.6,
             "#e6f5d0"
            ],
            [
             0.7,
             "#b8e186"
            ],
            [
             0.8,
             "#7fbc41"
            ],
            [
             0.9,
             "#4d9221"
            ],
            [
             1,
             "#276419"
            ]
           ],
           "sequential": [
            [
             0,
             "#0d0887"
            ],
            [
             0.1111111111111111,
             "#46039f"
            ],
            [
             0.2222222222222222,
             "#7201a8"
            ],
            [
             0.3333333333333333,
             "#9c179e"
            ],
            [
             0.4444444444444444,
             "#bd3786"
            ],
            [
             0.5555555555555556,
             "#d8576b"
            ],
            [
             0.6666666666666666,
             "#ed7953"
            ],
            [
             0.7777777777777778,
             "#fb9f3a"
            ],
            [
             0.8888888888888888,
             "#fdca26"
            ],
            [
             1,
             "#f0f921"
            ]
           ],
           "sequentialminus": [
            [
             0,
             "#0d0887"
            ],
            [
             0.1111111111111111,
             "#46039f"
            ],
            [
             0.2222222222222222,
             "#7201a8"
            ],
            [
             0.3333333333333333,
             "#9c179e"
            ],
            [
             0.4444444444444444,
             "#bd3786"
            ],
            [
             0.5555555555555556,
             "#d8576b"
            ],
            [
             0.6666666666666666,
             "#ed7953"
            ],
            [
             0.7777777777777778,
             "#fb9f3a"
            ],
            [
             0.8888888888888888,
             "#fdca26"
            ],
            [
             1,
             "#f0f921"
            ]
           ]
          },
          "colorway": [
           "#636efa",
           "#EF553B",
           "#00cc96",
           "#ab63fa",
           "#FFA15A",
           "#19d3f3",
           "#FF6692",
           "#B6E880",
           "#FF97FF",
           "#FECB52"
          ],
          "font": {
           "color": "#2a3f5f"
          },
          "geo": {
           "bgcolor": "white",
           "lakecolor": "white",
           "landcolor": "#E5ECF6",
           "showlakes": true,
           "showland": true,
           "subunitcolor": "white"
          },
          "hoverlabel": {
           "align": "left"
          },
          "hovermode": "closest",
          "mapbox": {
           "style": "light"
          },
          "paper_bgcolor": "white",
          "plot_bgcolor": "#E5ECF6",
          "polar": {
           "angularaxis": {
            "gridcolor": "white",
            "linecolor": "white",
            "ticks": ""
           },
           "bgcolor": "#E5ECF6",
           "radialaxis": {
            "gridcolor": "white",
            "linecolor": "white",
            "ticks": ""
           }
          },
          "scene": {
           "xaxis": {
            "backgroundcolor": "#E5ECF6",
            "gridcolor": "white",
            "gridwidth": 2,
            "linecolor": "white",
            "showbackground": true,
            "ticks": "",
            "zerolinecolor": "white"
           },
           "yaxis": {
            "backgroundcolor": "#E5ECF6",
            "gridcolor": "white",
            "gridwidth": 2,
            "linecolor": "white",
            "showbackground": true,
            "ticks": "",
            "zerolinecolor": "white"
           },
           "zaxis": {
            "backgroundcolor": "#E5ECF6",
            "gridcolor": "white",
            "gridwidth": 2,
            "linecolor": "white",
            "showbackground": true,
            "ticks": "",
            "zerolinecolor": "white"
           }
          },
          "shapedefaults": {
           "line": {
            "color": "#2a3f5f"
           }
          },
          "ternary": {
           "aaxis": {
            "gridcolor": "white",
            "linecolor": "white",
            "ticks": ""
           },
           "baxis": {
            "gridcolor": "white",
            "linecolor": "white",
            "ticks": ""
           },
           "bgcolor": "#E5ECF6",
           "caxis": {
            "gridcolor": "white",
            "linecolor": "white",
            "ticks": ""
           }
          },
          "title": {
           "x": 0.05
          },
          "xaxis": {
           "automargin": true,
           "gridcolor": "white",
           "linecolor": "white",
           "ticks": "",
           "title": {
            "standoff": 15
           },
           "zerolinecolor": "white",
           "zerolinewidth": 2
          },
          "yaxis": {
           "automargin": true,
           "gridcolor": "white",
           "linecolor": "white",
           "ticks": "",
           "title": {
            "standoff": 15
           },
           "zerolinecolor": "white",
           "zerolinewidth": 2
          }
         }
        },
        "title": {
         "text": "Avg Performance Index Percent change over the School Year 2015-2016 in Percentage"
        },
        "xaxis": {
         "anchor": "y",
         "categoryarray": [
          "2015-2016",
          "2016-2017",
          "2017-2018"
         ],
         "categoryorder": "array",
         "domain": [
          0,
          1
         ],
         "title": {
          "text": "School Year"
         }
        },
        "yaxis": {
         "anchor": "x",
         "domain": [
          0,
          1
         ],
         "title": {
          "text": "AVG_PIP_Percentage_Change"
         }
        }
       }
      },
      "text/html": [
       "<div>                            <div id=\"3b790f7a-a5a6-4025-a79b-635bbcb300d4\" class=\"plotly-graph-div\" style=\"height:525px; width:100%;\"></div>            <script type=\"text/javascript\">                require([\"plotly\"], function(Plotly) {                    window.PLOTLYENV=window.PLOTLYENV || {};                                    if (document.getElementById(\"3b790f7a-a5a6-4025-a79b-635bbcb300d4\")) {                    Plotly.newPlot(                        \"3b790f7a-a5a6-4025-a79b-635bbcb300d4\",                        [{\"alignmentgroup\": \"True\", \"hovertemplate\": \"School Year=%{x}<br>PIP Percentage Change=%{y}<extra></extra>\", \"legendgroup\": \"2015-2016\", \"marker\": {\"color\": \"#636efa\"}, \"name\": \"2015-2016\", \"offsetgroup\": \"2015-2016\", \"orientation\": \"v\", \"showlegend\": true, \"textposition\": \"auto\", \"type\": \"bar\", \"x\": [\"2015-2016\"], \"xaxis\": \"x\", \"y\": [0.0], \"yaxis\": \"y\"}, {\"alignmentgroup\": \"True\", \"hovertemplate\": \"School Year=%{x}<br>PIP Percentage Change=%{y}<extra></extra>\", \"legendgroup\": \"2016-2017\", \"marker\": {\"color\": \"#EF553B\"}, \"name\": \"2016-2017\", \"offsetgroup\": \"2016-2017\", \"orientation\": \"v\", \"showlegend\": true, \"textposition\": \"auto\", \"type\": \"bar\", \"x\": [\"2016-2017\"], \"xaxis\": \"x\", \"y\": [28.29], \"yaxis\": \"y\"}, {\"alignmentgroup\": \"True\", \"hovertemplate\": \"School Year=%{x}<br>PIP Percentage Change=%{y}<extra></extra>\", \"legendgroup\": \"2017-2018\", \"marker\": {\"color\": \"#00cc96\"}, \"name\": \"2017-2018\", \"offsetgroup\": \"2017-2018\", \"orientation\": \"v\", \"showlegend\": true, \"textposition\": \"auto\", \"type\": \"bar\", \"x\": [\"2017-2018\"], \"xaxis\": \"x\", \"y\": [33.61], \"yaxis\": \"y\"}],                        {\"annotations\": [{\"arrowhead\": 1, \"ax\": 0, \"ay\": -40, \"showarrow\": true, \"text\": \"0.0%\", \"x\": \"2015-2016\", \"y\": 0.0}, {\"arrowhead\": 1, \"ax\": 0, \"ay\": -40, \"showarrow\": true, \"text\": \"28.29%\", \"x\": \"2016-2017\", \"y\": 28.29}, {\"arrowhead\": 1, \"ax\": 0, \"ay\": -40, \"showarrow\": true, \"text\": \"33.61%\", \"x\": \"2017-2018\", \"y\": 33.61}], \"barmode\": \"relative\", \"legend\": {\"title\": {\"text\": \"School Year\"}, \"tracegroupgap\": 0}, \"template\": {\"data\": {\"bar\": [{\"error_x\": {\"color\": \"#2a3f5f\"}, \"error_y\": {\"color\": \"#2a3f5f\"}, \"marker\": {\"line\": {\"color\": \"#E5ECF6\", \"width\": 0.5}}, \"type\": \"bar\"}], \"barpolar\": [{\"marker\": {\"line\": {\"color\": \"#E5ECF6\", \"width\": 0.5}}, \"type\": \"barpolar\"}], \"carpet\": [{\"aaxis\": {\"endlinecolor\": \"#2a3f5f\", \"gridcolor\": \"white\", \"linecolor\": \"white\", \"minorgridcolor\": \"white\", \"startlinecolor\": \"#2a3f5f\"}, \"baxis\": {\"endlinecolor\": \"#2a3f5f\", \"gridcolor\": \"white\", \"linecolor\": \"white\", \"minorgridcolor\": \"white\", \"startlinecolor\": \"#2a3f5f\"}, \"type\": \"carpet\"}], \"choropleth\": [{\"colorbar\": {\"outlinewidth\": 0, \"ticks\": \"\"}, \"type\": \"choropleth\"}], \"contour\": [{\"colorbar\": {\"outlinewidth\": 0, \"ticks\": \"\"}, \"colorscale\": [[0.0, \"#0d0887\"], [0.1111111111111111, \"#46039f\"], [0.2222222222222222, \"#7201a8\"], [0.3333333333333333, \"#9c179e\"], [0.4444444444444444, \"#bd3786\"], [0.5555555555555556, \"#d8576b\"], [0.6666666666666666, \"#ed7953\"], [0.7777777777777778, \"#fb9f3a\"], [0.8888888888888888, \"#fdca26\"], [1.0, \"#f0f921\"]], \"type\": \"contour\"}], \"contourcarpet\": [{\"colorbar\": {\"outlinewidth\": 0, \"ticks\": \"\"}, \"type\": \"contourcarpet\"}], \"heatmap\": [{\"colorbar\": {\"outlinewidth\": 0, \"ticks\": \"\"}, \"colorscale\": [[0.0, \"#0d0887\"], [0.1111111111111111, \"#46039f\"], [0.2222222222222222, \"#7201a8\"], [0.3333333333333333, \"#9c179e\"], [0.4444444444444444, \"#bd3786\"], [0.5555555555555556, \"#d8576b\"], [0.6666666666666666, \"#ed7953\"], [0.7777777777777778, \"#fb9f3a\"], [0.8888888888888888, \"#fdca26\"], [1.0, \"#f0f921\"]], \"type\": \"heatmap\"}], \"heatmapgl\": [{\"colorbar\": {\"outlinewidth\": 0, \"ticks\": \"\"}, \"colorscale\": [[0.0, \"#0d0887\"], [0.1111111111111111, \"#46039f\"], [0.2222222222222222, \"#7201a8\"], [0.3333333333333333, \"#9c179e\"], [0.4444444444444444, \"#bd3786\"], [0.5555555555555556, \"#d8576b\"], [0.6666666666666666, \"#ed7953\"], [0.7777777777777778, \"#fb9f3a\"], [0.8888888888888888, \"#fdca26\"], [1.0, \"#f0f921\"]], \"type\": \"heatmapgl\"}], \"histogram\": [{\"marker\": {\"colorbar\": {\"outlinewidth\": 0, \"ticks\": \"\"}}, \"type\": \"histogram\"}], \"histogram2d\": [{\"colorbar\": {\"outlinewidth\": 0, \"ticks\": \"\"}, \"colorscale\": [[0.0, \"#0d0887\"], [0.1111111111111111, \"#46039f\"], [0.2222222222222222, \"#7201a8\"], [0.3333333333333333, \"#9c179e\"], [0.4444444444444444, \"#bd3786\"], [0.5555555555555556, \"#d8576b\"], [0.6666666666666666, \"#ed7953\"], [0.7777777777777778, \"#fb9f3a\"], [0.8888888888888888, \"#fdca26\"], [1.0, \"#f0f921\"]], \"type\": \"histogram2d\"}], \"histogram2dcontour\": [{\"colorbar\": {\"outlinewidth\": 0, \"ticks\": \"\"}, \"colorscale\": [[0.0, \"#0d0887\"], [0.1111111111111111, \"#46039f\"], [0.2222222222222222, \"#7201a8\"], [0.3333333333333333, \"#9c179e\"], [0.4444444444444444, \"#bd3786\"], [0.5555555555555556, \"#d8576b\"], [0.6666666666666666, \"#ed7953\"], [0.7777777777777778, \"#fb9f3a\"], [0.8888888888888888, \"#fdca26\"], [1.0, \"#f0f921\"]], \"type\": \"histogram2dcontour\"}], \"mesh3d\": [{\"colorbar\": {\"outlinewidth\": 0, \"ticks\": \"\"}, \"type\": \"mesh3d\"}], \"parcoords\": [{\"line\": {\"colorbar\": {\"outlinewidth\": 0, \"ticks\": \"\"}}, \"type\": \"parcoords\"}], \"pie\": [{\"automargin\": true, \"type\": \"pie\"}], \"scatter\": [{\"marker\": {\"colorbar\": {\"outlinewidth\": 0, \"ticks\": \"\"}}, \"type\": \"scatter\"}], \"scatter3d\": [{\"line\": {\"colorbar\": {\"outlinewidth\": 0, \"ticks\": \"\"}}, \"marker\": {\"colorbar\": {\"outlinewidth\": 0, \"ticks\": \"\"}}, \"type\": \"scatter3d\"}], \"scattercarpet\": [{\"marker\": {\"colorbar\": {\"outlinewidth\": 0, \"ticks\": \"\"}}, \"type\": \"scattercarpet\"}], \"scattergeo\": [{\"marker\": {\"colorbar\": {\"outlinewidth\": 0, \"ticks\": \"\"}}, \"type\": \"scattergeo\"}], \"scattergl\": [{\"marker\": {\"colorbar\": {\"outlinewidth\": 0, \"ticks\": \"\"}}, \"type\": \"scattergl\"}], \"scattermapbox\": [{\"marker\": {\"colorbar\": {\"outlinewidth\": 0, \"ticks\": \"\"}}, \"type\": \"scattermapbox\"}], \"scatterpolar\": [{\"marker\": {\"colorbar\": {\"outlinewidth\": 0, \"ticks\": \"\"}}, \"type\": \"scatterpolar\"}], \"scatterpolargl\": [{\"marker\": {\"colorbar\": {\"outlinewidth\": 0, \"ticks\": \"\"}}, \"type\": \"scatterpolargl\"}], \"scatterternary\": [{\"marker\": {\"colorbar\": {\"outlinewidth\": 0, \"ticks\": \"\"}}, \"type\": \"scatterternary\"}], \"surface\": [{\"colorbar\": {\"outlinewidth\": 0, \"ticks\": \"\"}, \"colorscale\": [[0.0, \"#0d0887\"], [0.1111111111111111, \"#46039f\"], [0.2222222222222222, \"#7201a8\"], [0.3333333333333333, \"#9c179e\"], [0.4444444444444444, \"#bd3786\"], [0.5555555555555556, \"#d8576b\"], [0.6666666666666666, \"#ed7953\"], [0.7777777777777778, \"#fb9f3a\"], [0.8888888888888888, \"#fdca26\"], [1.0, \"#f0f921\"]], \"type\": \"surface\"}], \"table\": [{\"cells\": {\"fill\": {\"color\": \"#EBF0F8\"}, \"line\": {\"color\": \"white\"}}, \"header\": {\"fill\": {\"color\": \"#C8D4E3\"}, \"line\": {\"color\": \"white\"}}, \"type\": \"table\"}]}, \"layout\": {\"annotationdefaults\": {\"arrowcolor\": \"#2a3f5f\", \"arrowhead\": 0, \"arrowwidth\": 1}, \"autotypenumbers\": \"strict\", \"coloraxis\": {\"colorbar\": {\"outlinewidth\": 0, \"ticks\": \"\"}}, \"colorscale\": {\"diverging\": [[0, \"#8e0152\"], [0.1, \"#c51b7d\"], [0.2, \"#de77ae\"], [0.3, \"#f1b6da\"], [0.4, \"#fde0ef\"], [0.5, \"#f7f7f7\"], [0.6, \"#e6f5d0\"], [0.7, \"#b8e186\"], [0.8, \"#7fbc41\"], [0.9, \"#4d9221\"], [1, \"#276419\"]], \"sequential\": [[0.0, \"#0d0887\"], [0.1111111111111111, \"#46039f\"], [0.2222222222222222, \"#7201a8\"], [0.3333333333333333, \"#9c179e\"], [0.4444444444444444, \"#bd3786\"], [0.5555555555555556, \"#d8576b\"], [0.6666666666666666, \"#ed7953\"], [0.7777777777777778, \"#fb9f3a\"], [0.8888888888888888, \"#fdca26\"], [1.0, \"#f0f921\"]], \"sequentialminus\": [[0.0, \"#0d0887\"], [0.1111111111111111, \"#46039f\"], [0.2222222222222222, \"#7201a8\"], [0.3333333333333333, \"#9c179e\"], [0.4444444444444444, \"#bd3786\"], [0.5555555555555556, \"#d8576b\"], [0.6666666666666666, \"#ed7953\"], [0.7777777777777778, \"#fb9f3a\"], [0.8888888888888888, \"#fdca26\"], [1.0, \"#f0f921\"]]}, \"colorway\": [\"#636efa\", \"#EF553B\", \"#00cc96\", \"#ab63fa\", \"#FFA15A\", \"#19d3f3\", \"#FF6692\", \"#B6E880\", \"#FF97FF\", \"#FECB52\"], \"font\": {\"color\": \"#2a3f5f\"}, \"geo\": {\"bgcolor\": \"white\", \"lakecolor\": \"white\", \"landcolor\": \"#E5ECF6\", \"showlakes\": true, \"showland\": true, \"subunitcolor\": \"white\"}, \"hoverlabel\": {\"align\": \"left\"}, \"hovermode\": \"closest\", \"mapbox\": {\"style\": \"light\"}, \"paper_bgcolor\": \"white\", \"plot_bgcolor\": \"#E5ECF6\", \"polar\": {\"angularaxis\": {\"gridcolor\": \"white\", \"linecolor\": \"white\", \"ticks\": \"\"}, \"bgcolor\": \"#E5ECF6\", \"radialaxis\": {\"gridcolor\": \"white\", \"linecolor\": \"white\", \"ticks\": \"\"}}, \"scene\": {\"xaxis\": {\"backgroundcolor\": \"#E5ECF6\", \"gridcolor\": \"white\", \"gridwidth\": 2, \"linecolor\": \"white\", \"showbackground\": true, \"ticks\": \"\", \"zerolinecolor\": \"white\"}, \"yaxis\": {\"backgroundcolor\": \"#E5ECF6\", \"gridcolor\": \"white\", \"gridwidth\": 2, \"linecolor\": \"white\", \"showbackground\": true, \"ticks\": \"\", \"zerolinecolor\": \"white\"}, \"zaxis\": {\"backgroundcolor\": \"#E5ECF6\", \"gridcolor\": \"white\", \"gridwidth\": 2, \"linecolor\": \"white\", \"showbackground\": true, \"ticks\": \"\", \"zerolinecolor\": \"white\"}}, \"shapedefaults\": {\"line\": {\"color\": \"#2a3f5f\"}}, \"ternary\": {\"aaxis\": {\"gridcolor\": \"white\", \"linecolor\": \"white\", \"ticks\": \"\"}, \"baxis\": {\"gridcolor\": \"white\", \"linecolor\": \"white\", \"ticks\": \"\"}, \"bgcolor\": \"#E5ECF6\", \"caxis\": {\"gridcolor\": \"white\", \"linecolor\": \"white\", \"ticks\": \"\"}}, \"title\": {\"x\": 0.05}, \"xaxis\": {\"automargin\": true, \"gridcolor\": \"white\", \"linecolor\": \"white\", \"ticks\": \"\", \"title\": {\"standoff\": 15}, \"zerolinecolor\": \"white\", \"zerolinewidth\": 2}, \"yaxis\": {\"automargin\": true, \"gridcolor\": \"white\", \"linecolor\": \"white\", \"ticks\": \"\", \"title\": {\"standoff\": 15}, \"zerolinecolor\": \"white\", \"zerolinewidth\": 2}}}, \"title\": {\"text\": \"Avg Performance Index Percent change over the School Year 2015-2016 in Percentage\"}, \"xaxis\": {\"anchor\": \"y\", \"categoryarray\": [\"2015-2016\", \"2016-2017\", \"2017-2018\"], \"categoryorder\": \"array\", \"domain\": [0.0, 1.0], \"title\": {\"text\": \"School Year\"}}, \"yaxis\": {\"anchor\": \"x\", \"domain\": [0.0, 1.0], \"title\": {\"text\": \"AVG_PIP_Percentage_Change\"}}},                        {\"responsive\": true}                    ).then(function(){\n",
       "                            \n",
       "var gd = document.getElementById('3b790f7a-a5a6-4025-a79b-635bbcb300d4');\n",
       "var x = new MutationObserver(function (mutations, observer) {{\n",
       "        var display = window.getComputedStyle(gd).display;\n",
       "        if (!display || display === 'none') {{\n",
       "            console.log([gd, 'removed!']);\n",
       "            Plotly.purge(gd);\n",
       "            observer.disconnect();\n",
       "        }}\n",
       "}});\n",
       "\n",
       "// Listen for the removal of the full notebook cells\n",
       "var notebookContainer = gd.closest('#notebook-container');\n",
       "if (notebookContainer) {{\n",
       "    x.observe(notebookContainer, {childList: true});\n",
       "}}\n",
       "\n",
       "// Listen for the clearing of the current output cell\n",
       "var outputEl = gd.closest('.output');\n",
       "if (outputEl) {{\n",
       "    x.observe(outputEl, {childList: true});\n",
       "}}\n",
       "\n",
       "                        })                };                });            </script>        </div>"
      ]
     },
     "metadata": {},
     "output_type": "display_data"
    }
   ],
   "source": [
    "# Plot the percentage change in PIP\n",
    "fig = px.bar(filtered_data_PIP, \n",
    "              x='School_Year', \n",
    "              y='AVG_PIP_Percentage_Change', \n",
    "              color='School_Year',\n",
    "              title='Percentage Change in PIP per Year',\n",
    "              labels={'AVG_PIP_Percentage_Change': 'PIP Percentage Change', 'School_Year': 'School Year'})\n",
    "\n",
    "fig.update_layout(\n",
    "    title='Avg Performance Index Percent change over the School Year 2015-2016 in Percentage', \n",
    "    xaxis_title='School Year', \n",
    "    yaxis_title='AVG_PIP_Percentage_Change'\n",
    ")\n",
    "\n",
    "# Rounding off the 'PIP_Percentage_Change' values to 2 decimal places\n",
    "filtered_data_PIP['AVG_PIP_Percentage_Change'] = round(filtered_data_PIP['AVG_PIP_Percentage_Change'], 2)\n",
    "\n",
    "# Annotating the plot \n",
    "for i, row in filtered_data_PIP.iterrows():\n",
    "    fig.add_annotation(\n",
    "        x=row['School_Year'], \n",
    "        y=row['AVG_PIP_Percentage_Change'],\n",
    "        text=f\"{row['AVG_PIP_Percentage_Change']}%\",\n",
    "        showarrow=True,\n",
    "        arrowhead=1,\n",
    "        ax=0,\n",
    "        ay=-40\n",
    "    )\n",
    "\n",
    "fig.show()"
   ]
  },
  {
   "cell_type": "markdown",
   "metadata": {},
   "source": [
    "### Calculating number of schools & buildings name which has increased Performance Index Percent over 3 consecutive years"
   ]
  },
  {
   "cell_type": "code",
   "execution_count": 116,
   "metadata": {},
   "outputs": [
    {
     "name": "stderr",
     "output_type": "stream",
     "text": [
      "<ipython-input-116-5703869049ee>:2: SettingWithCopyWarning:\n",
      "\n",
      "\n",
      "A value is trying to be set on a copy of a slice from a DataFrame.\n",
      "Try using .loc[row_indexer,col_indexer] = value instead\n",
      "\n",
      "See the caveats in the documentation: https://pandas.pydata.org/pandas-docs/stable/user_guide/indexing.html#returning-a-view-versus-a-copy\n",
      "\n"
     ]
    },
    {
     "name": "stdout",
     "output_type": "stream",
     "text": [
      "Schools with increased Performance index pecent for three consecutive years:\n",
      "     Building_IRN                                  Building_Name\n",
      "234           318                             Menlo Park Academy\n",
      "235           489                                         Almira\n",
      "236           729                               Andrew J Rickoff\n",
      "237           828                                   Anton Grdina\n",
      "238           930  Cleveland Entrepreneurship Preparatory School\n",
      "240          1040                                   Artemus Ward\n",
      "244          5066                                           Case\n",
      "245          5637                                 Alfred Benesch\n",
      "246          5892                        Charles A Mooney School\n",
      "249          6353                        Clara E Westropp School\n",
      "251          6940                         Collinwood High School\n",
      "252          8060                         Daniel E Morgan School\n",
      "253          8383                                        Denison\n",
      "255          8680                                Memorial School\n",
      "256          8987                                     East Clark\n",
      "257          9285                              Douglas MacArthur\n",
      "259          9555                     East Technical High School\n",
      "260         10200                          MC^2 STEM High School\n",
      "263         11291                     Village Preparatory School\n",
      "269         12350                    Campus International School\n",
      "271         12353                    New Technology HS@East Tech\n",
      "272         12355      Facing History High School@Charles Mooney\n",
      "275         12898                     Garfield Elementary School\n",
      "278         13292                       George Washington Carver\n",
      "279         13680                          Glenville High School\n",
      "282         14918     Cleveland High School for the Digital Arts\n",
      "283         14919                                     PACT @ JFK\n",
      "285         15039                                 E3agle Academy\n",
      "286         15073    Hannah Gibbons-Nottingham Elementary School\n",
      "303         17830                  James Ford Rhodes High School\n",
      "306         18408                   Cleveland Early College High\n",
      "308         21527                           Louis Agassiz School\n",
      "309         21543                          Franklin D. Roosevelt\n",
      "314         24687                                   Miles School\n",
      "315         24695                              Miles Park School\n",
      "316         24703                               Michael R. White\n",
      "317         25650                        Mound Elementary School\n",
      "319         26443                             Nathan Hale School\n",
      "322         28720                                 Orchard School\n",
      "323         29371                           Patrick Henry School\n",
      "324         29413                Paul L Dunbar Elementary School\n",
      "325         31963                               Riverside School\n",
      "328         33902                                Scranton School\n",
      "329         36475                                        Sunbeam\n",
      "332         38182                  Valley View Elementary School\n",
      "333         38604             William C Bryant Elementary School\n",
      "340         41517                                  Willow School\n",
      "343         62323                           Whitney Young School\n",
      "344         62760                        Luis Munoz Marin School\n",
      "345         62778                      Joseph M Gallagher School\n",
      "346         63461          Garrett Morgan Schl Of Science School\n",
      "350         68221                              Kenneth W Clement\n",
      "355        147397         Cleveland School of Science & Medicine\n",
      "356         12852                          Citizens Academy East\n",
      "358        133520                               Citizens Academy\n",
      "Number of schools with increased PIP: 55\n"
     ]
    }
   ],
   "source": [
    "# Create a new column for increased PIP\n",
    "df_CMSD['Increased_PIP_3_Years'] = False\n",
    "\n",
    "# For loop to Iterate the data and check for three consecutive increases per school\n",
    "for school_name in df_CMSD['Building_Name'].unique():\n",
    "    school_df = df_CMSD[df_CMSD['Building_Name'] == school_name]\n",
    "\n",
    "    # Check if there are enough data points for the school\n",
    "    if len(school_df) >= 3:\n",
    "        mask = (\n",
    "            (school_df['Performance_Index_Percent'].shift(2) < school_df['Performance_Index_Percent'].shift(1)) &\n",
    "            (school_df['Performance_Index_Percent'].shift(1) < school_df['Performance_Index_Percent']) &\n",
    "            school_df['Performance_Index_Percent'].notna()\n",
    "        )\n",
    "\n",
    "        df_CMSD.loc[school_df.index[mask], 'Increased_PIP_3_Years'] = True\n",
    "\n",
    "# Filter schools with increased enrollment for three consecutive years\n",
    "schools_with_increased_PIP_3_years = df_CMSD[df_CMSD['Increased_PIP_3_Years']]\n",
    "print(\"Schools with increased Performance index pecent for three consecutive years:\")\n",
    "print(schools_with_increased_PIP_3_years[['Building_IRN','Building_Name']])\n",
    "\n",
    "# Calculating the sum of schools\n",
    "schools_with_increased_PIP_3_years_sum = df_CMSD['Increased_PIP_3_Years'].sum()\n",
    "print(f\"Number of schools with increased PIP: {schools_with_increased_PIP_3_years_sum}\")"
   ]
  },
  {
   "cell_type": "markdown",
   "metadata": {},
   "source": [
    "### Calculating number of schools & buildings name which has decreased Performance Index Percent over 3 consecutive years"
   ]
  },
  {
   "cell_type": "code",
   "execution_count": 117,
   "metadata": {},
   "outputs": [
    {
     "name": "stderr",
     "output_type": "stream",
     "text": [
      "<ipython-input-117-e96ea351e971>:2: SettingWithCopyWarning:\n",
      "\n",
      "\n",
      "A value is trying to be set on a copy of a slice from a DataFrame.\n",
      "Try using .loc[row_indexer,col_indexer] = value instead\n",
      "\n",
      "See the caveats in the documentation: https://pandas.pydata.org/pandas-docs/stable/user_guide/indexing.html#returning-a-view-versus-a-copy\n",
      "\n"
     ]
    },
    {
     "name": "stdout",
     "output_type": "stream",
     "text": [
      "Schools with decreased PIP for three consecutive years:\n",
      "     Building_IRN           Building_Name\n",
      "305         18325  John Adams High School\n",
      "318         25874       The School of One\n",
      "335         39149           Walton School\n",
      "Number of schools with decreased PIP: 3\n"
     ]
    }
   ],
   "source": [
    "\n",
    "# Create a new column to with decreased PIP for three consecutive years\n",
    "df_CMSD['Decreased_PIP_3_Years'] = False\n",
    "\n",
    "# Iterate through the data and check for three consecutive decreases per school\n",
    "for school_name in df_CMSD['Building_Name'].unique():\n",
    "    school_df = df_CMSD[df_CMSD['Building_Name'] == school_name]\n",
    "\n",
    "    # Check if there are enough data points for the school\n",
    "    if len(school_df) >= 3:\n",
    "        mask = (\n",
    "                (school_df['Performance_Index_Percent'].shift(2) > school_df['Performance_Index_Percent'].shift(1)) &\n",
    "                (school_df['Performance_Index_Percent'].shift(1) > school_df['Performance_Index_Percent']) &\n",
    "                school_df['Performance_Index_Percent'].notna()\n",
    "               )\n",
    "\n",
    "        df_CMSD.loc[school_df.index[mask], 'Decreased_PIP_3_Years'] = True\n",
    "\n",
    "# Filter schools with decreased enrollment for three consecutive years\n",
    "schools_with_decreased_PIP_3_years = df_CMSD[df_CMSD['Decreased_PIP_3_Years']]\n",
    "print(\"Schools with decreased PIP for three consecutive years:\")\n",
    "print(schools_with_decreased_PIP_3_years[['Building_IRN','Building_Name']])\n",
    "\n",
    "# Calculating the sum of schools\n",
    "schools_with_decreased_PIP_3_years_sum = df_CMSD['Decreased_PIP_3_Years'].sum()\n",
    "print(f\"Number of schools with decreased PIP: {schools_with_decreased_PIP_3_years_sum}\")"
   ]
  },
  {
   "cell_type": "markdown",
   "metadata": {},
   "source": [
    "### Interactive bar plot for each years percentage index Percent distribution for each school"
   ]
  },
  {
   "cell_type": "code",
   "execution_count": 144,
   "metadata": {},
   "outputs": [
    {
     "data": {
      "application/vnd.plotly.v1+json": {
       "config": {
        "plotlyServerURL": "https://plot.ly"
       },
       "data": [
        {
         "alignmentgroup": "True",
         "hovertemplate": "Building_Name=%{x}<br>Performance Index Percent=%{marker.color}<extra></extra>",
         "legendgroup": "",
         "marker": {
          "color": [
           36.6,
           0,
           38.7,
           36.9,
           32.4,
           0,
           47.300000000000004,
           54.1,
           30.5,
           59.800000000000004,
           32.3,
           32.7,
           43.5,
           35.2,
           44,
           48.800000000000004,
           66.4,
           36.9,
           39,
           42.300000000000004,
           52.800000000000004,
           41.800000000000004,
           37.800000000000004,
           68.4,
           33.1,
           32.3,
           38.1,
           38.300000000000004,
           42,
           0,
           0,
           0,
           0,
           0,
           0,
           67.9,
           42.5,
           36.300000000000004,
           42.2,
           36.800000000000004,
           0,
           51.7,
           0,
           0,
           30.2,
           37,
           36.4,
           0,
           40,
           35.5,
           60.800000000000004,
           32.8,
           38.7,
           0,
           0,
           34.800000000000004,
           41.5,
           43.4,
           45.5,
           35,
           43.5,
           32.7,
           37.1,
           43.2,
           62.1,
           67.6,
           64.1,
           44.7,
           35.7,
           70.3,
           32.5,
           49.4,
           36,
           50.1,
           35.4,
           34.6,
           35.5,
           33.3,
           62.800000000000004,
           33.9,
           61.2,
           45.2,
           45.2,
           31.8,
           45.300000000000004,
           61.5,
           33.2,
           51.7,
           45.800000000000004,
           34.9,
           28.2,
           56.4,
           49.6,
           51.300000000000004,
           39.300000000000004,
           44.300000000000004,
           46,
           36.1,
           38.300000000000004,
           47.2,
           45.9,
           38.6,
           39.2,
           35.6,
           69.3,
           34.6,
           40.800000000000004,
           43.4,
           55.4,
           42.6,
           41.9,
           38.800000000000004,
           32.6,
           0,
           0,
           0,
           76
          ],
          "coloraxis": "coloraxis"
         },
         "name": "",
         "offsetgroup": "",
         "orientation": "v",
         "showlegend": false,
         "textposition": "auto",
         "type": "bar",
         "x": [
          "Adlai Stevenson School",
          "Menlo Park Academy",
          "Almira",
          "Andrew J Rickoff",
          "Anton Grdina",
          "Cleveland Entrepreneurship Preparatory School",
          "Artemus Ward",
          "Benjamin Franklin",
          "Bolton",
          "Buhrer",
          "Case",
          "Alfred Benesch",
          "Charles A Mooney School",
          "Charles Dickens School",
          "Charles W Eliot School",
          "Clara E Westropp School",
          "Clark School",
          "Collinwood High School",
          "Daniel E Morgan School",
          "Denison",
          "Cleveland School of Arts Lower Campus",
          "Memorial School",
          "East Clark",
          "Douglas MacArthur",
          "Ginn Academy",
          "East Technical High School",
          "MC^2 STEM High School",
          "Design Lab @ Health Careers",
          "Euclid Park Elementary School",
          "Village Preparatory School",
          "Northeast Ohio College Preparatory School",
          "Cleveland College Preparatory School",
          "Citizens Leadership Academy",
          "Near West Intergenerational School",
          "Entrepreneurship Preparatory School - Woodland Hills Campus",
          "Campus International School",
          "New Technology West",
          "New Technology HS@East Tech",
          "Facing History High School@Charles Mooney",
          "Fullerton School",
          "Citizens Academy East",
          "Garfield Elementary School",
          "Village Preparatory School:: Woodland Hills Campus",
          "Stepstone Academy",
          "George Washington Carver",
          "Glenville High School",
          "H Barbara Booker Elementary School",
          "Lakeshore Intergenerational School",
          "Cleveland High School for the Digital Arts",
          "PACT @ JFK",
          "Bard Early College Cleveland",
          "E3agle Academy",
          "Hannah Gibbons-Nottingham Elementary School",
          "Stonebrook Montessori",
          "Citizens Academy Southeast",
          "Harvey Rice Elementary School",
          "John Marshall School of Engineering",
          "John Marshall School of Business and Civic Leadership",
          "John Marshall School of Information Technology",
          "Iowa-Maple Elementary School",
          "James Ford Rhodes High School",
          "Jane Addams Business Careers High School",
          "John Adams High School",
          "John F Kennedy High School",
          "Cleveland Early College High",
          "John Marshall High School",
          "Cleveland School of Architecture & Design",
          "Louis Agassiz School",
          "Franklin D. Roosevelt",
          "Louisa May Alcott Elementary School",
          "Mary B Martin School",
          "Mary M Bethune",
          "Max S Hayes High School",
          "McKinley School",
          "Miles School",
          "Miles Park School",
          "Michael R. White",
          "Mound Elementary School",
          "The School of One",
          "Nathan Hale School",
          "Newton D Baker School",
          "Oliver H Perry Elementary School",
          "Orchard School",
          "Patrick Henry School",
          "Paul L Dunbar Elementary School",
          "Riverside School",
          "Robert H Jamison School",
          "Robinson G Jones Elementary School",
          "Scranton School",
          "Sunbeam",
          "Thomas Jefferson School",
          "Tremont Montessori School",
          "Valley View Elementary School",
          "William C Bryant Elementary School",
          "Wade Park",
          "Walton School",
          "Warner Girls Leadership Academy",
          "Washington Park",
          "Watterson-Lake School",
          "Waverly Elementary School",
          "Wilbur Wright School",
          "Willow School",
          "Willson School",
          "Lincoln-West High School",
          "Whitney Young School",
          "Luis Munoz Marin School",
          "Joseph M Gallagher School",
          "Garrett Morgan Schl Of Science School",
          "Cleveland School Of The Arts High School",
          "Marion C Seltzer Elementary School",
          "Marion-Sterling Elementary School",
          "Kenneth W Clement",
          "Health Careers Center High School",
          "Intergenerational School, The",
          "Citizens Academy",
          "SuccessTech Academy School",
          "Cleveland School of Science & Medicine"
         ],
         "xaxis": "x",
         "y": [
          36.6,
          0,
          38.7,
          36.9,
          32.4,
          0,
          47.300000000000004,
          54.1,
          30.5,
          59.800000000000004,
          32.3,
          32.7,
          43.5,
          35.2,
          44,
          48.800000000000004,
          66.4,
          36.9,
          39,
          42.300000000000004,
          52.800000000000004,
          41.800000000000004,
          37.800000000000004,
          68.4,
          33.1,
          32.3,
          38.1,
          38.300000000000004,
          42,
          0,
          0,
          0,
          0,
          0,
          0,
          67.9,
          42.5,
          36.300000000000004,
          42.2,
          36.800000000000004,
          0,
          51.7,
          0,
          0,
          30.2,
          37,
          36.4,
          0,
          40,
          35.5,
          60.800000000000004,
          32.8,
          38.7,
          0,
          0,
          34.800000000000004,
          41.5,
          43.4,
          45.5,
          35,
          43.5,
          32.7,
          37.1,
          43.2,
          62.1,
          67.6,
          64.1,
          44.7,
          35.7,
          70.3,
          32.5,
          49.4,
          36,
          50.1,
          35.4,
          34.6,
          35.5,
          33.3,
          62.800000000000004,
          33.9,
          61.2,
          45.2,
          45.2,
          31.8,
          45.300000000000004,
          61.5,
          33.2,
          51.7,
          45.800000000000004,
          34.9,
          28.2,
          56.4,
          49.6,
          51.300000000000004,
          39.300000000000004,
          44.300000000000004,
          46,
          36.1,
          38.300000000000004,
          47.2,
          45.9,
          38.6,
          39.2,
          35.6,
          69.3,
          34.6,
          40.800000000000004,
          43.4,
          55.4,
          42.6,
          41.9,
          38.800000000000004,
          32.6,
          0,
          0,
          0,
          76
         ],
         "yaxis": "y"
        }
       ],
       "layout": {
        "barmode": "relative",
        "coloraxis": {
         "colorbar": {
          "title": {
           "text": "Performance Index Percent"
          }
         },
         "colorscale": [
          [
           0,
           "#0d0887"
          ],
          [
           0.1111111111111111,
           "#46039f"
          ],
          [
           0.2222222222222222,
           "#7201a8"
          ],
          [
           0.3333333333333333,
           "#9c179e"
          ],
          [
           0.4444444444444444,
           "#bd3786"
          ],
          [
           0.5555555555555556,
           "#d8576b"
          ],
          [
           0.6666666666666666,
           "#ed7953"
          ],
          [
           0.7777777777777778,
           "#fb9f3a"
          ],
          [
           0.8888888888888888,
           "#fdca26"
          ],
          [
           1,
           "#f0f921"
          ]
         ]
        },
        "height": 800,
        "legend": {
         "tracegroupgap": 0
        },
        "template": {
         "data": {
          "bar": [
           {
            "error_x": {
             "color": "#2a3f5f"
            },
            "error_y": {
             "color": "#2a3f5f"
            },
            "marker": {
             "line": {
              "color": "#E5ECF6",
              "width": 0.5
             }
            },
            "type": "bar"
           }
          ],
          "barpolar": [
           {
            "marker": {
             "line": {
              "color": "#E5ECF6",
              "width": 0.5
             }
            },
            "type": "barpolar"
           }
          ],
          "carpet": [
           {
            "aaxis": {
             "endlinecolor": "#2a3f5f",
             "gridcolor": "white",
             "linecolor": "white",
             "minorgridcolor": "white",
             "startlinecolor": "#2a3f5f"
            },
            "baxis": {
             "endlinecolor": "#2a3f5f",
             "gridcolor": "white",
             "linecolor": "white",
             "minorgridcolor": "white",
             "startlinecolor": "#2a3f5f"
            },
            "type": "carpet"
           }
          ],
          "choropleth": [
           {
            "colorbar": {
             "outlinewidth": 0,
             "ticks": ""
            },
            "type": "choropleth"
           }
          ],
          "contour": [
           {
            "colorbar": {
             "outlinewidth": 0,
             "ticks": ""
            },
            "colorscale": [
             [
              0,
              "#0d0887"
             ],
             [
              0.1111111111111111,
              "#46039f"
             ],
             [
              0.2222222222222222,
              "#7201a8"
             ],
             [
              0.3333333333333333,
              "#9c179e"
             ],
             [
              0.4444444444444444,
              "#bd3786"
             ],
             [
              0.5555555555555556,
              "#d8576b"
             ],
             [
              0.6666666666666666,
              "#ed7953"
             ],
             [
              0.7777777777777778,
              "#fb9f3a"
             ],
             [
              0.8888888888888888,
              "#fdca26"
             ],
             [
              1,
              "#f0f921"
             ]
            ],
            "type": "contour"
           }
          ],
          "contourcarpet": [
           {
            "colorbar": {
             "outlinewidth": 0,
             "ticks": ""
            },
            "type": "contourcarpet"
           }
          ],
          "heatmap": [
           {
            "colorbar": {
             "outlinewidth": 0,
             "ticks": ""
            },
            "colorscale": [
             [
              0,
              "#0d0887"
             ],
             [
              0.1111111111111111,
              "#46039f"
             ],
             [
              0.2222222222222222,
              "#7201a8"
             ],
             [
              0.3333333333333333,
              "#9c179e"
             ],
             [
              0.4444444444444444,
              "#bd3786"
             ],
             [
              0.5555555555555556,
              "#d8576b"
             ],
             [
              0.6666666666666666,
              "#ed7953"
             ],
             [
              0.7777777777777778,
              "#fb9f3a"
             ],
             [
              0.8888888888888888,
              "#fdca26"
             ],
             [
              1,
              "#f0f921"
             ]
            ],
            "type": "heatmap"
           }
          ],
          "heatmapgl": [
           {
            "colorbar": {
             "outlinewidth": 0,
             "ticks": ""
            },
            "colorscale": [
             [
              0,
              "#0d0887"
             ],
             [
              0.1111111111111111,
              "#46039f"
             ],
             [
              0.2222222222222222,
              "#7201a8"
             ],
             [
              0.3333333333333333,
              "#9c179e"
             ],
             [
              0.4444444444444444,
              "#bd3786"
             ],
             [
              0.5555555555555556,
              "#d8576b"
             ],
             [
              0.6666666666666666,
              "#ed7953"
             ],
             [
              0.7777777777777778,
              "#fb9f3a"
             ],
             [
              0.8888888888888888,
              "#fdca26"
             ],
             [
              1,
              "#f0f921"
             ]
            ],
            "type": "heatmapgl"
           }
          ],
          "histogram": [
           {
            "marker": {
             "colorbar": {
              "outlinewidth": 0,
              "ticks": ""
             }
            },
            "type": "histogram"
           }
          ],
          "histogram2d": [
           {
            "colorbar": {
             "outlinewidth": 0,
             "ticks": ""
            },
            "colorscale": [
             [
              0,
              "#0d0887"
             ],
             [
              0.1111111111111111,
              "#46039f"
             ],
             [
              0.2222222222222222,
              "#7201a8"
             ],
             [
              0.3333333333333333,
              "#9c179e"
             ],
             [
              0.4444444444444444,
              "#bd3786"
             ],
             [
              0.5555555555555556,
              "#d8576b"
             ],
             [
              0.6666666666666666,
              "#ed7953"
             ],
             [
              0.7777777777777778,
              "#fb9f3a"
             ],
             [
              0.8888888888888888,
              "#fdca26"
             ],
             [
              1,
              "#f0f921"
             ]
            ],
            "type": "histogram2d"
           }
          ],
          "histogram2dcontour": [
           {
            "colorbar": {
             "outlinewidth": 0,
             "ticks": ""
            },
            "colorscale": [
             [
              0,
              "#0d0887"
             ],
             [
              0.1111111111111111,
              "#46039f"
             ],
             [
              0.2222222222222222,
              "#7201a8"
             ],
             [
              0.3333333333333333,
              "#9c179e"
             ],
             [
              0.4444444444444444,
              "#bd3786"
             ],
             [
              0.5555555555555556,
              "#d8576b"
             ],
             [
              0.6666666666666666,
              "#ed7953"
             ],
             [
              0.7777777777777778,
              "#fb9f3a"
             ],
             [
              0.8888888888888888,
              "#fdca26"
             ],
             [
              1,
              "#f0f921"
             ]
            ],
            "type": "histogram2dcontour"
           }
          ],
          "mesh3d": [
           {
            "colorbar": {
             "outlinewidth": 0,
             "ticks": ""
            },
            "type": "mesh3d"
           }
          ],
          "parcoords": [
           {
            "line": {
             "colorbar": {
              "outlinewidth": 0,
              "ticks": ""
             }
            },
            "type": "parcoords"
           }
          ],
          "pie": [
           {
            "automargin": true,
            "type": "pie"
           }
          ],
          "scatter": [
           {
            "marker": {
             "colorbar": {
              "outlinewidth": 0,
              "ticks": ""
             }
            },
            "type": "scatter"
           }
          ],
          "scatter3d": [
           {
            "line": {
             "colorbar": {
              "outlinewidth": 0,
              "ticks": ""
             }
            },
            "marker": {
             "colorbar": {
              "outlinewidth": 0,
              "ticks": ""
             }
            },
            "type": "scatter3d"
           }
          ],
          "scattercarpet": [
           {
            "marker": {
             "colorbar": {
              "outlinewidth": 0,
              "ticks": ""
             }
            },
            "type": "scattercarpet"
           }
          ],
          "scattergeo": [
           {
            "marker": {
             "colorbar": {
              "outlinewidth": 0,
              "ticks": ""
             }
            },
            "type": "scattergeo"
           }
          ],
          "scattergl": [
           {
            "marker": {
             "colorbar": {
              "outlinewidth": 0,
              "ticks": ""
             }
            },
            "type": "scattergl"
           }
          ],
          "scattermapbox": [
           {
            "marker": {
             "colorbar": {
              "outlinewidth": 0,
              "ticks": ""
             }
            },
            "type": "scattermapbox"
           }
          ],
          "scatterpolar": [
           {
            "marker": {
             "colorbar": {
              "outlinewidth": 0,
              "ticks": ""
             }
            },
            "type": "scatterpolar"
           }
          ],
          "scatterpolargl": [
           {
            "marker": {
             "colorbar": {
              "outlinewidth": 0,
              "ticks": ""
             }
            },
            "type": "scatterpolargl"
           }
          ],
          "scatterternary": [
           {
            "marker": {
             "colorbar": {
              "outlinewidth": 0,
              "ticks": ""
             }
            },
            "type": "scatterternary"
           }
          ],
          "surface": [
           {
            "colorbar": {
             "outlinewidth": 0,
             "ticks": ""
            },
            "colorscale": [
             [
              0,
              "#0d0887"
             ],
             [
              0.1111111111111111,
              "#46039f"
             ],
             [
              0.2222222222222222,
              "#7201a8"
             ],
             [
              0.3333333333333333,
              "#9c179e"
             ],
             [
              0.4444444444444444,
              "#bd3786"
             ],
             [
              0.5555555555555556,
              "#d8576b"
             ],
             [
              0.6666666666666666,
              "#ed7953"
             ],
             [
              0.7777777777777778,
              "#fb9f3a"
             ],
             [
              0.8888888888888888,
              "#fdca26"
             ],
             [
              1,
              "#f0f921"
             ]
            ],
            "type": "surface"
           }
          ],
          "table": [
           {
            "cells": {
             "fill": {
              "color": "#EBF0F8"
             },
             "line": {
              "color": "white"
             }
            },
            "header": {
             "fill": {
              "color": "#C8D4E3"
             },
             "line": {
              "color": "white"
             }
            },
            "type": "table"
           }
          ]
         },
         "layout": {
          "annotationdefaults": {
           "arrowcolor": "#2a3f5f",
           "arrowhead": 0,
           "arrowwidth": 1
          },
          "autotypenumbers": "strict",
          "coloraxis": {
           "colorbar": {
            "outlinewidth": 0,
            "ticks": ""
           }
          },
          "colorscale": {
           "diverging": [
            [
             0,
             "#8e0152"
            ],
            [
             0.1,
             "#c51b7d"
            ],
            [
             0.2,
             "#de77ae"
            ],
            [
             0.3,
             "#f1b6da"
            ],
            [
             0.4,
             "#fde0ef"
            ],
            [
             0.5,
             "#f7f7f7"
            ],
            [
             0.6,
             "#e6f5d0"
            ],
            [
             0.7,
             "#b8e186"
            ],
            [
             0.8,
             "#7fbc41"
            ],
            [
             0.9,
             "#4d9221"
            ],
            [
             1,
             "#276419"
            ]
           ],
           "sequential": [
            [
             0,
             "#0d0887"
            ],
            [
             0.1111111111111111,
             "#46039f"
            ],
            [
             0.2222222222222222,
             "#7201a8"
            ],
            [
             0.3333333333333333,
             "#9c179e"
            ],
            [
             0.4444444444444444,
             "#bd3786"
            ],
            [
             0.5555555555555556,
             "#d8576b"
            ],
            [
             0.6666666666666666,
             "#ed7953"
            ],
            [
             0.7777777777777778,
             "#fb9f3a"
            ],
            [
             0.8888888888888888,
             "#fdca26"
            ],
            [
             1,
             "#f0f921"
            ]
           ],
           "sequentialminus": [
            [
             0,
             "#0d0887"
            ],
            [
             0.1111111111111111,
             "#46039f"
            ],
            [
             0.2222222222222222,
             "#7201a8"
            ],
            [
             0.3333333333333333,
             "#9c179e"
            ],
            [
             0.4444444444444444,
             "#bd3786"
            ],
            [
             0.5555555555555556,
             "#d8576b"
            ],
            [
             0.6666666666666666,
             "#ed7953"
            ],
            [
             0.7777777777777778,
             "#fb9f3a"
            ],
            [
             0.8888888888888888,
             "#fdca26"
            ],
            [
             1,
             "#f0f921"
            ]
           ]
          },
          "colorway": [
           "#636efa",
           "#EF553B",
           "#00cc96",
           "#ab63fa",
           "#FFA15A",
           "#19d3f3",
           "#FF6692",
           "#B6E880",
           "#FF97FF",
           "#FECB52"
          ],
          "font": {
           "color": "#2a3f5f"
          },
          "geo": {
           "bgcolor": "white",
           "lakecolor": "white",
           "landcolor": "#E5ECF6",
           "showlakes": true,
           "showland": true,
           "subunitcolor": "white"
          },
          "hoverlabel": {
           "align": "left"
          },
          "hovermode": "closest",
          "mapbox": {
           "style": "light"
          },
          "paper_bgcolor": "white",
          "plot_bgcolor": "#E5ECF6",
          "polar": {
           "angularaxis": {
            "gridcolor": "white",
            "linecolor": "white",
            "ticks": ""
           },
           "bgcolor": "#E5ECF6",
           "radialaxis": {
            "gridcolor": "white",
            "linecolor": "white",
            "ticks": ""
           }
          },
          "scene": {
           "xaxis": {
            "backgroundcolor": "#E5ECF6",
            "gridcolor": "white",
            "gridwidth": 2,
            "linecolor": "white",
            "showbackground": true,
            "ticks": "",
            "zerolinecolor": "white"
           },
           "yaxis": {
            "backgroundcolor": "#E5ECF6",
            "gridcolor": "white",
            "gridwidth": 2,
            "linecolor": "white",
            "showbackground": true,
            "ticks": "",
            "zerolinecolor": "white"
           },
           "zaxis": {
            "backgroundcolor": "#E5ECF6",
            "gridcolor": "white",
            "gridwidth": 2,
            "linecolor": "white",
            "showbackground": true,
            "ticks": "",
            "zerolinecolor": "white"
           }
          },
          "shapedefaults": {
           "line": {
            "color": "#2a3f5f"
           }
          },
          "ternary": {
           "aaxis": {
            "gridcolor": "white",
            "linecolor": "white",
            "ticks": ""
           },
           "baxis": {
            "gridcolor": "white",
            "linecolor": "white",
            "ticks": ""
           },
           "bgcolor": "#E5ECF6",
           "caxis": {
            "gridcolor": "white",
            "linecolor": "white",
            "ticks": ""
           }
          },
          "title": {
           "x": 0.05
          },
          "xaxis": {
           "automargin": true,
           "gridcolor": "white",
           "linecolor": "white",
           "ticks": "",
           "title": {
            "standoff": 15
           },
           "zerolinecolor": "white",
           "zerolinewidth": 2
          },
          "yaxis": {
           "automargin": true,
           "gridcolor": "white",
           "linecolor": "white",
           "ticks": "",
           "title": {
            "standoff": 15
           },
           "zerolinecolor": "white",
           "zerolinewidth": 2
          }
         }
        },
        "title": {
         "text": "Percentage index for each School in 2015-2016"
        },
        "width": 900,
        "xaxis": {
         "anchor": "y",
         "domain": [
          0,
          1
         ],
         "title": {
          "text": "Building_Name"
         }
        },
        "yaxis": {
         "anchor": "x",
         "domain": [
          0,
          1
         ],
         "title": {
          "text": "Performance Index Percent"
         }
        }
       }
      },
      "text/html": [
       "<div>                            <div id=\"1728682e-29ef-43c2-8e02-79f5ecfcc656\" class=\"plotly-graph-div\" style=\"height:800px; width:900px;\"></div>            <script type=\"text/javascript\">                require([\"plotly\"], function(Plotly) {                    window.PLOTLYENV=window.PLOTLYENV || {};                                    if (document.getElementById(\"1728682e-29ef-43c2-8e02-79f5ecfcc656\")) {                    Plotly.newPlot(                        \"1728682e-29ef-43c2-8e02-79f5ecfcc656\",                        [{\"alignmentgroup\": \"True\", \"hovertemplate\": \"Building_Name=%{x}<br>Performance Index Percent=%{marker.color}<extra></extra>\", \"legendgroup\": \"\", \"marker\": {\"color\": [36.6, 0.0, 38.7, 36.9, 32.4, 0.0, 47.300000000000004, 54.1, 30.5, 59.800000000000004, 32.3, 32.7, 43.5, 35.2, 44.0, 48.800000000000004, 66.4, 36.9, 39.0, 42.300000000000004, 52.800000000000004, 41.800000000000004, 37.800000000000004, 68.4, 33.1, 32.3, 38.1, 38.300000000000004, 42.0, 0.0, 0.0, 0.0, 0.0, 0.0, 0.0, 67.9, 42.5, 36.300000000000004, 42.2, 36.800000000000004, 0.0, 51.7, 0.0, 0.0, 30.2, 37.0, 36.4, 0.0, 40.0, 35.5, 60.800000000000004, 32.8, 38.7, 0.0, 0.0, 34.800000000000004, 41.5, 43.4, 45.5, 35.0, 43.5, 32.7, 37.1, 43.2, 62.1, 67.6, 64.1, 44.7, 35.7, 70.3, 32.5, 49.4, 36.0, 50.1, 35.4, 34.6, 35.5, 33.3, 62.800000000000004, 33.9, 61.2, 45.2, 45.2, 31.8, 45.300000000000004, 61.5, 33.2, 51.7, 45.800000000000004, 34.9, 28.2, 56.4, 49.6, 51.300000000000004, 39.300000000000004, 44.300000000000004, 46.0, 36.1, 38.300000000000004, 47.2, 45.9, 38.6, 39.2, 35.6, 69.3, 34.6, 40.800000000000004, 43.4, 55.4, 42.6, 41.9, 38.800000000000004, 32.6, 0.0, 0.0, 0.0, 76.0], \"coloraxis\": \"coloraxis\"}, \"name\": \"\", \"offsetgroup\": \"\", \"orientation\": \"v\", \"showlegend\": false, \"textposition\": \"auto\", \"type\": \"bar\", \"x\": [\"Adlai Stevenson School\", \"Menlo Park Academy\", \"Almira\", \"Andrew J Rickoff\", \"Anton Grdina\", \"Cleveland Entrepreneurship Preparatory School\", \"Artemus Ward\", \"Benjamin Franklin\", \"Bolton\", \"Buhrer\", \"Case\", \"Alfred Benesch\", \"Charles A Mooney School\", \"Charles Dickens School\", \"Charles W Eliot School\", \"Clara E Westropp School\", \"Clark School\", \"Collinwood High School\", \"Daniel E Morgan School\", \"Denison\", \"Cleveland School of Arts Lower Campus\", \"Memorial School\", \"East Clark\", \"Douglas MacArthur\", \"Ginn Academy\", \"East Technical High School\", \"MC^2 STEM High School\", \"Design Lab @ Health Careers\", \"Euclid Park Elementary School\", \"Village Preparatory School\", \"Northeast Ohio College Preparatory School\", \"Cleveland College Preparatory School\", \"Citizens Leadership Academy\", \"Near West Intergenerational School\", \"Entrepreneurship Preparatory School - Woodland Hills Campus\", \"Campus International School\", \"New Technology West\", \"New Technology HS@East Tech\", \"Facing History High School@Charles Mooney\", \"Fullerton School\", \"Citizens Academy East\", \"Garfield Elementary School\", \"Village Preparatory School:: Woodland Hills Campus\", \"Stepstone Academy\", \"George Washington Carver\", \"Glenville High School\", \"H Barbara Booker Elementary School\", \"Lakeshore Intergenerational School\", \"Cleveland High School for the Digital Arts\", \"PACT @ JFK\", \"Bard Early College Cleveland\", \"E3agle Academy\", \"Hannah Gibbons-Nottingham Elementary School\", \"Stonebrook Montessori\", \"Citizens Academy Southeast\", \"Harvey Rice Elementary School\", \"John Marshall School of Engineering\", \"John Marshall School of Business and Civic Leadership\", \"John Marshall School of Information Technology\", \"Iowa-Maple Elementary School\", \"James Ford Rhodes High School\", \"Jane Addams Business Careers High School\", \"John Adams High School\", \"John F Kennedy High School\", \"Cleveland Early College High\", \"John Marshall High School\", \"Cleveland School of Architecture & Design\", \"Louis Agassiz School\", \"Franklin D. Roosevelt\", \"Louisa May Alcott Elementary School\", \"Mary B Martin School\", \"Mary M Bethune\", \"Max S Hayes High School\", \"McKinley School\", \"Miles School\", \"Miles Park School\", \"Michael R. White\", \"Mound Elementary School\", \"The School of One\", \"Nathan Hale School\", \"Newton D Baker School\", \"Oliver H Perry Elementary School\", \"Orchard School\", \"Patrick Henry School\", \"Paul L Dunbar Elementary School\", \"Riverside School\", \"Robert H Jamison School\", \"Robinson G Jones Elementary School\", \"Scranton School\", \"Sunbeam\", \"Thomas Jefferson School\", \"Tremont Montessori School\", \"Valley View Elementary School\", \"William C Bryant Elementary School\", \"Wade Park\", \"Walton School\", \"Warner Girls Leadership Academy\", \"Washington Park\", \"Watterson-Lake School\", \"Waverly Elementary School\", \"Wilbur Wright School\", \"Willow School\", \"Willson School\", \"Lincoln-West High School\", \"Whitney Young School\", \"Luis Munoz Marin School\", \"Joseph M Gallagher School\", \"Garrett Morgan Schl Of Science School\", \"Cleveland School Of The Arts High School\", \"Marion C Seltzer Elementary School\", \"Marion-Sterling Elementary School\", \"Kenneth W Clement\", \"Health Careers Center High School\", \"Intergenerational School, The\", \"Citizens Academy\", \"SuccessTech Academy School\", \"Cleveland School of Science & Medicine\"], \"xaxis\": \"x\", \"y\": [36.6, 0.0, 38.7, 36.9, 32.4, 0.0, 47.300000000000004, 54.1, 30.5, 59.800000000000004, 32.3, 32.7, 43.5, 35.2, 44.0, 48.800000000000004, 66.4, 36.9, 39.0, 42.300000000000004, 52.800000000000004, 41.800000000000004, 37.800000000000004, 68.4, 33.1, 32.3, 38.1, 38.300000000000004, 42.0, 0.0, 0.0, 0.0, 0.0, 0.0, 0.0, 67.9, 42.5, 36.300000000000004, 42.2, 36.800000000000004, 0.0, 51.7, 0.0, 0.0, 30.2, 37.0, 36.4, 0.0, 40.0, 35.5, 60.800000000000004, 32.8, 38.7, 0.0, 0.0, 34.800000000000004, 41.5, 43.4, 45.5, 35.0, 43.5, 32.7, 37.1, 43.2, 62.1, 67.6, 64.1, 44.7, 35.7, 70.3, 32.5, 49.4, 36.0, 50.1, 35.4, 34.6, 35.5, 33.3, 62.800000000000004, 33.9, 61.2, 45.2, 45.2, 31.8, 45.300000000000004, 61.5, 33.2, 51.7, 45.800000000000004, 34.9, 28.2, 56.4, 49.6, 51.300000000000004, 39.300000000000004, 44.300000000000004, 46.0, 36.1, 38.300000000000004, 47.2, 45.9, 38.6, 39.2, 35.6, 69.3, 34.6, 40.800000000000004, 43.4, 55.4, 42.6, 41.9, 38.800000000000004, 32.6, 0.0, 0.0, 0.0, 76.0], \"yaxis\": \"y\"}],                        {\"barmode\": \"relative\", \"coloraxis\": {\"colorbar\": {\"title\": {\"text\": \"Performance Index Percent\"}}, \"colorscale\": [[0.0, \"#0d0887\"], [0.1111111111111111, \"#46039f\"], [0.2222222222222222, \"#7201a8\"], [0.3333333333333333, \"#9c179e\"], [0.4444444444444444, \"#bd3786\"], [0.5555555555555556, \"#d8576b\"], [0.6666666666666666, \"#ed7953\"], [0.7777777777777778, \"#fb9f3a\"], [0.8888888888888888, \"#fdca26\"], [1.0, \"#f0f921\"]]}, \"height\": 800, \"legend\": {\"tracegroupgap\": 0}, \"template\": {\"data\": {\"bar\": [{\"error_x\": {\"color\": \"#2a3f5f\"}, \"error_y\": {\"color\": \"#2a3f5f\"}, \"marker\": {\"line\": {\"color\": \"#E5ECF6\", \"width\": 0.5}}, \"type\": \"bar\"}], \"barpolar\": [{\"marker\": {\"line\": {\"color\": \"#E5ECF6\", \"width\": 0.5}}, \"type\": \"barpolar\"}], \"carpet\": [{\"aaxis\": {\"endlinecolor\": \"#2a3f5f\", \"gridcolor\": \"white\", \"linecolor\": \"white\", \"minorgridcolor\": \"white\", \"startlinecolor\": \"#2a3f5f\"}, \"baxis\": {\"endlinecolor\": \"#2a3f5f\", \"gridcolor\": \"white\", \"linecolor\": \"white\", \"minorgridcolor\": \"white\", \"startlinecolor\": \"#2a3f5f\"}, \"type\": \"carpet\"}], \"choropleth\": [{\"colorbar\": {\"outlinewidth\": 0, \"ticks\": \"\"}, \"type\": \"choropleth\"}], \"contour\": [{\"colorbar\": {\"outlinewidth\": 0, \"ticks\": \"\"}, \"colorscale\": [[0.0, \"#0d0887\"], [0.1111111111111111, \"#46039f\"], [0.2222222222222222, \"#7201a8\"], [0.3333333333333333, \"#9c179e\"], [0.4444444444444444, \"#bd3786\"], [0.5555555555555556, \"#d8576b\"], [0.6666666666666666, \"#ed7953\"], [0.7777777777777778, \"#fb9f3a\"], [0.8888888888888888, \"#fdca26\"], [1.0, \"#f0f921\"]], \"type\": \"contour\"}], \"contourcarpet\": [{\"colorbar\": {\"outlinewidth\": 0, \"ticks\": \"\"}, \"type\": \"contourcarpet\"}], \"heatmap\": [{\"colorbar\": {\"outlinewidth\": 0, \"ticks\": \"\"}, \"colorscale\": [[0.0, \"#0d0887\"], [0.1111111111111111, \"#46039f\"], [0.2222222222222222, \"#7201a8\"], [0.3333333333333333, \"#9c179e\"], [0.4444444444444444, \"#bd3786\"], [0.5555555555555556, \"#d8576b\"], [0.6666666666666666, \"#ed7953\"], [0.7777777777777778, \"#fb9f3a\"], [0.8888888888888888, \"#fdca26\"], [1.0, \"#f0f921\"]], \"type\": \"heatmap\"}], \"heatmapgl\": [{\"colorbar\": {\"outlinewidth\": 0, \"ticks\": \"\"}, \"colorscale\": [[0.0, \"#0d0887\"], [0.1111111111111111, \"#46039f\"], [0.2222222222222222, \"#7201a8\"], [0.3333333333333333, \"#9c179e\"], [0.4444444444444444, \"#bd3786\"], [0.5555555555555556, \"#d8576b\"], [0.6666666666666666, \"#ed7953\"], [0.7777777777777778, \"#fb9f3a\"], [0.8888888888888888, \"#fdca26\"], [1.0, \"#f0f921\"]], \"type\": \"heatmapgl\"}], \"histogram\": [{\"marker\": {\"colorbar\": {\"outlinewidth\": 0, \"ticks\": \"\"}}, \"type\": \"histogram\"}], \"histogram2d\": [{\"colorbar\": {\"outlinewidth\": 0, \"ticks\": \"\"}, \"colorscale\": [[0.0, \"#0d0887\"], [0.1111111111111111, \"#46039f\"], [0.2222222222222222, \"#7201a8\"], [0.3333333333333333, \"#9c179e\"], [0.4444444444444444, \"#bd3786\"], [0.5555555555555556, \"#d8576b\"], [0.6666666666666666, \"#ed7953\"], [0.7777777777777778, \"#fb9f3a\"], [0.8888888888888888, \"#fdca26\"], [1.0, \"#f0f921\"]], \"type\": \"histogram2d\"}], \"histogram2dcontour\": [{\"colorbar\": {\"outlinewidth\": 0, \"ticks\": \"\"}, \"colorscale\": [[0.0, \"#0d0887\"], [0.1111111111111111, \"#46039f\"], [0.2222222222222222, \"#7201a8\"], [0.3333333333333333, \"#9c179e\"], [0.4444444444444444, \"#bd3786\"], [0.5555555555555556, \"#d8576b\"], [0.6666666666666666, \"#ed7953\"], [0.7777777777777778, \"#fb9f3a\"], [0.8888888888888888, \"#fdca26\"], [1.0, \"#f0f921\"]], \"type\": \"histogram2dcontour\"}], \"mesh3d\": [{\"colorbar\": {\"outlinewidth\": 0, \"ticks\": \"\"}, \"type\": \"mesh3d\"}], \"parcoords\": [{\"line\": {\"colorbar\": {\"outlinewidth\": 0, \"ticks\": \"\"}}, \"type\": \"parcoords\"}], \"pie\": [{\"automargin\": true, \"type\": \"pie\"}], \"scatter\": [{\"marker\": {\"colorbar\": {\"outlinewidth\": 0, \"ticks\": \"\"}}, \"type\": \"scatter\"}], \"scatter3d\": [{\"line\": {\"colorbar\": {\"outlinewidth\": 0, \"ticks\": \"\"}}, \"marker\": {\"colorbar\": {\"outlinewidth\": 0, \"ticks\": \"\"}}, \"type\": \"scatter3d\"}], \"scattercarpet\": [{\"marker\": {\"colorbar\": {\"outlinewidth\": 0, \"ticks\": \"\"}}, \"type\": \"scattercarpet\"}], \"scattergeo\": [{\"marker\": {\"colorbar\": {\"outlinewidth\": 0, \"ticks\": \"\"}}, \"type\": \"scattergeo\"}], \"scattergl\": [{\"marker\": {\"colorbar\": {\"outlinewidth\": 0, \"ticks\": \"\"}}, \"type\": \"scattergl\"}], \"scattermapbox\": [{\"marker\": {\"colorbar\": {\"outlinewidth\": 0, \"ticks\": \"\"}}, \"type\": \"scattermapbox\"}], \"scatterpolar\": [{\"marker\": {\"colorbar\": {\"outlinewidth\": 0, \"ticks\": \"\"}}, \"type\": \"scatterpolar\"}], \"scatterpolargl\": [{\"marker\": {\"colorbar\": {\"outlinewidth\": 0, \"ticks\": \"\"}}, \"type\": \"scatterpolargl\"}], \"scatterternary\": [{\"marker\": {\"colorbar\": {\"outlinewidth\": 0, \"ticks\": \"\"}}, \"type\": \"scatterternary\"}], \"surface\": [{\"colorbar\": {\"outlinewidth\": 0, \"ticks\": \"\"}, \"colorscale\": [[0.0, \"#0d0887\"], [0.1111111111111111, \"#46039f\"], [0.2222222222222222, \"#7201a8\"], [0.3333333333333333, \"#9c179e\"], [0.4444444444444444, \"#bd3786\"], [0.5555555555555556, \"#d8576b\"], [0.6666666666666666, \"#ed7953\"], [0.7777777777777778, \"#fb9f3a\"], [0.8888888888888888, \"#fdca26\"], [1.0, \"#f0f921\"]], \"type\": \"surface\"}], \"table\": [{\"cells\": {\"fill\": {\"color\": \"#EBF0F8\"}, \"line\": {\"color\": \"white\"}}, \"header\": {\"fill\": {\"color\": \"#C8D4E3\"}, \"line\": {\"color\": \"white\"}}, \"type\": \"table\"}]}, \"layout\": {\"annotationdefaults\": {\"arrowcolor\": \"#2a3f5f\", \"arrowhead\": 0, \"arrowwidth\": 1}, \"autotypenumbers\": \"strict\", \"coloraxis\": {\"colorbar\": {\"outlinewidth\": 0, \"ticks\": \"\"}}, \"colorscale\": {\"diverging\": [[0, \"#8e0152\"], [0.1, \"#c51b7d\"], [0.2, \"#de77ae\"], [0.3, \"#f1b6da\"], [0.4, \"#fde0ef\"], [0.5, \"#f7f7f7\"], [0.6, \"#e6f5d0\"], [0.7, \"#b8e186\"], [0.8, \"#7fbc41\"], [0.9, \"#4d9221\"], [1, \"#276419\"]], \"sequential\": [[0.0, \"#0d0887\"], [0.1111111111111111, \"#46039f\"], [0.2222222222222222, \"#7201a8\"], [0.3333333333333333, \"#9c179e\"], [0.4444444444444444, \"#bd3786\"], [0.5555555555555556, \"#d8576b\"], [0.6666666666666666, \"#ed7953\"], [0.7777777777777778, \"#fb9f3a\"], [0.8888888888888888, \"#fdca26\"], [1.0, \"#f0f921\"]], \"sequentialminus\": [[0.0, \"#0d0887\"], [0.1111111111111111, \"#46039f\"], [0.2222222222222222, \"#7201a8\"], [0.3333333333333333, \"#9c179e\"], [0.4444444444444444, \"#bd3786\"], [0.5555555555555556, \"#d8576b\"], [0.6666666666666666, \"#ed7953\"], [0.7777777777777778, \"#fb9f3a\"], [0.8888888888888888, \"#fdca26\"], [1.0, \"#f0f921\"]]}, \"colorway\": [\"#636efa\", \"#EF553B\", \"#00cc96\", \"#ab63fa\", \"#FFA15A\", \"#19d3f3\", \"#FF6692\", \"#B6E880\", \"#FF97FF\", \"#FECB52\"], \"font\": {\"color\": \"#2a3f5f\"}, \"geo\": {\"bgcolor\": \"white\", \"lakecolor\": \"white\", \"landcolor\": \"#E5ECF6\", \"showlakes\": true, \"showland\": true, \"subunitcolor\": \"white\"}, \"hoverlabel\": {\"align\": \"left\"}, \"hovermode\": \"closest\", \"mapbox\": {\"style\": \"light\"}, \"paper_bgcolor\": \"white\", \"plot_bgcolor\": \"#E5ECF6\", \"polar\": {\"angularaxis\": {\"gridcolor\": \"white\", \"linecolor\": \"white\", \"ticks\": \"\"}, \"bgcolor\": \"#E5ECF6\", \"radialaxis\": {\"gridcolor\": \"white\", \"linecolor\": \"white\", \"ticks\": \"\"}}, \"scene\": {\"xaxis\": {\"backgroundcolor\": \"#E5ECF6\", \"gridcolor\": \"white\", \"gridwidth\": 2, \"linecolor\": \"white\", \"showbackground\": true, \"ticks\": \"\", \"zerolinecolor\": \"white\"}, \"yaxis\": {\"backgroundcolor\": \"#E5ECF6\", \"gridcolor\": \"white\", \"gridwidth\": 2, \"linecolor\": \"white\", \"showbackground\": true, \"ticks\": \"\", \"zerolinecolor\": \"white\"}, \"zaxis\": {\"backgroundcolor\": \"#E5ECF6\", \"gridcolor\": \"white\", \"gridwidth\": 2, \"linecolor\": \"white\", \"showbackground\": true, \"ticks\": \"\", \"zerolinecolor\": \"white\"}}, \"shapedefaults\": {\"line\": {\"color\": \"#2a3f5f\"}}, \"ternary\": {\"aaxis\": {\"gridcolor\": \"white\", \"linecolor\": \"white\", \"ticks\": \"\"}, \"baxis\": {\"gridcolor\": \"white\", \"linecolor\": \"white\", \"ticks\": \"\"}, \"bgcolor\": \"#E5ECF6\", \"caxis\": {\"gridcolor\": \"white\", \"linecolor\": \"white\", \"ticks\": \"\"}}, \"title\": {\"x\": 0.05}, \"xaxis\": {\"automargin\": true, \"gridcolor\": \"white\", \"linecolor\": \"white\", \"ticks\": \"\", \"title\": {\"standoff\": 15}, \"zerolinecolor\": \"white\", \"zerolinewidth\": 2}, \"yaxis\": {\"automargin\": true, \"gridcolor\": \"white\", \"linecolor\": \"white\", \"ticks\": \"\", \"title\": {\"standoff\": 15}, \"zerolinecolor\": \"white\", \"zerolinewidth\": 2}}}, \"title\": {\"text\": \"Percentage index for each School in 2015-2016\"}, \"width\": 900, \"xaxis\": {\"anchor\": \"y\", \"domain\": [0.0, 1.0], \"title\": {\"text\": \"Building_Name\"}}, \"yaxis\": {\"anchor\": \"x\", \"domain\": [0.0, 1.0], \"title\": {\"text\": \"Performance Index Percent\"}}},                        {\"responsive\": true}                    ).then(function(){\n",
       "                            \n",
       "var gd = document.getElementById('1728682e-29ef-43c2-8e02-79f5ecfcc656');\n",
       "var x = new MutationObserver(function (mutations, observer) {{\n",
       "        var display = window.getComputedStyle(gd).display;\n",
       "        if (!display || display === 'none') {{\n",
       "            console.log([gd, 'removed!']);\n",
       "            Plotly.purge(gd);\n",
       "            observer.disconnect();\n",
       "        }}\n",
       "}});\n",
       "\n",
       "// Listen for the removal of the full notebook cells\n",
       "var notebookContainer = gd.closest('#notebook-container');\n",
       "if (notebookContainer) {{\n",
       "    x.observe(notebookContainer, {childList: true});\n",
       "}}\n",
       "\n",
       "// Listen for the clearing of the current output cell\n",
       "var outputEl = gd.closest('.output');\n",
       "if (outputEl) {{\n",
       "    x.observe(outputEl, {childList: true});\n",
       "}}\n",
       "\n",
       "                        })                };                });            </script>        </div>"
      ]
     },
     "metadata": {},
     "output_type": "display_data"
    }
   ],
   "source": [
    "# Filter data for the year 2015-2016\n",
    "df_2015_2016 = df_CMSD[df_CMSD['School_Year'] == '2015-2016']\n",
    "\n",
    "# Plot with Plotly Express\n",
    "fig = px.bar(\n",
    "    df_2015_2016,\n",
    "    x ='Building_Name', \n",
    "    y ='Performance_Index_Percent',\n",
    "    color='Performance_Index_Percent',\n",
    "    title='Percentage index for each School in 2015-2016',\n",
    "    labels={'Performance_Index_Percent': 'Performance Index Percent', 'School_Name': 'School Name'},\n",
    "    height=800,  # Set the height of the figure\n",
    "    width=900,\n",
    ")\n",
    "\n",
    "# Show the plot\n",
    "fig.show()"
   ]
  },
  {
   "cell_type": "code",
   "execution_count": 145,
   "metadata": {},
   "outputs": [
    {
     "data": {
      "application/vnd.plotly.v1+json": {
       "config": {
        "plotlyServerURL": "https://plot.ly"
       },
       "data": [
        {
         "alignmentgroup": "True",
         "hovertemplate": "Building_Name=%{x}<br>Performance Index Percent=%{marker.color}<extra></extra>",
         "legendgroup": "",
         "marker": {
          "color": [
           41.1,
           88.7,
           39,
           39.3,
           33.6,
           62.6,
           50.8,
           53.6,
           34.3,
           64.2,
           35.4,
           33.2,
           47.8,
           40,
           42,
           53,
           77.2,
           45,
           44.8,
           50.8,
           52,
           46.5,
           40.5,
           73.2,
           41.4,
           39.2,
           42.7,
           43.3,
           53.1,
           67.2,
           50,
           52.8,
           63.1,
           74.6,
           53.3,
           70.4,
           50.8,
           44.2,
           48.7,
           43.4,
           55.4,
           64.7,
           43.8,
           30.6,
           43.2,
           40.7,
           75.3,
           41.5,
           37.6,
           66.4,
           36.4,
           43.6,
           43.6,
           34.3,
           45.3,
           48.8,
           58.4,
           0,
           41.9,
           38.5,
           34.2,
           44.5,
           38.6,
           35.7,
           0,
           79.7,
           39.6,
           76.3,
           54.3,
           37.4,
           72.4,
           35.2,
           51.8,
           41.4,
           56.1,
           41.3,
           36.6,
           35.9,
           34.3,
           56.5,
           36.6,
           55.4,
           48.4,
           49.9,
           32.7,
           60.2,
           62.6,
           37.2,
           53.5,
           49.3,
           38,
           0,
           58.5,
           55.8,
           53.5,
           39.2,
           43.9,
           53.8,
           44.5,
           49,
           45,
           42.7,
           38.4,
           34.8,
           73.6,
           36.1,
           43.2,
           44.6,
           55.4,
           40.7,
           40.9,
           43.8,
           35.8,
           72.2,
           25.9,
           78.8,
           68.1,
           65.7,
           66.1
          ],
          "coloraxis": "coloraxis"
         },
         "name": "",
         "offsetgroup": "",
         "orientation": "v",
         "showlegend": false,
         "textposition": "auto",
         "type": "bar",
         "x": [
          "Adlai Stevenson School",
          "Menlo Park Academy",
          "Almira",
          "Andrew J Rickoff",
          "Anton Grdina",
          "Cleveland Entrepreneurship Preparatory School",
          "Artemus Ward",
          "Benjamin Franklin",
          "Bolton",
          "Buhrer",
          "Case",
          "Alfred Benesch",
          "Charles A Mooney School",
          "Charles Dickens School",
          "Charles W Eliot School",
          "Clara E Westropp School",
          "Clark School",
          "Collinwood High School",
          "Daniel E Morgan School",
          "Denison",
          "Cleveland School of Arts Lower Campus",
          "Memorial School",
          "East Clark",
          "Douglas MacArthur",
          "Ginn Academy",
          "East Technical High School",
          "MC^2 STEM High School",
          "Design Lab @ Health Careers",
          "Euclid Park Elementary School",
          "Village Preparatory School",
          "Northeast Ohio College Preparatory School",
          "Cleveland College Preparatory School",
          "Citizens Leadership Academy",
          "Near West Intergenerational School",
          "Entrepreneurship Preparatory School - Woodland Hills Campus",
          "Campus International School",
          "New Technology West",
          "New Technology HS@East Tech",
          "Facing History High School@Charles Mooney",
          "Fullerton School",
          "Garfield Elementary School",
          "Village Preparatory School:: Woodland Hills Campus",
          "Stepstone Academy",
          "George Washington Carver",
          "Glenville High School",
          "H Barbara Booker Elementary School",
          "Lakeshore Intergenerational School",
          "Cleveland High School for the Digital Arts",
          "PACT @ JFK",
          "Bard Early College Cleveland",
          "E3agle Academy",
          "Hannah Gibbons-Nottingham Elementary School",
          "Stonebrook Montessori",
          "Harvey Rice Elementary School",
          "John Marshall School of Engineering",
          "John Marshall School of Business and Civic Leadership",
          "John Marshall School of Information Technology",
          "Village Preparatory School Willard",
          "Lincoln West School Of Global Studies",
          "Lincoln West School of Science & Health",
          "Iowa-Maple Elementary School",
          "James Ford Rhodes High School",
          "Jane Addams Business Careers High School",
          "John Adams High School",
          "John F Kennedy High School",
          "Cleveland Early College High",
          "John Marshall High School",
          "Cleveland School of Architecture & Design",
          "Louis Agassiz School",
          "Franklin D. Roosevelt",
          "Louisa May Alcott Elementary School",
          "Mary B Martin School",
          "Mary M Bethune",
          "Max S Hayes High School",
          "McKinley School",
          "Miles School",
          "Miles Park School",
          "Michael R. White",
          "Mound Elementary School",
          "The School of One",
          "Nathan Hale School",
          "Newton D Baker School",
          "Oliver H Perry Elementary School",
          "Orchard School",
          "Patrick Henry School",
          "Paul L Dunbar Elementary School",
          "Riverside School",
          "Robert H Jamison School",
          "Robinson G Jones Elementary School",
          "Scranton School",
          "Sunbeam",
          "Thomas Jefferson School",
          "Tremont Montessori School",
          "Valley View Elementary School",
          "William C Bryant Elementary School",
          "Wade Park",
          "Walton School",
          "Warner Girls Leadership Academy",
          "Washington Park",
          "Waverly Elementary School",
          "Wilbur Wright School",
          "Willow School",
          "Willson School",
          "Lincoln-West High School",
          "Whitney Young School",
          "Luis Munoz Marin School",
          "Joseph M Gallagher School",
          "Garrett Morgan Schl Of Science School",
          "Cleveland School Of The Arts High School",
          "Marion C Seltzer Elementary School",
          "Marion-Sterling Elementary School",
          "Kenneth W Clement",
          "Health Careers Center High School",
          "Intergenerational School, The",
          "SuccessTech Academy School",
          "Cleveland School of Science & Medicine",
          "Citizens Academy East",
          "Citizens Academy Southeast",
          "Citizens Academy"
         ],
         "xaxis": "x",
         "y": [
          41.1,
          88.7,
          39,
          39.3,
          33.6,
          62.6,
          50.8,
          53.6,
          34.3,
          64.2,
          35.4,
          33.2,
          47.8,
          40,
          42,
          53,
          77.2,
          45,
          44.8,
          50.8,
          52,
          46.5,
          40.5,
          73.2,
          41.4,
          39.2,
          42.7,
          43.3,
          53.1,
          67.2,
          50,
          52.8,
          63.1,
          74.6,
          53.3,
          70.4,
          50.8,
          44.2,
          48.7,
          43.4,
          55.4,
          64.7,
          43.8,
          30.6,
          43.2,
          40.7,
          75.3,
          41.5,
          37.6,
          66.4,
          36.4,
          43.6,
          43.6,
          34.3,
          45.3,
          48.8,
          58.4,
          0,
          41.9,
          38.5,
          34.2,
          44.5,
          38.6,
          35.7,
          0,
          79.7,
          39.6,
          76.3,
          54.3,
          37.4,
          72.4,
          35.2,
          51.8,
          41.4,
          56.1,
          41.3,
          36.6,
          35.9,
          34.3,
          56.5,
          36.6,
          55.4,
          48.4,
          49.9,
          32.7,
          60.2,
          62.6,
          37.2,
          53.5,
          49.3,
          38,
          0,
          58.5,
          55.8,
          53.5,
          39.2,
          43.9,
          53.8,
          44.5,
          49,
          45,
          42.7,
          38.4,
          34.8,
          73.6,
          36.1,
          43.2,
          44.6,
          55.4,
          40.7,
          40.9,
          43.8,
          35.8,
          72.2,
          25.9,
          78.8,
          68.1,
          65.7,
          66.1
         ],
         "yaxis": "y"
        }
       ],
       "layout": {
        "barmode": "relative",
        "coloraxis": {
         "colorbar": {
          "title": {
           "text": "Performance Index Percent"
          }
         },
         "colorscale": [
          [
           0,
           "#0d0887"
          ],
          [
           0.1111111111111111,
           "#46039f"
          ],
          [
           0.2222222222222222,
           "#7201a8"
          ],
          [
           0.3333333333333333,
           "#9c179e"
          ],
          [
           0.4444444444444444,
           "#bd3786"
          ],
          [
           0.5555555555555556,
           "#d8576b"
          ],
          [
           0.6666666666666666,
           "#ed7953"
          ],
          [
           0.7777777777777778,
           "#fb9f3a"
          ],
          [
           0.8888888888888888,
           "#fdca26"
          ],
          [
           1,
           "#f0f921"
          ]
         ]
        },
        "height": 800,
        "legend": {
         "tracegroupgap": 0
        },
        "template": {
         "data": {
          "bar": [
           {
            "error_x": {
             "color": "#2a3f5f"
            },
            "error_y": {
             "color": "#2a3f5f"
            },
            "marker": {
             "line": {
              "color": "#E5ECF6",
              "width": 0.5
             }
            },
            "type": "bar"
           }
          ],
          "barpolar": [
           {
            "marker": {
             "line": {
              "color": "#E5ECF6",
              "width": 0.5
             }
            },
            "type": "barpolar"
           }
          ],
          "carpet": [
           {
            "aaxis": {
             "endlinecolor": "#2a3f5f",
             "gridcolor": "white",
             "linecolor": "white",
             "minorgridcolor": "white",
             "startlinecolor": "#2a3f5f"
            },
            "baxis": {
             "endlinecolor": "#2a3f5f",
             "gridcolor": "white",
             "linecolor": "white",
             "minorgridcolor": "white",
             "startlinecolor": "#2a3f5f"
            },
            "type": "carpet"
           }
          ],
          "choropleth": [
           {
            "colorbar": {
             "outlinewidth": 0,
             "ticks": ""
            },
            "type": "choropleth"
           }
          ],
          "contour": [
           {
            "colorbar": {
             "outlinewidth": 0,
             "ticks": ""
            },
            "colorscale": [
             [
              0,
              "#0d0887"
             ],
             [
              0.1111111111111111,
              "#46039f"
             ],
             [
              0.2222222222222222,
              "#7201a8"
             ],
             [
              0.3333333333333333,
              "#9c179e"
             ],
             [
              0.4444444444444444,
              "#bd3786"
             ],
             [
              0.5555555555555556,
              "#d8576b"
             ],
             [
              0.6666666666666666,
              "#ed7953"
             ],
             [
              0.7777777777777778,
              "#fb9f3a"
             ],
             [
              0.8888888888888888,
              "#fdca26"
             ],
             [
              1,
              "#f0f921"
             ]
            ],
            "type": "contour"
           }
          ],
          "contourcarpet": [
           {
            "colorbar": {
             "outlinewidth": 0,
             "ticks": ""
            },
            "type": "contourcarpet"
           }
          ],
          "heatmap": [
           {
            "colorbar": {
             "outlinewidth": 0,
             "ticks": ""
            },
            "colorscale": [
             [
              0,
              "#0d0887"
             ],
             [
              0.1111111111111111,
              "#46039f"
             ],
             [
              0.2222222222222222,
              "#7201a8"
             ],
             [
              0.3333333333333333,
              "#9c179e"
             ],
             [
              0.4444444444444444,
              "#bd3786"
             ],
             [
              0.5555555555555556,
              "#d8576b"
             ],
             [
              0.6666666666666666,
              "#ed7953"
             ],
             [
              0.7777777777777778,
              "#fb9f3a"
             ],
             [
              0.8888888888888888,
              "#fdca26"
             ],
             [
              1,
              "#f0f921"
             ]
            ],
            "type": "heatmap"
           }
          ],
          "heatmapgl": [
           {
            "colorbar": {
             "outlinewidth": 0,
             "ticks": ""
            },
            "colorscale": [
             [
              0,
              "#0d0887"
             ],
             [
              0.1111111111111111,
              "#46039f"
             ],
             [
              0.2222222222222222,
              "#7201a8"
             ],
             [
              0.3333333333333333,
              "#9c179e"
             ],
             [
              0.4444444444444444,
              "#bd3786"
             ],
             [
              0.5555555555555556,
              "#d8576b"
             ],
             [
              0.6666666666666666,
              "#ed7953"
             ],
             [
              0.7777777777777778,
              "#fb9f3a"
             ],
             [
              0.8888888888888888,
              "#fdca26"
             ],
             [
              1,
              "#f0f921"
             ]
            ],
            "type": "heatmapgl"
           }
          ],
          "histogram": [
           {
            "marker": {
             "colorbar": {
              "outlinewidth": 0,
              "ticks": ""
             }
            },
            "type": "histogram"
           }
          ],
          "histogram2d": [
           {
            "colorbar": {
             "outlinewidth": 0,
             "ticks": ""
            },
            "colorscale": [
             [
              0,
              "#0d0887"
             ],
             [
              0.1111111111111111,
              "#46039f"
             ],
             [
              0.2222222222222222,
              "#7201a8"
             ],
             [
              0.3333333333333333,
              "#9c179e"
             ],
             [
              0.4444444444444444,
              "#bd3786"
             ],
             [
              0.5555555555555556,
              "#d8576b"
             ],
             [
              0.6666666666666666,
              "#ed7953"
             ],
             [
              0.7777777777777778,
              "#fb9f3a"
             ],
             [
              0.8888888888888888,
              "#fdca26"
             ],
             [
              1,
              "#f0f921"
             ]
            ],
            "type": "histogram2d"
           }
          ],
          "histogram2dcontour": [
           {
            "colorbar": {
             "outlinewidth": 0,
             "ticks": ""
            },
            "colorscale": [
             [
              0,
              "#0d0887"
             ],
             [
              0.1111111111111111,
              "#46039f"
             ],
             [
              0.2222222222222222,
              "#7201a8"
             ],
             [
              0.3333333333333333,
              "#9c179e"
             ],
             [
              0.4444444444444444,
              "#bd3786"
             ],
             [
              0.5555555555555556,
              "#d8576b"
             ],
             [
              0.6666666666666666,
              "#ed7953"
             ],
             [
              0.7777777777777778,
              "#fb9f3a"
             ],
             [
              0.8888888888888888,
              "#fdca26"
             ],
             [
              1,
              "#f0f921"
             ]
            ],
            "type": "histogram2dcontour"
           }
          ],
          "mesh3d": [
           {
            "colorbar": {
             "outlinewidth": 0,
             "ticks": ""
            },
            "type": "mesh3d"
           }
          ],
          "parcoords": [
           {
            "line": {
             "colorbar": {
              "outlinewidth": 0,
              "ticks": ""
             }
            },
            "type": "parcoords"
           }
          ],
          "pie": [
           {
            "automargin": true,
            "type": "pie"
           }
          ],
          "scatter": [
           {
            "marker": {
             "colorbar": {
              "outlinewidth": 0,
              "ticks": ""
             }
            },
            "type": "scatter"
           }
          ],
          "scatter3d": [
           {
            "line": {
             "colorbar": {
              "outlinewidth": 0,
              "ticks": ""
             }
            },
            "marker": {
             "colorbar": {
              "outlinewidth": 0,
              "ticks": ""
             }
            },
            "type": "scatter3d"
           }
          ],
          "scattercarpet": [
           {
            "marker": {
             "colorbar": {
              "outlinewidth": 0,
              "ticks": ""
             }
            },
            "type": "scattercarpet"
           }
          ],
          "scattergeo": [
           {
            "marker": {
             "colorbar": {
              "outlinewidth": 0,
              "ticks": ""
             }
            },
            "type": "scattergeo"
           }
          ],
          "scattergl": [
           {
            "marker": {
             "colorbar": {
              "outlinewidth": 0,
              "ticks": ""
             }
            },
            "type": "scattergl"
           }
          ],
          "scattermapbox": [
           {
            "marker": {
             "colorbar": {
              "outlinewidth": 0,
              "ticks": ""
             }
            },
            "type": "scattermapbox"
           }
          ],
          "scatterpolar": [
           {
            "marker": {
             "colorbar": {
              "outlinewidth": 0,
              "ticks": ""
             }
            },
            "type": "scatterpolar"
           }
          ],
          "scatterpolargl": [
           {
            "marker": {
             "colorbar": {
              "outlinewidth": 0,
              "ticks": ""
             }
            },
            "type": "scatterpolargl"
           }
          ],
          "scatterternary": [
           {
            "marker": {
             "colorbar": {
              "outlinewidth": 0,
              "ticks": ""
             }
            },
            "type": "scatterternary"
           }
          ],
          "surface": [
           {
            "colorbar": {
             "outlinewidth": 0,
             "ticks": ""
            },
            "colorscale": [
             [
              0,
              "#0d0887"
             ],
             [
              0.1111111111111111,
              "#46039f"
             ],
             [
              0.2222222222222222,
              "#7201a8"
             ],
             [
              0.3333333333333333,
              "#9c179e"
             ],
             [
              0.4444444444444444,
              "#bd3786"
             ],
             [
              0.5555555555555556,
              "#d8576b"
             ],
             [
              0.6666666666666666,
              "#ed7953"
             ],
             [
              0.7777777777777778,
              "#fb9f3a"
             ],
             [
              0.8888888888888888,
              "#fdca26"
             ],
             [
              1,
              "#f0f921"
             ]
            ],
            "type": "surface"
           }
          ],
          "table": [
           {
            "cells": {
             "fill": {
              "color": "#EBF0F8"
             },
             "line": {
              "color": "white"
             }
            },
            "header": {
             "fill": {
              "color": "#C8D4E3"
             },
             "line": {
              "color": "white"
             }
            },
            "type": "table"
           }
          ]
         },
         "layout": {
          "annotationdefaults": {
           "arrowcolor": "#2a3f5f",
           "arrowhead": 0,
           "arrowwidth": 1
          },
          "autotypenumbers": "strict",
          "coloraxis": {
           "colorbar": {
            "outlinewidth": 0,
            "ticks": ""
           }
          },
          "colorscale": {
           "diverging": [
            [
             0,
             "#8e0152"
            ],
            [
             0.1,
             "#c51b7d"
            ],
            [
             0.2,
             "#de77ae"
            ],
            [
             0.3,
             "#f1b6da"
            ],
            [
             0.4,
             "#fde0ef"
            ],
            [
             0.5,
             "#f7f7f7"
            ],
            [
             0.6,
             "#e6f5d0"
            ],
            [
             0.7,
             "#b8e186"
            ],
            [
             0.8,
             "#7fbc41"
            ],
            [
             0.9,
             "#4d9221"
            ],
            [
             1,
             "#276419"
            ]
           ],
           "sequential": [
            [
             0,
             "#0d0887"
            ],
            [
             0.1111111111111111,
             "#46039f"
            ],
            [
             0.2222222222222222,
             "#7201a8"
            ],
            [
             0.3333333333333333,
             "#9c179e"
            ],
            [
             0.4444444444444444,
             "#bd3786"
            ],
            [
             0.5555555555555556,
             "#d8576b"
            ],
            [
             0.6666666666666666,
             "#ed7953"
            ],
            [
             0.7777777777777778,
             "#fb9f3a"
            ],
            [
             0.8888888888888888,
             "#fdca26"
            ],
            [
             1,
             "#f0f921"
            ]
           ],
           "sequentialminus": [
            [
             0,
             "#0d0887"
            ],
            [
             0.1111111111111111,
             "#46039f"
            ],
            [
             0.2222222222222222,
             "#7201a8"
            ],
            [
             0.3333333333333333,
             "#9c179e"
            ],
            [
             0.4444444444444444,
             "#bd3786"
            ],
            [
             0.5555555555555556,
             "#d8576b"
            ],
            [
             0.6666666666666666,
             "#ed7953"
            ],
            [
             0.7777777777777778,
             "#fb9f3a"
            ],
            [
             0.8888888888888888,
             "#fdca26"
            ],
            [
             1,
             "#f0f921"
            ]
           ]
          },
          "colorway": [
           "#636efa",
           "#EF553B",
           "#00cc96",
           "#ab63fa",
           "#FFA15A",
           "#19d3f3",
           "#FF6692",
           "#B6E880",
           "#FF97FF",
           "#FECB52"
          ],
          "font": {
           "color": "#2a3f5f"
          },
          "geo": {
           "bgcolor": "white",
           "lakecolor": "white",
           "landcolor": "#E5ECF6",
           "showlakes": true,
           "showland": true,
           "subunitcolor": "white"
          },
          "hoverlabel": {
           "align": "left"
          },
          "hovermode": "closest",
          "mapbox": {
           "style": "light"
          },
          "paper_bgcolor": "white",
          "plot_bgcolor": "#E5ECF6",
          "polar": {
           "angularaxis": {
            "gridcolor": "white",
            "linecolor": "white",
            "ticks": ""
           },
           "bgcolor": "#E5ECF6",
           "radialaxis": {
            "gridcolor": "white",
            "linecolor": "white",
            "ticks": ""
           }
          },
          "scene": {
           "xaxis": {
            "backgroundcolor": "#E5ECF6",
            "gridcolor": "white",
            "gridwidth": 2,
            "linecolor": "white",
            "showbackground": true,
            "ticks": "",
            "zerolinecolor": "white"
           },
           "yaxis": {
            "backgroundcolor": "#E5ECF6",
            "gridcolor": "white",
            "gridwidth": 2,
            "linecolor": "white",
            "showbackground": true,
            "ticks": "",
            "zerolinecolor": "white"
           },
           "zaxis": {
            "backgroundcolor": "#E5ECF6",
            "gridcolor": "white",
            "gridwidth": 2,
            "linecolor": "white",
            "showbackground": true,
            "ticks": "",
            "zerolinecolor": "white"
           }
          },
          "shapedefaults": {
           "line": {
            "color": "#2a3f5f"
           }
          },
          "ternary": {
           "aaxis": {
            "gridcolor": "white",
            "linecolor": "white",
            "ticks": ""
           },
           "baxis": {
            "gridcolor": "white",
            "linecolor": "white",
            "ticks": ""
           },
           "bgcolor": "#E5ECF6",
           "caxis": {
            "gridcolor": "white",
            "linecolor": "white",
            "ticks": ""
           }
          },
          "title": {
           "x": 0.05
          },
          "xaxis": {
           "automargin": true,
           "gridcolor": "white",
           "linecolor": "white",
           "ticks": "",
           "title": {
            "standoff": 15
           },
           "zerolinecolor": "white",
           "zerolinewidth": 2
          },
          "yaxis": {
           "automargin": true,
           "gridcolor": "white",
           "linecolor": "white",
           "ticks": "",
           "title": {
            "standoff": 15
           },
           "zerolinecolor": "white",
           "zerolinewidth": 2
          }
         }
        },
        "title": {
         "text": "Performance Index for each School in 2016-2017"
        },
        "width": 900,
        "xaxis": {
         "anchor": "y",
         "domain": [
          0,
          1
         ],
         "title": {
          "text": "Building_Name"
         }
        },
        "yaxis": {
         "anchor": "x",
         "domain": [
          0,
          1
         ],
         "title": {
          "text": "Performance Index Percent"
         }
        }
       }
      },
      "text/html": [
       "<div>                            <div id=\"cc2a34c4-d18b-4430-b253-010e0ac2c6f0\" class=\"plotly-graph-div\" style=\"height:800px; width:900px;\"></div>            <script type=\"text/javascript\">                require([\"plotly\"], function(Plotly) {                    window.PLOTLYENV=window.PLOTLYENV || {};                                    if (document.getElementById(\"cc2a34c4-d18b-4430-b253-010e0ac2c6f0\")) {                    Plotly.newPlot(                        \"cc2a34c4-d18b-4430-b253-010e0ac2c6f0\",                        [{\"alignmentgroup\": \"True\", \"hovertemplate\": \"Building_Name=%{x}<br>Performance Index Percent=%{marker.color}<extra></extra>\", \"legendgroup\": \"\", \"marker\": {\"color\": [41.1, 88.7, 39.0, 39.3, 33.6, 62.6, 50.8, 53.6, 34.3, 64.2, 35.4, 33.2, 47.8, 40.0, 42.0, 53.0, 77.2, 45.0, 44.8, 50.8, 52.0, 46.5, 40.5, 73.2, 41.4, 39.2, 42.7, 43.3, 53.1, 67.2, 50.0, 52.8, 63.1, 74.6, 53.3, 70.4, 50.8, 44.2, 48.7, 43.4, 55.4, 64.7, 43.8, 30.6, 43.2, 40.7, 75.3, 41.5, 37.6, 66.4, 36.4, 43.6, 43.6, 34.3, 45.3, 48.8, 58.4, 0.0, 41.9, 38.5, 34.2, 44.5, 38.6, 35.7, 0.0, 79.7, 39.6, 76.3, 54.3, 37.4, 72.4, 35.2, 51.8, 41.4, 56.1, 41.3, 36.6, 35.9, 34.3, 56.5, 36.6, 55.4, 48.4, 49.9, 32.7, 60.2, 62.6, 37.2, 53.5, 49.3, 38.0, 0.0, 58.5, 55.8, 53.5, 39.2, 43.9, 53.8, 44.5, 49.0, 45.0, 42.7, 38.4, 34.8, 73.6, 36.1, 43.2, 44.6, 55.4, 40.7, 40.9, 43.8, 35.8, 72.2, 25.9, 78.8, 68.1, 65.7, 66.1], \"coloraxis\": \"coloraxis\"}, \"name\": \"\", \"offsetgroup\": \"\", \"orientation\": \"v\", \"showlegend\": false, \"textposition\": \"auto\", \"type\": \"bar\", \"x\": [\"Adlai Stevenson School\", \"Menlo Park Academy\", \"Almira\", \"Andrew J Rickoff\", \"Anton Grdina\", \"Cleveland Entrepreneurship Preparatory School\", \"Artemus Ward\", \"Benjamin Franklin\", \"Bolton\", \"Buhrer\", \"Case\", \"Alfred Benesch\", \"Charles A Mooney School\", \"Charles Dickens School\", \"Charles W Eliot School\", \"Clara E Westropp School\", \"Clark School\", \"Collinwood High School\", \"Daniel E Morgan School\", \"Denison\", \"Cleveland School of Arts Lower Campus\", \"Memorial School\", \"East Clark\", \"Douglas MacArthur\", \"Ginn Academy\", \"East Technical High School\", \"MC^2 STEM High School\", \"Design Lab @ Health Careers\", \"Euclid Park Elementary School\", \"Village Preparatory School\", \"Northeast Ohio College Preparatory School\", \"Cleveland College Preparatory School\", \"Citizens Leadership Academy\", \"Near West Intergenerational School\", \"Entrepreneurship Preparatory School - Woodland Hills Campus\", \"Campus International School\", \"New Technology West\", \"New Technology HS@East Tech\", \"Facing History High School@Charles Mooney\", \"Fullerton School\", \"Garfield Elementary School\", \"Village Preparatory School:: Woodland Hills Campus\", \"Stepstone Academy\", \"George Washington Carver\", \"Glenville High School\", \"H Barbara Booker Elementary School\", \"Lakeshore Intergenerational School\", \"Cleveland High School for the Digital Arts\", \"PACT @ JFK\", \"Bard Early College Cleveland\", \"E3agle Academy\", \"Hannah Gibbons-Nottingham Elementary School\", \"Stonebrook Montessori\", \"Harvey Rice Elementary School\", \"John Marshall School of Engineering\", \"John Marshall School of Business and Civic Leadership\", \"John Marshall School of Information Technology\", \"Village Preparatory School Willard\", \"Lincoln West School Of Global Studies\", \"Lincoln West School of Science & Health\", \"Iowa-Maple Elementary School\", \"James Ford Rhodes High School\", \"Jane Addams Business Careers High School\", \"John Adams High School\", \"John F Kennedy High School\", \"Cleveland Early College High\", \"John Marshall High School\", \"Cleveland School of Architecture & Design\", \"Louis Agassiz School\", \"Franklin D. Roosevelt\", \"Louisa May Alcott Elementary School\", \"Mary B Martin School\", \"Mary M Bethune\", \"Max S Hayes High School\", \"McKinley School\", \"Miles School\", \"Miles Park School\", \"Michael R. White\", \"Mound Elementary School\", \"The School of One\", \"Nathan Hale School\", \"Newton D Baker School\", \"Oliver H Perry Elementary School\", \"Orchard School\", \"Patrick Henry School\", \"Paul L Dunbar Elementary School\", \"Riverside School\", \"Robert H Jamison School\", \"Robinson G Jones Elementary School\", \"Scranton School\", \"Sunbeam\", \"Thomas Jefferson School\", \"Tremont Montessori School\", \"Valley View Elementary School\", \"William C Bryant Elementary School\", \"Wade Park\", \"Walton School\", \"Warner Girls Leadership Academy\", \"Washington Park\", \"Waverly Elementary School\", \"Wilbur Wright School\", \"Willow School\", \"Willson School\", \"Lincoln-West High School\", \"Whitney Young School\", \"Luis Munoz Marin School\", \"Joseph M Gallagher School\", \"Garrett Morgan Schl Of Science School\", \"Cleveland School Of The Arts High School\", \"Marion C Seltzer Elementary School\", \"Marion-Sterling Elementary School\", \"Kenneth W Clement\", \"Health Careers Center High School\", \"Intergenerational School, The\", \"SuccessTech Academy School\", \"Cleveland School of Science & Medicine\", \"Citizens Academy East\", \"Citizens Academy Southeast\", \"Citizens Academy\"], \"xaxis\": \"x\", \"y\": [41.1, 88.7, 39.0, 39.3, 33.6, 62.6, 50.8, 53.6, 34.3, 64.2, 35.4, 33.2, 47.8, 40.0, 42.0, 53.0, 77.2, 45.0, 44.8, 50.8, 52.0, 46.5, 40.5, 73.2, 41.4, 39.2, 42.7, 43.3, 53.1, 67.2, 50.0, 52.8, 63.1, 74.6, 53.3, 70.4, 50.8, 44.2, 48.7, 43.4, 55.4, 64.7, 43.8, 30.6, 43.2, 40.7, 75.3, 41.5, 37.6, 66.4, 36.4, 43.6, 43.6, 34.3, 45.3, 48.8, 58.4, 0.0, 41.9, 38.5, 34.2, 44.5, 38.6, 35.7, 0.0, 79.7, 39.6, 76.3, 54.3, 37.4, 72.4, 35.2, 51.8, 41.4, 56.1, 41.3, 36.6, 35.9, 34.3, 56.5, 36.6, 55.4, 48.4, 49.9, 32.7, 60.2, 62.6, 37.2, 53.5, 49.3, 38.0, 0.0, 58.5, 55.8, 53.5, 39.2, 43.9, 53.8, 44.5, 49.0, 45.0, 42.7, 38.4, 34.8, 73.6, 36.1, 43.2, 44.6, 55.4, 40.7, 40.9, 43.8, 35.8, 72.2, 25.9, 78.8, 68.1, 65.7, 66.1], \"yaxis\": \"y\"}],                        {\"barmode\": \"relative\", \"coloraxis\": {\"colorbar\": {\"title\": {\"text\": \"Performance Index Percent\"}}, \"colorscale\": [[0.0, \"#0d0887\"], [0.1111111111111111, \"#46039f\"], [0.2222222222222222, \"#7201a8\"], [0.3333333333333333, \"#9c179e\"], [0.4444444444444444, \"#bd3786\"], [0.5555555555555556, \"#d8576b\"], [0.6666666666666666, \"#ed7953\"], [0.7777777777777778, \"#fb9f3a\"], [0.8888888888888888, \"#fdca26\"], [1.0, \"#f0f921\"]]}, \"height\": 800, \"legend\": {\"tracegroupgap\": 0}, \"template\": {\"data\": {\"bar\": [{\"error_x\": {\"color\": \"#2a3f5f\"}, \"error_y\": {\"color\": \"#2a3f5f\"}, \"marker\": {\"line\": {\"color\": \"#E5ECF6\", \"width\": 0.5}}, \"type\": \"bar\"}], \"barpolar\": [{\"marker\": {\"line\": {\"color\": \"#E5ECF6\", \"width\": 0.5}}, \"type\": \"barpolar\"}], \"carpet\": [{\"aaxis\": {\"endlinecolor\": \"#2a3f5f\", \"gridcolor\": \"white\", \"linecolor\": \"white\", \"minorgridcolor\": \"white\", \"startlinecolor\": \"#2a3f5f\"}, \"baxis\": {\"endlinecolor\": \"#2a3f5f\", \"gridcolor\": \"white\", \"linecolor\": \"white\", \"minorgridcolor\": \"white\", \"startlinecolor\": \"#2a3f5f\"}, \"type\": \"carpet\"}], \"choropleth\": [{\"colorbar\": {\"outlinewidth\": 0, \"ticks\": \"\"}, \"type\": \"choropleth\"}], \"contour\": [{\"colorbar\": {\"outlinewidth\": 0, \"ticks\": \"\"}, \"colorscale\": [[0.0, \"#0d0887\"], [0.1111111111111111, \"#46039f\"], [0.2222222222222222, \"#7201a8\"], [0.3333333333333333, \"#9c179e\"], [0.4444444444444444, \"#bd3786\"], [0.5555555555555556, \"#d8576b\"], [0.6666666666666666, \"#ed7953\"], [0.7777777777777778, \"#fb9f3a\"], [0.8888888888888888, \"#fdca26\"], [1.0, \"#f0f921\"]], \"type\": \"contour\"}], \"contourcarpet\": [{\"colorbar\": {\"outlinewidth\": 0, \"ticks\": \"\"}, \"type\": \"contourcarpet\"}], \"heatmap\": [{\"colorbar\": {\"outlinewidth\": 0, \"ticks\": \"\"}, \"colorscale\": [[0.0, \"#0d0887\"], [0.1111111111111111, \"#46039f\"], [0.2222222222222222, \"#7201a8\"], [0.3333333333333333, \"#9c179e\"], [0.4444444444444444, \"#bd3786\"], [0.5555555555555556, \"#d8576b\"], [0.6666666666666666, \"#ed7953\"], [0.7777777777777778, \"#fb9f3a\"], [0.8888888888888888, \"#fdca26\"], [1.0, \"#f0f921\"]], \"type\": \"heatmap\"}], \"heatmapgl\": [{\"colorbar\": {\"outlinewidth\": 0, \"ticks\": \"\"}, \"colorscale\": [[0.0, \"#0d0887\"], [0.1111111111111111, \"#46039f\"], [0.2222222222222222, \"#7201a8\"], [0.3333333333333333, \"#9c179e\"], [0.4444444444444444, \"#bd3786\"], [0.5555555555555556, \"#d8576b\"], [0.6666666666666666, \"#ed7953\"], [0.7777777777777778, \"#fb9f3a\"], [0.8888888888888888, \"#fdca26\"], [1.0, \"#f0f921\"]], \"type\": \"heatmapgl\"}], \"histogram\": [{\"marker\": {\"colorbar\": {\"outlinewidth\": 0, \"ticks\": \"\"}}, \"type\": \"histogram\"}], \"histogram2d\": [{\"colorbar\": {\"outlinewidth\": 0, \"ticks\": \"\"}, \"colorscale\": [[0.0, \"#0d0887\"], [0.1111111111111111, \"#46039f\"], [0.2222222222222222, \"#7201a8\"], [0.3333333333333333, \"#9c179e\"], [0.4444444444444444, \"#bd3786\"], [0.5555555555555556, \"#d8576b\"], [0.6666666666666666, \"#ed7953\"], [0.7777777777777778, \"#fb9f3a\"], [0.8888888888888888, \"#fdca26\"], [1.0, \"#f0f921\"]], \"type\": \"histogram2d\"}], \"histogram2dcontour\": [{\"colorbar\": {\"outlinewidth\": 0, \"ticks\": \"\"}, \"colorscale\": [[0.0, \"#0d0887\"], [0.1111111111111111, \"#46039f\"], [0.2222222222222222, \"#7201a8\"], [0.3333333333333333, \"#9c179e\"], [0.4444444444444444, \"#bd3786\"], [0.5555555555555556, \"#d8576b\"], [0.6666666666666666, \"#ed7953\"], [0.7777777777777778, \"#fb9f3a\"], [0.8888888888888888, \"#fdca26\"], [1.0, \"#f0f921\"]], \"type\": \"histogram2dcontour\"}], \"mesh3d\": [{\"colorbar\": {\"outlinewidth\": 0, \"ticks\": \"\"}, \"type\": \"mesh3d\"}], \"parcoords\": [{\"line\": {\"colorbar\": {\"outlinewidth\": 0, \"ticks\": \"\"}}, \"type\": \"parcoords\"}], \"pie\": [{\"automargin\": true, \"type\": \"pie\"}], \"scatter\": [{\"marker\": {\"colorbar\": {\"outlinewidth\": 0, \"ticks\": \"\"}}, \"type\": \"scatter\"}], \"scatter3d\": [{\"line\": {\"colorbar\": {\"outlinewidth\": 0, \"ticks\": \"\"}}, \"marker\": {\"colorbar\": {\"outlinewidth\": 0, \"ticks\": \"\"}}, \"type\": \"scatter3d\"}], \"scattercarpet\": [{\"marker\": {\"colorbar\": {\"outlinewidth\": 0, \"ticks\": \"\"}}, \"type\": \"scattercarpet\"}], \"scattergeo\": [{\"marker\": {\"colorbar\": {\"outlinewidth\": 0, \"ticks\": \"\"}}, \"type\": \"scattergeo\"}], \"scattergl\": [{\"marker\": {\"colorbar\": {\"outlinewidth\": 0, \"ticks\": \"\"}}, \"type\": \"scattergl\"}], \"scattermapbox\": [{\"marker\": {\"colorbar\": {\"outlinewidth\": 0, \"ticks\": \"\"}}, \"type\": \"scattermapbox\"}], \"scatterpolar\": [{\"marker\": {\"colorbar\": {\"outlinewidth\": 0, \"ticks\": \"\"}}, \"type\": \"scatterpolar\"}], \"scatterpolargl\": [{\"marker\": {\"colorbar\": {\"outlinewidth\": 0, \"ticks\": \"\"}}, \"type\": \"scatterpolargl\"}], \"scatterternary\": [{\"marker\": {\"colorbar\": {\"outlinewidth\": 0, \"ticks\": \"\"}}, \"type\": \"scatterternary\"}], \"surface\": [{\"colorbar\": {\"outlinewidth\": 0, \"ticks\": \"\"}, \"colorscale\": [[0.0, \"#0d0887\"], [0.1111111111111111, \"#46039f\"], [0.2222222222222222, \"#7201a8\"], [0.3333333333333333, \"#9c179e\"], [0.4444444444444444, \"#bd3786\"], [0.5555555555555556, \"#d8576b\"], [0.6666666666666666, \"#ed7953\"], [0.7777777777777778, \"#fb9f3a\"], [0.8888888888888888, \"#fdca26\"], [1.0, \"#f0f921\"]], \"type\": \"surface\"}], \"table\": [{\"cells\": {\"fill\": {\"color\": \"#EBF0F8\"}, \"line\": {\"color\": \"white\"}}, \"header\": {\"fill\": {\"color\": \"#C8D4E3\"}, \"line\": {\"color\": \"white\"}}, \"type\": \"table\"}]}, \"layout\": {\"annotationdefaults\": {\"arrowcolor\": \"#2a3f5f\", \"arrowhead\": 0, \"arrowwidth\": 1}, \"autotypenumbers\": \"strict\", \"coloraxis\": {\"colorbar\": {\"outlinewidth\": 0, \"ticks\": \"\"}}, \"colorscale\": {\"diverging\": [[0, \"#8e0152\"], [0.1, \"#c51b7d\"], [0.2, \"#de77ae\"], [0.3, \"#f1b6da\"], [0.4, \"#fde0ef\"], [0.5, \"#f7f7f7\"], [0.6, \"#e6f5d0\"], [0.7, \"#b8e186\"], [0.8, \"#7fbc41\"], [0.9, \"#4d9221\"], [1, \"#276419\"]], \"sequential\": [[0.0, \"#0d0887\"], [0.1111111111111111, \"#46039f\"], [0.2222222222222222, \"#7201a8\"], [0.3333333333333333, \"#9c179e\"], [0.4444444444444444, \"#bd3786\"], [0.5555555555555556, \"#d8576b\"], [0.6666666666666666, \"#ed7953\"], [0.7777777777777778, \"#fb9f3a\"], [0.8888888888888888, \"#fdca26\"], [1.0, \"#f0f921\"]], \"sequentialminus\": [[0.0, \"#0d0887\"], [0.1111111111111111, \"#46039f\"], [0.2222222222222222, \"#7201a8\"], [0.3333333333333333, \"#9c179e\"], [0.4444444444444444, \"#bd3786\"], [0.5555555555555556, \"#d8576b\"], [0.6666666666666666, \"#ed7953\"], [0.7777777777777778, \"#fb9f3a\"], [0.8888888888888888, \"#fdca26\"], [1.0, \"#f0f921\"]]}, \"colorway\": [\"#636efa\", \"#EF553B\", \"#00cc96\", \"#ab63fa\", \"#FFA15A\", \"#19d3f3\", \"#FF6692\", \"#B6E880\", \"#FF97FF\", \"#FECB52\"], \"font\": {\"color\": \"#2a3f5f\"}, \"geo\": {\"bgcolor\": \"white\", \"lakecolor\": \"white\", \"landcolor\": \"#E5ECF6\", \"showlakes\": true, \"showland\": true, \"subunitcolor\": \"white\"}, \"hoverlabel\": {\"align\": \"left\"}, \"hovermode\": \"closest\", \"mapbox\": {\"style\": \"light\"}, \"paper_bgcolor\": \"white\", \"plot_bgcolor\": \"#E5ECF6\", \"polar\": {\"angularaxis\": {\"gridcolor\": \"white\", \"linecolor\": \"white\", \"ticks\": \"\"}, \"bgcolor\": \"#E5ECF6\", \"radialaxis\": {\"gridcolor\": \"white\", \"linecolor\": \"white\", \"ticks\": \"\"}}, \"scene\": {\"xaxis\": {\"backgroundcolor\": \"#E5ECF6\", \"gridcolor\": \"white\", \"gridwidth\": 2, \"linecolor\": \"white\", \"showbackground\": true, \"ticks\": \"\", \"zerolinecolor\": \"white\"}, \"yaxis\": {\"backgroundcolor\": \"#E5ECF6\", \"gridcolor\": \"white\", \"gridwidth\": 2, \"linecolor\": \"white\", \"showbackground\": true, \"ticks\": \"\", \"zerolinecolor\": \"white\"}, \"zaxis\": {\"backgroundcolor\": \"#E5ECF6\", \"gridcolor\": \"white\", \"gridwidth\": 2, \"linecolor\": \"white\", \"showbackground\": true, \"ticks\": \"\", \"zerolinecolor\": \"white\"}}, \"shapedefaults\": {\"line\": {\"color\": \"#2a3f5f\"}}, \"ternary\": {\"aaxis\": {\"gridcolor\": \"white\", \"linecolor\": \"white\", \"ticks\": \"\"}, \"baxis\": {\"gridcolor\": \"white\", \"linecolor\": \"white\", \"ticks\": \"\"}, \"bgcolor\": \"#E5ECF6\", \"caxis\": {\"gridcolor\": \"white\", \"linecolor\": \"white\", \"ticks\": \"\"}}, \"title\": {\"x\": 0.05}, \"xaxis\": {\"automargin\": true, \"gridcolor\": \"white\", \"linecolor\": \"white\", \"ticks\": \"\", \"title\": {\"standoff\": 15}, \"zerolinecolor\": \"white\", \"zerolinewidth\": 2}, \"yaxis\": {\"automargin\": true, \"gridcolor\": \"white\", \"linecolor\": \"white\", \"ticks\": \"\", \"title\": {\"standoff\": 15}, \"zerolinecolor\": \"white\", \"zerolinewidth\": 2}}}, \"title\": {\"text\": \"Performance Index for each School in 2016-2017\"}, \"width\": 900, \"xaxis\": {\"anchor\": \"y\", \"domain\": [0.0, 1.0], \"title\": {\"text\": \"Building_Name\"}}, \"yaxis\": {\"anchor\": \"x\", \"domain\": [0.0, 1.0], \"title\": {\"text\": \"Performance Index Percent\"}}},                        {\"responsive\": true}                    ).then(function(){\n",
       "                            \n",
       "var gd = document.getElementById('cc2a34c4-d18b-4430-b253-010e0ac2c6f0');\n",
       "var x = new MutationObserver(function (mutations, observer) {{\n",
       "        var display = window.getComputedStyle(gd).display;\n",
       "        if (!display || display === 'none') {{\n",
       "            console.log([gd, 'removed!']);\n",
       "            Plotly.purge(gd);\n",
       "            observer.disconnect();\n",
       "        }}\n",
       "}});\n",
       "\n",
       "// Listen for the removal of the full notebook cells\n",
       "var notebookContainer = gd.closest('#notebook-container');\n",
       "if (notebookContainer) {{\n",
       "    x.observe(notebookContainer, {childList: true});\n",
       "}}\n",
       "\n",
       "// Listen for the clearing of the current output cell\n",
       "var outputEl = gd.closest('.output');\n",
       "if (outputEl) {{\n",
       "    x.observe(outputEl, {childList: true});\n",
       "}}\n",
       "\n",
       "                        })                };                });            </script>        </div>"
      ]
     },
     "metadata": {},
     "output_type": "display_data"
    }
   ],
   "source": [
    "# Filter data for the year 2015-2016\n",
    "df_2016_2017 = df_CMSD[df_CMSD['School_Year'] == '2016-2017']\n",
    "\n",
    "# Plot with Plotly Express\n",
    "fig = px.bar(\n",
    "    df_2016_2017,\n",
    "    x ='Building_Name', \n",
    "    y ='Performance_Index_Percent',\n",
    "    color='Performance_Index_Percent',\n",
    "    title='Performance Index for each School in 2016-2017',\n",
    "    labels={'Performance_Index_Percent': 'Performance Index Percent', 'School_Name': 'School Name'},\n",
    "    height=800,  # Set the height of the figure\n",
    "    width=900,\n",
    ")\n",
    "\n",
    "# Show the plot\n",
    "fig.show()"
   ]
  },
  {
   "cell_type": "code",
   "execution_count": 146,
   "metadata": {},
   "outputs": [
    {
     "data": {
      "application/vnd.plotly.v1+json": {
       "config": {
        "plotlyServerURL": "https://plot.ly"
       },
       "data": [
        {
         "alignmentgroup": "True",
         "hovertemplate": "Building_Name=%{x}<br>Performance Index Percent=%{marker.color}<extra></extra>",
         "legendgroup": "",
         "marker": {
          "color": [
           40.1,
           90.7,
           41.6,
           41.6,
           35.6,
           63.9,
           37.2,
           54.4,
           58.2,
           31.9,
           58.5,
           41.1,
           33.6,
           52.4,
           38.7,
           41.7,
           59.6,
           73.7,
           49.4,
           51.2,
           60.8,
           52,
           47.3,
           41.2,
           75.2,
           41.4,
           39.9,
           44.6,
           41.8,
           52.2,
           71.1,
           48.5,
           50.6,
           61.8,
           72.8,
           49.8,
           72,
           48.3,
           44.7,
           51.4,
           42.4,
           62.7,
           61.6,
           61.3,
           42.1,
           32.5,
           43.7,
           40.5,
           62.9,
           54,
           37.8,
           66.4,
           36.9,
           45,
           37.7,
           67.5,
           37,
           45.3,
           45.6,
           50.2,
           59.3,
           40.8,
           43.9,
           49.1,
           55.3,
           43.5,
           36.3,
           53.1,
           57.2,
           38.8,
           45.6,
           38.5,
           31.7,
           80.2,
           74.9,
           63.7,
           39.7,
           70.1,
           33.9,
           49.8,
           38.1,
           43.8,
           37.5,
           41.1,
           37.6,
           41.9,
           41.4,
           58.3,
           42.1,
           51,
           33.5,
           64.8,
           67.1,
           36,
           53.2,
           54.2,
           42,
           27.6,
           53.6,
           60.1,
           54.1,
           46,
           42.9,
           53.7,
           35.3,
           46.3,
           52.7,
           47.3,
           39.6,
           36.9,
           74.3,
           40.4,
           47.7,
           44.8,
           62.6,
           45.2,
           44.9,
           48.9,
           38.2,
           65.7,
           64.5,
           50.1,
           80
          ],
          "coloraxis": "coloraxis"
         },
         "name": "",
         "offsetgroup": "",
         "orientation": "v",
         "showlegend": false,
         "textposition": "auto",
         "type": "bar",
         "x": [
          "Adlai Stevenson School",
          "Menlo Park Academy",
          "Almira",
          "Andrew J Rickoff",
          "Anton Grdina",
          "Cleveland Entrepreneurship Preparatory School",
          "Promise Academy",
          "Artemus Ward",
          "Benjamin Franklin",
          "Bolton",
          "Buhrer",
          "Case",
          "Alfred Benesch",
          "Charles A Mooney School",
          "Charles Dickens School",
          "Charles W Eliot  School",
          "Clara E Westropp School",
          "Clark School",
          "Collinwood High School",
          "Daniel E Morgan School",
          "Denison",
          "Cleveland School of Arts Lower Campus",
          "Memorial School",
          "East Clark",
          "Douglas MacArthur",
          "Ginn Academy",
          "East Technical High School",
          "MC^2 STEM High School",
          "Design Lab @ Health Careers",
          "Euclid Park Elementary School",
          "Village Preparatory School",
          "Northeast Ohio College Preparatory School",
          "Cleveland College Preparatory School",
          "Citizens Leadership Academy",
          "Near West Intergenerational School",
          "Entrepreneurship Preparatory School - Woodland Hills Campus",
          "Campus International School",
          "New Technology West",
          "New Technology HS@East Tech",
          "Facing History High School@Charles Mooney",
          "Fullerton School",
          "Citizens Academy East",
          "Garfield Elementary School",
          "Village Preparatory School:: Woodland Hills Campus",
          "Stepstone Academy",
          "George Washington Carver",
          "Glenville High School",
          "H Barbara Booker Elementary School",
          "Lakeshore Intergenerational School",
          "Cleveland High School for the Digital Arts",
          "PACT @ JFK",
          "Bard Early College Cleveland",
          "E3agle Academy",
          "Hannah Gibbons-Nottingham Elementary School",
          "Stonebrook Montessori",
          "Citizens Academy Southeast",
          "Harvey Rice Elementary School",
          "John Marshall School of Engineering",
          "John Marshall School of Business and Civic Leadership",
          "John Marshall School of Information Technology",
          "Village Preparatory School Willard",
          "Lincoln West School Of Global Studies",
          "Lincoln West School of Science & Health",
          "Rhodes Schools of Environmental Studies",
          "Rhodes College and Career Academy",
          "Bard High Early College Cleveland East Campus",
          "John Adams College & Career Academy",
          "Campus International High School",
          "Davis Aerospace & Maritime High School",
          "Iowa-Maple Elementary School",
          "James Ford Rhodes High School",
          "Jane Addams Business Careers High School",
          "John Adams High School",
          "Cleveland Early College High",
          "Cleveland School of Architecture & Design",
          "Louis Agassiz School",
          "Franklin D. Roosevelt",
          "Louisa May Alcott Elementary School",
          "Mary B Martin School",
          "Mary M Bethune",
          "Max S Hayes High School",
          "Miles School",
          "Miles Park School",
          "Michael R. White",
          "Mound Elementary School",
          "The School of One",
          "Nathan Hale School",
          "Newton D Baker School",
          "Oliver H Perry Elementary School",
          "Orchard School",
          "Patrick Henry School",
          "Paul L Dunbar Elementary School",
          "Riverside School",
          "Robert H Jamison School",
          "Robinson G Jones Elementary School",
          "Scranton School",
          "Sunbeam",
          "Thomas Jefferson School",
          "Tremont Montessori School",
          "Valley View Elementary School",
          "William C Bryant Elementary School",
          "Wade Park",
          "Walton School",
          "Warner Girls Leadership Academy",
          "Washington Park",
          "Waverly Elementary School",
          "Wilbur Wright School",
          "Willow School",
          "Willson School",
          "Lincoln-West High School",
          "Whitney Young School",
          "Luis Munoz Marin School",
          "Joseph M Gallagher School",
          "Garrett Morgan Schl Of Science School",
          "Cleveland School Of The Arts High School",
          "Marion C Seltzer Elementary School",
          "Marion-Sterling Elementary School",
          "Kenneth W Clement",
          "Martin Luther King Jr. Campus",
          "Intergenerational School, The",
          "Citizens Academy",
          "Horizon Science Acad Cleveland",
          "Cleveland School of Science & Medicine"
         ],
         "xaxis": "x",
         "y": [
          40.1,
          90.7,
          41.6,
          41.6,
          35.6,
          63.9,
          37.2,
          54.4,
          58.2,
          31.9,
          58.5,
          41.1,
          33.6,
          52.4,
          38.7,
          41.7,
          59.6,
          73.7,
          49.4,
          51.2,
          60.8,
          52,
          47.3,
          41.2,
          75.2,
          41.4,
          39.9,
          44.6,
          41.8,
          52.2,
          71.1,
          48.5,
          50.6,
          61.8,
          72.8,
          49.8,
          72,
          48.3,
          44.7,
          51.4,
          42.4,
          62.7,
          61.6,
          61.3,
          42.1,
          32.5,
          43.7,
          40.5,
          62.9,
          54,
          37.8,
          66.4,
          36.9,
          45,
          37.7,
          67.5,
          37,
          45.3,
          45.6,
          50.2,
          59.3,
          40.8,
          43.9,
          49.1,
          55.3,
          43.5,
          36.3,
          53.1,
          57.2,
          38.8,
          45.6,
          38.5,
          31.7,
          80.2,
          74.9,
          63.7,
          39.7,
          70.1,
          33.9,
          49.8,
          38.1,
          43.8,
          37.5,
          41.1,
          37.6,
          41.9,
          41.4,
          58.3,
          42.1,
          51,
          33.5,
          64.8,
          67.1,
          36,
          53.2,
          54.2,
          42,
          27.6,
          53.6,
          60.1,
          54.1,
          46,
          42.9,
          53.7,
          35.3,
          46.3,
          52.7,
          47.3,
          39.6,
          36.9,
          74.3,
          40.4,
          47.7,
          44.8,
          62.6,
          45.2,
          44.9,
          48.9,
          38.2,
          65.7,
          64.5,
          50.1,
          80
         ],
         "yaxis": "y"
        }
       ],
       "layout": {
        "barmode": "relative",
        "coloraxis": {
         "colorbar": {
          "title": {
           "text": "Performance Index Percent"
          }
         },
         "colorscale": [
          [
           0,
           "#0d0887"
          ],
          [
           0.1111111111111111,
           "#46039f"
          ],
          [
           0.2222222222222222,
           "#7201a8"
          ],
          [
           0.3333333333333333,
           "#9c179e"
          ],
          [
           0.4444444444444444,
           "#bd3786"
          ],
          [
           0.5555555555555556,
           "#d8576b"
          ],
          [
           0.6666666666666666,
           "#ed7953"
          ],
          [
           0.7777777777777778,
           "#fb9f3a"
          ],
          [
           0.8888888888888888,
           "#fdca26"
          ],
          [
           1,
           "#f0f921"
          ]
         ]
        },
        "height": 800,
        "legend": {
         "tracegroupgap": 0
        },
        "template": {
         "data": {
          "bar": [
           {
            "error_x": {
             "color": "#2a3f5f"
            },
            "error_y": {
             "color": "#2a3f5f"
            },
            "marker": {
             "line": {
              "color": "#E5ECF6",
              "width": 0.5
             }
            },
            "type": "bar"
           }
          ],
          "barpolar": [
           {
            "marker": {
             "line": {
              "color": "#E5ECF6",
              "width": 0.5
             }
            },
            "type": "barpolar"
           }
          ],
          "carpet": [
           {
            "aaxis": {
             "endlinecolor": "#2a3f5f",
             "gridcolor": "white",
             "linecolor": "white",
             "minorgridcolor": "white",
             "startlinecolor": "#2a3f5f"
            },
            "baxis": {
             "endlinecolor": "#2a3f5f",
             "gridcolor": "white",
             "linecolor": "white",
             "minorgridcolor": "white",
             "startlinecolor": "#2a3f5f"
            },
            "type": "carpet"
           }
          ],
          "choropleth": [
           {
            "colorbar": {
             "outlinewidth": 0,
             "ticks": ""
            },
            "type": "choropleth"
           }
          ],
          "contour": [
           {
            "colorbar": {
             "outlinewidth": 0,
             "ticks": ""
            },
            "colorscale": [
             [
              0,
              "#0d0887"
             ],
             [
              0.1111111111111111,
              "#46039f"
             ],
             [
              0.2222222222222222,
              "#7201a8"
             ],
             [
              0.3333333333333333,
              "#9c179e"
             ],
             [
              0.4444444444444444,
              "#bd3786"
             ],
             [
              0.5555555555555556,
              "#d8576b"
             ],
             [
              0.6666666666666666,
              "#ed7953"
             ],
             [
              0.7777777777777778,
              "#fb9f3a"
             ],
             [
              0.8888888888888888,
              "#fdca26"
             ],
             [
              1,
              "#f0f921"
             ]
            ],
            "type": "contour"
           }
          ],
          "contourcarpet": [
           {
            "colorbar": {
             "outlinewidth": 0,
             "ticks": ""
            },
            "type": "contourcarpet"
           }
          ],
          "heatmap": [
           {
            "colorbar": {
             "outlinewidth": 0,
             "ticks": ""
            },
            "colorscale": [
             [
              0,
              "#0d0887"
             ],
             [
              0.1111111111111111,
              "#46039f"
             ],
             [
              0.2222222222222222,
              "#7201a8"
             ],
             [
              0.3333333333333333,
              "#9c179e"
             ],
             [
              0.4444444444444444,
              "#bd3786"
             ],
             [
              0.5555555555555556,
              "#d8576b"
             ],
             [
              0.6666666666666666,
              "#ed7953"
             ],
             [
              0.7777777777777778,
              "#fb9f3a"
             ],
             [
              0.8888888888888888,
              "#fdca26"
             ],
             [
              1,
              "#f0f921"
             ]
            ],
            "type": "heatmap"
           }
          ],
          "heatmapgl": [
           {
            "colorbar": {
             "outlinewidth": 0,
             "ticks": ""
            },
            "colorscale": [
             [
              0,
              "#0d0887"
             ],
             [
              0.1111111111111111,
              "#46039f"
             ],
             [
              0.2222222222222222,
              "#7201a8"
             ],
             [
              0.3333333333333333,
              "#9c179e"
             ],
             [
              0.4444444444444444,
              "#bd3786"
             ],
             [
              0.5555555555555556,
              "#d8576b"
             ],
             [
              0.6666666666666666,
              "#ed7953"
             ],
             [
              0.7777777777777778,
              "#fb9f3a"
             ],
             [
              0.8888888888888888,
              "#fdca26"
             ],
             [
              1,
              "#f0f921"
             ]
            ],
            "type": "heatmapgl"
           }
          ],
          "histogram": [
           {
            "marker": {
             "colorbar": {
              "outlinewidth": 0,
              "ticks": ""
             }
            },
            "type": "histogram"
           }
          ],
          "histogram2d": [
           {
            "colorbar": {
             "outlinewidth": 0,
             "ticks": ""
            },
            "colorscale": [
             [
              0,
              "#0d0887"
             ],
             [
              0.1111111111111111,
              "#46039f"
             ],
             [
              0.2222222222222222,
              "#7201a8"
             ],
             [
              0.3333333333333333,
              "#9c179e"
             ],
             [
              0.4444444444444444,
              "#bd3786"
             ],
             [
              0.5555555555555556,
              "#d8576b"
             ],
             [
              0.6666666666666666,
              "#ed7953"
             ],
             [
              0.7777777777777778,
              "#fb9f3a"
             ],
             [
              0.8888888888888888,
              "#fdca26"
             ],
             [
              1,
              "#f0f921"
             ]
            ],
            "type": "histogram2d"
           }
          ],
          "histogram2dcontour": [
           {
            "colorbar": {
             "outlinewidth": 0,
             "ticks": ""
            },
            "colorscale": [
             [
              0,
              "#0d0887"
             ],
             [
              0.1111111111111111,
              "#46039f"
             ],
             [
              0.2222222222222222,
              "#7201a8"
             ],
             [
              0.3333333333333333,
              "#9c179e"
             ],
             [
              0.4444444444444444,
              "#bd3786"
             ],
             [
              0.5555555555555556,
              "#d8576b"
             ],
             [
              0.6666666666666666,
              "#ed7953"
             ],
             [
              0.7777777777777778,
              "#fb9f3a"
             ],
             [
              0.8888888888888888,
              "#fdca26"
             ],
             [
              1,
              "#f0f921"
             ]
            ],
            "type": "histogram2dcontour"
           }
          ],
          "mesh3d": [
           {
            "colorbar": {
             "outlinewidth": 0,
             "ticks": ""
            },
            "type": "mesh3d"
           }
          ],
          "parcoords": [
           {
            "line": {
             "colorbar": {
              "outlinewidth": 0,
              "ticks": ""
             }
            },
            "type": "parcoords"
           }
          ],
          "pie": [
           {
            "automargin": true,
            "type": "pie"
           }
          ],
          "scatter": [
           {
            "marker": {
             "colorbar": {
              "outlinewidth": 0,
              "ticks": ""
             }
            },
            "type": "scatter"
           }
          ],
          "scatter3d": [
           {
            "line": {
             "colorbar": {
              "outlinewidth": 0,
              "ticks": ""
             }
            },
            "marker": {
             "colorbar": {
              "outlinewidth": 0,
              "ticks": ""
             }
            },
            "type": "scatter3d"
           }
          ],
          "scattercarpet": [
           {
            "marker": {
             "colorbar": {
              "outlinewidth": 0,
              "ticks": ""
             }
            },
            "type": "scattercarpet"
           }
          ],
          "scattergeo": [
           {
            "marker": {
             "colorbar": {
              "outlinewidth": 0,
              "ticks": ""
             }
            },
            "type": "scattergeo"
           }
          ],
          "scattergl": [
           {
            "marker": {
             "colorbar": {
              "outlinewidth": 0,
              "ticks": ""
             }
            },
            "type": "scattergl"
           }
          ],
          "scattermapbox": [
           {
            "marker": {
             "colorbar": {
              "outlinewidth": 0,
              "ticks": ""
             }
            },
            "type": "scattermapbox"
           }
          ],
          "scatterpolar": [
           {
            "marker": {
             "colorbar": {
              "outlinewidth": 0,
              "ticks": ""
             }
            },
            "type": "scatterpolar"
           }
          ],
          "scatterpolargl": [
           {
            "marker": {
             "colorbar": {
              "outlinewidth": 0,
              "ticks": ""
             }
            },
            "type": "scatterpolargl"
           }
          ],
          "scatterternary": [
           {
            "marker": {
             "colorbar": {
              "outlinewidth": 0,
              "ticks": ""
             }
            },
            "type": "scatterternary"
           }
          ],
          "surface": [
           {
            "colorbar": {
             "outlinewidth": 0,
             "ticks": ""
            },
            "colorscale": [
             [
              0,
              "#0d0887"
             ],
             [
              0.1111111111111111,
              "#46039f"
             ],
             [
              0.2222222222222222,
              "#7201a8"
             ],
             [
              0.3333333333333333,
              "#9c179e"
             ],
             [
              0.4444444444444444,
              "#bd3786"
             ],
             [
              0.5555555555555556,
              "#d8576b"
             ],
             [
              0.6666666666666666,
              "#ed7953"
             ],
             [
              0.7777777777777778,
              "#fb9f3a"
             ],
             [
              0.8888888888888888,
              "#fdca26"
             ],
             [
              1,
              "#f0f921"
             ]
            ],
            "type": "surface"
           }
          ],
          "table": [
           {
            "cells": {
             "fill": {
              "color": "#EBF0F8"
             },
             "line": {
              "color": "white"
             }
            },
            "header": {
             "fill": {
              "color": "#C8D4E3"
             },
             "line": {
              "color": "white"
             }
            },
            "type": "table"
           }
          ]
         },
         "layout": {
          "annotationdefaults": {
           "arrowcolor": "#2a3f5f",
           "arrowhead": 0,
           "arrowwidth": 1
          },
          "autotypenumbers": "strict",
          "coloraxis": {
           "colorbar": {
            "outlinewidth": 0,
            "ticks": ""
           }
          },
          "colorscale": {
           "diverging": [
            [
             0,
             "#8e0152"
            ],
            [
             0.1,
             "#c51b7d"
            ],
            [
             0.2,
             "#de77ae"
            ],
            [
             0.3,
             "#f1b6da"
            ],
            [
             0.4,
             "#fde0ef"
            ],
            [
             0.5,
             "#f7f7f7"
            ],
            [
             0.6,
             "#e6f5d0"
            ],
            [
             0.7,
             "#b8e186"
            ],
            [
             0.8,
             "#7fbc41"
            ],
            [
             0.9,
             "#4d9221"
            ],
            [
             1,
             "#276419"
            ]
           ],
           "sequential": [
            [
             0,
             "#0d0887"
            ],
            [
             0.1111111111111111,
             "#46039f"
            ],
            [
             0.2222222222222222,
             "#7201a8"
            ],
            [
             0.3333333333333333,
             "#9c179e"
            ],
            [
             0.4444444444444444,
             "#bd3786"
            ],
            [
             0.5555555555555556,
             "#d8576b"
            ],
            [
             0.6666666666666666,
             "#ed7953"
            ],
            [
             0.7777777777777778,
             "#fb9f3a"
            ],
            [
             0.8888888888888888,
             "#fdca26"
            ],
            [
             1,
             "#f0f921"
            ]
           ],
           "sequentialminus": [
            [
             0,
             "#0d0887"
            ],
            [
             0.1111111111111111,
             "#46039f"
            ],
            [
             0.2222222222222222,
             "#7201a8"
            ],
            [
             0.3333333333333333,
             "#9c179e"
            ],
            [
             0.4444444444444444,
             "#bd3786"
            ],
            [
             0.5555555555555556,
             "#d8576b"
            ],
            [
             0.6666666666666666,
             "#ed7953"
            ],
            [
             0.7777777777777778,
             "#fb9f3a"
            ],
            [
             0.8888888888888888,
             "#fdca26"
            ],
            [
             1,
             "#f0f921"
            ]
           ]
          },
          "colorway": [
           "#636efa",
           "#EF553B",
           "#00cc96",
           "#ab63fa",
           "#FFA15A",
           "#19d3f3",
           "#FF6692",
           "#B6E880",
           "#FF97FF",
           "#FECB52"
          ],
          "font": {
           "color": "#2a3f5f"
          },
          "geo": {
           "bgcolor": "white",
           "lakecolor": "white",
           "landcolor": "#E5ECF6",
           "showlakes": true,
           "showland": true,
           "subunitcolor": "white"
          },
          "hoverlabel": {
           "align": "left"
          },
          "hovermode": "closest",
          "mapbox": {
           "style": "light"
          },
          "paper_bgcolor": "white",
          "plot_bgcolor": "#E5ECF6",
          "polar": {
           "angularaxis": {
            "gridcolor": "white",
            "linecolor": "white",
            "ticks": ""
           },
           "bgcolor": "#E5ECF6",
           "radialaxis": {
            "gridcolor": "white",
            "linecolor": "white",
            "ticks": ""
           }
          },
          "scene": {
           "xaxis": {
            "backgroundcolor": "#E5ECF6",
            "gridcolor": "white",
            "gridwidth": 2,
            "linecolor": "white",
            "showbackground": true,
            "ticks": "",
            "zerolinecolor": "white"
           },
           "yaxis": {
            "backgroundcolor": "#E5ECF6",
            "gridcolor": "white",
            "gridwidth": 2,
            "linecolor": "white",
            "showbackground": true,
            "ticks": "",
            "zerolinecolor": "white"
           },
           "zaxis": {
            "backgroundcolor": "#E5ECF6",
            "gridcolor": "white",
            "gridwidth": 2,
            "linecolor": "white",
            "showbackground": true,
            "ticks": "",
            "zerolinecolor": "white"
           }
          },
          "shapedefaults": {
           "line": {
            "color": "#2a3f5f"
           }
          },
          "ternary": {
           "aaxis": {
            "gridcolor": "white",
            "linecolor": "white",
            "ticks": ""
           },
           "baxis": {
            "gridcolor": "white",
            "linecolor": "white",
            "ticks": ""
           },
           "bgcolor": "#E5ECF6",
           "caxis": {
            "gridcolor": "white",
            "linecolor": "white",
            "ticks": ""
           }
          },
          "title": {
           "x": 0.05
          },
          "xaxis": {
           "automargin": true,
           "gridcolor": "white",
           "linecolor": "white",
           "ticks": "",
           "title": {
            "standoff": 15
           },
           "zerolinecolor": "white",
           "zerolinewidth": 2
          },
          "yaxis": {
           "automargin": true,
           "gridcolor": "white",
           "linecolor": "white",
           "ticks": "",
           "title": {
            "standoff": 15
           },
           "zerolinecolor": "white",
           "zerolinewidth": 2
          }
         }
        },
        "title": {
         "text": "Performance Index for each School in 2017-2018"
        },
        "width": 900,
        "xaxis": {
         "anchor": "y",
         "domain": [
          0,
          1
         ],
         "title": {
          "text": "Building_Name"
         }
        },
        "yaxis": {
         "anchor": "x",
         "domain": [
          0,
          1
         ],
         "title": {
          "text": "Performance Index Percent"
         }
        }
       }
      },
      "text/html": [
       "<div>                            <div id=\"3a7291f9-c408-44b4-90e8-8eb3b11d9919\" class=\"plotly-graph-div\" style=\"height:800px; width:900px;\"></div>            <script type=\"text/javascript\">                require([\"plotly\"], function(Plotly) {                    window.PLOTLYENV=window.PLOTLYENV || {};                                    if (document.getElementById(\"3a7291f9-c408-44b4-90e8-8eb3b11d9919\")) {                    Plotly.newPlot(                        \"3a7291f9-c408-44b4-90e8-8eb3b11d9919\",                        [{\"alignmentgroup\": \"True\", \"hovertemplate\": \"Building_Name=%{x}<br>Performance Index Percent=%{marker.color}<extra></extra>\", \"legendgroup\": \"\", \"marker\": {\"color\": [40.1, 90.7, 41.6, 41.6, 35.6, 63.9, 37.2, 54.4, 58.2, 31.9, 58.5, 41.1, 33.6, 52.4, 38.7, 41.7, 59.6, 73.7, 49.4, 51.2, 60.8, 52.0, 47.3, 41.2, 75.2, 41.4, 39.9, 44.6, 41.8, 52.2, 71.1, 48.5, 50.6, 61.8, 72.8, 49.8, 72.0, 48.3, 44.7, 51.4, 42.4, 62.7, 61.6, 61.3, 42.1, 32.5, 43.7, 40.5, 62.9, 54.0, 37.8, 66.4, 36.9, 45.0, 37.7, 67.5, 37.0, 45.3, 45.6, 50.2, 59.3, 40.8, 43.9, 49.1, 55.3, 43.5, 36.3, 53.1, 57.2, 38.8, 45.6, 38.5, 31.7, 80.2, 74.9, 63.7, 39.7, 70.1, 33.9, 49.8, 38.1, 43.8, 37.5, 41.1, 37.6, 41.9, 41.4, 58.3, 42.1, 51.0, 33.5, 64.8, 67.1, 36.0, 53.2, 54.2, 42.0, 27.6, 53.6, 60.1, 54.1, 46.0, 42.9, 53.7, 35.3, 46.3, 52.7, 47.3, 39.6, 36.9, 74.3, 40.4, 47.7, 44.8, 62.6, 45.2, 44.9, 48.9, 38.2, 65.7, 64.5, 50.1, 80.0], \"coloraxis\": \"coloraxis\"}, \"name\": \"\", \"offsetgroup\": \"\", \"orientation\": \"v\", \"showlegend\": false, \"textposition\": \"auto\", \"type\": \"bar\", \"x\": [\"Adlai Stevenson School\", \"Menlo Park Academy\", \"Almira\", \"Andrew J Rickoff\", \"Anton Grdina\", \"Cleveland Entrepreneurship Preparatory School\", \"Promise Academy\", \"Artemus Ward\", \"Benjamin Franklin\", \"Bolton\", \"Buhrer\", \"Case\", \"Alfred Benesch\", \"Charles A Mooney School\", \"Charles Dickens School\", \"Charles W Eliot  School\", \"Clara E Westropp School\", \"Clark School\", \"Collinwood High School\", \"Daniel E Morgan School\", \"Denison\", \"Cleveland School of Arts Lower Campus\", \"Memorial School\", \"East Clark\", \"Douglas MacArthur\", \"Ginn Academy\", \"East Technical High School\", \"MC^2 STEM High School\", \"Design Lab @ Health Careers\", \"Euclid Park Elementary School\", \"Village Preparatory School\", \"Northeast Ohio College Preparatory School\", \"Cleveland College Preparatory School\", \"Citizens Leadership Academy\", \"Near West Intergenerational School\", \"Entrepreneurship Preparatory School - Woodland Hills Campus\", \"Campus International School\", \"New Technology West\", \"New Technology HS@East Tech\", \"Facing History High School@Charles Mooney\", \"Fullerton School\", \"Citizens Academy East\", \"Garfield Elementary School\", \"Village Preparatory School:: Woodland Hills Campus\", \"Stepstone Academy\", \"George Washington Carver\", \"Glenville High School\", \"H Barbara Booker Elementary School\", \"Lakeshore Intergenerational School\", \"Cleveland High School for the Digital Arts\", \"PACT @ JFK\", \"Bard Early College Cleveland\", \"E3agle Academy\", \"Hannah Gibbons-Nottingham Elementary School\", \"Stonebrook Montessori\", \"Citizens Academy Southeast\", \"Harvey Rice Elementary School\", \"John Marshall School of Engineering\", \"John Marshall School of Business and Civic Leadership\", \"John Marshall School of Information Technology\", \"Village Preparatory School Willard\", \"Lincoln West School Of Global Studies\", \"Lincoln West School of Science & Health\", \"Rhodes Schools of Environmental Studies\", \"Rhodes College and Career Academy\", \"Bard High Early College Cleveland East Campus\", \"John Adams College & Career Academy\", \"Campus International High School\", \"Davis Aerospace & Maritime High School\", \"Iowa-Maple Elementary School\", \"James Ford Rhodes High School\", \"Jane Addams Business Careers High School\", \"John Adams High School\", \"Cleveland Early College High\", \"Cleveland School of Architecture & Design\", \"Louis Agassiz School\", \"Franklin D. Roosevelt\", \"Louisa May Alcott Elementary School\", \"Mary B Martin School\", \"Mary M Bethune\", \"Max S Hayes High School\", \"Miles School\", \"Miles Park School\", \"Michael R. White\", \"Mound Elementary School\", \"The School of One\", \"Nathan Hale School\", \"Newton D Baker School\", \"Oliver H Perry Elementary School\", \"Orchard School\", \"Patrick Henry School\", \"Paul L Dunbar Elementary School\", \"Riverside School\", \"Robert H Jamison School\", \"Robinson G Jones Elementary School\", \"Scranton School\", \"Sunbeam\", \"Thomas Jefferson School\", \"Tremont Montessori School\", \"Valley View Elementary School\", \"William C Bryant Elementary School\", \"Wade Park\", \"Walton School\", \"Warner Girls Leadership Academy\", \"Washington Park\", \"Waverly Elementary School\", \"Wilbur Wright School\", \"Willow School\", \"Willson School\", \"Lincoln-West High School\", \"Whitney Young School\", \"Luis Munoz Marin School\", \"Joseph M Gallagher School\", \"Garrett Morgan Schl Of Science School\", \"Cleveland School Of The Arts High School\", \"Marion C Seltzer Elementary School\", \"Marion-Sterling Elementary School\", \"Kenneth W Clement\", \"Martin Luther King Jr. Campus\", \"Intergenerational School, The\", \"Citizens Academy\", \"Horizon Science Acad Cleveland\", \"Cleveland School of Science & Medicine\"], \"xaxis\": \"x\", \"y\": [40.1, 90.7, 41.6, 41.6, 35.6, 63.9, 37.2, 54.4, 58.2, 31.9, 58.5, 41.1, 33.6, 52.4, 38.7, 41.7, 59.6, 73.7, 49.4, 51.2, 60.8, 52.0, 47.3, 41.2, 75.2, 41.4, 39.9, 44.6, 41.8, 52.2, 71.1, 48.5, 50.6, 61.8, 72.8, 49.8, 72.0, 48.3, 44.7, 51.4, 42.4, 62.7, 61.6, 61.3, 42.1, 32.5, 43.7, 40.5, 62.9, 54.0, 37.8, 66.4, 36.9, 45.0, 37.7, 67.5, 37.0, 45.3, 45.6, 50.2, 59.3, 40.8, 43.9, 49.1, 55.3, 43.5, 36.3, 53.1, 57.2, 38.8, 45.6, 38.5, 31.7, 80.2, 74.9, 63.7, 39.7, 70.1, 33.9, 49.8, 38.1, 43.8, 37.5, 41.1, 37.6, 41.9, 41.4, 58.3, 42.1, 51.0, 33.5, 64.8, 67.1, 36.0, 53.2, 54.2, 42.0, 27.6, 53.6, 60.1, 54.1, 46.0, 42.9, 53.7, 35.3, 46.3, 52.7, 47.3, 39.6, 36.9, 74.3, 40.4, 47.7, 44.8, 62.6, 45.2, 44.9, 48.9, 38.2, 65.7, 64.5, 50.1, 80.0], \"yaxis\": \"y\"}],                        {\"barmode\": \"relative\", \"coloraxis\": {\"colorbar\": {\"title\": {\"text\": \"Performance Index Percent\"}}, \"colorscale\": [[0.0, \"#0d0887\"], [0.1111111111111111, \"#46039f\"], [0.2222222222222222, \"#7201a8\"], [0.3333333333333333, \"#9c179e\"], [0.4444444444444444, \"#bd3786\"], [0.5555555555555556, \"#d8576b\"], [0.6666666666666666, \"#ed7953\"], [0.7777777777777778, \"#fb9f3a\"], [0.8888888888888888, \"#fdca26\"], [1.0, \"#f0f921\"]]}, \"height\": 800, \"legend\": {\"tracegroupgap\": 0}, \"template\": {\"data\": {\"bar\": [{\"error_x\": {\"color\": \"#2a3f5f\"}, \"error_y\": {\"color\": \"#2a3f5f\"}, \"marker\": {\"line\": {\"color\": \"#E5ECF6\", \"width\": 0.5}}, \"type\": \"bar\"}], \"barpolar\": [{\"marker\": {\"line\": {\"color\": \"#E5ECF6\", \"width\": 0.5}}, \"type\": \"barpolar\"}], \"carpet\": [{\"aaxis\": {\"endlinecolor\": \"#2a3f5f\", \"gridcolor\": \"white\", \"linecolor\": \"white\", \"minorgridcolor\": \"white\", \"startlinecolor\": \"#2a3f5f\"}, \"baxis\": {\"endlinecolor\": \"#2a3f5f\", \"gridcolor\": \"white\", \"linecolor\": \"white\", \"minorgridcolor\": \"white\", \"startlinecolor\": \"#2a3f5f\"}, \"type\": \"carpet\"}], \"choropleth\": [{\"colorbar\": {\"outlinewidth\": 0, \"ticks\": \"\"}, \"type\": \"choropleth\"}], \"contour\": [{\"colorbar\": {\"outlinewidth\": 0, \"ticks\": \"\"}, \"colorscale\": [[0.0, \"#0d0887\"], [0.1111111111111111, \"#46039f\"], [0.2222222222222222, \"#7201a8\"], [0.3333333333333333, \"#9c179e\"], [0.4444444444444444, \"#bd3786\"], [0.5555555555555556, \"#d8576b\"], [0.6666666666666666, \"#ed7953\"], [0.7777777777777778, \"#fb9f3a\"], [0.8888888888888888, \"#fdca26\"], [1.0, \"#f0f921\"]], \"type\": \"contour\"}], \"contourcarpet\": [{\"colorbar\": {\"outlinewidth\": 0, \"ticks\": \"\"}, \"type\": \"contourcarpet\"}], \"heatmap\": [{\"colorbar\": {\"outlinewidth\": 0, \"ticks\": \"\"}, \"colorscale\": [[0.0, \"#0d0887\"], [0.1111111111111111, \"#46039f\"], [0.2222222222222222, \"#7201a8\"], [0.3333333333333333, \"#9c179e\"], [0.4444444444444444, \"#bd3786\"], [0.5555555555555556, \"#d8576b\"], [0.6666666666666666, \"#ed7953\"], [0.7777777777777778, \"#fb9f3a\"], [0.8888888888888888, \"#fdca26\"], [1.0, \"#f0f921\"]], \"type\": \"heatmap\"}], \"heatmapgl\": [{\"colorbar\": {\"outlinewidth\": 0, \"ticks\": \"\"}, \"colorscale\": [[0.0, \"#0d0887\"], [0.1111111111111111, \"#46039f\"], [0.2222222222222222, \"#7201a8\"], [0.3333333333333333, \"#9c179e\"], [0.4444444444444444, \"#bd3786\"], [0.5555555555555556, \"#d8576b\"], [0.6666666666666666, \"#ed7953\"], [0.7777777777777778, \"#fb9f3a\"], [0.8888888888888888, \"#fdca26\"], [1.0, \"#f0f921\"]], \"type\": \"heatmapgl\"}], \"histogram\": [{\"marker\": {\"colorbar\": {\"outlinewidth\": 0, \"ticks\": \"\"}}, \"type\": \"histogram\"}], \"histogram2d\": [{\"colorbar\": {\"outlinewidth\": 0, \"ticks\": \"\"}, \"colorscale\": [[0.0, \"#0d0887\"], [0.1111111111111111, \"#46039f\"], [0.2222222222222222, \"#7201a8\"], [0.3333333333333333, \"#9c179e\"], [0.4444444444444444, \"#bd3786\"], [0.5555555555555556, \"#d8576b\"], [0.6666666666666666, \"#ed7953\"], [0.7777777777777778, \"#fb9f3a\"], [0.8888888888888888, \"#fdca26\"], [1.0, \"#f0f921\"]], \"type\": \"histogram2d\"}], \"histogram2dcontour\": [{\"colorbar\": {\"outlinewidth\": 0, \"ticks\": \"\"}, \"colorscale\": [[0.0, \"#0d0887\"], [0.1111111111111111, \"#46039f\"], [0.2222222222222222, \"#7201a8\"], [0.3333333333333333, \"#9c179e\"], [0.4444444444444444, \"#bd3786\"], [0.5555555555555556, \"#d8576b\"], [0.6666666666666666, \"#ed7953\"], [0.7777777777777778, \"#fb9f3a\"], [0.8888888888888888, \"#fdca26\"], [1.0, \"#f0f921\"]], \"type\": \"histogram2dcontour\"}], \"mesh3d\": [{\"colorbar\": {\"outlinewidth\": 0, \"ticks\": \"\"}, \"type\": \"mesh3d\"}], \"parcoords\": [{\"line\": {\"colorbar\": {\"outlinewidth\": 0, \"ticks\": \"\"}}, \"type\": \"parcoords\"}], \"pie\": [{\"automargin\": true, \"type\": \"pie\"}], \"scatter\": [{\"marker\": {\"colorbar\": {\"outlinewidth\": 0, \"ticks\": \"\"}}, \"type\": \"scatter\"}], \"scatter3d\": [{\"line\": {\"colorbar\": {\"outlinewidth\": 0, \"ticks\": \"\"}}, \"marker\": {\"colorbar\": {\"outlinewidth\": 0, \"ticks\": \"\"}}, \"type\": \"scatter3d\"}], \"scattercarpet\": [{\"marker\": {\"colorbar\": {\"outlinewidth\": 0, \"ticks\": \"\"}}, \"type\": \"scattercarpet\"}], \"scattergeo\": [{\"marker\": {\"colorbar\": {\"outlinewidth\": 0, \"ticks\": \"\"}}, \"type\": \"scattergeo\"}], \"scattergl\": [{\"marker\": {\"colorbar\": {\"outlinewidth\": 0, \"ticks\": \"\"}}, \"type\": \"scattergl\"}], \"scattermapbox\": [{\"marker\": {\"colorbar\": {\"outlinewidth\": 0, \"ticks\": \"\"}}, \"type\": \"scattermapbox\"}], \"scatterpolar\": [{\"marker\": {\"colorbar\": {\"outlinewidth\": 0, \"ticks\": \"\"}}, \"type\": \"scatterpolar\"}], \"scatterpolargl\": [{\"marker\": {\"colorbar\": {\"outlinewidth\": 0, \"ticks\": \"\"}}, \"type\": \"scatterpolargl\"}], \"scatterternary\": [{\"marker\": {\"colorbar\": {\"outlinewidth\": 0, \"ticks\": \"\"}}, \"type\": \"scatterternary\"}], \"surface\": [{\"colorbar\": {\"outlinewidth\": 0, \"ticks\": \"\"}, \"colorscale\": [[0.0, \"#0d0887\"], [0.1111111111111111, \"#46039f\"], [0.2222222222222222, \"#7201a8\"], [0.3333333333333333, \"#9c179e\"], [0.4444444444444444, \"#bd3786\"], [0.5555555555555556, \"#d8576b\"], [0.6666666666666666, \"#ed7953\"], [0.7777777777777778, \"#fb9f3a\"], [0.8888888888888888, \"#fdca26\"], [1.0, \"#f0f921\"]], \"type\": \"surface\"}], \"table\": [{\"cells\": {\"fill\": {\"color\": \"#EBF0F8\"}, \"line\": {\"color\": \"white\"}}, \"header\": {\"fill\": {\"color\": \"#C8D4E3\"}, \"line\": {\"color\": \"white\"}}, \"type\": \"table\"}]}, \"layout\": {\"annotationdefaults\": {\"arrowcolor\": \"#2a3f5f\", \"arrowhead\": 0, \"arrowwidth\": 1}, \"autotypenumbers\": \"strict\", \"coloraxis\": {\"colorbar\": {\"outlinewidth\": 0, \"ticks\": \"\"}}, \"colorscale\": {\"diverging\": [[0, \"#8e0152\"], [0.1, \"#c51b7d\"], [0.2, \"#de77ae\"], [0.3, \"#f1b6da\"], [0.4, \"#fde0ef\"], [0.5, \"#f7f7f7\"], [0.6, \"#e6f5d0\"], [0.7, \"#b8e186\"], [0.8, \"#7fbc41\"], [0.9, \"#4d9221\"], [1, \"#276419\"]], \"sequential\": [[0.0, \"#0d0887\"], [0.1111111111111111, \"#46039f\"], [0.2222222222222222, \"#7201a8\"], [0.3333333333333333, \"#9c179e\"], [0.4444444444444444, \"#bd3786\"], [0.5555555555555556, \"#d8576b\"], [0.6666666666666666, \"#ed7953\"], [0.7777777777777778, \"#fb9f3a\"], [0.8888888888888888, \"#fdca26\"], [1.0, \"#f0f921\"]], \"sequentialminus\": [[0.0, \"#0d0887\"], [0.1111111111111111, \"#46039f\"], [0.2222222222222222, \"#7201a8\"], [0.3333333333333333, \"#9c179e\"], [0.4444444444444444, \"#bd3786\"], [0.5555555555555556, \"#d8576b\"], [0.6666666666666666, \"#ed7953\"], [0.7777777777777778, \"#fb9f3a\"], [0.8888888888888888, \"#fdca26\"], [1.0, \"#f0f921\"]]}, \"colorway\": [\"#636efa\", \"#EF553B\", \"#00cc96\", \"#ab63fa\", \"#FFA15A\", \"#19d3f3\", \"#FF6692\", \"#B6E880\", \"#FF97FF\", \"#FECB52\"], \"font\": {\"color\": \"#2a3f5f\"}, \"geo\": {\"bgcolor\": \"white\", \"lakecolor\": \"white\", \"landcolor\": \"#E5ECF6\", \"showlakes\": true, \"showland\": true, \"subunitcolor\": \"white\"}, \"hoverlabel\": {\"align\": \"left\"}, \"hovermode\": \"closest\", \"mapbox\": {\"style\": \"light\"}, \"paper_bgcolor\": \"white\", \"plot_bgcolor\": \"#E5ECF6\", \"polar\": {\"angularaxis\": {\"gridcolor\": \"white\", \"linecolor\": \"white\", \"ticks\": \"\"}, \"bgcolor\": \"#E5ECF6\", \"radialaxis\": {\"gridcolor\": \"white\", \"linecolor\": \"white\", \"ticks\": \"\"}}, \"scene\": {\"xaxis\": {\"backgroundcolor\": \"#E5ECF6\", \"gridcolor\": \"white\", \"gridwidth\": 2, \"linecolor\": \"white\", \"showbackground\": true, \"ticks\": \"\", \"zerolinecolor\": \"white\"}, \"yaxis\": {\"backgroundcolor\": \"#E5ECF6\", \"gridcolor\": \"white\", \"gridwidth\": 2, \"linecolor\": \"white\", \"showbackground\": true, \"ticks\": \"\", \"zerolinecolor\": \"white\"}, \"zaxis\": {\"backgroundcolor\": \"#E5ECF6\", \"gridcolor\": \"white\", \"gridwidth\": 2, \"linecolor\": \"white\", \"showbackground\": true, \"ticks\": \"\", \"zerolinecolor\": \"white\"}}, \"shapedefaults\": {\"line\": {\"color\": \"#2a3f5f\"}}, \"ternary\": {\"aaxis\": {\"gridcolor\": \"white\", \"linecolor\": \"white\", \"ticks\": \"\"}, \"baxis\": {\"gridcolor\": \"white\", \"linecolor\": \"white\", \"ticks\": \"\"}, \"bgcolor\": \"#E5ECF6\", \"caxis\": {\"gridcolor\": \"white\", \"linecolor\": \"white\", \"ticks\": \"\"}}, \"title\": {\"x\": 0.05}, \"xaxis\": {\"automargin\": true, \"gridcolor\": \"white\", \"linecolor\": \"white\", \"ticks\": \"\", \"title\": {\"standoff\": 15}, \"zerolinecolor\": \"white\", \"zerolinewidth\": 2}, \"yaxis\": {\"automargin\": true, \"gridcolor\": \"white\", \"linecolor\": \"white\", \"ticks\": \"\", \"title\": {\"standoff\": 15}, \"zerolinecolor\": \"white\", \"zerolinewidth\": 2}}}, \"title\": {\"text\": \"Performance Index for each School in 2017-2018\"}, \"width\": 900, \"xaxis\": {\"anchor\": \"y\", \"domain\": [0.0, 1.0], \"title\": {\"text\": \"Building_Name\"}}, \"yaxis\": {\"anchor\": \"x\", \"domain\": [0.0, 1.0], \"title\": {\"text\": \"Performance Index Percent\"}}},                        {\"responsive\": true}                    ).then(function(){\n",
       "                            \n",
       "var gd = document.getElementById('3a7291f9-c408-44b4-90e8-8eb3b11d9919');\n",
       "var x = new MutationObserver(function (mutations, observer) {{\n",
       "        var display = window.getComputedStyle(gd).display;\n",
       "        if (!display || display === 'none') {{\n",
       "            console.log([gd, 'removed!']);\n",
       "            Plotly.purge(gd);\n",
       "            observer.disconnect();\n",
       "        }}\n",
       "}});\n",
       "\n",
       "// Listen for the removal of the full notebook cells\n",
       "var notebookContainer = gd.closest('#notebook-container');\n",
       "if (notebookContainer) {{\n",
       "    x.observe(notebookContainer, {childList: true});\n",
       "}}\n",
       "\n",
       "// Listen for the clearing of the current output cell\n",
       "var outputEl = gd.closest('.output');\n",
       "if (outputEl) {{\n",
       "    x.observe(outputEl, {childList: true});\n",
       "}}\n",
       "\n",
       "                        })                };                });            </script>        </div>"
      ]
     },
     "metadata": {},
     "output_type": "display_data"
    }
   ],
   "source": [
    "# Filter data for the year 2015-2016\n",
    "df_2017_2018 = df_CMSD[df_CMSD['School_Year'] == '2017-2018']\n",
    "\n",
    "# Plot with Plotly Express\n",
    "fig = px.bar(\n",
    "    df_2017_2018,\n",
    "    x ='Building_Name', \n",
    "    y ='Performance_Index_Percent',\n",
    "    color='Performance_Index_Percent',\n",
    "    title='Performance Index for each School in 2017-2018',\n",
    "    labels={'Performance_Index_Percent': 'Performance Index Percent', 'School_Name': 'School Name'},\n",
    "    height=800,  # Set the height of the figure\n",
    "    width=900,\n",
    ")\n",
    "\n",
    "# Show the plot\n",
    "fig.show()"
   ]
  },
  {
   "cell_type": "code",
   "execution_count": null,
   "metadata": {},
   "outputs": [],
   "source": []
  },
  {
   "cell_type": "code",
   "execution_count": null,
   "metadata": {},
   "outputs": [],
   "source": []
  },
  {
   "cell_type": "code",
   "execution_count": null,
   "metadata": {},
   "outputs": [],
   "source": []
  }
 ],
 "metadata": {
  "kernelspec": {
   "display_name": "Python 3",
   "language": "python",
   "name": "python3"
  },
  "language_info": {
   "codemirror_mode": {
    "name": "ipython",
    "version": 3
   },
   "file_extension": ".py",
   "mimetype": "text/x-python",
   "name": "python",
   "nbconvert_exporter": "python",
   "pygments_lexer": "ipython3",
   "version": "3.8.3"
  }
 },
 "nbformat": 4,
 "nbformat_minor": 4
}
